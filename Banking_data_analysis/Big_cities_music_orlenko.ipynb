{
 "cells": [
  {
   "cell_type": "markdown",
   "metadata": {
    "deletable": false,
    "editable": false,
    "id": "E0vqbgi9ay0H"
   },
   "source": [
    "# Яндекс.Музыка"
   ]
  },
  {
   "cell_type": "markdown",
   "metadata": {},
   "source": [
    "Сравнение Москвы и Петербурга окружено мифами. Например:\n",
    " * Москва — мегаполис, подчинённый жёсткому ритму рабочей недели;\n",
    " * Петербург — культурная столица, со своими вкусами.\n",
    "\n",
    "На данных Яндекс Музыки мы сравним поведение пользователей двух столиц.\n",
    "\n",
    "**Цель исследования** — проверить три гипотезы:\n",
    "1. Активность пользователей зависит от дня недели. Причём в Москве и Петербурге это проявляется по-разному.\n",
    "2. В понедельник утром в Москве преобладают одни жанры, а в Петербурге — другие. Так же и вечером пятницы преобладают разные жанры — в зависимости от города. \n",
    "3. Москва и Петербург предпочитают разные жанры музыки. В Москве чаще слушают поп-музыку, в Петербурге — русский рэп.\n",
    "\n",
    "**Ход исследования**\n",
    "\n",
    "Данные о поведении пользователей мы получим из файла `yandex_music_project.csv`. О качестве данных ничего не известно. Поэтому перед проверкой гипотез понадобится обзор данных. \n",
    "\n",
    "Мы проверим данные на ошибки и оценим их влияние на исследование. Затем, на этапе предобработки мы поищем возможность исправить самые критичные ошибки данных.\n",
    " \n",
    "Таким образом, исследование пройдёт в три этапа:\n",
    " 1. Обзор данных.\n",
    " 2. Предобработка данных.\n",
    " 3. Проверка гипотез.\n"
   ]
  },
  {
   "cell_type": "markdown",
   "metadata": {
    "deletable": false,
    "editable": false,
    "id": "Ml1hmfXC_Zcs"
   },
   "source": [
    "## Обзор данных\n",
    "\n",
    "Составьте первое представление о данных Яндекс Музыки.\n",
    "\n",
    "\n"
   ]
  },
  {
   "cell_type": "markdown",
   "metadata": {},
   "source": [
    "**Задание 1**\n",
    "\n"
   ]
  },
  {
   "cell_type": "code",
   "execution_count": 1,
   "metadata": {
    "deletable": false,
    "id": "AXN7PHPN_Zcs"
   },
   "outputs": [],
   "source": [
    "# импорт библиотеки pandas\n",
    "import pandas as pd"
   ]
  },
  {
   "cell_type": "markdown",
   "metadata": {
    "deletable": false,
    "editable": false,
    "id": "SG23P8tt_Zcs",
    "tags": [
     "start_task"
    ]
   },
   "source": [
    "**Задание 2**\n",
    "\n"
   ]
  },
  {
   "cell_type": "code",
   "execution_count": 2,
   "metadata": {
    "deletable": false,
    "id": "fFVu7vqh_Zct"
   },
   "outputs": [],
   "source": [
    "# чтение файла с данными и сохранение в df\n",
    "df = pd.read_csv('/Users/marina/CSV_files/yandex_music_project.csv')"
   ]
  },
  {
   "cell_type": "markdown",
   "metadata": {
    "deletable": false,
    "editable": false,
    "id": "rDoOMd3uTqnZ",
    "tags": [
     "start_task"
    ]
   },
   "source": [
    "**Задание 3**\n",
    "\n",
    "\n"
   ]
  },
  {
   "cell_type": "code",
   "execution_count": 3,
   "metadata": {
    "deletable": false,
    "id": "oWTVX3gW_Zct"
   },
   "outputs": [
    {
     "data": {
      "text/html": [
       "<div>\n",
       "<style scoped>\n",
       "    .dataframe tbody tr th:only-of-type {\n",
       "        vertical-align: middle;\n",
       "    }\n",
       "\n",
       "    .dataframe tbody tr th {\n",
       "        vertical-align: top;\n",
       "    }\n",
       "\n",
       "    .dataframe thead th {\n",
       "        text-align: right;\n",
       "    }\n",
       "</style>\n",
       "<table border=\"1\" class=\"dataframe\">\n",
       "  <thead>\n",
       "    <tr style=\"text-align: right;\">\n",
       "      <th></th>\n",
       "      <th>userID</th>\n",
       "      <th>Track</th>\n",
       "      <th>artist</th>\n",
       "      <th>genre</th>\n",
       "      <th>City</th>\n",
       "      <th>time</th>\n",
       "      <th>Day</th>\n",
       "    </tr>\n",
       "  </thead>\n",
       "  <tbody>\n",
       "    <tr>\n",
       "      <th>0</th>\n",
       "      <td>FFB692EC</td>\n",
       "      <td>Kamigata To Boots</td>\n",
       "      <td>The Mass Missile</td>\n",
       "      <td>rock</td>\n",
       "      <td>Saint-Petersburg</td>\n",
       "      <td>20:28:33</td>\n",
       "      <td>Wednesday</td>\n",
       "    </tr>\n",
       "    <tr>\n",
       "      <th>1</th>\n",
       "      <td>55204538</td>\n",
       "      <td>Delayed Because of Accident</td>\n",
       "      <td>Andreas Rönnberg</td>\n",
       "      <td>rock</td>\n",
       "      <td>Moscow</td>\n",
       "      <td>14:07:09</td>\n",
       "      <td>Friday</td>\n",
       "    </tr>\n",
       "    <tr>\n",
       "      <th>2</th>\n",
       "      <td>20EC38</td>\n",
       "      <td>Funiculì funiculà</td>\n",
       "      <td>Mario Lanza</td>\n",
       "      <td>pop</td>\n",
       "      <td>Saint-Petersburg</td>\n",
       "      <td>20:58:07</td>\n",
       "      <td>Wednesday</td>\n",
       "    </tr>\n",
       "    <tr>\n",
       "      <th>3</th>\n",
       "      <td>A3DD03C9</td>\n",
       "      <td>Dragons in the Sunset</td>\n",
       "      <td>Fire + Ice</td>\n",
       "      <td>folk</td>\n",
       "      <td>Saint-Petersburg</td>\n",
       "      <td>08:37:09</td>\n",
       "      <td>Monday</td>\n",
       "    </tr>\n",
       "    <tr>\n",
       "      <th>4</th>\n",
       "      <td>E2DC1FAE</td>\n",
       "      <td>Soul People</td>\n",
       "      <td>Space Echo</td>\n",
       "      <td>dance</td>\n",
       "      <td>Moscow</td>\n",
       "      <td>08:34:34</td>\n",
       "      <td>Monday</td>\n",
       "    </tr>\n",
       "    <tr>\n",
       "      <th>5</th>\n",
       "      <td>842029A1</td>\n",
       "      <td>Преданная</td>\n",
       "      <td>IMPERVTOR</td>\n",
       "      <td>rusrap</td>\n",
       "      <td>Saint-Petersburg</td>\n",
       "      <td>13:09:41</td>\n",
       "      <td>Friday</td>\n",
       "    </tr>\n",
       "    <tr>\n",
       "      <th>6</th>\n",
       "      <td>4CB90AA5</td>\n",
       "      <td>True</td>\n",
       "      <td>Roman Messer</td>\n",
       "      <td>dance</td>\n",
       "      <td>Moscow</td>\n",
       "      <td>13:00:07</td>\n",
       "      <td>Wednesday</td>\n",
       "    </tr>\n",
       "    <tr>\n",
       "      <th>7</th>\n",
       "      <td>F03E1C1F</td>\n",
       "      <td>Feeling This Way</td>\n",
       "      <td>Polina Griffith</td>\n",
       "      <td>dance</td>\n",
       "      <td>Moscow</td>\n",
       "      <td>20:47:49</td>\n",
       "      <td>Wednesday</td>\n",
       "    </tr>\n",
       "    <tr>\n",
       "      <th>8</th>\n",
       "      <td>8FA1D3BE</td>\n",
       "      <td>И вновь продолжается бой</td>\n",
       "      <td>NaN</td>\n",
       "      <td>ruspop</td>\n",
       "      <td>Moscow</td>\n",
       "      <td>09:17:40</td>\n",
       "      <td>Friday</td>\n",
       "    </tr>\n",
       "    <tr>\n",
       "      <th>9</th>\n",
       "      <td>E772D5C0</td>\n",
       "      <td>Pessimist</td>\n",
       "      <td>NaN</td>\n",
       "      <td>dance</td>\n",
       "      <td>Saint-Petersburg</td>\n",
       "      <td>21:20:49</td>\n",
       "      <td>Wednesday</td>\n",
       "    </tr>\n",
       "  </tbody>\n",
       "</table>\n",
       "</div>"
      ],
      "text/plain": [
       "     userID                        Track            artist   genre  \\\n",
       "0  FFB692EC            Kamigata To Boots  The Mass Missile    rock   \n",
       "1  55204538  Delayed Because of Accident  Andreas Rönnberg    rock   \n",
       "2    20EC38            Funiculì funiculà       Mario Lanza     pop   \n",
       "3  A3DD03C9        Dragons in the Sunset        Fire + Ice    folk   \n",
       "4  E2DC1FAE                  Soul People        Space Echo   dance   \n",
       "5  842029A1                    Преданная         IMPERVTOR  rusrap   \n",
       "6  4CB90AA5                         True      Roman Messer   dance   \n",
       "7  F03E1C1F             Feeling This Way   Polina Griffith   dance   \n",
       "8  8FA1D3BE     И вновь продолжается бой               NaN  ruspop   \n",
       "9  E772D5C0                    Pessimist               NaN   dance   \n",
       "\n",
       "             City        time        Day  \n",
       "0  Saint-Petersburg  20:28:33  Wednesday  \n",
       "1            Moscow  14:07:09     Friday  \n",
       "2  Saint-Petersburg  20:58:07  Wednesday  \n",
       "3  Saint-Petersburg  08:37:09     Monday  \n",
       "4            Moscow  08:34:34     Monday  \n",
       "5  Saint-Petersburg  13:09:41     Friday  \n",
       "6            Moscow  13:00:07  Wednesday  \n",
       "7            Moscow  20:47:49  Wednesday  \n",
       "8            Moscow  09:17:40     Friday  \n",
       "9  Saint-Petersburg  21:20:49  Wednesday  "
      ]
     },
     "execution_count": 3,
     "metadata": {},
     "output_type": "execute_result"
    }
   ],
   "source": [
    "# получение первых 10 строк таблицы df\n",
    "df.head(10)"
   ]
  },
  {
   "cell_type": "markdown",
   "metadata": {},
   "source": [
    "**Задание 4**"
   ]
  },
  {
   "cell_type": "code",
   "execution_count": 4,
   "metadata": {
    "deletable": false,
    "id": "DSf2kIb-_Zct"
   },
   "outputs": [
    {
     "name": "stdout",
     "output_type": "stream",
     "text": [
      "<class 'pandas.core.frame.DataFrame'>\n",
      "RangeIndex: 65079 entries, 0 to 65078\n",
      "Data columns (total 7 columns):\n",
      " #   Column    Non-Null Count  Dtype \n",
      "---  ------    --------------  ----- \n",
      " 0     userID  65079 non-null  object\n",
      " 1   Track     63848 non-null  object\n",
      " 2   artist    57876 non-null  object\n",
      " 3   genre     63881 non-null  object\n",
      " 4     City    65079 non-null  object\n",
      " 5   time      65079 non-null  object\n",
      " 6   Day       65079 non-null  object\n",
      "dtypes: object(7)\n",
      "memory usage: 3.5+ MB\n"
     ]
    }
   ],
   "source": [
    "# получение общей информации о данных в таблице df\n",
    "df.info()"
   ]
  },
  {
   "cell_type": "markdown",
   "metadata": {
    "deletable": false,
    "editable": false,
    "id": "TaQ2Iwbr_Zct"
   },
   "source": [
    "Итак, в таблице семь столбцов. Тип данных во всех столбцах — `object`.\n",
    "\n",
    "Согласно документации к данным:\n",
    "* `userID` — идентификатор пользователя;\n",
    "* `Track` — название трека;  \n",
    "* `artist` — имя исполнителя;\n",
    "* `genre` — название жанра;\n",
    "* `City` — город пользователя;\n",
    "* `time` — время начала прослушивания;\n",
    "* `Day` — день недели.\n",
    "\n",
    "Количество значений в столбцах различается. Значит, в данных есть пропущенные значения."
   ]
  },
  {
   "cell_type": "markdown",
   "metadata": {
    "deletable": false,
    "editable": false,
    "id": "4P0UCWzswgEm",
    "tags": [
     "start_task"
    ]
   },
   "source": [
    "**Задание 5**\n",
    "\n",
    "\n",
    "В названиях колонок видны три нарушения стиля:\n",
    "1. Строчные буквы сочетаются с прописными.\n",
    "2. Встречаются пробелы.\n",
    "3. Не применяется \"змеиный регистр\"."
   ]
  },
  {
   "cell_type": "markdown",
   "metadata": {
    "deletable": false,
    "editable": false,
    "id": "MCB6-dXG_Zct"
   },
   "source": [
    "**Выводы**\n",
    "\n",
    "В каждой строке таблицы — данные о прослушанном треке. Часть колонок описывает саму композицию: название, исполнителя и жанр. Остальные данные рассказывают о пользователе: из какого он города, когда он слушал музыку. \n",
    "\n",
    "Предварительно можно утверждать, что, данных достаточно для проверки гипотез. Но встречаются пропуски в данных, а в названиях колонок — расхождения с хорошим стилем.\n",
    "\n",
    "Чтобы двигаться дальше, нужно устранить проблемы в данных."
   ]
  },
  {
   "cell_type": "markdown",
   "metadata": {
    "deletable": false,
    "editable": false,
    "id": "SjYF6Ub9_Zct"
   },
   "source": [
    "## Предобработка данных\n",
    "Исправим стиль в заголовках столбцов, исключим пропуски. Затем проверим данные на дубликаты."
   ]
  },
  {
   "cell_type": "markdown",
   "metadata": {
    "deletable": false,
    "editable": false,
    "id": "dIaKXr29_Zct",
    "tags": [
     "start_task"
    ]
   },
   "source": [
    "### Стиль заголовков\n",
    "\n",
    "**Задание 6**\n",
    "\n"
   ]
  },
  {
   "cell_type": "code",
   "execution_count": 5,
   "metadata": {
    "deletable": false,
    "id": "oKOTdF_Q_Zct"
   },
   "outputs": [
    {
     "data": {
      "text/plain": [
       "Index(['  userID', 'Track', 'artist', 'genre', '  City  ', 'time', 'Day'], dtype='object')"
      ]
     },
     "execution_count": 5,
     "metadata": {},
     "output_type": "execute_result"
    }
   ],
   "source": [
    "# перечень названий столбцов таблицы df\n",
    "df.columns"
   ]
  },
  {
   "cell_type": "markdown",
   "metadata": {
    "deletable": false,
    "editable": false,
    "id": "zj5534cv_Zct",
    "tags": [
     "start_task"
    ]
   },
   "source": [
    "**Задание 7**\n",
    "\n",
    "\n",
    "Приведем названия в соответствие с хорошим стилем:\n",
    "* несколько слов в названии запишим в «змеином_регистре»,\n",
    "* все символы сделаем строчными,\n",
    "* устраним пробелы.\n"
   ]
  },
  {
   "cell_type": "code",
   "execution_count": 6,
   "metadata": {
    "deletable": false,
    "id": "ISlFqs5y_Zct"
   },
   "outputs": [],
   "source": [
    "# переименование столбцов\n",
    "df = df.rename(columns = {'  userID': 'user_id', 'Track': 'track', '  City  ': 'city', 'Day': 'day'})"
   ]
  },
  {
   "cell_type": "markdown",
   "metadata": {
    "deletable": false,
    "editable": false,
    "id": "1dqbh00J_Zct",
    "tags": [
     "start_task"
    ]
   },
   "source": [
    "**Задание 8**\n",
    "\n",
    "\n"
   ]
  },
  {
   "cell_type": "code",
   "execution_count": 7,
   "metadata": {
    "deletable": false,
    "id": "d4NOAmTW_Zct"
   },
   "outputs": [
    {
     "data": {
      "text/plain": [
       "Index(['user_id', 'track', 'artist', 'genre', 'city', 'time', 'day'], dtype='object')"
      ]
     },
     "execution_count": 7,
     "metadata": {},
     "output_type": "execute_result"
    }
   ],
   "source": [
    "# проверка результатов - перечень названий столбцов\n",
    "df.columns"
   ]
  },
  {
   "cell_type": "markdown",
   "metadata": {
    "deletable": false,
    "editable": false,
    "id": "5ISfbcfY_Zct",
    "tags": [
     "start_task"
    ]
   },
   "source": [
    "### Пропуски значений\n",
    "\n",
    "**Задание 9**\n",
    "\n"
   ]
  },
  {
   "cell_type": "code",
   "execution_count": 8,
   "metadata": {
    "deletable": false,
    "id": "RskX29qr_Zct"
   },
   "outputs": [
    {
     "data": {
      "text/plain": [
       "user_id       0\n",
       "track      1231\n",
       "artist     7203\n",
       "genre      1198\n",
       "city          0\n",
       "time          0\n",
       "day           0\n",
       "dtype: int64"
      ]
     },
     "execution_count": 8,
     "metadata": {},
     "output_type": "execute_result"
    }
   ],
   "source": [
    "# подсчёт пропусков\n",
    "df.isna().sum()"
   ]
  },
  {
   "cell_type": "markdown",
   "metadata": {
    "deletable": false,
    "editable": false,
    "id": "qubhgnlO_Zct"
   },
   "source": [
    "Не все пропущенные значения влияют на исследование. Так в `track` и `artist` пропуски не важны для нашей работы. Достаточно заменить их явными обозначениями.\n",
    "\n",
    "Но пропуски в `genre` могут помешать сравнению музыкальных вкусов в Москве и Санкт-Петербурге.  \n",
    "* заполним и эти пропуски явными обозначениями,\n",
    "* оценим, насколько они повредят расчётам. "
   ]
  },
  {
   "cell_type": "markdown",
   "metadata": {
    "deletable": false,
    "editable": false,
    "id": "fSv2laPA_Zct",
    "tags": [
     "start_task"
    ]
   },
   "source": [
    "**Задание 10**\n",
    "\n"
   ]
  },
  {
   "cell_type": "code",
   "execution_count": 9,
   "metadata": {
    "deletable": false,
    "id": "KplB5qWs_Zct"
   },
   "outputs": [],
   "source": [
    "# перебор названий столбцов в цикле и замена пропущенных значений на 'unknown'\n",
    "columns_to_replace = ['track', 'artist', 'genre']\n",
    "for column in columns_to_replace:\n",
    "    df[column] = df[column].fillna('unknown')"
   ]
  },
  {
   "cell_type": "markdown",
   "metadata": {
    "deletable": false,
    "editable": false,
    "id": "Ilsm-MZo_Zct",
    "tags": [
     "start_task"
    ]
   },
   "source": [
    "**Задание 11**\n",
    "\n"
   ]
  },
  {
   "cell_type": "code",
   "execution_count": 10,
   "metadata": {
    "deletable": false,
    "id": "Tq4nYRX4_Zct"
   },
   "outputs": [
    {
     "data": {
      "text/plain": [
       "user_id    0\n",
       "track      0\n",
       "artist     0\n",
       "genre      0\n",
       "city       0\n",
       "time       0\n",
       "day        0\n",
       "dtype: int64"
      ]
     },
     "execution_count": 10,
     "metadata": {},
     "output_type": "execute_result"
    }
   ],
   "source": [
    "# подсчёт пропусков\n",
    "df.isna().sum()"
   ]
  },
  {
   "cell_type": "markdown",
   "metadata": {
    "deletable": false,
    "editable": false,
    "id": "BWKRtBJ3_Zct",
    "tags": [
     "start_task"
    ]
   },
   "source": [
    "### Дубликаты\n",
    "\n",
    "**Задание 12**\n",
    "\n"
   ]
  },
  {
   "cell_type": "code",
   "execution_count": 11,
   "metadata": {
    "deletable": false,
    "id": "36eES_S0_Zct"
   },
   "outputs": [
    {
     "data": {
      "text/plain": [
       "3826"
      ]
     },
     "execution_count": 11,
     "metadata": {},
     "output_type": "execute_result"
    }
   ],
   "source": [
    "# подсчёт явных дубликатов\n",
    "df.duplicated().sum()"
   ]
  },
  {
   "cell_type": "markdown",
   "metadata": {
    "deletable": false,
    "editable": false,
    "id": "Ot25h6XR_Zct",
    "tags": [
     "start_task"
    ]
   },
   "source": [
    "**Задание 13**\n",
    "\n"
   ]
  },
  {
   "cell_type": "code",
   "execution_count": 12,
   "metadata": {
    "deletable": false,
    "id": "exFHq6tt_Zct"
   },
   "outputs": [],
   "source": [
    "# удаление явных дубликатов (с удалением старых индексов и формированием новых)\n",
    "df = df.drop_duplicates()"
   ]
  },
  {
   "cell_type": "markdown",
   "metadata": {
    "deletable": false,
    "editable": false,
    "id": "Im2YwBEG_Zct",
    "tags": [
     "start_task"
    ]
   },
   "source": [
    "**Задание 14**\n",
    "\n"
   ]
  },
  {
   "cell_type": "code",
   "execution_count": 13,
   "metadata": {
    "deletable": false,
    "id": "-8PuNWQ0_Zct"
   },
   "outputs": [
    {
     "data": {
      "text/plain": [
       "0"
      ]
     },
     "execution_count": 13,
     "metadata": {},
     "output_type": "execute_result"
    }
   ],
   "source": [
    "# проверка на отсутствие дубликатов\n",
    "df.duplicated().sum()"
   ]
  },
  {
   "cell_type": "markdown",
   "metadata": {
    "deletable": false,
    "editable": false,
    "id": "eSjWwsOh_Zct",
    "tags": [
     "start_task"
    ]
   },
   "source": [
    "**Задание 15**\n",
    "\n",
    "Выведем на экран список уникальных названий жанров, отсортированный в алфавитном порядке. Для этого:\n",
    "* извлечем нужный столбец датафрейма, \n",
    "* применим к нему метод сортировки,\n",
    "* для отсортированного столбца вызовем метод, который вернёт уникальные значения из столбца."
   ]
  },
  {
   "cell_type": "code",
   "execution_count": 14,
   "metadata": {
    "deletable": false,
    "id": "JIUcqzZN_Zct"
   },
   "outputs": [
    {
     "data": {
      "text/plain": [
       "array(['acid', 'acoustic', 'action', 'adult', 'africa', 'afrikaans',\n",
       "       'alternative', 'alternativepunk', 'ambient', 'americana',\n",
       "       'animated', 'anime', 'arabesk', 'arabic', 'arena',\n",
       "       'argentinetango', 'art', 'audiobook', 'author', 'avantgarde',\n",
       "       'axé', 'baile', 'balkan', 'beats', 'bigroom', 'black', 'bluegrass',\n",
       "       'blues', 'bollywood', 'bossa', 'brazilian', 'breakbeat', 'breaks',\n",
       "       'broadway', 'cantautori', 'cantopop', 'canzone', 'caribbean',\n",
       "       'caucasian', 'celtic', 'chamber', 'chanson', 'children', 'chill',\n",
       "       'chinese', 'choral', 'christian', 'christmas', 'classical',\n",
       "       'classicmetal', 'club', 'colombian', 'comedy', 'conjazz',\n",
       "       'contemporary', 'country', 'cuban', 'dance', 'dancehall',\n",
       "       'dancepop', 'dark', 'death', 'deep', 'deutschrock', 'deutschspr',\n",
       "       'dirty', 'disco', 'dnb', 'documentary', 'downbeat', 'downtempo',\n",
       "       'drum', 'dub', 'dubstep', 'eastern', 'easy', 'electronic',\n",
       "       'electropop', 'emo', 'entehno', 'epicmetal', 'estrada', 'ethnic',\n",
       "       'eurofolk', 'european', 'experimental', 'extrememetal', 'fado',\n",
       "       'fairytail', 'film', 'fitness', 'flamenco', 'folk', 'folklore',\n",
       "       'folkmetal', 'folkrock', 'folktronica', 'forró', 'frankreich',\n",
       "       'französisch', 'french', 'funk', 'future', 'gangsta', 'garage',\n",
       "       'german', 'ghazal', 'gitarre', 'glitch', 'gospel', 'gothic',\n",
       "       'grime', 'grunge', 'gypsy', 'handsup', \"hard'n'heavy\", 'hardcore',\n",
       "       'hardstyle', 'hardtechno', 'hip', 'hip-hop', 'hiphop',\n",
       "       'historisch', 'holiday', 'hop', 'horror', 'house', 'hymn', 'idm',\n",
       "       'independent', 'indian', 'indie', 'indipop', 'industrial',\n",
       "       'inspirational', 'instrumental', 'international', 'irish', 'jam',\n",
       "       'japanese', 'jazz', 'jewish', 'jpop', 'jungle', 'k-pop',\n",
       "       'karadeniz', 'karaoke', 'kayokyoku', 'korean', 'laiko', 'latin',\n",
       "       'latino', 'leftfield', 'local', 'lounge', 'loungeelectronic',\n",
       "       'lovers', 'malaysian', 'mandopop', 'marschmusik', 'meditative',\n",
       "       'mediterranean', 'melodic', 'metal', 'metalcore', 'mexican',\n",
       "       'middle', 'minimal', 'miscellaneous', 'modern', 'mood', 'mpb',\n",
       "       'muslim', 'native', 'neoklassik', 'neue', 'new', 'newage',\n",
       "       'newwave', 'nu', 'nujazz', 'numetal', 'oceania', 'old', 'opera',\n",
       "       'orchestral', 'other', 'piano', 'podcasts', 'pop', 'popdance',\n",
       "       'popelectronic', 'popeurodance', 'poprussian', 'post',\n",
       "       'posthardcore', 'postrock', 'power', 'progmetal', 'progressive',\n",
       "       'psychedelic', 'punjabi', 'punk', 'quebecois', 'ragga', 'ram',\n",
       "       'rancheras', 'rap', 'rave', 'reggae', 'reggaeton', 'regional',\n",
       "       'relax', 'religious', 'retro', 'rhythm', 'rnb', 'rnr', 'rock',\n",
       "       'rockabilly', 'rockalternative', 'rockindie', 'rockother',\n",
       "       'romance', 'roots', 'ruspop', 'rusrap', 'rusrock', 'russian',\n",
       "       'salsa', 'samba', 'scenic', 'schlager', 'self', 'sertanejo',\n",
       "       'shanson', 'shoegazing', 'showtunes', 'singer', 'ska', 'skarock',\n",
       "       'slow', 'smooth', 'soft', 'soul', 'soulful', 'sound', 'soundtrack',\n",
       "       'southern', 'specialty', 'speech', 'spiritual', 'sport',\n",
       "       'stonerrock', 'surf', 'swing', 'synthpop', 'synthrock',\n",
       "       'sängerportrait', 'tango', 'tanzorchester', 'taraftar', 'tatar',\n",
       "       'tech', 'techno', 'teen', 'thrash', 'top', 'traditional',\n",
       "       'tradjazz', 'trance', 'tribal', 'trip', 'triphop', 'tropical',\n",
       "       'türk', 'türkçe', 'ukrrock', 'unknown', 'urban', 'uzbek',\n",
       "       'variété', 'vi', 'videogame', 'vocal', 'western', 'world',\n",
       "       'worldbeat', 'ïîï', 'электроника'], dtype=object)"
      ]
     },
     "execution_count": 14,
     "metadata": {},
     "output_type": "execute_result"
    }
   ],
   "source": [
    "# Просмотр уникальных названий жанров\n",
    "df.genre.sort_values().unique()\n"
   ]
  },
  {
   "cell_type": "markdown",
   "metadata": {
    "deletable": false,
    "editable": false,
    "id": "qej-Qmuo_Zct",
    "tags": [
     "start_task"
    ]
   },
   "source": [
    "**Задание 16**\n",
    "\n"
   ]
  },
  {
   "cell_type": "code",
   "execution_count": 15,
   "metadata": {
    "deletable": false,
    "id": "ErNDkmns_Zct"
   },
   "outputs": [],
   "source": [
    "# Устранение неявных дубликатов\n",
    "def replace_wrong_names(wrong_names, correct_name):\n",
    "    for wrong_name in wrong_names:\n",
    "        df['genre'] = df['genre'].replace(wrong_names, correct_name)\n",
    "duplicates = ['hip', 'hop', 'hip-hop']\n",
    "genre = 'hiphop'\n",
    "replace_wrong_names(duplicates, genre)"
   ]
  },
  {
   "cell_type": "markdown",
   "metadata": {
    "deletable": false,
    "editable": false,
    "id": "zQKF16_RG15m",
    "tags": [
     "start_task"
    ]
   },
   "source": [
    "**Задание 17**\n",
    "\n"
   ]
  },
  {
   "cell_type": "code",
   "execution_count": 16,
   "metadata": {
    "deletable": false,
    "id": "wvixALnFG15m"
   },
   "outputs": [
    {
     "data": {
      "text/plain": [
       "array(['acid', 'acoustic', 'action', 'adult', 'africa', 'afrikaans',\n",
       "       'alternative', 'alternativepunk', 'ambient', 'americana',\n",
       "       'animated', 'anime', 'arabesk', 'arabic', 'arena',\n",
       "       'argentinetango', 'art', 'audiobook', 'author', 'avantgarde',\n",
       "       'axé', 'baile', 'balkan', 'beats', 'bigroom', 'black', 'bluegrass',\n",
       "       'blues', 'bollywood', 'bossa', 'brazilian', 'breakbeat', 'breaks',\n",
       "       'broadway', 'cantautori', 'cantopop', 'canzone', 'caribbean',\n",
       "       'caucasian', 'celtic', 'chamber', 'chanson', 'children', 'chill',\n",
       "       'chinese', 'choral', 'christian', 'christmas', 'classical',\n",
       "       'classicmetal', 'club', 'colombian', 'comedy', 'conjazz',\n",
       "       'contemporary', 'country', 'cuban', 'dance', 'dancehall',\n",
       "       'dancepop', 'dark', 'death', 'deep', 'deutschrock', 'deutschspr',\n",
       "       'dirty', 'disco', 'dnb', 'documentary', 'downbeat', 'downtempo',\n",
       "       'drum', 'dub', 'dubstep', 'eastern', 'easy', 'electronic',\n",
       "       'electropop', 'emo', 'entehno', 'epicmetal', 'estrada', 'ethnic',\n",
       "       'eurofolk', 'european', 'experimental', 'extrememetal', 'fado',\n",
       "       'fairytail', 'film', 'fitness', 'flamenco', 'folk', 'folklore',\n",
       "       'folkmetal', 'folkrock', 'folktronica', 'forró', 'frankreich',\n",
       "       'französisch', 'french', 'funk', 'future', 'gangsta', 'garage',\n",
       "       'german', 'ghazal', 'gitarre', 'glitch', 'gospel', 'gothic',\n",
       "       'grime', 'grunge', 'gypsy', 'handsup', \"hard'n'heavy\", 'hardcore',\n",
       "       'hardstyle', 'hardtechno', 'hiphop', 'historisch', 'holiday',\n",
       "       'horror', 'house', 'hymn', 'idm', 'independent', 'indian', 'indie',\n",
       "       'indipop', 'industrial', 'inspirational', 'instrumental',\n",
       "       'international', 'irish', 'jam', 'japanese', 'jazz', 'jewish',\n",
       "       'jpop', 'jungle', 'k-pop', 'karadeniz', 'karaoke', 'kayokyoku',\n",
       "       'korean', 'laiko', 'latin', 'latino', 'leftfield', 'local',\n",
       "       'lounge', 'loungeelectronic', 'lovers', 'malaysian', 'mandopop',\n",
       "       'marschmusik', 'meditative', 'mediterranean', 'melodic', 'metal',\n",
       "       'metalcore', 'mexican', 'middle', 'minimal', 'miscellaneous',\n",
       "       'modern', 'mood', 'mpb', 'muslim', 'native', 'neoklassik', 'neue',\n",
       "       'new', 'newage', 'newwave', 'nu', 'nujazz', 'numetal', 'oceania',\n",
       "       'old', 'opera', 'orchestral', 'other', 'piano', 'podcasts', 'pop',\n",
       "       'popdance', 'popelectronic', 'popeurodance', 'poprussian', 'post',\n",
       "       'posthardcore', 'postrock', 'power', 'progmetal', 'progressive',\n",
       "       'psychedelic', 'punjabi', 'punk', 'quebecois', 'ragga', 'ram',\n",
       "       'rancheras', 'rap', 'rave', 'reggae', 'reggaeton', 'regional',\n",
       "       'relax', 'religious', 'retro', 'rhythm', 'rnb', 'rnr', 'rock',\n",
       "       'rockabilly', 'rockalternative', 'rockindie', 'rockother',\n",
       "       'romance', 'roots', 'ruspop', 'rusrap', 'rusrock', 'russian',\n",
       "       'salsa', 'samba', 'scenic', 'schlager', 'self', 'sertanejo',\n",
       "       'shanson', 'shoegazing', 'showtunes', 'singer', 'ska', 'skarock',\n",
       "       'slow', 'smooth', 'soft', 'soul', 'soulful', 'sound', 'soundtrack',\n",
       "       'southern', 'specialty', 'speech', 'spiritual', 'sport',\n",
       "       'stonerrock', 'surf', 'swing', 'synthpop', 'synthrock',\n",
       "       'sängerportrait', 'tango', 'tanzorchester', 'taraftar', 'tatar',\n",
       "       'tech', 'techno', 'teen', 'thrash', 'top', 'traditional',\n",
       "       'tradjazz', 'trance', 'tribal', 'trip', 'triphop', 'tropical',\n",
       "       'türk', 'türkçe', 'ukrrock', 'unknown', 'urban', 'uzbek',\n",
       "       'variété', 'vi', 'videogame', 'vocal', 'western', 'world',\n",
       "       'worldbeat', 'ïîï', 'электроника'], dtype=object)"
      ]
     },
     "execution_count": 16,
     "metadata": {},
     "output_type": "execute_result"
    }
   ],
   "source": [
    "# Проверка на неявные дубликаты\n",
    "df.genre.sort_values().unique()\n"
   ]
  },
  {
   "cell_type": "markdown",
   "metadata": {
    "deletable": false,
    "editable": false,
    "id": "jz6a9-7HQUDd"
   },
   "source": [
    "**Выводы**\n",
    "\n",
    "Предобработка обнаружила три проблемы в данных:\n",
    "\n",
    "- нарушения в стиле заголовков,\n",
    "- пропущенные значения,\n",
    "- дубликаты — явные и неявные.\n",
    "\n",
    "Мы исправили заголовки, чтобы упростить работу с таблицей. Без дубликатов исследование станет более точным.\n",
    "\n",
    "Пропущенные значения мы заменили на `'unknown'`. Ещё предстоит увидеть, не повредят ли исследованию пропуски в колонке `genre`.\n",
    "\n",
    "Теперь можно перейти к проверке гипотез. "
   ]
  },
  {
   "cell_type": "markdown",
   "metadata": {
    "deletable": false,
    "editable": false,
    "id": "WttZHXH0SqKk"
   },
   "source": [
    "## Проверка гипотез"
   ]
  },
  {
   "cell_type": "markdown",
   "metadata": {
    "deletable": false,
    "editable": false,
    "id": "Im936VVi_Zcu"
   },
   "source": [
    "### Сравнение поведения пользователей двух столиц"
   ]
  },
  {
   "cell_type": "markdown",
   "metadata": {
    "deletable": false,
    "editable": false,
    "id": "nwt_MuaL_Zcu"
   },
   "source": [
    "Первая гипотеза утверждает, что пользователи по-разному слушают музыку в Москве и Санкт-Петербурге. Проверим это предположение по данным о трёх днях недели — понедельнике, среде и пятнице. Для этого:\n",
    "\n",
    "* Разделим пользователей Москвы и Санкт-Петербурга\n",
    "* Сравним, сколько треков послушала каждая группа пользователей в понедельник, среду и пятницу.\n"
   ]
  },
  {
   "cell_type": "markdown",
   "metadata": {
    "deletable": false,
    "editable": false,
    "id": "8Dw_YMmT_Zcu",
    "tags": [
     "start_task"
    ]
   },
   "source": [
    "**Задание 18**\n",
    "\n",
    "\n",
    "\n"
   ]
  },
  {
   "cell_type": "code",
   "execution_count": 17,
   "metadata": {
    "deletable": false,
    "id": "0_Qs96oh_Zcu"
   },
   "outputs": [
    {
     "data": {
      "text/plain": [
       "city\n",
       "Moscow              42741\n",
       "Saint-Petersburg    18512\n",
       "Name: genre, dtype: int64"
      ]
     },
     "execution_count": 17,
     "metadata": {},
     "output_type": "execute_result"
    }
   ],
   "source": [
    "# Подсчёт прослушиваний в каждом городе\n",
    "df.groupby('city')['genre'].count()"
   ]
  },
  {
   "cell_type": "markdown",
   "metadata": {
    "deletable": false,
    "editable": false,
    "id": "dzli3w8o_Zcu",
    "tags": [
     "start_task"
    ]
   },
   "source": [
    "В Москве прослушиваний больше, чем в Петербурге. Из этого не следует, что московские пользователи чаще слушают музыку. Просто самих пользователей в Москве больше.\n",
    "\n",
    "**Задание 19**\n",
    "\n"
   ]
  },
  {
   "cell_type": "code",
   "execution_count": 18,
   "metadata": {
    "deletable": false,
    "id": "uZMKjiJz_Zcu"
   },
   "outputs": [
    {
     "data": {
      "text/plain": [
       "day\n",
       "Friday       21840\n",
       "Monday       21354\n",
       "Wednesday    18059\n",
       "Name: genre, dtype: int64"
      ]
     },
     "execution_count": 18,
     "metadata": {},
     "output_type": "execute_result"
    }
   ],
   "source": [
    "# Подсчёт прослушиваний в каждый из трёх дней\n",
    "df.groupby('day')['genre'].count()"
   ]
  },
  {
   "cell_type": "markdown",
   "metadata": {
    "deletable": false,
    "editable": false,
    "id": "cC2tNrlL_Zcu"
   },
   "source": [
    "В среднем пользователи из двух городов менее активны по средам. Но картина может измениться, если рассмотреть каждый город в отдельности."
   ]
  },
  {
   "cell_type": "markdown",
   "metadata": {
    "deletable": false,
    "editable": false,
    "id": "POzs8bGa_Zcu",
    "tags": [
     "start_task"
    ]
   },
   "source": [
    "**Задание 20**\n",
    "\n",
    "\n"
   ]
  },
  {
   "cell_type": "code",
   "execution_count": 19,
   "metadata": {
    "deletable": false,
    "id": "Nz3GdQB1_Zcu"
   },
   "outputs": [],
   "source": [
    "# <создание функции number_tracks()>, которая объединит два предыдущих расчета.\n",
    "\n",
    "def number_tracks (day, city):\n",
    "    track_list = df[ (df['day'] == day) & (df['city'] == city) ]\n",
    "    track_list_count = track_list['user_id'].count()\n",
    "    return track_list_count"
   ]
  },
  {
   "cell_type": "markdown",
   "metadata": {
    "deletable": false,
    "editable": false,
    "id": "ytf7xFrFJQ2r",
    "tags": [
     "start_task"
    ]
   },
   "source": [
    "**Задание 21**\n",
    "\n"
   ]
  },
  {
   "cell_type": "code",
   "execution_count": 20,
   "metadata": {
    "deletable": false,
    "id": "rJcRATNQ_Zcu"
   },
   "outputs": [
    {
     "data": {
      "text/plain": [
       "15740"
      ]
     },
     "execution_count": 20,
     "metadata": {},
     "output_type": "execute_result"
    }
   ],
   "source": [
    "# количество прослушиваний в Москве по понедельникам\n",
    "number_tracks('Monday', 'Moscow')"
   ]
  },
  {
   "cell_type": "code",
   "execution_count": 21,
   "metadata": {
    "deletable": false,
    "id": "hq_ncZ5T_Zcu"
   },
   "outputs": [
    {
     "data": {
      "text/plain": [
       "5614"
      ]
     },
     "execution_count": 21,
     "metadata": {},
     "output_type": "execute_result"
    }
   ],
   "source": [
    "# количество прослушиваний в Санкт-Петербурге по понедельникам\n",
    "number_tracks('Monday', 'Saint-Petersburg')"
   ]
  },
  {
   "cell_type": "code",
   "execution_count": 22,
   "metadata": {
    "deletable": false,
    "id": "_NTy2VPU_Zcu"
   },
   "outputs": [
    {
     "data": {
      "text/plain": [
       "11056"
      ]
     },
     "execution_count": 22,
     "metadata": {},
     "output_type": "execute_result"
    }
   ],
   "source": [
    "# количество прослушиваний в Москве по средам\n",
    "number_tracks('Wednesday', 'Moscow')"
   ]
  },
  {
   "cell_type": "code",
   "execution_count": 23,
   "metadata": {
    "deletable": false,
    "id": "j2y3TAwo_Zcu"
   },
   "outputs": [
    {
     "data": {
      "text/plain": [
       "7003"
      ]
     },
     "execution_count": 23,
     "metadata": {},
     "output_type": "execute_result"
    }
   ],
   "source": [
    "# количество прослушиваний в Санкт-Петербурге по средам\n",
    "number_tracks('Wednesday', 'Saint-Petersburg')"
   ]
  },
  {
   "cell_type": "code",
   "execution_count": 24,
   "metadata": {
    "deletable": false,
    "id": "vYDw5u_K_Zcu"
   },
   "outputs": [
    {
     "data": {
      "text/plain": [
       "15945"
      ]
     },
     "execution_count": 24,
     "metadata": {},
     "output_type": "execute_result"
    }
   ],
   "source": [
    "# количество прослушиваний в Москве по пятницам\n",
    "number_tracks('Friday', 'Moscow')"
   ]
  },
  {
   "cell_type": "code",
   "execution_count": 25,
   "metadata": {
    "deletable": false,
    "id": "8_yzFtW3_Zcu"
   },
   "outputs": [
    {
     "data": {
      "text/plain": [
       "5895"
      ]
     },
     "execution_count": 25,
     "metadata": {},
     "output_type": "execute_result"
    }
   ],
   "source": [
    "# количество прослушиваний в Санкт-Петербурге по пятницам\n",
    "number_tracks('Friday', 'Saint-Petersburg')"
   ]
  },
  {
   "cell_type": "markdown",
   "metadata": {
    "deletable": false,
    "editable": false,
    "id": "7QXffbO-_Zcu",
    "tags": [
     "start_task"
    ]
   },
   "source": [
    "**Задание 22**\n",
    "\n"
   ]
  },
  {
   "cell_type": "code",
   "execution_count": 26,
   "metadata": {
    "deletable": false,
    "id": "APAcLpOr_Zcu"
   },
   "outputs": [
    {
     "data": {
      "text/html": [
       "<div>\n",
       "<style scoped>\n",
       "    .dataframe tbody tr th:only-of-type {\n",
       "        vertical-align: middle;\n",
       "    }\n",
       "\n",
       "    .dataframe tbody tr th {\n",
       "        vertical-align: top;\n",
       "    }\n",
       "\n",
       "    .dataframe thead th {\n",
       "        text-align: right;\n",
       "    }\n",
       "</style>\n",
       "<table border=\"1\" class=\"dataframe\">\n",
       "  <thead>\n",
       "    <tr style=\"text-align: right;\">\n",
       "      <th></th>\n",
       "      <th>city</th>\n",
       "      <th>monday</th>\n",
       "      <th>wednesday</th>\n",
       "      <th>friday</th>\n",
       "    </tr>\n",
       "  </thead>\n",
       "  <tbody>\n",
       "    <tr>\n",
       "      <th>0</th>\n",
       "      <td>Moscow</td>\n",
       "      <td>15740</td>\n",
       "      <td>11056</td>\n",
       "      <td>15945</td>\n",
       "    </tr>\n",
       "    <tr>\n",
       "      <th>1</th>\n",
       "      <td>Saint-Petersburg</td>\n",
       "      <td>5614</td>\n",
       "      <td>7003</td>\n",
       "      <td>5895</td>\n",
       "    </tr>\n",
       "  </tbody>\n",
       "</table>\n",
       "</div>"
      ],
      "text/plain": [
       "               city  monday  wednesday  friday\n",
       "0            Moscow   15740      11056   15945\n",
       "1  Saint-Petersburg    5614       7003    5895"
      ]
     },
     "execution_count": 26,
     "metadata": {},
     "output_type": "execute_result"
    }
   ],
   "source": [
    "# Таблица с результатами\n",
    "data = [['Moscow', 15740, 11056, 15945],\n",
    "       ['Saint-Petersburg', 5614, 7003, 5895]]\n",
    "\n",
    "columns = ['city','monday','wednesday','friday']\n",
    "\n",
    "table = pd.DataFrame(data = data, columns = columns)\n",
    "\n",
    "table"
   ]
  },
  {
   "cell_type": "markdown",
   "metadata": {
    "deletable": false,
    "editable": false,
    "id": "-EgPIHYu_Zcu"
   },
   "source": [
    "**Выводы**\n",
    "\n",
    "Данные показывают разницу поведения пользователей:\n",
    "\n",
    "- В Москве пик прослушиваний приходится на понедельник и пятницу, а в среду заметен спад.\n",
    "- В Петербурге, наоборот, больше слушают музыку по средам. Активность в понедельник и пятницу здесь почти в равной мере уступает среде.\n",
    "\n",
    "Значит, данные говорят в пользу первой гипотезы."
   ]
  },
  {
   "cell_type": "markdown",
   "metadata": {
    "deletable": false,
    "editable": false,
    "id": "atZAxtq4_Zcu"
   },
   "source": [
    "### Музыка в начале и в конце недели"
   ]
  },
  {
   "cell_type": "markdown",
   "metadata": {
    "deletable": false,
    "editable": false,
    "id": "eXrQqXFH_Zcu"
   },
   "source": [
    "Согласно второй гипотезе, утром в понедельник в Москве преобладают одни жанры, а в Петербурге — другие. Так же и вечером пятницы преобладают разные жанры — в зависимости от города."
   ]
  },
  {
   "cell_type": "markdown",
   "metadata": {
    "deletable": false,
    "editable": false,
    "id": "S8UcW6Hw_Zcu",
    "tags": [
     "start_task"
    ]
   },
   "source": [
    "**Задание 23**\n",
    "\n"
   ]
  },
  {
   "cell_type": "code",
   "execution_count": 27,
   "metadata": {
    "deletable": false,
    "id": "qeaFfM_P_Zcu"
   },
   "outputs": [],
   "source": [
    "# получение таблицы moscow_general из тех строк таблицы df, \n",
    "# для которых значение в столбце 'city' равно 'Moscow'\n",
    "moscow_general = df[df['city'] == 'Moscow']"
   ]
  },
  {
   "cell_type": "code",
   "execution_count": 28,
   "metadata": {
    "deletable": false,
    "id": "ORaVRKto_Zcu"
   },
   "outputs": [],
   "source": [
    "# получение таблицы spb_general из тех строк таблицы df,\n",
    "# для которых значение в столбце 'city' равно 'Saint-Petersburg'\n",
    "spb_general = df[df['city'] == 'Saint-Petersburg']"
   ]
  },
  {
   "cell_type": "markdown",
   "metadata": {
    "deletable": false,
    "id": "MEJV-CX2_Zcu",
    "tags": [
     "start_task"
    ]
   },
   "source": [
    "**Задание 24**\n",
    "\n"
   ]
  },
  {
   "cell_type": "code",
   "execution_count": 29,
   "metadata": {
    "deletable": false,
    "id": "laJT9BYl_Zcu"
   },
   "outputs": [],
   "source": [
    "# Объявление функции genre_weekday() с параметрами table, day, time1, time2,\n",
    "# которая возвращает информацию о самых популярных жанрах в указанный день в\n",
    "# заданное время.\n",
    "\n",
    "def genre_weekday(table, day, time1, time2):\n",
    "    # последовательная фильтрация\n",
    "    # оставляем в genre_df только те строки df, у которых день равен day\n",
    "    genre_df = table[table['day'] == day] \n",
    "    # оставляем в genre_df только те строки genre_df, у которых время меньше time2\n",
    "    genre_df = genre_df[genre_df['time'] < time2]\n",
    "    # оставляем в genre_df только те строки genre_df, у которых время больше time1\n",
    "    genre_df = genre_df[genre_df['time'] > time1]\n",
    "    # сгруппируем отфильтрованный датафрейм по столбцу с названиями жанров, возьмём столбец genre \n",
    "    # и посчитаем кол-во строк для каждого жанра методом count()\n",
    "    genre_df_grouped = genre_df.groupby('genre')['genre'].count()\n",
    "    # отсортируем результат по убыванию (чтобы в начале Series оказались самые популярные жанры)\n",
    "    genre_df_sorted = genre_df_grouped.sort_values(ascending = False)\n",
    "    # вернём Series с 10 самыми популярными жанрами в указанный отрезок времени заданного дня\n",
    "    return genre_df_sorted.head(10)"
   ]
  },
  {
   "cell_type": "markdown",
   "metadata": {
    "deletable": false,
    "editable": false,
    "id": "la2s2_PF_Zcu",
    "tags": [
     "start_task"
    ]
   },
   "source": [
    "**Задание 25**\n",
    "\n"
   ]
  },
  {
   "cell_type": "code",
   "execution_count": 30,
   "metadata": {
    "deletable": false,
    "id": "yz7itPUQ_Zcu"
   },
   "outputs": [
    {
     "data": {
      "text/plain": [
       "genre\n",
       "pop            781\n",
       "dance          549\n",
       "electronic     480\n",
       "rock           474\n",
       "hiphop         286\n",
       "ruspop         186\n",
       "world          181\n",
       "rusrap         175\n",
       "alternative    164\n",
       "unknown        161\n",
       "Name: genre, dtype: int64"
      ]
     },
     "execution_count": 30,
     "metadata": {},
     "output_type": "execute_result"
    }
   ],
   "source": [
    "# вызов функции для утра понедельника в Москве \n",
    "\n",
    "genre_weekday(moscow_general, 'Monday', '07:00', '11:00')\n"
   ]
  },
  {
   "cell_type": "code",
   "execution_count": 31,
   "metadata": {
    "deletable": false,
    "id": "kwUcHPdy_Zcu"
   },
   "outputs": [
    {
     "data": {
      "text/plain": [
       "genre\n",
       "pop            218\n",
       "dance          182\n",
       "rock           162\n",
       "electronic     147\n",
       "hiphop          80\n",
       "ruspop          64\n",
       "alternative     58\n",
       "rusrap          55\n",
       "jazz            44\n",
       "classical       40\n",
       "Name: genre, dtype: int64"
      ]
     },
     "execution_count": 31,
     "metadata": {},
     "output_type": "execute_result"
    }
   ],
   "source": [
    "# вызов функции для утра понедельника в Петербурге \n",
    "genre_weekday(spb_general, 'Monday','07:00', '11:00')"
   ]
  },
  {
   "cell_type": "code",
   "execution_count": 32,
   "metadata": {
    "deletable": false,
    "id": "EzXVRE1o_Zcu"
   },
   "outputs": [
    {
     "data": {
      "text/plain": [
       "genre\n",
       "pop            713\n",
       "rock           517\n",
       "dance          495\n",
       "electronic     482\n",
       "hiphop         273\n",
       "world          208\n",
       "ruspop         170\n",
       "alternative    163\n",
       "classical      163\n",
       "rusrap         142\n",
       "Name: genre, dtype: int64"
      ]
     },
     "execution_count": 32,
     "metadata": {},
     "output_type": "execute_result"
    }
   ],
   "source": [
    "# вызов функции для вечера пятницы в Москве\n",
    "genre_weekday(moscow_general, 'Friday','17:00', '23:00')\n"
   ]
  },
  {
   "cell_type": "code",
   "execution_count": 33,
   "metadata": {
    "deletable": false,
    "id": "JZaEKu5v_Zcu"
   },
   "outputs": [
    {
     "data": {
      "text/plain": [
       "genre\n",
       "pop            256\n",
       "electronic     216\n",
       "rock           216\n",
       "dance          210\n",
       "hiphop          97\n",
       "alternative     63\n",
       "jazz            61\n",
       "classical       60\n",
       "rusrap          59\n",
       "world           54\n",
       "Name: genre, dtype: int64"
      ]
     },
     "execution_count": 33,
     "metadata": {},
     "output_type": "execute_result"
    }
   ],
   "source": [
    "# вызов функции для вечера пятницы в Петербурге\n",
    "genre_weekday(spb_general, 'Friday','17:00', '23:00')"
   ]
  },
  {
   "cell_type": "markdown",
   "metadata": {
    "deletable": false,
    "editable": false,
    "id": "wrCe4MNX_Zcu"
   },
   "source": [
    "**Выводы**\n",
    "\n",
    "Если сравнить топ-10 жанров в понедельник утром, можно сделать такие выводы:\n",
    "\n",
    "1. В Москве и Петербурге слушают похожую музыку. Единственное отличие — в московский рейтинг вошёл жанр “world”, а в петербургский — джаз и классика.\n",
    "\n",
    "2. В Москве пропущенных значений оказалось так много, что значение `'unknown'` заняло десятое место среди самых популярных жанров. Значит, пропущенные значения занимают существенную долю в данных и угрожают достоверности исследования.\n",
    "\n",
    "Вечер пятницы не меняет эту картину. Некоторые жанры поднимаются немного выше, другие спускаются, но в целом топ-10 остаётся тем же самым.\n",
    "\n",
    "Таким образом, вторая гипотеза подтвердилась лишь частично:\n",
    "* Пользователи слушают похожую музыку в начале недели и в конце.\n",
    "* Разница между Москвой и Петербургом не слишком выражена. В Москве чаще слушают русскую популярную музыку, в Петербурге — джаз.\n",
    "\n",
    "Однако пропуски в данных ставят под сомнение этот результат. В Москве их так много, что рейтинг топ-10 мог бы выглядеть иначе, если бы не утерянные  данные о жанрах."
   ]
  },
  {
   "cell_type": "markdown",
   "metadata": {
    "deletable": false,
    "editable": false,
    "id": "JolODAqr_Zcu"
   },
   "source": [
    "### Жанровые предпочтения в Москве и Петербурге\n",
    "\n",
    "Гипотеза: Петербург — столица рэпа, музыку этого жанра там слушают чаще, чем в Москве.  А Москва — город контрастов, в котором, тем не менее, преобладает поп-музыка."
   ]
  },
  {
   "cell_type": "markdown",
   "metadata": {
    "deletable": false,
    "editable": false,
    "id": "DlegSvaT_Zcu",
    "tags": [
     "start_task"
    ]
   },
   "source": [
    "**Задание 26**\n",
    "\n"
   ]
  },
  {
   "cell_type": "code",
   "execution_count": 34,
   "metadata": {
    "deletable": false,
    "id": "r19lIPke_Zcu"
   },
   "outputs": [],
   "source": [
    "# группировка таблицы moscow_general по столбцу 'genre', \n",
    "# подсчёт числа значений 'genre' в этой группировке методом count(), \n",
    "# сортировка получившегося Series в порядке убывания и сохранение в moscow_genres\n",
    "moscow_genres = moscow_general.groupby('genre')['genre'].count().sort_values(ascending = False)"
   ]
  },
  {
   "cell_type": "markdown",
   "metadata": {
    "deletable": false,
    "editable": false,
    "id": "6kMuomxTiIr8",
    "tags": [
     "start_task"
    ]
   },
   "source": [
    "**Задание 27**\n",
    "\n"
   ]
  },
  {
   "cell_type": "code",
   "execution_count": 35,
   "metadata": {
    "deletable": false,
    "id": "WhCSooF8_Zcv"
   },
   "outputs": [
    {
     "data": {
      "text/plain": [
       "genre\n",
       "pop            5892\n",
       "dance          4435\n",
       "rock           3965\n",
       "electronic     3786\n",
       "hiphop         2096\n",
       "classical      1616\n",
       "world          1432\n",
       "alternative    1379\n",
       "ruspop         1372\n",
       "rusrap         1161\n",
       "Name: genre, dtype: int64"
      ]
     },
     "execution_count": 35,
     "metadata": {},
     "output_type": "execute_result"
    }
   ],
   "source": [
    "# просмотр первых 10 строк moscow_genres\n",
    "moscow_genres.head(10)"
   ]
  },
  {
   "cell_type": "markdown",
   "metadata": {
    "deletable": false,
    "editable": false,
    "id": "cnPG2vnN_Zcv",
    "tags": [
     "start_task"
    ]
   },
   "source": [
    "**Задание 28**\n",
    "\n",
    "\n",
    "\n"
   ]
  },
  {
   "cell_type": "code",
   "execution_count": 36,
   "metadata": {
    "deletable": false,
    "id": "gluLIpE7_Zcv"
   },
   "outputs": [],
   "source": [
    "# группировка таблицы spb_general по столбцу 'genre', \n",
    "# подсчёт числа значений 'genre' в этой группировке методом count(), \n",
    "# сортировка получившегося Series в порядке убывания и сохранение в spb_genres\n",
    "spb_genres = spb_general.groupby('genre')['genre'].count().sort_values(ascending = False)"
   ]
  },
  {
   "cell_type": "markdown",
   "metadata": {
    "deletable": false,
    "editable": false,
    "id": "5Doha_ODgyQ8",
    "tags": [
     "start_task"
    ]
   },
   "source": [
    "**Задание 29**\n",
    "\n"
   ]
  },
  {
   "cell_type": "code",
   "execution_count": 37,
   "metadata": {
    "deletable": false,
    "id": "uaGJHjVU_Zcv"
   },
   "outputs": [
    {
     "data": {
      "text/plain": [
       "genre\n",
       "pop            2431\n",
       "dance          1932\n",
       "rock           1879\n",
       "electronic     1736\n",
       "hiphop          960\n",
       "alternative     649\n",
       "classical       646\n",
       "rusrap          564\n",
       "ruspop          538\n",
       "world           515\n",
       "Name: genre, dtype: int64"
      ]
     },
     "execution_count": 37,
     "metadata": {},
     "output_type": "execute_result"
    }
   ],
   "source": [
    "# просмотр первых 10 строк spb_genres\n",
    "spb_genres.head(10)"
   ]
  },
  {
   "cell_type": "markdown",
   "metadata": {
    "deletable": false,
    "editable": false,
    "id": "RY51YJYu_Zcv"
   },
   "source": [
    "**Выводы**"
   ]
  },
  {
   "cell_type": "markdown",
   "metadata": {
    "deletable": false,
    "editable": false,
    "id": "nVhnJEm__Zcv"
   },
   "source": [
    "Гипотеза частично подтвердилась:\n",
    "* Поп-музыка — самый популярный жанр в Москве, как и предполагала гипотеза. Более того, в топ-10 жанров встречается близкий жанр — русская популярная музыка.\n",
    "* Вопреки ожиданиям, рэп одинаково популярен в Москве и Петербурге. \n"
   ]
  },
  {
   "cell_type": "markdown",
   "metadata": {
    "deletable": false,
    "editable": false,
    "id": "ykKQ0N65_Zcv"
   },
   "source": [
    "## Итоги исследования"
   ]
  },
  {
   "cell_type": "markdown",
   "metadata": {
    "deletable": false,
    "editable": false,
    "id": "tjUwbHb3_Zcv"
   },
   "source": [
    "Мы проверили три гипотезы и установили:\n",
    "\n",
    "1. День недели по-разному влияет на активность пользователей в Москве и Петербурге. \n",
    "\n",
    "Первая гипотеза полностью подтвердилась.\n",
    "\n",
    "2. Музыкальные предпочтения не сильно меняются в течение недели — будь то Москва или Петербург. Небольшие различия заметны в начале недели, по понедельникам:\n",
    "* в Москве слушают музыку жанра “world”,\n",
    "* в Петербурге — джаз и классику.\n",
    "\n",
    "Таким образом, вторая гипотеза подтвердилась лишь отчасти. Этот результат мог оказаться иным, если бы не пропуски в данных.\n",
    "\n",
    "3. Во вкусах пользователей Москвы и Петербурга больше общего чем различий. Вопреки ожиданиям, предпочтения жанров в Петербурге напоминают московские.\n",
    "\n",
    "Третья гипотеза не подтвердилась. Если различия в предпочтениях и существуют, на основной массе пользователей они незаметны.\n"
   ]
  }
 ],
 "metadata": {
  "ExecuteTimeLog": [
   {
    "duration": 424,
    "start_time": "2023-03-02T06:26:31.531Z"
   },
   {
    "duration": 451,
    "start_time": "2023-03-02T06:27:52.979Z"
   },
   {
    "duration": 193,
    "start_time": "2023-03-02T06:28:49.697Z"
   },
   {
    "duration": 17,
    "start_time": "2023-03-02T06:29:05.562Z"
   },
   {
    "duration": 52,
    "start_time": "2023-03-02T06:30:53.519Z"
   },
   {
    "duration": 3,
    "start_time": "2023-03-02T06:32:45.615Z"
   },
   {
    "duration": 4,
    "start_time": "2023-03-02T06:33:02.180Z"
   },
   {
    "duration": 46,
    "start_time": "2023-03-02T06:36:04.156Z"
   },
   {
    "duration": 10,
    "start_time": "2023-03-02T06:36:24.463Z"
   },
   {
    "duration": 17,
    "start_time": "2023-03-02T06:36:28.357Z"
   },
   {
    "duration": 6,
    "start_time": "2023-03-02T06:36:42.579Z"
   },
   {
    "duration": 42,
    "start_time": "2023-03-02T06:37:26.347Z"
   },
   {
    "duration": 10,
    "start_time": "2023-03-02T06:49:07.924Z"
   },
   {
    "duration": 20,
    "start_time": "2023-03-02T06:49:35.240Z"
   },
   {
    "duration": 18,
    "start_time": "2023-03-02T06:49:40.136Z"
   },
   {
    "duration": 27,
    "start_time": "2023-03-02T06:50:12.247Z"
   },
   {
    "duration": 69,
    "start_time": "2023-03-02T06:51:32.145Z"
   },
   {
    "duration": 22,
    "start_time": "2023-03-02T06:52:48.513Z"
   },
   {
    "duration": 92,
    "start_time": "2023-03-02T06:53:15.479Z"
   },
   {
    "duration": 74,
    "start_time": "2023-03-02T06:53:31.336Z"
   },
   {
    "duration": 81,
    "start_time": "2023-03-02T06:53:34.198Z"
   },
   {
    "duration": 59,
    "start_time": "2023-03-02T06:54:10.236Z"
   },
   {
    "duration": 12,
    "start_time": "2023-03-02T07:00:47.936Z"
   },
   {
    "duration": 7,
    "start_time": "2023-03-02T07:05:34.647Z"
   },
   {
    "duration": 8,
    "start_time": "2023-03-02T07:05:38.537Z"
   },
   {
    "duration": 6,
    "start_time": "2023-03-02T07:06:01.679Z"
   },
   {
    "duration": 6,
    "start_time": "2023-03-02T07:06:29.236Z"
   },
   {
    "duration": 7,
    "start_time": "2023-03-02T07:06:33.495Z"
   },
   {
    "duration": 7,
    "start_time": "2023-03-02T07:06:35.636Z"
   },
   {
    "duration": 6,
    "start_time": "2023-03-02T07:09:17.796Z"
   },
   {
    "duration": 6,
    "start_time": "2023-03-02T07:09:24.637Z"
   },
   {
    "duration": 60,
    "start_time": "2023-03-02T07:09:33.312Z"
   },
   {
    "duration": 11,
    "start_time": "2023-03-02T07:17:00.231Z"
   },
   {
    "duration": 11,
    "start_time": "2023-03-02T07:17:09.639Z"
   },
   {
    "duration": 6,
    "start_time": "2023-03-02T07:17:16.039Z"
   },
   {
    "duration": 20,
    "start_time": "2023-03-02T07:19:02.963Z"
   },
   {
    "duration": 29,
    "start_time": "2023-03-02T07:19:24.453Z"
   },
   {
    "duration": 11,
    "start_time": "2023-03-02T07:19:52.570Z"
   },
   {
    "duration": 7,
    "start_time": "2023-03-02T07:20:02.829Z"
   },
   {
    "duration": 7,
    "start_time": "2023-03-02T07:20:04.763Z"
   },
   {
    "duration": 11,
    "start_time": "2023-03-02T07:20:49.165Z"
   },
   {
    "duration": 12,
    "start_time": "2023-03-02T07:22:40.980Z"
   },
   {
    "duration": 11,
    "start_time": "2023-03-02T07:23:12.435Z"
   },
   {
    "duration": 11,
    "start_time": "2023-03-02T07:23:36.826Z"
   },
   {
    "duration": 13,
    "start_time": "2023-03-02T07:25:02.635Z"
   },
   {
    "duration": 9,
    "start_time": "2023-03-02T07:27:49.267Z"
   },
   {
    "duration": 7,
    "start_time": "2023-03-02T07:30:36.955Z"
   },
   {
    "duration": 9,
    "start_time": "2023-03-02T07:30:43.529Z"
   },
   {
    "duration": 11,
    "start_time": "2023-03-02T07:31:21.335Z"
   },
   {
    "duration": 17,
    "start_time": "2023-03-02T07:31:39.385Z"
   },
   {
    "duration": 11,
    "start_time": "2023-03-02T07:32:01.156Z"
   },
   {
    "duration": 9,
    "start_time": "2023-03-02T07:33:59.331Z"
   },
   {
    "duration": 9,
    "start_time": "2023-03-02T07:44:55.656Z"
   },
   {
    "duration": 6,
    "start_time": "2023-03-02T07:45:09.842Z"
   },
   {
    "duration": 7,
    "start_time": "2023-03-02T07:45:12.131Z"
   },
   {
    "duration": 16,
    "start_time": "2023-03-02T07:50:53.136Z"
   },
   {
    "duration": 11,
    "start_time": "2023-03-02T07:51:16.424Z"
   },
   {
    "duration": 12,
    "start_time": "2023-03-02T07:53:29.084Z"
   },
   {
    "duration": 11,
    "start_time": "2023-03-02T07:53:39.983Z"
   },
   {
    "duration": 9,
    "start_time": "2023-03-02T07:53:50.867Z"
   },
   {
    "duration": 49,
    "start_time": "2023-03-02T07:58:31.452Z"
   },
   {
    "duration": 11,
    "start_time": "2023-03-02T07:58:50.429Z"
   },
   {
    "duration": 12,
    "start_time": "2023-03-02T07:59:21.442Z"
   },
   {
    "duration": 770,
    "start_time": "2023-03-02T07:59:41.319Z"
   },
   {
    "duration": 42,
    "start_time": "2023-03-02T08:00:49.103Z"
   },
   {
    "duration": 28,
    "start_time": "2023-03-02T08:00:54.348Z"
   },
   {
    "duration": 6,
    "start_time": "2023-03-02T08:01:40.332Z"
   },
   {
    "duration": 45,
    "start_time": "2023-03-02T08:02:18.083Z"
   },
   {
    "duration": 26,
    "start_time": "2023-03-02T08:02:53.380Z"
   },
   {
    "duration": 31,
    "start_time": "2023-03-02T08:03:34.568Z"
   },
   {
    "duration": 8,
    "start_time": "2023-03-02T08:03:49.644Z"
   },
   {
    "duration": 9,
    "start_time": "2023-03-02T08:03:58.558Z"
   },
   {
    "duration": 6,
    "start_time": "2023-03-02T08:04:30.784Z"
   },
   {
    "duration": 6,
    "start_time": "2023-03-02T08:04:33.688Z"
   },
   {
    "duration": 7,
    "start_time": "2023-03-02T08:05:10.772Z"
   },
   {
    "duration": 11,
    "start_time": "2023-03-02T08:08:28.768Z"
   },
   {
    "duration": 13,
    "start_time": "2023-03-02T08:08:40.751Z"
   },
   {
    "duration": 13,
    "start_time": "2023-03-02T08:09:42.950Z"
   },
   {
    "duration": 11,
    "start_time": "2023-03-02T08:10:21.284Z"
   },
   {
    "duration": 8,
    "start_time": "2023-03-02T08:10:29.568Z"
   },
   {
    "duration": 4,
    "start_time": "2023-03-02T08:13:06.468Z"
   },
   {
    "duration": 5,
    "start_time": "2023-03-02T08:14:11.037Z"
   },
   {
    "duration": 4,
    "start_time": "2023-03-02T08:14:14.486Z"
   },
   {
    "duration": 18,
    "start_time": "2023-03-02T08:15:42.468Z"
   },
   {
    "duration": 15,
    "start_time": "2023-03-02T08:15:45.741Z"
   },
   {
    "duration": 16,
    "start_time": "2023-03-02T08:16:05.056Z"
   },
   {
    "duration": 23,
    "start_time": "2023-03-02T08:16:23.014Z"
   },
   {
    "duration": 19,
    "start_time": "2023-03-02T08:16:55.055Z"
   },
   {
    "duration": 16,
    "start_time": "2023-03-02T08:16:56.885Z"
   },
   {
    "duration": 10,
    "start_time": "2023-03-02T08:19:01.633Z"
   },
   {
    "duration": 14,
    "start_time": "2023-03-02T08:19:50.252Z"
   },
   {
    "duration": 10,
    "start_time": "2023-03-02T08:20:11.484Z"
   },
   {
    "duration": 15,
    "start_time": "2023-03-02T08:20:16.225Z"
   },
   {
    "duration": 11,
    "start_time": "2023-03-02T08:20:20.828Z"
   },
   {
    "duration": 12,
    "start_time": "2023-03-02T08:26:35.353Z"
   },
   {
    "duration": 11,
    "start_time": "2023-03-02T08:26:50.137Z"
   },
   {
    "duration": 12,
    "start_time": "2023-03-02T08:26:54.176Z"
   },
   {
    "duration": 13,
    "start_time": "2023-03-02T08:27:25.570Z"
   },
   {
    "duration": 12,
    "start_time": "2023-03-02T08:27:28.229Z"
   },
   {
    "duration": 12,
    "start_time": "2023-03-02T08:27:49.037Z"
   },
   {
    "duration": 11,
    "start_time": "2023-03-02T08:27:53.332Z"
   },
   {
    "duration": 6,
    "start_time": "2023-03-02T08:28:31.260Z"
   },
   {
    "duration": 5,
    "start_time": "2023-03-02T08:30:38.752Z"
   },
   {
    "duration": 4,
    "start_time": "2023-03-02T08:30:45.358Z"
   },
   {
    "duration": 837,
    "start_time": "2023-03-02T08:36:00.023Z"
   },
   {
    "duration": 7,
    "start_time": "2023-03-02T08:36:40.652Z"
   },
   {
    "duration": 709,
    "start_time": "2023-03-02T08:37:06.519Z"
   },
   {
    "duration": 715,
    "start_time": "2023-03-02T08:38:43.083Z"
   },
   {
    "duration": 672,
    "start_time": "2023-03-02T08:39:11.134Z"
   },
   {
    "duration": 3,
    "start_time": "2023-03-02T08:42:15.183Z"
   },
   {
    "duration": 3,
    "start_time": "2023-03-02T08:42:33.333Z"
   },
   {
    "duration": 7,
    "start_time": "2023-03-02T08:44:23.249Z"
   },
   {
    "duration": 3,
    "start_time": "2023-03-02T08:45:02.265Z"
   },
   {
    "duration": 9,
    "start_time": "2023-03-02T08:45:18.425Z"
   },
   {
    "duration": 7,
    "start_time": "2023-03-02T08:45:33.433Z"
   },
   {
    "duration": 11,
    "start_time": "2023-03-02T08:46:20.133Z"
   },
   {
    "duration": 8,
    "start_time": "2023-03-02T08:47:00.248Z"
   },
   {
    "duration": 8,
    "start_time": "2023-03-02T08:47:34.648Z"
   },
   {
    "duration": 9,
    "start_time": "2023-03-02T08:48:36.036Z"
   },
   {
    "duration": 5,
    "start_time": "2023-03-02T08:48:57.766Z"
   },
   {
    "duration": 7,
    "start_time": "2023-03-02T08:49:36.480Z"
   },
   {
    "duration": 5,
    "start_time": "2023-03-02T08:49:57.066Z"
   },
   {
    "duration": 7,
    "start_time": "2023-03-02T08:51:11.341Z"
   },
   {
    "duration": 7,
    "start_time": "2023-03-02T08:51:21.475Z"
   },
   {
    "duration": 47,
    "start_time": "2023-03-02T08:58:55.185Z"
   },
   {
    "duration": 10,
    "start_time": "2023-03-02T09:01:31.732Z"
   },
   {
    "duration": 8,
    "start_time": "2023-03-02T09:04:15.664Z"
   },
   {
    "duration": 9,
    "start_time": "2023-03-02T09:06:45.615Z"
   },
   {
    "duration": 10,
    "start_time": "2023-03-02T09:09:42.770Z"
   },
   {
    "duration": 55,
    "start_time": "2023-03-02T09:10:56.224Z"
   },
   {
    "duration": 11,
    "start_time": "2023-03-02T09:11:06.198Z"
   },
   {
    "duration": 10,
    "start_time": "2023-03-02T09:11:20.432Z"
   },
   {
    "duration": 9,
    "start_time": "2023-03-02T09:11:31.000Z"
   },
   {
    "duration": 10,
    "start_time": "2023-03-02T09:14:50.898Z"
   },
   {
    "duration": 9,
    "start_time": "2023-03-02T09:15:25.382Z"
   },
   {
    "duration": 587,
    "start_time": "2023-03-02T09:20:45.630Z"
   },
   {
    "duration": 523,
    "start_time": "2023-03-02T09:21:16.199Z"
   },
   {
    "duration": 7,
    "start_time": "2023-03-02T09:22:48.000Z"
   },
   {
    "duration": 12,
    "start_time": "2023-03-02T09:22:56.748Z"
   },
   {
    "duration": 12,
    "start_time": "2023-03-02T09:26:30.265Z"
   },
   {
    "duration": 4,
    "start_time": "2023-03-02T09:43:07.633Z"
   },
   {
    "duration": 4,
    "start_time": "2023-03-02T09:43:18.541Z"
   },
   {
    "duration": 11,
    "start_time": "2023-03-02T09:45:31.900Z"
   },
   {
    "duration": 49,
    "start_time": "2023-03-02T09:45:52.990Z"
   },
   {
    "duration": 13,
    "start_time": "2023-03-02T09:47:49.251Z"
   },
   {
    "duration": 10,
    "start_time": "2023-03-02T09:49:05.401Z"
   },
   {
    "duration": 14,
    "start_time": "2023-03-02T09:52:36.000Z"
   },
   {
    "duration": 9,
    "start_time": "2023-03-02T09:55:14.291Z"
   },
   {
    "duration": 11,
    "start_time": "2023-03-02T09:55:50.820Z"
   },
   {
    "duration": 16,
    "start_time": "2023-03-02T10:00:45.959Z"
   },
   {
    "duration": 11,
    "start_time": "2023-03-02T10:01:58.801Z"
   },
   {
    "duration": 32,
    "start_time": "2023-03-02T11:03:51.875Z"
   },
   {
    "duration": 8,
    "start_time": "2023-03-02T11:07:18.748Z"
   },
   {
    "duration": 7,
    "start_time": "2023-03-02T11:07:34.681Z"
   },
   {
    "duration": 7,
    "start_time": "2023-03-02T11:07:52.781Z"
   },
   {
    "duration": 8,
    "start_time": "2023-03-02T11:09:38.670Z"
   },
   {
    "duration": 8,
    "start_time": "2023-03-02T11:09:57.348Z"
   },
   {
    "duration": 10,
    "start_time": "2023-03-02T11:17:18.697Z"
   },
   {
    "duration": 430,
    "start_time": "2023-03-02T12:30:44.294Z"
   },
   {
    "duration": 192,
    "start_time": "2023-03-02T12:30:44.726Z"
   },
   {
    "duration": 20,
    "start_time": "2023-03-02T12:30:44.920Z"
   },
   {
    "duration": 33,
    "start_time": "2023-03-02T12:30:44.942Z"
   },
   {
    "duration": 7,
    "start_time": "2023-03-02T12:30:44.976Z"
   },
   {
    "duration": 70,
    "start_time": "2023-03-02T12:30:44.985Z"
   },
   {
    "duration": 19,
    "start_time": "2023-03-02T12:30:45.057Z"
   },
   {
    "duration": 16,
    "start_time": "2023-03-02T12:30:45.078Z"
   },
   {
    "duration": 35,
    "start_time": "2023-03-02T12:30:45.096Z"
   },
   {
    "duration": 30,
    "start_time": "2023-03-02T12:30:45.134Z"
   },
   {
    "duration": 31,
    "start_time": "2023-03-02T12:30:45.166Z"
   },
   {
    "duration": 90,
    "start_time": "2023-03-02T12:30:45.199Z"
   },
   {
    "duration": 83,
    "start_time": "2023-03-02T12:30:45.291Z"
   },
   {
    "duration": 76,
    "start_time": "2023-03-02T12:30:45.376Z"
   },
   {
    "duration": 79,
    "start_time": "2023-03-02T12:30:45.454Z"
   },
   {
    "duration": 0,
    "start_time": "2023-03-02T12:30:45.536Z"
   },
   {
    "duration": 0,
    "start_time": "2023-03-02T12:30:45.537Z"
   },
   {
    "duration": 0,
    "start_time": "2023-03-02T12:30:45.539Z"
   },
   {
    "duration": 0,
    "start_time": "2023-03-02T12:30:45.541Z"
   },
   {
    "duration": 0,
    "start_time": "2023-03-02T12:30:45.542Z"
   },
   {
    "duration": 0,
    "start_time": "2023-03-02T12:30:45.543Z"
   },
   {
    "duration": 0,
    "start_time": "2023-03-02T12:30:45.545Z"
   },
   {
    "duration": 0,
    "start_time": "2023-03-02T12:30:45.546Z"
   },
   {
    "duration": 0,
    "start_time": "2023-03-02T12:30:45.547Z"
   },
   {
    "duration": 0,
    "start_time": "2023-03-02T12:30:45.548Z"
   },
   {
    "duration": 0,
    "start_time": "2023-03-02T12:30:45.549Z"
   },
   {
    "duration": 1,
    "start_time": "2023-03-02T12:30:45.550Z"
   },
   {
    "duration": 0,
    "start_time": "2023-03-02T12:30:45.552Z"
   },
   {
    "duration": 0,
    "start_time": "2023-03-02T12:30:45.554Z"
   },
   {
    "duration": 0,
    "start_time": "2023-03-02T12:30:45.555Z"
   },
   {
    "duration": 0,
    "start_time": "2023-03-02T12:30:45.556Z"
   },
   {
    "duration": 0,
    "start_time": "2023-03-02T12:30:45.558Z"
   },
   {
    "duration": 0,
    "start_time": "2023-03-02T12:30:45.559Z"
   },
   {
    "duration": 1,
    "start_time": "2023-03-02T12:30:45.560Z"
   },
   {
    "duration": 0,
    "start_time": "2023-03-02T12:30:45.562Z"
   },
   {
    "duration": 0,
    "start_time": "2023-03-02T12:30:45.563Z"
   },
   {
    "duration": 0,
    "start_time": "2023-03-02T12:30:45.565Z"
   },
   {
    "duration": 0,
    "start_time": "2023-03-02T12:30:45.567Z"
   },
   {
    "duration": 8,
    "start_time": "2023-03-02T12:32:23.892Z"
   },
   {
    "duration": 375,
    "start_time": "2023-03-02T12:32:43.280Z"
   },
   {
    "duration": 186,
    "start_time": "2023-03-02T12:32:43.657Z"
   },
   {
    "duration": 17,
    "start_time": "2023-03-02T12:32:43.845Z"
   },
   {
    "duration": 31,
    "start_time": "2023-03-02T12:32:43.864Z"
   },
   {
    "duration": 3,
    "start_time": "2023-03-02T12:32:43.897Z"
   },
   {
    "duration": 5,
    "start_time": "2023-03-02T12:32:43.923Z"
   },
   {
    "duration": 13,
    "start_time": "2023-03-02T12:32:43.929Z"
   },
   {
    "duration": 17,
    "start_time": "2023-03-02T12:32:43.944Z"
   },
   {
    "duration": 28,
    "start_time": "2023-03-02T12:32:43.962Z"
   },
   {
    "duration": 37,
    "start_time": "2023-03-02T12:32:43.991Z"
   },
   {
    "duration": 26,
    "start_time": "2023-03-02T12:32:44.030Z"
   },
   {
    "duration": 88,
    "start_time": "2023-03-02T12:32:44.057Z"
   },
   {
    "duration": 89,
    "start_time": "2023-03-02T12:32:44.147Z"
   },
   {
    "duration": 68,
    "start_time": "2023-03-02T12:32:44.239Z"
   },
   {
    "duration": 82,
    "start_time": "2023-03-02T12:32:44.309Z"
   },
   {
    "duration": 0,
    "start_time": "2023-03-02T12:32:44.393Z"
   },
   {
    "duration": 0,
    "start_time": "2023-03-02T12:32:44.394Z"
   },
   {
    "duration": 0,
    "start_time": "2023-03-02T12:32:44.395Z"
   },
   {
    "duration": 0,
    "start_time": "2023-03-02T12:32:44.396Z"
   },
   {
    "duration": 0,
    "start_time": "2023-03-02T12:32:44.397Z"
   },
   {
    "duration": 0,
    "start_time": "2023-03-02T12:32:44.398Z"
   },
   {
    "duration": 0,
    "start_time": "2023-03-02T12:32:44.400Z"
   },
   {
    "duration": 0,
    "start_time": "2023-03-02T12:32:44.401Z"
   },
   {
    "duration": 0,
    "start_time": "2023-03-02T12:32:44.402Z"
   },
   {
    "duration": 0,
    "start_time": "2023-03-02T12:32:44.403Z"
   },
   {
    "duration": 0,
    "start_time": "2023-03-02T12:32:44.423Z"
   },
   {
    "duration": 0,
    "start_time": "2023-03-02T12:32:44.425Z"
   },
   {
    "duration": 0,
    "start_time": "2023-03-02T12:32:44.426Z"
   },
   {
    "duration": 0,
    "start_time": "2023-03-02T12:32:44.427Z"
   },
   {
    "duration": 0,
    "start_time": "2023-03-02T12:32:44.428Z"
   },
   {
    "duration": 0,
    "start_time": "2023-03-02T12:32:44.429Z"
   },
   {
    "duration": 0,
    "start_time": "2023-03-02T12:32:44.430Z"
   },
   {
    "duration": 0,
    "start_time": "2023-03-02T12:32:44.431Z"
   },
   {
    "duration": 0,
    "start_time": "2023-03-02T12:32:44.432Z"
   },
   {
    "duration": 0,
    "start_time": "2023-03-02T12:32:44.433Z"
   },
   {
    "duration": 0,
    "start_time": "2023-03-02T12:32:44.434Z"
   },
   {
    "duration": 0,
    "start_time": "2023-03-02T12:32:44.435Z"
   },
   {
    "duration": 0,
    "start_time": "2023-03-02T12:32:44.436Z"
   },
   {
    "duration": 12,
    "start_time": "2023-03-02T12:33:46.581Z"
   },
   {
    "duration": 10,
    "start_time": "2023-03-02T12:44:45.669Z"
   },
   {
    "duration": 9,
    "start_time": "2023-03-02T12:46:10.481Z"
   },
   {
    "duration": 55,
    "start_time": "2023-03-02T12:49:45.213Z"
   },
   {
    "duration": 16,
    "start_time": "2023-03-02T12:50:09.150Z"
   },
   {
    "duration": 11,
    "start_time": "2023-03-02T12:50:38.448Z"
   },
   {
    "duration": 9,
    "start_time": "2023-03-02T12:51:17.513Z"
   },
   {
    "duration": 391,
    "start_time": "2023-03-02T12:52:04.367Z"
   },
   {
    "duration": 181,
    "start_time": "2023-03-02T12:52:04.761Z"
   },
   {
    "duration": 19,
    "start_time": "2023-03-02T12:52:04.943Z"
   },
   {
    "duration": 33,
    "start_time": "2023-03-02T12:52:04.964Z"
   },
   {
    "duration": 24,
    "start_time": "2023-03-02T12:52:05.000Z"
   },
   {
    "duration": 12,
    "start_time": "2023-03-02T12:52:05.026Z"
   },
   {
    "duration": 28,
    "start_time": "2023-03-02T12:52:05.040Z"
   },
   {
    "duration": 10,
    "start_time": "2023-03-02T12:52:05.069Z"
   },
   {
    "duration": 40,
    "start_time": "2023-03-02T12:52:05.081Z"
   },
   {
    "duration": 33,
    "start_time": "2023-03-02T12:52:05.123Z"
   },
   {
    "duration": 26,
    "start_time": "2023-03-02T12:52:05.158Z"
   },
   {
    "duration": 80,
    "start_time": "2023-03-02T12:52:05.186Z"
   },
   {
    "duration": 78,
    "start_time": "2023-03-02T12:52:05.268Z"
   },
   {
    "duration": 63,
    "start_time": "2023-03-02T12:52:05.349Z"
   },
   {
    "duration": 68,
    "start_time": "2023-03-02T12:52:05.424Z"
   },
   {
    "duration": 0,
    "start_time": "2023-03-02T12:52:05.494Z"
   },
   {
    "duration": 0,
    "start_time": "2023-03-02T12:52:05.496Z"
   },
   {
    "duration": 0,
    "start_time": "2023-03-02T12:52:05.497Z"
   },
   {
    "duration": 0,
    "start_time": "2023-03-02T12:52:05.499Z"
   },
   {
    "duration": 0,
    "start_time": "2023-03-02T12:52:05.500Z"
   },
   {
    "duration": 0,
    "start_time": "2023-03-02T12:52:05.502Z"
   },
   {
    "duration": 0,
    "start_time": "2023-03-02T12:52:05.523Z"
   },
   {
    "duration": 0,
    "start_time": "2023-03-02T12:52:05.525Z"
   },
   {
    "duration": 0,
    "start_time": "2023-03-02T12:52:05.527Z"
   },
   {
    "duration": 0,
    "start_time": "2023-03-02T12:52:05.529Z"
   },
   {
    "duration": 0,
    "start_time": "2023-03-02T12:52:05.531Z"
   },
   {
    "duration": 0,
    "start_time": "2023-03-02T12:52:05.532Z"
   },
   {
    "duration": 0,
    "start_time": "2023-03-02T12:52:05.534Z"
   },
   {
    "duration": 0,
    "start_time": "2023-03-02T12:52:05.535Z"
   },
   {
    "duration": 0,
    "start_time": "2023-03-02T12:52:05.537Z"
   },
   {
    "duration": 0,
    "start_time": "2023-03-02T12:52:05.538Z"
   },
   {
    "duration": 0,
    "start_time": "2023-03-02T12:52:05.540Z"
   },
   {
    "duration": 0,
    "start_time": "2023-03-02T12:52:05.541Z"
   },
   {
    "duration": 0,
    "start_time": "2023-03-02T12:52:05.543Z"
   },
   {
    "duration": 0,
    "start_time": "2023-03-02T12:52:05.545Z"
   },
   {
    "duration": 0,
    "start_time": "2023-03-02T12:52:05.546Z"
   },
   {
    "duration": 0,
    "start_time": "2023-03-02T12:52:05.548Z"
   },
   {
    "duration": 0,
    "start_time": "2023-03-02T12:52:05.550Z"
   },
   {
    "duration": 10,
    "start_time": "2023-03-02T12:56:41.966Z"
   },
   {
    "duration": 56,
    "start_time": "2023-03-02T12:57:40.947Z"
   },
   {
    "duration": 9,
    "start_time": "2023-03-02T12:59:54.594Z"
   },
   {
    "duration": 403,
    "start_time": "2023-03-02T13:00:33.569Z"
   },
   {
    "duration": 216,
    "start_time": "2023-03-02T13:00:33.974Z"
   },
   {
    "duration": 32,
    "start_time": "2023-03-02T13:00:34.193Z"
   },
   {
    "duration": 40,
    "start_time": "2023-03-02T13:00:34.227Z"
   },
   {
    "duration": 4,
    "start_time": "2023-03-02T13:00:34.269Z"
   },
   {
    "duration": 15,
    "start_time": "2023-03-02T13:00:34.275Z"
   },
   {
    "duration": 40,
    "start_time": "2023-03-02T13:00:34.293Z"
   },
   {
    "duration": 10,
    "start_time": "2023-03-02T13:00:34.336Z"
   },
   {
    "duration": 36,
    "start_time": "2023-03-02T13:00:34.348Z"
   },
   {
    "duration": 45,
    "start_time": "2023-03-02T13:00:34.386Z"
   },
   {
    "duration": 34,
    "start_time": "2023-03-02T13:00:34.434Z"
   },
   {
    "duration": 104,
    "start_time": "2023-03-02T13:00:34.470Z"
   },
   {
    "duration": 98,
    "start_time": "2023-03-02T13:00:34.575Z"
   },
   {
    "duration": 89,
    "start_time": "2023-03-02T13:00:34.676Z"
   },
   {
    "duration": 127,
    "start_time": "2023-03-02T13:00:34.767Z"
   },
   {
    "duration": 0,
    "start_time": "2023-03-02T13:00:34.896Z"
   },
   {
    "duration": 0,
    "start_time": "2023-03-02T13:00:34.897Z"
   },
   {
    "duration": 0,
    "start_time": "2023-03-02T13:00:34.899Z"
   },
   {
    "duration": 0,
    "start_time": "2023-03-02T13:00:34.900Z"
   },
   {
    "duration": 0,
    "start_time": "2023-03-02T13:00:34.901Z"
   },
   {
    "duration": 0,
    "start_time": "2023-03-02T13:00:34.903Z"
   },
   {
    "duration": 0,
    "start_time": "2023-03-02T13:00:34.924Z"
   },
   {
    "duration": 0,
    "start_time": "2023-03-02T13:00:34.926Z"
   },
   {
    "duration": 0,
    "start_time": "2023-03-02T13:00:34.927Z"
   },
   {
    "duration": 0,
    "start_time": "2023-03-02T13:00:34.929Z"
   },
   {
    "duration": 0,
    "start_time": "2023-03-02T13:00:34.930Z"
   },
   {
    "duration": 0,
    "start_time": "2023-03-02T13:00:34.931Z"
   },
   {
    "duration": 0,
    "start_time": "2023-03-02T13:00:34.933Z"
   },
   {
    "duration": 0,
    "start_time": "2023-03-02T13:00:34.934Z"
   },
   {
    "duration": 0,
    "start_time": "2023-03-02T13:00:34.935Z"
   },
   {
    "duration": 0,
    "start_time": "2023-03-02T13:00:34.936Z"
   },
   {
    "duration": 0,
    "start_time": "2023-03-02T13:00:34.937Z"
   },
   {
    "duration": 0,
    "start_time": "2023-03-02T13:00:34.939Z"
   },
   {
    "duration": 1,
    "start_time": "2023-03-02T13:00:34.940Z"
   },
   {
    "duration": 0,
    "start_time": "2023-03-02T13:00:34.942Z"
   },
   {
    "duration": 0,
    "start_time": "2023-03-02T13:00:34.943Z"
   },
   {
    "duration": 0,
    "start_time": "2023-03-02T13:00:34.945Z"
   },
   {
    "duration": 0,
    "start_time": "2023-03-02T13:00:34.946Z"
   },
   {
    "duration": 46,
    "start_time": "2023-03-02T13:01:02.569Z"
   },
   {
    "duration": 8,
    "start_time": "2023-03-02T13:05:25.735Z"
   },
   {
    "duration": 44,
    "start_time": "2023-03-02T13:06:01.160Z"
   },
   {
    "duration": 4,
    "start_time": "2023-03-02T13:13:11.750Z"
   },
   {
    "duration": 55,
    "start_time": "2023-03-02T13:15:05.050Z"
   },
   {
    "duration": 54,
    "start_time": "2023-03-02T13:15:25.283Z"
   },
   {
    "duration": 5,
    "start_time": "2023-03-02T13:17:51.516Z"
   },
   {
    "duration": 4,
    "start_time": "2023-03-02T13:17:58.416Z"
   },
   {
    "duration": 407,
    "start_time": "2023-03-02T13:18:17.461Z"
   },
   {
    "duration": 198,
    "start_time": "2023-03-02T13:18:17.869Z"
   },
   {
    "duration": 19,
    "start_time": "2023-03-02T13:18:18.069Z"
   },
   {
    "duration": 44,
    "start_time": "2023-03-02T13:18:18.091Z"
   },
   {
    "duration": 4,
    "start_time": "2023-03-02T13:18:18.137Z"
   },
   {
    "duration": 20,
    "start_time": "2023-03-02T13:18:18.143Z"
   },
   {
    "duration": 19,
    "start_time": "2023-03-02T13:18:18.165Z"
   },
   {
    "duration": 21,
    "start_time": "2023-03-02T13:18:18.186Z"
   },
   {
    "duration": 31,
    "start_time": "2023-03-02T13:18:18.209Z"
   },
   {
    "duration": 21,
    "start_time": "2023-03-02T13:18:18.244Z"
   },
   {
    "duration": 27,
    "start_time": "2023-03-02T13:18:18.268Z"
   },
   {
    "duration": 106,
    "start_time": "2023-03-02T13:18:18.297Z"
   },
   {
    "duration": 85,
    "start_time": "2023-03-02T13:18:18.405Z"
   },
   {
    "duration": 73,
    "start_time": "2023-03-02T13:18:18.492Z"
   },
   {
    "duration": 56,
    "start_time": "2023-03-02T13:18:18.567Z"
   },
   {
    "duration": 39,
    "start_time": "2023-03-02T13:18:18.625Z"
   },
   {
    "duration": 41,
    "start_time": "2023-03-02T13:18:18.666Z"
   },
   {
    "duration": 32,
    "start_time": "2023-03-02T13:18:18.709Z"
   },
   {
    "duration": 15,
    "start_time": "2023-03-02T13:18:18.743Z"
   },
   {
    "duration": 5,
    "start_time": "2023-03-02T13:18:18.759Z"
   },
   {
    "duration": 92,
    "start_time": "2023-03-02T13:18:18.766Z"
   },
   {
    "duration": 0,
    "start_time": "2023-03-02T13:18:18.860Z"
   },
   {
    "duration": 0,
    "start_time": "2023-03-02T13:18:18.861Z"
   },
   {
    "duration": 0,
    "start_time": "2023-03-02T13:18:18.863Z"
   },
   {
    "duration": 0,
    "start_time": "2023-03-02T13:18:18.864Z"
   },
   {
    "duration": 0,
    "start_time": "2023-03-02T13:18:18.865Z"
   },
   {
    "duration": 0,
    "start_time": "2023-03-02T13:18:18.866Z"
   },
   {
    "duration": 0,
    "start_time": "2023-03-02T13:18:18.867Z"
   },
   {
    "duration": 0,
    "start_time": "2023-03-02T13:18:18.868Z"
   },
   {
    "duration": 0,
    "start_time": "2023-03-02T13:18:18.869Z"
   },
   {
    "duration": 0,
    "start_time": "2023-03-02T13:18:18.870Z"
   },
   {
    "duration": 0,
    "start_time": "2023-03-02T13:18:18.871Z"
   },
   {
    "duration": 0,
    "start_time": "2023-03-02T13:18:18.873Z"
   },
   {
    "duration": 0,
    "start_time": "2023-03-02T13:18:18.874Z"
   },
   {
    "duration": 0,
    "start_time": "2023-03-02T13:18:18.875Z"
   },
   {
    "duration": 0,
    "start_time": "2023-03-02T13:18:18.876Z"
   },
   {
    "duration": 0,
    "start_time": "2023-03-02T13:18:18.877Z"
   },
   {
    "duration": 0,
    "start_time": "2023-03-02T13:18:18.879Z"
   },
   {
    "duration": 4,
    "start_time": "2023-03-02T13:20:11.716Z"
   },
   {
    "duration": 4,
    "start_time": "2023-03-02T13:20:19.316Z"
   },
   {
    "duration": 3,
    "start_time": "2023-03-02T13:21:29.901Z"
   },
   {
    "duration": 4,
    "start_time": "2023-03-02T13:24:34.037Z"
   },
   {
    "duration": 4,
    "start_time": "2023-03-02T13:27:45.989Z"
   },
   {
    "duration": 5,
    "start_time": "2023-03-02T13:27:50.667Z"
   },
   {
    "duration": 413,
    "start_time": "2023-03-02T13:28:14.247Z"
   },
   {
    "duration": 176,
    "start_time": "2023-03-02T13:28:14.662Z"
   },
   {
    "duration": 20,
    "start_time": "2023-03-02T13:28:14.841Z"
   },
   {
    "duration": 56,
    "start_time": "2023-03-02T13:28:14.864Z"
   },
   {
    "duration": 7,
    "start_time": "2023-03-02T13:28:14.922Z"
   },
   {
    "duration": 11,
    "start_time": "2023-03-02T13:28:14.931Z"
   },
   {
    "duration": 25,
    "start_time": "2023-03-02T13:28:14.943Z"
   },
   {
    "duration": 10,
    "start_time": "2023-03-02T13:28:14.970Z"
   },
   {
    "duration": 37,
    "start_time": "2023-03-02T13:28:14.982Z"
   },
   {
    "duration": 47,
    "start_time": "2023-03-02T13:28:15.022Z"
   },
   {
    "duration": 36,
    "start_time": "2023-03-02T13:28:15.070Z"
   },
   {
    "duration": 110,
    "start_time": "2023-03-02T13:28:15.108Z"
   },
   {
    "duration": 73,
    "start_time": "2023-03-02T13:28:15.219Z"
   },
   {
    "duration": 73,
    "start_time": "2023-03-02T13:28:15.294Z"
   },
   {
    "duration": 56,
    "start_time": "2023-03-02T13:28:15.369Z"
   },
   {
    "duration": 26,
    "start_time": "2023-03-02T13:28:15.426Z"
   },
   {
    "duration": 66,
    "start_time": "2023-03-02T13:28:15.454Z"
   },
   {
    "duration": 13,
    "start_time": "2023-03-02T13:28:15.523Z"
   },
   {
    "duration": 13,
    "start_time": "2023-03-02T13:28:15.538Z"
   },
   {
    "duration": 4,
    "start_time": "2023-03-02T13:28:15.553Z"
   },
   {
    "duration": 109,
    "start_time": "2023-03-02T13:28:15.560Z"
   },
   {
    "duration": 0,
    "start_time": "2023-03-02T13:28:15.671Z"
   },
   {
    "duration": 0,
    "start_time": "2023-03-02T13:28:15.672Z"
   },
   {
    "duration": 0,
    "start_time": "2023-03-02T13:28:15.674Z"
   },
   {
    "duration": 0,
    "start_time": "2023-03-02T13:28:15.675Z"
   },
   {
    "duration": 0,
    "start_time": "2023-03-02T13:28:15.676Z"
   },
   {
    "duration": 0,
    "start_time": "2023-03-02T13:28:15.677Z"
   },
   {
    "duration": 0,
    "start_time": "2023-03-02T13:28:15.678Z"
   },
   {
    "duration": 0,
    "start_time": "2023-03-02T13:28:15.679Z"
   },
   {
    "duration": 0,
    "start_time": "2023-03-02T13:28:15.681Z"
   },
   {
    "duration": 0,
    "start_time": "2023-03-02T13:28:15.682Z"
   },
   {
    "duration": 0,
    "start_time": "2023-03-02T13:28:15.683Z"
   },
   {
    "duration": 0,
    "start_time": "2023-03-02T13:28:15.684Z"
   },
   {
    "duration": 0,
    "start_time": "2023-03-02T13:28:15.685Z"
   },
   {
    "duration": 0,
    "start_time": "2023-03-02T13:28:15.686Z"
   },
   {
    "duration": 0,
    "start_time": "2023-03-02T13:28:15.688Z"
   },
   {
    "duration": 0,
    "start_time": "2023-03-02T13:28:15.689Z"
   },
   {
    "duration": 0,
    "start_time": "2023-03-02T13:28:15.690Z"
   },
   {
    "duration": 4,
    "start_time": "2023-03-02T13:33:17.782Z"
   },
   {
    "duration": 407,
    "start_time": "2023-03-02T13:33:49.561Z"
   },
   {
    "duration": 192,
    "start_time": "2023-03-02T13:33:49.970Z"
   },
   {
    "duration": 19,
    "start_time": "2023-03-02T13:33:50.165Z"
   },
   {
    "duration": 45,
    "start_time": "2023-03-02T13:33:50.186Z"
   },
   {
    "duration": 6,
    "start_time": "2023-03-02T13:33:50.233Z"
   },
   {
    "duration": 13,
    "start_time": "2023-03-02T13:33:50.241Z"
   },
   {
    "duration": 26,
    "start_time": "2023-03-02T13:33:50.256Z"
   },
   {
    "duration": 16,
    "start_time": "2023-03-02T13:33:50.284Z"
   },
   {
    "duration": 34,
    "start_time": "2023-03-02T13:33:50.302Z"
   },
   {
    "duration": 22,
    "start_time": "2023-03-02T13:33:50.340Z"
   },
   {
    "duration": 27,
    "start_time": "2023-03-02T13:33:50.364Z"
   },
   {
    "duration": 111,
    "start_time": "2023-03-02T13:33:50.393Z"
   },
   {
    "duration": 92,
    "start_time": "2023-03-02T13:33:50.506Z"
   },
   {
    "duration": 78,
    "start_time": "2023-03-02T13:33:50.600Z"
   },
   {
    "duration": 52,
    "start_time": "2023-03-02T13:33:50.680Z"
   },
   {
    "duration": 34,
    "start_time": "2023-03-02T13:33:50.734Z"
   },
   {
    "duration": 62,
    "start_time": "2023-03-02T13:33:50.770Z"
   },
   {
    "duration": 12,
    "start_time": "2023-03-02T13:33:50.834Z"
   },
   {
    "duration": 37,
    "start_time": "2023-03-02T13:33:50.848Z"
   },
   {
    "duration": 4,
    "start_time": "2023-03-02T13:33:50.887Z"
   },
   {
    "duration": 33,
    "start_time": "2023-03-02T13:33:50.892Z"
   },
   {
    "duration": 15,
    "start_time": "2023-03-02T13:33:50.927Z"
   },
   {
    "duration": 45,
    "start_time": "2023-03-02T13:33:50.944Z"
   },
   {
    "duration": 15,
    "start_time": "2023-03-02T13:33:50.990Z"
   },
   {
    "duration": 26,
    "start_time": "2023-03-02T13:33:51.007Z"
   },
   {
    "duration": 15,
    "start_time": "2023-03-02T13:33:51.034Z"
   },
   {
    "duration": 11,
    "start_time": "2023-03-02T13:33:51.050Z"
   },
   {
    "duration": 17,
    "start_time": "2023-03-02T13:33:51.064Z"
   },
   {
    "duration": 10,
    "start_time": "2023-03-02T13:33:51.083Z"
   },
   {
    "duration": 30,
    "start_time": "2023-03-02T13:33:51.094Z"
   },
   {
    "duration": 786,
    "start_time": "2023-03-02T13:33:51.126Z"
   },
   {
    "duration": 0,
    "start_time": "2023-03-02T13:33:51.914Z"
   },
   {
    "duration": 0,
    "start_time": "2023-03-02T13:33:51.915Z"
   },
   {
    "duration": 0,
    "start_time": "2023-03-02T13:33:51.916Z"
   },
   {
    "duration": 0,
    "start_time": "2023-03-02T13:33:51.917Z"
   },
   {
    "duration": 0,
    "start_time": "2023-03-02T13:33:51.918Z"
   },
   {
    "duration": 0,
    "start_time": "2023-03-02T13:33:51.920Z"
   },
   {
    "duration": 1,
    "start_time": "2023-03-02T13:33:51.920Z"
   },
   {
    "duration": 4,
    "start_time": "2023-03-02T13:35:59.640Z"
   },
   {
    "duration": 3,
    "start_time": "2023-03-02T13:37:59.757Z"
   },
   {
    "duration": 4,
    "start_time": "2023-03-02T13:45:37.356Z"
   },
   {
    "duration": 4,
    "start_time": "2023-03-02T13:47:04.390Z"
   },
   {
    "duration": 440,
    "start_time": "2023-03-02T13:47:21.318Z"
   },
   {
    "duration": 183,
    "start_time": "2023-03-02T13:47:21.760Z"
   },
   {
    "duration": 18,
    "start_time": "2023-03-02T13:47:21.946Z"
   },
   {
    "duration": 32,
    "start_time": "2023-03-02T13:47:21.965Z"
   },
   {
    "duration": 25,
    "start_time": "2023-03-02T13:47:21.999Z"
   },
   {
    "duration": 38,
    "start_time": "2023-03-02T13:47:22.026Z"
   },
   {
    "duration": 22,
    "start_time": "2023-03-02T13:47:22.066Z"
   },
   {
    "duration": 11,
    "start_time": "2023-03-02T13:47:22.089Z"
   },
   {
    "duration": 34,
    "start_time": "2023-03-02T13:47:22.102Z"
   },
   {
    "duration": 30,
    "start_time": "2023-03-02T13:47:22.139Z"
   },
   {
    "duration": 25,
    "start_time": "2023-03-02T13:47:22.171Z"
   },
   {
    "duration": 98,
    "start_time": "2023-03-02T13:47:22.198Z"
   },
   {
    "duration": 90,
    "start_time": "2023-03-02T13:47:22.297Z"
   },
   {
    "duration": 81,
    "start_time": "2023-03-02T13:47:22.391Z"
   },
   {
    "duration": 51,
    "start_time": "2023-03-02T13:47:22.474Z"
   },
   {
    "duration": 25,
    "start_time": "2023-03-02T13:47:22.526Z"
   },
   {
    "duration": 41,
    "start_time": "2023-03-02T13:47:22.553Z"
   },
   {
    "duration": 29,
    "start_time": "2023-03-02T13:47:22.595Z"
   },
   {
    "duration": 12,
    "start_time": "2023-03-02T13:47:22.626Z"
   },
   {
    "duration": 4,
    "start_time": "2023-03-02T13:47:22.640Z"
   },
   {
    "duration": 28,
    "start_time": "2023-03-02T13:47:22.646Z"
   },
   {
    "duration": 51,
    "start_time": "2023-03-02T13:47:22.676Z"
   },
   {
    "duration": 23,
    "start_time": "2023-03-02T13:47:22.729Z"
   },
   {
    "duration": 19,
    "start_time": "2023-03-02T13:47:22.754Z"
   },
   {
    "duration": 50,
    "start_time": "2023-03-02T13:47:22.775Z"
   },
   {
    "duration": 20,
    "start_time": "2023-03-02T13:47:22.827Z"
   },
   {
    "duration": 9,
    "start_time": "2023-03-02T13:47:22.849Z"
   },
   {
    "duration": 18,
    "start_time": "2023-03-02T13:47:22.860Z"
   },
   {
    "duration": 11,
    "start_time": "2023-03-02T13:47:22.880Z"
   },
   {
    "duration": 31,
    "start_time": "2023-03-02T13:47:22.893Z"
   },
   {
    "duration": 817,
    "start_time": "2023-03-02T13:47:22.927Z"
   },
   {
    "duration": 0,
    "start_time": "2023-03-02T13:47:23.746Z"
   },
   {
    "duration": 0,
    "start_time": "2023-03-02T13:47:23.748Z"
   },
   {
    "duration": 0,
    "start_time": "2023-03-02T13:47:23.749Z"
   },
   {
    "duration": 0,
    "start_time": "2023-03-02T13:47:23.750Z"
   },
   {
    "duration": 0,
    "start_time": "2023-03-02T13:47:23.751Z"
   },
   {
    "duration": 0,
    "start_time": "2023-03-02T13:47:23.752Z"
   },
   {
    "duration": 0,
    "start_time": "2023-03-02T13:47:23.753Z"
   },
   {
    "duration": 4,
    "start_time": "2023-03-02T13:48:51.746Z"
   },
   {
    "duration": 4,
    "start_time": "2023-03-02T13:48:53.744Z"
   },
   {
    "duration": 4,
    "start_time": "2023-03-02T13:53:42.060Z"
   },
   {
    "duration": 4,
    "start_time": "2023-03-02T13:57:42.278Z"
   },
   {
    "duration": 43,
    "start_time": "2023-03-02T13:57:57.212Z"
   },
   {
    "duration": 3,
    "start_time": "2023-03-02T13:58:15.130Z"
   },
   {
    "duration": 3,
    "start_time": "2023-03-02T13:58:22.614Z"
   },
   {
    "duration": 46,
    "start_time": "2023-03-02T13:58:34.631Z"
   },
   {
    "duration": 4,
    "start_time": "2023-03-02T13:58:40.929Z"
   },
   {
    "duration": 27,
    "start_time": "2023-03-02T14:07:31.028Z"
   },
   {
    "duration": 5,
    "start_time": "2023-03-02T14:09:28.963Z"
   },
   {
    "duration": 4,
    "start_time": "2023-03-02T14:09:43.228Z"
   },
   {
    "duration": 3,
    "start_time": "2023-03-02T14:09:56.045Z"
   },
   {
    "duration": 4,
    "start_time": "2023-03-02T14:10:25.701Z"
   },
   {
    "duration": 476,
    "start_time": "2023-03-02T14:12:08.909Z"
   },
   {
    "duration": 194,
    "start_time": "2023-03-02T14:12:09.387Z"
   },
   {
    "duration": 19,
    "start_time": "2023-03-02T14:12:09.583Z"
   },
   {
    "duration": 41,
    "start_time": "2023-03-02T14:12:09.604Z"
   },
   {
    "duration": 7,
    "start_time": "2023-03-02T14:12:09.647Z"
   },
   {
    "duration": 25,
    "start_time": "2023-03-02T14:12:09.656Z"
   },
   {
    "duration": 15,
    "start_time": "2023-03-02T14:12:09.682Z"
   },
   {
    "duration": 20,
    "start_time": "2023-03-02T14:12:09.699Z"
   },
   {
    "duration": 33,
    "start_time": "2023-03-02T14:12:09.721Z"
   },
   {
    "duration": 24,
    "start_time": "2023-03-02T14:12:09.758Z"
   },
   {
    "duration": 40,
    "start_time": "2023-03-02T14:12:09.784Z"
   },
   {
    "duration": 72,
    "start_time": "2023-03-02T14:12:09.826Z"
   },
   {
    "duration": 95,
    "start_time": "2023-03-02T14:12:09.900Z"
   },
   {
    "duration": 77,
    "start_time": "2023-03-02T14:12:09.997Z"
   },
   {
    "duration": 51,
    "start_time": "2023-03-02T14:12:10.075Z"
   },
   {
    "duration": 28,
    "start_time": "2023-03-02T14:12:10.128Z"
   },
   {
    "duration": 48,
    "start_time": "2023-03-02T14:12:10.158Z"
   },
   {
    "duration": 13,
    "start_time": "2023-03-02T14:12:10.223Z"
   },
   {
    "duration": 13,
    "start_time": "2023-03-02T14:12:10.238Z"
   },
   {
    "duration": 4,
    "start_time": "2023-03-02T14:12:10.253Z"
   },
   {
    "duration": 96,
    "start_time": "2023-03-02T14:12:10.259Z"
   },
   {
    "duration": 0,
    "start_time": "2023-03-02T14:12:10.358Z"
   },
   {
    "duration": 0,
    "start_time": "2023-03-02T14:12:10.359Z"
   },
   {
    "duration": 0,
    "start_time": "2023-03-02T14:12:10.361Z"
   },
   {
    "duration": 0,
    "start_time": "2023-03-02T14:12:10.363Z"
   },
   {
    "duration": 1,
    "start_time": "2023-03-02T14:12:10.363Z"
   },
   {
    "duration": 0,
    "start_time": "2023-03-02T14:12:10.365Z"
   },
   {
    "duration": 0,
    "start_time": "2023-03-02T14:12:10.366Z"
   },
   {
    "duration": 0,
    "start_time": "2023-03-02T14:12:10.367Z"
   },
   {
    "duration": 0,
    "start_time": "2023-03-02T14:12:10.368Z"
   },
   {
    "duration": 0,
    "start_time": "2023-03-02T14:12:10.369Z"
   },
   {
    "duration": 0,
    "start_time": "2023-03-02T14:12:10.370Z"
   },
   {
    "duration": 0,
    "start_time": "2023-03-02T14:12:10.372Z"
   },
   {
    "duration": 0,
    "start_time": "2023-03-02T14:12:10.373Z"
   },
   {
    "duration": 0,
    "start_time": "2023-03-02T14:12:10.374Z"
   },
   {
    "duration": 0,
    "start_time": "2023-03-02T14:12:10.375Z"
   },
   {
    "duration": 0,
    "start_time": "2023-03-02T14:12:10.376Z"
   },
   {
    "duration": 0,
    "start_time": "2023-03-02T14:12:10.377Z"
   },
   {
    "duration": 5,
    "start_time": "2023-03-02T14:13:20.812Z"
   },
   {
    "duration": 7,
    "start_time": "2023-03-02T14:33:04.132Z"
   },
   {
    "duration": 7,
    "start_time": "2023-03-02T14:33:08.798Z"
   },
   {
    "duration": 25,
    "start_time": "2023-03-02T14:33:25.534Z"
   },
   {
    "duration": 22,
    "start_time": "2023-03-02T14:33:33.516Z"
   },
   {
    "duration": 26,
    "start_time": "2023-03-02T14:33:38.331Z"
   },
   {
    "duration": 21,
    "start_time": "2023-03-02T14:33:42.798Z"
   },
   {
    "duration": 24,
    "start_time": "2023-03-02T14:33:46.881Z"
   },
   {
    "duration": 21,
    "start_time": "2023-03-02T14:33:56.529Z"
   },
   {
    "duration": 3,
    "start_time": "2023-03-02T15:32:08.708Z"
   },
   {
    "duration": 58,
    "start_time": "2023-03-02T15:33:33.073Z"
   },
   {
    "duration": 42,
    "start_time": "2023-03-02T15:33:42.774Z"
   },
   {
    "duration": 4,
    "start_time": "2023-03-02T15:59:18.823Z"
   },
   {
    "duration": 5,
    "start_time": "2023-03-02T15:59:59.075Z"
   },
   {
    "duration": 5,
    "start_time": "2023-03-02T16:00:01.091Z"
   },
   {
    "duration": 4,
    "start_time": "2023-03-02T16:01:03.424Z"
   },
   {
    "duration": 3,
    "start_time": "2023-03-02T16:03:02.529Z"
   },
   {
    "duration": 469,
    "start_time": "2023-03-02T16:03:25.485Z"
   },
   {
    "duration": 179,
    "start_time": "2023-03-02T16:03:25.956Z"
   },
   {
    "duration": 20,
    "start_time": "2023-03-02T16:03:26.137Z"
   },
   {
    "duration": 32,
    "start_time": "2023-03-02T16:03:26.159Z"
   },
   {
    "duration": 3,
    "start_time": "2023-03-02T16:03:26.193Z"
   },
   {
    "duration": 5,
    "start_time": "2023-03-02T16:03:26.223Z"
   },
   {
    "duration": 16,
    "start_time": "2023-03-02T16:03:26.230Z"
   },
   {
    "duration": 8,
    "start_time": "2023-03-02T16:03:26.248Z"
   },
   {
    "duration": 27,
    "start_time": "2023-03-02T16:03:26.257Z"
   },
   {
    "duration": 44,
    "start_time": "2023-03-02T16:03:26.287Z"
   },
   {
    "duration": 27,
    "start_time": "2023-03-02T16:03:26.333Z"
   },
   {
    "duration": 83,
    "start_time": "2023-03-02T16:03:26.361Z"
   },
   {
    "duration": 86,
    "start_time": "2023-03-02T16:03:26.446Z"
   },
   {
    "duration": 71,
    "start_time": "2023-03-02T16:03:26.534Z"
   },
   {
    "duration": 55,
    "start_time": "2023-03-02T16:03:26.606Z"
   },
   {
    "duration": 26,
    "start_time": "2023-03-02T16:03:26.662Z"
   },
   {
    "duration": 61,
    "start_time": "2023-03-02T16:03:26.689Z"
   },
   {
    "duration": 11,
    "start_time": "2023-03-02T16:03:26.752Z"
   },
   {
    "duration": 11,
    "start_time": "2023-03-02T16:03:26.765Z"
   },
   {
    "duration": 4,
    "start_time": "2023-03-02T16:03:26.777Z"
   },
   {
    "duration": 91,
    "start_time": "2023-03-02T16:03:26.783Z"
   },
   {
    "duration": 0,
    "start_time": "2023-03-02T16:03:26.876Z"
   },
   {
    "duration": 0,
    "start_time": "2023-03-02T16:03:26.877Z"
   },
   {
    "duration": 0,
    "start_time": "2023-03-02T16:03:26.878Z"
   },
   {
    "duration": 0,
    "start_time": "2023-03-02T16:03:26.880Z"
   },
   {
    "duration": 0,
    "start_time": "2023-03-02T16:03:26.881Z"
   },
   {
    "duration": 0,
    "start_time": "2023-03-02T16:03:26.882Z"
   },
   {
    "duration": 0,
    "start_time": "2023-03-02T16:03:26.884Z"
   },
   {
    "duration": 0,
    "start_time": "2023-03-02T16:03:26.885Z"
   },
   {
    "duration": 0,
    "start_time": "2023-03-02T16:03:26.886Z"
   },
   {
    "duration": 0,
    "start_time": "2023-03-02T16:03:26.887Z"
   },
   {
    "duration": 0,
    "start_time": "2023-03-02T16:03:26.888Z"
   },
   {
    "duration": 0,
    "start_time": "2023-03-02T16:03:26.889Z"
   },
   {
    "duration": 0,
    "start_time": "2023-03-02T16:03:26.890Z"
   },
   {
    "duration": 0,
    "start_time": "2023-03-02T16:03:26.892Z"
   },
   {
    "duration": 0,
    "start_time": "2023-03-02T16:03:26.893Z"
   },
   {
    "duration": 0,
    "start_time": "2023-03-02T16:03:26.924Z"
   },
   {
    "duration": 0,
    "start_time": "2023-03-02T16:03:26.925Z"
   },
   {
    "duration": 4,
    "start_time": "2023-03-02T16:04:21.907Z"
   },
   {
    "duration": 4,
    "start_time": "2023-03-02T16:07:20.072Z"
   },
   {
    "duration": 4,
    "start_time": "2023-03-02T16:10:50.506Z"
   },
   {
    "duration": 4,
    "start_time": "2023-03-02T16:11:52.206Z"
   },
   {
    "duration": 393,
    "start_time": "2023-03-02T16:21:27.873Z"
   },
   {
    "duration": 186,
    "start_time": "2023-03-02T16:21:28.269Z"
   },
   {
    "duration": 16,
    "start_time": "2023-03-02T16:21:28.457Z"
   },
   {
    "duration": 40,
    "start_time": "2023-03-02T16:21:28.475Z"
   },
   {
    "duration": 3,
    "start_time": "2023-03-02T16:21:28.525Z"
   },
   {
    "duration": 7,
    "start_time": "2023-03-02T16:21:28.530Z"
   },
   {
    "duration": 15,
    "start_time": "2023-03-02T16:21:28.539Z"
   },
   {
    "duration": 6,
    "start_time": "2023-03-02T16:21:28.556Z"
   },
   {
    "duration": 32,
    "start_time": "2023-03-02T16:21:28.564Z"
   },
   {
    "duration": 43,
    "start_time": "2023-03-02T16:21:28.598Z"
   },
   {
    "duration": 26,
    "start_time": "2023-03-02T16:21:28.643Z"
   },
   {
    "duration": 90,
    "start_time": "2023-03-02T16:21:28.671Z"
   },
   {
    "duration": 96,
    "start_time": "2023-03-02T16:21:28.763Z"
   },
   {
    "duration": 88,
    "start_time": "2023-03-02T16:21:28.862Z"
   },
   {
    "duration": 46,
    "start_time": "2023-03-02T16:21:28.952Z"
   },
   {
    "duration": 38,
    "start_time": "2023-03-02T16:21:29.001Z"
   },
   {
    "duration": 42,
    "start_time": "2023-03-02T16:21:29.041Z"
   },
   {
    "duration": 19,
    "start_time": "2023-03-02T16:21:29.084Z"
   },
   {
    "duration": 29,
    "start_time": "2023-03-02T16:21:29.105Z"
   },
   {
    "duration": 4,
    "start_time": "2023-03-02T16:21:29.137Z"
   },
   {
    "duration": 40,
    "start_time": "2023-03-02T16:21:29.143Z"
   },
   {
    "duration": 22,
    "start_time": "2023-03-02T16:21:29.185Z"
   },
   {
    "duration": 24,
    "start_time": "2023-03-02T16:21:29.225Z"
   },
   {
    "duration": 21,
    "start_time": "2023-03-02T16:21:29.251Z"
   },
   {
    "duration": 25,
    "start_time": "2023-03-02T16:21:29.273Z"
   },
   {
    "duration": 43,
    "start_time": "2023-03-02T16:21:29.300Z"
   },
   {
    "duration": 10,
    "start_time": "2023-03-02T16:21:29.345Z"
   },
   {
    "duration": 19,
    "start_time": "2023-03-02T16:21:29.357Z"
   },
   {
    "duration": 12,
    "start_time": "2023-03-02T16:21:29.377Z"
   },
   {
    "duration": 36,
    "start_time": "2023-03-02T16:21:29.391Z"
   },
   {
    "duration": 917,
    "start_time": "2023-03-02T16:21:29.429Z"
   },
   {
    "duration": 0,
    "start_time": "2023-03-02T16:21:30.348Z"
   },
   {
    "duration": 0,
    "start_time": "2023-03-02T16:21:30.349Z"
   },
   {
    "duration": 0,
    "start_time": "2023-03-02T16:21:30.350Z"
   },
   {
    "duration": 0,
    "start_time": "2023-03-02T16:21:30.352Z"
   },
   {
    "duration": 0,
    "start_time": "2023-03-02T16:21:30.353Z"
   },
   {
    "duration": 0,
    "start_time": "2023-03-02T16:21:30.354Z"
   },
   {
    "duration": 0,
    "start_time": "2023-03-02T16:21:30.355Z"
   },
   {
    "duration": 4,
    "start_time": "2023-03-02T16:21:54.695Z"
   },
   {
    "duration": 3,
    "start_time": "2023-03-02T16:31:20.145Z"
   },
   {
    "duration": 5,
    "start_time": "2023-03-02T16:34:16.912Z"
   },
   {
    "duration": 4,
    "start_time": "2023-03-02T16:34:19.544Z"
   },
   {
    "duration": 8,
    "start_time": "2023-03-02T16:34:31.778Z"
   },
   {
    "duration": 3,
    "start_time": "2023-03-02T16:34:43.863Z"
   },
   {
    "duration": 4,
    "start_time": "2023-03-02T16:34:45.812Z"
   },
   {
    "duration": 9,
    "start_time": "2023-03-02T16:34:59.363Z"
   },
   {
    "duration": 424,
    "start_time": "2023-03-02T16:35:33.968Z"
   },
   {
    "duration": 183,
    "start_time": "2023-03-02T16:35:34.394Z"
   },
   {
    "duration": 19,
    "start_time": "2023-03-02T16:35:34.578Z"
   },
   {
    "duration": 48,
    "start_time": "2023-03-02T16:35:34.599Z"
   },
   {
    "duration": 3,
    "start_time": "2023-03-02T16:35:34.649Z"
   },
   {
    "duration": 6,
    "start_time": "2023-03-02T16:35:34.654Z"
   },
   {
    "duration": 17,
    "start_time": "2023-03-02T16:35:34.662Z"
   },
   {
    "duration": 24,
    "start_time": "2023-03-02T16:35:34.681Z"
   },
   {
    "duration": 27,
    "start_time": "2023-03-02T16:35:34.723Z"
   },
   {
    "duration": 25,
    "start_time": "2023-03-02T16:35:34.752Z"
   },
   {
    "duration": 28,
    "start_time": "2023-03-02T16:35:34.779Z"
   },
   {
    "duration": 87,
    "start_time": "2023-03-02T16:35:34.808Z"
   },
   {
    "duration": 96,
    "start_time": "2023-03-02T16:35:34.897Z"
   },
   {
    "duration": 81,
    "start_time": "2023-03-02T16:35:34.997Z"
   },
   {
    "duration": 60,
    "start_time": "2023-03-02T16:35:35.080Z"
   },
   {
    "duration": 27,
    "start_time": "2023-03-02T16:35:35.143Z"
   },
   {
    "duration": 60,
    "start_time": "2023-03-02T16:35:35.172Z"
   },
   {
    "duration": 12,
    "start_time": "2023-03-02T16:35:35.234Z"
   },
   {
    "duration": 12,
    "start_time": "2023-03-02T16:35:35.248Z"
   },
   {
    "duration": 6,
    "start_time": "2023-03-02T16:35:35.262Z"
   },
   {
    "duration": 92,
    "start_time": "2023-03-02T16:35:35.270Z"
   },
   {
    "duration": 0,
    "start_time": "2023-03-02T16:35:35.364Z"
   },
   {
    "duration": 0,
    "start_time": "2023-03-02T16:35:35.366Z"
   },
   {
    "duration": 0,
    "start_time": "2023-03-02T16:35:35.368Z"
   },
   {
    "duration": 0,
    "start_time": "2023-03-02T16:35:35.368Z"
   },
   {
    "duration": 0,
    "start_time": "2023-03-02T16:35:35.370Z"
   },
   {
    "duration": 0,
    "start_time": "2023-03-02T16:35:35.371Z"
   },
   {
    "duration": 0,
    "start_time": "2023-03-02T16:35:35.372Z"
   },
   {
    "duration": 0,
    "start_time": "2023-03-02T16:35:35.373Z"
   },
   {
    "duration": 0,
    "start_time": "2023-03-02T16:35:35.375Z"
   },
   {
    "duration": 1,
    "start_time": "2023-03-02T16:35:35.376Z"
   },
   {
    "duration": 0,
    "start_time": "2023-03-02T16:35:35.378Z"
   },
   {
    "duration": 0,
    "start_time": "2023-03-02T16:35:35.380Z"
   },
   {
    "duration": 0,
    "start_time": "2023-03-02T16:35:35.381Z"
   },
   {
    "duration": 0,
    "start_time": "2023-03-02T16:35:35.382Z"
   },
   {
    "duration": 0,
    "start_time": "2023-03-02T16:35:35.384Z"
   },
   {
    "duration": 0,
    "start_time": "2023-03-02T16:35:35.385Z"
   },
   {
    "duration": 0,
    "start_time": "2023-03-02T16:35:35.387Z"
   },
   {
    "duration": 3,
    "start_time": "2023-03-02T16:36:32.243Z"
   },
   {
    "duration": 19,
    "start_time": "2023-03-02T16:38:15.026Z"
   },
   {
    "duration": 16,
    "start_time": "2023-03-02T16:39:15.110Z"
   },
   {
    "duration": 16,
    "start_time": "2023-03-02T16:39:17.840Z"
   },
   {
    "duration": 15,
    "start_time": "2023-03-02T16:39:22.074Z"
   },
   {
    "duration": 19,
    "start_time": "2023-03-02T16:39:24.165Z"
   },
   {
    "duration": 15,
    "start_time": "2023-03-02T16:39:39.107Z"
   },
   {
    "duration": 10,
    "start_time": "2023-03-02T16:40:22.874Z"
   },
   {
    "duration": 14,
    "start_time": "2023-03-02T16:40:32.717Z"
   },
   {
    "duration": 12,
    "start_time": "2023-03-02T16:40:34.898Z"
   },
   {
    "duration": 5,
    "start_time": "2023-03-02T16:43:20.474Z"
   },
   {
    "duration": 4,
    "start_time": "2023-03-02T16:45:02.351Z"
   },
   {
    "duration": 6,
    "start_time": "2023-03-02T16:48:40.811Z"
   },
   {
    "duration": 4,
    "start_time": "2023-03-02T16:52:01.217Z"
   },
   {
    "duration": 5,
    "start_time": "2023-03-02T16:56:00.276Z"
   },
   {
    "duration": 4,
    "start_time": "2023-03-02T16:56:02.625Z"
   },
   {
    "duration": 5,
    "start_time": "2023-03-02T16:58:25.275Z"
   },
   {
    "duration": 5,
    "start_time": "2023-03-02T17:05:06.663Z"
   },
   {
    "duration": 5,
    "start_time": "2023-03-02T17:09:39.977Z"
   },
   {
    "duration": 446,
    "start_time": "2023-03-02T17:12:51.123Z"
   },
   {
    "duration": 184,
    "start_time": "2023-03-02T17:12:51.572Z"
   },
   {
    "duration": 18,
    "start_time": "2023-03-02T17:12:51.757Z"
   },
   {
    "duration": 48,
    "start_time": "2023-03-02T17:12:51.777Z"
   },
   {
    "duration": 2,
    "start_time": "2023-03-02T17:12:51.827Z"
   },
   {
    "duration": 5,
    "start_time": "2023-03-02T17:12:51.831Z"
   },
   {
    "duration": 12,
    "start_time": "2023-03-02T17:12:51.838Z"
   },
   {
    "duration": 8,
    "start_time": "2023-03-02T17:12:51.852Z"
   },
   {
    "duration": 29,
    "start_time": "2023-03-02T17:12:51.861Z"
   },
   {
    "duration": 46,
    "start_time": "2023-03-02T17:12:51.892Z"
   },
   {
    "duration": 27,
    "start_time": "2023-03-02T17:12:51.940Z"
   },
   {
    "duration": 84,
    "start_time": "2023-03-02T17:12:51.970Z"
   },
   {
    "duration": 86,
    "start_time": "2023-03-02T17:12:52.056Z"
   },
   {
    "duration": 68,
    "start_time": "2023-03-02T17:12:52.145Z"
   },
   {
    "duration": 43,
    "start_time": "2023-03-02T17:12:52.224Z"
   },
   {
    "duration": 29,
    "start_time": "2023-03-02T17:12:52.269Z"
   },
   {
    "duration": 65,
    "start_time": "2023-03-02T17:12:52.300Z"
   },
   {
    "duration": 10,
    "start_time": "2023-03-02T17:12:52.367Z"
   },
   {
    "duration": 12,
    "start_time": "2023-03-02T17:12:52.379Z"
   },
   {
    "duration": 3,
    "start_time": "2023-03-02T17:12:52.393Z"
   },
   {
    "duration": 17,
    "start_time": "2023-03-02T17:12:52.424Z"
   },
   {
    "duration": 15,
    "start_time": "2023-03-02T17:12:52.443Z"
   },
   {
    "duration": 22,
    "start_time": "2023-03-02T17:12:52.460Z"
   },
   {
    "duration": 14,
    "start_time": "2023-03-02T17:12:52.484Z"
   },
   {
    "duration": 39,
    "start_time": "2023-03-02T17:12:52.500Z"
   },
   {
    "duration": 15,
    "start_time": "2023-03-02T17:12:52.541Z"
   },
   {
    "duration": 9,
    "start_time": "2023-03-02T17:12:52.558Z"
   },
   {
    "duration": 11,
    "start_time": "2023-03-02T17:12:52.569Z"
   },
   {
    "duration": 42,
    "start_time": "2023-03-02T17:12:52.582Z"
   },
   {
    "duration": 4,
    "start_time": "2023-03-02T17:12:52.627Z"
   },
   {
    "duration": 98,
    "start_time": "2023-03-02T17:12:52.633Z"
   },
   {
    "duration": 0,
    "start_time": "2023-03-02T17:12:52.733Z"
   },
   {
    "duration": 0,
    "start_time": "2023-03-02T17:12:52.735Z"
   },
   {
    "duration": 0,
    "start_time": "2023-03-02T17:12:52.736Z"
   },
   {
    "duration": 0,
    "start_time": "2023-03-02T17:12:52.737Z"
   },
   {
    "duration": 0,
    "start_time": "2023-03-02T17:12:52.738Z"
   },
   {
    "duration": 0,
    "start_time": "2023-03-02T17:12:52.739Z"
   },
   {
    "duration": 0,
    "start_time": "2023-03-02T17:12:52.740Z"
   },
   {
    "duration": 5,
    "start_time": "2023-03-02T17:17:22.485Z"
   },
   {
    "duration": 5,
    "start_time": "2023-03-02T18:35:16.748Z"
   },
   {
    "duration": 412,
    "start_time": "2023-03-03T04:28:23.854Z"
   },
   {
    "duration": 189,
    "start_time": "2023-03-03T04:28:24.268Z"
   },
   {
    "duration": 19,
    "start_time": "2023-03-03T04:28:24.459Z"
   },
   {
    "duration": 50,
    "start_time": "2023-03-03T04:28:24.480Z"
   },
   {
    "duration": 3,
    "start_time": "2023-03-03T04:28:24.532Z"
   },
   {
    "duration": 14,
    "start_time": "2023-03-03T04:28:24.536Z"
   },
   {
    "duration": 12,
    "start_time": "2023-03-03T04:28:24.552Z"
   },
   {
    "duration": 20,
    "start_time": "2023-03-03T04:28:24.566Z"
   },
   {
    "duration": 29,
    "start_time": "2023-03-03T04:28:24.588Z"
   },
   {
    "duration": 22,
    "start_time": "2023-03-03T04:28:24.624Z"
   },
   {
    "duration": 46,
    "start_time": "2023-03-03T04:28:24.647Z"
   },
   {
    "duration": 73,
    "start_time": "2023-03-03T04:28:24.694Z"
   },
   {
    "duration": 91,
    "start_time": "2023-03-03T04:28:24.769Z"
   },
   {
    "duration": 73,
    "start_time": "2023-03-03T04:28:24.862Z"
   },
   {
    "duration": 42,
    "start_time": "2023-03-03T04:28:24.936Z"
   },
   {
    "duration": 44,
    "start_time": "2023-03-03T04:28:24.980Z"
   },
   {
    "duration": 43,
    "start_time": "2023-03-03T04:28:25.026Z"
   },
   {
    "duration": 11,
    "start_time": "2023-03-03T04:28:25.071Z"
   },
   {
    "duration": 11,
    "start_time": "2023-03-03T04:28:25.084Z"
   },
   {
    "duration": 28,
    "start_time": "2023-03-03T04:28:25.097Z"
   },
   {
    "duration": 21,
    "start_time": "2023-03-03T04:28:25.126Z"
   },
   {
    "duration": 15,
    "start_time": "2023-03-03T04:28:25.149Z"
   },
   {
    "duration": 24,
    "start_time": "2023-03-03T04:28:25.165Z"
   },
   {
    "duration": 35,
    "start_time": "2023-03-03T04:28:25.191Z"
   },
   {
    "duration": 16,
    "start_time": "2023-03-03T04:28:25.228Z"
   },
   {
    "duration": 13,
    "start_time": "2023-03-03T04:28:25.246Z"
   },
   {
    "duration": 8,
    "start_time": "2023-03-03T04:28:25.261Z"
   },
   {
    "duration": 11,
    "start_time": "2023-03-03T04:28:25.273Z"
   },
   {
    "duration": 39,
    "start_time": "2023-03-03T04:28:25.285Z"
   },
   {
    "duration": 4,
    "start_time": "2023-03-03T04:28:25.326Z"
   },
   {
    "duration": 79,
    "start_time": "2023-03-03T04:28:25.332Z"
   },
   {
    "duration": 0,
    "start_time": "2023-03-03T04:28:25.424Z"
   },
   {
    "duration": 0,
    "start_time": "2023-03-03T04:28:25.425Z"
   },
   {
    "duration": 0,
    "start_time": "2023-03-03T04:28:25.427Z"
   },
   {
    "duration": 0,
    "start_time": "2023-03-03T04:28:25.428Z"
   },
   {
    "duration": 0,
    "start_time": "2023-03-03T04:28:25.429Z"
   },
   {
    "duration": 0,
    "start_time": "2023-03-03T04:28:25.430Z"
   },
   {
    "duration": 0,
    "start_time": "2023-03-03T04:28:25.431Z"
   },
   {
    "duration": 5,
    "start_time": "2023-03-03T04:29:59.302Z"
   },
   {
    "duration": 6,
    "start_time": "2023-03-03T04:36:39.083Z"
   },
   {
    "duration": 392,
    "start_time": "2023-03-03T04:40:25.283Z"
   },
   {
    "duration": 184,
    "start_time": "2023-03-03T04:40:25.677Z"
   },
   {
    "duration": 18,
    "start_time": "2023-03-03T04:40:25.863Z"
   },
   {
    "duration": 49,
    "start_time": "2023-03-03T04:40:25.883Z"
   },
   {
    "duration": 2,
    "start_time": "2023-03-03T04:40:25.934Z"
   },
   {
    "duration": 7,
    "start_time": "2023-03-03T04:40:25.938Z"
   },
   {
    "duration": 13,
    "start_time": "2023-03-03T04:40:25.947Z"
   },
   {
    "duration": 16,
    "start_time": "2023-03-03T04:40:25.962Z"
   },
   {
    "duration": 33,
    "start_time": "2023-03-03T04:40:25.980Z"
   },
   {
    "duration": 23,
    "start_time": "2023-03-03T04:40:26.023Z"
   },
   {
    "duration": 26,
    "start_time": "2023-03-03T04:40:26.047Z"
   },
   {
    "duration": 89,
    "start_time": "2023-03-03T04:40:26.075Z"
   },
   {
    "duration": 89,
    "start_time": "2023-03-03T04:40:26.166Z"
   },
   {
    "duration": 79,
    "start_time": "2023-03-03T04:40:26.257Z"
   },
   {
    "duration": 44,
    "start_time": "2023-03-03T04:40:26.337Z"
   },
   {
    "duration": 48,
    "start_time": "2023-03-03T04:40:26.383Z"
   },
   {
    "duration": 42,
    "start_time": "2023-03-03T04:40:26.432Z"
   },
   {
    "duration": 12,
    "start_time": "2023-03-03T04:40:26.476Z"
   },
   {
    "duration": 11,
    "start_time": "2023-03-03T04:40:26.489Z"
   },
   {
    "duration": 3,
    "start_time": "2023-03-03T04:40:26.525Z"
   },
   {
    "duration": 33,
    "start_time": "2023-03-03T04:40:26.530Z"
   },
   {
    "duration": 15,
    "start_time": "2023-03-03T04:40:26.565Z"
   },
   {
    "duration": 18,
    "start_time": "2023-03-03T04:40:26.581Z"
   },
   {
    "duration": 30,
    "start_time": "2023-03-03T04:40:26.601Z"
   },
   {
    "duration": 56,
    "start_time": "2023-03-03T04:40:26.633Z"
   },
   {
    "duration": 15,
    "start_time": "2023-03-03T04:40:26.691Z"
   },
   {
    "duration": 9,
    "start_time": "2023-03-03T04:40:26.707Z"
   },
   {
    "duration": 13,
    "start_time": "2023-03-03T04:40:26.720Z"
   },
   {
    "duration": 10,
    "start_time": "2023-03-03T04:40:26.735Z"
   },
   {
    "duration": 5,
    "start_time": "2023-03-03T04:40:26.747Z"
   },
   {
    "duration": 34,
    "start_time": "2023-03-03T04:40:26.753Z"
   },
   {
    "duration": 11,
    "start_time": "2023-03-03T04:40:26.789Z"
   },
   {
    "duration": 36,
    "start_time": "2023-03-03T04:40:26.802Z"
   },
   {
    "duration": 12,
    "start_time": "2023-03-03T04:40:26.840Z"
   },
   {
    "duration": 8,
    "start_time": "2023-03-03T04:40:26.854Z"
   },
   {
    "duration": 8,
    "start_time": "2023-03-03T04:40:26.863Z"
   },
   {
    "duration": 8,
    "start_time": "2023-03-03T04:40:26.873Z"
   },
   {
    "duration": 5,
    "start_time": "2023-03-03T04:40:26.883Z"
   }
  ],
  "colab": {
   "collapsed_sections": [
    "E0vqbgi9ay0H",
    "VUC88oWjTJw2"
   ],
   "provenance": []
  },
  "kernelspec": {
   "display_name": "Python 3 (ipykernel)",
   "language": "python",
   "name": "python3"
  },
  "language_info": {
   "codemirror_mode": {
    "name": "ipython",
    "version": 3
   },
   "file_extension": ".py",
   "mimetype": "text/x-python",
   "name": "python",
   "nbconvert_exporter": "python",
   "pygments_lexer": "ipython3",
   "version": "3.10.9"
  },
  "toc": {
   "base_numbering": 1,
   "nav_menu": {
    "height": "215px",
    "width": "403px"
   },
   "number_sections": true,
   "sideBar": true,
   "skip_h1_title": true,
   "title_cell": "Table of Contents",
   "title_sidebar": "Contents",
   "toc_cell": false,
   "toc_position": {
    "height": "calc(100% - 180px)",
    "left": "10px",
    "top": "150px",
    "width": "285.825px"
   },
   "toc_section_display": true,
   "toc_window_display": false
  }
 },
 "nbformat": 4,
 "nbformat_minor": 1
}
