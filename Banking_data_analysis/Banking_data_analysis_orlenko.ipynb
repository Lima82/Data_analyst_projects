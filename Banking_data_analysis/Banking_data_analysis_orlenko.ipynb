{
 "cells": [
  {
   "cell_type": "markdown",
   "id": "386f2ae7",
   "metadata": {
    "deletable": false,
    "editable": false,
    "id": "386f2ae7"
   },
   "source": [
    "# Исследование надежности заемщиков\n"
   ]
  },
  {
   "cell_type": "markdown",
   "id": "26613308",
   "metadata": {
    "deletable": false,
    "editable": false,
    "id": "26613308"
   },
   "source": [
    "## Откроем таблицу и изучим общую информацию о данных"
   ]
  },
  {
   "cell_type": "markdown",
   "id": "3c9f838e",
   "metadata": {
    "deletable": false,
    "editable": false,
    "id": "3c9f838e"
   },
   "source": [
    "**Задание 1**"
   ]
  },
  {
   "cell_type": "code",
   "execution_count": 1,
   "id": "77a68a90",
   "metadata": {
    "deletable": false,
    "id": "77a68a90"
   },
   "outputs": [],
   "source": [
    "# импорт библиотеки pandas и чтение файла data.csv\n",
    "import pandas as pd\n",
    "\n",
    "try:\n",
    "    data = pd.read_csv('/Users/marina/CSV_files/data.csv')\n",
    "except:\n",
    "    data = pd.read_csv('data.csv')"
   ]
  },
  {
   "cell_type": "markdown",
   "id": "45365635",
   "metadata": {
    "deletable": false,
    "editable": false,
    "id": "45365635"
   },
   "source": [
    "**Задание 2**"
   ]
  },
  {
   "cell_type": "code",
   "execution_count": 2,
   "id": "b0451a9a",
   "metadata": {
    "deletable": false,
    "id": "b0451a9a",
    "outputId": "1a8f3ef2-d323-4ec2-ddf7-89670b5944c4"
   },
   "outputs": [
    {
     "data": {
      "text/html": [
       "<div>\n",
       "<style scoped>\n",
       "    .dataframe tbody tr th:only-of-type {\n",
       "        vertical-align: middle;\n",
       "    }\n",
       "\n",
       "    .dataframe tbody tr th {\n",
       "        vertical-align: top;\n",
       "    }\n",
       "\n",
       "    .dataframe thead th {\n",
       "        text-align: right;\n",
       "    }\n",
       "</style>\n",
       "<table border=\"1\" class=\"dataframe\">\n",
       "  <thead>\n",
       "    <tr style=\"text-align: right;\">\n",
       "      <th></th>\n",
       "      <th>children</th>\n",
       "      <th>days_employed</th>\n",
       "      <th>dob_years</th>\n",
       "      <th>education</th>\n",
       "      <th>education_id</th>\n",
       "      <th>family_status</th>\n",
       "      <th>family_status_id</th>\n",
       "      <th>gender</th>\n",
       "      <th>income_type</th>\n",
       "      <th>debt</th>\n",
       "      <th>total_income</th>\n",
       "      <th>purpose</th>\n",
       "    </tr>\n",
       "  </thead>\n",
       "  <tbody>\n",
       "    <tr>\n",
       "      <th>0</th>\n",
       "      <td>1</td>\n",
       "      <td>-8437.673028</td>\n",
       "      <td>42</td>\n",
       "      <td>высшее</td>\n",
       "      <td>0</td>\n",
       "      <td>женат / замужем</td>\n",
       "      <td>0</td>\n",
       "      <td>F</td>\n",
       "      <td>сотрудник</td>\n",
       "      <td>0</td>\n",
       "      <td>253875.639453</td>\n",
       "      <td>покупка жилья</td>\n",
       "    </tr>\n",
       "    <tr>\n",
       "      <th>1</th>\n",
       "      <td>1</td>\n",
       "      <td>-4024.803754</td>\n",
       "      <td>36</td>\n",
       "      <td>среднее</td>\n",
       "      <td>1</td>\n",
       "      <td>женат / замужем</td>\n",
       "      <td>0</td>\n",
       "      <td>F</td>\n",
       "      <td>сотрудник</td>\n",
       "      <td>0</td>\n",
       "      <td>112080.014102</td>\n",
       "      <td>приобретение автомобиля</td>\n",
       "    </tr>\n",
       "    <tr>\n",
       "      <th>2</th>\n",
       "      <td>0</td>\n",
       "      <td>-5623.422610</td>\n",
       "      <td>33</td>\n",
       "      <td>Среднее</td>\n",
       "      <td>1</td>\n",
       "      <td>женат / замужем</td>\n",
       "      <td>0</td>\n",
       "      <td>M</td>\n",
       "      <td>сотрудник</td>\n",
       "      <td>0</td>\n",
       "      <td>145885.952297</td>\n",
       "      <td>покупка жилья</td>\n",
       "    </tr>\n",
       "    <tr>\n",
       "      <th>3</th>\n",
       "      <td>3</td>\n",
       "      <td>-4124.747207</td>\n",
       "      <td>32</td>\n",
       "      <td>среднее</td>\n",
       "      <td>1</td>\n",
       "      <td>женат / замужем</td>\n",
       "      <td>0</td>\n",
       "      <td>M</td>\n",
       "      <td>сотрудник</td>\n",
       "      <td>0</td>\n",
       "      <td>267628.550329</td>\n",
       "      <td>дополнительное образование</td>\n",
       "    </tr>\n",
       "    <tr>\n",
       "      <th>4</th>\n",
       "      <td>0</td>\n",
       "      <td>340266.072047</td>\n",
       "      <td>53</td>\n",
       "      <td>среднее</td>\n",
       "      <td>1</td>\n",
       "      <td>гражданский брак</td>\n",
       "      <td>1</td>\n",
       "      <td>F</td>\n",
       "      <td>пенсионер</td>\n",
       "      <td>0</td>\n",
       "      <td>158616.077870</td>\n",
       "      <td>сыграть свадьбу</td>\n",
       "    </tr>\n",
       "    <tr>\n",
       "      <th>5</th>\n",
       "      <td>0</td>\n",
       "      <td>-926.185831</td>\n",
       "      <td>27</td>\n",
       "      <td>высшее</td>\n",
       "      <td>0</td>\n",
       "      <td>гражданский брак</td>\n",
       "      <td>1</td>\n",
       "      <td>M</td>\n",
       "      <td>компаньон</td>\n",
       "      <td>0</td>\n",
       "      <td>255763.565419</td>\n",
       "      <td>покупка жилья</td>\n",
       "    </tr>\n",
       "    <tr>\n",
       "      <th>6</th>\n",
       "      <td>0</td>\n",
       "      <td>-2879.202052</td>\n",
       "      <td>43</td>\n",
       "      <td>высшее</td>\n",
       "      <td>0</td>\n",
       "      <td>женат / замужем</td>\n",
       "      <td>0</td>\n",
       "      <td>F</td>\n",
       "      <td>компаньон</td>\n",
       "      <td>0</td>\n",
       "      <td>240525.971920</td>\n",
       "      <td>операции с жильем</td>\n",
       "    </tr>\n",
       "    <tr>\n",
       "      <th>7</th>\n",
       "      <td>0</td>\n",
       "      <td>-152.779569</td>\n",
       "      <td>50</td>\n",
       "      <td>СРЕДНЕЕ</td>\n",
       "      <td>1</td>\n",
       "      <td>женат / замужем</td>\n",
       "      <td>0</td>\n",
       "      <td>M</td>\n",
       "      <td>сотрудник</td>\n",
       "      <td>0</td>\n",
       "      <td>135823.934197</td>\n",
       "      <td>образование</td>\n",
       "    </tr>\n",
       "    <tr>\n",
       "      <th>8</th>\n",
       "      <td>2</td>\n",
       "      <td>-6929.865299</td>\n",
       "      <td>35</td>\n",
       "      <td>ВЫСШЕЕ</td>\n",
       "      <td>0</td>\n",
       "      <td>гражданский брак</td>\n",
       "      <td>1</td>\n",
       "      <td>F</td>\n",
       "      <td>сотрудник</td>\n",
       "      <td>0</td>\n",
       "      <td>95856.832424</td>\n",
       "      <td>на проведение свадьбы</td>\n",
       "    </tr>\n",
       "    <tr>\n",
       "      <th>9</th>\n",
       "      <td>0</td>\n",
       "      <td>-2188.756445</td>\n",
       "      <td>41</td>\n",
       "      <td>среднее</td>\n",
       "      <td>1</td>\n",
       "      <td>женат / замужем</td>\n",
       "      <td>0</td>\n",
       "      <td>M</td>\n",
       "      <td>сотрудник</td>\n",
       "      <td>0</td>\n",
       "      <td>144425.938277</td>\n",
       "      <td>покупка жилья для семьи</td>\n",
       "    </tr>\n",
       "    <tr>\n",
       "      <th>10</th>\n",
       "      <td>2</td>\n",
       "      <td>-4171.483647</td>\n",
       "      <td>36</td>\n",
       "      <td>высшее</td>\n",
       "      <td>0</td>\n",
       "      <td>женат / замужем</td>\n",
       "      <td>0</td>\n",
       "      <td>M</td>\n",
       "      <td>компаньон</td>\n",
       "      <td>0</td>\n",
       "      <td>113943.491460</td>\n",
       "      <td>покупка недвижимости</td>\n",
       "    </tr>\n",
       "    <tr>\n",
       "      <th>11</th>\n",
       "      <td>0</td>\n",
       "      <td>-792.701887</td>\n",
       "      <td>40</td>\n",
       "      <td>среднее</td>\n",
       "      <td>1</td>\n",
       "      <td>женат / замужем</td>\n",
       "      <td>0</td>\n",
       "      <td>F</td>\n",
       "      <td>сотрудник</td>\n",
       "      <td>0</td>\n",
       "      <td>77069.234271</td>\n",
       "      <td>покупка коммерческой недвижимости</td>\n",
       "    </tr>\n",
       "    <tr>\n",
       "      <th>12</th>\n",
       "      <td>0</td>\n",
       "      <td>NaN</td>\n",
       "      <td>65</td>\n",
       "      <td>среднее</td>\n",
       "      <td>1</td>\n",
       "      <td>гражданский брак</td>\n",
       "      <td>1</td>\n",
       "      <td>M</td>\n",
       "      <td>пенсионер</td>\n",
       "      <td>0</td>\n",
       "      <td>NaN</td>\n",
       "      <td>сыграть свадьбу</td>\n",
       "    </tr>\n",
       "    <tr>\n",
       "      <th>13</th>\n",
       "      <td>0</td>\n",
       "      <td>-1846.641941</td>\n",
       "      <td>54</td>\n",
       "      <td>неоконченное высшее</td>\n",
       "      <td>2</td>\n",
       "      <td>женат / замужем</td>\n",
       "      <td>0</td>\n",
       "      <td>F</td>\n",
       "      <td>сотрудник</td>\n",
       "      <td>0</td>\n",
       "      <td>130458.228857</td>\n",
       "      <td>приобретение автомобиля</td>\n",
       "    </tr>\n",
       "    <tr>\n",
       "      <th>14</th>\n",
       "      <td>0</td>\n",
       "      <td>-1844.956182</td>\n",
       "      <td>56</td>\n",
       "      <td>высшее</td>\n",
       "      <td>0</td>\n",
       "      <td>гражданский брак</td>\n",
       "      <td>1</td>\n",
       "      <td>F</td>\n",
       "      <td>компаньон</td>\n",
       "      <td>1</td>\n",
       "      <td>165127.911772</td>\n",
       "      <td>покупка жилой недвижимости</td>\n",
       "    </tr>\n",
       "    <tr>\n",
       "      <th>15</th>\n",
       "      <td>1</td>\n",
       "      <td>-972.364419</td>\n",
       "      <td>26</td>\n",
       "      <td>среднее</td>\n",
       "      <td>1</td>\n",
       "      <td>женат / замужем</td>\n",
       "      <td>0</td>\n",
       "      <td>F</td>\n",
       "      <td>сотрудник</td>\n",
       "      <td>0</td>\n",
       "      <td>116820.904450</td>\n",
       "      <td>строительство собственной недвижимости</td>\n",
       "    </tr>\n",
       "    <tr>\n",
       "      <th>16</th>\n",
       "      <td>0</td>\n",
       "      <td>-1719.934226</td>\n",
       "      <td>35</td>\n",
       "      <td>среднее</td>\n",
       "      <td>1</td>\n",
       "      <td>женат / замужем</td>\n",
       "      <td>0</td>\n",
       "      <td>F</td>\n",
       "      <td>сотрудник</td>\n",
       "      <td>0</td>\n",
       "      <td>289202.704229</td>\n",
       "      <td>недвижимость</td>\n",
       "    </tr>\n",
       "    <tr>\n",
       "      <th>17</th>\n",
       "      <td>0</td>\n",
       "      <td>-2369.999720</td>\n",
       "      <td>33</td>\n",
       "      <td>высшее</td>\n",
       "      <td>0</td>\n",
       "      <td>гражданский брак</td>\n",
       "      <td>1</td>\n",
       "      <td>M</td>\n",
       "      <td>сотрудник</td>\n",
       "      <td>0</td>\n",
       "      <td>90410.586745</td>\n",
       "      <td>строительство недвижимости</td>\n",
       "    </tr>\n",
       "    <tr>\n",
       "      <th>18</th>\n",
       "      <td>0</td>\n",
       "      <td>400281.136913</td>\n",
       "      <td>53</td>\n",
       "      <td>среднее</td>\n",
       "      <td>1</td>\n",
       "      <td>вдовец / вдова</td>\n",
       "      <td>2</td>\n",
       "      <td>F</td>\n",
       "      <td>пенсионер</td>\n",
       "      <td>0</td>\n",
       "      <td>56823.777243</td>\n",
       "      <td>на покупку подержанного автомобиля</td>\n",
       "    </tr>\n",
       "    <tr>\n",
       "      <th>19</th>\n",
       "      <td>0</td>\n",
       "      <td>-10038.818549</td>\n",
       "      <td>48</td>\n",
       "      <td>СРЕДНЕЕ</td>\n",
       "      <td>1</td>\n",
       "      <td>в разводе</td>\n",
       "      <td>3</td>\n",
       "      <td>F</td>\n",
       "      <td>сотрудник</td>\n",
       "      <td>0</td>\n",
       "      <td>242831.107982</td>\n",
       "      <td>на покупку своего автомобиля</td>\n",
       "    </tr>\n",
       "  </tbody>\n",
       "</table>\n",
       "</div>"
      ],
      "text/plain": [
       "    children  days_employed  dob_years            education  education_id  \\\n",
       "0          1   -8437.673028         42               высшее             0   \n",
       "1          1   -4024.803754         36              среднее             1   \n",
       "2          0   -5623.422610         33              Среднее             1   \n",
       "3          3   -4124.747207         32              среднее             1   \n",
       "4          0  340266.072047         53              среднее             1   \n",
       "5          0    -926.185831         27               высшее             0   \n",
       "6          0   -2879.202052         43               высшее             0   \n",
       "7          0    -152.779569         50              СРЕДНЕЕ             1   \n",
       "8          2   -6929.865299         35               ВЫСШЕЕ             0   \n",
       "9          0   -2188.756445         41              среднее             1   \n",
       "10         2   -4171.483647         36               высшее             0   \n",
       "11         0    -792.701887         40              среднее             1   \n",
       "12         0            NaN         65              среднее             1   \n",
       "13         0   -1846.641941         54  неоконченное высшее             2   \n",
       "14         0   -1844.956182         56               высшее             0   \n",
       "15         1    -972.364419         26              среднее             1   \n",
       "16         0   -1719.934226         35              среднее             1   \n",
       "17         0   -2369.999720         33               высшее             0   \n",
       "18         0  400281.136913         53              среднее             1   \n",
       "19         0  -10038.818549         48              СРЕДНЕЕ             1   \n",
       "\n",
       "       family_status  family_status_id gender income_type  debt  \\\n",
       "0    женат / замужем                 0      F   сотрудник     0   \n",
       "1    женат / замужем                 0      F   сотрудник     0   \n",
       "2    женат / замужем                 0      M   сотрудник     0   \n",
       "3    женат / замужем                 0      M   сотрудник     0   \n",
       "4   гражданский брак                 1      F   пенсионер     0   \n",
       "5   гражданский брак                 1      M   компаньон     0   \n",
       "6    женат / замужем                 0      F   компаньон     0   \n",
       "7    женат / замужем                 0      M   сотрудник     0   \n",
       "8   гражданский брак                 1      F   сотрудник     0   \n",
       "9    женат / замужем                 0      M   сотрудник     0   \n",
       "10   женат / замужем                 0      M   компаньон     0   \n",
       "11   женат / замужем                 0      F   сотрудник     0   \n",
       "12  гражданский брак                 1      M   пенсионер     0   \n",
       "13   женат / замужем                 0      F   сотрудник     0   \n",
       "14  гражданский брак                 1      F   компаньон     1   \n",
       "15   женат / замужем                 0      F   сотрудник     0   \n",
       "16   женат / замужем                 0      F   сотрудник     0   \n",
       "17  гражданский брак                 1      M   сотрудник     0   \n",
       "18    вдовец / вдова                 2      F   пенсионер     0   \n",
       "19         в разводе                 3      F   сотрудник     0   \n",
       "\n",
       "     total_income                                 purpose  \n",
       "0   253875.639453                           покупка жилья  \n",
       "1   112080.014102                 приобретение автомобиля  \n",
       "2   145885.952297                           покупка жилья  \n",
       "3   267628.550329              дополнительное образование  \n",
       "4   158616.077870                         сыграть свадьбу  \n",
       "5   255763.565419                           покупка жилья  \n",
       "6   240525.971920                       операции с жильем  \n",
       "7   135823.934197                             образование  \n",
       "8    95856.832424                   на проведение свадьбы  \n",
       "9   144425.938277                 покупка жилья для семьи  \n",
       "10  113943.491460                    покупка недвижимости  \n",
       "11   77069.234271       покупка коммерческой недвижимости  \n",
       "12            NaN                         сыграть свадьбу  \n",
       "13  130458.228857                 приобретение автомобиля  \n",
       "14  165127.911772              покупка жилой недвижимости  \n",
       "15  116820.904450  строительство собственной недвижимости  \n",
       "16  289202.704229                            недвижимость  \n",
       "17   90410.586745              строительство недвижимости  \n",
       "18   56823.777243      на покупку подержанного автомобиля  \n",
       "19  242831.107982            на покупку своего автомобиля  "
      ]
     },
     "execution_count": 2,
     "metadata": {},
     "output_type": "execute_result"
    }
   ],
   "source": [
    "# выводим первые 20 строк датасета\n",
    "data.head(20)"
   ]
  },
  {
   "cell_type": "markdown",
   "id": "0ed8f27f",
   "metadata": {
    "deletable": false,
    "editable": false,
    "id": "0ed8f27f"
   },
   "source": [
    "**Задание 3**"
   ]
  },
  {
   "cell_type": "code",
   "execution_count": 3,
   "id": "ab3f863b",
   "metadata": {
    "deletable": false,
    "id": "ab3f863b",
    "outputId": "15376089-8dad-46c9-b520-c05248d43158"
   },
   "outputs": [
    {
     "name": "stdout",
     "output_type": "stream",
     "text": [
      "<class 'pandas.core.frame.DataFrame'>\n",
      "RangeIndex: 21525 entries, 0 to 21524\n",
      "Data columns (total 12 columns):\n",
      " #   Column            Non-Null Count  Dtype  \n",
      "---  ------            --------------  -----  \n",
      " 0   children          21525 non-null  int64  \n",
      " 1   days_employed     19351 non-null  float64\n",
      " 2   dob_years         21525 non-null  int64  \n",
      " 3   education         21525 non-null  object \n",
      " 4   education_id      21525 non-null  int64  \n",
      " 5   family_status     21525 non-null  object \n",
      " 6   family_status_id  21525 non-null  int64  \n",
      " 7   gender            21525 non-null  object \n",
      " 8   income_type       21525 non-null  object \n",
      " 9   debt              21525 non-null  int64  \n",
      " 10  total_income      19351 non-null  float64\n",
      " 11  purpose           21525 non-null  object \n",
      "dtypes: float64(2), int64(5), object(5)\n",
      "memory usage: 2.0+ MB\n"
     ]
    }
   ],
   "source": [
    "# выводим основную информацию о датасете\n",
    "data.info()"
   ]
  },
  {
   "cell_type": "markdown",
   "id": "60e3e22d",
   "metadata": {
    "deletable": false,
    "editable": false,
    "id": "60e3e22d"
   },
   "source": [
    "## Предобработка данных"
   ]
  },
  {
   "cell_type": "markdown",
   "id": "03dc170c",
   "metadata": {
    "deletable": false,
    "editable": false,
    "id": "03dc170c"
   },
   "source": [
    "### Удаление пропусков"
   ]
  },
  {
   "cell_type": "markdown",
   "id": "a4f54eef",
   "metadata": {
    "deletable": false,
    "editable": false,
    "id": "a4f54eef"
   },
   "source": [
    "**Задание 4**"
   ]
  },
  {
   "cell_type": "code",
   "execution_count": 4,
   "id": "2dc372b2",
   "metadata": {
    "deletable": false,
    "id": "2dc372b2",
    "outputId": "81f4d817-781c-465c-ed15-91ce4446810d"
   },
   "outputs": [
    {
     "data": {
      "text/plain": [
       "children               0\n",
       "days_employed       2174\n",
       "dob_years              0\n",
       "education              0\n",
       "education_id           0\n",
       "family_status          0\n",
       "family_status_id       0\n",
       "gender                 0\n",
       "income_type            0\n",
       "debt                   0\n",
       "total_income        2174\n",
       "purpose                0\n",
       "dtype: int64"
      ]
     },
     "execution_count": 4,
     "metadata": {},
     "output_type": "execute_result"
    }
   ],
   "source": [
    "# выводим количество пропущенных значений для каждого столбца\n",
    "data.isna().sum()"
   ]
  },
  {
   "cell_type": "markdown",
   "id": "14f011b1",
   "metadata": {
    "deletable": false,
    "editable": false,
    "id": "14f011b1"
   },
   "source": [
    "**Задание 5**"
   ]
  },
  {
   "cell_type": "code",
   "execution_count": 5,
   "id": "bdabfb6e",
   "metadata": {
    "deletable": false,
    "id": "bdabfb6e"
   },
   "outputs": [],
   "source": [
    "# заполняем пропуски в столбце total_income медианным значением по каждому типу\n",
    "for t in data['income_type'].unique():\n",
    "    data.loc[(data['income_type'] == t) & (data['total_income'].isna()), 'total_income'] = \\\n",
    "    data.loc[(data['income_type'] == t), 'total_income'].median()"
   ]
  },
  {
   "cell_type": "markdown",
   "id": "5be34059",
   "metadata": {
    "deletable": false,
    "editable": false,
    "id": "5be34059"
   },
   "source": [
    "### Обработка аномальных значений"
   ]
  },
  {
   "cell_type": "markdown",
   "id": "a87606cb",
   "metadata": {
    "deletable": false,
    "editable": false,
    "id": "a87606cb"
   },
   "source": [
    "**Задание 6**"
   ]
  },
  {
   "cell_type": "code",
   "execution_count": 6,
   "id": "020c46cc",
   "metadata": {
    "deletable": false,
    "id": "020c46cc"
   },
   "outputs": [],
   "source": [
    "# заменим все отрицательные значения на положительные в столбце days_employed\n",
    "data['days_employed'] = data['days_employed'].abs()"
   ]
  },
  {
   "cell_type": "markdown",
   "id": "45538a3a",
   "metadata": {
    "deletable": false,
    "editable": false,
    "id": "45538a3a"
   },
   "source": [
    "**Задание 7**"
   ]
  },
  {
   "cell_type": "code",
   "execution_count": 7,
   "id": "cd3e6328",
   "metadata": {
    "deletable": false,
    "id": "cd3e6328",
    "outputId": "801ef80e-522b-4668-f34e-565af7432bcf"
   },
   "outputs": [
    {
     "data": {
      "text/plain": [
       "income_type\n",
       "безработный        366413.652744\n",
       "в декрете            3296.759962\n",
       "госслужащий          2689.368353\n",
       "компаньон            1547.382223\n",
       "пенсионер          365213.306266\n",
       "предприниматель       520.848083\n",
       "сотрудник            1574.202821\n",
       "студент               578.751554\n",
       "Name: days_employed, dtype: float64"
      ]
     },
     "execution_count": 7,
     "metadata": {},
     "output_type": "execute_result"
    }
   ],
   "source": [
    "# выведем медианное значение трудового стажа для каждого типа занятости в днях\n",
    "data.groupby('income_type')['days_employed'].agg('median')"
   ]
  },
  {
   "cell_type": "markdown",
   "id": "90c5f058",
   "metadata": {
    "deletable": false,
    "editable": false,
    "id": "90c5f058"
   },
   "source": [
    "У двух типов (безработные и пенсионеры) получатся аномально большие значения. Исправить такие значения сложно, поэтому оставим их как есть."
   ]
  },
  {
   "cell_type": "markdown",
   "id": "9652e50d",
   "metadata": {
    "deletable": false,
    "editable": false,
    "id": "9652e50d"
   },
   "source": [
    "**Задание 8**"
   ]
  },
  {
   "cell_type": "code",
   "execution_count": 8,
   "id": "dbb37b8e",
   "metadata": {
    "deletable": false,
    "id": "dbb37b8e",
    "outputId": "6975b15c-7f95-4697-d16d-a0c79b657b03"
   },
   "outputs": [
    {
     "data": {
      "text/plain": [
       "array([ 1,  0,  3,  2, -1,  4, 20,  5])"
      ]
     },
     "execution_count": 8,
     "metadata": {},
     "output_type": "execute_result"
    }
   ],
   "source": [
    "# выведем перечень уникальных значений столбца children\n",
    "data['children'].unique()"
   ]
  },
  {
   "cell_type": "markdown",
   "id": "2b8b0715",
   "metadata": {
    "deletable": false,
    "editable": false,
    "id": "2b8b0715"
   },
   "source": [
    "**Задание 9**"
   ]
  },
  {
   "cell_type": "code",
   "execution_count": 9,
   "id": "20009df8",
   "metadata": {
    "deletable": false,
    "id": "20009df8"
   },
   "outputs": [],
   "source": [
    "# удалим строки, в которых встречаются  аномальные значения в столбце children\n",
    "data = data[(data['children'] != -1) & (data['children'] != 20)]"
   ]
  },
  {
   "cell_type": "markdown",
   "id": "8c6ac9f1",
   "metadata": {
    "deletable": false,
    "editable": false,
    "id": "8c6ac9f1"
   },
   "source": [
    "**Задание 10**"
   ]
  },
  {
   "cell_type": "code",
   "execution_count": 10,
   "id": "07337b81",
   "metadata": {
    "deletable": false,
    "id": "07337b81",
    "outputId": "b2097101-d49d-44d9-901b-32a65c9463d1"
   },
   "outputs": [
    {
     "data": {
      "text/plain": [
       "array([1, 0, 3, 2, 4, 5])"
      ]
     },
     "execution_count": 10,
     "metadata": {},
     "output_type": "execute_result"
    }
   ],
   "source": [
    "# проверим, удалились ли аномальные значения\n",
    "data['children'].unique()"
   ]
  },
  {
   "cell_type": "markdown",
   "id": "ee3f52d4",
   "metadata": {
    "deletable": false,
    "editable": false,
    "id": "ee3f52d4"
   },
   "source": [
    "### Удаление пропусков (продолжение)"
   ]
  },
  {
   "cell_type": "markdown",
   "id": "a700b0e4",
   "metadata": {
    "deletable": false,
    "editable": false,
    "id": "a700b0e4"
   },
   "source": [
    "**Задание 11**"
   ]
  },
  {
   "cell_type": "code",
   "execution_count": 11,
   "id": "61946b83",
   "metadata": {
    "deletable": false,
    "id": "61946b83"
   },
   "outputs": [],
   "source": [
    "# заполним пропуски в столбце days_employed медианными значениями для каждого типа занятости income_type\n",
    "for t in data['income_type'].unique():\n",
    "    data.loc[(data['income_type'] == t) & (data['days_employed'].isna()), 'days_employed'] = \\\n",
    "    data.loc[(data['income_type'] == t), 'days_employed'].median()"
   ]
  },
  {
   "cell_type": "markdown",
   "id": "550dcd9b",
   "metadata": {
    "deletable": false,
    "editable": false,
    "id": "550dcd9b"
   },
   "source": [
    "**Задание 12**"
   ]
  },
  {
   "cell_type": "code",
   "execution_count": 12,
   "id": "937c7014",
   "metadata": {
    "deletable": false,
    "id": "937c7014",
    "outputId": "8da1e4e1-358e-4e87-98c9-f261bce0a7b2"
   },
   "outputs": [
    {
     "data": {
      "text/plain": [
       "children            0\n",
       "days_employed       0\n",
       "dob_years           0\n",
       "education           0\n",
       "education_id        0\n",
       "family_status       0\n",
       "family_status_id    0\n",
       "gender              0\n",
       "income_type         0\n",
       "debt                0\n",
       "total_income        0\n",
       "purpose             0\n",
       "dtype: int64"
      ]
     },
     "execution_count": 12,
     "metadata": {},
     "output_type": "execute_result"
    }
   ],
   "source": [
    "# убедимся, что все пропуски заполнены\n",
    "data.isna().sum()"
   ]
  },
  {
   "cell_type": "markdown",
   "id": "d522e295",
   "metadata": {
    "deletable": false,
    "editable": false,
    "id": "d522e295"
   },
   "source": [
    "### Изменение типов данных"
   ]
  },
  {
   "cell_type": "markdown",
   "id": "c229c581",
   "metadata": {
    "deletable": false,
    "editable": false,
    "id": "c229c581"
   },
   "source": [
    "**Задание 13**"
   ]
  },
  {
   "cell_type": "code",
   "execution_count": 13,
   "id": "31036462",
   "metadata": {
    "deletable": false,
    "id": "31036462"
   },
   "outputs": [],
   "source": [
    "# заменим тип данных в столбце total_income на целочисленный\n",
    "data['total_income'] = data['total_income'].astype(int)"
   ]
  },
  {
   "cell_type": "markdown",
   "id": "b8e3d1d9",
   "metadata": {
    "deletable": false,
    "editable": false,
    "id": "b8e3d1d9"
   },
   "source": [
    "### Обработка дубликатов"
   ]
  },
  {
   "cell_type": "markdown",
   "id": "9be53c49",
   "metadata": {
    "deletable": false,
    "editable": false,
    "id": "9be53c49"
   },
   "source": [
    "**Задание 14**"
   ]
  },
  {
   "cell_type": "code",
   "execution_count": 14,
   "id": "d89e73e1",
   "metadata": {
    "deletable": false,
    "id": "d89e73e1"
   },
   "outputs": [],
   "source": [
    "# обработаем неявные дубликаты в столбце education, приведем значения к нижнему регистру\n",
    "data['education'] = data['education'].str.lower()"
   ]
  },
  {
   "cell_type": "markdown",
   "id": "01d4500e",
   "metadata": {
    "deletable": false,
    "editable": false,
    "id": "01d4500e"
   },
   "source": [
    "**Задание 15**"
   ]
  },
  {
   "cell_type": "code",
   "execution_count": 15,
   "id": "e10efb23",
   "metadata": {
    "deletable": false,
    "id": "e10efb23",
    "outputId": "9684deba-1934-42d1-99e1-cda61740f822"
   },
   "outputs": [
    {
     "data": {
      "text/plain": [
       "71"
      ]
     },
     "execution_count": 15,
     "metadata": {},
     "output_type": "execute_result"
    }
   ],
   "source": [
    "# выведем на экран количество строк-дубликатов\n",
    "data.duplicated().sum()"
   ]
  },
  {
   "cell_type": "code",
   "execution_count": 16,
   "id": "df853f20",
   "metadata": {
    "deletable": false,
    "id": "df853f20"
   },
   "outputs": [],
   "source": [
    "# удалим строки-дубликаты\n",
    "data = data.drop_duplicates()"
   ]
  },
  {
   "cell_type": "markdown",
   "id": "627be38f",
   "metadata": {
    "deletable": false,
    "editable": false,
    "id": "627be38f"
   },
   "source": [
    "### Категоризация данных"
   ]
  },
  {
   "cell_type": "markdown",
   "id": "4684c3e0",
   "metadata": {
    "deletable": false,
    "editable": false,
    "id": "4684c3e0"
   },
   "source": [
    "**Задание 16**\n"
   ]
  },
  {
   "cell_type": "code",
   "execution_count": 17,
   "id": "78965238",
   "metadata": {
    "deletable": false,
    "id": "78965238"
   },
   "outputs": [],
   "source": [
    "# напишем функцию для категоризации данных в столбце total_income\n",
    "def categorize_income(income):\n",
    "    try:\n",
    "        if 0 <= income <= 30000:\n",
    "            return 'E'\n",
    "        elif 30001 <= income <= 50000:\n",
    "            return 'D'\n",
    "        elif 50001 <= income <= 200000:\n",
    "            return 'C'\n",
    "        elif 200001 <= income <= 1000000:\n",
    "            return 'B'\n",
    "        elif income >= 1000001:\n",
    "            return 'A'\n",
    "    except:\n",
    "        pass"
   ]
  },
  {
   "cell_type": "code",
   "execution_count": 18,
   "id": "0980ada1",
   "metadata": {
    "deletable": false,
    "id": "0980ada1"
   },
   "outputs": [],
   "source": [
    "data['total_income_category'] = data['total_income'].apply(categorize_income)"
   ]
  },
  {
   "cell_type": "markdown",
   "id": "9917bba0",
   "metadata": {
    "deletable": false,
    "editable": false,
    "id": "9917bba0"
   },
   "source": [
    "**Задание 17**"
   ]
  },
  {
   "cell_type": "code",
   "execution_count": 19,
   "id": "ee07b65e",
   "metadata": {
    "deletable": false,
    "id": "ee07b65e",
    "outputId": "673c12d9-7d7e-4ae0-9812-c622c89dd244"
   },
   "outputs": [
    {
     "data": {
      "text/plain": [
       "array(['покупка жилья', 'приобретение автомобиля',\n",
       "       'дополнительное образование', 'сыграть свадьбу',\n",
       "       'операции с жильем', 'образование', 'на проведение свадьбы',\n",
       "       'покупка жилья для семьи', 'покупка недвижимости',\n",
       "       'покупка коммерческой недвижимости', 'покупка жилой недвижимости',\n",
       "       'строительство собственной недвижимости', 'недвижимость',\n",
       "       'строительство недвижимости', 'на покупку подержанного автомобиля',\n",
       "       'на покупку своего автомобиля',\n",
       "       'операции с коммерческой недвижимостью',\n",
       "       'строительство жилой недвижимости', 'жилье',\n",
       "       'операции со своей недвижимостью', 'автомобили',\n",
       "       'заняться образованием', 'сделка с подержанным автомобилем',\n",
       "       'получение образования', 'автомобиль', 'свадьба',\n",
       "       'получение дополнительного образования', 'покупка своего жилья',\n",
       "       'операции с недвижимостью', 'получение высшего образования',\n",
       "       'свой автомобиль', 'сделка с автомобилем',\n",
       "       'профильное образование', 'высшее образование',\n",
       "       'покупка жилья для сдачи', 'на покупку автомобиля', 'ремонт жилью',\n",
       "       'заняться высшим образованием'], dtype=object)"
      ]
     },
     "execution_count": 19,
     "metadata": {},
     "output_type": "execute_result"
    }
   ],
   "source": [
    "# выведем на экран перечень уникальных целей взятия кредита\n",
    "data['purpose'].unique()"
   ]
  },
  {
   "cell_type": "markdown",
   "id": "52b79d56",
   "metadata": {
    "deletable": false,
    "editable": false,
    "id": "52b79d56"
   },
   "source": [
    "**Задание 18**"
   ]
  },
  {
   "cell_type": "code",
   "execution_count": 20,
   "id": "be41da5d",
   "metadata": {
    "deletable": false,
    "id": "be41da5d"
   },
   "outputs": [],
   "source": [
    "# напишем функцию для категоризации целей кредита\n",
    "def categorize_purpose(row):\n",
    "    try:\n",
    "        if 'автом' in row:\n",
    "            return 'операции с автомобилем'\n",
    "        elif 'жил' in row or 'недвиж' in row:\n",
    "            return 'операции с недвижимостью'\n",
    "        elif 'свад' in row:\n",
    "            return 'проведение свадьбы'\n",
    "        elif 'образов' in row:\n",
    "            return 'получение образования'\n",
    "    except:\n",
    "        return 'нет категории'"
   ]
  },
  {
   "cell_type": "code",
   "execution_count": 21,
   "id": "94c4a19a",
   "metadata": {
    "deletable": false,
    "id": "94c4a19a"
   },
   "outputs": [],
   "source": [
    "data['purpose_category'] = data['purpose'].apply(categorize_purpose)"
   ]
  },
  {
   "cell_type": "markdown",
   "id": "3d596c34",
   "metadata": {
    "deletable": false,
    "editable": false,
    "id": "3d596c34"
   },
   "source": [
    "### Шаг 3. Исследуйте данные и ответьте на вопросы"
   ]
  },
  {
   "cell_type": "markdown",
   "id": "648db036",
   "metadata": {
    "deletable": false,
    "editable": false,
    "id": "648db036"
   },
   "source": [
    "#### 3.1 Есть ли зависимость между количеством детей и возвратом кредита в срок?"
   ]
  },
  {
   "cell_type": "code",
   "execution_count": 22,
   "id": "7fcff25e",
   "metadata": {
    "deletable": false,
    "id": "7fcff25e"
   },
   "outputs": [],
   "source": [
    "# сформируем сводную таблицу amount_of_child_data_pivot. Это действие позволит прослeдить связь между наличием \n",
    "# и количеством детей и тем, была ли задолженность по выплате кредита\n",
    "amount_of_child_data_pivot = data.pivot_table(index = ['children'], columns = 'debt', values = 'purpose', \n",
    "                                              aggfunc = 'count')  "
   ]
  },
  {
   "cell_type": "code",
   "execution_count": 23,
   "id": "fd486956",
   "metadata": {},
   "outputs": [],
   "source": [
    "# заполним нулями пропуски в данных, в строке, содержащей информацию о 5 детях\n",
    "amount_of_child_data_pivot =  amount_of_child_data_pivot.fillna(0)"
   ]
  },
  {
   "cell_type": "code",
   "execution_count": 24,
   "id": "5559d0cb",
   "metadata": {},
   "outputs": [],
   "source": [
    "# приводим данные в подстолбцах 0 и 1 столбца debt  к целым значениям для удобства восприятия информации\n",
    "amount_of_child_data_pivot[0] = amount_of_child_data_pivot[0].astype('int')\n",
    "amount_of_child_data_pivot[1] = amount_of_child_data_pivot[1].astype('int')"
   ]
  },
  {
   "cell_type": "code",
   "execution_count": 25,
   "id": "35020b34",
   "metadata": {
    "scrolled": true
   },
   "outputs": [],
   "source": [
    "# Добавим в сводную таблицу amount_of_child_data_pivot новый столбец percent, в котором посчитаем долю процента\n",
    "# задержки в выплате кредита в каждой категории(по количеству детей)\n",
    "amount_of_child_data_pivot['percent'] = (amount_of_child_data_pivot[1] / \n",
    "                                        (amount_of_child_data_pivot[1] + amount_of_child_data_pivot[0])) * 100"
   ]
  },
  {
   "cell_type": "code",
   "execution_count": 26,
   "id": "8985f328",
   "metadata": {},
   "outputs": [
    {
     "data": {
      "text/html": [
       "<div>\n",
       "<style scoped>\n",
       "    .dataframe tbody tr th:only-of-type {\n",
       "        vertical-align: middle;\n",
       "    }\n",
       "\n",
       "    .dataframe tbody tr th {\n",
       "        vertical-align: top;\n",
       "    }\n",
       "\n",
       "    .dataframe thead th {\n",
       "        text-align: right;\n",
       "    }\n",
       "</style>\n",
       "<table border=\"1\" class=\"dataframe\">\n",
       "  <thead>\n",
       "    <tr style=\"text-align: right;\">\n",
       "      <th>debt</th>\n",
       "      <th>0</th>\n",
       "      <th>1</th>\n",
       "      <th>percent</th>\n",
       "    </tr>\n",
       "    <tr>\n",
       "      <th>children</th>\n",
       "      <th></th>\n",
       "      <th></th>\n",
       "      <th></th>\n",
       "    </tr>\n",
       "  </thead>\n",
       "  <tbody>\n",
       "    <tr>\n",
       "      <th>0</th>\n",
       "      <td>13028</td>\n",
       "      <td>1063</td>\n",
       "      <td>7.5</td>\n",
       "    </tr>\n",
       "    <tr>\n",
       "      <th>1</th>\n",
       "      <td>4364</td>\n",
       "      <td>444</td>\n",
       "      <td>9.2</td>\n",
       "    </tr>\n",
       "    <tr>\n",
       "      <th>2</th>\n",
       "      <td>1858</td>\n",
       "      <td>194</td>\n",
       "      <td>9.5</td>\n",
       "    </tr>\n",
       "    <tr>\n",
       "      <th>3</th>\n",
       "      <td>303</td>\n",
       "      <td>27</td>\n",
       "      <td>8.2</td>\n",
       "    </tr>\n",
       "    <tr>\n",
       "      <th>4</th>\n",
       "      <td>37</td>\n",
       "      <td>4</td>\n",
       "      <td>9.8</td>\n",
       "    </tr>\n",
       "    <tr>\n",
       "      <th>5</th>\n",
       "      <td>9</td>\n",
       "      <td>0</td>\n",
       "      <td>0.0</td>\n",
       "    </tr>\n",
       "  </tbody>\n",
       "</table>\n",
       "</div>"
      ],
      "text/plain": [
       "debt          0     1  percent\n",
       "children                      \n",
       "0         13028  1063      7.5\n",
       "1          4364   444      9.2\n",
       "2          1858   194      9.5\n",
       "3           303    27      8.2\n",
       "4            37     4      9.8\n",
       "5             9     0      0.0"
      ]
     },
     "execution_count": 26,
     "metadata": {},
     "output_type": "execute_result"
    }
   ],
   "source": [
    "# округляем значения в стобце percent до одной цифры после запятой\n",
    "pd.set_option('display.float_format', '{:.1f}'.format)\n",
    "amount_of_child_data_pivot"
   ]
  },
  {
   "cell_type": "code",
   "execution_count": 27,
   "id": "2b979a2a",
   "metadata": {
    "scrolled": true
   },
   "outputs": [
    {
     "data": {
      "text/html": [
       "<div>\n",
       "<style scoped>\n",
       "    .dataframe tbody tr th:only-of-type {\n",
       "        vertical-align: middle;\n",
       "    }\n",
       "\n",
       "    .dataframe tbody tr th {\n",
       "        vertical-align: top;\n",
       "    }\n",
       "\n",
       "    .dataframe thead th {\n",
       "        text-align: right;\n",
       "    }\n",
       "</style>\n",
       "<table border=\"1\" class=\"dataframe\">\n",
       "  <thead>\n",
       "    <tr style=\"text-align: right;\">\n",
       "      <th></th>\n",
       "      <th>children</th>\n",
       "      <th>percent</th>\n",
       "    </tr>\n",
       "  </thead>\n",
       "  <tbody>\n",
       "    <tr>\n",
       "      <th>5</th>\n",
       "      <td>5</td>\n",
       "      <td>0.0</td>\n",
       "    </tr>\n",
       "    <tr>\n",
       "      <th>0</th>\n",
       "      <td>0</td>\n",
       "      <td>7.5</td>\n",
       "    </tr>\n",
       "    <tr>\n",
       "      <th>3</th>\n",
       "      <td>3</td>\n",
       "      <td>8.2</td>\n",
       "    </tr>\n",
       "    <tr>\n",
       "      <th>1</th>\n",
       "      <td>1</td>\n",
       "      <td>9.2</td>\n",
       "    </tr>\n",
       "    <tr>\n",
       "      <th>2</th>\n",
       "      <td>2</td>\n",
       "      <td>9.5</td>\n",
       "    </tr>\n",
       "    <tr>\n",
       "      <th>4</th>\n",
       "      <td>4</td>\n",
       "      <td>9.8</td>\n",
       "    </tr>\n",
       "  </tbody>\n",
       "</table>\n",
       "</div>"
      ],
      "text/plain": [
       "   children  percent\n",
       "5         5      0.0\n",
       "0         0      7.5\n",
       "3         3      8.2\n",
       "1         1      9.2\n",
       "2         2      9.5\n",
       "4         4      9.8"
      ]
     },
     "execution_count": 27,
     "metadata": {},
     "output_type": "execute_result"
    }
   ],
   "source": [
    "# с помощью DataFrame строим финальный вариант таблицы со стобцами children и percent\n",
    "final_amount_of_child = pd.DataFrame({'children': [0, 1, 2, 3, 4, 5],\n",
    " 'percent': [7.5, 9.2, 9.5, 8.2, 9.8, 0.0],\n",
    "})\n",
    "# сортируем данные в столбце percent по возрастанию\n",
    "final_amount_of_child = final_amount_of_child.sort_values (by = ['percent'], ascending = True)\n",
    "final_amount_of_child"
   ]
  },
  {
   "cell_type": "code",
   "execution_count": 28,
   "id": "5f5e71fd",
   "metadata": {},
   "outputs": [
    {
     "data": {
      "image/png": "[encoded data removed]",
      "text/plain": [
       "<Figure size 800x400 with 1 Axes>"
      ]
     },
     "metadata": {},
     "output_type": "display_data"
    }
   ],
   "source": [
    "# подключаем библиотеку seaborn для визуализации полученных данных\n",
    "import seaborn as sns\n",
    "# подключаем библиотеку matplotlib.\n",
    "import matplotlib.pyplot as plt\n",
    "# задаем размер графика\n",
    "plt.rcParams['figure.figsize'] = [8,4] \n",
    "# визуализируем данные с помощью столбчатой диаграммы\n",
    "sns.barplot(data = final_amount_of_child.sort_values(by='percent'), x = 'children', y = 'percent', \n",
    "           palette = 'husl').set(title = 'График зависимости процента задолженности от количества детей')\n",
    "plt.xlabel('Количество детей')\n",
    "plt.ylabel('% задолженности');"
   ]
  },
  {
   "cell_type": "markdown",
   "id": "d2a8d75c",
   "metadata": {
    "deletable": false,
    "id": "2eb9088e"
   },
   "source": [
    "**Вывод:**\n",
    "    Анализ  финальной таблицы и графика позволяет  сделать вывод о том, что существует очевидная зависимость роста количества задержек  в выплатах кредита от количества детей. \n",
    "    Люди, которые не имеют детей, являются наиболее надежными плательщиками, доля должников среди них составляет всего 7,5%.\n",
    "    Доля должников в семьях с 1м или 2мя детьми на 1,7-2% выше, чем в семьях без детей, и составляет 9,2% и 9,5% соответственно.\n",
    "    Можно сделать вывод, что чем больше в семье детей, тем  выше вероятность того, что будет задержка в выплате кредита.\n",
    "    Категории с 3мя, 4мя, 5ью детьми сравнивать с остальными некорректно из-за очень маленькой выборки."
   ]
  },
  {
   "cell_type": "markdown",
   "id": "74c9b3a7",
   "metadata": {
    "deletable": false,
    "editable": false,
    "id": "74c9b3a7"
   },
   "source": [
    "#### 3.2 Есть ли зависимость между семейным положением и возвратом кредита в срок?"
   ]
  },
  {
   "cell_type": "code",
   "execution_count": 29,
   "id": "8098ab3b",
   "metadata": {
    "deletable": false,
    "id": "8098ab3b"
   },
   "outputs": [],
   "source": [
    "# сформируем сводную таблицу marriage_data_pivot. Это действие позволит проследить связь между семейным \n",
    "# положением и тем, была ли задолженность по выплате кредита\n",
    "marriage_data_pivot = data.pivot_table(index = ['family_status'], columns = 'debt', values = 'purpose_category', \n",
    "                                       aggfunc = 'count')"
   ]
  },
  {
   "cell_type": "code",
   "execution_count": 30,
   "id": "6818e0f7",
   "metadata": {
    "scrolled": true
   },
   "outputs": [
    {
     "data": {
      "text/html": [
       "<div>\n",
       "<style scoped>\n",
       "    .dataframe tbody tr th:only-of-type {\n",
       "        vertical-align: middle;\n",
       "    }\n",
       "\n",
       "    .dataframe tbody tr th {\n",
       "        vertical-align: top;\n",
       "    }\n",
       "\n",
       "    .dataframe thead th {\n",
       "        text-align: right;\n",
       "    }\n",
       "</style>\n",
       "<table border=\"1\" class=\"dataframe\">\n",
       "  <thead>\n",
       "    <tr style=\"text-align: right;\">\n",
       "      <th>debt</th>\n",
       "      <th>0</th>\n",
       "      <th>1</th>\n",
       "      <th>percent</th>\n",
       "    </tr>\n",
       "    <tr>\n",
       "      <th>family_status</th>\n",
       "      <th></th>\n",
       "      <th></th>\n",
       "      <th></th>\n",
       "    </tr>\n",
       "  </thead>\n",
       "  <tbody>\n",
       "    <tr>\n",
       "      <th>Не женат / не замужем</th>\n",
       "      <td>2523</td>\n",
       "      <td>273</td>\n",
       "      <td>9.8</td>\n",
       "    </tr>\n",
       "    <tr>\n",
       "      <th>в разводе</th>\n",
       "      <td>1105</td>\n",
       "      <td>84</td>\n",
       "      <td>7.1</td>\n",
       "    </tr>\n",
       "    <tr>\n",
       "      <th>вдовец / вдова</th>\n",
       "      <td>888</td>\n",
       "      <td>63</td>\n",
       "      <td>6.6</td>\n",
       "    </tr>\n",
       "    <tr>\n",
       "      <th>гражданский брак</th>\n",
       "      <td>3749</td>\n",
       "      <td>385</td>\n",
       "      <td>9.3</td>\n",
       "    </tr>\n",
       "    <tr>\n",
       "      <th>женат / замужем</th>\n",
       "      <td>11334</td>\n",
       "      <td>927</td>\n",
       "      <td>7.6</td>\n",
       "    </tr>\n",
       "  </tbody>\n",
       "</table>\n",
       "</div>"
      ],
      "text/plain": [
       "debt                       0    1  percent\n",
       "family_status                             \n",
       "Не женат / не замужем   2523  273      9.8\n",
       "в разводе               1105   84      7.1\n",
       "вдовец / вдова           888   63      6.6\n",
       "гражданский брак        3749  385      9.3\n",
       "женат / замужем        11334  927      7.6"
      ]
     },
     "execution_count": 30,
     "metadata": {},
     "output_type": "execute_result"
    }
   ],
   "source": [
    "# добавим в сводную таблицу marriage_data_pivot новый столбец percent, в котором посчитаем долю процента \n",
    "# задержки в выплате кредита в каждой категории(по семейному положению)\n",
    "marriage_data_pivot['percent'] = (marriage_data_pivot[1] / (marriage_data_pivot[1] + marriage_data_pivot[0])) * 100\n",
    "marriage_data_pivot"
   ]
  },
  {
   "cell_type": "code",
   "execution_count": 31,
   "id": "30687124",
   "metadata": {},
   "outputs": [
    {
     "data": {
      "text/html": [
       "<div>\n",
       "<style scoped>\n",
       "    .dataframe tbody tr th:only-of-type {\n",
       "        vertical-align: middle;\n",
       "    }\n",
       "\n",
       "    .dataframe tbody tr th {\n",
       "        vertical-align: top;\n",
       "    }\n",
       "\n",
       "    .dataframe thead th {\n",
       "        text-align: right;\n",
       "    }\n",
       "</style>\n",
       "<table border=\"1\" class=\"dataframe\">\n",
       "  <thead>\n",
       "    <tr style=\"text-align: right;\">\n",
       "      <th></th>\n",
       "      <th>family_status</th>\n",
       "      <th>percent</th>\n",
       "    </tr>\n",
       "  </thead>\n",
       "  <tbody>\n",
       "    <tr>\n",
       "      <th>0</th>\n",
       "      <td>вдова/вдовец</td>\n",
       "      <td>6.6</td>\n",
       "    </tr>\n",
       "    <tr>\n",
       "      <th>1</th>\n",
       "      <td>в разводе</td>\n",
       "      <td>7.1</td>\n",
       "    </tr>\n",
       "    <tr>\n",
       "      <th>2</th>\n",
       "      <td>женат/замужем</td>\n",
       "      <td>7.6</td>\n",
       "    </tr>\n",
       "    <tr>\n",
       "      <th>3</th>\n",
       "      <td>гражданский брак</td>\n",
       "      <td>9.3</td>\n",
       "    </tr>\n",
       "    <tr>\n",
       "      <th>4</th>\n",
       "      <td>не женат/не замужем</td>\n",
       "      <td>9.8</td>\n",
       "    </tr>\n",
       "  </tbody>\n",
       "</table>\n",
       "</div>"
      ],
      "text/plain": [
       "         family_status  percent\n",
       "0         вдова/вдовец      6.6\n",
       "1            в разводе      7.1\n",
       "2        женат/замужем      7.6\n",
       "3     гражданский брак      9.3\n",
       "4  не женат/не замужем      9.8"
      ]
     },
     "execution_count": 31,
     "metadata": {},
     "output_type": "execute_result"
    }
   ],
   "source": [
    "# c помощью DataFrame строим финальный вариант таблицы со стобцами family_status и percent\n",
    "final_marriage = pd.DataFrame({'family_status': ['вдова/вдовец', 'в разводе', 'женат/замужем', \n",
    "'гражданский брак', 'не женат/не замужем'], 'percent': [6.6, 7.1, 7.6, 9.3, 9.8],})\n",
    "# cортируем данные в столбце percent по возрастанию\n",
    "final_marriage = final_marriage.sort_values (by = ['percent'], ascending = True)\n",
    "final_marriage"
   ]
  },
  {
   "cell_type": "code",
   "execution_count": 32,
   "id": "cc64da9a",
   "metadata": {},
   "outputs": [
    {
     "data": {
      "image/png": "[encoded data removed]",
      "text/plain": [
       "<Figure size 800x400 with 1 Axes>"
      ]
     },
     "metadata": {},
     "output_type": "display_data"
    }
   ],
   "source": [
    "# визуализируем данные с помощью столбчатой диаграммы\n",
    "sns.barplot(data = final_marriage.sort_values(by='percent'), x = 'family_status', y = 'percent', \n",
    "           palette = 'husl').set(title = 'График зависимости процента задолженности от семейного положения')\n",
    "plt.xlabel('Семейное положение')\n",
    "plt.ylabel('% задолженности')\n",
    "plt.xticks(rotation=45);"
   ]
  },
  {
   "cell_type": "markdown",
   "id": "c389ca63",
   "metadata": {
    "deletable": false,
    "id": "c389ca63"
   },
   "source": [
    "**Вывод:** \n",
    "    Проанализируем полученные данные.\n",
    "    Вдовцы и люди в разводе реже всего задерживают выплаты, их доля составляет 6,6% и 7,1% соответственно. Но по этим двум категориям выборка слишком мала, поэтому некорректно брать ее в расчет. \n",
    "    Неженатые люди и люди, состоящие в гражданском браке склонны к задерживанию кредитных выплат более других категорий. Их доля составляет 9.3% и 9.8%.\n",
    "    Люди, состоящие в браке, не выплачивают кредит вовремя в среднем на 2% реже, чем неженатые и состоящие в гражданском браке, их доля составляет 7,6%.\n",
    "    Стоит также отметить, что выборка по последним двум категориям примерно в 3 раза меньше, чем у женатых людей.\n",
    "    Исходя из этого можно проследить определенную связь между семейным положением и несвоевременными выплатами кредита, и сделать выводы о том, что семейные люди и люди, состоявшие ранее в браке, являются более надёжными заёмщиками, но из-за  несбалансированности выборки почти по всем категориям, категорично утверждать этого мы не можем. "
   ]
  },
  {
   "cell_type": "markdown",
   "id": "9529de68",
   "metadata": {
    "deletable": false,
    "editable": false,
    "id": "9529de68"
   },
   "source": [
    "#### 3.3 Есть ли зависимость между уровнем дохода и возвратом кредита в срок?"
   ]
  },
  {
   "cell_type": "code",
   "execution_count": 33,
   "id": "8787f44a",
   "metadata": {
    "deletable": false,
    "id": "8787f44a"
   },
   "outputs": [],
   "source": [
    "# сформируем сводную таблицу total_income_data_pivot. Это действие позволит проследить связь между уровнем \n",
    "# дохода и тем, была ли задолженность по выплате кредита\n",
    "total_income_data_pivot = data.pivot_table(index = ['total_income_category'], columns = 'debt', values = 'purpose_category', \n",
    "                                           aggfunc = 'count')"
   ]
  },
  {
   "cell_type": "code",
   "execution_count": 34,
   "id": "8eb8803e",
   "metadata": {},
   "outputs": [
    {
     "data": {
      "text/html": [
       "<div>\n",
       "<style scoped>\n",
       "    .dataframe tbody tr th:only-of-type {\n",
       "        vertical-align: middle;\n",
       "    }\n",
       "\n",
       "    .dataframe tbody tr th {\n",
       "        vertical-align: top;\n",
       "    }\n",
       "\n",
       "    .dataframe thead th {\n",
       "        text-align: right;\n",
       "    }\n",
       "</style>\n",
       "<table border=\"1\" class=\"dataframe\">\n",
       "  <thead>\n",
       "    <tr style=\"text-align: right;\">\n",
       "      <th>debt</th>\n",
       "      <th>0</th>\n",
       "      <th>1</th>\n",
       "      <th>percent</th>\n",
       "    </tr>\n",
       "    <tr>\n",
       "      <th>total_income_category</th>\n",
       "      <th></th>\n",
       "      <th></th>\n",
       "      <th></th>\n",
       "    </tr>\n",
       "  </thead>\n",
       "  <tbody>\n",
       "    <tr>\n",
       "      <th>A</th>\n",
       "      <td>23</td>\n",
       "      <td>2</td>\n",
       "      <td>8.0</td>\n",
       "    </tr>\n",
       "    <tr>\n",
       "      <th>B</th>\n",
       "      <td>4660</td>\n",
       "      <td>354</td>\n",
       "      <td>7.1</td>\n",
       "    </tr>\n",
       "    <tr>\n",
       "      <th>C</th>\n",
       "      <td>14568</td>\n",
       "      <td>1353</td>\n",
       "      <td>8.5</td>\n",
       "    </tr>\n",
       "    <tr>\n",
       "      <th>D</th>\n",
       "      <td>328</td>\n",
       "      <td>21</td>\n",
       "      <td>6.0</td>\n",
       "    </tr>\n",
       "    <tr>\n",
       "      <th>E</th>\n",
       "      <td>20</td>\n",
       "      <td>2</td>\n",
       "      <td>9.1</td>\n",
       "    </tr>\n",
       "  </tbody>\n",
       "</table>\n",
       "</div>"
      ],
      "text/plain": [
       "debt                       0     1  percent\n",
       "total_income_category                      \n",
       "A                         23     2      8.0\n",
       "B                       4660   354      7.1\n",
       "C                      14568  1353      8.5\n",
       "D                        328    21      6.0\n",
       "E                         20     2      9.1"
      ]
     },
     "execution_count": 34,
     "metadata": {},
     "output_type": "execute_result"
    }
   ],
   "source": [
    "# добавим в сводную таблицу total_income_data_pivot новый столбец percent, в котором посчитаем долю процента задержки в выплате\n",
    "##кредита в каждой категории(уровень дохода)\n",
    "total_income_data_pivot['percent'] = (total_income_data_pivot[1]\n",
    "                                      / (total_income_data_pivot[1] + total_income_data_pivot[0])) * 100\n",
    "total_income_data_pivot"
   ]
  },
  {
   "cell_type": "code",
   "execution_count": 35,
   "id": "0bb8f1a4",
   "metadata": {},
   "outputs": [
    {
     "data": {
      "text/html": [
       "<div>\n",
       "<style scoped>\n",
       "    .dataframe tbody tr th:only-of-type {\n",
       "        vertical-align: middle;\n",
       "    }\n",
       "\n",
       "    .dataframe tbody tr th {\n",
       "        vertical-align: top;\n",
       "    }\n",
       "\n",
       "    .dataframe thead th {\n",
       "        text-align: right;\n",
       "    }\n",
       "</style>\n",
       "<table border=\"1\" class=\"dataframe\">\n",
       "  <thead>\n",
       "    <tr style=\"text-align: right;\">\n",
       "      <th></th>\n",
       "      <th>total_income_category</th>\n",
       "      <th>percent</th>\n",
       "    </tr>\n",
       "  </thead>\n",
       "  <tbody>\n",
       "    <tr>\n",
       "      <th>0</th>\n",
       "      <td>A</td>\n",
       "      <td>8.0</td>\n",
       "    </tr>\n",
       "    <tr>\n",
       "      <th>1</th>\n",
       "      <td>B</td>\n",
       "      <td>7.1</td>\n",
       "    </tr>\n",
       "    <tr>\n",
       "      <th>2</th>\n",
       "      <td>C</td>\n",
       "      <td>8.5</td>\n",
       "    </tr>\n",
       "    <tr>\n",
       "      <th>3</th>\n",
       "      <td>D</td>\n",
       "      <td>6.0</td>\n",
       "    </tr>\n",
       "    <tr>\n",
       "      <th>4</th>\n",
       "      <td>E</td>\n",
       "      <td>9.1</td>\n",
       "    </tr>\n",
       "  </tbody>\n",
       "</table>\n",
       "</div>"
      ],
      "text/plain": [
       "  total_income_category  percent\n",
       "0                     A      8.0\n",
       "1                     B      7.1\n",
       "2                     C      8.5\n",
       "3                     D      6.0\n",
       "4                     E      9.1"
      ]
     },
     "execution_count": 35,
     "metadata": {},
     "output_type": "execute_result"
    }
   ],
   "source": [
    "# с помощью DataFrame строим финальный вариант таблицы со стобцами total_income_category и percent\n",
    "final_total_income = pd.DataFrame({'total_income_category': ['A', 'B', 'C', 'D', 'E'],\n",
    " 'percent': [8.0, 7.1, 8.5, 6.0, 9.1],\n",
    "})\n",
    "# сортируем данные в столбце total_income_category по алфавиту\n",
    "final_total_income = final_total_income.sort_values (by = ['total_income_category'], ascending = True)\n",
    "final_total_income"
   ]
  },
  {
   "cell_type": "code",
   "execution_count": 36,
   "id": "82b361da",
   "metadata": {},
   "outputs": [
    {
     "data": {
      "image/png": "[encoded data removed]",
      "text/plain": [
       "<Figure size 800x400 with 1 Axes>"
      ]
     },
     "metadata": {},
     "output_type": "display_data"
    }
   ],
   "source": [
    "# визуализируем данные с помощью столбчатой диаграммы\n",
    "sns.barplot(data = final_total_income.sort_values(by='percent'), x = 'total_income_category', y = 'percent', \n",
    "           palette = 'husl').set(title = 'График зависимости процента задолженности от уровня дохода')\n",
    "plt.xlabel('Уровень дохода')\n",
    "plt.ylabel('% задолженности');"
   ]
  },
  {
   "cell_type": "markdown",
   "id": "6dd14b57",
   "metadata": {
    "deletable": false,
    "id": "6dd14b57"
   },
   "source": [
    "**Вывод:** \n",
    "    Для начала проанализируем сбалансированность выборки. По категориям A и E она настолько мала, что мы не можем брать ее в расчет при анализе. Для категории D она немного больше, но тем не менее недостаточна для анализа по сравнению с двумя оставшимися категориями.\n",
    "    Поэтому анализируем данные всего по двум категориям B и С.\n",
    "    Люди с доходом от 50 001 до 200 000 рублей (категория С) не платят кредитные взносы вовремя в 8,5% случаев.\n",
    "    Люди с доходом от 200 001 до 1 000 000 рублей (категория B) задерживают платежи в 7,1% случаев.\n",
    "    Таким образом, прослеживается определенная зависисмость между уровнем дохода и своевременной платежеспособностью. Чем выше доход, тем задержки в платежах случаются реже."
   ]
  },
  {
   "cell_type": "markdown",
   "id": "1dcc9b12",
   "metadata": {
    "deletable": false,
    "editable": false,
    "id": "1dcc9b12"
   },
   "source": [
    "#### 3.4 Как разные цели кредита влияют на его возврат в срок?"
   ]
  },
  {
   "cell_type": "code",
   "execution_count": 37,
   "id": "c602bc8b",
   "metadata": {
    "deletable": false,
    "id": "c602bc8b"
   },
   "outputs": [],
   "source": [
    "# сформируем сводную таблицу purpose_category_data_pivot. Это действие позволит проследить связь между целью\n",
    "# кредита и тем, была ли задолженность по выплате кредита\n",
    "purpose_category_data_pivot = data.pivot_table(index = ['purpose_category'], columns = 'debt', \n",
    "values = 'gender', aggfunc = 'count')"
   ]
  },
  {
   "cell_type": "code",
   "execution_count": 38,
   "id": "0898b300",
   "metadata": {},
   "outputs": [
    {
     "data": {
      "text/html": [
       "<div>\n",
       "<style scoped>\n",
       "    .dataframe tbody tr th:only-of-type {\n",
       "        vertical-align: middle;\n",
       "    }\n",
       "\n",
       "    .dataframe tbody tr th {\n",
       "        vertical-align: top;\n",
       "    }\n",
       "\n",
       "    .dataframe thead th {\n",
       "        text-align: right;\n",
       "    }\n",
       "</style>\n",
       "<table border=\"1\" class=\"dataframe\">\n",
       "  <thead>\n",
       "    <tr style=\"text-align: right;\">\n",
       "      <th>debt</th>\n",
       "      <th>0</th>\n",
       "      <th>1</th>\n",
       "      <th>percent</th>\n",
       "    </tr>\n",
       "    <tr>\n",
       "      <th>purpose_category</th>\n",
       "      <th></th>\n",
       "      <th></th>\n",
       "      <th></th>\n",
       "    </tr>\n",
       "  </thead>\n",
       "  <tbody>\n",
       "    <tr>\n",
       "      <th>операции с автомобилем</th>\n",
       "      <td>3879</td>\n",
       "      <td>400</td>\n",
       "      <td>9.3</td>\n",
       "    </tr>\n",
       "    <tr>\n",
       "      <th>операции с недвижимостью</th>\n",
       "      <td>9971</td>\n",
       "      <td>780</td>\n",
       "      <td>7.3</td>\n",
       "    </tr>\n",
       "    <tr>\n",
       "      <th>получение образования</th>\n",
       "      <td>3619</td>\n",
       "      <td>369</td>\n",
       "      <td>9.3</td>\n",
       "    </tr>\n",
       "    <tr>\n",
       "      <th>проведение свадьбы</th>\n",
       "      <td>2130</td>\n",
       "      <td>183</td>\n",
       "      <td>7.9</td>\n",
       "    </tr>\n",
       "  </tbody>\n",
       "</table>\n",
       "</div>"
      ],
      "text/plain": [
       "debt                         0    1  percent\n",
       "purpose_category                            \n",
       "операции с автомобилем    3879  400      9.3\n",
       "операции с недвижимостью  9971  780      7.3\n",
       "получение образования     3619  369      9.3\n",
       "проведение свадьбы        2130  183      7.9"
      ]
     },
     "execution_count": 38,
     "metadata": {},
     "output_type": "execute_result"
    }
   ],
   "source": [
    "# добавим в сводную таблицу purpose_category_data_pivot новый столбец percent, в котором посчитаем долю \n",
    "# процента задержки в выплате кредита в каждой категории(в зависимости от цели кредита)\n",
    "purpose_category_data_pivot['percent'] = (purpose_category_data_pivot[1]\n",
    "                                      / (purpose_category_data_pivot[1] + purpose_category_data_pivot[0])) * 100\n",
    "purpose_category_data_pivot"
   ]
  },
  {
   "cell_type": "code",
   "execution_count": 39,
   "id": "feb28b31",
   "metadata": {},
   "outputs": [
    {
     "data": {
      "text/html": [
       "<div>\n",
       "<style scoped>\n",
       "    .dataframe tbody tr th:only-of-type {\n",
       "        vertical-align: middle;\n",
       "    }\n",
       "\n",
       "    .dataframe tbody tr th {\n",
       "        vertical-align: top;\n",
       "    }\n",
       "\n",
       "    .dataframe thead th {\n",
       "        text-align: right;\n",
       "    }\n",
       "</style>\n",
       "<table border=\"1\" class=\"dataframe\">\n",
       "  <thead>\n",
       "    <tr style=\"text-align: right;\">\n",
       "      <th></th>\n",
       "      <th>purpose_category</th>\n",
       "      <th>percent</th>\n",
       "    </tr>\n",
       "  </thead>\n",
       "  <tbody>\n",
       "    <tr>\n",
       "      <th>0</th>\n",
       "      <td>операции с недвижимостью</td>\n",
       "      <td>7.3</td>\n",
       "    </tr>\n",
       "    <tr>\n",
       "      <th>1</th>\n",
       "      <td>проведение свадьбы</td>\n",
       "      <td>7.9</td>\n",
       "    </tr>\n",
       "    <tr>\n",
       "      <th>2</th>\n",
       "      <td>получение образования</td>\n",
       "      <td>9.3</td>\n",
       "    </tr>\n",
       "    <tr>\n",
       "      <th>3</th>\n",
       "      <td>операции с автомобилем</td>\n",
       "      <td>9.3</td>\n",
       "    </tr>\n",
       "  </tbody>\n",
       "</table>\n",
       "</div>"
      ],
      "text/plain": [
       "           purpose_category  percent\n",
       "0  операции с недвижимостью      7.3\n",
       "1        проведение свадьбы      7.9\n",
       "2     получение образования      9.3\n",
       "3    операции с автомобилем      9.3"
      ]
     },
     "execution_count": 39,
     "metadata": {},
     "output_type": "execute_result"
    }
   ],
   "source": [
    "# c помощью DataFrame строим финальный вариант таблицы со стобцами purpose_category и percent\n",
    "final_purpose = pd.DataFrame({'purpose_category': ['операции с недвижимостью', 'проведение свадьбы', \n",
    "'получение образования', 'операции с автомобилем'], 'percent': [7.3, 7.9, 9.3, 9.3],})\n",
    "# cортируем данные в столбце percent по возрастанию\n",
    "final_purpose = final_purpose.sort_values (by = ['percent'], ascending = True)\n",
    "final_purpose"
   ]
  },
  {
   "cell_type": "code",
   "execution_count": 40,
   "id": "8fd409cb",
   "metadata": {},
   "outputs": [
    {
     "data": {
      "image/png": "[encoded data removed]",
      "text/plain": [
       "<Figure size 800x400 with 1 Axes>"
      ]
     },
     "metadata": {},
     "output_type": "display_data"
    }
   ],
   "source": [
    "# визуализируем данные с помощью столбчатой диаграммы\n",
    "sns.barplot(data = final_purpose.sort_values(by='percent'), x = 'purpose_category', y = 'percent', \n",
    "           palette = 'husl').set(title = 'График зависимости процента задолженности от цели кредита')\n",
    "plt.xlabel('Цель кредита')\n",
    "plt.ylabel('% задолженности')\n",
    "plt.xticks(rotation=45);"
   ]
  },
  {
   "cell_type": "markdown",
   "id": "c3a22595",
   "metadata": {
    "deletable": false,
    "id": "cf05ed63"
   },
   "source": [
    "**Вывод:** \n",
    "    Анализ таблицы и линейного графика позволяет сделать вывод что люди, берущие кредиты для операции с недвижимостью и на проведение свадьбы существенно реже (в среднем на 1,7%), чем остальные категории,  опаздывают с кредитными платежами, их доля составляет 7,3% и 7,9% соответственно.\n",
    "    Своевременная оплата кредитов на образование и операции с автомобилем происходит реже (9,3% людей оплачивают кредитные взносы с задержкой).\n",
    "    Можно предположить, что на проведение свадьбы, образование и операции с автомобилями люди берут потребительские кредиты, сумма которых не очень большая. В случае задержки платежа банковские пенни будут невелики.\n",
    "    На операции с недвижимостью люди, как правило, берут ипотеку на большие суммы,  с высокими ежемесячными выплатами, в случае не погашения выплаты в срок, задолженность будет сильно увеличиваться, поэтому эта категория заёмщиков более ответственно подходит к вопросу своевременности в оплате кредита. "
   ]
  },
  {
   "cell_type": "markdown",
   "id": "46c1f10b",
   "metadata": {
    "deletable": false,
    "editable": false,
    "id": "46c1f10b"
   },
   "source": [
    "#### 3.5 Приведите возможные причины появления пропусков в исходных данных."
   ]
  },
  {
   "cell_type": "markdown",
   "id": "3697d2a9",
   "metadata": {
    "deletable": false,
    "id": "3697d2a9"
   },
   "source": [
    "**Ответ:**\n",
    "    Причинами  появления пропусков могут служить множество факторов, такие как отсутствие возможности получения или обработки данных, искажение или утаивание нужной для работы информации, человеческий фактор, ошибки ввода данных, выход из строя технического оборудования, данные могут быть неизвестны и т.д."
   ]
  },
  {
   "cell_type": "markdown",
   "id": "3137d257",
   "metadata": {
    "deletable": false,
    "editable": false,
    "id": "3137d257"
   },
   "source": [
    "#### 3.6 Объясните, почему заполнить пропуски медианным значением — лучшее решение для количественных переменных."
   ]
  },
  {
   "cell_type": "markdown",
   "id": "cf40012a",
   "metadata": {
    "deletable": false,
    "id": "cf40012a"
   },
   "source": [
    "**Ответ:** \n",
    "    Заполнение пропусков медианным значением для количественных переменных  является одним из самых простых способов восстановления данных. Суть метода заключается в том, чтобы заполнить пропущенные данные медианным значением, высчитанным из доступной выборки. \n",
    "    Данный метод прост в реализации. Метод дает более правдоподобную картину, чем просто удаление данных с пропусками, что может привести к безвозвратной потере важных для анализа данных, и в дальнейшем приведет к неточным выводам и искажению результатов.\n",
    "    Медианный же метод повышает точность и максимально приближает пропущенные данные к истинным, на него не влияют внешние факторы."
   ]
  },
  {
   "cell_type": "markdown",
   "id": "57bc304e",
   "metadata": {
    "deletable": false,
    "editable": false,
    "id": "57bc304e"
   },
   "source": [
    "### Шаг 4: Общий вывод."
   ]
  },
  {
   "cell_type": "markdown",
   "id": "1ab75d1c",
   "metadata": {
    "deletable": false,
    "id": "1ab75d1c"
   },
   "source": [
    "**Анализ предоставленных данных повзоляет сделат следующие выводы:**\n",
    "1. Процент должников прямо зависит от количества детей. Чем детей больше, тем чаще кредиты не выплачиваются в срок, вероятность этого возрастает на 2% у семей с 2мя детьми в отличие от бездетных.   \n",
    "2. Зависимость между семейным положением и возвратом кредита в срок также имеет место быть, хотя она не слишком очевидна из-за несбалансированности выборки. Люди, состоящие в официальном браке, в среднем на 2% реже имеют задолженности по платежам, чем неженатые или состоящие в гражданском браке, эти две категории можно объединить в одну, в принципе.\n",
    "3. Между уровнем дохода и возвратом кредита также есть  зависимость. Проанализировав две категории людей, выборка по которым была достаточной, делаем вывод, что чем выше уровень дохода, тем ниже (на 1,4%) вероятность задержки в сроках погашения кредита.\n",
    "4. Связь между целью кредита и оплатой кредитных взносов в срок хорошо прослеживается. Кредиты на операции с недвижимостью с большей долей вероятности (на 2%) будут оплачены вовремя, чем кредиты на образование. Возможно, это связано с суммой кредита, процентной ставкой по кредиту и категорией кредита, потребительский он или ипотечный. Заёмщики с ипотечными кредитами  более добросовестно их выплачивают."
   ]
  }
 ],
 "metadata": {
  "ExecuteTimeLog": [
   {
    "duration": 61,
    "start_time": "2023-03-17T09:05:50.278Z"
   },
   {
    "duration": 6,
    "start_time": "2023-03-17T09:06:51.271Z"
   },
   {
    "duration": 484,
    "start_time": "2023-03-17T09:08:14.514Z"
   },
   {
    "duration": 31,
    "start_time": "2023-03-17T09:08:20.742Z"
   },
   {
    "duration": 17,
    "start_time": "2023-03-17T09:08:25.098Z"
   },
   {
    "duration": 10,
    "start_time": "2023-03-17T09:08:35.398Z"
   },
   {
    "duration": 51,
    "start_time": "2023-03-17T09:08:38.631Z"
   },
   {
    "duration": 5,
    "start_time": "2023-03-17T09:08:41.614Z"
   },
   {
    "duration": 8,
    "start_time": "2023-03-17T09:08:43.905Z"
   },
   {
    "duration": 5,
    "start_time": "2023-03-17T09:08:47.315Z"
   },
   {
    "duration": 7,
    "start_time": "2023-03-17T09:08:50.631Z"
   },
   {
    "duration": 5,
    "start_time": "2023-03-17T09:08:53.530Z"
   },
   {
    "duration": 34,
    "start_time": "2023-03-17T09:08:57.089Z"
   },
   {
    "duration": 9,
    "start_time": "2023-03-17T09:08:59.299Z"
   },
   {
    "duration": 4,
    "start_time": "2023-03-17T09:09:03.014Z"
   },
   {
    "duration": 14,
    "start_time": "2023-03-17T09:09:05.114Z"
   },
   {
    "duration": 34,
    "start_time": "2023-03-17T09:09:07.365Z"
   },
   {
    "duration": 21,
    "start_time": "2023-03-17T09:09:09.364Z"
   },
   {
    "duration": 3,
    "start_time": "2023-03-17T09:09:12.048Z"
   },
   {
    "duration": 14,
    "start_time": "2023-03-17T09:09:14.631Z"
   },
   {
    "duration": 6,
    "start_time": "2023-03-17T09:09:17.497Z"
   },
   {
    "duration": 4,
    "start_time": "2023-03-17T09:09:21.595Z"
   },
   {
    "duration": 8,
    "start_time": "2023-03-17T09:09:24.998Z"
   },
   {
    "duration": 16,
    "start_time": "2023-03-17T09:09:29.700Z"
   },
   {
    "duration": 12,
    "start_time": "2023-03-17T09:09:33.564Z"
   },
   {
    "duration": 35,
    "start_time": "2023-03-17T09:17:32.371Z"
   },
   {
    "duration": 13,
    "start_time": "2023-03-17T09:17:40.545Z"
   },
   {
    "duration": 9,
    "start_time": "2023-03-17T09:17:42.952Z"
   },
   {
    "duration": 7,
    "start_time": "2023-03-17T09:18:01.993Z"
   },
   {
    "duration": 1212,
    "start_time": "2023-03-17T09:33:20.512Z"
   },
   {
    "duration": 4,
    "start_time": "2023-03-17T09:38:13.704Z"
   },
   {
    "duration": 7,
    "start_time": "2023-03-17T09:38:32.416Z"
   },
   {
    "duration": 4,
    "start_time": "2023-03-17T09:40:09.572Z"
   },
   {
    "duration": 7,
    "start_time": "2023-03-17T09:40:34.952Z"
   },
   {
    "duration": 1989,
    "start_time": "2023-03-17T09:40:54.150Z"
   },
   {
    "duration": 7,
    "start_time": "2023-03-17T09:42:24.791Z"
   },
   {
    "duration": 70,
    "start_time": "2023-03-17T09:44:59.702Z"
   },
   {
    "duration": 100,
    "start_time": "2023-03-17T09:45:10.668Z"
   },
   {
    "duration": 9,
    "start_time": "2023-03-17T09:45:22.091Z"
   },
   {
    "duration": 119,
    "start_time": "2023-03-17T09:45:35.891Z"
   },
   {
    "duration": 14,
    "start_time": "2023-03-17T09:48:16.838Z"
   },
   {
    "duration": 105,
    "start_time": "2023-03-17T09:50:21.418Z"
   },
   {
    "duration": 16,
    "start_time": "2023-03-17T09:50:46.421Z"
   },
   {
    "duration": 5,
    "start_time": "2023-03-17T09:55:17.752Z"
   },
   {
    "duration": 235,
    "start_time": "2023-03-17T09:58:24.321Z"
   },
   {
    "duration": 107,
    "start_time": "2023-03-17T09:59:16.505Z"
   },
   {
    "duration": 222,
    "start_time": "2023-03-17T09:59:31.518Z"
   },
   {
    "duration": 263,
    "start_time": "2023-03-17T10:03:21.975Z"
   },
   {
    "duration": 221,
    "start_time": "2023-03-17T10:03:31.334Z"
   },
   {
    "duration": 280,
    "start_time": "2023-03-17T10:03:52.550Z"
   },
   {
    "duration": 320,
    "start_time": "2023-03-17T10:04:52.635Z"
   },
   {
    "duration": 96,
    "start_time": "2023-03-17T10:05:25.902Z"
   },
   {
    "duration": 83,
    "start_time": "2023-03-17T10:05:36.736Z"
   },
   {
    "duration": 7,
    "start_time": "2023-03-17T10:05:57.101Z"
   },
   {
    "duration": 5,
    "start_time": "2023-03-17T10:05:59.791Z"
   },
   {
    "duration": 5,
    "start_time": "2023-03-17T10:06:02.735Z"
   },
   {
    "duration": 5,
    "start_time": "2023-03-17T10:06:06.695Z"
   },
   {
    "duration": 87,
    "start_time": "2023-03-17T10:06:12.236Z"
   },
   {
    "duration": 6,
    "start_time": "2023-03-17T10:06:28.191Z"
   },
   {
    "duration": 6,
    "start_time": "2023-03-17T10:06:30.539Z"
   },
   {
    "duration": 6,
    "start_time": "2023-03-17T10:06:38.721Z"
   },
   {
    "duration": 4,
    "start_time": "2023-03-17T10:06:55.233Z"
   },
   {
    "duration": 6,
    "start_time": "2023-03-17T10:06:58.501Z"
   },
   {
    "duration": 456,
    "start_time": "2023-03-17T10:08:03.396Z"
   },
   {
    "duration": 20,
    "start_time": "2023-03-17T10:08:03.854Z"
   },
   {
    "duration": 23,
    "start_time": "2023-03-17T10:08:03.875Z"
   },
   {
    "duration": 20,
    "start_time": "2023-03-17T10:08:03.901Z"
   },
   {
    "duration": 34,
    "start_time": "2023-03-17T10:08:03.922Z"
   },
   {
    "duration": 3,
    "start_time": "2023-03-17T10:08:03.957Z"
   },
   {
    "duration": 55,
    "start_time": "2023-03-17T10:08:03.961Z"
   },
   {
    "duration": 65,
    "start_time": "2023-03-17T10:08:04.018Z"
   },
   {
    "duration": 43,
    "start_time": "2023-03-17T10:08:04.085Z"
   },
   {
    "duration": 23,
    "start_time": "2023-03-17T10:08:04.131Z"
   },
   {
    "duration": 68,
    "start_time": "2023-03-17T10:08:04.155Z"
   },
   {
    "duration": 9,
    "start_time": "2023-03-17T10:08:04.224Z"
   },
   {
    "duration": 11,
    "start_time": "2023-03-17T10:08:04.235Z"
   },
   {
    "duration": 12,
    "start_time": "2023-03-17T10:08:04.247Z"
   },
   {
    "duration": 35,
    "start_time": "2023-03-17T10:08:04.260Z"
   },
   {
    "duration": 21,
    "start_time": "2023-03-17T10:08:04.297Z"
   },
   {
    "duration": 3,
    "start_time": "2023-03-17T10:08:04.320Z"
   },
   {
    "duration": 20,
    "start_time": "2023-03-17T10:08:04.325Z"
   },
   {
    "duration": 5,
    "start_time": "2023-03-17T10:08:04.346Z"
   },
   {
    "duration": 3,
    "start_time": "2023-03-17T10:08:04.353Z"
   },
   {
    "duration": 15,
    "start_time": "2023-03-17T10:08:04.357Z"
   },
   {
    "duration": 24,
    "start_time": "2023-03-17T10:08:04.373Z"
   },
   {
    "duration": 4,
    "start_time": "2023-03-17T10:08:04.399Z"
   },
   {
    "duration": 29,
    "start_time": "2023-03-17T10:08:04.405Z"
   },
   {
    "duration": 9,
    "start_time": "2023-03-17T10:08:04.436Z"
   },
   {
    "duration": 9,
    "start_time": "2023-03-17T10:08:04.446Z"
   },
   {
    "duration": 84,
    "start_time": "2023-03-17T10:08:04.456Z"
   },
   {
    "duration": 0,
    "start_time": "2023-03-17T10:08:04.541Z"
   },
   {
    "duration": 0,
    "start_time": "2023-03-17T10:08:04.542Z"
   },
   {
    "duration": 0,
    "start_time": "2023-03-17T10:08:04.543Z"
   },
   {
    "duration": 3,
    "start_time": "2023-03-17T10:08:56.823Z"
   },
   {
    "duration": 5,
    "start_time": "2023-03-17T10:09:50.351Z"
   },
   {
    "duration": 14,
    "start_time": "2023-03-17T10:10:30.801Z"
   },
   {
    "duration": 6,
    "start_time": "2023-03-17T10:10:49.690Z"
   },
   {
    "duration": 456,
    "start_time": "2023-03-17T10:11:02.698Z"
   },
   {
    "duration": 19,
    "start_time": "2023-03-17T10:11:03.156Z"
   },
   {
    "duration": 45,
    "start_time": "2023-03-17T10:11:03.177Z"
   },
   {
    "duration": 19,
    "start_time": "2023-03-17T10:11:03.224Z"
   },
   {
    "duration": 40,
    "start_time": "2023-03-17T10:11:03.244Z"
   },
   {
    "duration": 4,
    "start_time": "2023-03-17T10:11:03.286Z"
   },
   {
    "duration": 25,
    "start_time": "2023-03-17T10:11:03.292Z"
   },
   {
    "duration": 20,
    "start_time": "2023-03-17T10:11:03.318Z"
   },
   {
    "duration": 25,
    "start_time": "2023-03-17T10:11:03.339Z"
   },
   {
    "duration": 8,
    "start_time": "2023-03-17T10:11:03.367Z"
   },
   {
    "duration": 51,
    "start_time": "2023-03-17T10:11:03.377Z"
   },
   {
    "duration": 7,
    "start_time": "2023-03-17T10:11:03.430Z"
   },
   {
    "duration": 14,
    "start_time": "2023-03-17T10:11:03.438Z"
   },
   {
    "duration": 43,
    "start_time": "2023-03-17T10:11:03.453Z"
   },
   {
    "duration": 23,
    "start_time": "2023-03-17T10:11:03.498Z"
   },
   {
    "duration": 14,
    "start_time": "2023-03-17T10:11:03.523Z"
   },
   {
    "duration": 3,
    "start_time": "2023-03-17T10:11:03.538Z"
   },
   {
    "duration": 27,
    "start_time": "2023-03-17T10:11:03.542Z"
   },
   {
    "duration": 35,
    "start_time": "2023-03-17T10:11:03.570Z"
   },
   {
    "duration": 26,
    "start_time": "2023-03-17T10:11:03.606Z"
   },
   {
    "duration": 21,
    "start_time": "2023-03-17T10:11:03.633Z"
   },
   {
    "duration": 18,
    "start_time": "2023-03-17T10:11:03.655Z"
   },
   {
    "duration": 34,
    "start_time": "2023-03-17T10:11:03.675Z"
   },
   {
    "duration": 23,
    "start_time": "2023-03-17T10:11:03.710Z"
   },
   {
    "duration": 10,
    "start_time": "2023-03-17T10:11:03.734Z"
   },
   {
    "duration": 11,
    "start_time": "2023-03-17T10:11:03.745Z"
   },
   {
    "duration": 97,
    "start_time": "2023-03-17T10:11:03.757Z"
   },
   {
    "duration": 0,
    "start_time": "2023-03-17T10:11:03.855Z"
   },
   {
    "duration": 0,
    "start_time": "2023-03-17T10:11:03.856Z"
   },
   {
    "duration": 0,
    "start_time": "2023-03-17T10:11:03.857Z"
   },
   {
    "duration": 94,
    "start_time": "2023-03-17T10:11:20.745Z"
   },
   {
    "duration": 1022,
    "start_time": "2023-03-17T10:11:44.310Z"
   },
   {
    "duration": 285,
    "start_time": "2023-03-17T10:12:18.269Z"
   },
   {
    "duration": 276,
    "start_time": "2023-03-17T10:14:31.659Z"
   },
   {
    "duration": 8,
    "start_time": "2023-03-17T10:14:57.325Z"
   },
   {
    "duration": 16,
    "start_time": "2023-03-17T10:15:06.396Z"
   },
   {
    "duration": 10,
    "start_time": "2023-03-17T10:16:43.078Z"
   },
   {
    "duration": 1544,
    "start_time": "2023-03-17T10:18:22.749Z"
   },
   {
    "duration": 1335,
    "start_time": "2023-03-17T10:19:55.261Z"
   },
   {
    "duration": 14,
    "start_time": "2023-03-17T10:20:46.145Z"
   },
   {
    "duration": 11,
    "start_time": "2023-03-17T10:27:02.565Z"
   },
   {
    "duration": 23,
    "start_time": "2023-03-17T10:28:39.705Z"
   },
   {
    "duration": 18,
    "start_time": "2023-03-17T10:29:34.018Z"
   },
   {
    "duration": 333,
    "start_time": "2023-03-17T10:30:07.830Z"
   },
   {
    "duration": 16,
    "start_time": "2023-03-17T10:30:28.507Z"
   },
   {
    "duration": 17,
    "start_time": "2023-03-17T10:30:40.831Z"
   },
   {
    "duration": 19,
    "start_time": "2023-03-17T10:31:04.448Z"
   },
   {
    "duration": 151,
    "start_time": "2023-03-17T10:37:31.749Z"
   },
   {
    "duration": 121,
    "start_time": "2023-03-17T10:38:02.703Z"
   },
   {
    "duration": 112,
    "start_time": "2023-03-17T10:38:47.750Z"
   },
   {
    "duration": 125,
    "start_time": "2023-03-17T11:22:11.375Z"
   },
   {
    "duration": 17,
    "start_time": "2023-03-17T11:30:19.258Z"
   },
   {
    "duration": 7,
    "start_time": "2023-03-17T11:33:03.098Z"
   },
   {
    "duration": 15,
    "start_time": "2023-03-17T11:43:49.478Z"
   },
   {
    "duration": 9,
    "start_time": "2023-03-17T11:44:14.505Z"
   },
   {
    "duration": 15,
    "start_time": "2023-03-17T11:44:23.361Z"
   },
   {
    "duration": 8,
    "start_time": "2023-03-17T11:45:29.928Z"
   },
   {
    "duration": 1714,
    "start_time": "2023-03-17T11:45:56.145Z"
   },
   {
    "duration": 1414,
    "start_time": "2023-03-17T11:46:29.115Z"
   },
   {
    "duration": 434,
    "start_time": "2023-03-17T11:47:13.963Z"
   },
   {
    "duration": 22,
    "start_time": "2023-03-17T11:47:14.402Z"
   },
   {
    "duration": 13,
    "start_time": "2023-03-17T11:47:14.426Z"
   },
   {
    "duration": 8,
    "start_time": "2023-03-17T11:47:14.442Z"
   },
   {
    "duration": 54,
    "start_time": "2023-03-17T11:47:14.451Z"
   },
   {
    "duration": 4,
    "start_time": "2023-03-17T11:47:14.507Z"
   },
   {
    "duration": 16,
    "start_time": "2023-03-17T11:47:14.512Z"
   },
   {
    "duration": 3,
    "start_time": "2023-03-17T11:47:14.530Z"
   },
   {
    "duration": 11,
    "start_time": "2023-03-17T11:47:14.534Z"
   },
   {
    "duration": 3,
    "start_time": "2023-03-17T11:47:14.550Z"
   },
   {
    "duration": 47,
    "start_time": "2023-03-17T11:47:14.555Z"
   },
   {
    "duration": 10,
    "start_time": "2023-03-17T11:47:14.603Z"
   },
   {
    "duration": 4,
    "start_time": "2023-03-17T11:47:14.614Z"
   },
   {
    "duration": 11,
    "start_time": "2023-03-17T11:47:14.620Z"
   },
   {
    "duration": 17,
    "start_time": "2023-03-17T11:47:14.633Z"
   },
   {
    "duration": 49,
    "start_time": "2023-03-17T11:47:14.651Z"
   },
   {
    "duration": 4,
    "start_time": "2023-03-17T11:47:14.701Z"
   },
   {
    "duration": 11,
    "start_time": "2023-03-17T11:47:14.707Z"
   },
   {
    "duration": 4,
    "start_time": "2023-03-17T11:47:14.720Z"
   },
   {
    "duration": 4,
    "start_time": "2023-03-17T11:47:14.726Z"
   },
   {
    "duration": 13,
    "start_time": "2023-03-17T11:47:14.731Z"
   },
   {
    "duration": 18,
    "start_time": "2023-03-17T11:47:14.745Z"
   },
   {
    "duration": 6,
    "start_time": "2023-03-17T11:47:14.764Z"
   },
   {
    "duration": 14,
    "start_time": "2023-03-17T11:47:14.771Z"
   },
   {
    "duration": 19,
    "start_time": "2023-03-17T11:47:14.801Z"
   },
   {
    "duration": 5,
    "start_time": "2023-03-17T11:47:14.821Z"
   },
   {
    "duration": 1002,
    "start_time": "2023-03-17T11:47:14.828Z"
   },
   {
    "duration": 121,
    "start_time": "2023-03-17T11:47:15.832Z"
   },
   {
    "duration": 14,
    "start_time": "2023-03-17T11:47:15.954Z"
   },
   {
    "duration": 27,
    "start_time": "2023-03-17T11:47:15.969Z"
   },
   {
    "duration": 2015,
    "start_time": "2023-03-17T11:47:16.006Z"
   },
   {
    "duration": 0,
    "start_time": "2023-03-17T11:47:18.023Z"
   },
   {
    "duration": 0,
    "start_time": "2023-03-17T11:47:18.023Z"
   },
   {
    "duration": 16,
    "start_time": "2023-03-17T11:47:42.032Z"
   },
   {
    "duration": 1466,
    "start_time": "2023-03-17T11:48:33.247Z"
   },
   {
    "duration": 10,
    "start_time": "2023-03-17T11:48:56.334Z"
   },
   {
    "duration": 36,
    "start_time": "2023-03-17T11:49:40.962Z"
   },
   {
    "duration": 95,
    "start_time": "2023-03-17T11:50:00.115Z"
   },
   {
    "duration": 1518,
    "start_time": "2023-03-17T11:50:12.733Z"
   },
   {
    "duration": 1228,
    "start_time": "2023-03-17T11:51:16.917Z"
   },
   {
    "duration": 1573,
    "start_time": "2023-03-17T11:51:37.002Z"
   },
   {
    "duration": 1131,
    "start_time": "2023-03-17T11:52:00.734Z"
   },
   {
    "duration": 13,
    "start_time": "2023-03-17T11:53:33.400Z"
   },
   {
    "duration": 17,
    "start_time": "2023-03-17T11:53:50.417Z"
   },
   {
    "duration": 12,
    "start_time": "2023-03-17T11:54:21.951Z"
   },
   {
    "duration": 17,
    "start_time": "2023-03-17T11:54:43.808Z"
   },
   {
    "duration": 18,
    "start_time": "2023-03-17T11:55:13.804Z"
   },
   {
    "duration": 9,
    "start_time": "2023-03-17T11:55:29.002Z"
   },
   {
    "duration": 12,
    "start_time": "2023-03-17T11:55:46.903Z"
   },
   {
    "duration": 4,
    "start_time": "2023-03-17T11:56:07.366Z"
   },
   {
    "duration": 14,
    "start_time": "2023-03-17T11:56:17.100Z"
   },
   {
    "duration": 5,
    "start_time": "2023-03-17T11:56:35.263Z"
   },
   {
    "duration": 15,
    "start_time": "2023-03-17T11:59:10.098Z"
   },
   {
    "duration": 8,
    "start_time": "2023-03-17T11:59:25.015Z"
   },
   {
    "duration": 1789,
    "start_time": "2023-03-17T11:59:46.130Z"
   },
   {
    "duration": 10,
    "start_time": "2023-03-17T12:01:02.408Z"
   },
   {
    "duration": 9,
    "start_time": "2023-03-17T12:01:29.638Z"
   },
   {
    "duration": 106,
    "start_time": "2023-03-17T12:04:57.648Z"
   },
   {
    "duration": 89,
    "start_time": "2023-03-17T12:05:10.648Z"
   },
   {
    "duration": 9,
    "start_time": "2023-03-17T12:05:55.303Z"
   },
   {
    "duration": 9,
    "start_time": "2023-03-17T12:09:53.547Z"
   },
   {
    "duration": 7,
    "start_time": "2023-03-17T12:10:08.282Z"
   },
   {
    "duration": 420,
    "start_time": "2023-03-17T12:10:32.651Z"
   },
   {
    "duration": 44,
    "start_time": "2023-03-17T12:10:33.073Z"
   },
   {
    "duration": 49,
    "start_time": "2023-03-17T12:10:33.118Z"
   },
   {
    "duration": 41,
    "start_time": "2023-03-17T12:10:33.169Z"
   },
   {
    "duration": 99,
    "start_time": "2023-03-17T12:10:33.212Z"
   },
   {
    "duration": 19,
    "start_time": "2023-03-17T12:10:33.312Z"
   },
   {
    "duration": 25,
    "start_time": "2023-03-17T12:10:33.333Z"
   },
   {
    "duration": 51,
    "start_time": "2023-03-17T12:10:33.359Z"
   },
   {
    "duration": 14,
    "start_time": "2023-03-17T12:10:33.412Z"
   },
   {
    "duration": 32,
    "start_time": "2023-03-17T12:10:33.429Z"
   },
   {
    "duration": 88,
    "start_time": "2023-03-17T12:10:33.462Z"
   },
   {
    "duration": 9,
    "start_time": "2023-03-17T12:10:33.551Z"
   },
   {
    "duration": 44,
    "start_time": "2023-03-17T12:10:33.562Z"
   },
   {
    "duration": 13,
    "start_time": "2023-03-17T12:10:33.607Z"
   },
   {
    "duration": 33,
    "start_time": "2023-03-17T12:10:33.622Z"
   },
   {
    "duration": 21,
    "start_time": "2023-03-17T12:10:33.657Z"
   },
   {
    "duration": 43,
    "start_time": "2023-03-17T12:10:33.679Z"
   },
   {
    "duration": 19,
    "start_time": "2023-03-17T12:10:33.723Z"
   },
   {
    "duration": 16,
    "start_time": "2023-03-17T12:10:33.744Z"
   },
   {
    "duration": 78,
    "start_time": "2023-03-17T12:10:33.761Z"
   },
   {
    "duration": 21,
    "start_time": "2023-03-17T12:10:33.841Z"
   },
   {
    "duration": 50,
    "start_time": "2023-03-17T12:10:33.863Z"
   },
   {
    "duration": 34,
    "start_time": "2023-03-17T12:10:33.915Z"
   },
   {
    "duration": 17,
    "start_time": "2023-03-17T12:10:33.951Z"
   },
   {
    "duration": 40,
    "start_time": "2023-03-17T12:10:33.969Z"
   },
   {
    "duration": 27,
    "start_time": "2023-03-17T12:10:34.010Z"
   },
   {
    "duration": 1022,
    "start_time": "2023-03-17T12:10:34.038Z"
   },
   {
    "duration": 161,
    "start_time": "2023-03-17T12:10:35.079Z"
   },
   {
    "duration": 16,
    "start_time": "2023-03-17T12:10:35.241Z"
   },
   {
    "duration": 6,
    "start_time": "2023-03-17T12:10:35.259Z"
   },
   {
    "duration": 71,
    "start_time": "2023-03-17T12:10:35.266Z"
   },
   {
    "duration": 16,
    "start_time": "2023-03-17T12:10:35.338Z"
   },
   {
    "duration": 137,
    "start_time": "2023-03-17T12:10:35.355Z"
   },
   {
    "duration": 0,
    "start_time": "2023-03-17T12:10:35.493Z"
   },
   {
    "duration": 1,
    "start_time": "2023-03-17T12:10:35.494Z"
   },
   {
    "duration": 5,
    "start_time": "2023-03-17T12:11:20.606Z"
   },
   {
    "duration": 1655,
    "start_time": "2023-03-17T12:11:47.034Z"
   },
   {
    "duration": 1350,
    "start_time": "2023-03-17T12:12:26.803Z"
   },
   {
    "duration": 1545,
    "start_time": "2023-03-17T12:12:33.508Z"
   },
   {
    "duration": 427,
    "start_time": "2023-03-17T12:12:56.529Z"
   },
   {
    "duration": 19,
    "start_time": "2023-03-17T12:12:56.958Z"
   },
   {
    "duration": 40,
    "start_time": "2023-03-17T12:12:56.979Z"
   },
   {
    "duration": 9,
    "start_time": "2023-03-17T12:12:57.021Z"
   },
   {
    "duration": 28,
    "start_time": "2023-03-17T12:12:57.031Z"
   },
   {
    "duration": 3,
    "start_time": "2023-03-17T12:12:57.061Z"
   },
   {
    "duration": 12,
    "start_time": "2023-03-17T12:12:57.066Z"
   },
   {
    "duration": 32,
    "start_time": "2023-03-17T12:12:57.080Z"
   },
   {
    "duration": 10,
    "start_time": "2023-03-17T12:12:57.113Z"
   },
   {
    "duration": 4,
    "start_time": "2023-03-17T12:12:57.126Z"
   },
   {
    "duration": 34,
    "start_time": "2023-03-17T12:12:57.131Z"
   },
   {
    "duration": 7,
    "start_time": "2023-03-17T12:12:57.167Z"
   },
   {
    "duration": 3,
    "start_time": "2023-03-17T12:12:57.175Z"
   },
   {
    "duration": 38,
    "start_time": "2023-03-17T12:12:57.181Z"
   },
   {
    "duration": 20,
    "start_time": "2023-03-17T12:12:57.220Z"
   },
   {
    "duration": 14,
    "start_time": "2023-03-17T12:12:57.241Z"
   },
   {
    "duration": 3,
    "start_time": "2023-03-17T12:12:57.256Z"
   },
   {
    "duration": 10,
    "start_time": "2023-03-17T12:12:57.260Z"
   },
   {
    "duration": 5,
    "start_time": "2023-03-17T12:12:57.272Z"
   },
   {
    "duration": 30,
    "start_time": "2023-03-17T12:12:57.278Z"
   },
   {
    "duration": 16,
    "start_time": "2023-03-17T12:12:57.310Z"
   },
   {
    "duration": 16,
    "start_time": "2023-03-17T12:12:57.327Z"
   },
   {
    "duration": 6,
    "start_time": "2023-03-17T12:12:57.344Z"
   },
   {
    "duration": 8,
    "start_time": "2023-03-17T12:12:57.351Z"
   },
   {
    "duration": 14,
    "start_time": "2023-03-17T12:12:57.360Z"
   },
   {
    "duration": 55,
    "start_time": "2023-03-17T12:12:57.375Z"
   },
   {
    "duration": 932,
    "start_time": "2023-03-17T12:12:57.431Z"
   },
   {
    "duration": 141,
    "start_time": "2023-03-17T12:12:58.365Z"
   },
   {
    "duration": 16,
    "start_time": "2023-03-17T12:12:58.507Z"
   },
   {
    "duration": 5,
    "start_time": "2023-03-17T12:12:58.524Z"
   },
   {
    "duration": 10,
    "start_time": "2023-03-17T12:12:58.531Z"
   },
   {
    "duration": 9,
    "start_time": "2023-03-17T12:12:58.542Z"
   },
   {
    "duration": 147,
    "start_time": "2023-03-17T12:15:26.573Z"
   },
   {
    "duration": 11,
    "start_time": "2023-03-17T12:15:52.265Z"
   },
   {
    "duration": 13,
    "start_time": "2023-03-17T12:16:21.173Z"
   },
   {
    "duration": 3,
    "start_time": "2023-03-17T12:16:41.623Z"
   },
   {
    "duration": 5,
    "start_time": "2023-03-17T12:17:02.472Z"
   },
   {
    "duration": 5,
    "start_time": "2023-03-17T12:17:32.440Z"
   },
   {
    "duration": 9,
    "start_time": "2023-03-17T12:21:57.611Z"
   },
   {
    "duration": 1412,
    "start_time": "2023-03-17T12:41:44.429Z"
   },
   {
    "duration": 1265,
    "start_time": "2023-03-17T12:41:59.194Z"
   },
   {
    "duration": 4,
    "start_time": "2023-03-17T12:43:44.346Z"
   },
   {
    "duration": 4,
    "start_time": "2023-03-17T12:44:20.114Z"
   },
   {
    "duration": 8,
    "start_time": "2023-03-17T12:46:11.161Z"
   },
   {
    "duration": 10,
    "start_time": "2023-03-17T12:46:32.101Z"
   },
   {
    "duration": 9,
    "start_time": "2023-03-17T12:46:48.179Z"
   },
   {
    "duration": 9,
    "start_time": "2023-03-17T12:47:51.377Z"
   },
   {
    "duration": 12,
    "start_time": "2023-03-17T12:48:08.460Z"
   },
   {
    "duration": 81,
    "start_time": "2023-03-17T12:52:32.009Z"
   },
   {
    "duration": 9,
    "start_time": "2023-03-17T12:52:46.342Z"
   },
   {
    "duration": 10,
    "start_time": "2023-03-17T12:54:34.942Z"
   },
   {
    "duration": 8,
    "start_time": "2023-03-17T12:54:47.859Z"
   },
   {
    "duration": 64,
    "start_time": "2023-03-17T12:54:52.693Z"
   },
   {
    "duration": 14,
    "start_time": "2023-03-17T12:59:31.896Z"
   },
   {
    "duration": 13,
    "start_time": "2023-03-17T13:00:40.393Z"
   },
   {
    "duration": 15,
    "start_time": "2023-03-17T13:00:46.226Z"
   },
   {
    "duration": 11,
    "start_time": "2023-03-17T13:01:03.801Z"
   },
   {
    "duration": 81,
    "start_time": "2023-03-17T13:02:12.310Z"
   },
   {
    "duration": 144,
    "start_time": "2023-03-17T13:05:16.344Z"
   },
   {
    "duration": 93,
    "start_time": "2023-03-17T13:05:28.724Z"
   },
   {
    "duration": 22,
    "start_time": "2023-03-17T13:05:49.797Z"
   },
   {
    "duration": 16,
    "start_time": "2023-03-17T13:06:14.627Z"
   },
   {
    "duration": 24,
    "start_time": "2023-03-17T13:06:21.177Z"
   },
   {
    "duration": 15,
    "start_time": "2023-03-17T13:06:42.262Z"
   },
   {
    "duration": 19,
    "start_time": "2023-03-17T13:07:46.803Z"
   },
   {
    "duration": 197,
    "start_time": "2023-03-17T13:08:55.812Z"
   },
   {
    "duration": 210,
    "start_time": "2023-03-17T13:09:10.744Z"
   },
   {
    "duration": 792,
    "start_time": "2023-03-17T13:11:50.928Z"
   },
   {
    "duration": 376,
    "start_time": "2023-03-17T13:12:29.879Z"
   },
   {
    "duration": 381,
    "start_time": "2023-03-17T13:14:08.528Z"
   },
   {
    "duration": 602,
    "start_time": "2023-03-17T13:14:15.801Z"
   },
   {
    "duration": 31,
    "start_time": "2023-03-17T13:14:16.405Z"
   },
   {
    "duration": 33,
    "start_time": "2023-03-17T13:14:16.442Z"
   },
   {
    "duration": 38,
    "start_time": "2023-03-17T13:14:16.477Z"
   },
   {
    "duration": 34,
    "start_time": "2023-03-17T13:14:16.517Z"
   },
   {
    "duration": 4,
    "start_time": "2023-03-17T13:14:16.552Z"
   },
   {
    "duration": 17,
    "start_time": "2023-03-17T13:14:16.558Z"
   },
   {
    "duration": 28,
    "start_time": "2023-03-17T13:14:16.577Z"
   },
   {
    "duration": 20,
    "start_time": "2023-03-17T13:14:16.607Z"
   },
   {
    "duration": 11,
    "start_time": "2023-03-17T13:14:16.628Z"
   },
   {
    "duration": 56,
    "start_time": "2023-03-17T13:14:16.641Z"
   },
   {
    "duration": 14,
    "start_time": "2023-03-17T13:14:16.698Z"
   },
   {
    "duration": 6,
    "start_time": "2023-03-17T13:14:16.713Z"
   },
   {
    "duration": 15,
    "start_time": "2023-03-17T13:14:16.723Z"
   },
   {
    "duration": 35,
    "start_time": "2023-03-17T13:14:16.739Z"
   },
   {
    "duration": 21,
    "start_time": "2023-03-17T13:14:16.777Z"
   },
   {
    "duration": 21,
    "start_time": "2023-03-17T13:14:16.799Z"
   },
   {
    "duration": 15,
    "start_time": "2023-03-17T13:14:16.822Z"
   },
   {
    "duration": 17,
    "start_time": "2023-03-17T13:14:16.839Z"
   },
   {
    "duration": 4,
    "start_time": "2023-03-17T13:14:16.858Z"
   },
   {
    "duration": 25,
    "start_time": "2023-03-17T13:14:16.864Z"
   },
   {
    "duration": 20,
    "start_time": "2023-03-17T13:14:16.900Z"
   },
   {
    "duration": 7,
    "start_time": "2023-03-17T13:14:16.922Z"
   },
   {
    "duration": 7,
    "start_time": "2023-03-17T13:14:16.931Z"
   },
   {
    "duration": 9,
    "start_time": "2023-03-17T13:14:16.940Z"
   },
   {
    "duration": 8,
    "start_time": "2023-03-17T13:14:16.950Z"
   },
   {
    "duration": 992,
    "start_time": "2023-03-17T13:14:16.959Z"
   },
   {
    "duration": 159,
    "start_time": "2023-03-17T13:14:17.952Z"
   },
   {
    "duration": 25,
    "start_time": "2023-03-17T13:14:18.116Z"
   },
   {
    "duration": 7,
    "start_time": "2023-03-17T13:14:18.142Z"
   },
   {
    "duration": 13,
    "start_time": "2023-03-17T13:14:18.151Z"
   },
   {
    "duration": 549,
    "start_time": "2023-03-17T13:14:18.166Z"
   },
   {
    "duration": 0,
    "start_time": "2023-03-17T13:14:18.717Z"
   },
   {
    "duration": 0,
    "start_time": "2023-03-17T13:14:18.719Z"
   },
   {
    "duration": 693,
    "start_time": "2023-03-17T13:14:32.320Z"
   },
   {
    "duration": 744,
    "start_time": "2023-03-17T13:15:34.653Z"
   },
   {
    "duration": 411,
    "start_time": "2023-03-17T13:15:55.404Z"
   },
   {
    "duration": 412,
    "start_time": "2023-03-17T13:16:32.004Z"
   },
   {
    "duration": 742,
    "start_time": "2023-03-17T13:17:19.421Z"
   },
   {
    "duration": 544,
    "start_time": "2023-03-17T13:17:38.132Z"
   },
   {
    "duration": 43,
    "start_time": "2023-03-17T13:17:38.678Z"
   },
   {
    "duration": 21,
    "start_time": "2023-03-17T13:17:38.723Z"
   },
   {
    "duration": 12,
    "start_time": "2023-03-17T13:17:38.747Z"
   },
   {
    "duration": 62,
    "start_time": "2023-03-17T13:17:38.760Z"
   },
   {
    "duration": 4,
    "start_time": "2023-03-17T13:17:38.824Z"
   },
   {
    "duration": 12,
    "start_time": "2023-03-17T13:17:38.829Z"
   },
   {
    "duration": 11,
    "start_time": "2023-03-17T13:17:38.842Z"
   },
   {
    "duration": 17,
    "start_time": "2023-03-17T13:17:38.855Z"
   },
   {
    "duration": 5,
    "start_time": "2023-03-17T13:17:38.885Z"
   },
   {
    "duration": 95,
    "start_time": "2023-03-17T13:17:38.891Z"
   },
   {
    "duration": 23,
    "start_time": "2023-03-17T13:17:38.994Z"
   },
   {
    "duration": 10,
    "start_time": "2023-03-17T13:17:39.018Z"
   },
   {
    "duration": 30,
    "start_time": "2023-03-17T13:17:39.029Z"
   },
   {
    "duration": 47,
    "start_time": "2023-03-17T13:17:39.061Z"
   },
   {
    "duration": 30,
    "start_time": "2023-03-17T13:17:39.114Z"
   },
   {
    "duration": 4,
    "start_time": "2023-03-17T13:17:39.145Z"
   },
   {
    "duration": 14,
    "start_time": "2023-03-17T13:17:39.150Z"
   },
   {
    "duration": 11,
    "start_time": "2023-03-17T13:17:39.165Z"
   },
   {
    "duration": 24,
    "start_time": "2023-03-17T13:17:39.177Z"
   },
   {
    "duration": 28,
    "start_time": "2023-03-17T13:17:39.202Z"
   },
   {
    "duration": 19,
    "start_time": "2023-03-17T13:17:39.231Z"
   },
   {
    "duration": 8,
    "start_time": "2023-03-17T13:17:39.252Z"
   },
   {
    "duration": 9,
    "start_time": "2023-03-17T13:17:39.262Z"
   },
   {
    "duration": 35,
    "start_time": "2023-03-17T13:17:39.273Z"
   },
   {
    "duration": 17,
    "start_time": "2023-03-17T13:17:39.309Z"
   },
   {
    "duration": 1026,
    "start_time": "2023-03-17T13:17:39.328Z"
   },
   {
    "duration": 174,
    "start_time": "2023-03-17T13:17:40.357Z"
   },
   {
    "duration": 21,
    "start_time": "2023-03-17T13:17:40.534Z"
   },
   {
    "duration": 7,
    "start_time": "2023-03-17T13:17:40.557Z"
   },
   {
    "duration": 20,
    "start_time": "2023-03-17T13:17:40.566Z"
   },
   {
    "duration": 37,
    "start_time": "2023-03-17T13:17:40.588Z"
   },
   {
    "duration": 7,
    "start_time": "2023-03-17T13:17:40.627Z"
   },
   {
    "duration": 18,
    "start_time": "2023-03-17T13:22:50.908Z"
   },
   {
    "duration": 4,
    "start_time": "2023-03-17T13:23:22.467Z"
   },
   {
    "duration": 7,
    "start_time": "2023-03-17T13:23:33.865Z"
   },
   {
    "duration": 108,
    "start_time": "2023-03-17T13:23:50.198Z"
   },
   {
    "duration": 20,
    "start_time": "2023-03-17T13:25:00.924Z"
   },
   {
    "duration": 17,
    "start_time": "2023-03-17T13:25:38.615Z"
   },
   {
    "duration": 2477,
    "start_time": "2023-03-17T13:26:14.965Z"
   },
   {
    "duration": 1910,
    "start_time": "2023-03-17T13:26:41.631Z"
   },
   {
    "duration": 15,
    "start_time": "2023-03-17T13:26:47.552Z"
   },
   {
    "duration": 176,
    "start_time": "2023-03-17T13:27:30.718Z"
   },
   {
    "duration": 16,
    "start_time": "2023-03-17T13:29:11.607Z"
   },
   {
    "duration": 16,
    "start_time": "2023-03-17T13:29:19.565Z"
   },
   {
    "duration": 10,
    "start_time": "2023-03-17T14:06:08.344Z"
   },
   {
    "duration": 11,
    "start_time": "2023-03-17T14:07:24.740Z"
   },
   {
    "duration": 13,
    "start_time": "2023-03-17T14:07:38.358Z"
   },
   {
    "duration": 10,
    "start_time": "2023-03-17T14:07:57.645Z"
   },
   {
    "duration": 24,
    "start_time": "2023-03-17T14:15:02.410Z"
   },
   {
    "duration": 25,
    "start_time": "2023-03-17T14:15:21.918Z"
   },
   {
    "duration": 22,
    "start_time": "2023-03-17T14:16:19.523Z"
   },
   {
    "duration": 14,
    "start_time": "2023-03-17T14:16:38.589Z"
   },
   {
    "duration": 493,
    "start_time": "2023-03-17T14:16:49.968Z"
   },
   {
    "duration": 43,
    "start_time": "2023-03-17T14:16:50.463Z"
   },
   {
    "duration": 14,
    "start_time": "2023-03-17T14:16:50.510Z"
   },
   {
    "duration": 8,
    "start_time": "2023-03-17T14:16:50.527Z"
   },
   {
    "duration": 29,
    "start_time": "2023-03-17T14:16:50.537Z"
   },
   {
    "duration": 2,
    "start_time": "2023-03-17T14:16:50.568Z"
   },
   {
    "duration": 38,
    "start_time": "2023-03-17T14:16:50.572Z"
   },
   {
    "duration": 8,
    "start_time": "2023-03-17T14:16:50.611Z"
   },
   {
    "duration": 9,
    "start_time": "2023-03-17T14:16:50.620Z"
   },
   {
    "duration": 4,
    "start_time": "2023-03-17T14:16:50.632Z"
   },
   {
    "duration": 29,
    "start_time": "2023-03-17T14:16:50.638Z"
   },
   {
    "duration": 8,
    "start_time": "2023-03-17T14:16:50.669Z"
   },
   {
    "duration": 34,
    "start_time": "2023-03-17T14:16:50.678Z"
   },
   {
    "duration": 16,
    "start_time": "2023-03-17T14:16:50.714Z"
   },
   {
    "duration": 41,
    "start_time": "2023-03-17T14:16:50.732Z"
   },
   {
    "duration": 34,
    "start_time": "2023-03-17T14:16:50.774Z"
   },
   {
    "duration": 44,
    "start_time": "2023-03-17T14:16:50.811Z"
   },
   {
    "duration": 13,
    "start_time": "2023-03-17T14:16:50.856Z"
   },
   {
    "duration": 42,
    "start_time": "2023-03-17T14:16:50.870Z"
   },
   {
    "duration": 7,
    "start_time": "2023-03-17T14:16:50.914Z"
   },
   {
    "duration": 24,
    "start_time": "2023-03-17T14:16:50.922Z"
   },
   {
    "duration": 19,
    "start_time": "2023-03-17T14:16:50.947Z"
   },
   {
    "duration": 49,
    "start_time": "2023-03-17T14:16:50.968Z"
   },
   {
    "duration": 12,
    "start_time": "2023-03-17T14:16:51.019Z"
   },
   {
    "duration": 13,
    "start_time": "2023-03-17T14:16:51.032Z"
   },
   {
    "duration": 8,
    "start_time": "2023-03-17T14:16:51.047Z"
   },
   {
    "duration": 1010,
    "start_time": "2023-03-17T14:16:51.056Z"
   },
   {
    "duration": 142,
    "start_time": "2023-03-17T14:16:52.069Z"
   },
   {
    "duration": 15,
    "start_time": "2023-03-17T14:16:52.213Z"
   },
   {
    "duration": 26,
    "start_time": "2023-03-17T14:16:52.230Z"
   },
   {
    "duration": 50,
    "start_time": "2023-03-17T14:16:52.258Z"
   },
   {
    "duration": 150,
    "start_time": "2023-03-17T14:16:52.310Z"
   },
   {
    "duration": 39,
    "start_time": "2023-03-17T14:16:52.462Z"
   },
   {
    "duration": 2,
    "start_time": "2023-03-17T14:16:52.509Z"
   },
   {
    "duration": 25,
    "start_time": "2023-03-17T14:17:25.113Z"
   },
   {
    "duration": 7,
    "start_time": "2023-03-17T14:21:26.564Z"
   },
   {
    "duration": 14,
    "start_time": "2023-03-17T14:23:06.705Z"
   },
   {
    "duration": 536,
    "start_time": "2023-03-17T14:24:23.961Z"
   },
   {
    "duration": 26,
    "start_time": "2023-03-17T14:24:24.498Z"
   },
   {
    "duration": 16,
    "start_time": "2023-03-17T14:24:24.526Z"
   },
   {
    "duration": 10,
    "start_time": "2023-03-17T14:24:24.544Z"
   },
   {
    "duration": 59,
    "start_time": "2023-03-17T14:24:24.556Z"
   },
   {
    "duration": 3,
    "start_time": "2023-03-17T14:24:24.617Z"
   },
   {
    "duration": 12,
    "start_time": "2023-03-17T14:24:24.622Z"
   },
   {
    "duration": 4,
    "start_time": "2023-03-17T14:24:24.636Z"
   },
   {
    "duration": 70,
    "start_time": "2023-03-17T14:24:24.642Z"
   },
   {
    "duration": 14,
    "start_time": "2023-03-17T14:24:24.717Z"
   },
   {
    "duration": 54,
    "start_time": "2023-03-17T14:24:24.733Z"
   },
   {
    "duration": 15,
    "start_time": "2023-03-17T14:24:24.789Z"
   },
   {
    "duration": 27,
    "start_time": "2023-03-17T14:24:24.806Z"
   },
   {
    "duration": 16,
    "start_time": "2023-03-17T14:24:24.834Z"
   },
   {
    "duration": 48,
    "start_time": "2023-03-17T14:24:24.851Z"
   },
   {
    "duration": 21,
    "start_time": "2023-03-17T14:24:24.910Z"
   },
   {
    "duration": 3,
    "start_time": "2023-03-17T14:24:24.933Z"
   },
   {
    "duration": 22,
    "start_time": "2023-03-17T14:24:24.938Z"
   },
   {
    "duration": 7,
    "start_time": "2023-03-17T14:24:24.961Z"
   },
   {
    "duration": 7,
    "start_time": "2023-03-17T14:24:24.970Z"
   },
   {
    "duration": 61,
    "start_time": "2023-03-17T14:24:24.978Z"
   },
   {
    "duration": 18,
    "start_time": "2023-03-17T14:24:25.041Z"
   },
   {
    "duration": 14,
    "start_time": "2023-03-17T14:24:25.060Z"
   },
   {
    "duration": 44,
    "start_time": "2023-03-17T14:24:25.075Z"
   },
   {
    "duration": 14,
    "start_time": "2023-03-17T14:24:25.121Z"
   },
   {
    "duration": 13,
    "start_time": "2023-03-17T14:24:25.137Z"
   },
   {
    "duration": 917,
    "start_time": "2023-03-17T14:24:25.152Z"
   },
   {
    "duration": 134,
    "start_time": "2023-03-17T14:24:26.086Z"
   },
   {
    "duration": 17,
    "start_time": "2023-03-17T14:24:26.221Z"
   },
   {
    "duration": 6,
    "start_time": "2023-03-17T14:24:26.239Z"
   },
   {
    "duration": 21,
    "start_time": "2023-03-17T14:24:26.246Z"
   },
   {
    "duration": 165,
    "start_time": "2023-03-17T14:24:26.286Z"
   },
   {
    "duration": 16,
    "start_time": "2023-03-17T14:24:26.454Z"
   },
   {
    "duration": 58,
    "start_time": "2023-03-17T14:24:26.471Z"
   },
   {
    "duration": 45,
    "start_time": "2023-03-17T14:24:26.530Z"
   },
   {
    "duration": 6,
    "start_time": "2023-03-17T14:27:34.600Z"
   },
   {
    "duration": 130,
    "start_time": "2023-03-17T14:29:36.228Z"
   },
   {
    "duration": 125,
    "start_time": "2023-03-17T14:29:49.653Z"
   },
   {
    "duration": 6,
    "start_time": "2023-03-17T14:30:19.035Z"
   },
   {
    "duration": 166,
    "start_time": "2023-03-17T14:30:27.469Z"
   },
   {
    "duration": 32,
    "start_time": "2023-03-17T15:28:34.202Z"
   },
   {
    "duration": 25,
    "start_time": "2023-03-17T15:28:41.482Z"
   },
   {
    "duration": 43,
    "start_time": "2023-03-17T15:29:22.354Z"
   },
   {
    "duration": 20,
    "start_time": "2023-03-17T15:29:47.819Z"
   },
   {
    "duration": 17,
    "start_time": "2023-03-17T15:33:18.849Z"
   },
   {
    "duration": 29,
    "start_time": "2023-03-17T15:33:39.879Z"
   },
   {
    "duration": 13,
    "start_time": "2023-03-17T15:35:37.437Z"
   },
   {
    "duration": 10,
    "start_time": "2023-03-17T15:35:45.203Z"
   },
   {
    "duration": 8,
    "start_time": "2023-03-17T15:38:01.405Z"
   },
   {
    "duration": 173,
    "start_time": "2023-03-17T15:39:25.398Z"
   },
   {
    "duration": 450,
    "start_time": "2023-03-17T16:38:22.323Z"
   },
   {
    "duration": 19,
    "start_time": "2023-03-17T16:38:22.775Z"
   },
   {
    "duration": 13,
    "start_time": "2023-03-17T16:38:22.796Z"
   },
   {
    "duration": 9,
    "start_time": "2023-03-17T16:38:22.810Z"
   },
   {
    "duration": 27,
    "start_time": "2023-03-17T16:38:22.820Z"
   },
   {
    "duration": 3,
    "start_time": "2023-03-17T16:38:22.849Z"
   },
   {
    "duration": 30,
    "start_time": "2023-03-17T16:38:22.853Z"
   },
   {
    "duration": 3,
    "start_time": "2023-03-17T16:38:22.885Z"
   },
   {
    "duration": 9,
    "start_time": "2023-03-17T16:38:22.890Z"
   },
   {
    "duration": 4,
    "start_time": "2023-03-17T16:38:22.902Z"
   },
   {
    "duration": 32,
    "start_time": "2023-03-17T16:38:22.907Z"
   },
   {
    "duration": 10,
    "start_time": "2023-03-17T16:38:22.940Z"
   },
   {
    "duration": 13,
    "start_time": "2023-03-17T16:38:22.951Z"
   },
   {
    "duration": 11,
    "start_time": "2023-03-17T16:38:22.979Z"
   },
   {
    "duration": 24,
    "start_time": "2023-03-17T16:38:22.992Z"
   },
   {
    "duration": 14,
    "start_time": "2023-03-17T16:38:23.017Z"
   },
   {
    "duration": 3,
    "start_time": "2023-03-17T16:38:23.032Z"
   },
   {
    "duration": 14,
    "start_time": "2023-03-17T16:38:23.036Z"
   },
   {
    "duration": 9,
    "start_time": "2023-03-17T16:38:23.051Z"
   },
   {
    "duration": 5,
    "start_time": "2023-03-17T16:38:23.062Z"
   },
   {
    "duration": 7,
    "start_time": "2023-03-17T16:38:23.079Z"
   },
   {
    "duration": 26,
    "start_time": "2023-03-17T16:38:23.087Z"
   },
   {
    "duration": 7,
    "start_time": "2023-03-17T16:38:23.115Z"
   },
   {
    "duration": 21,
    "start_time": "2023-03-17T16:38:23.124Z"
   },
   {
    "duration": 7,
    "start_time": "2023-03-17T16:38:23.147Z"
   },
   {
    "duration": 6,
    "start_time": "2023-03-17T16:38:23.156Z"
   },
   {
    "duration": 961,
    "start_time": "2023-03-17T16:38:23.163Z"
   },
   {
    "duration": 124,
    "start_time": "2023-03-17T16:38:24.127Z"
   },
   {
    "duration": 15,
    "start_time": "2023-03-17T16:38:24.252Z"
   },
   {
    "duration": 5,
    "start_time": "2023-03-17T16:38:24.280Z"
   },
   {
    "duration": 18,
    "start_time": "2023-03-17T16:38:24.286Z"
   },
   {
    "duration": 132,
    "start_time": "2023-03-17T16:38:24.306Z"
   },
   {
    "duration": 13,
    "start_time": "2023-03-17T16:38:24.440Z"
   },
   {
    "duration": 6,
    "start_time": "2023-03-17T16:38:24.454Z"
   },
   {
    "duration": 21,
    "start_time": "2023-03-17T16:38:24.461Z"
   },
   {
    "duration": 124,
    "start_time": "2023-03-17T16:38:24.484Z"
   },
   {
    "duration": 13,
    "start_time": "2023-03-17T16:38:24.610Z"
   },
   {
    "duration": 5,
    "start_time": "2023-03-17T16:38:24.625Z"
   },
   {
    "duration": 7,
    "start_time": "2023-03-17T16:38:24.631Z"
   },
   {
    "duration": 124,
    "start_time": "2023-03-17T16:38:24.639Z"
   },
   {
    "duration": 5,
    "start_time": "2023-03-17T16:40:28.317Z"
   },
   {
    "duration": 133,
    "start_time": "2023-03-17T16:42:04.845Z"
   },
   {
    "duration": 10,
    "start_time": "2023-03-17T16:42:14.836Z"
   },
   {
    "duration": 5,
    "start_time": "2023-03-17T16:42:28.590Z"
   },
   {
    "duration": 13,
    "start_time": "2023-03-17T16:42:46.494Z"
   },
   {
    "duration": 10,
    "start_time": "2023-03-17T16:44:06.525Z"
   },
   {
    "duration": 9,
    "start_time": "2023-03-17T16:44:24.803Z"
   },
   {
    "duration": 79,
    "start_time": "2023-03-17T16:46:35.926Z"
   },
   {
    "duration": 124,
    "start_time": "2023-03-17T16:46:49.418Z"
   },
   {
    "duration": 115,
    "start_time": "2023-03-17T16:47:06.855Z"
   },
   {
    "duration": 71,
    "start_time": "2023-03-17T16:47:25.801Z"
   },
   {
    "duration": 74,
    "start_time": "2023-03-17T16:47:34.801Z"
   },
   {
    "duration": 485,
    "start_time": "2023-03-17T16:47:42.691Z"
   },
   {
    "duration": 23,
    "start_time": "2023-03-17T16:47:43.179Z"
   },
   {
    "duration": 19,
    "start_time": "2023-03-17T16:47:43.204Z"
   },
   {
    "duration": 9,
    "start_time": "2023-03-17T16:47:43.225Z"
   },
   {
    "duration": 66,
    "start_time": "2023-03-17T16:47:43.237Z"
   },
   {
    "duration": 4,
    "start_time": "2023-03-17T16:47:43.305Z"
   },
   {
    "duration": 11,
    "start_time": "2023-03-17T16:47:43.310Z"
   },
   {
    "duration": 5,
    "start_time": "2023-03-17T16:47:43.322Z"
   },
   {
    "duration": 14,
    "start_time": "2023-03-17T16:47:43.328Z"
   },
   {
    "duration": 6,
    "start_time": "2023-03-17T16:47:43.344Z"
   },
   {
    "duration": 50,
    "start_time": "2023-03-17T16:47:43.351Z"
   },
   {
    "duration": 9,
    "start_time": "2023-03-17T16:47:43.403Z"
   },
   {
    "duration": 6,
    "start_time": "2023-03-17T16:47:43.413Z"
   },
   {
    "duration": 24,
    "start_time": "2023-03-17T16:47:43.423Z"
   },
   {
    "duration": 40,
    "start_time": "2023-03-17T16:47:43.449Z"
   },
   {
    "duration": 23,
    "start_time": "2023-03-17T16:47:43.491Z"
   },
   {
    "duration": 4,
    "start_time": "2023-03-17T16:47:43.516Z"
   },
   {
    "duration": 11,
    "start_time": "2023-03-17T16:47:43.521Z"
   },
   {
    "duration": 12,
    "start_time": "2023-03-17T16:47:43.534Z"
   },
   {
    "duration": 4,
    "start_time": "2023-03-17T16:47:43.547Z"
   },
   {
    "duration": 30,
    "start_time": "2023-03-17T16:47:43.553Z"
   },
   {
    "duration": 17,
    "start_time": "2023-03-17T16:47:43.585Z"
   },
   {
    "duration": 6,
    "start_time": "2023-03-17T16:47:43.603Z"
   },
   {
    "duration": 9,
    "start_time": "2023-03-17T16:47:43.611Z"
   },
   {
    "duration": 12,
    "start_time": "2023-03-17T16:47:43.622Z"
   },
   {
    "duration": 10,
    "start_time": "2023-03-17T16:47:43.636Z"
   },
   {
    "duration": 9,
    "start_time": "2023-03-17T16:47:43.648Z"
   },
   {
    "duration": 957,
    "start_time": "2023-03-17T16:47:43.680Z"
   },
   {
    "duration": 125,
    "start_time": "2023-03-17T16:47:44.639Z"
   },
   {
    "duration": 29,
    "start_time": "2023-03-17T16:47:44.766Z"
   },
   {
    "duration": 12,
    "start_time": "2023-03-17T16:47:44.797Z"
   },
   {
    "duration": 8,
    "start_time": "2023-03-17T16:47:44.811Z"
   },
   {
    "duration": 69,
    "start_time": "2023-03-17T16:47:44.821Z"
   },
   {
    "duration": 0,
    "start_time": "2023-03-17T16:47:44.892Z"
   },
   {
    "duration": 0,
    "start_time": "2023-03-17T16:47:44.893Z"
   },
   {
    "duration": 0,
    "start_time": "2023-03-17T16:47:44.895Z"
   },
   {
    "duration": 0,
    "start_time": "2023-03-17T16:47:44.896Z"
   },
   {
    "duration": 0,
    "start_time": "2023-03-17T16:47:44.897Z"
   },
   {
    "duration": 0,
    "start_time": "2023-03-17T16:47:44.898Z"
   },
   {
    "duration": 0,
    "start_time": "2023-03-17T16:47:44.898Z"
   },
   {
    "duration": 0,
    "start_time": "2023-03-17T16:47:44.900Z"
   },
   {
    "duration": 0,
    "start_time": "2023-03-17T16:47:44.901Z"
   },
   {
    "duration": 13,
    "start_time": "2023-03-17T16:48:12.936Z"
   },
   {
    "duration": 120,
    "start_time": "2023-03-17T16:48:24.568Z"
   },
   {
    "duration": 8,
    "start_time": "2023-03-17T16:50:12.703Z"
   },
   {
    "duration": 21,
    "start_time": "2023-03-17T16:50:24.154Z"
   },
   {
    "duration": 7,
    "start_time": "2023-03-17T16:50:55.756Z"
   },
   {
    "duration": 8,
    "start_time": "2023-03-17T16:51:17.702Z"
   },
   {
    "duration": 6,
    "start_time": "2023-03-17T16:52:16.022Z"
   },
   {
    "duration": 7,
    "start_time": "2023-03-17T16:52:45.206Z"
   },
   {
    "duration": 8,
    "start_time": "2023-03-17T16:53:23.120Z"
   },
   {
    "duration": 11,
    "start_time": "2023-03-17T16:53:28.603Z"
   },
   {
    "duration": 7,
    "start_time": "2023-03-17T16:54:10.822Z"
   },
   {
    "duration": 7,
    "start_time": "2023-03-17T16:54:30.052Z"
   },
   {
    "duration": 7,
    "start_time": "2023-03-17T16:54:54.259Z"
   },
   {
    "duration": 353,
    "start_time": "2023-03-17T16:55:07.229Z"
   },
   {
    "duration": 26,
    "start_time": "2023-03-17T16:55:49.700Z"
   },
   {
    "duration": 11,
    "start_time": "2023-03-17T16:56:05.342Z"
   },
   {
    "duration": 10,
    "start_time": "2023-03-17T16:56:17.535Z"
   },
   {
    "duration": 17,
    "start_time": "2023-03-17T16:56:30.801Z"
   },
   {
    "duration": 29,
    "start_time": "2023-03-17T16:59:15.095Z"
   },
   {
    "duration": 20,
    "start_time": "2023-03-17T16:59:29.679Z"
   },
   {
    "duration": 8,
    "start_time": "2023-03-17T16:59:37.738Z"
   },
   {
    "duration": 10,
    "start_time": "2023-03-17T16:59:44.106Z"
   },
   {
    "duration": 161,
    "start_time": "2023-03-17T17:00:30.685Z"
   },
   {
    "duration": 26,
    "start_time": "2023-03-17T17:02:01.710Z"
   },
   {
    "duration": 13,
    "start_time": "2023-03-17T17:02:42.295Z"
   },
   {
    "duration": 10,
    "start_time": "2023-03-17T17:02:50.705Z"
   },
   {
    "duration": 135,
    "start_time": "2023-03-17T17:03:03.720Z"
   },
   {
    "duration": 434,
    "start_time": "2023-03-17T17:10:58.425Z"
   },
   {
    "duration": 22,
    "start_time": "2023-03-17T17:10:58.861Z"
   },
   {
    "duration": 18,
    "start_time": "2023-03-17T17:10:58.885Z"
   },
   {
    "duration": 8,
    "start_time": "2023-03-17T17:10:58.905Z"
   },
   {
    "duration": 29,
    "start_time": "2023-03-17T17:10:58.915Z"
   },
   {
    "duration": 3,
    "start_time": "2023-03-17T17:10:58.946Z"
   },
   {
    "duration": 11,
    "start_time": "2023-03-17T17:10:58.950Z"
   },
   {
    "duration": 4,
    "start_time": "2023-03-17T17:10:58.980Z"
   },
   {
    "duration": 10,
    "start_time": "2023-03-17T17:10:58.985Z"
   },
   {
    "duration": 5,
    "start_time": "2023-03-17T17:10:58.997Z"
   },
   {
    "duration": 41,
    "start_time": "2023-03-17T17:10:59.003Z"
   },
   {
    "duration": 53,
    "start_time": "2023-03-17T17:10:59.046Z"
   },
   {
    "duration": 5,
    "start_time": "2023-03-17T17:10:59.103Z"
   },
   {
    "duration": 18,
    "start_time": "2023-03-17T17:10:59.111Z"
   },
   {
    "duration": 27,
    "start_time": "2023-03-17T17:10:59.131Z"
   },
   {
    "duration": 16,
    "start_time": "2023-03-17T17:10:59.160Z"
   },
   {
    "duration": 13,
    "start_time": "2023-03-17T17:10:59.177Z"
   },
   {
    "duration": 19,
    "start_time": "2023-03-17T17:10:59.192Z"
   },
   {
    "duration": 8,
    "start_time": "2023-03-17T17:10:59.212Z"
   },
   {
    "duration": 4,
    "start_time": "2023-03-17T17:10:59.221Z"
   },
   {
    "duration": 9,
    "start_time": "2023-03-17T17:10:59.227Z"
   },
   {
    "duration": 21,
    "start_time": "2023-03-17T17:10:59.237Z"
   },
   {
    "duration": 18,
    "start_time": "2023-03-17T17:10:59.260Z"
   },
   {
    "duration": 8,
    "start_time": "2023-03-17T17:10:59.280Z"
   },
   {
    "duration": 21,
    "start_time": "2023-03-17T17:10:59.290Z"
   },
   {
    "duration": 10,
    "start_time": "2023-03-17T17:10:59.312Z"
   },
   {
    "duration": 8,
    "start_time": "2023-03-17T17:10:59.323Z"
   },
   {
    "duration": 977,
    "start_time": "2023-03-17T17:10:59.332Z"
   },
   {
    "duration": 143,
    "start_time": "2023-03-17T17:11:00.311Z"
   },
   {
    "duration": 33,
    "start_time": "2023-03-17T17:11:00.456Z"
   },
   {
    "duration": 10,
    "start_time": "2023-03-17T17:11:00.490Z"
   },
   {
    "duration": 37,
    "start_time": "2023-03-17T17:11:00.502Z"
   },
   {
    "duration": 211,
    "start_time": "2023-03-17T17:11:00.540Z"
   },
   {
    "duration": 27,
    "start_time": "2023-03-17T17:11:00.753Z"
   },
   {
    "duration": 37,
    "start_time": "2023-03-17T17:11:00.782Z"
   },
   {
    "duration": 56,
    "start_time": "2023-03-17T17:11:00.820Z"
   },
   {
    "duration": 184,
    "start_time": "2023-03-17T17:11:00.877Z"
   },
   {
    "duration": 20,
    "start_time": "2023-03-17T17:11:01.063Z"
   },
   {
    "duration": 77,
    "start_time": "2023-03-17T17:11:01.089Z"
   },
   {
    "duration": 50,
    "start_time": "2023-03-17T17:11:01.168Z"
   },
   {
    "duration": 179,
    "start_time": "2023-03-17T17:11:01.222Z"
   },
   {
    "duration": 47,
    "start_time": "2023-03-18T11:42:13.928Z"
   },
   {
    "duration": 5,
    "start_time": "2023-03-18T11:42:19.188Z"
   },
   {
    "duration": 7,
    "start_time": "2023-03-18T11:42:50.021Z"
   },
   {
    "duration": 8,
    "start_time": "2023-03-18T11:45:00.305Z"
   },
   {
    "duration": 516,
    "start_time": "2023-03-18T11:45:16.478Z"
   },
   {
    "duration": 22,
    "start_time": "2023-03-18T11:45:16.996Z"
   },
   {
    "duration": 15,
    "start_time": "2023-03-18T11:45:17.019Z"
   },
   {
    "duration": 10,
    "start_time": "2023-03-18T11:45:17.036Z"
   },
   {
    "duration": 37,
    "start_time": "2023-03-18T11:45:17.047Z"
   },
   {
    "duration": 3,
    "start_time": "2023-03-18T11:45:17.086Z"
   },
   {
    "duration": 9,
    "start_time": "2023-03-18T11:45:17.090Z"
   },
   {
    "duration": 4,
    "start_time": "2023-03-18T11:45:17.100Z"
   },
   {
    "duration": 10,
    "start_time": "2023-03-18T11:45:17.105Z"
   },
   {
    "duration": 5,
    "start_time": "2023-03-18T11:45:17.140Z"
   },
   {
    "duration": 40,
    "start_time": "2023-03-18T11:45:17.147Z"
   },
   {
    "duration": 10,
    "start_time": "2023-03-18T11:45:17.188Z"
   },
   {
    "duration": 6,
    "start_time": "2023-03-18T11:45:17.199Z"
   },
   {
    "duration": 15,
    "start_time": "2023-03-18T11:45:17.206Z"
   },
   {
    "duration": 32,
    "start_time": "2023-03-18T11:45:17.223Z"
   },
   {
    "duration": 17,
    "start_time": "2023-03-18T11:45:17.256Z"
   },
   {
    "duration": 4,
    "start_time": "2023-03-18T11:45:17.274Z"
   },
   {
    "duration": 13,
    "start_time": "2023-03-18T11:45:17.280Z"
   },
   {
    "duration": 11,
    "start_time": "2023-03-18T11:45:17.294Z"
   },
   {
    "duration": 4,
    "start_time": "2023-03-18T11:45:17.306Z"
   },
   {
    "duration": 36,
    "start_time": "2023-03-18T11:45:17.311Z"
   },
   {
    "duration": 20,
    "start_time": "2023-03-18T11:45:17.349Z"
   },
   {
    "duration": 3,
    "start_time": "2023-03-18T11:45:17.371Z"
   },
   {
    "duration": 9,
    "start_time": "2023-03-18T11:45:17.375Z"
   },
   {
    "duration": 6,
    "start_time": "2023-03-18T11:45:17.386Z"
   },
   {
    "duration": 20,
    "start_time": "2023-03-18T11:45:17.393Z"
   },
   {
    "duration": 14,
    "start_time": "2023-03-18T11:45:17.415Z"
   },
   {
    "duration": 145,
    "start_time": "2023-03-18T11:45:17.433Z"
   },
   {
    "duration": 0,
    "start_time": "2023-03-18T11:45:17.579Z"
   },
   {
    "duration": 0,
    "start_time": "2023-03-18T11:45:17.581Z"
   },
   {
    "duration": 0,
    "start_time": "2023-03-18T11:45:17.582Z"
   },
   {
    "duration": 0,
    "start_time": "2023-03-18T11:45:17.582Z"
   },
   {
    "duration": 0,
    "start_time": "2023-03-18T11:45:17.584Z"
   },
   {
    "duration": 0,
    "start_time": "2023-03-18T11:45:17.585Z"
   },
   {
    "duration": 0,
    "start_time": "2023-03-18T11:45:17.586Z"
   },
   {
    "duration": 0,
    "start_time": "2023-03-18T11:45:17.587Z"
   },
   {
    "duration": 0,
    "start_time": "2023-03-18T11:45:17.588Z"
   },
   {
    "duration": 0,
    "start_time": "2023-03-18T11:45:17.589Z"
   },
   {
    "duration": 1,
    "start_time": "2023-03-18T11:45:17.590Z"
   },
   {
    "duration": 0,
    "start_time": "2023-03-18T11:45:17.592Z"
   },
   {
    "duration": 8,
    "start_time": "2023-03-18T11:46:40.878Z"
   },
   {
    "duration": 441,
    "start_time": "2023-03-18T11:47:56.582Z"
   },
   {
    "duration": 22,
    "start_time": "2023-03-18T11:47:57.025Z"
   },
   {
    "duration": 15,
    "start_time": "2023-03-18T11:47:57.049Z"
   },
   {
    "duration": 10,
    "start_time": "2023-03-18T11:47:57.066Z"
   },
   {
    "duration": 33,
    "start_time": "2023-03-18T11:47:57.078Z"
   },
   {
    "duration": 28,
    "start_time": "2023-03-18T11:47:57.113Z"
   },
   {
    "duration": 8,
    "start_time": "2023-03-18T11:47:57.143Z"
   },
   {
    "duration": 5,
    "start_time": "2023-03-18T11:47:57.153Z"
   },
   {
    "duration": 12,
    "start_time": "2023-03-18T11:47:57.160Z"
   },
   {
    "duration": 22,
    "start_time": "2023-03-18T11:47:57.176Z"
   },
   {
    "duration": 43,
    "start_time": "2023-03-18T11:47:57.200Z"
   },
   {
    "duration": 12,
    "start_time": "2023-03-18T11:47:57.244Z"
   },
   {
    "duration": 4,
    "start_time": "2023-03-18T11:47:57.258Z"
   },
   {
    "duration": 12,
    "start_time": "2023-03-18T11:47:57.264Z"
   },
   {
    "duration": 21,
    "start_time": "2023-03-18T11:47:57.277Z"
   },
   {
    "duration": 54,
    "start_time": "2023-03-18T11:47:57.299Z"
   },
   {
    "duration": 4,
    "start_time": "2023-03-18T11:47:57.355Z"
   },
   {
    "duration": 12,
    "start_time": "2023-03-18T11:47:57.360Z"
   },
   {
    "duration": 6,
    "start_time": "2023-03-18T11:47:57.373Z"
   },
   {
    "duration": 3,
    "start_time": "2023-03-18T11:47:57.381Z"
   },
   {
    "duration": 10,
    "start_time": "2023-03-18T11:47:57.385Z"
   },
   {
    "duration": 50,
    "start_time": "2023-03-18T11:47:57.396Z"
   },
   {
    "duration": 3,
    "start_time": "2023-03-18T11:47:57.447Z"
   },
   {
    "duration": 6,
    "start_time": "2023-03-18T11:47:57.452Z"
   },
   {
    "duration": 6,
    "start_time": "2023-03-18T11:47:57.459Z"
   },
   {
    "duration": 4,
    "start_time": "2023-03-18T11:47:57.466Z"
   },
   {
    "duration": 10,
    "start_time": "2023-03-18T11:47:57.471Z"
   },
   {
    "duration": 169,
    "start_time": "2023-03-18T11:47:57.484Z"
   },
   {
    "duration": 0,
    "start_time": "2023-03-18T11:47:57.655Z"
   },
   {
    "duration": 1,
    "start_time": "2023-03-18T11:47:57.655Z"
   },
   {
    "duration": 0,
    "start_time": "2023-03-18T11:47:57.657Z"
   },
   {
    "duration": 0,
    "start_time": "2023-03-18T11:47:57.658Z"
   },
   {
    "duration": 0,
    "start_time": "2023-03-18T11:47:57.660Z"
   },
   {
    "duration": 0,
    "start_time": "2023-03-18T11:47:57.661Z"
   },
   {
    "duration": 0,
    "start_time": "2023-03-18T11:47:57.661Z"
   },
   {
    "duration": 0,
    "start_time": "2023-03-18T11:47:57.663Z"
   },
   {
    "duration": 0,
    "start_time": "2023-03-18T11:47:57.663Z"
   },
   {
    "duration": 0,
    "start_time": "2023-03-18T11:47:57.664Z"
   },
   {
    "duration": 0,
    "start_time": "2023-03-18T11:47:57.665Z"
   },
   {
    "duration": 0,
    "start_time": "2023-03-18T11:47:57.666Z"
   },
   {
    "duration": 1546,
    "start_time": "2023-03-18T11:57:15.103Z"
   },
   {
    "duration": 15,
    "start_time": "2023-03-18T12:00:01.013Z"
   },
   {
    "duration": 10,
    "start_time": "2023-03-18T12:00:59.207Z"
   },
   {
    "duration": 9,
    "start_time": "2023-03-18T12:01:48.356Z"
   },
   {
    "duration": 15,
    "start_time": "2023-03-18T12:02:07.781Z"
   },
   {
    "duration": 495,
    "start_time": "2023-03-18T12:03:49.906Z"
   },
   {
    "duration": 25,
    "start_time": "2023-03-18T12:03:50.403Z"
   },
   {
    "duration": 19,
    "start_time": "2023-03-18T12:03:50.430Z"
   },
   {
    "duration": 12,
    "start_time": "2023-03-18T12:03:50.451Z"
   },
   {
    "duration": 42,
    "start_time": "2023-03-18T12:03:50.464Z"
   },
   {
    "duration": 4,
    "start_time": "2023-03-18T12:03:50.509Z"
   },
   {
    "duration": 31,
    "start_time": "2023-03-18T12:03:50.514Z"
   },
   {
    "duration": 5,
    "start_time": "2023-03-18T12:03:50.548Z"
   },
   {
    "duration": 18,
    "start_time": "2023-03-18T12:03:50.555Z"
   },
   {
    "duration": 18,
    "start_time": "2023-03-18T12:03:50.577Z"
   },
   {
    "duration": 42,
    "start_time": "2023-03-18T12:03:50.597Z"
   },
   {
    "duration": 11,
    "start_time": "2023-03-18T12:03:50.640Z"
   },
   {
    "duration": 7,
    "start_time": "2023-03-18T12:03:50.653Z"
   },
   {
    "duration": 12,
    "start_time": "2023-03-18T12:03:50.661Z"
   },
   {
    "duration": 28,
    "start_time": "2023-03-18T12:03:50.675Z"
   },
   {
    "duration": 36,
    "start_time": "2023-03-18T12:03:50.705Z"
   },
   {
    "duration": 4,
    "start_time": "2023-03-18T12:03:50.743Z"
   },
   {
    "duration": 11,
    "start_time": "2023-03-18T12:03:50.748Z"
   },
   {
    "duration": 5,
    "start_time": "2023-03-18T12:03:50.761Z"
   },
   {
    "duration": 5,
    "start_time": "2023-03-18T12:03:50.767Z"
   },
   {
    "duration": 10,
    "start_time": "2023-03-18T12:03:50.773Z"
   },
   {
    "duration": 17,
    "start_time": "2023-03-18T12:03:50.784Z"
   },
   {
    "duration": 3,
    "start_time": "2023-03-18T12:03:50.802Z"
   },
   {
    "duration": 36,
    "start_time": "2023-03-18T12:03:50.807Z"
   },
   {
    "duration": 18,
    "start_time": "2023-03-18T12:03:50.844Z"
   },
   {
    "duration": 15,
    "start_time": "2023-03-18T12:03:50.864Z"
   },
   {
    "duration": 11,
    "start_time": "2023-03-18T12:03:50.881Z"
   },
   {
    "duration": 899,
    "start_time": "2023-03-18T12:03:50.895Z"
   },
   {
    "duration": 0,
    "start_time": "2023-03-18T12:03:51.795Z"
   },
   {
    "duration": 0,
    "start_time": "2023-03-18T12:03:51.796Z"
   },
   {
    "duration": 0,
    "start_time": "2023-03-18T12:03:51.797Z"
   },
   {
    "duration": 0,
    "start_time": "2023-03-18T12:03:51.798Z"
   },
   {
    "duration": 0,
    "start_time": "2023-03-18T12:03:51.799Z"
   },
   {
    "duration": 0,
    "start_time": "2023-03-18T12:03:51.800Z"
   },
   {
    "duration": 0,
    "start_time": "2023-03-18T12:03:51.801Z"
   },
   {
    "duration": 0,
    "start_time": "2023-03-18T12:03:51.802Z"
   },
   {
    "duration": 0,
    "start_time": "2023-03-18T12:03:51.803Z"
   },
   {
    "duration": 0,
    "start_time": "2023-03-18T12:03:51.804Z"
   },
   {
    "duration": 0,
    "start_time": "2023-03-18T12:03:51.805Z"
   },
   {
    "duration": 0,
    "start_time": "2023-03-18T12:03:51.806Z"
   },
   {
    "duration": 0,
    "start_time": "2023-03-18T12:03:51.806Z"
   },
   {
    "duration": 10,
    "start_time": "2023-03-18T12:09:03.516Z"
   },
   {
    "duration": 13,
    "start_time": "2023-03-18T12:09:27.147Z"
   },
   {
    "duration": 14,
    "start_time": "2023-03-18T12:09:47.798Z"
   },
   {
    "duration": 12,
    "start_time": "2023-03-18T12:10:05.633Z"
   },
   {
    "duration": 8,
    "start_time": "2023-03-18T12:11:32.826Z"
   },
   {
    "duration": 8,
    "start_time": "2023-03-18T12:12:13.481Z"
   },
   {
    "duration": 7,
    "start_time": "2023-03-18T12:12:32.271Z"
   },
   {
    "duration": 15,
    "start_time": "2023-03-18T12:12:59.584Z"
   },
   {
    "duration": 12,
    "start_time": "2023-03-18T12:13:03.681Z"
   },
   {
    "duration": 8,
    "start_time": "2023-03-18T12:13:25.532Z"
   },
   {
    "duration": 13,
    "start_time": "2023-03-18T12:13:46.227Z"
   },
   {
    "duration": 12,
    "start_time": "2023-03-18T12:13:58.764Z"
   },
   {
    "duration": 11,
    "start_time": "2023-03-18T12:15:31.784Z"
   },
   {
    "duration": 50,
    "start_time": "2023-03-18T12:16:40.538Z"
   },
   {
    "duration": 944,
    "start_time": "2023-03-18T12:16:51.434Z"
   },
   {
    "duration": 718,
    "start_time": "2023-03-18T12:17:18.080Z"
   },
   {
    "duration": 732,
    "start_time": "2023-03-18T12:17:43.831Z"
   },
   {
    "duration": 488,
    "start_time": "2023-03-18T12:17:58.962Z"
   },
   {
    "duration": 24,
    "start_time": "2023-03-18T12:17:59.453Z"
   },
   {
    "duration": 17,
    "start_time": "2023-03-18T12:17:59.478Z"
   },
   {
    "duration": 10,
    "start_time": "2023-03-18T12:17:59.497Z"
   },
   {
    "duration": 64,
    "start_time": "2023-03-18T12:17:59.510Z"
   },
   {
    "duration": 4,
    "start_time": "2023-03-18T12:17:59.576Z"
   },
   {
    "duration": 12,
    "start_time": "2023-03-18T12:17:59.582Z"
   },
   {
    "duration": 6,
    "start_time": "2023-03-18T12:17:59.595Z"
   },
   {
    "duration": 7,
    "start_time": "2023-03-18T12:17:59.603Z"
   },
   {
    "duration": 33,
    "start_time": "2023-03-18T12:17:59.611Z"
   },
   {
    "duration": 34,
    "start_time": "2023-03-18T12:17:59.645Z"
   },
   {
    "duration": 10,
    "start_time": "2023-03-18T12:17:59.680Z"
   },
   {
    "duration": 5,
    "start_time": "2023-03-18T12:17:59.691Z"
   },
   {
    "duration": 43,
    "start_time": "2023-03-18T12:17:59.698Z"
   },
   {
    "duration": 21,
    "start_time": "2023-03-18T12:17:59.743Z"
   },
   {
    "duration": 18,
    "start_time": "2023-03-18T12:17:59.765Z"
   },
   {
    "duration": 3,
    "start_time": "2023-03-18T12:17:59.785Z"
   },
   {
    "duration": 11,
    "start_time": "2023-03-18T12:17:59.790Z"
   },
   {
    "duration": 6,
    "start_time": "2023-03-18T12:17:59.802Z"
   },
   {
    "duration": 4,
    "start_time": "2023-03-18T12:17:59.841Z"
   },
   {
    "duration": 10,
    "start_time": "2023-03-18T12:17:59.847Z"
   },
   {
    "duration": 20,
    "start_time": "2023-03-18T12:17:59.858Z"
   },
   {
    "duration": 3,
    "start_time": "2023-03-18T12:17:59.880Z"
   },
   {
    "duration": 6,
    "start_time": "2023-03-18T12:17:59.885Z"
   },
   {
    "duration": 6,
    "start_time": "2023-03-18T12:17:59.893Z"
   },
   {
    "duration": 3,
    "start_time": "2023-03-18T12:17:59.901Z"
   },
   {
    "duration": 7,
    "start_time": "2023-03-18T12:17:59.941Z"
   },
   {
    "duration": 831,
    "start_time": "2023-03-18T12:17:59.949Z"
   },
   {
    "duration": 0,
    "start_time": "2023-03-18T12:18:00.782Z"
   },
   {
    "duration": 0,
    "start_time": "2023-03-18T12:18:00.784Z"
   },
   {
    "duration": 0,
    "start_time": "2023-03-18T12:18:00.785Z"
   },
   {
    "duration": 0,
    "start_time": "2023-03-18T12:18:00.786Z"
   },
   {
    "duration": 0,
    "start_time": "2023-03-18T12:18:00.787Z"
   },
   {
    "duration": 0,
    "start_time": "2023-03-18T12:18:00.788Z"
   },
   {
    "duration": 0,
    "start_time": "2023-03-18T12:18:00.789Z"
   },
   {
    "duration": 0,
    "start_time": "2023-03-18T12:18:00.790Z"
   },
   {
    "duration": 0,
    "start_time": "2023-03-18T12:18:00.791Z"
   },
   {
    "duration": 0,
    "start_time": "2023-03-18T12:18:00.793Z"
   },
   {
    "duration": 0,
    "start_time": "2023-03-18T12:18:00.794Z"
   },
   {
    "duration": 0,
    "start_time": "2023-03-18T12:18:00.795Z"
   },
   {
    "duration": 0,
    "start_time": "2023-03-18T12:18:00.796Z"
   },
   {
    "duration": 14,
    "start_time": "2023-03-18T12:18:46.245Z"
   },
   {
    "duration": 15,
    "start_time": "2023-03-18T12:19:02.649Z"
   },
   {
    "duration": 13,
    "start_time": "2023-03-18T12:22:25.679Z"
   },
   {
    "duration": 12,
    "start_time": "2023-03-18T12:22:42.477Z"
   },
   {
    "duration": 24,
    "start_time": "2023-03-18T12:22:56.045Z"
   },
   {
    "duration": 42,
    "start_time": "2023-03-18T12:23:46.177Z"
   },
   {
    "duration": 10,
    "start_time": "2023-03-18T12:23:54.559Z"
   },
   {
    "duration": 11,
    "start_time": "2023-03-18T12:24:02.099Z"
   },
   {
    "duration": 10,
    "start_time": "2023-03-18T12:24:11.860Z"
   },
   {
    "duration": 11,
    "start_time": "2023-03-18T12:24:19.274Z"
   },
   {
    "duration": 17,
    "start_time": "2023-03-18T12:24:52.259Z"
   },
   {
    "duration": 46,
    "start_time": "2023-03-18T12:26:59.010Z"
   },
   {
    "duration": 66,
    "start_time": "2023-03-18T12:27:49.582Z"
   },
   {
    "duration": 44,
    "start_time": "2023-03-18T12:27:58.877Z"
   },
   {
    "duration": 51,
    "start_time": "2023-03-18T12:28:09.908Z"
   },
   {
    "duration": 53,
    "start_time": "2023-03-18T12:28:38.052Z"
   },
   {
    "duration": 15,
    "start_time": "2023-03-18T12:29:03.976Z"
   },
   {
    "duration": 17,
    "start_time": "2023-03-18T12:29:30.209Z"
   },
   {
    "duration": 15,
    "start_time": "2023-03-18T12:29:47.061Z"
   },
   {
    "duration": 15,
    "start_time": "2023-03-18T12:30:00.409Z"
   },
   {
    "duration": 12,
    "start_time": "2023-03-18T12:30:50.478Z"
   },
   {
    "duration": 21,
    "start_time": "2023-03-18T12:30:58.539Z"
   },
   {
    "duration": 61,
    "start_time": "2023-03-18T12:31:12.695Z"
   },
   {
    "duration": 21,
    "start_time": "2023-03-18T12:31:32.645Z"
   },
   {
    "duration": 17,
    "start_time": "2023-03-18T12:36:30.510Z"
   },
   {
    "duration": 16,
    "start_time": "2023-03-18T12:36:39.409Z"
   },
   {
    "duration": 16,
    "start_time": "2023-03-18T12:36:52.085Z"
   },
   {
    "duration": 16,
    "start_time": "2023-03-18T12:36:56.681Z"
   },
   {
    "duration": 13,
    "start_time": "2023-03-18T12:37:02.958Z"
   },
   {
    "duration": 12,
    "start_time": "2023-03-18T12:37:10.462Z"
   },
   {
    "duration": 11,
    "start_time": "2023-03-18T12:37:35.060Z"
   },
   {
    "duration": 13,
    "start_time": "2023-03-18T12:37:40.060Z"
   },
   {
    "duration": 13,
    "start_time": "2023-03-18T12:37:46.660Z"
   },
   {
    "duration": 492,
    "start_time": "2023-03-18T12:39:44.386Z"
   },
   {
    "duration": 18,
    "start_time": "2023-03-18T12:43:05.826Z"
   },
   {
    "duration": 10,
    "start_time": "2023-03-18T12:48:17.675Z"
   },
   {
    "duration": 11,
    "start_time": "2023-03-18T12:48:30.276Z"
   },
   {
    "duration": 8,
    "start_time": "2023-03-18T12:48:39.259Z"
   },
   {
    "duration": 8,
    "start_time": "2023-03-18T12:48:53.709Z"
   },
   {
    "duration": 9,
    "start_time": "2023-03-18T12:49:06.778Z"
   },
   {
    "duration": 12,
    "start_time": "2023-03-18T12:49:19.076Z"
   },
   {
    "duration": 10,
    "start_time": "2023-03-18T12:49:30.692Z"
   },
   {
    "duration": 9,
    "start_time": "2023-03-18T12:49:36.776Z"
   },
   {
    "duration": 7,
    "start_time": "2023-03-18T12:49:42.509Z"
   },
   {
    "duration": 14,
    "start_time": "2023-03-18T12:51:06.411Z"
   },
   {
    "duration": 18,
    "start_time": "2023-03-18T12:52:35.230Z"
   },
   {
    "duration": 15,
    "start_time": "2023-03-18T12:52:40.899Z"
   },
   {
    "duration": 15,
    "start_time": "2023-03-18T12:52:46.777Z"
   },
   {
    "duration": 19,
    "start_time": "2023-03-18T12:52:59.610Z"
   },
   {
    "duration": 26,
    "start_time": "2023-03-18T12:53:09.143Z"
   },
   {
    "duration": 189,
    "start_time": "2023-03-18T12:53:14.810Z"
   },
   {
    "duration": 16,
    "start_time": "2023-03-18T12:53:28.394Z"
   },
   {
    "duration": 27,
    "start_time": "2023-03-18T12:53:37.378Z"
   },
   {
    "duration": 18,
    "start_time": "2023-03-18T12:53:44.750Z"
   },
   {
    "duration": 19,
    "start_time": "2023-03-18T12:54:25.210Z"
   },
   {
    "duration": 11,
    "start_time": "2023-03-18T12:54:44.491Z"
   },
   {
    "duration": 19,
    "start_time": "2023-03-18T12:55:16.760Z"
   },
   {
    "duration": 14,
    "start_time": "2023-03-18T12:55:25.726Z"
   },
   {
    "duration": 10,
    "start_time": "2023-03-18T12:55:29.630Z"
   },
   {
    "duration": 4,
    "start_time": "2023-03-18T12:55:45.576Z"
   },
   {
    "duration": 461,
    "start_time": "2023-03-18T12:57:41.193Z"
   },
   {
    "duration": 22,
    "start_time": "2023-03-18T12:57:41.656Z"
   },
   {
    "duration": 16,
    "start_time": "2023-03-18T12:57:41.679Z"
   },
   {
    "duration": 11,
    "start_time": "2023-03-18T12:57:41.697Z"
   },
   {
    "duration": 64,
    "start_time": "2023-03-18T12:57:41.710Z"
   },
   {
    "duration": 4,
    "start_time": "2023-03-18T12:57:41.776Z"
   },
   {
    "duration": 10,
    "start_time": "2023-03-18T12:57:41.782Z"
   },
   {
    "duration": 5,
    "start_time": "2023-03-18T12:57:41.794Z"
   },
   {
    "duration": 8,
    "start_time": "2023-03-18T12:57:41.801Z"
   },
   {
    "duration": 34,
    "start_time": "2023-03-18T12:57:41.811Z"
   },
   {
    "duration": 52,
    "start_time": "2023-03-18T12:57:41.847Z"
   },
   {
    "duration": 40,
    "start_time": "2023-03-18T12:57:41.902Z"
   },
   {
    "duration": 4,
    "start_time": "2023-03-18T12:57:41.945Z"
   },
   {
    "duration": 15,
    "start_time": "2023-03-18T12:57:41.953Z"
   },
   {
    "duration": 22,
    "start_time": "2023-03-18T12:57:41.970Z"
   },
   {
    "duration": 47,
    "start_time": "2023-03-18T12:57:41.994Z"
   },
   {
    "duration": 4,
    "start_time": "2023-03-18T12:57:42.043Z"
   },
   {
    "duration": 12,
    "start_time": "2023-03-18T12:57:42.049Z"
   },
   {
    "duration": 7,
    "start_time": "2023-03-18T12:57:42.063Z"
   },
   {
    "duration": 4,
    "start_time": "2023-03-18T12:57:42.072Z"
   },
   {
    "duration": 14,
    "start_time": "2023-03-18T12:57:42.077Z"
   },
   {
    "duration": 20,
    "start_time": "2023-03-18T12:57:42.093Z"
   },
   {
    "duration": 27,
    "start_time": "2023-03-18T12:57:42.115Z"
   },
   {
    "duration": 5,
    "start_time": "2023-03-18T12:57:42.144Z"
   },
   {
    "duration": 7,
    "start_time": "2023-03-18T12:57:42.151Z"
   },
   {
    "duration": 4,
    "start_time": "2023-03-18T12:57:42.159Z"
   },
   {
    "duration": 9,
    "start_time": "2023-03-18T12:57:42.165Z"
   },
   {
    "duration": 9,
    "start_time": "2023-03-18T12:57:42.175Z"
   },
   {
    "duration": 900,
    "start_time": "2023-03-18T12:57:42.186Z"
   },
   {
    "duration": 0,
    "start_time": "2023-03-18T12:57:43.088Z"
   },
   {
    "duration": 0,
    "start_time": "2023-03-18T12:57:43.089Z"
   },
   {
    "duration": 0,
    "start_time": "2023-03-18T12:57:43.091Z"
   },
   {
    "duration": 0,
    "start_time": "2023-03-18T12:57:43.093Z"
   },
   {
    "duration": 0,
    "start_time": "2023-03-18T12:57:43.094Z"
   },
   {
    "duration": 0,
    "start_time": "2023-03-18T12:57:43.095Z"
   },
   {
    "duration": 0,
    "start_time": "2023-03-18T12:57:43.096Z"
   },
   {
    "duration": 0,
    "start_time": "2023-03-18T12:57:43.097Z"
   },
   {
    "duration": 0,
    "start_time": "2023-03-18T12:57:43.099Z"
   },
   {
    "duration": 0,
    "start_time": "2023-03-18T12:57:43.100Z"
   },
   {
    "duration": 0,
    "start_time": "2023-03-18T12:57:43.101Z"
   },
   {
    "duration": 0,
    "start_time": "2023-03-18T12:57:43.102Z"
   },
   {
    "duration": 0,
    "start_time": "2023-03-18T12:57:43.103Z"
   },
   {
    "duration": 10,
    "start_time": "2023-03-18T13:00:14.593Z"
   },
   {
    "duration": 729,
    "start_time": "2023-03-18T13:02:08.394Z"
   },
   {
    "duration": 724,
    "start_time": "2023-03-18T13:02:33.664Z"
   },
   {
    "duration": 13,
    "start_time": "2023-03-18T13:04:40.442Z"
   },
   {
    "duration": 437,
    "start_time": "2023-03-18T13:05:13.898Z"
   },
   {
    "duration": 21,
    "start_time": "2023-03-18T13:05:14.337Z"
   },
   {
    "duration": 15,
    "start_time": "2023-03-18T13:05:14.359Z"
   },
   {
    "duration": 9,
    "start_time": "2023-03-18T13:05:14.377Z"
   },
   {
    "duration": 57,
    "start_time": "2023-03-18T13:05:14.388Z"
   },
   {
    "duration": 3,
    "start_time": "2023-03-18T13:05:14.447Z"
   },
   {
    "duration": 10,
    "start_time": "2023-03-18T13:05:14.452Z"
   },
   {
    "duration": 6,
    "start_time": "2023-03-18T13:05:14.463Z"
   },
   {
    "duration": 8,
    "start_time": "2023-03-18T13:05:14.471Z"
   },
   {
    "duration": 4,
    "start_time": "2023-03-18T13:05:14.482Z"
   },
   {
    "duration": 67,
    "start_time": "2023-03-18T13:05:14.488Z"
   },
   {
    "duration": 11,
    "start_time": "2023-03-18T13:05:14.557Z"
   },
   {
    "duration": 4,
    "start_time": "2023-03-18T13:05:14.570Z"
   },
   {
    "duration": 11,
    "start_time": "2023-03-18T13:05:14.575Z"
   },
   {
    "duration": 31,
    "start_time": "2023-03-18T13:05:14.587Z"
   },
   {
    "duration": 34,
    "start_time": "2023-03-18T13:05:14.619Z"
   },
   {
    "duration": 3,
    "start_time": "2023-03-18T13:05:14.655Z"
   },
   {
    "duration": 18,
    "start_time": "2023-03-18T13:05:14.660Z"
   },
   {
    "duration": 6,
    "start_time": "2023-03-18T13:05:14.680Z"
   },
   {
    "duration": 8,
    "start_time": "2023-03-18T13:05:14.687Z"
   },
   {
    "duration": 28,
    "start_time": "2023-03-18T13:05:14.697Z"
   },
   {
    "duration": 18,
    "start_time": "2023-03-18T13:05:14.726Z"
   },
   {
    "duration": 7,
    "start_time": "2023-03-18T13:05:14.745Z"
   },
   {
    "duration": 17,
    "start_time": "2023-03-18T13:05:14.753Z"
   },
   {
    "duration": 13,
    "start_time": "2023-03-18T13:05:14.772Z"
   },
   {
    "duration": 5,
    "start_time": "2023-03-18T13:05:14.786Z"
   },
   {
    "duration": 12,
    "start_time": "2023-03-18T13:05:14.792Z"
   },
   {
    "duration": 755,
    "start_time": "2023-03-18T13:05:14.807Z"
   },
   {
    "duration": 147,
    "start_time": "2023-03-18T13:05:15.564Z"
   },
   {
    "duration": 15,
    "start_time": "2023-03-18T13:05:15.712Z"
   },
   {
    "duration": 10,
    "start_time": "2023-03-18T13:05:15.740Z"
   },
   {
    "duration": 14,
    "start_time": "2023-03-18T13:05:15.752Z"
   },
   {
    "duration": 184,
    "start_time": "2023-03-18T13:05:15.767Z"
   },
   {
    "duration": 14,
    "start_time": "2023-03-18T13:05:15.952Z"
   },
   {
    "duration": 40,
    "start_time": "2023-03-18T13:05:15.967Z"
   },
   {
    "duration": 30,
    "start_time": "2023-03-18T13:05:16.009Z"
   },
   {
    "duration": 130,
    "start_time": "2023-03-18T13:05:16.040Z"
   },
   {
    "duration": 17,
    "start_time": "2023-03-18T13:05:16.171Z"
   },
   {
    "duration": 4,
    "start_time": "2023-03-18T13:05:16.189Z"
   },
   {
    "duration": 8,
    "start_time": "2023-03-18T13:05:16.195Z"
   },
   {
    "duration": 148,
    "start_time": "2023-03-18T13:05:16.205Z"
   },
   {
    "duration": 110,
    "start_time": "2023-03-18T13:13:37.419Z"
   },
   {
    "duration": 704,
    "start_time": "2023-03-18T13:13:56.785Z"
   },
   {
    "duration": 143,
    "start_time": "2023-03-18T13:14:13.136Z"
   },
   {
    "duration": 16,
    "start_time": "2023-03-18T13:14:58.533Z"
   },
   {
    "duration": 143,
    "start_time": "2023-03-18T13:15:08.584Z"
   },
   {
    "duration": 141,
    "start_time": "2023-03-18T13:15:32.286Z"
   },
   {
    "duration": 8,
    "start_time": "2023-03-18T13:15:49.434Z"
   },
   {
    "duration": 137,
    "start_time": "2023-03-18T13:16:20.284Z"
   },
   {
    "duration": 14,
    "start_time": "2023-03-18T13:21:23.234Z"
   },
   {
    "duration": 15,
    "start_time": "2023-03-18T13:21:47.151Z"
   },
   {
    "duration": 16,
    "start_time": "2023-03-18T13:21:59.317Z"
   },
   {
    "duration": 10,
    "start_time": "2023-03-18T13:22:05.920Z"
   },
   {
    "duration": 46,
    "start_time": "2023-03-18T13:24:29.901Z"
   },
   {
    "duration": 11,
    "start_time": "2023-03-18T13:25:16.517Z"
   },
   {
    "duration": 9,
    "start_time": "2023-03-18T13:26:51.374Z"
   },
   {
    "duration": 483,
    "start_time": "2023-03-18T13:27:24.407Z"
   },
   {
    "duration": 27,
    "start_time": "2023-03-18T13:27:24.892Z"
   },
   {
    "duration": 29,
    "start_time": "2023-03-18T13:27:24.921Z"
   },
   {
    "duration": 10,
    "start_time": "2023-03-18T13:27:24.952Z"
   },
   {
    "duration": 37,
    "start_time": "2023-03-18T13:27:24.964Z"
   },
   {
    "duration": 3,
    "start_time": "2023-03-18T13:27:25.003Z"
   },
   {
    "duration": 41,
    "start_time": "2023-03-18T13:27:25.008Z"
   },
   {
    "duration": 7,
    "start_time": "2023-03-18T13:27:25.051Z"
   },
   {
    "duration": 8,
    "start_time": "2023-03-18T13:27:25.060Z"
   },
   {
    "duration": 5,
    "start_time": "2023-03-18T13:27:25.070Z"
   },
   {
    "duration": 48,
    "start_time": "2023-03-18T13:27:25.076Z"
   },
   {
    "duration": 11,
    "start_time": "2023-03-18T13:27:25.141Z"
   },
   {
    "duration": 5,
    "start_time": "2023-03-18T13:27:25.154Z"
   },
   {
    "duration": 12,
    "start_time": "2023-03-18T13:27:25.161Z"
   },
   {
    "duration": 26,
    "start_time": "2023-03-18T13:27:25.174Z"
   },
   {
    "duration": 45,
    "start_time": "2023-03-18T13:27:25.201Z"
   },
   {
    "duration": 6,
    "start_time": "2023-03-18T13:27:25.248Z"
   },
   {
    "duration": 16,
    "start_time": "2023-03-18T13:27:25.256Z"
   },
   {
    "duration": 10,
    "start_time": "2023-03-18T13:27:25.273Z"
   },
   {
    "duration": 5,
    "start_time": "2023-03-18T13:27:25.285Z"
   },
   {
    "duration": 16,
    "start_time": "2023-03-18T13:27:25.292Z"
   },
   {
    "duration": 45,
    "start_time": "2023-03-18T13:27:25.310Z"
   },
   {
    "duration": 3,
    "start_time": "2023-03-18T13:27:25.357Z"
   },
   {
    "duration": 6,
    "start_time": "2023-03-18T13:27:25.362Z"
   },
   {
    "duration": 8,
    "start_time": "2023-03-18T13:27:25.370Z"
   },
   {
    "duration": 17,
    "start_time": "2023-03-18T13:27:25.380Z"
   },
   {
    "duration": 12,
    "start_time": "2023-03-18T13:27:25.398Z"
   },
   {
    "duration": 902,
    "start_time": "2023-03-18T13:27:25.440Z"
   },
   {
    "duration": 156,
    "start_time": "2023-03-18T13:27:26.344Z"
   },
   {
    "duration": 16,
    "start_time": "2023-03-18T13:27:26.502Z"
   },
   {
    "duration": 5,
    "start_time": "2023-03-18T13:27:26.519Z"
   },
   {
    "duration": 9,
    "start_time": "2023-03-18T13:27:26.541Z"
   },
   {
    "duration": 197,
    "start_time": "2023-03-18T13:27:26.552Z"
   },
   {
    "duration": 17,
    "start_time": "2023-03-18T13:27:26.752Z"
   },
   {
    "duration": 6,
    "start_time": "2023-03-18T13:27:26.771Z"
   },
   {
    "duration": 9,
    "start_time": "2023-03-18T13:27:26.779Z"
   },
   {
    "duration": 217,
    "start_time": "2023-03-18T13:27:26.790Z"
   },
   {
    "duration": 32,
    "start_time": "2023-03-18T13:27:27.009Z"
   },
   {
    "duration": 7,
    "start_time": "2023-03-18T13:27:27.043Z"
   },
   {
    "duration": 11,
    "start_time": "2023-03-18T13:27:27.052Z"
   },
   {
    "duration": 163,
    "start_time": "2023-03-18T13:27:27.065Z"
   },
   {
    "duration": 115,
    "start_time": "2023-03-18T13:29:00.951Z"
   },
   {
    "duration": 25,
    "start_time": "2023-03-18T13:30:31.117Z"
   },
   {
    "duration": 157,
    "start_time": "2023-03-18T13:30:40.261Z"
   },
   {
    "duration": 155,
    "start_time": "2023-03-18T13:32:22.450Z"
   },
   {
    "duration": 50,
    "start_time": "2023-03-18T13:34:57.049Z"
   },
   {
    "duration": 167,
    "start_time": "2023-03-18T13:35:09.393Z"
   },
   {
    "duration": 147,
    "start_time": "2023-03-18T13:35:48.612Z"
   },
   {
    "duration": 48,
    "start_time": "2023-03-18T13:40:24.916Z"
   },
   {
    "duration": 80,
    "start_time": "2023-03-18T13:40:33.350Z"
   },
   {
    "duration": 251,
    "start_time": "2023-03-18T13:41:27.717Z"
   },
   {
    "duration": 147,
    "start_time": "2023-03-18T13:41:46.350Z"
   },
   {
    "duration": 177,
    "start_time": "2023-03-18T13:43:48.734Z"
   },
   {
    "duration": 141,
    "start_time": "2023-03-18T13:44:10.852Z"
   },
   {
    "duration": 145,
    "start_time": "2023-03-18T13:44:22.688Z"
   },
   {
    "duration": 215,
    "start_time": "2023-03-18T13:44:48.901Z"
   },
   {
    "duration": 14,
    "start_time": "2023-03-18T13:55:39.281Z"
   },
   {
    "duration": 9,
    "start_time": "2023-03-18T14:00:10.208Z"
   },
   {
    "duration": 9,
    "start_time": "2023-03-18T14:00:57.702Z"
   },
   {
    "duration": 150,
    "start_time": "2023-03-18T14:01:27.132Z"
   },
   {
    "duration": 149,
    "start_time": "2023-03-18T14:02:14.033Z"
   },
   {
    "duration": 165,
    "start_time": "2023-03-18T14:02:20.655Z"
   },
   {
    "duration": 10,
    "start_time": "2023-03-18T14:26:45.611Z"
   },
   {
    "duration": 10,
    "start_time": "2023-03-18T14:27:10.817Z"
   },
   {
    "duration": 13,
    "start_time": "2023-03-18T14:27:52.953Z"
   },
   {
    "duration": 13,
    "start_time": "2023-03-18T14:28:08.452Z"
   },
   {
    "duration": 9,
    "start_time": "2023-03-18T14:28:23.185Z"
   },
   {
    "duration": 50,
    "start_time": "2023-03-18T14:28:54.195Z"
   },
   {
    "duration": 192,
    "start_time": "2023-03-18T14:28:59.111Z"
   },
   {
    "duration": 145,
    "start_time": "2023-03-18T14:30:47.734Z"
   },
   {
    "duration": 45,
    "start_time": "2023-03-18T14:32:54.218Z"
   },
   {
    "duration": 22,
    "start_time": "2023-03-18T14:33:03.735Z"
   },
   {
    "duration": 16,
    "start_time": "2023-03-18T14:33:15.098Z"
   },
   {
    "duration": 15,
    "start_time": "2023-03-18T14:33:21.798Z"
   },
   {
    "duration": 10,
    "start_time": "2023-03-18T14:43:23.918Z"
   },
   {
    "duration": 10,
    "start_time": "2023-03-18T14:46:47.919Z"
   },
   {
    "duration": 10,
    "start_time": "2023-03-18T14:46:55.634Z"
   },
   {
    "duration": 140,
    "start_time": "2023-03-18T14:48:22.403Z"
   },
   {
    "duration": 541,
    "start_time": "2023-03-18T15:06:39.015Z"
   },
   {
    "duration": 23,
    "start_time": "2023-03-18T15:06:39.559Z"
   },
   {
    "duration": 20,
    "start_time": "2023-03-18T15:06:39.583Z"
   },
   {
    "duration": 36,
    "start_time": "2023-03-18T15:06:39.607Z"
   },
   {
    "duration": 37,
    "start_time": "2023-03-18T15:06:39.645Z"
   },
   {
    "duration": 4,
    "start_time": "2023-03-18T15:06:39.684Z"
   },
   {
    "duration": 11,
    "start_time": "2023-03-18T15:06:39.690Z"
   },
   {
    "duration": 5,
    "start_time": "2023-03-18T15:06:39.703Z"
   },
   {
    "duration": 33,
    "start_time": "2023-03-18T15:06:39.710Z"
   },
   {
    "duration": 5,
    "start_time": "2023-03-18T15:06:39.746Z"
   },
   {
    "duration": 36,
    "start_time": "2023-03-18T15:06:39.753Z"
   },
   {
    "duration": 12,
    "start_time": "2023-03-18T15:06:39.791Z"
   },
   {
    "duration": 29,
    "start_time": "2023-03-18T15:06:39.805Z"
   },
   {
    "duration": 12,
    "start_time": "2023-03-18T15:06:39.841Z"
   },
   {
    "duration": 35,
    "start_time": "2023-03-18T15:06:39.855Z"
   },
   {
    "duration": 17,
    "start_time": "2023-03-18T15:06:39.892Z"
   },
   {
    "duration": 4,
    "start_time": "2023-03-18T15:06:39.911Z"
   },
   {
    "duration": 26,
    "start_time": "2023-03-18T15:06:39.916Z"
   },
   {
    "duration": 16,
    "start_time": "2023-03-18T15:06:39.943Z"
   },
   {
    "duration": 10,
    "start_time": "2023-03-18T15:06:39.961Z"
   },
   {
    "duration": 32,
    "start_time": "2023-03-18T15:06:39.973Z"
   },
   {
    "duration": 29,
    "start_time": "2023-03-18T15:06:40.007Z"
   },
   {
    "duration": 4,
    "start_time": "2023-03-18T15:06:40.037Z"
   },
   {
    "duration": 12,
    "start_time": "2023-03-18T15:06:40.042Z"
   },
   {
    "duration": 13,
    "start_time": "2023-03-18T15:06:40.057Z"
   },
   {
    "duration": 13,
    "start_time": "2023-03-18T15:06:40.073Z"
   },
   {
    "duration": 9,
    "start_time": "2023-03-18T15:06:40.089Z"
   },
   {
    "duration": 1000,
    "start_time": "2023-03-18T15:06:40.103Z"
   },
   {
    "duration": 15,
    "start_time": "2023-03-18T15:06:41.105Z"
   },
   {
    "duration": 26,
    "start_time": "2023-03-18T15:06:41.122Z"
   },
   {
    "duration": 15,
    "start_time": "2023-03-18T15:06:41.150Z"
   },
   {
    "duration": 211,
    "start_time": "2023-03-18T15:06:41.166Z"
   },
   {
    "duration": 15,
    "start_time": "2023-03-18T15:06:41.379Z"
   },
   {
    "duration": 10,
    "start_time": "2023-03-18T15:06:41.396Z"
   },
   {
    "duration": 34,
    "start_time": "2023-03-18T15:06:41.408Z"
   },
   {
    "duration": 169,
    "start_time": "2023-03-18T15:06:41.444Z"
   },
   {
    "duration": 29,
    "start_time": "2023-03-18T15:06:41.616Z"
   },
   {
    "duration": 14,
    "start_time": "2023-03-18T15:06:41.647Z"
   },
   {
    "duration": 13,
    "start_time": "2023-03-18T15:06:41.664Z"
   },
   {
    "duration": 195,
    "start_time": "2023-03-18T15:06:41.679Z"
   },
   {
    "duration": 423,
    "start_time": "2023-03-19T15:48:51.030Z"
   },
   {
    "duration": 18,
    "start_time": "2023-03-19T15:48:51.454Z"
   },
   {
    "duration": 20,
    "start_time": "2023-03-19T15:48:51.474Z"
   },
   {
    "duration": 8,
    "start_time": "2023-03-19T15:48:51.495Z"
   },
   {
    "duration": 37,
    "start_time": "2023-03-19T15:48:51.504Z"
   },
   {
    "duration": 2,
    "start_time": "2023-03-19T15:48:51.543Z"
   },
   {
    "duration": 9,
    "start_time": "2023-03-19T15:48:51.546Z"
   },
   {
    "duration": 4,
    "start_time": "2023-03-19T15:48:51.556Z"
   },
   {
    "duration": 8,
    "start_time": "2023-03-19T15:48:51.561Z"
   },
   {
    "duration": 3,
    "start_time": "2023-03-19T15:48:51.571Z"
   },
   {
    "duration": 51,
    "start_time": "2023-03-19T15:48:51.575Z"
   },
   {
    "duration": 8,
    "start_time": "2023-03-19T15:48:51.627Z"
   },
   {
    "duration": 4,
    "start_time": "2023-03-19T15:48:51.636Z"
   },
   {
    "duration": 11,
    "start_time": "2023-03-19T15:48:51.641Z"
   },
   {
    "duration": 16,
    "start_time": "2023-03-19T15:48:51.653Z"
   },
   {
    "duration": 14,
    "start_time": "2023-03-19T15:48:51.670Z"
   },
   {
    "duration": 3,
    "start_time": "2023-03-19T15:48:51.685Z"
   },
   {
    "duration": 35,
    "start_time": "2023-03-19T15:48:51.689Z"
   },
   {
    "duration": 5,
    "start_time": "2023-03-19T15:48:51.725Z"
   },
   {
    "duration": 20,
    "start_time": "2023-03-19T15:48:51.731Z"
   },
   {
    "duration": 14,
    "start_time": "2023-03-19T15:48:51.752Z"
   },
   {
    "duration": 13,
    "start_time": "2023-03-19T15:48:51.767Z"
   },
   {
    "duration": 3,
    "start_time": "2023-03-19T15:48:51.781Z"
   },
   {
    "duration": 7,
    "start_time": "2023-03-19T15:48:51.785Z"
   },
   {
    "duration": 7,
    "start_time": "2023-03-19T15:48:51.793Z"
   },
   {
    "duration": 12,
    "start_time": "2023-03-19T15:48:51.801Z"
   },
   {
    "duration": 19,
    "start_time": "2023-03-19T15:48:51.815Z"
   },
   {
    "duration": 14,
    "start_time": "2023-03-19T15:48:51.837Z"
   },
   {
    "duration": 783,
    "start_time": "2023-03-19T15:48:51.852Z"
   },
   {
    "duration": 12,
    "start_time": "2023-03-19T15:48:52.637Z"
   },
   {
    "duration": 6,
    "start_time": "2023-03-19T15:48:52.651Z"
   },
   {
    "duration": 8,
    "start_time": "2023-03-19T15:48:52.659Z"
   },
   {
    "duration": 138,
    "start_time": "2023-03-19T15:48:52.668Z"
   },
   {
    "duration": 23,
    "start_time": "2023-03-19T15:48:52.807Z"
   },
   {
    "duration": 7,
    "start_time": "2023-03-19T15:48:52.831Z"
   },
   {
    "duration": 8,
    "start_time": "2023-03-19T15:48:52.840Z"
   },
   {
    "duration": 122,
    "start_time": "2023-03-19T15:48:52.852Z"
   },
   {
    "duration": 12,
    "start_time": "2023-03-19T15:48:52.976Z"
   },
   {
    "duration": 7,
    "start_time": "2023-03-19T15:48:52.989Z"
   },
   {
    "duration": 14,
    "start_time": "2023-03-19T15:48:52.997Z"
   },
   {
    "duration": 120,
    "start_time": "2023-03-19T15:48:53.013Z"
   },
   {
    "duration": 7,
    "start_time": "2023-03-19T15:49:17.237Z"
   },
   {
    "duration": 8,
    "start_time": "2023-03-19T15:49:53.281Z"
   },
   {
    "duration": 22,
    "start_time": "2023-03-19T15:50:36.946Z"
   },
   {
    "duration": 18,
    "start_time": "2023-03-19T15:50:57.843Z"
   },
   {
    "duration": 20,
    "start_time": "2023-03-19T15:51:05.674Z"
   }
  ],
  "celltoolbar": "Отсутствует",
  "colab": {
   "provenance": []
  },
  "kernelspec": {
   "display_name": "Python 3 (ipykernel)",
   "language": "python",
   "name": "python3"
  },
  "language_info": {
   "codemirror_mode": {
    "name": "ipython",
    "version": 3
   },
   "file_extension": ".py",
   "mimetype": "text/x-python",
   "name": "python",
   "nbconvert_exporter": "python",
   "pygments_lexer": "ipython3",
   "version": "3.10.9"
  },
  "toc": {
   "base_numbering": 1,
   "nav_menu": {},
   "number_sections": true,
   "sideBar": true,
   "skip_h1_title": true,
   "title_cell": "Table of Contents",
   "title_sidebar": "Contents",
   "toc_cell": false,
   "toc_position": {},
   "toc_section_display": true,
   "toc_window_display": false
  }
 },
 "nbformat": 4,
 "nbformat_minor": 5
}
