{
 "cells": [
  {
   "cell_type": "markdown",
   "id": "8f54383f",
   "metadata": {},
   "source": [
    "# Исследование уровня потребительской лояльности  для       телекоммуникационной компании"
   ]
  },
  {
   "cell_type": "markdown",
   "id": "e2522c0c",
   "metadata": {},
   "source": [
    "**Цель исследования**\n",
    "\n",
    "Определить уровень потребительской лояльности, или NPS (от англ. Net Promoter Score),  среди клиентов из России для большой  телекоммуникационной компании, оказывающей услуги на территории всего СНГ. \n",
    "\n",
    "**Описание данных**\n",
    "\n",
    "Данные получены путем опроса среди клиентов, которым задавали следующий кдассический вопрос: «Оцените по шкале от 1 до 10 вероятность того, что вы порекомендуете компанию друзьям и знакомым». Оценки разделили на три группы:\n",
    "\n",
    "- 9-10 баллов — «cторонники» (англ. promoters);\n",
    "- 7-8 баллов — «нейтралы» (англ. passives);\n",
    "- 0-6 баллов — «критики» (англ. detractors).\n",
    "\n",
    "Итоговое значение NPS рассчитывается по формуле: % «сторонников» - % «критиков».\n",
    "Таким образом, значение этого показателя варьируется от -100% (когда все клиенты «критики») до 100% (когда все клиенты лояльны к сервису). \n",
    "\n",
    "Данные по исследованию выгрузили в SQLite.\n",
    "\n",
    "**Ход исследования**\n",
    "\n",
    "- Подключимся к базе данных в SQLite. \n",
    "\n",
    "- Напишем запрос, который выгрузит следующие данные:\n",
    "\n",
    "  - user_id - идентификатор клиента;\n",
    "  - lt_day - количество дней «жизни» клиента;\n",
    "  - is_new - поле хранит информацию о том, является ли клиент новым;\n",
    "  - age - возраст;\n",
    "  - gender_segment - пол (для удобства работы с полем преобразуем значения в текстовый вид);\n",
    "  - os_name тип операционной системы;\n",
    "  - cpe_type_name - тип устройства;\n",
    "  - country - страна проживания;\n",
    "  - city - город проживания;\n",
    "  - age_segment - возрастной сегмент;\n",
    "  - traffic_segment - сегмент по объёму потребляемого трафика;\n",
    "  - lifetime_segment сегмент по количеству дней «жизни»;\n",
    "  - nps_score - оценка клиента в NPS-опросе;\n",
    "  - nps_group - поле хранит информацию о том, к какой группе относится оценка клиента в опросе.\n",
    " \n",
    "- Создадим дашборд в Tableau, который представит информацию о текущем уровне NPS среди клиентов и покажет, как этот уровень меняется в зависимости от пользовательских признаков. \n",
    " \n",
    "- Ответим на следующие вопросы с помощью дашборда:\n",
    "\n",
    "  - Как распределены участники опроса по возрасту и полу? Каких пользователей больше: новых или старых? Пользователи из каких городов активнее участвовали в опросе?\n",
    "  - Какие группы пользователей наиболее лояльны к сервису? Какие менее?\n",
    "  - Какой общий NPS среди всех опрошенных?\n",
    "  - Как можно описать клиентов, которые относятся к группе cторонников (англ. promoters)?\n",
    "\n",
    "Ответы на вопросы оформим в виде презентации. "
   ]
  },
  {
   "cell_type": "code",
   "execution_count": 1,
   "id": "fc7efa54",
   "metadata": {},
   "outputs": [],
   "source": [
    "# Импортируем библиотеки.\n",
    "import os\n",
    "import pandas as pd\n",
    "import numpy as np\n",
    "\n",
    "from sqlalchemy import create_engine"
   ]
  },
  {
   "cell_type": "code",
   "execution_count": 2,
   "id": "0017f8e7",
   "metadata": {},
   "outputs": [],
   "source": [
    "# Подключаемся к базе данных.\n",
    "path_to_db_local = 'telecomm_csi.db'\n",
    "path_to_db_platform = '/Users/marina/CSV_files/telecomm_csi.db'\n",
    "path_to_db = None\n",
    "\n",
    "if os.path.exists(path_to_db_local):\n",
    "    path_to_db = path_to_db_local\n",
    "elif os.path.exists(path_to_db_platform):\n",
    "    path_to_db = path_to_db_platform\n",
    "else:\n",
    "    raise Exception('Файл с базой данных SQLite не найден!')\n",
    "\n",
    "if path_to_db:\n",
    "    engine = create_engine(f'sqlite:///{path_to_db}', echo=False)"
   ]
  },
  {
   "cell_type": "code",
   "execution_count": 3,
   "id": "84ebad43",
   "metadata": {},
   "outputs": [],
   "source": [
    "# Пишем запрос к базе данных.\n",
    "query = \"\"\"\n",
    "SELECT u.user_id, \n",
    "       u.lt_day, \n",
    "        CASE \n",
    "            WHEN u.lt_day <= 365 THEN 'новый' \n",
    "            ELSE 'постоянный' \n",
    "        END AS is_new,\n",
    "       u.age, \n",
    "        CASE \n",
    "            WHEN u.gender_segment = 1 THEN 'женский'\n",
    "            WHEN u.gender_segment = 0 THEN 'мужской'\n",
    "        END AS gender_segment,\n",
    "       u.os_name, \n",
    "       u.cpe_type_name,\n",
    "       l.country,\n",
    "       l.city,\n",
    "        SUBSTR(a.title, 3) AS age_segment,\n",
    "        SUBSTR(t.title, 3) AS traffic_segment,\n",
    "        SUBSTR(ls.title, 3) AS lifetime_segment,\n",
    "       u.nps_score,\n",
    "        CASE \n",
    "            WHEN u.nps_score >= 9 THEN 'сторонники'\n",
    "            WHEN u.nps_score >= 7 THEN 'нейтралы'\n",
    "            ELSE 'критики'\n",
    "        END AS nps_group\n",
    "FROM user AS u\n",
    "LEFT JOIN location AS l ON u.location_id=l.location_id\n",
    "LEFT JOIN age_segment AS a ON u.age_gr_id=a.age_gr_id\n",
    "LEFT JOIN traffic_segment AS t ON u.tr_gr_id=t.tr_gr_id\n",
    "LEFT JOIN lifetime_segment AS ls ON u.lt_gr_id=ls.lt_gr_id;\n",
    "\"\"\""
   ]
  },
  {
   "cell_type": "code",
   "execution_count": 4,
   "id": "3965faf2",
   "metadata": {
    "scrolled": false
   },
   "outputs": [
    {
     "data": {
      "text/html": [
       "<div>\n",
       "<style scoped>\n",
       "    .dataframe tbody tr th:only-of-type {\n",
       "        vertical-align: middle;\n",
       "    }\n",
       "\n",
       "    .dataframe tbody tr th {\n",
       "        vertical-align: top;\n",
       "    }\n",
       "\n",
       "    .dataframe thead th {\n",
       "        text-align: right;\n",
       "    }\n",
       "</style>\n",
       "<table border=\"1\" class=\"dataframe\">\n",
       "  <thead>\n",
       "    <tr style=\"text-align: right;\">\n",
       "      <th></th>\n",
       "      <th>user_id</th>\n",
       "      <th>lt_day</th>\n",
       "      <th>is_new</th>\n",
       "      <th>age</th>\n",
       "      <th>gender_segment</th>\n",
       "      <th>os_name</th>\n",
       "      <th>cpe_type_name</th>\n",
       "      <th>country</th>\n",
       "      <th>city</th>\n",
       "      <th>age_segment</th>\n",
       "      <th>traffic_segment</th>\n",
       "      <th>lifetime_segment</th>\n",
       "      <th>nps_score</th>\n",
       "      <th>nps_group</th>\n",
       "    </tr>\n",
       "  </thead>\n",
       "  <tbody>\n",
       "    <tr>\n",
       "      <th>0</th>\n",
       "      <td>A001A2</td>\n",
       "      <td>2320</td>\n",
       "      <td>постоянный</td>\n",
       "      <td>45.0</td>\n",
       "      <td>женский</td>\n",
       "      <td>ANDROID</td>\n",
       "      <td>SMARTPHONE</td>\n",
       "      <td>Россия</td>\n",
       "      <td>Уфа</td>\n",
       "      <td>45-54</td>\n",
       "      <td>1-5</td>\n",
       "      <td>36+</td>\n",
       "      <td>10</td>\n",
       "      <td>сторонники</td>\n",
       "    </tr>\n",
       "    <tr>\n",
       "      <th>1</th>\n",
       "      <td>A001WF</td>\n",
       "      <td>2344</td>\n",
       "      <td>постоянный</td>\n",
       "      <td>53.0</td>\n",
       "      <td>мужской</td>\n",
       "      <td>ANDROID</td>\n",
       "      <td>SMARTPHONE</td>\n",
       "      <td>Россия</td>\n",
       "      <td>Киров</td>\n",
       "      <td>45-54</td>\n",
       "      <td>1-5</td>\n",
       "      <td>36+</td>\n",
       "      <td>10</td>\n",
       "      <td>сторонники</td>\n",
       "    </tr>\n",
       "    <tr>\n",
       "      <th>2</th>\n",
       "      <td>A003Q7</td>\n",
       "      <td>467</td>\n",
       "      <td>постоянный</td>\n",
       "      <td>57.0</td>\n",
       "      <td>мужской</td>\n",
       "      <td>ANDROID</td>\n",
       "      <td>SMARTPHONE</td>\n",
       "      <td>Россия</td>\n",
       "      <td>Москва</td>\n",
       "      <td>55-64</td>\n",
       "      <td>20-25</td>\n",
       "      <td>13-24</td>\n",
       "      <td>10</td>\n",
       "      <td>сторонники</td>\n",
       "    </tr>\n",
       "  </tbody>\n",
       "</table>\n",
       "</div>"
      ],
      "text/plain": [
       "  user_id  lt_day      is_new   age gender_segment  os_name cpe_type_name  \\\n",
       "0  A001A2    2320  постоянный  45.0        женский  ANDROID    SMARTPHONE   \n",
       "1  A001WF    2344  постоянный  53.0        мужской  ANDROID    SMARTPHONE   \n",
       "2  A003Q7     467  постоянный  57.0        мужской  ANDROID    SMARTPHONE   \n",
       "\n",
       "  country    city age_segment traffic_segment lifetime_segment  nps_score  \\\n",
       "0  Россия     Уфа       45-54             1-5              36+         10   \n",
       "1  Россия   Киров       45-54             1-5              36+         10   \n",
       "2  Россия  Москва       55-64           20-25            13-24         10   \n",
       "\n",
       "    nps_group  \n",
       "0  сторонники  \n",
       "1  сторонники  \n",
       "2  сторонники  "
      ]
     },
     "execution_count": 4,
     "metadata": {},
     "output_type": "execute_result"
    }
   ],
   "source": [
    "# Создаем датафрейм по данным запроса.\n",
    "df = pd.read_sql(query, engine)\n",
    "df.head(3)"
   ]
  },
  {
   "cell_type": "markdown",
   "id": "fe6da3a0",
   "metadata": {},
   "source": [
    "Проверим качество данных в стобцах lt_day и nps_score."
   ]
  },
  {
   "cell_type": "code",
   "execution_count": 5,
   "id": "e66b01a8",
   "metadata": {},
   "outputs": [
    {
     "data": {
      "text/plain": [
       "0"
      ]
     },
     "execution_count": 5,
     "metadata": {},
     "output_type": "execute_result"
    }
   ],
   "source": [
    "df['lt_day'].isna().sum()"
   ]
  },
  {
   "cell_type": "code",
   "execution_count": 6,
   "id": "5b46e8df",
   "metadata": {},
   "outputs": [
    {
     "data": {
      "text/plain": [
       "0"
      ]
     },
     "execution_count": 6,
     "metadata": {},
     "output_type": "execute_result"
    }
   ],
   "source": [
    "df['nps_score'].isna().sum()"
   ]
  },
  {
   "cell_type": "code",
   "execution_count": 7,
   "id": "dcd9fd71",
   "metadata": {},
   "outputs": [
    {
     "name": "stdout",
     "output_type": "stream",
     "text": [
      "[2320 2344  467 ... 8202 7138 6861]\n"
     ]
    },
    {
     "data": {
      "text/plain": [
       "6950"
      ]
     },
     "execution_count": 7,
     "metadata": {},
     "output_type": "execute_result"
    }
   ],
   "source": [
    "print(df['lt_day'].unique())\n",
    "len(df['lt_day'].unique())"
   ]
  },
  {
   "cell_type": "code",
   "execution_count": 8,
   "id": "59326162",
   "metadata": {},
   "outputs": [
    {
     "name": "stdout",
     "output_type": "stream",
     "text": [
      "[10  6  9  2  5  8  1  4  7  3]\n"
     ]
    },
    {
     "data": {
      "text/plain": [
       "10"
      ]
     },
     "execution_count": 8,
     "metadata": {},
     "output_type": "execute_result"
    }
   ],
   "source": [
    "print(df['nps_score'].unique())\n",
    "len(df['nps_score'].unique())"
   ]
  },
  {
   "cell_type": "code",
   "execution_count": 9,
   "id": "078f0586",
   "metadata": {},
   "outputs": [
    {
     "data": {
      "text/plain": [
       "100152   -21\n",
       "325212   -13\n",
       "407160   -13\n",
       "228087   -13\n",
       "455359   -12\n",
       "385897   -12\n",
       "401226   -11\n",
       "7666      -8\n",
       "492382    -7\n",
       "347784    -6\n",
       "71577     -4\n",
       "53997     -2\n",
       "425927    -1\n",
       "284966     0\n",
       "480641     0\n",
       "403933     0\n",
       "103223     0\n",
       "127634     1\n",
       "430205     1\n",
       "314217     1\n",
       "Name: lt_day, dtype: int64"
      ]
     },
     "execution_count": 9,
     "metadata": {},
     "output_type": "execute_result"
    }
   ],
   "source": [
    "df['lt_day'].sort_values().head(20)"
   ]
  },
  {
   "cell_type": "markdown",
   "id": "33a03a6c",
   "metadata": {},
   "source": [
    "Cтолбец lt_day имеет ряд отрицательных значений, вероятно, это техническая ошибка, учту это в дальнейшей работе."
   ]
  },
  {
   "cell_type": "code",
   "execution_count": 10,
   "id": "9db04858",
   "metadata": {},
   "outputs": [],
   "source": [
    "# Сохраняем датафрейм в csv-файл для дальнейшей работы.\n",
    "df.to_csv('telecomm_csi_tableau.csv', index=False)"
   ]
  },
  {
   "cell_type": "markdown",
   "id": "416d4209",
   "metadata": {},
   "source": [
    "Презентация:\n"
   ]
  },
  {
   "cell_type": "markdown",
   "id": "3888c931",
   "metadata": {},
   "source": [
    "https://public.tableau.com/app/profile/marina.orlenko/viz/TableauMulti-partProject2/sheet26?publish=yes"
   ]
  }
 ],
 "metadata": {
  "ExecuteTimeLog": [
   {
    "duration": 523,
    "start_time": "2023-07-17T08:26:00.350Z"
   },
   {
    "duration": 111,
    "start_time": "2023-07-17T08:26:01.699Z"
   },
   {
    "duration": 3,
    "start_time": "2023-07-17T08:26:04.269Z"
   },
   {
    "duration": 2,
    "start_time": "2023-07-17T09:38:28.275Z"
   },
   {
    "duration": 3732,
    "start_time": "2023-07-17T09:38:29.646Z"
   },
   {
    "duration": 2,
    "start_time": "2023-07-17T09:46:07.949Z"
   },
   {
    "duration": 2742,
    "start_time": "2023-07-17T09:46:10.459Z"
   },
   {
    "duration": 3,
    "start_time": "2023-07-17T09:51:28.962Z"
   },
   {
    "duration": 795,
    "start_time": "2023-07-17T09:51:31.812Z"
   },
   {
    "duration": 2,
    "start_time": "2023-07-17T09:51:50.261Z"
   },
   {
    "duration": 3352,
    "start_time": "2023-07-17T09:51:51.314Z"
   },
   {
    "duration": 2,
    "start_time": "2023-07-17T09:52:39.647Z"
   },
   {
    "duration": 463,
    "start_time": "2023-07-17T09:52:41.350Z"
   },
   {
    "duration": 2,
    "start_time": "2023-07-17T09:52:56.612Z"
   },
   {
    "duration": 3331,
    "start_time": "2023-07-17T09:52:58.462Z"
   },
   {
    "duration": 2,
    "start_time": "2023-07-17T09:53:21.699Z"
   },
   {
    "duration": 468,
    "start_time": "2023-07-17T09:53:27.179Z"
   },
   {
    "duration": 2,
    "start_time": "2023-07-17T09:55:25.112Z"
   },
   {
    "duration": 3047,
    "start_time": "2023-07-17T09:55:26.946Z"
   },
   {
    "duration": 3,
    "start_time": "2023-07-17T10:01:37.679Z"
   },
   {
    "duration": 3090,
    "start_time": "2023-07-17T10:01:40.062Z"
   },
   {
    "duration": 7,
    "start_time": "2023-07-17T10:02:24.547Z"
   },
   {
    "duration": 3453,
    "start_time": "2023-07-17T10:02:27.096Z"
   },
   {
    "duration": 5,
    "start_time": "2023-07-17T10:02:38.542Z"
   },
   {
    "duration": 3421,
    "start_time": "2023-07-17T10:03:03.278Z"
   },
   {
    "duration": 2,
    "start_time": "2023-07-17T10:03:41.363Z"
   },
   {
    "duration": 3485,
    "start_time": "2023-07-17T10:03:45.082Z"
   },
   {
    "duration": 3,
    "start_time": "2023-07-17T10:04:01.698Z"
   },
   {
    "duration": 3492,
    "start_time": "2023-07-17T10:04:05.849Z"
   },
   {
    "duration": 4,
    "start_time": "2023-07-17T10:07:39.662Z"
   },
   {
    "duration": 461,
    "start_time": "2023-07-17T10:07:41.379Z"
   },
   {
    "duration": 3,
    "start_time": "2023-07-17T10:08:03.233Z"
   },
   {
    "duration": 3733,
    "start_time": "2023-07-17T10:08:04.832Z"
   },
   {
    "duration": 4038,
    "start_time": "2023-07-17T10:08:15.021Z"
   },
   {
    "duration": 3759,
    "start_time": "2023-07-17T10:08:29.198Z"
   },
   {
    "duration": 3755,
    "start_time": "2023-07-17T10:08:50.297Z"
   },
   {
    "duration": 3985,
    "start_time": "2023-07-17T10:09:01.863Z"
   },
   {
    "duration": 3,
    "start_time": "2023-07-17T10:11:31.264Z"
   },
   {
    "duration": 3,
    "start_time": "2023-07-17T10:11:52.549Z"
   },
   {
    "duration": 791,
    "start_time": "2023-07-17T10:11:55.312Z"
   },
   {
    "duration": 3,
    "start_time": "2023-07-17T10:13:30.066Z"
   },
   {
    "duration": 702,
    "start_time": "2023-07-17T10:13:32.148Z"
   },
   {
    "duration": 3,
    "start_time": "2023-07-17T10:13:52.312Z"
   },
   {
    "duration": 52,
    "start_time": "2023-07-17T10:14:13.397Z"
   },
   {
    "duration": 480,
    "start_time": "2023-07-17T10:14:30.668Z"
   },
   {
    "duration": 175,
    "start_time": "2023-07-17T10:14:31.149Z"
   },
   {
    "duration": 3,
    "start_time": "2023-07-17T10:14:31.326Z"
   },
   {
    "duration": 4523,
    "start_time": "2023-07-17T10:14:31.335Z"
   },
   {
    "duration": 3308,
    "start_time": "2023-07-17T10:14:35.860Z"
   },
   {
    "duration": 3,
    "start_time": "2023-07-17T10:15:02.955Z"
   },
   {
    "duration": 3722,
    "start_time": "2023-07-17T10:15:04.651Z"
   },
   {
    "duration": 3,
    "start_time": "2023-07-17T10:16:43.284Z"
   },
   {
    "duration": 3810,
    "start_time": "2023-07-17T10:16:45.084Z"
   },
   {
    "duration": 3,
    "start_time": "2023-07-17T10:17:24.270Z"
   },
   {
    "duration": 3926,
    "start_time": "2023-07-17T10:17:25.936Z"
   },
   {
    "duration": 3,
    "start_time": "2023-07-17T10:19:06.766Z"
   },
   {
    "duration": 4179,
    "start_time": "2023-07-17T10:19:44.346Z"
   },
   {
    "duration": 3,
    "start_time": "2023-07-17T10:27:24.755Z"
   },
   {
    "duration": 711,
    "start_time": "2023-07-17T10:27:25.945Z"
   },
   {
    "duration": 4,
    "start_time": "2023-07-17T10:27:59.145Z"
   },
   {
    "duration": 461,
    "start_time": "2023-07-17T10:28:00.785Z"
   },
   {
    "duration": 3,
    "start_time": "2023-07-17T10:28:10.245Z"
   },
   {
    "duration": 3,
    "start_time": "2023-07-17T10:28:28.970Z"
   },
   {
    "duration": 1221,
    "start_time": "2023-07-17T10:28:30.868Z"
   },
   {
    "duration": 3,
    "start_time": "2023-07-17T10:28:39.946Z"
   },
   {
    "duration": 4530,
    "start_time": "2023-07-17T10:28:41.350Z"
   },
   {
    "duration": 3,
    "start_time": "2023-07-17T10:28:58.870Z"
   },
   {
    "duration": 605,
    "start_time": "2023-07-17T10:29:00.402Z"
   },
   {
    "duration": 2,
    "start_time": "2023-07-17T10:29:14.353Z"
   },
   {
    "duration": 4469,
    "start_time": "2023-07-17T10:29:15.785Z"
   },
   {
    "duration": 3,
    "start_time": "2023-07-17T10:35:19.469Z"
   },
   {
    "duration": 511,
    "start_time": "2023-07-17T10:35:21.612Z"
   },
   {
    "duration": 3,
    "start_time": "2023-07-17T10:37:58.353Z"
   },
   {
    "duration": 611,
    "start_time": "2023-07-17T10:38:00.170Z"
   },
   {
    "duration": 3,
    "start_time": "2023-07-17T10:38:59.403Z"
   },
   {
    "duration": 668,
    "start_time": "2023-07-17T10:39:00.890Z"
   },
   {
    "duration": 527,
    "start_time": "2023-07-17T10:39:18.505Z"
   },
   {
    "duration": 129,
    "start_time": "2023-07-17T10:39:19.033Z"
   },
   {
    "duration": 4,
    "start_time": "2023-07-17T10:39:19.164Z"
   },
   {
    "duration": 800,
    "start_time": "2023-07-17T10:39:19.169Z"
   },
   {
    "duration": 0,
    "start_time": "2023-07-17T10:39:19.971Z"
   },
   {
    "duration": 3,
    "start_time": "2023-07-17T10:40:02.246Z"
   },
   {
    "duration": 692,
    "start_time": "2023-07-17T10:40:03.760Z"
   },
   {
    "duration": 3,
    "start_time": "2023-07-17T10:40:17.120Z"
   },
   {
    "duration": 4324,
    "start_time": "2023-07-17T10:40:18.951Z"
   },
   {
    "duration": 3,
    "start_time": "2023-07-17T10:40:55.186Z"
   },
   {
    "duration": 4391,
    "start_time": "2023-07-17T10:40:56.911Z"
   },
   {
    "duration": 3,
    "start_time": "2023-07-17T10:49:28.986Z"
   },
   {
    "duration": 5536,
    "start_time": "2023-07-17T10:49:31.204Z"
   },
   {
    "duration": 4707,
    "start_time": "2023-07-17T10:50:08.370Z"
   },
   {
    "duration": 4836,
    "start_time": "2023-07-17T10:51:49.408Z"
   },
   {
    "duration": 3,
    "start_time": "2023-07-17T10:53:00.010Z"
   },
   {
    "duration": 4355,
    "start_time": "2023-07-17T10:55:19.472Z"
   },
   {
    "duration": 3,
    "start_time": "2023-07-17T10:58:14.556Z"
   },
   {
    "duration": 4393,
    "start_time": "2023-07-17T10:58:16.587Z"
   },
   {
    "duration": 4,
    "start_time": "2023-07-17T11:01:55.786Z"
   },
   {
    "duration": 4977,
    "start_time": "2023-07-17T11:01:57.619Z"
   },
   {
    "duration": 3,
    "start_time": "2023-07-17T11:04:02.278Z"
   },
   {
    "duration": 761,
    "start_time": "2023-07-17T11:04:06.269Z"
   },
   {
    "duration": 3,
    "start_time": "2023-07-17T11:04:35.960Z"
   },
   {
    "duration": 498,
    "start_time": "2023-07-17T11:04:55.949Z"
   },
   {
    "duration": 137,
    "start_time": "2023-07-17T11:04:56.450Z"
   },
   {
    "duration": 3,
    "start_time": "2023-07-17T11:04:56.588Z"
   },
   {
    "duration": 6216,
    "start_time": "2023-07-17T11:04:56.592Z"
   },
   {
    "duration": 5382,
    "start_time": "2023-07-17T11:05:02.810Z"
   },
   {
    "duration": 13,
    "start_time": "2023-07-17T11:06:11.632Z"
   },
   {
    "duration": 564,
    "start_time": "2023-07-17T11:06:13.746Z"
   },
   {
    "duration": 3,
    "start_time": "2023-07-17T11:06:30.305Z"
   },
   {
    "duration": 5674,
    "start_time": "2023-07-17T11:06:31.963Z"
   },
   {
    "duration": 5809,
    "start_time": "2023-07-17T11:08:14.687Z"
   },
   {
    "duration": 4,
    "start_time": "2023-07-17T11:08:44.780Z"
   },
   {
    "duration": 749,
    "start_time": "2023-07-17T11:08:46.852Z"
   },
   {
    "duration": 4,
    "start_time": "2023-07-17T11:09:14.858Z"
   },
   {
    "duration": 6047,
    "start_time": "2023-07-17T11:09:16.474Z"
   },
   {
    "duration": 2227,
    "start_time": "2023-07-17T11:14:12.456Z"
   },
   {
    "duration": 1591,
    "start_time": "2023-07-17T11:14:26.247Z"
   },
   {
    "duration": 491,
    "start_time": "2023-07-17T11:15:05.085Z"
   },
   {
    "duration": 330,
    "start_time": "2023-07-17T11:15:05.578Z"
   },
   {
    "duration": 3,
    "start_time": "2023-07-17T11:15:05.910Z"
   },
   {
    "duration": 6157,
    "start_time": "2023-07-17T11:15:05.914Z"
   },
   {
    "duration": 5030,
    "start_time": "2023-07-17T11:15:12.073Z"
   },
   {
    "duration": 2658,
    "start_time": "2023-07-17T11:15:17.104Z"
   },
   {
    "duration": 193,
    "start_time": "2023-07-17T11:24:47.269Z"
   },
   {
    "duration": 49,
    "start_time": "2023-07-17T11:25:06.506Z"
   },
   {
    "duration": 5409,
    "start_time": "2023-07-17T13:04:57.855Z"
   },
   {
    "duration": 493,
    "start_time": "2023-07-17T13:08:46.583Z"
   },
   {
    "duration": 76,
    "start_time": "2023-07-17T13:08:47.079Z"
   },
   {
    "duration": 3,
    "start_time": "2023-07-17T13:08:47.157Z"
   },
   {
    "duration": 5577,
    "start_time": "2023-07-17T13:08:47.162Z"
   },
   {
    "duration": 5308,
    "start_time": "2023-07-17T13:08:52.741Z"
   },
   {
    "duration": 3,
    "start_time": "2023-07-17T13:09:16.144Z"
   },
   {
    "duration": 5311,
    "start_time": "2023-07-17T13:09:21.190Z"
   },
   {
    "duration": 4656,
    "start_time": "2023-07-17T13:09:26.503Z"
   },
   {
    "duration": 494,
    "start_time": "2023-07-17T13:32:28.249Z"
   },
   {
    "duration": 78,
    "start_time": "2023-07-17T13:32:28.745Z"
   },
   {
    "duration": 3,
    "start_time": "2023-07-17T13:32:28.825Z"
   },
   {
    "duration": 5469,
    "start_time": "2023-07-17T13:32:28.829Z"
   },
   {
    "duration": 5081,
    "start_time": "2023-07-17T13:32:34.300Z"
   },
   {
    "duration": 97,
    "start_time": "2023-07-19T10:14:22.874Z"
   },
   {
    "duration": 481,
    "start_time": "2023-07-20T05:26:26.439Z"
   },
   {
    "duration": 9,
    "start_time": "2023-07-20T05:26:26.922Z"
   },
   {
    "duration": 20,
    "start_time": "2023-07-20T05:26:26.933Z"
   },
   {
    "duration": 6675,
    "start_time": "2023-07-20T05:26:26.954Z"
   },
   {
    "duration": 4221,
    "start_time": "2023-07-20T05:26:33.631Z"
   },
   {
    "duration": 46,
    "start_time": "2023-07-20T08:50:47.575Z"
   },
   {
    "duration": 455,
    "start_time": "2023-07-20T08:51:28.222Z"
   },
   {
    "duration": 110,
    "start_time": "2023-07-20T08:51:29.773Z"
   },
   {
    "duration": 4,
    "start_time": "2023-07-20T08:51:31.209Z"
   },
   {
    "duration": 5389,
    "start_time": "2023-07-20T08:51:32.188Z"
   },
   {
    "duration": 6,
    "start_time": "2023-07-20T08:51:37.579Z"
   },
   {
    "duration": 4,
    "start_time": "2023-07-20T08:51:53.223Z"
   },
   {
    "duration": 5,
    "start_time": "2023-07-20T08:52:19.922Z"
   },
   {
    "duration": 7,
    "start_time": "2023-07-20T08:53:21.941Z"
   },
   {
    "duration": 9,
    "start_time": "2023-07-20T08:53:41.883Z"
   },
   {
    "duration": 6,
    "start_time": "2023-07-20T08:54:08.323Z"
   },
   {
    "duration": 12,
    "start_time": "2023-07-20T08:54:48.396Z"
   },
   {
    "duration": 9,
    "start_time": "2023-07-20T08:55:54.541Z"
   },
   {
    "duration": 18,
    "start_time": "2023-07-20T08:56:01.359Z"
   },
   {
    "duration": 11,
    "start_time": "2023-07-20T08:56:23.693Z"
   },
   {
    "duration": 62,
    "start_time": "2023-07-20T08:58:05.144Z"
   },
   {
    "duration": 66,
    "start_time": "2023-07-20T08:58:26.484Z"
   },
   {
    "duration": 47,
    "start_time": "2023-07-20T08:58:44.093Z"
   },
   {
    "duration": 36,
    "start_time": "2023-07-20T08:58:51.932Z"
   },
   {
    "duration": 58,
    "start_time": "2023-07-20T10:00:58.227Z"
   },
   {
    "duration": 58,
    "start_time": "2023-07-20T10:01:10.552Z"
   },
   {
    "duration": 61,
    "start_time": "2023-07-20T10:07:24.902Z"
   },
   {
    "duration": 540,
    "start_time": "2023-07-20T14:44:16.931Z"
   },
   {
    "duration": 23,
    "start_time": "2023-07-20T14:44:17.473Z"
   },
   {
    "duration": 4,
    "start_time": "2023-07-20T14:44:17.500Z"
   },
   {
    "duration": 6593,
    "start_time": "2023-07-20T14:44:17.506Z"
   },
   {
    "duration": 6,
    "start_time": "2023-07-20T14:44:24.100Z"
   },
   {
    "duration": 16,
    "start_time": "2023-07-20T14:44:24.108Z"
   },
   {
    "duration": 24,
    "start_time": "2023-07-20T14:44:24.127Z"
   },
   {
    "duration": 13,
    "start_time": "2023-07-20T14:44:24.166Z"
   },
   {
    "duration": 79,
    "start_time": "2023-07-20T14:44:24.181Z"
   },
   {
    "duration": 4900,
    "start_time": "2023-07-20T14:44:24.268Z"
   },
   {
    "duration": 121,
    "start_time": "2023-07-20T15:56:17.319Z"
   }
  ],
  "kernelspec": {
   "display_name": "Python 3 (ipykernel)",
   "language": "python",
   "name": "python3"
  },
  "language_info": {
   "codemirror_mode": {
    "name": "ipython",
    "version": 3
   },
   "file_extension": ".py",
   "mimetype": "text/x-python",
   "name": "python",
   "nbconvert_exporter": "python",
   "pygments_lexer": "ipython3",
   "version": "3.10.9"
  },
  "toc": {
   "base_numbering": 1,
   "nav_menu": {},
   "number_sections": true,
   "sideBar": true,
   "skip_h1_title": true,
   "title_cell": "Table of Contents",
   "title_sidebar": "Contents",
   "toc_cell": false,
   "toc_position": {},
   "toc_section_display": true,
   "toc_window_display": false
  }
 },
 "nbformat": 4,
 "nbformat_minor": 5
}
