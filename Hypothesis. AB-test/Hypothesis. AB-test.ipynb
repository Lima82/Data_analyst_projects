{
 "cells": [
  {
   "cell_type": "markdown",
   "metadata": {},
   "source": [
    "# Проверка гипотез для увеличения выручки крупного интернет-магазина. Запуск A/B-теста."
   ]
  },
  {
   "cell_type": "markdown",
   "metadata": {},
   "source": [
    "**Цель исследования**\n",
    "\n",
    "Необходимо приоритизировать гипотезы для увеличения выручки интернет-магазина и проанализировать результаты A/B-теста. \n",
    "\n",
    "**Описание данных**\n",
    "\n",
    "Мы будем работать с данными из следующих файлов:\n",
    "- /datasets/hipothesis.csv,\n",
    "где:\n",
    "  - Hypothesis — краткое описание гипотезы;\n",
    "  - Reach — охват пользователей по 10-балльной шкале;\n",
    "  - Impact — влияние на пользователей по 10-балльной шкале;\n",
    "  - Confidence — уверенность в гипотезе по 10-балльной шкале;\n",
    "  - Efforts — затраты ресурсов на проверку гипотезы по 10-балльной шкале. Чем больше значение Efforts, тем дороже проверка гипотезы.\n",
    "    \n",
    "- /datasets/orders.csv,\n",
    "где:\n",
    "  - transactionId — идентификатор заказа;\n",
    "  - visitorId — идентификатор пользователя, совершившего заказ;\n",
    "  - date — дата, когда был совершён заказ;\n",
    "  - revenue — выручка заказа;\n",
    "  group — группа A/B-теста, в которую попал заказ.\n",
    "  \n",
    "- /datasets/visitors.csv,\n",
    "где:\n",
    "  - date — дата;\n",
    "  - group — группа A/B-теста;\n",
    "  - visitors — количество пользователей в указанную дату в указанной группе A/B-теста\n",
    " \n",
    "О качестве данных ничего не известно. Поэтому перед исследованием данных понадобится их обзор.\n",
    "\n",
    "**Ход исследования**\n",
    "\n",
    "Изучим общую информацию о датасетах. Что можно сказать о каждом столбце? Значения какого типа они хранят? \n",
    "\n",
    "Проверим данные на ошибки, и оценим их влияние на исследование, затем, на этапе предобработки, изучим возможность исправить самые критичные ошибки в данных.\n",
    "\n",
    "Далее проведем необходимые вычисления, на основании которых проанализируем данные и, таким образом, исследование пройдёт в 5 этапов:\n",
    "\n",
    "- [Загрузка и базовый анализ данных.](#1)\n",
    "- [Предобработка данных.](#2)\n",
    "- [Приоритизация гипотез.](#3)\n",
    "- [Анализ результатов A/B-теста.](#4)\n",
    "- [Общий вывод.](#5)"
   ]
  },
  {
   "cell_type": "markdown",
   "metadata": {},
   "source": [
    "## Загрузка и обзор данных"
   ]
  },
  {
   "cell_type": "code",
   "execution_count": 1,
   "metadata": {},
   "outputs": [],
   "source": [
    "# Импорт библиотек\n",
    "import pandas as pd\n",
    "import numpy as np\n",
    "import os\n",
    "from datetime import datetime, timedelta\n",
    "from scipy import stats as st\n",
    "import matplotlib.pyplot as plt\n",
    "%matplotlib inline\n",
    "import seaborn as sns"
   ]
  },
  {
   "cell_type": "code",
   "execution_count": 2,
   "metadata": {},
   "outputs": [],
   "source": [
    "# Форматируем таблицу так, чтобы строки с большим количеством текста выводились польностью\n",
    "pd.options.display.max_colwidth = 150"
   ]
  },
  {
   "cell_type": "code",
   "execution_count": 3,
   "metadata": {},
   "outputs": [],
   "source": [
    "# Чтение файлов\n",
    "path1 = '/Users/marina/CSV_files/hypothesis.csv'\n",
    "path2 = '/Users/marina/CSV_files/orders.csv'\n",
    "path3 = '/Users/marina/CSV_files/visitors.csv'\n",
    "\n",
    "if os.path.exists(path1):\n",
    "    hypothesis = pd.read_csv(path1)\n",
    "    \n",
    "if os.path.exists(path2):\n",
    "    orders = pd.read_csv(path2)    \n",
    "\n",
    "if os.path.exists(path3):\n",
    "    visitors = pd.read_csv(path3)    \n",
    "\n",
    "else:\n",
    "    print('Something is wrong')"
   ]
  },
  {
   "cell_type": "code",
   "execution_count": 4,
   "metadata": {},
   "outputs": [
    {
     "data": {
      "text/html": [
       "<div>\n",
       "<style scoped>\n",
       "    .dataframe tbody tr th:only-of-type {\n",
       "        vertical-align: middle;\n",
       "    }\n",
       "\n",
       "    .dataframe tbody tr th {\n",
       "        vertical-align: top;\n",
       "    }\n",
       "\n",
       "    .dataframe thead th {\n",
       "        text-align: right;\n",
       "    }\n",
       "</style>\n",
       "<table border=\"1\" class=\"dataframe\">\n",
       "  <thead>\n",
       "    <tr style=\"text-align: right;\">\n",
       "      <th></th>\n",
       "      <th>Hypothesis</th>\n",
       "      <th>Reach</th>\n",
       "      <th>Impact</th>\n",
       "      <th>Confidence</th>\n",
       "      <th>Efforts</th>\n",
       "    </tr>\n",
       "  </thead>\n",
       "  <tbody>\n",
       "    <tr>\n",
       "      <th>0</th>\n",
       "      <td>Добавить два новых канала привлечения трафика, что позволит привлекать на 30% больше пользователей</td>\n",
       "      <td>3</td>\n",
       "      <td>10</td>\n",
       "      <td>8</td>\n",
       "      <td>6</td>\n",
       "    </tr>\n",
       "    <tr>\n",
       "      <th>1</th>\n",
       "      <td>Запустить собственную службу доставки, что сократит срок доставки заказов</td>\n",
       "      <td>2</td>\n",
       "      <td>5</td>\n",
       "      <td>4</td>\n",
       "      <td>10</td>\n",
       "    </tr>\n",
       "    <tr>\n",
       "      <th>2</th>\n",
       "      <td>Добавить блоки рекомендаций товаров на сайт интернет магазина, чтобы повысить конверсию и средний чек заказа</td>\n",
       "      <td>8</td>\n",
       "      <td>3</td>\n",
       "      <td>7</td>\n",
       "      <td>3</td>\n",
       "    </tr>\n",
       "    <tr>\n",
       "      <th>3</th>\n",
       "      <td>Изменить структура категорий, что увеличит конверсию, т.к. пользователи быстрее найдут нужный товар</td>\n",
       "      <td>8</td>\n",
       "      <td>3</td>\n",
       "      <td>3</td>\n",
       "      <td>8</td>\n",
       "    </tr>\n",
       "    <tr>\n",
       "      <th>4</th>\n",
       "      <td>Изменить цвет фона главной страницы, чтобы увеличить вовлеченность пользователей</td>\n",
       "      <td>3</td>\n",
       "      <td>1</td>\n",
       "      <td>1</td>\n",
       "      <td>1</td>\n",
       "    </tr>\n",
       "    <tr>\n",
       "      <th>5</th>\n",
       "      <td>Добавить страницу отзывов клиентов о магазине, что позволит увеличить количество заказов</td>\n",
       "      <td>3</td>\n",
       "      <td>2</td>\n",
       "      <td>2</td>\n",
       "      <td>3</td>\n",
       "    </tr>\n",
       "    <tr>\n",
       "      <th>6</th>\n",
       "      <td>Показать на главной странице баннеры с актуальными акциями и распродажами, чтобы увеличить конверсию</td>\n",
       "      <td>5</td>\n",
       "      <td>3</td>\n",
       "      <td>8</td>\n",
       "      <td>3</td>\n",
       "    </tr>\n",
       "    <tr>\n",
       "      <th>7</th>\n",
       "      <td>Добавить форму подписки на все основные страницы, чтобы собрать базу клиентов для email-рассылок</td>\n",
       "      <td>10</td>\n",
       "      <td>7</td>\n",
       "      <td>8</td>\n",
       "      <td>5</td>\n",
       "    </tr>\n",
       "    <tr>\n",
       "      <th>8</th>\n",
       "      <td>Запустить акцию, дающую скидку на товар в день рождения</td>\n",
       "      <td>1</td>\n",
       "      <td>9</td>\n",
       "      <td>9</td>\n",
       "      <td>5</td>\n",
       "    </tr>\n",
       "  </tbody>\n",
       "</table>\n",
       "</div>"
      ],
      "text/plain": [
       "                                                                                                     Hypothesis  \\\n",
       "0            Добавить два новых канала привлечения трафика, что позволит привлекать на 30% больше пользователей   \n",
       "1                                     Запустить собственную службу доставки, что сократит срок доставки заказов   \n",
       "2  Добавить блоки рекомендаций товаров на сайт интернет магазина, чтобы повысить конверсию и средний чек заказа   \n",
       "3           Изменить структура категорий, что увеличит конверсию, т.к. пользователи быстрее найдут нужный товар   \n",
       "4                              Изменить цвет фона главной страницы, чтобы увеличить вовлеченность пользователей   \n",
       "5                      Добавить страницу отзывов клиентов о магазине, что позволит увеличить количество заказов   \n",
       "6          Показать на главной странице баннеры с актуальными акциями и распродажами, чтобы увеличить конверсию   \n",
       "7              Добавить форму подписки на все основные страницы, чтобы собрать базу клиентов для email-рассылок   \n",
       "8                                                       Запустить акцию, дающую скидку на товар в день рождения   \n",
       "\n",
       "   Reach  Impact  Confidence  Efforts  \n",
       "0      3      10           8        6  \n",
       "1      2       5           4       10  \n",
       "2      8       3           7        3  \n",
       "3      8       3           3        8  \n",
       "4      3       1           1        1  \n",
       "5      3       2           2        3  \n",
       "6      5       3           8        3  \n",
       "7     10       7           8        5  \n",
       "8      1       9           9        5  "
      ]
     },
     "metadata": {},
     "output_type": "display_data"
    },
    {
     "name": "stdout",
     "output_type": "stream",
     "text": [
      "\n",
      "<class 'pandas.core.frame.DataFrame'>\n",
      "RangeIndex: 9 entries, 0 to 8\n",
      "Data columns (total 5 columns):\n",
      " #   Column      Non-Null Count  Dtype \n",
      "---  ------      --------------  ----- \n",
      " 0   Hypothesis  9 non-null      object\n",
      " 1   Reach       9 non-null      int64 \n",
      " 2   Impact      9 non-null      int64 \n",
      " 3   Confidence  9 non-null      int64 \n",
      " 4   Efforts     9 non-null      int64 \n",
      "dtypes: int64(4), object(1)\n",
      "memory usage: 488.0+ bytes\n"
     ]
    }
   ],
   "source": [
    "# Выводим основную информацию по датасету hypothesis\n",
    "display(hypothesis.head(10))\n",
    "print()\n",
    "hypothesis.info()"
   ]
  },
  {
   "cell_type": "markdown",
   "metadata": {},
   "source": [
    "В датасете hypothesis 5 столбцов, 9 строк.\n",
    "\n",
    "Согласно документации к данным:\n",
    "1. Hypothesis — краткое описание гипотезы;\n",
    "2. Reach — охват пользователей по 10-балльной шкале;\n",
    "3. Impact — влияние на пользователей по 10-балльной шкале;\n",
    "4. Confidence — уверенность в гипотезе по 10-балльной шкале;\n",
    "5. Efforts — затраты ресурсов на проверку гипотезы по 10-балльной шкале. Чем больше значение Efforts, тем дороже проверка гипотезы.\n",
    "\n",
    "С типами данных в столбцах все в порядке. Неплохо было бы привести названия столбцов к нижнему регистру."
   ]
  },
  {
   "cell_type": "code",
   "execution_count": 5,
   "metadata": {},
   "outputs": [
    {
     "data": {
      "text/html": [
       "<div>\n",
       "<style scoped>\n",
       "    .dataframe tbody tr th:only-of-type {\n",
       "        vertical-align: middle;\n",
       "    }\n",
       "\n",
       "    .dataframe tbody tr th {\n",
       "        vertical-align: top;\n",
       "    }\n",
       "\n",
       "    .dataframe thead th {\n",
       "        text-align: right;\n",
       "    }\n",
       "</style>\n",
       "<table border=\"1\" class=\"dataframe\">\n",
       "  <thead>\n",
       "    <tr style=\"text-align: right;\">\n",
       "      <th></th>\n",
       "      <th>transactionId</th>\n",
       "      <th>visitorId</th>\n",
       "      <th>date</th>\n",
       "      <th>revenue</th>\n",
       "      <th>group</th>\n",
       "    </tr>\n",
       "  </thead>\n",
       "  <tbody>\n",
       "    <tr>\n",
       "      <th>0</th>\n",
       "      <td>3667963787</td>\n",
       "      <td>3312258926</td>\n",
       "      <td>2019-08-15</td>\n",
       "      <td>1650</td>\n",
       "      <td>B</td>\n",
       "    </tr>\n",
       "    <tr>\n",
       "      <th>1</th>\n",
       "      <td>2804400009</td>\n",
       "      <td>3642806036</td>\n",
       "      <td>2019-08-15</td>\n",
       "      <td>730</td>\n",
       "      <td>B</td>\n",
       "    </tr>\n",
       "    <tr>\n",
       "      <th>2</th>\n",
       "      <td>2961555356</td>\n",
       "      <td>4069496402</td>\n",
       "      <td>2019-08-15</td>\n",
       "      <td>400</td>\n",
       "      <td>A</td>\n",
       "    </tr>\n",
       "    <tr>\n",
       "      <th>3</th>\n",
       "      <td>3797467345</td>\n",
       "      <td>1196621759</td>\n",
       "      <td>2019-08-15</td>\n",
       "      <td>9759</td>\n",
       "      <td>B</td>\n",
       "    </tr>\n",
       "    <tr>\n",
       "      <th>4</th>\n",
       "      <td>2282983706</td>\n",
       "      <td>2322279887</td>\n",
       "      <td>2019-08-15</td>\n",
       "      <td>2308</td>\n",
       "      <td>B</td>\n",
       "    </tr>\n",
       "  </tbody>\n",
       "</table>\n",
       "</div>"
      ],
      "text/plain": [
       "   transactionId   visitorId        date  revenue group\n",
       "0     3667963787  3312258926  2019-08-15     1650     B\n",
       "1     2804400009  3642806036  2019-08-15      730     B\n",
       "2     2961555356  4069496402  2019-08-15      400     A\n",
       "3     3797467345  1196621759  2019-08-15     9759     B\n",
       "4     2282983706  2322279887  2019-08-15     2308     B"
      ]
     },
     "metadata": {},
     "output_type": "display_data"
    },
    {
     "name": "stdout",
     "output_type": "stream",
     "text": [
      "\n",
      "<class 'pandas.core.frame.DataFrame'>\n",
      "RangeIndex: 1197 entries, 0 to 1196\n",
      "Data columns (total 5 columns):\n",
      " #   Column         Non-Null Count  Dtype \n",
      "---  ------         --------------  ----- \n",
      " 0   transactionId  1197 non-null   int64 \n",
      " 1   visitorId      1197 non-null   int64 \n",
      " 2   date           1197 non-null   object\n",
      " 3   revenue        1197 non-null   int64 \n",
      " 4   group          1197 non-null   object\n",
      "dtypes: int64(3), object(2)\n",
      "memory usage: 46.9+ KB\n",
      "\n"
     ]
    },
    {
     "data": {
      "text/plain": [
       "count    1.197000e+03\n",
       "mean     8.348006e+03\n",
       "std      3.919113e+04\n",
       "min      5.000000e+01\n",
       "25%      1.220000e+03\n",
       "50%      2.978000e+03\n",
       "75%      8.290000e+03\n",
       "max      1.294500e+06\n",
       "Name: revenue, dtype: float64"
      ]
     },
     "metadata": {},
     "output_type": "display_data"
    }
   ],
   "source": [
    "# Выводим основную информацию по датасету orders\n",
    "display(orders.head())\n",
    "print()\n",
    "orders.info()\n",
    "print()\n",
    "# Выводим описание количественных данных в столбце revenue\n",
    "display(orders['revenue'].describe())"
   ]
  },
  {
   "cell_type": "markdown",
   "metadata": {},
   "source": [
    "В датасете orders 5 столбцов, 1197 строк.\n",
    "\n",
    "Согласно документации к данным:\n",
    "1. transactionId — идентификатор заказа;\n",
    "2. visitorId — идентификатор пользователя, совершившего заказ;\n",
    "3. date — дата, когда был совершён заказ;\n",
    "4. revenue — выручка заказа;\n",
    "5. group — группа A/B-теста, в которую попал заказ.\n",
    "\n",
    "В стобце date необходимо поменять тип данных на datetime. Названия стобцов transactionId и visitorId необходимо привести к единому формату.\n",
    "\n",
    "Стандартное отклонение сильно отличается от среднего, наверняка в данных есть аномалии."
   ]
  },
  {
   "cell_type": "code",
   "execution_count": 6,
   "metadata": {},
   "outputs": [
    {
     "data": {
      "text/html": [
       "<div>\n",
       "<style scoped>\n",
       "    .dataframe tbody tr th:only-of-type {\n",
       "        vertical-align: middle;\n",
       "    }\n",
       "\n",
       "    .dataframe tbody tr th {\n",
       "        vertical-align: top;\n",
       "    }\n",
       "\n",
       "    .dataframe thead th {\n",
       "        text-align: right;\n",
       "    }\n",
       "</style>\n",
       "<table border=\"1\" class=\"dataframe\">\n",
       "  <thead>\n",
       "    <tr style=\"text-align: right;\">\n",
       "      <th></th>\n",
       "      <th>date</th>\n",
       "      <th>group</th>\n",
       "      <th>visitors</th>\n",
       "    </tr>\n",
       "  </thead>\n",
       "  <tbody>\n",
       "    <tr>\n",
       "      <th>0</th>\n",
       "      <td>2019-08-01</td>\n",
       "      <td>A</td>\n",
       "      <td>719</td>\n",
       "    </tr>\n",
       "    <tr>\n",
       "      <th>1</th>\n",
       "      <td>2019-08-02</td>\n",
       "      <td>A</td>\n",
       "      <td>619</td>\n",
       "    </tr>\n",
       "    <tr>\n",
       "      <th>2</th>\n",
       "      <td>2019-08-03</td>\n",
       "      <td>A</td>\n",
       "      <td>507</td>\n",
       "    </tr>\n",
       "    <tr>\n",
       "      <th>3</th>\n",
       "      <td>2019-08-04</td>\n",
       "      <td>A</td>\n",
       "      <td>717</td>\n",
       "    </tr>\n",
       "    <tr>\n",
       "      <th>4</th>\n",
       "      <td>2019-08-05</td>\n",
       "      <td>A</td>\n",
       "      <td>756</td>\n",
       "    </tr>\n",
       "  </tbody>\n",
       "</table>\n",
       "</div>"
      ],
      "text/plain": [
       "         date group  visitors\n",
       "0  2019-08-01     A       719\n",
       "1  2019-08-02     A       619\n",
       "2  2019-08-03     A       507\n",
       "3  2019-08-04     A       717\n",
       "4  2019-08-05     A       756"
      ]
     },
     "metadata": {},
     "output_type": "display_data"
    },
    {
     "name": "stdout",
     "output_type": "stream",
     "text": [
      "\n",
      "<class 'pandas.core.frame.DataFrame'>\n",
      "RangeIndex: 62 entries, 0 to 61\n",
      "Data columns (total 3 columns):\n",
      " #   Column    Non-Null Count  Dtype \n",
      "---  ------    --------------  ----- \n",
      " 0   date      62 non-null     object\n",
      " 1   group     62 non-null     object\n",
      " 2   visitors  62 non-null     int64 \n",
      "dtypes: int64(1), object(2)\n",
      "memory usage: 1.6+ KB\n",
      "\n"
     ]
    },
    {
     "data": {
      "text/plain": [
       "count     62.000000\n",
       "mean     607.290323\n",
       "std      114.400560\n",
       "min      361.000000\n",
       "25%      534.000000\n",
       "50%      624.500000\n",
       "75%      710.500000\n",
       "max      770.000000\n",
       "Name: visitors, dtype: float64"
      ]
     },
     "metadata": {},
     "output_type": "display_data"
    }
   ],
   "source": [
    "# Выводим основную информацию по датасету visitors\n",
    "display(visitors.head())\n",
    "print()\n",
    "visitors.info()\n",
    "print()\n",
    "# Выводим описание количественных данных в столбцах visitors\n",
    "display(visitors['visitors'].describe())"
   ]
  },
  {
   "cell_type": "markdown",
   "metadata": {},
   "source": [
    "В датасете visitors 3 столбца, 62 строки.\n",
    "\n",
    "Согласно документации к данным:\n",
    "1. date — дата;\n",
    "2. group — группа A/B-теста;\n",
    "3. visitors — количество пользователей в указанную дату в указанной группе A/B-теста.\n",
    "\n",
    "В стобце date необходимо поменять тип данных на datetime.\n",
    "Стандартное отклонение также сильно отличается от среднего, необходимо это учесть для проверки на аномалии."
   ]
  },
  {
   "cell_type": "code",
   "execution_count": 7,
   "metadata": {},
   "outputs": [
    {
     "data": {
      "image/png": "[encoded data removed]",
      "text/plain": [
       "<Figure size 1000x800 with 2 Axes>"
      ]
     },
     "metadata": {},
     "output_type": "display_data"
    }
   ],
   "source": [
    "# Построим гистограммы для количественных столбцов датасетов orders и visitors\n",
    "\n",
    "# Задаем размер графиков\n",
    "plt.figure(figsize=(10, 8)) \n",
    "\n",
    "orders['revenue'].hist(bins=30, ax=plt.subplot(2,1,1))\n",
    "plt.xlabel('Стоимость')\n",
    "plt.ylabel('Количество пользователей')\n",
    "plt.title('Стоимость заказов')\n",
    "\n",
    "visitors['visitors'].hist(bins=30, ax=plt.subplot(2,1,2))\n",
    "plt.xlabel('Покупатели')\n",
    "plt.ylabel('Количество')\n",
    "plt.title('Количество покупателей')\n",
    "\n",
    "sns.despine()\n",
    "plt.tight_layout()\n",
    "\n",
    "plt.show()"
   ]
  },
  {
   "cell_type": "markdown",
   "metadata": {},
   "source": [
    "На гистограммах мы видим, что основная масса значений стоблца revenue датасета orders лежит в интервале до 50 тыс. руб. В стобце visitors датасета visitors присутствуют явные аномалии (нулевые значения между 420 и 460 посетителями , и выброс после 700)."
   ]
  },
  {
   "cell_type": "markdown",
   "metadata": {},
   "source": [
    "**Выводы:**\n",
    "\n",
    "На данном этапе мы:\n",
    "- Прочитали файлы с данными;\n",
    "- Вывели и изучили общую информацию о них;\n",
    "\n",
    "Впереди предобработка данных."
   ]
  },
  {
   "cell_type": "markdown",
   "metadata": {},
   "source": [
    "<a id=\"2\"></a>"
   ]
  },
  {
   "cell_type": "markdown",
   "metadata": {},
   "source": [
    "## Предобработка данных"
   ]
  },
  {
   "cell_type": "markdown",
   "metadata": {},
   "source": [
    "### Преобразуем типы данных, где необходимо"
   ]
  },
  {
   "cell_type": "code",
   "execution_count": 8,
   "metadata": {},
   "outputs": [],
   "source": [
    "orders['date'] = pd.to_datetime(orders['date'])"
   ]
  },
  {
   "cell_type": "code",
   "execution_count": 9,
   "metadata": {},
   "outputs": [],
   "source": [
    "visitors['date'] = pd.to_datetime(visitors['date'])"
   ]
  },
  {
   "cell_type": "markdown",
   "metadata": {},
   "source": [
    "### Преобразуем названия стобцов, где необходимо"
   ]
  },
  {
   "cell_type": "code",
   "execution_count": 10,
   "metadata": {},
   "outputs": [],
   "source": [
    "hypothesis.columns = hypothesis.columns.str.lower()"
   ]
  },
  {
   "cell_type": "code",
   "execution_count": 11,
   "metadata": {},
   "outputs": [],
   "source": [
    "orders = orders.rename(columns={'transactionId':'transaction_id',\n",
    "                        'visitorId':'visitor_id'})"
   ]
  },
  {
   "cell_type": "markdown",
   "metadata": {},
   "source": [
    "### Проверим пропуски в датасетах"
   ]
  },
  {
   "cell_type": "code",
   "execution_count": 12,
   "metadata": {},
   "outputs": [
    {
     "data": {
      "text/plain": [
       "9"
      ]
     },
     "execution_count": 12,
     "metadata": {},
     "output_type": "execute_result"
    }
   ],
   "source": [
    "# Создадим копии датасетов до преобразований\n",
    "temp = hypothesis.copy() \n",
    "len(temp)"
   ]
  },
  {
   "cell_type": "code",
   "execution_count": 13,
   "metadata": {},
   "outputs": [
    {
     "data": {
      "text/plain": [
       "1197"
      ]
     },
     "execution_count": 13,
     "metadata": {},
     "output_type": "execute_result"
    }
   ],
   "source": [
    "temp1 = orders.copy() \n",
    "len(temp1)"
   ]
  },
  {
   "cell_type": "code",
   "execution_count": 14,
   "metadata": {},
   "outputs": [
    {
     "data": {
      "text/plain": [
       "62"
      ]
     },
     "execution_count": 14,
     "metadata": {},
     "output_type": "execute_result"
    }
   ],
   "source": [
    "temp2 = visitors.copy() \n",
    "len(temp2)"
   ]
  },
  {
   "cell_type": "code",
   "execution_count": 15,
   "metadata": {},
   "outputs": [
    {
     "data": {
      "text/plain": [
       "hypothesis    0\n",
       "reach         0\n",
       "impact        0\n",
       "confidence    0\n",
       "efforts       0\n",
       "dtype: int64"
      ]
     },
     "execution_count": 15,
     "metadata": {},
     "output_type": "execute_result"
    }
   ],
   "source": [
    "# Выведем количество пропущенных значений для датасета hypothesis и отсортируем по возрастанию.\n",
    "hypothesis.isna().sum().sort_values()"
   ]
  },
  {
   "cell_type": "code",
   "execution_count": 16,
   "metadata": {},
   "outputs": [
    {
     "data": {
      "text/plain": [
       "transaction_id    0\n",
       "visitor_id        0\n",
       "date              0\n",
       "revenue           0\n",
       "group             0\n",
       "dtype: int64"
      ]
     },
     "execution_count": 16,
     "metadata": {},
     "output_type": "execute_result"
    }
   ],
   "source": [
    "# Выведем количество пропущенных значений для датасета orders и отсортируем по возрастанию.\n",
    "orders.isna().sum().sort_values()"
   ]
  },
  {
   "cell_type": "code",
   "execution_count": 17,
   "metadata": {},
   "outputs": [
    {
     "data": {
      "text/plain": [
       "date        0\n",
       "group       0\n",
       "visitors    0\n",
       "dtype: int64"
      ]
     },
     "execution_count": 17,
     "metadata": {},
     "output_type": "execute_result"
    }
   ],
   "source": [
    "# Выведем количество пропущенных значений для датасета visitors и отсортируем по возрастанию.\n",
    "visitors.isna().sum().sort_values()"
   ]
  },
  {
   "cell_type": "markdown",
   "metadata": {},
   "source": [
    "Пропусков данных в датасетах нет."
   ]
  },
  {
   "cell_type": "markdown",
   "metadata": {},
   "source": [
    "### Проверим дубликаты в датасетах orders и visitors"
   ]
  },
  {
   "cell_type": "code",
   "execution_count": 18,
   "metadata": {},
   "outputs": [],
   "source": [
    "# Напишем функцию для проверки данных на наличие явных дубликатов\n",
    "def find_explicit_duplicates(dataset):\n",
    "    \n",
    "    # Находим явные дубликаты\n",
    "    explicit_duplicates_cnt = display(f'Количество явных дубликатов: {dataset.duplicated().sum()}')\n",
    "    \n",
    "    explicit_duplicates = None\n",
    "    explicit_duplicates_cnt = 0\n",
    "    \n",
    "    if dataset.duplicated().sum() > 0:\n",
    "        explicit_duplicates = display(dataset[dataset.duplicated(keep=False)])\n",
    "    \n",
    "    else:\n",
    "        display('Явные дубликаты не найдены')\n",
    "    \n",
    "    return explicit_duplicates_cnt, explicit_duplicates"
   ]
  },
  {
   "cell_type": "code",
   "execution_count": 19,
   "metadata": {},
   "outputs": [
    {
     "data": {
      "text/plain": [
       "'Количество явных дубликатов: 0'"
      ]
     },
     "metadata": {},
     "output_type": "display_data"
    },
    {
     "data": {
      "text/plain": [
       "'Явные дубликаты не найдены'"
      ]
     },
     "metadata": {},
     "output_type": "display_data"
    },
    {
     "data": {
      "text/plain": [
       "(0, None)"
      ]
     },
     "execution_count": 19,
     "metadata": {},
     "output_type": "execute_result"
    }
   ],
   "source": [
    "# Проверим явные дубликаты в датасете orders\n",
    "dataset = orders.copy()\n",
    "find_explicit_duplicates(dataset)"
   ]
  },
  {
   "cell_type": "code",
   "execution_count": 20,
   "metadata": {},
   "outputs": [
    {
     "data": {
      "text/plain": [
       "'Количество явных дубликатов: 0'"
      ]
     },
     "metadata": {},
     "output_type": "display_data"
    },
    {
     "data": {
      "text/plain": [
       "'Явные дубликаты не найдены'"
      ]
     },
     "metadata": {},
     "output_type": "display_data"
    },
    {
     "data": {
      "text/plain": [
       "(0, None)"
      ]
     },
     "execution_count": 20,
     "metadata": {},
     "output_type": "execute_result"
    }
   ],
   "source": [
    "# Проверим явные дубликаты в датасете visitors\n",
    "dataset = visitors.copy()\n",
    "find_explicit_duplicates(dataset)"
   ]
  },
  {
   "cell_type": "markdown",
   "metadata": {},
   "source": [
    "В датасетах orders и visitors явные дубликаты не найдены."
   ]
  },
  {
   "cell_type": "code",
   "execution_count": 21,
   "metadata": {},
   "outputs": [],
   "source": [
    "# Напишем функцию для проверки данных на наличие неявных дубликатов\n",
    "def find_implicit_duplicates(dataset, columns_to_compare):\n",
    "    \n",
    "    # Находим неявные дубликаты\n",
    "    implicit_duplicates = dataset[dataset.duplicated(subset=columns_to_compare, keep=False)]\n",
    "    if implicit_duplicates.empty:\n",
    "        display('Неявных дубликатов нет.')\n",
    "  \n",
    "    return implicit_duplicates"
   ]
  },
  {
   "cell_type": "code",
   "execution_count": 22,
   "metadata": {},
   "outputs": [
    {
     "data": {
      "text/plain": [
       "'Неявных дубликатов нет.'"
      ]
     },
     "metadata": {},
     "output_type": "display_data"
    },
    {
     "data": {
      "text/html": [
       "<div>\n",
       "<style scoped>\n",
       "    .dataframe tbody tr th:only-of-type {\n",
       "        vertical-align: middle;\n",
       "    }\n",
       "\n",
       "    .dataframe tbody tr th {\n",
       "        vertical-align: top;\n",
       "    }\n",
       "\n",
       "    .dataframe thead th {\n",
       "        text-align: right;\n",
       "    }\n",
       "</style>\n",
       "<table border=\"1\" class=\"dataframe\">\n",
       "  <thead>\n",
       "    <tr style=\"text-align: right;\">\n",
       "      <th></th>\n",
       "      <th>transaction_id</th>\n",
       "      <th>visitor_id</th>\n",
       "      <th>date</th>\n",
       "      <th>revenue</th>\n",
       "      <th>group</th>\n",
       "    </tr>\n",
       "  </thead>\n",
       "  <tbody>\n",
       "  </tbody>\n",
       "</table>\n",
       "</div>"
      ],
      "text/plain": [
       "Empty DataFrame\n",
       "Columns: [transaction_id, visitor_id, date, revenue, group]\n",
       "Index: []"
      ]
     },
     "execution_count": 22,
     "metadata": {},
     "output_type": "execute_result"
    }
   ],
   "source": [
    "# Проверим датасет orders на наличие неявных дубликатов\n",
    "dataset = orders.copy()\n",
    "columns_to_compare = ['transaction_id']\n",
    "find_implicit_duplicates(dataset, columns_to_compare)"
   ]
  },
  {
   "cell_type": "code",
   "execution_count": 23,
   "metadata": {},
   "outputs": [
    {
     "data": {
      "text/html": [
       "<div>\n",
       "<style scoped>\n",
       "    .dataframe tbody tr th:only-of-type {\n",
       "        vertical-align: middle;\n",
       "    }\n",
       "\n",
       "    .dataframe tbody tr th {\n",
       "        vertical-align: top;\n",
       "    }\n",
       "\n",
       "    .dataframe thead th {\n",
       "        text-align: right;\n",
       "    }\n",
       "</style>\n",
       "<table border=\"1\" class=\"dataframe\">\n",
       "  <thead>\n",
       "    <tr style=\"text-align: right;\">\n",
       "      <th></th>\n",
       "      <th>transaction_id</th>\n",
       "      <th>visitor_id</th>\n",
       "      <th>date</th>\n",
       "      <th>revenue</th>\n",
       "      <th>group</th>\n",
       "    </tr>\n",
       "  </thead>\n",
       "  <tbody>\n",
       "    <tr>\n",
       "      <th>2</th>\n",
       "      <td>2961555356</td>\n",
       "      <td>4069496402</td>\n",
       "      <td>2019-08-15</td>\n",
       "      <td>400</td>\n",
       "      <td>A</td>\n",
       "    </tr>\n",
       "    <tr>\n",
       "      <th>15</th>\n",
       "      <td>2550768810</td>\n",
       "      <td>2742574263</td>\n",
       "      <td>2019-08-15</td>\n",
       "      <td>15277</td>\n",
       "      <td>B</td>\n",
       "    </tr>\n",
       "    <tr>\n",
       "      <th>20</th>\n",
       "      <td>2904772834</td>\n",
       "      <td>963407295</td>\n",
       "      <td>2019-08-15</td>\n",
       "      <td>300</td>\n",
       "      <td>B</td>\n",
       "    </tr>\n",
       "    <tr>\n",
       "      <th>23</th>\n",
       "      <td>4252514150</td>\n",
       "      <td>351125977</td>\n",
       "      <td>2019-08-15</td>\n",
       "      <td>15185</td>\n",
       "      <td>B</td>\n",
       "    </tr>\n",
       "    <tr>\n",
       "      <th>24</th>\n",
       "      <td>1162046357</td>\n",
       "      <td>3234906277</td>\n",
       "      <td>2019-08-15</td>\n",
       "      <td>7555</td>\n",
       "      <td>B</td>\n",
       "    </tr>\n",
       "    <tr>\n",
       "      <th>...</th>\n",
       "      <td>...</td>\n",
       "      <td>...</td>\n",
       "      <td>...</td>\n",
       "      <td>...</td>\n",
       "      <td>...</td>\n",
       "    </tr>\n",
       "    <tr>\n",
       "      <th>1182</th>\n",
       "      <td>2682156369</td>\n",
       "      <td>1668030113</td>\n",
       "      <td>2019-08-14</td>\n",
       "      <td>1290</td>\n",
       "      <td>B</td>\n",
       "    </tr>\n",
       "    <tr>\n",
       "      <th>1183</th>\n",
       "      <td>1458356232</td>\n",
       "      <td>963407295</td>\n",
       "      <td>2019-08-14</td>\n",
       "      <td>4940</td>\n",
       "      <td>A</td>\n",
       "    </tr>\n",
       "    <tr>\n",
       "      <th>1184</th>\n",
       "      <td>1329499668</td>\n",
       "      <td>2949041841</td>\n",
       "      <td>2019-08-14</td>\n",
       "      <td>10380</td>\n",
       "      <td>B</td>\n",
       "    </tr>\n",
       "    <tr>\n",
       "      <th>1189</th>\n",
       "      <td>4082620617</td>\n",
       "      <td>393266494</td>\n",
       "      <td>2019-08-14</td>\n",
       "      <td>31550</td>\n",
       "      <td>B</td>\n",
       "    </tr>\n",
       "    <tr>\n",
       "      <th>1195</th>\n",
       "      <td>1947021204</td>\n",
       "      <td>1614305549</td>\n",
       "      <td>2019-08-14</td>\n",
       "      <td>100</td>\n",
       "      <td>A</td>\n",
       "    </tr>\n",
       "  </tbody>\n",
       "</table>\n",
       "<p>260 rows × 5 columns</p>\n",
       "</div>"
      ],
      "text/plain": [
       "      transaction_id  visitor_id       date  revenue group\n",
       "2         2961555356  4069496402 2019-08-15      400     A\n",
       "15        2550768810  2742574263 2019-08-15    15277     B\n",
       "20        2904772834   963407295 2019-08-15      300     B\n",
       "23        4252514150   351125977 2019-08-15    15185     B\n",
       "24        1162046357  3234906277 2019-08-15     7555     B\n",
       "...              ...         ...        ...      ...   ...\n",
       "1182      2682156369  1668030113 2019-08-14     1290     B\n",
       "1183      1458356232   963407295 2019-08-14     4940     A\n",
       "1184      1329499668  2949041841 2019-08-14    10380     B\n",
       "1189      4082620617   393266494 2019-08-14    31550     B\n",
       "1195      1947021204  1614305549 2019-08-14      100     A\n",
       "\n",
       "[260 rows x 5 columns]"
      ]
     },
     "execution_count": 23,
     "metadata": {},
     "output_type": "execute_result"
    }
   ],
   "source": [
    "dataset = orders.copy()\n",
    "columns_to_compare = ['visitor_id']\n",
    "find_implicit_duplicates(dataset, columns_to_compare)"
   ]
  },
  {
   "cell_type": "markdown",
   "metadata": {},
   "source": [
    "В датасете orders найдены неявные дубликаты в столбце visitor_id. Вероятно покупатели заходили несколько раз в период проведения теста. Посмотрим выборочно на эти строки."
   ]
  },
  {
   "cell_type": "code",
   "execution_count": 24,
   "metadata": {},
   "outputs": [
    {
     "data": {
      "text/html": [
       "<div>\n",
       "<style scoped>\n",
       "    .dataframe tbody tr th:only-of-type {\n",
       "        vertical-align: middle;\n",
       "    }\n",
       "\n",
       "    .dataframe tbody tr th {\n",
       "        vertical-align: top;\n",
       "    }\n",
       "\n",
       "    .dataframe thead th {\n",
       "        text-align: right;\n",
       "    }\n",
       "</style>\n",
       "<table border=\"1\" class=\"dataframe\">\n",
       "  <thead>\n",
       "    <tr style=\"text-align: right;\">\n",
       "      <th></th>\n",
       "      <th>transaction_id</th>\n",
       "      <th>visitor_id</th>\n",
       "      <th>date</th>\n",
       "      <th>revenue</th>\n",
       "      <th>group</th>\n",
       "    </tr>\n",
       "  </thead>\n",
       "  <tbody>\n",
       "    <tr>\n",
       "      <th>15</th>\n",
       "      <td>2550768810</td>\n",
       "      <td>2742574263</td>\n",
       "      <td>2019-08-15</td>\n",
       "      <td>15277</td>\n",
       "      <td>B</td>\n",
       "    </tr>\n",
       "    <tr>\n",
       "      <th>91</th>\n",
       "      <td>3176574859</td>\n",
       "      <td>2742574263</td>\n",
       "      <td>2019-08-22</td>\n",
       "      <td>17868</td>\n",
       "      <td>B</td>\n",
       "    </tr>\n",
       "    <tr>\n",
       "      <th>840</th>\n",
       "      <td>234238251</td>\n",
       "      <td>2742574263</td>\n",
       "      <td>2019-08-21</td>\n",
       "      <td>9448</td>\n",
       "      <td>B</td>\n",
       "    </tr>\n",
       "  </tbody>\n",
       "</table>\n",
       "</div>"
      ],
      "text/plain": [
       "     transaction_id  visitor_id       date  revenue group\n",
       "15       2550768810  2742574263 2019-08-15    15277     B\n",
       "91       3176574859  2742574263 2019-08-22    17868     B\n",
       "840       234238251  2742574263 2019-08-21     9448     B"
      ]
     },
     "execution_count": 24,
     "metadata": {},
     "output_type": "execute_result"
    }
   ],
   "source": [
    "orders.query('visitor_id == 2742574263')"
   ]
  },
  {
   "cell_type": "code",
   "execution_count": 25,
   "metadata": {},
   "outputs": [
    {
     "data": {
      "text/html": [
       "<div>\n",
       "<style scoped>\n",
       "    .dataframe tbody tr th:only-of-type {\n",
       "        vertical-align: middle;\n",
       "    }\n",
       "\n",
       "    .dataframe tbody tr th {\n",
       "        vertical-align: top;\n",
       "    }\n",
       "\n",
       "    .dataframe thead th {\n",
       "        text-align: right;\n",
       "    }\n",
       "</style>\n",
       "<table border=\"1\" class=\"dataframe\">\n",
       "  <thead>\n",
       "    <tr style=\"text-align: right;\">\n",
       "      <th></th>\n",
       "      <th>transaction_id</th>\n",
       "      <th>visitor_id</th>\n",
       "      <th>date</th>\n",
       "      <th>revenue</th>\n",
       "      <th>group</th>\n",
       "    </tr>\n",
       "  </thead>\n",
       "  <tbody>\n",
       "    <tr>\n",
       "      <th>26</th>\n",
       "      <td>2223239646</td>\n",
       "      <td>199603092</td>\n",
       "      <td>2019-08-15</td>\n",
       "      <td>3488</td>\n",
       "      <td>A</td>\n",
       "    </tr>\n",
       "    <tr>\n",
       "      <th>134</th>\n",
       "      <td>62794304</td>\n",
       "      <td>199603092</td>\n",
       "      <td>2019-08-22</td>\n",
       "      <td>6976</td>\n",
       "      <td>A</td>\n",
       "    </tr>\n",
       "    <tr>\n",
       "      <th>246</th>\n",
       "      <td>437656952</td>\n",
       "      <td>199603092</td>\n",
       "      <td>2019-08-02</td>\n",
       "      <td>3488</td>\n",
       "      <td>B</td>\n",
       "    </tr>\n",
       "    <tr>\n",
       "      <th>823</th>\n",
       "      <td>2971973105</td>\n",
       "      <td>199603092</td>\n",
       "      <td>2019-08-27</td>\n",
       "      <td>2790</td>\n",
       "      <td>A</td>\n",
       "    </tr>\n",
       "    <tr>\n",
       "      <th>1102</th>\n",
       "      <td>1941707234</td>\n",
       "      <td>199603092</td>\n",
       "      <td>2019-08-12</td>\n",
       "      <td>6438</td>\n",
       "      <td>A</td>\n",
       "    </tr>\n",
       "  </tbody>\n",
       "</table>\n",
       "</div>"
      ],
      "text/plain": [
       "      transaction_id  visitor_id       date  revenue group\n",
       "26        2223239646   199603092 2019-08-15     3488     A\n",
       "134         62794304   199603092 2019-08-22     6976     A\n",
       "246        437656952   199603092 2019-08-02     3488     B\n",
       "823       2971973105   199603092 2019-08-27     2790     A\n",
       "1102      1941707234   199603092 2019-08-12     6438     A"
      ]
     },
     "execution_count": 25,
     "metadata": {},
     "output_type": "execute_result"
    }
   ],
   "source": [
    "orders.query('visitor_id == 199603092')"
   ]
  },
  {
   "cell_type": "code",
   "execution_count": 26,
   "metadata": {},
   "outputs": [
    {
     "data": {
      "text/html": [
       "<div>\n",
       "<style scoped>\n",
       "    .dataframe tbody tr th:only-of-type {\n",
       "        vertical-align: middle;\n",
       "    }\n",
       "\n",
       "    .dataframe tbody tr th {\n",
       "        vertical-align: top;\n",
       "    }\n",
       "\n",
       "    .dataframe thead th {\n",
       "        text-align: right;\n",
       "    }\n",
       "</style>\n",
       "<table border=\"1\" class=\"dataframe\">\n",
       "  <thead>\n",
       "    <tr style=\"text-align: right;\">\n",
       "      <th></th>\n",
       "      <th>transaction_id</th>\n",
       "      <th>visitor_id</th>\n",
       "      <th>date</th>\n",
       "      <th>revenue</th>\n",
       "      <th>group</th>\n",
       "    </tr>\n",
       "  </thead>\n",
       "  <tbody>\n",
       "    <tr>\n",
       "      <th>525</th>\n",
       "      <td>3031564664</td>\n",
       "      <td>393266494</td>\n",
       "      <td>2019-08-19</td>\n",
       "      <td>21550</td>\n",
       "      <td>A</td>\n",
       "    </tr>\n",
       "    <tr>\n",
       "      <th>936</th>\n",
       "      <td>936917445</td>\n",
       "      <td>393266494</td>\n",
       "      <td>2019-08-08</td>\n",
       "      <td>2190</td>\n",
       "      <td>B</td>\n",
       "    </tr>\n",
       "    <tr>\n",
       "      <th>1189</th>\n",
       "      <td>4082620617</td>\n",
       "      <td>393266494</td>\n",
       "      <td>2019-08-14</td>\n",
       "      <td>31550</td>\n",
       "      <td>B</td>\n",
       "    </tr>\n",
       "  </tbody>\n",
       "</table>\n",
       "</div>"
      ],
      "text/plain": [
       "      transaction_id  visitor_id       date  revenue group\n",
       "525       3031564664   393266494 2019-08-19    21550     A\n",
       "936        936917445   393266494 2019-08-08     2190     B\n",
       "1189      4082620617   393266494 2019-08-14    31550     B"
      ]
     },
     "execution_count": 26,
     "metadata": {},
     "output_type": "execute_result"
    }
   ],
   "source": [
    "orders.query('visitor_id == 393266494')"
   ]
  },
  {
   "cell_type": "markdown",
   "metadata": {},
   "source": [
    "Итак, что мы видим. Некоторые покупатели за время проведения теста заходили несколько раз на сайт. Часть из них попала в одну и ту же группу, как и должно быть, а часть в разные, что неправильно. Таких покупателей нужно удалить, чтобы они не искажали результаты теста, их поведение «поломано» и на них замерить эффект будет очень сложно."
   ]
  },
  {
   "cell_type": "code",
   "execution_count": 27,
   "metadata": {},
   "outputs": [],
   "source": [
    "# Сгруппируем данные по visitor_id, отфильтруем их по group и оставим в датасете orders только те строки, \n",
    "# где уникальное значение group для одинаковых visitor_id одно\n",
    "orders = orders.groupby('visitor_id').filter(lambda x: len(x['group'].unique()) == 1)"
   ]
  },
  {
   "cell_type": "code",
   "execution_count": 28,
   "metadata": {},
   "outputs": [
    {
     "data": {
      "text/html": [
       "<div>\n",
       "<style scoped>\n",
       "    .dataframe tbody tr th:only-of-type {\n",
       "        vertical-align: middle;\n",
       "    }\n",
       "\n",
       "    .dataframe tbody tr th {\n",
       "        vertical-align: top;\n",
       "    }\n",
       "\n",
       "    .dataframe thead th {\n",
       "        text-align: right;\n",
       "    }\n",
       "</style>\n",
       "<table border=\"1\" class=\"dataframe\">\n",
       "  <thead>\n",
       "    <tr style=\"text-align: right;\">\n",
       "      <th></th>\n",
       "      <th>date</th>\n",
       "      <th>group</th>\n",
       "      <th>visitors</th>\n",
       "    </tr>\n",
       "  </thead>\n",
       "  <tbody>\n",
       "    <tr>\n",
       "      <th>7</th>\n",
       "      <td>2019-08-08</td>\n",
       "      <td>A</td>\n",
       "      <td>610</td>\n",
       "    </tr>\n",
       "    <tr>\n",
       "      <th>10</th>\n",
       "      <td>2019-08-11</td>\n",
       "      <td>A</td>\n",
       "      <td>718</td>\n",
       "    </tr>\n",
       "    <tr>\n",
       "      <th>29</th>\n",
       "      <td>2019-08-30</td>\n",
       "      <td>A</td>\n",
       "      <td>490</td>\n",
       "    </tr>\n",
       "    <tr>\n",
       "      <th>38</th>\n",
       "      <td>2019-08-08</td>\n",
       "      <td>B</td>\n",
       "      <td>654</td>\n",
       "    </tr>\n",
       "    <tr>\n",
       "      <th>39</th>\n",
       "      <td>2019-08-09</td>\n",
       "      <td>B</td>\n",
       "      <td>610</td>\n",
       "    </tr>\n",
       "    <tr>\n",
       "      <th>58</th>\n",
       "      <td>2019-08-28</td>\n",
       "      <td>B</td>\n",
       "      <td>654</td>\n",
       "    </tr>\n",
       "    <tr>\n",
       "      <th>60</th>\n",
       "      <td>2019-08-30</td>\n",
       "      <td>B</td>\n",
       "      <td>490</td>\n",
       "    </tr>\n",
       "    <tr>\n",
       "      <th>61</th>\n",
       "      <td>2019-08-31</td>\n",
       "      <td>B</td>\n",
       "      <td>718</td>\n",
       "    </tr>\n",
       "  </tbody>\n",
       "</table>\n",
       "</div>"
      ],
      "text/plain": [
       "         date group  visitors\n",
       "7  2019-08-08     A       610\n",
       "10 2019-08-11     A       718\n",
       "29 2019-08-30     A       490\n",
       "38 2019-08-08     B       654\n",
       "39 2019-08-09     B       610\n",
       "58 2019-08-28     B       654\n",
       "60 2019-08-30     B       490\n",
       "61 2019-08-31     B       718"
      ]
     },
     "execution_count": 28,
     "metadata": {},
     "output_type": "execute_result"
    }
   ],
   "source": [
    "# Проверим датасет visitors на наличие неявных дубликатов\n",
    "dataset = visitors.copy()\n",
    "columns_to_compare = ['visitors']\n",
    "find_implicit_duplicates(dataset, columns_to_compare)"
   ]
  },
  {
   "cell_type": "markdown",
   "metadata": {},
   "source": [
    "Тут также есть неявные дубликаты. Три покупателя попали в разные группы во время разных входов на сайт. В visitors у нас агрегированная информация, а не информация на уровне одного пользователя, поэтому наличие дубликатов в связке \"день-группа-посетители\" хоть и необычная, но всё же может иметь место быть, поэтому оставляем как есть."
   ]
  },
  {
   "cell_type": "markdown",
   "metadata": {},
   "source": [
    "### Проверим уникальные значения в датасетах orders и visitors"
   ]
  },
  {
   "cell_type": "code",
   "execution_count": 29,
   "metadata": {},
   "outputs": [],
   "source": [
    "# Напишем функцию, которая будет выводить описание данных в столбце, уникальные значения и их количество\n",
    "def unique_describe(dataset):\n",
    "    return  display(dataset.describe(), len(dataset.unique())), print(sorted(dataset.unique())) "
   ]
  },
  {
   "cell_type": "markdown",
   "metadata": {},
   "source": [
    "Проверим уникальные значения в датасете orders"
   ]
  },
  {
   "cell_type": "code",
   "execution_count": 30,
   "metadata": {},
   "outputs": [
    {
     "data": {
      "text/plain": [
       "count    1.016000e+03\n",
       "mean     2.155085e+09\n",
       "std      1.234372e+09\n",
       "min      1.062393e+06\n",
       "25%      1.143481e+09\n",
       "50%      2.144499e+09\n",
       "75%      3.256513e+09\n",
       "max      4.288552e+09\n",
       "Name: transaction_id, dtype: float64"
      ]
     },
     "metadata": {},
     "output_type": "display_data"
    },
    {
     "data": {
      "text/plain": [
       "1016"
      ]
     },
     "metadata": {},
     "output_type": "display_data"
    },
    {
     "name": "stdout",
     "output_type": "stream",
     "text": [
      "[1062393, 4919758, 7210578, 8131427, 11068804, 19446369, 19467429, 26423654, 29438557, 31060183, 35929812, 38478481, 42506358, 50225499, 50573571, 51443164, 52260954, 55417546, 69312188, 70327311, 86411600, 86504917, 90109939, 96707201, 123992977, 125335873, 128480032, 133616433, 141445646, 142712712, 143829018, 151437276, 154338469, 158295218, 160345536, 161113724, 165288431, 175321713, 175363373, 177293476, 178265899, 180749850, 181836088, 182168103, 194489498, 198999602, 202241000, 210558688, 212815314, 217480737, 218256919, 218467446, 225225498, 231209528, 234238251, 235474681, 237002862, 260086319, 262925486, 264388722, 271768864, 287313500, 290089453, 290380159, 290471249, 290974848, 297844270, 298049028, 298049448, 305846010, 310029418, 316924019, 318597867, 323958042, 324018163, 324171086, 335158381, 339489775, 348143148, 352861950, 364342391, 365058890, 369801982, 373945924, 374969414, 375844049, 376170286, 380504587, 380685964, 383287370, 384670583, 390467479, 393610987, 394880746, 395889669, 398296753, 401622769, 405281389, 408545316, 408812103, 412824526, 416093091, 416170089, 418108717, 429304275, 434147256, 437876380, 438781793, 444963271, 446569841, 448493494, 452710654, 453686528, 455568416, 457171476, 457983912, 459227648, 459882198, 460968028, 461722689, 465243102, 469964133, 477940151, 486115048, 504373597, 511011368, 514501382, 518382936, 520097477, 532398042, 543733679, 546817993, 549358396, 549769193, 557323463, 559859702, 562221532, 562977028, 565328425, 571224785, 573486797, 578479971, 587872075, 590470918, 595789313, 602399015, 606354126, 617930325, 619615697, 626262509, 627172106, 627804981, 629969501, 630178370, 635351875, 635407424, 641338041, 648682471, 653973461, 663375979, 665271848, 666610489, 672040400, 674584210, 677472159, 691299586, 699854005, 702418073, 707525727, 716439623, 724544405, 733587530, 735232225, 735672072, 737104568, 738849391, 741346069, 749851973, 752294429, 767912658, 769008348, 773663763, 777722931, 790091309, 791532781, 794298435, 797272237, 798048333, 800632297, 804934578, 815003794, 822092266, 831316805, 836739159, 837624130, 837819976, 842507644, 853409662, 854120002, 854249928, 858446481, 860384268, 862558739, 863448794, 873230871, 876779158, 884109530, 884458775, 887219389, 890243194, 891673177, 894865132, 900025958, 914877599, 918752036, 922638597, 926804035, 934232801, 936042206, 937773181, 947776467, 948555526, 957249987, 965802885, 965979600, 968111463, 980307483, 986374747, 1001961505, 1003122151, 1024573057, 1029192242, 1033377712, 1035705992, 1048853344, 1061639574, 1063646926, 1071437802, 1076322816, 1079956648, 1084293954, 1092669520, 1096121493, 1102655019, 1105761923, 1108180333, 1109375840, 1110904493, 1113045957, 1126146019, 1126236755, 1134284616, 1136317551, 1139821076, 1144701458, 1149756812, 1157343706, 1164811175, 1166775572, 1167684138, 1170105516, 1172658283, 1181289994, 1183827418, 1184338948, 1185885568, 1187625359, 1192036073, 1192185169, 1205865656, 1206085843, 1207030791, 1207636128, 1211699332, 1215018444, 1215410543, 1216926230, 1218444584, 1223278263, 1223645875, 1228436647, 1233480079, 1233825013, 1234615529, 1237221075, 1238204141, 1240630928, 1242996928, 1243954217, 1246801103, 1266191879, 1266977500, 1273552286, 1275337321, 1276399043, 1282317468, 1282920840, 1284843140, 1286673508, 1292296903, 1295850747, 1303723408, 1311251665, 1312693562, 1314703772, 1319904784, 1328714350, 1329556473, 1335758960, 1338703051, 1347999392, 1348774318, 1348929396, 1361424159, 1364984427, 1367815478, 1369044083, 1371922580, 1381001911, 1393848137, 1399322126, 1400686638, 1403947326, 1404959653, 1407273155, 1407575382, 1407752954, 1408156385, 1415191499, 1416727054, 1428722141, 1440965500, 1441625969, 1442150543, 1457259561, 1457780928, 1460586653, 1472783002, 1476390797, 1476831880, 1477976259, 1482923642, 1483298733, 1490093586, 1506739906, 1507038921, 1514149551, 1524568202, 1530631615, 1532137447, 1532499979, 1537104566, 1538887006, 1543948528, 1545571412, 1552043751, 1556785718, 1565422415, 1567625736, 1570513684, 1573514293, 1576403126, 1576988021, 1578727547, 1578920557, 1589082866, 1594277506, 1595002579, 1598128055, 1599526656, 1601158430, 1605437540, 1612010084, 1612463967, 1618076407, 1623176798, 1634400895, 1634965106, 1634999519, 1636454846, 1641863009, 1646402801, 1646874005, 1648861120, 1651482177, 1652782757, 1654949825, 1658608862, 1661608904, 1670357589, 1674284750, 1676073049, 1676080802, 1678838030, 1679400779, 1692103379, 1696190144, 1703637902, 1715714627, 1722971027, 1722995581, 1728664132, 1729012139, 1731035177, 1731627062, 1739748874, 1745032218, 1746771340, 1747904063, 1763788632, 1764119908, 1765769688, 1769257333, 1774899068, 1775445570, 1780029109, 1784775498, 1791477067, 1794917688, 1798931686, 1801818165, 1802431162, 1803127824, 1807773912, 1811538381, 1820531107, 1822256754, 1823195189, 1826741120, 1845245000, 1853288890, 1853671858, 1859123281, 1861540412, 1867784682, 1869578588, 1876275626, 1876585139, 1880179202, 1885465086, 1887336629, 1892286239, 1892362671, 1907905097, 1910474662, 1919444843, 1926996770, 1929420857, 1934197258, 1935539409, 1936881098, 1939633950, 1941116644, 1941376795, 1946569610, 1950404403, 1962247337, 1964998089, 1973794357, 1988035100, 1988916037, 1992809750, 1993640374, 1998112401, 2000852429, 2004946059, 2010908098, 2012012971, 2012277167, 2012347492, 2012801741, 2013919907, 2015722678, 2017680897, 2023295336, 2023943756, 2024820467, 2029413212, 2035013473, 2037051350, 2049400530, 2052514069, 2055901696, 2061627240, 2065527789, 2067529988, 2070211595, 2081053731, 2083889130, 2084190534, 2086338800, 2089115464, 2090708381, 2092376102, 2096847394, 2100491088, 2102403691, 2104773562, 2106647175, 2107411712, 2116724386, 2117234618, 2120503539, 2122398532, 2128508695, 2139039614, 2142284513, 2143803288, 2145193898, 2146400799, 2148936881, 2150972893, 2153010762, 2153842875, 2156491846, 2159858322, 2160002122, 2161369048, 2165344951, 2172704731, 2176732109, 2178722073, 2180201337, 2183069967, 2184241291, 2203539145, 2205947780, 2206098194, 2206140518, 2208648828, 2211112339, 2211880073, 2213775495, 2216192667, 2232016803, 2234122314, 2234615357, 2235924775, 2236120888, 2236784294, 2241655654, 2243349176, 2252458552, 2258664213, 2267826875, 2271171213, 2274188238, 2280802660, 2282983706, 2287457662, 2291372207, 2291957725, 2304731149, 2305128914, 2309036559, 2309447140, 2312704236, 2315635631, 2318242783, 2321477056, 2324389790, 2330926120, 2337370869, 2339908130, 2344401705, 2345357201, 2352568886, 2356264591, 2358087265, 2361024027, 2367795708, 2368020497, 2368313386, 2374285072, 2375657872, 2380347282, 2396420873, 2399678258, 2400978083, 2411689164, 2411823395, 2414788465, 2418682148, 2419903539, 2419950278, 2420050534, 2420262036, 2425764900, 2430984474, 2436452823, 2436528253, 2461347779, 2466620500, 2470267229, 2472751116, 2476095168, 2476870871, 2489491772, 2489555571, 2497497433, 2503419221, 2505918657, 2513016443, 2516233682, 2518195580, 2518211204, 2524994153, 2531740433, 2541233311, 2541328114, 2547759316, 2550768810, 2552245563, 2552819381, 2575492995, 2591976620, 2596511168, 2599120403, 2600542600, 2609443403, 2612401984, 2619374735, 2626614568, 2627773869, 2631228632, 2632372083, 2634363174, 2640648270, 2641583134, 2645975327, 2656017279, 2656764852, 2661837070, 2662137336, 2663968367, 2669609377, 2672742956, 2674236505, 2683113224, 2689922045, 2699289722, 2700709852, 2707614072, 2712149372, 2714235110, 2717892024, 2724331495, 2727336513, 2740953457, 2741495374, 2744208512, 2762748803, 2764584088, 2765468571, 2765619353, 2765625299, 2773724620, 2774185760, 2774755101, 2782494067, 2785716100, 2786000406, 2787983461, 2788225284, 2804400009, 2809384911, 2812811922, 2815409412, 2822064496, 2830055340, 2845314954, 2851407406, 2854869852, 2859293852, 2865895399, 2866469834, 2872509092, 2875229767, 2882003943, 2883105032, 2886170101, 2888367978, 2890964573, 2894657060, 2909182252, 2912128786, 2923696601, 2927992070, 2932932798, 2939332152, 2951399376, 2951489300, 2952636658, 2956594374, 2960804513, 2961045922, 2961490189, 2961555325, 2974379446, 2983450240, 2994467711, 3003595335, 3017343075, 3018088287, 3019510679, 3020845020, 3022667018, 3024349788, 3024416906, 3025669476, 3027277658, 3044797713, 3046161180, 3047372556, 3047865341, 3049238571, 3053268562, 3057892078, 3068877425, 3069553209, 3083858710, 3084571653, 3086067579, 3088760849, 3096761411, 3102219893, 3108623697, 3122496224, 3126152734, 3133733765, 3140010296, 3141224116, 3143229464, 3143300221, 3147672292, 3152444021, 3154167297, 3163082555, 3163614039, 3165578945, 3167192434, 3170885827, 3176574859, 3184248123, 3185013805, 3187348360, 3190958060, 3198443301, 3207473498, 3213645392, 3217433767, 3221239900, 3227505145, 3227521980, 3229560351, 3231452720, 3232411764, 3237740112, 3245585636, 3247488765, 3252142918, 3256245027, 3257317835, 3263878605, 3268879337, 3268937183, 3273938321, 3276214732, 3278896715, 3279015842, 3279337891, 3291040387, 3298573369, 3301293313, 3303424591, 3306480450, 3311675826, 3312757456, 3315359627, 3322807521, 3328372908, 3328555363, 3330749678, 3348489190, 3352225027, 3352388207, 3367644853, 3381429285, 3384227820, 3384575290, 3390093829, 3390166538, 3394575003, 3394915331, 3404861334, 3406907886, 3412626998, 3413449258, 3422531330, 3430893515, 3432950155, 3433533137, 3435237349, 3437333253, 3448552908, 3453819322, 3455399567, 3455897155, 3457754169, 3460288289, 3462663151, 3465107905, 3466109212, 3483580157, 3485678199, 3486821141, 3487214061, 3492564891, 3497987294, 3498400794, 3502192780, 3503087376, 3508803238, 3513553494, 3517061727, 3524589317, 3525952977, 3525980424, 3533389249, 3533599275, 3536751509, 3544621373, 3545373252, 3551685910, 3559692217, 3560142722, 3567356314, 3568733367, 3568767894, 3574407166, 3583790584, 3585957438, 3586326620, 3588515863, 3589879928, 3591719830, 3592105335, 3592955527, 3600573749, 3601774485, 3603576309, 3606446640, 3607552320, 3608152685, 3608171161, 3614621763, 3615982016, 3621273697, 3627506669, 3628490752, 3630998268, 3631538224, 3634771255, 3636437832, 3641100475, 3645205514, 3646798055, 3649131742, 3649785329, 3650380616, 3650534576, 3659622247, 3660038601, 3664867609, 3667963787, 3668308183, 3675491906, 3678943889, 3682739914, 3709669952, 3710046263, 3716304192, 3720572478, 3721196264, 3730164576, 3730368751, 3742152357, 3745550734, 3749160238, 3751930031, 3759220283, 3759988715, 3760662696, 3765974140, 3768600702, 3769777863, 3772248562, 3778001764, 3778147089, 3782700345, 3784111282, 3784129239, 3784371772, 3795138501, 3796325351, 3796946799, 3797467345, 3800875660, 3800907028, 3805806808, 3809397218, 3815014015, 3817119382, 3831307789, 3831358676, 3834417582, 3837794863, 3838148156, 3839104003, 3845118557, 3847160695, 3854129892, 3859315276, 3870335394, 3873503306, 3878473215, 3879539725, 3879664526, 3888787202, 3894221956, 3896562897, 3897826085, 3900298739, 3900869207, 3901196331, 3901964025, 3910266759, 3913205113, 3924423491, 3936777065, 3937772364, 3944922068, 3949629544, 3959068944, 3959809807, 3964942202, 3970235543, 3984783002, 3986425716, 3987401232, 4006427057, 4013545461, 4016435970, 4016803793, 4021746511, 4027963553, 4035028498, 4036458680, 4041036714, 4042759961, 4044267042, 4045393544, 4049927765, 4057562044, 4060991953, 4067377068, 4067849009, 4071177889, 4077952433, 4080243878, 4082166396, 4084175636, 4099032419, 4100162122, 4103220998, 4129423775, 4130553949, 4132628207, 4139571321, 4140190337, 4143214054, 4143391178, 4147554249, 4149397657, 4149581711, 4152028361, 4159234359, 4161654914, 4166735432, 4167421281, 4169633550, 4170537404, 4176325967, 4178616791, 4180327962, 4182212811, 4185696070, 4197437901, 4203085435, 4206138190, 4209564703, 4213441143, 4215838417, 4223601037, 4226156350, 4226817726, 4228929090, 4230875336, 4238948438, 4243941421, 4244481880, 4256972642, 4261512099, 4279408906, 4281129020, 4288552432]\n"
     ]
    },
    {
     "data": {
      "text/plain": [
       "(None, None)"
      ]
     },
     "execution_count": 30,
     "metadata": {},
     "output_type": "execute_result"
    }
   ],
   "source": [
    "dataset = orders['transaction_id']\n",
    "unique_describe(dataset)"
   ]
  },
  {
   "cell_type": "markdown",
   "metadata": {},
   "source": [
    "В стобце transaction_id ничего не обычного не замечаю."
   ]
  },
  {
   "cell_type": "code",
   "execution_count": 31,
   "metadata": {},
   "outputs": [
    {
     "data": {
      "text/plain": [
       "count    1.016000e+03\n",
       "mean     2.128677e+09\n",
       "std      1.221578e+09\n",
       "min      5.114589e+06\n",
       "25%      1.043655e+09\n",
       "50%      2.150274e+09\n",
       "75%      3.146991e+09\n",
       "max      4.283872e+09\n",
       "Name: visitor_id, dtype: float64"
      ]
     },
     "metadata": {},
     "output_type": "display_data"
    },
    {
     "data": {
      "text/plain": [
       "973"
      ]
     },
     "metadata": {},
     "output_type": "display_data"
    },
    {
     "name": "stdout",
     "output_type": "stream",
     "text": [
      "[5114589, 6958315, 11685486, 39475350, 47206413, 48147722, 54447517, 56960363, 66685450, 71018815, 78678012, 78758296, 85103373, 87885904, 91069833, 102981183, 104602633, 109615108, 113298937, 114507418, 117599621, 130417038, 132143192, 134926050, 138252163, 148427295, 151496413, 152397976, 154576532, 154825609, 157579733, 162423694, 171459513, 172218683, 178249104, 179951984, 181166394, 182753106, 184835319, 187589092, 191870721, 194969263, 195530970, 199874245, 201615765, 204675465, 206724078, 222718357, 228221722, 233773277, 235366767, 236764260, 238992583, 243620413, 248503091, 249864742, 252987601, 258610743, 259989552, 264456202, 266115224, 274717519, 277405052, 280073872, 281523083, 282188993, 284094220, 285030828, 290022471, 295230930, 296565978, 300249313, 309675944, 318152663, 321150727, 325179089, 329473477, 329726006, 343208965, 352377175, 358944393, 363280180, 366673373, 367176526, 368204224, 368679516, 370388673, 381340408, 382846391, 387170777, 392419518, 399216493, 399408949, 400358405, 406208401, 407706407, 410113592, 414545763, 417213830, 427004138, 428219747, 430948481, 433951253, 442260868, 447836349, 451104171, 456417264, 458253749, 467022501, 467975735, 470091460, 471842048, 473299164, 492739583, 495712671, 509080881, 517094627, 518847692, 522292794, 530257481, 535857429, 537599508, 544632063, 544963298, 551106609, 567175747, 570540961, 572335325, 573423106, 582460750, 583433650, 583902904, 586100578, 589808731, 600572117, 600884435, 600964629, 608641596, 611059232, 612505725, 619764962, 621427706, 622980798, 623318263, 625115313, 627176112, 634450378, 635956745, 642826102, 643335272, 645425477, 650280576, 654930236, 656974993, 659580242, 666694713, 671625855, 678354126, 680119828, 683554837, 683753316, 689129267, 702994395, 705680638, 707833925, 709955468, 710690947, 716514914, 721509856, 723038324, 728063420, 732900740, 737242975, 749770631, 749837663, 755881835, 759473111, 787824685, 789265206, 793112967, 803709563, 816783716, 821846484, 834683205, 834731816, 835561402, 835577924, 850320739, 854695158, 856264494, 856349446, 858552794, 862992587, 865916592, 866305447, 869044563, 872679699, 876081193, 879864040, 887812064, 887908475, 888420622, 888512513, 895233158, 906523562, 906754117, 907970812, 910107897, 916684595, 916720205, 926057494, 927791387, 930356060, 930758570, 931669455, 935349363, 935554773, 938079215, 943674707, 947532470, 949750571, 950626008, 954785863, 960782649, 962484204, 975516572, 978473912, 980818195, 982374313, 983496389, 990849616, 990904712, 991436984, 993094131, 994339272, 996668426, 997945223, 1002877908, 1009464434, 1010866419, 1011231197, 1016890234, 1022829655, 1028756448, 1035424004, 1046398313, 1049627981, 1052142804, 1060341621, 1064078146, 1069983096, 1070130208, 1075551409, 1097629811, 1100237501, 1110007955, 1110543778, 1111826046, 1117202045, 1122598516, 1129369369, 1143609305, 1147554328, 1148665946, 1151477821, 1154728414, 1159489312, 1164614297, 1172166732, 1174537443, 1178217086, 1184607010, 1196621759, 1197745035, 1197773061, 1206072200, 1211585711, 1212176445, 1215602524, 1217561296, 1219079053, 1221478247, 1224575308, 1224903511, 1225835168, 1229532929, 1229866403, 1236388112, 1247895435, 1253370069, 1253818784, 1255412427, 1261629107, 1263373242, 1270030113, 1274716998, 1285103033, 1294108251, 1303698307, 1306302251, 1307669133, 1310081088, 1333058479, 1335154194, 1341752722, 1349865791, 1351898488, 1354599463, 1357170471, 1367935136, 1373713654, 1377447894, 1378148355, 1379151787, 1387624577, 1388079388, 1388838483, 1390677121, 1395236619, 1396482013, 1397211727, 1398592185, 1402025725, 1404560065, 1414758703, 1420364840, 1421513677, 1422476412, 1422773200, 1426761187, 1430210707, 1438226485, 1452540367, 1455323168, 1455861274, 1460891116, 1463715810, 1471458381, 1471496742, 1474473704, 1476256851, 1476741193, 1484903144, 1485964287, 1494664757, 1495112755, 1500448895, 1501480579, 1507665514, 1508900659, 1516351054, 1539796403, 1544467991, 1554533732, 1555048873, 1555770826, 1557781683, 1562205279, 1565034404, 1565607587, 1571986409, 1576289054, 1577719542, 1579036099, 1581167209, 1588775363, 1596446524, 1596819047, 1596970166, 1604176421, 1604853044, 1605520752, 1606766439, 1611907877, 1612349123, 1617417821, 1622301731, 1627549308, 1630618580, 1634934899, 1637811943, 1638583360, 1643342931, 1658204305, 1667068825, 1667360450, 1669393038, 1677041464, 1687231984, 1687240555, 1690383497, 1692957755, 1698039057, 1700445283, 1703949673, 1713857373, 1722579998, 1722729964, 1728743776, 1732269954, 1737494355, 1738775963, 1741803981, 1744796792, 1762249948, 1766557988, 1768898981, 1772171838, 1774856294, 1775276630, 1781647073, 1782658204, 1786280350, 1795951456, 1802957007, 1807547430, 1810540789, 1823887377, 1826088570, 1826431635, 1830791924, 1830803815, 1831140265, 1831227158, 1831375989, 1831956319, 1832798996, 1835372109, 1850778479, 1858007013, 1859207151, 1869662856, 1879028067, 1882260405, 1890645762, 1893387602, 1900893596, 1909539331, 1917506191, 1918801743, 1920142716, 1935367901, 1937307986, 1938138695, 1948974149, 1957949546, 1964413493, 1964799739, 1967247027, 1967724198, 1979878245, 1981624632, 1985475298, 1995481842, 2008082479, 2010516786, 2016864191, 2019205281, 2019355024, 2025197455, 2030837847, 2036584322, 2038023866, 2041539477, 2042457747, 2044161277, 2046011647, 2054014923, 2065143173, 2067508917, 2069923923, 2075769885, 2075883701, 2082081961, 2084876480, 2091902649, 2096506107, 2108080724, 2108163459, 2114962460, 2115666868, 2115669947, 2125253600, 2128962954, 2134820861, 2138044356, 2138109167, 2139465532, 2146711261, 2147998719, 2152549680, 2153871238, 2156256996, 2158146269, 2162167602, 2162698752, 2168467118, 2171487014, 2188683977, 2195309755, 2201480904, 2210805728, 2213855729, 2217984702, 2219162270, 2223522147, 2230225652, 2231389472, 2231749745, 2232111114, 2245562049, 2247666522, 2247745159, 2248249182, 2254456485, 2254586615, 2254875182, 2261102418, 2261934787, 2273809679, 2274825520, 2278620397, 2279926127, 2283224496, 2288159513, 2295217812, 2301937222, 2303470071, 2304039735, 2306096143, 2307676173, 2308309101, 2316833558, 2322279887, 2328378067, 2328791559, 2357168171, 2358787737, 2361350105, 2366521417, 2370420350, 2373765141, 2378092656, 2393492379, 2395035985, 2396121427, 2396134342, 2397025226, 2397843657, 2399568665, 2406897935, 2406916810, 2412305169, 2412366830, 2413071759, 2416662824, 2421265884, 2429822128, 2430786771, 2440451175, 2445531802, 2445878741, 2452603128, 2456230425, 2461709734, 2463259495, 2467439671, 2468974761, 2476105225, 2486521341, 2488182306, 2492519473, 2507107988, 2517115269, 2517777104, 2522140192, 2524310328, 2531836666, 2536252163, 2546716293, 2552584164, 2561350211, 2570444314, 2572275626, 2572433473, 2578486380, 2580341989, 2580397131, 2582702340, 2583793022, 2587526707, 2592727107, 2604012846, 2604694259, 2605843205, 2606208134, 2606908679, 2614516882, 2617784228, 2618159035, 2626290177, 2629148010, 2633052872, 2634105098, 2637462286, 2643391466, 2650211599, 2652835245, 2661240577, 2663148288, 2663297422, 2663984869, 2666068032, 2666467773, 2668501323, 2669052850, 2695379936, 2696039803, 2696599598, 2698944478, 2700013943, 2700670803, 2703178540, 2705308997, 2706377257, 2710193528, 2710478747, 2710492161, 2733145037, 2735494018, 2736682487, 2738601405, 2742574263, 2743474511, 2744017357, 2749453459, 2758621772, 2761566146, 2763027084, 2771749575, 2772153338, 2776274025, 2785040378, 2785527055, 2801638130, 2803209166, 2805132315, 2819072957, 2819363575, 2830871062, 2837914161, 2840985286, 2845785181, 2846507753, 2849720983, 2853587382, 2868887864, 2870367609, 2871453277, 2873491771, 2874956069, 2880866577, 2882903413, 2888793654, 2892265953, 2895396501, 2900797465, 2902041511, 2903830376, 2908466434, 2912540959, 2913441496, 2914239125, 2924874435, 2928315504, 2941133924, 2944179391, 2947100995, 2951649436, 2953427180, 2968526225, 2971471657, 2973109265, 2973964255, 2978730290, 2986402114, 2987864213, 2988190573, 2993711540, 2999642019, 2999778091, 3012531415, 3013339133, 3016218652, 3017378493, 3020644940, 3024988998, 3028866828, 3033962131, 3042692891, 3043080596, 3044645888, 3054940424, 3055165772, 3062077384, 3062605572, 3072399624, 3074968175, 3075705514, 3077396270, 3077470899, 3085290658, 3086835579, 3097512534, 3101956850, 3102053760, 3103718471, 3104896602, 3112126740, 3115684948, 3116161138, 3116822707, 3117119809, 3118156181, 3118528100, 3123255051, 3127757912, 3131127734, 3133484003, 3141507731, 3146597820, 3148168974, 3149228032, 3160565905, 3160828523, 3161387566, 3166175118, 3170292896, 3170813781, 3177606451, 3177790019, 3185203440, 3187581794, 3199637546, 3207734412, 3212572194, 3213223594, 3213691396, 3218863961, 3221887237, 3229395114, 3237158392, 3239199975, 3245907439, 3251102545, 3254689071, 3255082731, 3260527149, 3261022559, 3263046761, 3265039507, 3279802827, 3281496343, 3282099314, 3283584911, 3288820196, 3289144202, 3290315626, 3294452564, 3294921142, 3295038680, 3301980586, 3304571422, 3309365614, 3310105714, 3312258926, 3319676739, 3320079367, 3321013705, 3323129950, 3332057097, 3340403042, 3342201840, 3353177029, 3357398384, 3359518621, 3359706893, 3362039251, 3367493247, 3371277047, 3371539723, 3372131337, 3379260072, 3379886002, 3386452937, 3391919803, 3396460792, 3409596883, 3419266314, 3423937755, 3427397479, 3429232516, 3430457488, 3451176495, 3455264956, 3462462738, 3463388890, 3469608676, 3476822370, 3499733621, 3504688413, 3508047169, 3511496907, 3511617963, 3524303171, 3528043184, 3540744920, 3552142259, 3572819427, 3573155649, 3577042875, 3577713868, 3584855583, 3587733103, 3590655705, 3591136796, 3595021912, 3598591418, 3600436937, 3607649875, 3612778094, 3613900590, 3616659553, 3622537133, 3628338328, 3636615199, 3636663279, 3637027427, 3640080856, 3642806036, 3647477940, 3647934575, 3659263677, 3660046170, 3660225571, 3661375494, 3663170795, 3673190339, 3686264987, 3693438260, 3694317332, 3704174715, 3704741858, 3713138051, 3719891787, 3720590235, 3722682546, 3722970464, 3724732821, 3733762160, 3735525502, 3736064128, 3736558232, 3741503045, 3752369942, 3770394574, 3778207363, 3785537730, 3788724847, 3791892006, 3792964032, 3796654595, 3812442168, 3815257471, 3819243527, 3826874025, 3836897869, 3857804666, 3857916904, 3860669668, 3866069709, 3870317023, 3873846164, 3874092616, 3877129255, 3891384992, 3893674369, 3896738923, 3906435972, 3907107900, 3908431265, 3909304777, 3910723394, 3917749921, 3927376365, 3928949490, 3931967268, 3935952912, 3937582421, 3938001975, 3940815455, 3941503500, 3941600282, 3942804483, 3950493862, 3950806039, 3953983768, 3956892867, 3967698036, 3977396102, 3979054828, 3985807412, 3993040832, 3994425631, 4002369227, 4003628586, 4006260374, 4009017467, 4012829377, 4014197579, 4017075195, 4018812886, 4027395615, 4027578749, 4033511429, 4037043590, 4037118491, 4038181899, 4038883307, 4062055840, 4062713576, 4076480073, 4079050915, 4087542339, 4095180727, 4099262874, 4100747010, 4109358064, 4133034833, 4134011281, 4134830387, 4142693015, 4144343220, 4144979507, 4157461730, 4163850406, 4166660304, 4169666863, 4171878080, 4174346527, 4176813035, 4178309188, 4181076848, 4186744110, 4194288377, 4205543768, 4213333413, 4216089391, 4223733735, 4224378620, 4227830084, 4228915420, 4231233292, 4237561104, 4243832526, 4251087345, 4251115836, 4258103007, 4259830713, 4278982564, 4279090005, 4281247801, 4283872382]\n"
     ]
    },
    {
     "data": {
      "text/plain": [
       "(None, None)"
      ]
     },
     "execution_count": 31,
     "metadata": {},
     "output_type": "execute_result"
    }
   ],
   "source": [
    "dataset = orders['visitor_id'].copy()\n",
    "unique_describe(dataset)"
   ]
  },
  {
   "cell_type": "markdown",
   "metadata": {},
   "source": [
    "С учетом удаления неявных дубликатов ранее, с данными все в порядке."
   ]
  },
  {
   "cell_type": "code",
   "execution_count": 32,
   "metadata": {},
   "outputs": [
    {
     "data": {
      "text/plain": [
       "count    1.016000e+03\n",
       "mean     8.300815e+03\n",
       "std      4.212199e+04\n",
       "min      5.000000e+01\n",
       "25%      1.190000e+03\n",
       "50%      2.955000e+03\n",
       "75%      8.134250e+03\n",
       "max      1.294500e+06\n",
       "Name: revenue, dtype: float64"
      ]
     },
     "metadata": {},
     "output_type": "display_data"
    },
    {
     "data": {
      "text/plain": [
       "631"
      ]
     },
     "metadata": {},
     "output_type": "display_data"
    },
    {
     "name": "stdout",
     "output_type": "stream",
     "text": [
      "[50, 60, 70, 75, 76, 90, 100, 110, 112, 120, 130, 150, 160, 165, 170, 172, 190, 240, 250, 265, 270, 282, 290, 295, 299, 300, 320, 340, 350, 359, 360, 370, 380, 382, 383, 390, 400, 410, 420, 426, 436, 440, 450, 460, 470, 490, 495, 500, 510, 530, 540, 550, 570, 580, 590, 599, 600, 604, 610, 620, 632, 640, 650, 654, 660, 690, 697, 700, 720, 725, 730, 740, 750, 760, 770, 778, 780, 785, 790, 800, 820, 830, 840, 850, 870, 880, 890, 900, 910, 920, 950, 971, 985, 987, 990, 995, 1000, 1020, 1038, 1040, 1044, 1050, 1060, 1090, 1100, 1120, 1130, 1139, 1140, 1149, 1170, 1180, 1188, 1190, 1200, 1220, 1250, 1253, 1290, 1310, 1320, 1329, 1350, 1380, 1390, 1398, 1399, 1410, 1420, 1435, 1440, 1450, 1460, 1490, 1498, 1510, 1530, 1540, 1575, 1590, 1600, 1620, 1630, 1634, 1640, 1650, 1680, 1690, 1707, 1710, 1720, 1721, 1729, 1730, 1737, 1758, 1780, 1790, 1799, 1800, 1805, 1825, 1830, 1840, 1846, 1850, 1855, 1860, 1870, 1885, 1893, 1900, 1910, 1920, 1940, 1950, 1960, 1980, 1990, 1993, 1999, 2000, 2030, 2050, 2057, 2061, 2070, 2080, 2090, 2110, 2140, 2180, 2190, 2210, 2235, 2250, 2255, 2285, 2290, 2308, 2320, 2330, 2339, 2342, 2348, 2350, 2355, 2359, 2390, 2436, 2470, 2480, 2490, 2500, 2510, 2526, 2540, 2550, 2555, 2578, 2580, 2590, 2610, 2630, 2640, 2646, 2670, 2674, 2690, 2722, 2750, 2752, 2790, 2800, 2820, 2830, 2840, 2890, 2907, 2920, 2938, 2950, 2955, 2960, 2970, 2978, 2986, 2990, 2995, 3000, 3020, 3030, 3040, 3050, 3070, 3140, 3170, 3180, 3190, 3210, 3220, 3240, 3250, 3260, 3261, 3270, 3290, 3320, 3330, 3340, 3354, 3390, 3404, 3410, 3430, 3450, 3468, 3470, 3480, 3488, 3490, 3500, 3520, 3525, 3550, 3559, 3564, 3590, 3650, 3680, 3739, 3740, 3760, 3780, 3806, 3826, 3888, 3890, 3910, 3950, 3980, 3990, 4008, 4020, 4120, 4140, 4180, 4185, 4188, 4190, 4195, 4210, 4240, 4283, 4299, 4363, 4370, 4390, 4400, 4480, 4495, 4499, 4500, 4580, 4600, 4620, 4650, 4685, 4690, 4698, 4710, 4717, 4780, 4790, 4840, 4877, 4880, 4900, 4920, 4930, 4970, 4980, 4990, 5000, 5020, 5030, 5099, 5100, 5119, 5150, 5160, 5170, 5249, 5270, 5280, 5330, 5350, 5365, 5369, 5390, 5400, 5415, 5430, 5440, 5480, 5490, 5530, 5539, 5555, 5622, 5640, 5688, 5690, 5719, 5740, 5770, 5776, 5790, 5840, 5870, 5900, 6000, 6015, 6060, 6145, 6149, 6180, 6194, 6201, 6230, 6242, 6248, 6250, 6260, 6288, 6329, 6350, 6382, 6420, 6441, 6445, 6490, 6536, 6585, 6590, 6645, 6660, 6674, 6677, 6700, 6716, 6780, 6890, 6922, 6930, 6940, 6990, 7024, 7110, 7129, 7240, 7300, 7370, 7390, 7485, 7500, 7550, 7690, 7860, 7890, 7990, 7995, 8000, 8090, 8099, 8240, 8250, 8290, 8390, 8529, 8585, 8590, 8600, 8777, 8780, 8800, 8850, 8877, 8885, 8950, 8990, 8999, 9024, 9050, 9080, 9232, 9290, 9300, 9310, 9368, 9400, 9448, 9490, 9690, 9750, 9759, 9800, 9850, 9870, 9880, 9934, 9980, 9990, 10160, 10170, 10195, 10250, 10440, 10450, 10485, 10550, 10590, 10765, 10850, 10980, 11050, 11115, 11135, 11249, 11250, 11440, 11490, 11565, 11688, 11711, 11985, 11990, 12150, 12336, 12470, 12490, 12550, 12562, 12642, 12680, 12810, 12888, 12990, 13070, 13203, 13354, 13390, 13710, 13769, 13770, 13860, 13990, 14000, 14155, 14250, 14271, 14400, 14489, 14490, 14610, 14970, 14990, 15072, 15277, 15380, 15416, 15417, 15450, 15485, 15850, 16279, 16480, 16490, 16680, 16770, 16950, 16990, 17030, 17300, 17379, 17422, 17600, 17650, 17792, 17868, 17940, 17990, 18010, 18100, 18270, 18350, 18463, 18464, 18557, 18560, 18893, 18900, 18990, 19240, 19260, 19280, 19386, 19490, 19520, 19660, 19990, 20026, 20100, 20290, 20990, 22040, 22785, 23750, 24350, 24381, 24744, 24860, 24990, 25080, 25250, 25790, 25890, 26550, 27490, 27600, 27985, 28060, 28350, 28490, 28750, 29499, 30649, 31350, 31680, 32350, 33050, 33405, 33970, 34550, 34990, 35485, 35890, 37150, 37550, 38160, 39500, 40740, 41450, 42740, 43690, 43990, 45780, 45880, 49495, 52480, 52900, 53904, 58550, 60450, 65710, 66350, 67990, 86620, 92550, 202740, 1294500]\n"
     ]
    },
    {
     "data": {
      "text/plain": [
       "(None, None)"
      ]
     },
     "execution_count": 32,
     "metadata": {},
     "output_type": "execute_result"
    }
   ],
   "source": [
    "dataset = orders['revenue'].copy()\n",
    "unique_describe(dataset)"
   ]
  },
  {
   "cell_type": "code",
   "execution_count": 33,
   "metadata": {},
   "outputs": [
    {
     "data": {
      "text/plain": [
       "count     1016\n",
       "unique       2\n",
       "top          B\n",
       "freq       548\n",
       "Name: group, dtype: object"
      ]
     },
     "metadata": {},
     "output_type": "display_data"
    },
    {
     "data": {
      "text/plain": [
       "2"
      ]
     },
     "metadata": {},
     "output_type": "display_data"
    },
    {
     "name": "stdout",
     "output_type": "stream",
     "text": [
      "['A', 'B']\n"
     ]
    },
    {
     "data": {
      "text/plain": [
       "(None, None)"
      ]
     },
     "execution_count": 33,
     "metadata": {},
     "output_type": "execute_result"
    }
   ],
   "source": [
    "dataset = orders['group'].copy()\n",
    "unique_describe(dataset)"
   ]
  },
  {
   "cell_type": "markdown",
   "metadata": {},
   "source": [
    "В стобцах revenue и group ничего необычного."
   ]
  },
  {
   "cell_type": "markdown",
   "metadata": {},
   "source": [
    "Проверим уникальные значения датасета visitors."
   ]
  },
  {
   "cell_type": "code",
   "execution_count": 34,
   "metadata": {},
   "outputs": [
    {
     "data": {
      "text/plain": [
       "count     62.000000\n",
       "mean     607.290323\n",
       "std      114.400560\n",
       "min      361.000000\n",
       "25%      534.000000\n",
       "50%      624.500000\n",
       "75%      710.500000\n",
       "max      770.000000\n",
       "Name: visitors, dtype: float64"
      ]
     },
     "metadata": {},
     "output_type": "display_data"
    },
    {
     "data": {
      "text/plain": [
       "58"
      ]
     },
     "metadata": {},
     "output_type": "display_data"
    },
    {
     "name": "stdout",
     "output_type": "stream",
     "text": [
      "[361, 369, 378, 395, 406, 412, 413, 421, 468, 487, 490, 502, 507, 509, 531, 543, 544, 546, 560, 575, 577, 581, 594, 595, 609, 610, 617, 619, 621, 628, 644, 646, 650, 654, 655, 656, 667, 668, 676, 679, 699, 707, 709, 711, 713, 717, 718, 719, 720, 721, 722, 735, 737, 746, 748, 756, 769, 770]\n"
     ]
    },
    {
     "data": {
      "text/plain": [
       "(None, None)"
      ]
     },
     "execution_count": 34,
     "metadata": {},
     "output_type": "execute_result"
    }
   ],
   "source": [
    "dataset = visitors['visitors'].copy()\n",
    "unique_describe(dataset)"
   ]
  },
  {
   "cell_type": "code",
   "execution_count": 35,
   "metadata": {},
   "outputs": [
    {
     "data": {
      "text/plain": [
       "count     62\n",
       "unique     2\n",
       "top        A\n",
       "freq      31\n",
       "Name: group, dtype: object"
      ]
     },
     "metadata": {},
     "output_type": "display_data"
    },
    {
     "data": {
      "text/plain": [
       "2"
      ]
     },
     "metadata": {},
     "output_type": "display_data"
    },
    {
     "name": "stdout",
     "output_type": "stream",
     "text": [
      "['A', 'B']\n"
     ]
    },
    {
     "data": {
      "text/plain": [
       "(None, None)"
      ]
     },
     "execution_count": 35,
     "metadata": {},
     "output_type": "execute_result"
    }
   ],
   "source": [
    "dataset = visitors['group'].copy()\n",
    "unique_describe(dataset)"
   ]
  },
  {
   "cell_type": "markdown",
   "metadata": {},
   "source": [
    "В стобцах visitors и group визуально в порядке с уникальными значениями."
   ]
  },
  {
   "cell_type": "code",
   "execution_count": 36,
   "metadata": {},
   "outputs": [
    {
     "name": "stdout",
     "output_type": "stream",
     "text": [
      "9 9 0.0\n"
     ]
    }
   ],
   "source": [
    "# Сверяем наши данные по количеству строк по окончанию обработки данных в датасетах\n",
    "a, b = len(temp), len(hypothesis)\n",
    "print(len(temp), len(hypothesis), round((a - b) / a * 100, 2))"
   ]
  },
  {
   "cell_type": "code",
   "execution_count": 37,
   "metadata": {},
   "outputs": [
    {
     "name": "stdout",
     "output_type": "stream",
     "text": [
      "1197 1016 15.12\n"
     ]
    }
   ],
   "source": [
    "a, b = len(temp1), len(orders)\n",
    "print(len(temp1), len(orders), round((a - b) / a * 100, 2))"
   ]
  },
  {
   "cell_type": "code",
   "execution_count": 38,
   "metadata": {},
   "outputs": [
    {
     "name": "stdout",
     "output_type": "stream",
     "text": [
      "62 62 0.0\n"
     ]
    }
   ],
   "source": [
    "a, b = len(temp2), len(visitors)\n",
    "print(len(temp2), len(visitors), round((a - b) / a * 100, 2))"
   ]
  },
  {
   "cell_type": "markdown",
   "metadata": {},
   "source": [
    "### Определим временной интервал данных"
   ]
  },
  {
   "cell_type": "code",
   "execution_count": 39,
   "metadata": {},
   "outputs": [
    {
     "data": {
      "text/plain": [
       "'Минимальная дата поездки: 2019-08-01 00:00:00'"
      ]
     },
     "metadata": {},
     "output_type": "display_data"
    },
    {
     "data": {
      "text/plain": [
       "'Максимальная дата поездки: 2019-08-31 00:00:00'"
      ]
     },
     "metadata": {},
     "output_type": "display_data"
    }
   ],
   "source": [
    "# Найдем минимальную и максимальную даты в orders\n",
    "display(f'Минимальная дата поездки: {orders[\"date\"].min()}')\n",
    "display(f'Максимальная дата поездки: {orders[\"date\"].max()}')"
   ]
  },
  {
   "cell_type": "code",
   "execution_count": 40,
   "metadata": {},
   "outputs": [
    {
     "data": {
      "text/plain": [
       "'Минимальная дата поездки: 2019-08-01 00:00:00'"
      ]
     },
     "metadata": {},
     "output_type": "display_data"
    },
    {
     "data": {
      "text/plain": [
       "'Максимальная дата поездки: 2019-08-31 00:00:00'"
      ]
     },
     "metadata": {},
     "output_type": "display_data"
    }
   ],
   "source": [
    "# Найдем минимальную и максимальную даты в visitors\n",
    "display(f'Минимальная дата поездки: {visitors[\"date\"].min()}')\n",
    "display(f'Максимальная дата поездки: {visitors[\"date\"].max()}')"
   ]
  },
  {
   "cell_type": "markdown",
   "metadata": {},
   "source": [
    "В исследование попали данные с 8 августа 2019 года по 31 августа 2019 года."
   ]
  },
  {
   "cell_type": "markdown",
   "metadata": {},
   "source": [
    "**Выводы:**\n",
    "\n",
    "На данном этапе мы:\n",
    "- преобразовали тип данных в столбцах date датасетов orders и visitors на datetime;\n",
    "- проверили данные во всех датасетах на пропуски, они не обнаружены;\n",
    "- проверили данные на явные дубликаты, не обнаружили их;\n",
    "- проверили данные на неявные дубликаты. Удалили в датасетах orders и visitors тех покупателей, которые несколько раз посещали сайт в период тестирования и почему-то попали в разные группы;\n",
    "- изучили уникальные значения в датасете orders и visitors, не нашли ничего необычного.\n",
    "- выяснили, что период анализа у нас с 01-08-2019 по 31-08-2019."
   ]
  },
  {
   "cell_type": "markdown",
   "metadata": {},
   "source": [
    "<a id=\"3\"></a>"
   ]
  },
  {
   "cell_type": "markdown",
   "metadata": {},
   "source": [
    "## Приоритизация гипотез"
   ]
  },
  {
   "cell_type": "markdown",
   "metadata": {},
   "source": [
    "Чтобы максимизировать ожидаемое улучшение ключевых метрик бизнеса, необходимо приоритизировать сформулированные гипотезы. Воспользуемся одним из самых популярных способов приоритизации задач ICE (от англ. impact, confidence, effort / ease «влияние, уверенность, усилия / простота»). У этого метода есть модификация RICE (R от англ. reach, «охват»). Их отличие в том, что RICE учитывает скольких пользователей затронет изменение, которое мы хотим внести. ICE от RICE отличается также легкостью и быстротой в расчетах.\n",
    "Приритизируем наши гипотезы обоими методами и проанализируем результат."
   ]
  },
  {
   "cell_type": "code",
   "execution_count": 41,
   "metadata": {},
   "outputs": [
    {
     "data": {
      "text/html": [
       "<div>\n",
       "<style scoped>\n",
       "    .dataframe tbody tr th:only-of-type {\n",
       "        vertical-align: middle;\n",
       "    }\n",
       "\n",
       "    .dataframe tbody tr th {\n",
       "        vertical-align: top;\n",
       "    }\n",
       "\n",
       "    .dataframe thead th {\n",
       "        text-align: right;\n",
       "    }\n",
       "</style>\n",
       "<table border=\"1\" class=\"dataframe\">\n",
       "  <thead>\n",
       "    <tr style=\"text-align: right;\">\n",
       "      <th></th>\n",
       "      <th>hypothesis</th>\n",
       "      <th>reach</th>\n",
       "      <th>impact</th>\n",
       "      <th>confidence</th>\n",
       "      <th>efforts</th>\n",
       "      <th>id</th>\n",
       "    </tr>\n",
       "  </thead>\n",
       "  <tbody>\n",
       "    <tr>\n",
       "      <th>0</th>\n",
       "      <td>Добавить два новых канала привлечения трафика, что позволит привлекать на 30% больше пользователей</td>\n",
       "      <td>3</td>\n",
       "      <td>10</td>\n",
       "      <td>8</td>\n",
       "      <td>6</td>\n",
       "      <td>1</td>\n",
       "    </tr>\n",
       "    <tr>\n",
       "      <th>1</th>\n",
       "      <td>Запустить собственную службу доставки, что сократит срок доставки заказов</td>\n",
       "      <td>2</td>\n",
       "      <td>5</td>\n",
       "      <td>4</td>\n",
       "      <td>10</td>\n",
       "      <td>2</td>\n",
       "    </tr>\n",
       "    <tr>\n",
       "      <th>2</th>\n",
       "      <td>Добавить блоки рекомендаций товаров на сайт интернет магазина, чтобы повысить конверсию и средний чек заказа</td>\n",
       "      <td>8</td>\n",
       "      <td>3</td>\n",
       "      <td>7</td>\n",
       "      <td>3</td>\n",
       "      <td>3</td>\n",
       "    </tr>\n",
       "    <tr>\n",
       "      <th>3</th>\n",
       "      <td>Изменить структура категорий, что увеличит конверсию, т.к. пользователи быстрее найдут нужный товар</td>\n",
       "      <td>8</td>\n",
       "      <td>3</td>\n",
       "      <td>3</td>\n",
       "      <td>8</td>\n",
       "      <td>4</td>\n",
       "    </tr>\n",
       "    <tr>\n",
       "      <th>4</th>\n",
       "      <td>Изменить цвет фона главной страницы, чтобы увеличить вовлеченность пользователей</td>\n",
       "      <td>3</td>\n",
       "      <td>1</td>\n",
       "      <td>1</td>\n",
       "      <td>1</td>\n",
       "      <td>5</td>\n",
       "    </tr>\n",
       "    <tr>\n",
       "      <th>5</th>\n",
       "      <td>Добавить страницу отзывов клиентов о магазине, что позволит увеличить количество заказов</td>\n",
       "      <td>3</td>\n",
       "      <td>2</td>\n",
       "      <td>2</td>\n",
       "      <td>3</td>\n",
       "      <td>6</td>\n",
       "    </tr>\n",
       "    <tr>\n",
       "      <th>6</th>\n",
       "      <td>Показать на главной странице баннеры с актуальными акциями и распродажами, чтобы увеличить конверсию</td>\n",
       "      <td>5</td>\n",
       "      <td>3</td>\n",
       "      <td>8</td>\n",
       "      <td>3</td>\n",
       "      <td>7</td>\n",
       "    </tr>\n",
       "    <tr>\n",
       "      <th>7</th>\n",
       "      <td>Добавить форму подписки на все основные страницы, чтобы собрать базу клиентов для email-рассылок</td>\n",
       "      <td>10</td>\n",
       "      <td>7</td>\n",
       "      <td>8</td>\n",
       "      <td>5</td>\n",
       "      <td>8</td>\n",
       "    </tr>\n",
       "    <tr>\n",
       "      <th>8</th>\n",
       "      <td>Запустить акцию, дающую скидку на товар в день рождения</td>\n",
       "      <td>1</td>\n",
       "      <td>9</td>\n",
       "      <td>9</td>\n",
       "      <td>5</td>\n",
       "      <td>9</td>\n",
       "    </tr>\n",
       "  </tbody>\n",
       "</table>\n",
       "</div>"
      ],
      "text/plain": [
       "                                                                                                     hypothesis  \\\n",
       "0            Добавить два новых канала привлечения трафика, что позволит привлекать на 30% больше пользователей   \n",
       "1                                     Запустить собственную службу доставки, что сократит срок доставки заказов   \n",
       "2  Добавить блоки рекомендаций товаров на сайт интернет магазина, чтобы повысить конверсию и средний чек заказа   \n",
       "3           Изменить структура категорий, что увеличит конверсию, т.к. пользователи быстрее найдут нужный товар   \n",
       "4                              Изменить цвет фона главной страницы, чтобы увеличить вовлеченность пользователей   \n",
       "5                      Добавить страницу отзывов клиентов о магазине, что позволит увеличить количество заказов   \n",
       "6          Показать на главной странице баннеры с актуальными акциями и распродажами, чтобы увеличить конверсию   \n",
       "7              Добавить форму подписки на все основные страницы, чтобы собрать базу клиентов для email-рассылок   \n",
       "8                                                       Запустить акцию, дающую скидку на товар в день рождения   \n",
       "\n",
       "   reach  impact  confidence  efforts  id  \n",
       "0      3      10           8        6   1  \n",
       "1      2       5           4       10   2  \n",
       "2      8       3           7        3   3  \n",
       "3      8       3           3        8   4  \n",
       "4      3       1           1        1   5  \n",
       "5      3       2           2        3   6  \n",
       "6      5       3           8        3   7  \n",
       "7     10       7           8        5   8  \n",
       "8      1       9           9        5   9  "
      ]
     },
     "execution_count": 41,
     "metadata": {},
     "output_type": "execute_result"
    }
   ],
   "source": [
    "hypothesis['id'] = np.arange(len(hypothesis))[::1]+1\n",
    "hypothesis"
   ]
  },
  {
   "cell_type": "markdown",
   "metadata": {},
   "source": [
    "Мы видим список из 9 гипотез, каждый параметр которых оценен по шкале от 0 до 10."
   ]
  },
  {
   "cell_type": "code",
   "execution_count": 42,
   "metadata": {},
   "outputs": [
    {
     "data": {
      "text/html": [
       "<div>\n",
       "<style scoped>\n",
       "    .dataframe tbody tr th:only-of-type {\n",
       "        vertical-align: middle;\n",
       "    }\n",
       "\n",
       "    .dataframe tbody tr th {\n",
       "        vertical-align: top;\n",
       "    }\n",
       "\n",
       "    .dataframe thead th {\n",
       "        text-align: right;\n",
       "    }\n",
       "</style>\n",
       "<table border=\"1\" class=\"dataframe\">\n",
       "  <thead>\n",
       "    <tr style=\"text-align: right;\">\n",
       "      <th></th>\n",
       "      <th>id</th>\n",
       "      <th>hypothesis</th>\n",
       "      <th>ICE</th>\n",
       "    </tr>\n",
       "  </thead>\n",
       "  <tbody>\n",
       "    <tr>\n",
       "      <th>8</th>\n",
       "      <td>9</td>\n",
       "      <td>Запустить акцию, дающую скидку на товар в день рождения</td>\n",
       "      <td>16.20</td>\n",
       "    </tr>\n",
       "    <tr>\n",
       "      <th>0</th>\n",
       "      <td>1</td>\n",
       "      <td>Добавить два новых канала привлечения трафика, что позволит привлекать на 30% больше пользователей</td>\n",
       "      <td>13.33</td>\n",
       "    </tr>\n",
       "    <tr>\n",
       "      <th>7</th>\n",
       "      <td>8</td>\n",
       "      <td>Добавить форму подписки на все основные страницы, чтобы собрать базу клиентов для email-рассылок</td>\n",
       "      <td>11.20</td>\n",
       "    </tr>\n",
       "    <tr>\n",
       "      <th>6</th>\n",
       "      <td>7</td>\n",
       "      <td>Показать на главной странице баннеры с актуальными акциями и распродажами, чтобы увеличить конверсию</td>\n",
       "      <td>8.00</td>\n",
       "    </tr>\n",
       "    <tr>\n",
       "      <th>2</th>\n",
       "      <td>3</td>\n",
       "      <td>Добавить блоки рекомендаций товаров на сайт интернет магазина, чтобы повысить конверсию и средний чек заказа</td>\n",
       "      <td>7.00</td>\n",
       "    </tr>\n",
       "    <tr>\n",
       "      <th>1</th>\n",
       "      <td>2</td>\n",
       "      <td>Запустить собственную службу доставки, что сократит срок доставки заказов</td>\n",
       "      <td>2.00</td>\n",
       "    </tr>\n",
       "    <tr>\n",
       "      <th>5</th>\n",
       "      <td>6</td>\n",
       "      <td>Добавить страницу отзывов клиентов о магазине, что позволит увеличить количество заказов</td>\n",
       "      <td>1.33</td>\n",
       "    </tr>\n",
       "    <tr>\n",
       "      <th>3</th>\n",
       "      <td>4</td>\n",
       "      <td>Изменить структура категорий, что увеличит конверсию, т.к. пользователи быстрее найдут нужный товар</td>\n",
       "      <td>1.12</td>\n",
       "    </tr>\n",
       "    <tr>\n",
       "      <th>4</th>\n",
       "      <td>5</td>\n",
       "      <td>Изменить цвет фона главной страницы, чтобы увеличить вовлеченность пользователей</td>\n",
       "      <td>1.00</td>\n",
       "    </tr>\n",
       "  </tbody>\n",
       "</table>\n",
       "</div>"
      ],
      "text/plain": [
       "   id  \\\n",
       "8   9   \n",
       "0   1   \n",
       "7   8   \n",
       "6   7   \n",
       "2   3   \n",
       "1   2   \n",
       "5   6   \n",
       "3   4   \n",
       "4   5   \n",
       "\n",
       "                                                                                                     hypothesis  \\\n",
       "8                                                       Запустить акцию, дающую скидку на товар в день рождения   \n",
       "0            Добавить два новых канала привлечения трафика, что позволит привлекать на 30% больше пользователей   \n",
       "7              Добавить форму подписки на все основные страницы, чтобы собрать базу клиентов для email-рассылок   \n",
       "6          Показать на главной странице баннеры с актуальными акциями и распродажами, чтобы увеличить конверсию   \n",
       "2  Добавить блоки рекомендаций товаров на сайт интернет магазина, чтобы повысить конверсию и средний чек заказа   \n",
       "1                                     Запустить собственную службу доставки, что сократит срок доставки заказов   \n",
       "5                      Добавить страницу отзывов клиентов о магазине, что позволит увеличить количество заказов   \n",
       "3           Изменить структура категорий, что увеличит конверсию, т.к. пользователи быстрее найдут нужный товар   \n",
       "4                              Изменить цвет фона главной страницы, чтобы увеличить вовлеченность пользователей   \n",
       "\n",
       "     ICE  \n",
       "8  16.20  \n",
       "0  13.33  \n",
       "7  11.20  \n",
       "6   8.00  \n",
       "2   7.00  \n",
       "1   2.00  \n",
       "5   1.33  \n",
       "3   1.12  \n",
       "4   1.00  "
      ]
     },
     "execution_count": 42,
     "metadata": {},
     "output_type": "execute_result"
    }
   ],
   "source": [
    "# Применим фреймворк ICE для приоритизации гипотез. Отсортируем результат по убыванию приоритета\n",
    "hypothesis['ICE'] = round((hypothesis['impact'] * hypothesis['confidence'] / hypothesis['efforts']),2)\n",
    "hypothesis[['id', 'hypothesis', 'ICE']].sort_values(by='ICE', ascending=False)"
   ]
  },
  {
   "cell_type": "markdown",
   "metadata": {},
   "source": [
    "Наиболее перспективные гипотезы по ICE имеют следующие id: 9, 1, 8, 7, 3"
   ]
  },
  {
   "cell_type": "code",
   "execution_count": 43,
   "metadata": {},
   "outputs": [
    {
     "data": {
      "text/html": [
       "<div>\n",
       "<style scoped>\n",
       "    .dataframe tbody tr th:only-of-type {\n",
       "        vertical-align: middle;\n",
       "    }\n",
       "\n",
       "    .dataframe tbody tr th {\n",
       "        vertical-align: top;\n",
       "    }\n",
       "\n",
       "    .dataframe thead th {\n",
       "        text-align: right;\n",
       "    }\n",
       "</style>\n",
       "<table border=\"1\" class=\"dataframe\">\n",
       "  <thead>\n",
       "    <tr style=\"text-align: right;\">\n",
       "      <th></th>\n",
       "      <th>id</th>\n",
       "      <th>hypothesis</th>\n",
       "      <th>RICE</th>\n",
       "    </tr>\n",
       "  </thead>\n",
       "  <tbody>\n",
       "    <tr>\n",
       "      <th>7</th>\n",
       "      <td>8</td>\n",
       "      <td>Добавить форму подписки на все основные страницы, чтобы собрать базу клиентов для email-рассылок</td>\n",
       "      <td>112.0</td>\n",
       "    </tr>\n",
       "    <tr>\n",
       "      <th>2</th>\n",
       "      <td>3</td>\n",
       "      <td>Добавить блоки рекомендаций товаров на сайт интернет магазина, чтобы повысить конверсию и средний чек заказа</td>\n",
       "      <td>56.0</td>\n",
       "    </tr>\n",
       "    <tr>\n",
       "      <th>0</th>\n",
       "      <td>1</td>\n",
       "      <td>Добавить два новых канала привлечения трафика, что позволит привлекать на 30% больше пользователей</td>\n",
       "      <td>40.0</td>\n",
       "    </tr>\n",
       "    <tr>\n",
       "      <th>6</th>\n",
       "      <td>7</td>\n",
       "      <td>Показать на главной странице баннеры с актуальными акциями и распродажами, чтобы увеличить конверсию</td>\n",
       "      <td>40.0</td>\n",
       "    </tr>\n",
       "    <tr>\n",
       "      <th>8</th>\n",
       "      <td>9</td>\n",
       "      <td>Запустить акцию, дающую скидку на товар в день рождения</td>\n",
       "      <td>16.2</td>\n",
       "    </tr>\n",
       "    <tr>\n",
       "      <th>3</th>\n",
       "      <td>4</td>\n",
       "      <td>Изменить структура категорий, что увеличит конверсию, т.к. пользователи быстрее найдут нужный товар</td>\n",
       "      <td>9.0</td>\n",
       "    </tr>\n",
       "    <tr>\n",
       "      <th>1</th>\n",
       "      <td>2</td>\n",
       "      <td>Запустить собственную службу доставки, что сократит срок доставки заказов</td>\n",
       "      <td>4.0</td>\n",
       "    </tr>\n",
       "    <tr>\n",
       "      <th>5</th>\n",
       "      <td>6</td>\n",
       "      <td>Добавить страницу отзывов клиентов о магазине, что позволит увеличить количество заказов</td>\n",
       "      <td>4.0</td>\n",
       "    </tr>\n",
       "    <tr>\n",
       "      <th>4</th>\n",
       "      <td>5</td>\n",
       "      <td>Изменить цвет фона главной страницы, чтобы увеличить вовлеченность пользователей</td>\n",
       "      <td>3.0</td>\n",
       "    </tr>\n",
       "  </tbody>\n",
       "</table>\n",
       "</div>"
      ],
      "text/plain": [
       "   id  \\\n",
       "7   8   \n",
       "2   3   \n",
       "0   1   \n",
       "6   7   \n",
       "8   9   \n",
       "3   4   \n",
       "1   2   \n",
       "5   6   \n",
       "4   5   \n",
       "\n",
       "                                                                                                     hypothesis  \\\n",
       "7              Добавить форму подписки на все основные страницы, чтобы собрать базу клиентов для email-рассылок   \n",
       "2  Добавить блоки рекомендаций товаров на сайт интернет магазина, чтобы повысить конверсию и средний чек заказа   \n",
       "0            Добавить два новых канала привлечения трафика, что позволит привлекать на 30% больше пользователей   \n",
       "6          Показать на главной странице баннеры с актуальными акциями и распродажами, чтобы увеличить конверсию   \n",
       "8                                                       Запустить акцию, дающую скидку на товар в день рождения   \n",
       "3           Изменить структура категорий, что увеличит конверсию, т.к. пользователи быстрее найдут нужный товар   \n",
       "1                                     Запустить собственную службу доставки, что сократит срок доставки заказов   \n",
       "5                      Добавить страницу отзывов клиентов о магазине, что позволит увеличить количество заказов   \n",
       "4                              Изменить цвет фона главной страницы, чтобы увеличить вовлеченность пользователей   \n",
       "\n",
       "    RICE  \n",
       "7  112.0  \n",
       "2   56.0  \n",
       "0   40.0  \n",
       "6   40.0  \n",
       "8   16.2  \n",
       "3    9.0  \n",
       "1    4.0  \n",
       "5    4.0  \n",
       "4    3.0  "
      ]
     },
     "execution_count": 43,
     "metadata": {},
     "output_type": "execute_result"
    }
   ],
   "source": [
    "# Применим фреймворк RICE для приоритизации гипотез. Отсортируем результат по убыванию приоритета\n",
    "hypothesis['RICE'] = round((hypothesis['reach'] * hypothesis['impact'] * hypothesis['confidence'] /  \\\n",
    "                     hypothesis['efforts']), 2)\n",
    "hypothesis[['id', 'hypothesis', 'RICE']].sort_values(by='RICE', ascending=False)"
   ]
  },
  {
   "cell_type": "markdown",
   "metadata": {},
   "source": [
    "Наиболее перспективные гипотезы по RICE имеют id: 8, 3, 1, 7, 9"
   ]
  },
  {
   "cell_type": "markdown",
   "metadata": {},
   "source": [
    "Мы видим в топ-5 одни и те же гипотезы, но их приоритизация изменилась. 9ая и 3ья гипотезы поменялись местами. Так произошло потому,  что у гипотезы 3 reach равен 8, а у 9ой - 1, 3ья затронет гораздо больше пользователей, чем 9ая. У 8ой гипотезы, которая вышла на первое место, самый высокий охват пользователей - 10, высокая степень уверености и влияния на пользователей. У 1 и 7 гипотез, также высокая степень уверенности."
   ]
  },
  {
   "cell_type": "markdown",
   "metadata": {},
   "source": [
    "**Выводы:**\n",
    "\n",
    "На данном этапе мы приоритизировали гипотезы методами ICE и RICE.\n",
    "\n",
    "Следует в первую очередь обратить внимание на следующие гипотезы:\n",
    "- Запустить акцию, дающую скидку на товар в день рождения;\n",
    "- Добавить два новых канала привлечения трафика, что позволит привлекать на 30% больше пользователей;\n",
    "- Добавить форму подписки на все основные страницы, чтобы собрать базу клиентов для email-рассылок;\n",
    "- Показать на главной странице баннеры с актуальными акциями и распродажами, чтобы увеличить конверсию;\n",
    "- Добавить блоки рекомендаций товаров на сайт интернет магазина, чтобы повысить конверсию и средний чек заказа.\n",
    "  \n",
    "Если необходимо принять во внимание охват пользователей, то ранжирование будет следующее:\n",
    "\n",
    "- Добавить форму подписки на все основные страницы, чтобы собрать базу клиентов для email-рассылок;\n",
    "- Добавить блоки рекомендаций товаров на сайт интернет магазина, чтобы повысить конверсию и средний чек заказа;\n",
    "- Добавить два новых канала привлечения трафика, что позволит привлекать на 30% больше пользователей;\n",
    "- Показать на главной странице баннеры с актуальными акциями и распродажами, чтобы увеличить конверсию;\n",
    "- Запустить акцию, дающую скидку на товар в день рождения.   "
   ]
  },
  {
   "cell_type": "markdown",
   "metadata": {},
   "source": [
    "<a id=\"4\"></a>"
   ]
  },
  {
   "cell_type": "markdown",
   "metadata": {},
   "source": [
    "## Анализ A/B-теста"
   ]
  },
  {
   "cell_type": "markdown",
   "metadata": {},
   "source": [
    "Результаты проведения A/B-теста хранятся в датсетах orders и visitors. Проанализируем их. Перед началом анализа сравним размер выборок."
   ]
  },
  {
   "cell_type": "code",
   "execution_count": 44,
   "metadata": {
    "scrolled": true
   },
   "outputs": [
    {
     "name": "stdout",
     "output_type": "stream",
     "text": [
      "Количество покупателей (группа A): 45.73 %\n",
      "Количество покупателей (группа B): 54.27 %\n",
      "Разница: -8.53 %\n"
     ]
    }
   ],
   "source": [
    "# Посчитаем количество покупателей из группы A и группы B, а также насколько эти выборки отличаются\n",
    "print('Количество покупателей (группа A):',\n",
    "      round(orders.query('group == \"A\"')['visitor_id'].nunique()/orders['visitor_id'].nunique()*100, 2),'%')\n",
    "print('Количество покупателей (группа B):', \n",
    "      round(orders.query('group == \"B\"')['visitor_id'].nunique()/orders['visitor_id'].nunique()*100, 2),'%')\n",
    "print('Разница:', round(orders.query('group == \"A\"')['visitor_id'].nunique()/orders['visitor_id'].nunique()*100 - \\\n",
    "                  orders.query('group == \"B\"')['visitor_id'].nunique()/orders['visitor_id'].nunique()*100, 2),'%')"
   ]
  },
  {
   "cell_type": "markdown",
   "metadata": {},
   "source": [
    "Vы видим, что наши выборки распределены неравномерно. Группа А у нас получается на 8,53% меньше группы B. Тут тем не менее важно отметить, что не столько важен сам баланс пользователей между группами, а достижение группами нужного количества участников теста для обеспечения требуемой статистической мощности нашего теста. Этот размер группы обычно высчитывается с помощью специальных калькуляторов на этапе проектирования А/В теста."
   ]
  },
  {
   "cell_type": "markdown",
   "metadata": {},
   "source": [
    "### График кумулятивной выручки по группам"
   ]
  },
  {
   "cell_type": "code",
   "execution_count": 45,
   "metadata": {},
   "outputs": [],
   "source": [
    "# Создаем массив уникальных пар значений дат и групп теста\n",
    "dates_groups = orders[['date','group']].drop_duplicates() "
   ]
  },
  {
   "cell_type": "code",
   "execution_count": 46,
   "metadata": {},
   "outputs": [],
   "source": [
    "# Получаем агрегированные кумулятивные по дням данные о заказах\n",
    "orders_agg = dates_groups.apply(lambda x: orders[np.logical_and(\n",
    "                                orders['date'] <= x['date'], \n",
    "                                orders['group'] == x['group'])].agg({\n",
    "                                                                     'date' : 'max', \n",
    "                                                                     'group' : 'max', \n",
    "                                                                     'transaction_id' : 'nunique', \n",
    "                                                                     'visitor_id' : 'nunique', \n",
    "                                                                     'revenue' : 'sum'\n",
    "                                                                    }), axis=1).sort_values(by=['date','group'])"
   ]
  },
  {
   "cell_type": "code",
   "execution_count": 47,
   "metadata": {},
   "outputs": [],
   "source": [
    "# Получаем агрегированные кумулятивные по дням данные о посетителях интернет-магазина \n",
    "visitors_agg = dates_groups.apply(lambda x: visitors[np.logical_and(\n",
    "                                  visitors['date'] <= x['date'], \n",
    "                                  visitors['group'] == x['group'])].agg({\n",
    "                                                                         'date' : 'max', \n",
    "                                                                         'group' : 'max', \n",
    "                                                                         'visitors' : 'sum'\n",
    "                                                                        }), axis=1).sort_values(by=['date','group'])"
   ]
  },
  {
   "cell_type": "code",
   "execution_count": 48,
   "metadata": {},
   "outputs": [
    {
     "data": {
      "text/html": [
       "<div>\n",
       "<style scoped>\n",
       "    .dataframe tbody tr th:only-of-type {\n",
       "        vertical-align: middle;\n",
       "    }\n",
       "\n",
       "    .dataframe tbody tr th {\n",
       "        vertical-align: top;\n",
       "    }\n",
       "\n",
       "    .dataframe thead th {\n",
       "        text-align: right;\n",
       "    }\n",
       "</style>\n",
       "<table border=\"1\" class=\"dataframe\">\n",
       "  <thead>\n",
       "    <tr style=\"text-align: right;\">\n",
       "      <th></th>\n",
       "      <th>date</th>\n",
       "      <th>group</th>\n",
       "      <th>orders</th>\n",
       "      <th>buyers</th>\n",
       "      <th>revenue</th>\n",
       "      <th>visitors</th>\n",
       "    </tr>\n",
       "  </thead>\n",
       "  <tbody>\n",
       "    <tr>\n",
       "      <th>0</th>\n",
       "      <td>2019-08-01</td>\n",
       "      <td>A</td>\n",
       "      <td>23</td>\n",
       "      <td>19</td>\n",
       "      <td>142779</td>\n",
       "      <td>719</td>\n",
       "    </tr>\n",
       "    <tr>\n",
       "      <th>1</th>\n",
       "      <td>2019-08-01</td>\n",
       "      <td>B</td>\n",
       "      <td>17</td>\n",
       "      <td>17</td>\n",
       "      <td>59758</td>\n",
       "      <td>713</td>\n",
       "    </tr>\n",
       "    <tr>\n",
       "      <th>2</th>\n",
       "      <td>2019-08-02</td>\n",
       "      <td>A</td>\n",
       "      <td>42</td>\n",
       "      <td>36</td>\n",
       "      <td>234381</td>\n",
       "      <td>1338</td>\n",
       "    </tr>\n",
       "    <tr>\n",
       "      <th>3</th>\n",
       "      <td>2019-08-02</td>\n",
       "      <td>B</td>\n",
       "      <td>40</td>\n",
       "      <td>39</td>\n",
       "      <td>221801</td>\n",
       "      <td>1294</td>\n",
       "    </tr>\n",
       "    <tr>\n",
       "      <th>4</th>\n",
       "      <td>2019-08-03</td>\n",
       "      <td>A</td>\n",
       "      <td>66</td>\n",
       "      <td>60</td>\n",
       "      <td>346854</td>\n",
       "      <td>1845</td>\n",
       "    </tr>\n",
       "  </tbody>\n",
       "</table>\n",
       "</div>"
      ],
      "text/plain": [
       "        date group  orders  buyers  revenue  visitors\n",
       "0 2019-08-01     A      23      19   142779       719\n",
       "1 2019-08-01     B      17      17    59758       713\n",
       "2 2019-08-02     A      42      36   234381      1338\n",
       "3 2019-08-02     B      40      39   221801      1294\n",
       "4 2019-08-03     A      66      60   346854      1845"
      ]
     },
     "execution_count": 48,
     "metadata": {},
     "output_type": "execute_result"
    }
   ],
   "source": [
    "# Объединяем кумулятивные данные в одной таблице\n",
    "unite_data = orders_agg.merge(visitors_agg, left_on=['date', 'group'], right_on=['date', 'group'])\n",
    "unite_data.columns = ['date', 'group', 'orders', 'buyers', 'revenue', 'visitors']\n",
    "unite_data.head()"
   ]
  },
  {
   "cell_type": "code",
   "execution_count": 49,
   "metadata": {},
   "outputs": [
    {
     "data": {
      "text/html": [
       "<div>\n",
       "<style scoped>\n",
       "    .dataframe tbody tr th:only-of-type {\n",
       "        vertical-align: middle;\n",
       "    }\n",
       "\n",
       "    .dataframe tbody tr th {\n",
       "        vertical-align: top;\n",
       "    }\n",
       "\n",
       "    .dataframe thead th {\n",
       "        text-align: right;\n",
       "    }\n",
       "</style>\n",
       "<table border=\"1\" class=\"dataframe\">\n",
       "  <thead>\n",
       "    <tr style=\"text-align: right;\">\n",
       "      <th></th>\n",
       "      <th>date</th>\n",
       "      <th>revenue</th>\n",
       "      <th>orders</th>\n",
       "    </tr>\n",
       "  </thead>\n",
       "  <tbody>\n",
       "    <tr>\n",
       "      <th>0</th>\n",
       "      <td>2019-08-01</td>\n",
       "      <td>142779</td>\n",
       "      <td>23</td>\n",
       "    </tr>\n",
       "    <tr>\n",
       "      <th>2</th>\n",
       "      <td>2019-08-02</td>\n",
       "      <td>234381</td>\n",
       "      <td>42</td>\n",
       "    </tr>\n",
       "    <tr>\n",
       "      <th>4</th>\n",
       "      <td>2019-08-03</td>\n",
       "      <td>346854</td>\n",
       "      <td>66</td>\n",
       "    </tr>\n",
       "    <tr>\n",
       "      <th>6</th>\n",
       "      <td>2019-08-04</td>\n",
       "      <td>388030</td>\n",
       "      <td>77</td>\n",
       "    </tr>\n",
       "    <tr>\n",
       "      <th>8</th>\n",
       "      <td>2019-08-05</td>\n",
       "      <td>474413</td>\n",
       "      <td>99</td>\n",
       "    </tr>\n",
       "  </tbody>\n",
       "</table>\n",
       "</div>"
      ],
      "text/plain": [
       "        date  revenue  orders\n",
       "0 2019-08-01   142779      23\n",
       "2 2019-08-02   234381      42\n",
       "4 2019-08-03   346854      66\n",
       "6 2019-08-04   388030      77\n",
       "8 2019-08-05   474413      99"
      ]
     },
     "execution_count": 49,
     "metadata": {},
     "output_type": "execute_result"
    }
   ],
   "source": [
    "# Сделаем срез с кумулятивным количеством заказов и кумулятивной выручкой по дням в группе А\n",
    "unite_revenue_A = unite_data.query('group == \"A\"')[['date','revenue', 'orders']]\n",
    "unite_revenue_A.head()"
   ]
  },
  {
   "cell_type": "code",
   "execution_count": 50,
   "metadata": {},
   "outputs": [
    {
     "data": {
      "text/html": [
       "<div>\n",
       "<style scoped>\n",
       "    .dataframe tbody tr th:only-of-type {\n",
       "        vertical-align: middle;\n",
       "    }\n",
       "\n",
       "    .dataframe tbody tr th {\n",
       "        vertical-align: top;\n",
       "    }\n",
       "\n",
       "    .dataframe thead th {\n",
       "        text-align: right;\n",
       "    }\n",
       "</style>\n",
       "<table border=\"1\" class=\"dataframe\">\n",
       "  <thead>\n",
       "    <tr style=\"text-align: right;\">\n",
       "      <th></th>\n",
       "      <th>date</th>\n",
       "      <th>revenue</th>\n",
       "      <th>orders</th>\n",
       "    </tr>\n",
       "  </thead>\n",
       "  <tbody>\n",
       "    <tr>\n",
       "      <th>1</th>\n",
       "      <td>2019-08-01</td>\n",
       "      <td>59758</td>\n",
       "      <td>17</td>\n",
       "    </tr>\n",
       "    <tr>\n",
       "      <th>3</th>\n",
       "      <td>2019-08-02</td>\n",
       "      <td>221801</td>\n",
       "      <td>40</td>\n",
       "    </tr>\n",
       "    <tr>\n",
       "      <th>5</th>\n",
       "      <td>2019-08-03</td>\n",
       "      <td>288850</td>\n",
       "      <td>54</td>\n",
       "    </tr>\n",
       "    <tr>\n",
       "      <th>7</th>\n",
       "      <td>2019-08-04</td>\n",
       "      <td>385740</td>\n",
       "      <td>68</td>\n",
       "    </tr>\n",
       "    <tr>\n",
       "      <th>9</th>\n",
       "      <td>2019-08-05</td>\n",
       "      <td>475648</td>\n",
       "      <td>89</td>\n",
       "    </tr>\n",
       "  </tbody>\n",
       "</table>\n",
       "</div>"
      ],
      "text/plain": [
       "        date  revenue  orders\n",
       "1 2019-08-01    59758      17\n",
       "3 2019-08-02   221801      40\n",
       "5 2019-08-03   288850      54\n",
       "7 2019-08-04   385740      68\n",
       "9 2019-08-05   475648      89"
      ]
     },
     "execution_count": 50,
     "metadata": {},
     "output_type": "execute_result"
    }
   ],
   "source": [
    "# Сделаем срез с кумулятивным количеством заказов и кумулятивной выручкой по дням в группе B\n",
    "unite_revenue_B = unite_data.query('group == \"B\"')[['date','revenue', 'orders']]\n",
    "unite_revenue_B.head()"
   ]
  },
  {
   "cell_type": "code",
   "execution_count": 51,
   "metadata": {
    "scrolled": false
   },
   "outputs": [
    {
     "data": {
      "image/png": "[encoded data removed]",
      "text/plain": [
       "<Figure size 1000x600 with 1 Axes>"
      ]
     },
     "metadata": {},
     "output_type": "display_data"
    }
   ],
   "source": [
    "# Задаем размер графиков\n",
    "plt.figure(figsize=(10, 6)) \n",
    "\n",
    "# Строим график выручки группы А\n",
    "sns.lineplot(data=unite_revenue_A,  x='date', y='revenue', \n",
    "             color='blue', linestyle='-', label='A')\n",
    "\n",
    "# Строим график выручки группы B\n",
    "sns.lineplot(data=unite_revenue_B,  x='date', y='revenue', \n",
    "             color='green', linestyle='-', label='B')\n",
    "\n",
    "plt.gca().yaxis.set_major_formatter(lambda x, pos: '{:,.0f}'.format(x))\n",
    "plt.xticks(rotation=45, ha='right')\n",
    "plt.legend() \n",
    "plt.xlabel('Дата')\n",
    "plt.ylabel('Кумулятивная выручка')\n",
    "plt.title('График изменения кумулятивной выручки по группам A и B')\n",
    "sns.despine()\n",
    "\n",
    "plt.show()"
   ]
  },
  {
   "cell_type": "markdown",
   "metadata": {},
   "source": [
    "Выручка в группе А достаточно равномерно увеличивается на протяжении всего теста, это хорошо, но она ниже, чем в группе B. А вот в группе В виден резкий скачок роста выручки 19 августа, после чего рост также стабилизируется. С чем связан этот скачок пока непонятно, может быть число заказов выросло или выручка с одного заказа стала больше. Проверим это."
   ]
  },
  {
   "cell_type": "code",
   "execution_count": 52,
   "metadata": {},
   "outputs": [
    {
     "data": {
      "text/html": [
       "<div>\n",
       "<style scoped>\n",
       "    .dataframe tbody tr th:only-of-type {\n",
       "        vertical-align: middle;\n",
       "    }\n",
       "\n",
       "    .dataframe tbody tr th {\n",
       "        vertical-align: top;\n",
       "    }\n",
       "\n",
       "    .dataframe thead th {\n",
       "        text-align: right;\n",
       "    }\n",
       "</style>\n",
       "<table border=\"1\" class=\"dataframe\">\n",
       "  <thead>\n",
       "    <tr style=\"text-align: right;\">\n",
       "      <th></th>\n",
       "      <th>transaction_id</th>\n",
       "      <th>revenue</th>\n",
       "    </tr>\n",
       "    <tr>\n",
       "      <th>date</th>\n",
       "      <th></th>\n",
       "      <th></th>\n",
       "    </tr>\n",
       "  </thead>\n",
       "  <tbody>\n",
       "    <tr>\n",
       "      <th>2019-08-01</th>\n",
       "      <td>40</td>\n",
       "      <td>202537</td>\n",
       "    </tr>\n",
       "    <tr>\n",
       "      <th>2019-08-02</th>\n",
       "      <td>42</td>\n",
       "      <td>253645</td>\n",
       "    </tr>\n",
       "    <tr>\n",
       "      <th>2019-08-03</th>\n",
       "      <td>38</td>\n",
       "      <td>179522</td>\n",
       "    </tr>\n",
       "    <tr>\n",
       "      <th>2019-08-04</th>\n",
       "      <td>25</td>\n",
       "      <td>138066</td>\n",
       "    </tr>\n",
       "    <tr>\n",
       "      <th>2019-08-05</th>\n",
       "      <td>43</td>\n",
       "      <td>176291</td>\n",
       "    </tr>\n",
       "    <tr>\n",
       "      <th>2019-08-06</th>\n",
       "      <td>38</td>\n",
       "      <td>255761</td>\n",
       "    </tr>\n",
       "    <tr>\n",
       "      <th>2019-08-07</th>\n",
       "      <td>39</td>\n",
       "      <td>342412</td>\n",
       "    </tr>\n",
       "    <tr>\n",
       "      <th>2019-08-08</th>\n",
       "      <td>36</td>\n",
       "      <td>238780</td>\n",
       "    </tr>\n",
       "    <tr>\n",
       "      <th>2019-08-09</th>\n",
       "      <td>30</td>\n",
       "      <td>237403</td>\n",
       "    </tr>\n",
       "    <tr>\n",
       "      <th>2019-08-10</th>\n",
       "      <td>37</td>\n",
       "      <td>257437</td>\n",
       "    </tr>\n",
       "    <tr>\n",
       "      <th>2019-08-11</th>\n",
       "      <td>23</td>\n",
       "      <td>113725</td>\n",
       "    </tr>\n",
       "    <tr>\n",
       "      <th>2019-08-12</th>\n",
       "      <td>38</td>\n",
       "      <td>324446</td>\n",
       "    </tr>\n",
       "    <tr>\n",
       "      <th>2019-08-13</th>\n",
       "      <td>34</td>\n",
       "      <td>381329</td>\n",
       "    </tr>\n",
       "    <tr>\n",
       "      <th>2019-08-14</th>\n",
       "      <td>31</td>\n",
       "      <td>150606</td>\n",
       "    </tr>\n",
       "    <tr>\n",
       "      <th>2019-08-15</th>\n",
       "      <td>36</td>\n",
       "      <td>391036</td>\n",
       "    </tr>\n",
       "    <tr>\n",
       "      <th>2019-08-16</th>\n",
       "      <td>36</td>\n",
       "      <td>214101</td>\n",
       "    </tr>\n",
       "    <tr>\n",
       "      <th>2019-08-17</th>\n",
       "      <td>19</td>\n",
       "      <td>115605</td>\n",
       "    </tr>\n",
       "    <tr>\n",
       "      <th>2019-08-18</th>\n",
       "      <td>20</td>\n",
       "      <td>94904</td>\n",
       "    </tr>\n",
       "    <tr>\n",
       "      <th>2019-08-19</th>\n",
       "      <td>42</td>\n",
       "      <td>1598113</td>\n",
       "    </tr>\n",
       "    <tr>\n",
       "      <th>2019-08-20</th>\n",
       "      <td>30</td>\n",
       "      <td>205953</td>\n",
       "    </tr>\n",
       "    <tr>\n",
       "      <th>2019-08-21</th>\n",
       "      <td>32</td>\n",
       "      <td>310516</td>\n",
       "    </tr>\n",
       "    <tr>\n",
       "      <th>2019-08-22</th>\n",
       "      <td>31</td>\n",
       "      <td>234093</td>\n",
       "    </tr>\n",
       "    <tr>\n",
       "      <th>2019-08-23</th>\n",
       "      <td>33</td>\n",
       "      <td>135132</td>\n",
       "    </tr>\n",
       "    <tr>\n",
       "      <th>2019-08-24</th>\n",
       "      <td>27</td>\n",
       "      <td>209879</td>\n",
       "    </tr>\n",
       "    <tr>\n",
       "      <th>2019-08-25</th>\n",
       "      <td>20</td>\n",
       "      <td>131141</td>\n",
       "    </tr>\n",
       "    <tr>\n",
       "      <th>2019-08-26</th>\n",
       "      <td>38</td>\n",
       "      <td>330653</td>\n",
       "    </tr>\n",
       "    <tr>\n",
       "      <th>2019-08-27</th>\n",
       "      <td>34</td>\n",
       "      <td>296697</td>\n",
       "    </tr>\n",
       "    <tr>\n",
       "      <th>2019-08-28</th>\n",
       "      <td>37</td>\n",
       "      <td>157660</td>\n",
       "    </tr>\n",
       "    <tr>\n",
       "      <th>2019-08-29</th>\n",
       "      <td>32</td>\n",
       "      <td>302400</td>\n",
       "    </tr>\n",
       "    <tr>\n",
       "      <th>2019-08-30</th>\n",
       "      <td>30</td>\n",
       "      <td>287403</td>\n",
       "    </tr>\n",
       "    <tr>\n",
       "      <th>2019-08-31</th>\n",
       "      <td>25</td>\n",
       "      <td>166382</td>\n",
       "    </tr>\n",
       "  </tbody>\n",
       "</table>\n",
       "</div>"
      ],
      "text/plain": [
       "            transaction_id  revenue\n",
       "date                               \n",
       "2019-08-01              40   202537\n",
       "2019-08-02              42   253645\n",
       "2019-08-03              38   179522\n",
       "2019-08-04              25   138066\n",
       "2019-08-05              43   176291\n",
       "2019-08-06              38   255761\n",
       "2019-08-07              39   342412\n",
       "2019-08-08              36   238780\n",
       "2019-08-09              30   237403\n",
       "2019-08-10              37   257437\n",
       "2019-08-11              23   113725\n",
       "2019-08-12              38   324446\n",
       "2019-08-13              34   381329\n",
       "2019-08-14              31   150606\n",
       "2019-08-15              36   391036\n",
       "2019-08-16              36   214101\n",
       "2019-08-17              19   115605\n",
       "2019-08-18              20    94904\n",
       "2019-08-19              42  1598113\n",
       "2019-08-20              30   205953\n",
       "2019-08-21              32   310516\n",
       "2019-08-22              31   234093\n",
       "2019-08-23              33   135132\n",
       "2019-08-24              27   209879\n",
       "2019-08-25              20   131141\n",
       "2019-08-26              38   330653\n",
       "2019-08-27              34   296697\n",
       "2019-08-28              37   157660\n",
       "2019-08-29              32   302400\n",
       "2019-08-30              30   287403\n",
       "2019-08-31              25   166382"
      ]
     },
     "execution_count": 52,
     "metadata": {},
     "output_type": "execute_result"
    }
   ],
   "source": [
    "check1 = orders.groupby('date').agg({'transaction_id':'count', 'revenue':'sum'})\n",
    "check1"
   ]
  },
  {
   "cell_type": "markdown",
   "metadata": {},
   "source": [
    "Действительно 19 августа мы видим резкий скачок в сумме выручки - 1598113 руб. Была совершена дорогая покупка."
   ]
  },
  {
   "cell_type": "markdown",
   "metadata": {},
   "source": [
    "### График кумулятивного среднего чека по группам"
   ]
  },
  {
   "cell_type": "code",
   "execution_count": 53,
   "metadata": {},
   "outputs": [
    {
     "data": {
      "image/png": "[encoded data removed]",
      "text/plain": [
       "<Figure size 1000x600 with 1 Axes>"
      ]
     },
     "metadata": {},
     "output_type": "display_data"
    }
   ],
   "source": [
    "# Задаем размер графиков\n",
    "plt.figure(figsize=(10, 6)) \n",
    "\n",
    "# Строим график среднего чека группы А\n",
    "sns.lineplot(data=unite_revenue_A,  x='date', y=unite_revenue_A['revenue']/unite_revenue_A['orders'], \n",
    "             color='blue', linestyle='-', label='A')\n",
    "\n",
    "# Строим график среднего чека группы B\n",
    "sns.lineplot(data=unite_revenue_B,  x='date', y=unite_revenue_B['revenue']/unite_revenue_B['orders'], \n",
    "             color='green', linestyle='-', label='B')\n",
    "\n",
    "plt.xticks(rotation=45, ha='right')\n",
    "plt.legend() \n",
    "plt.xlabel('Дата')\n",
    "plt.ylabel('Кумулятивный средний чек')\n",
    "plt.title('График изменения кумулятивного среднего чека по группам A и B')\n",
    "sns.despine()\n",
    "\n",
    "plt.show()"
   ]
  },
  {
   "cell_type": "markdown",
   "metadata": {},
   "source": [
    "Средний чек для группы А установился, начиная с 14 августа. А вот средний чек в группе В совершил скачок 19 августа, после чего мы видим падение. Как мы выяснили выше, такой скачок выручки и среднего чека в группе B все-таки связан с единоразовой крупной покупкой."
   ]
  },
  {
   "cell_type": "markdown",
   "metadata": {},
   "source": [
    "### График относительного изменения кумулятивного среднего чека группы B к группе A"
   ]
  },
  {
   "cell_type": "code",
   "execution_count": 54,
   "metadata": {},
   "outputs": [
    {
     "data": {
      "text/html": [
       "<div>\n",
       "<style scoped>\n",
       "    .dataframe tbody tr th:only-of-type {\n",
       "        vertical-align: middle;\n",
       "    }\n",
       "\n",
       "    .dataframe tbody tr th {\n",
       "        vertical-align: top;\n",
       "    }\n",
       "\n",
       "    .dataframe thead th {\n",
       "        text-align: right;\n",
       "    }\n",
       "</style>\n",
       "<table border=\"1\" class=\"dataframe\">\n",
       "  <thead>\n",
       "    <tr style=\"text-align: right;\">\n",
       "      <th></th>\n",
       "      <th>date</th>\n",
       "      <th>revenueA</th>\n",
       "      <th>ordersA</th>\n",
       "      <th>revenueB</th>\n",
       "      <th>ordersB</th>\n",
       "    </tr>\n",
       "  </thead>\n",
       "  <tbody>\n",
       "    <tr>\n",
       "      <th>0</th>\n",
       "      <td>2019-08-01</td>\n",
       "      <td>142779</td>\n",
       "      <td>23</td>\n",
       "      <td>59758</td>\n",
       "      <td>17</td>\n",
       "    </tr>\n",
       "    <tr>\n",
       "      <th>1</th>\n",
       "      <td>2019-08-02</td>\n",
       "      <td>234381</td>\n",
       "      <td>42</td>\n",
       "      <td>221801</td>\n",
       "      <td>40</td>\n",
       "    </tr>\n",
       "    <tr>\n",
       "      <th>2</th>\n",
       "      <td>2019-08-03</td>\n",
       "      <td>346854</td>\n",
       "      <td>66</td>\n",
       "      <td>288850</td>\n",
       "      <td>54</td>\n",
       "    </tr>\n",
       "    <tr>\n",
       "      <th>3</th>\n",
       "      <td>2019-08-04</td>\n",
       "      <td>388030</td>\n",
       "      <td>77</td>\n",
       "      <td>385740</td>\n",
       "      <td>68</td>\n",
       "    </tr>\n",
       "    <tr>\n",
       "      <th>4</th>\n",
       "      <td>2019-08-05</td>\n",
       "      <td>474413</td>\n",
       "      <td>99</td>\n",
       "      <td>475648</td>\n",
       "      <td>89</td>\n",
       "    </tr>\n",
       "  </tbody>\n",
       "</table>\n",
       "</div>"
      ],
      "text/plain": [
       "        date  revenueA  ordersA  revenueB  ordersB\n",
       "0 2019-08-01    142779       23     59758       17\n",
       "1 2019-08-02    234381       42    221801       40\n",
       "2 2019-08-03    346854       66    288850       54\n",
       "3 2019-08-04    388030       77    385740       68\n",
       "4 2019-08-05    474413       99    475648       89"
      ]
     },
     "execution_count": 54,
     "metadata": {},
     "output_type": "execute_result"
    }
   ],
   "source": [
    "# Объединим данные unite_revenue_A и unite_revenue_B\n",
    "unite_revenue_merged = unite_revenue_A.merge(unite_revenue_B, left_on='date', right_on='date', how='left',\n",
    "                                          suffixes=['A', 'B'])\n",
    "unite_revenue_merged.head()"
   ]
  },
  {
   "cell_type": "code",
   "execution_count": 55,
   "metadata": {},
   "outputs": [
    {
     "data": {
      "image/png": "[encoded data removed]",
      "text/plain": [
       "<Figure size 1000x600 with 1 Axes>"
      ]
     },
     "metadata": {},
     "output_type": "display_data"
    }
   ],
   "source": [
    "# Задаем размер графика\n",
    "plt.figure(figsize=(10, 6)) \n",
    "\n",
    "# Строим график отношения средних чеков\n",
    "sns.lineplot(data=unite_revenue_merged ,  x='date', \n",
    "             y=((unite_revenue_merged['revenueB']/unite_revenue_merged ['ordersB'])/ \\\n",
    "             (unite_revenue_merged['revenueA']/unite_revenue_merged ['ordersA'])-1), \n",
    "             color='blue', linestyle='-')\n",
    "\n",
    "# Добавляем ось X\n",
    "plt.axhline(y=0, color='black', linestyle='--') \n",
    "\n",
    "plt.xticks(rotation=45, ha='right')\n",
    "plt.xlabel('Дата')\n",
    "plt.ylabel('Относительное изменение среднего чека')\n",
    "plt.title('График относительного изменения кумулятивного среднего чека группы B к группе A')\n",
    "sns.despine()\n",
    "\n",
    "plt.show()"
   ]
  },
  {
   "cell_type": "markdown",
   "metadata": {},
   "source": [
    "6-7 августа и 18 августа график резко возрастает. Вероятно, причина в выбросах, таких как аномально дорогие покупки."
   ]
  },
  {
   "cell_type": "markdown",
   "metadata": {},
   "source": [
    "### График  кумулятивного среднего количества заказов на посетителя по  группам"
   ]
  },
  {
   "cell_type": "code",
   "execution_count": 56,
   "metadata": {},
   "outputs": [
    {
     "data": {
      "text/html": [
       "<div>\n",
       "<style scoped>\n",
       "    .dataframe tbody tr th:only-of-type {\n",
       "        vertical-align: middle;\n",
       "    }\n",
       "\n",
       "    .dataframe tbody tr th {\n",
       "        vertical-align: top;\n",
       "    }\n",
       "\n",
       "    .dataframe thead th {\n",
       "        text-align: right;\n",
       "    }\n",
       "</style>\n",
       "<table border=\"1\" class=\"dataframe\">\n",
       "  <thead>\n",
       "    <tr style=\"text-align: right;\">\n",
       "      <th></th>\n",
       "      <th>date</th>\n",
       "      <th>group</th>\n",
       "      <th>orders</th>\n",
       "      <th>buyers</th>\n",
       "      <th>revenue</th>\n",
       "      <th>visitors</th>\n",
       "      <th>conversion</th>\n",
       "    </tr>\n",
       "  </thead>\n",
       "  <tbody>\n",
       "    <tr>\n",
       "      <th>0</th>\n",
       "      <td>2019-08-01</td>\n",
       "      <td>A</td>\n",
       "      <td>23</td>\n",
       "      <td>19</td>\n",
       "      <td>142779</td>\n",
       "      <td>719</td>\n",
       "      <td>0.031989</td>\n",
       "    </tr>\n",
       "    <tr>\n",
       "      <th>1</th>\n",
       "      <td>2019-08-01</td>\n",
       "      <td>B</td>\n",
       "      <td>17</td>\n",
       "      <td>17</td>\n",
       "      <td>59758</td>\n",
       "      <td>713</td>\n",
       "      <td>0.023843</td>\n",
       "    </tr>\n",
       "    <tr>\n",
       "      <th>2</th>\n",
       "      <td>2019-08-02</td>\n",
       "      <td>A</td>\n",
       "      <td>42</td>\n",
       "      <td>36</td>\n",
       "      <td>234381</td>\n",
       "      <td>1338</td>\n",
       "      <td>0.031390</td>\n",
       "    </tr>\n",
       "    <tr>\n",
       "      <th>3</th>\n",
       "      <td>2019-08-02</td>\n",
       "      <td>B</td>\n",
       "      <td>40</td>\n",
       "      <td>39</td>\n",
       "      <td>221801</td>\n",
       "      <td>1294</td>\n",
       "      <td>0.030912</td>\n",
       "    </tr>\n",
       "    <tr>\n",
       "      <th>4</th>\n",
       "      <td>2019-08-03</td>\n",
       "      <td>A</td>\n",
       "      <td>66</td>\n",
       "      <td>60</td>\n",
       "      <td>346854</td>\n",
       "      <td>1845</td>\n",
       "      <td>0.035772</td>\n",
       "    </tr>\n",
       "  </tbody>\n",
       "</table>\n",
       "</div>"
      ],
      "text/plain": [
       "        date group  orders  buyers  revenue  visitors  conversion\n",
       "0 2019-08-01     A      23      19   142779       719    0.031989\n",
       "1 2019-08-01     B      17      17    59758       713    0.023843\n",
       "2 2019-08-02     A      42      36   234381      1338    0.031390\n",
       "3 2019-08-02     B      40      39   221801      1294    0.030912\n",
       "4 2019-08-03     A      66      60   346854      1845    0.035772"
      ]
     },
     "execution_count": 56,
     "metadata": {},
     "output_type": "execute_result"
    }
   ],
   "source": [
    "# Добавим в датасет unite_data столбцец conversion, где рассчитаем среднее количество заказов на посетителя\n",
    "# считаем кумулятивную конверсию\n",
    "unite_data['conversion'] = unite_data['orders']/unite_data['visitors']\n",
    "unite_data.head()"
   ]
  },
  {
   "cell_type": "code",
   "execution_count": 57,
   "metadata": {},
   "outputs": [
    {
     "data": {
      "text/html": [
       "<div>\n",
       "<style scoped>\n",
       "    .dataframe tbody tr th:only-of-type {\n",
       "        vertical-align: middle;\n",
       "    }\n",
       "\n",
       "    .dataframe tbody tr th {\n",
       "        vertical-align: top;\n",
       "    }\n",
       "\n",
       "    .dataframe thead th {\n",
       "        text-align: right;\n",
       "    }\n",
       "</style>\n",
       "<table border=\"1\" class=\"dataframe\">\n",
       "  <thead>\n",
       "    <tr style=\"text-align: right;\">\n",
       "      <th></th>\n",
       "      <th>date</th>\n",
       "      <th>group</th>\n",
       "      <th>orders</th>\n",
       "      <th>buyers</th>\n",
       "      <th>revenue</th>\n",
       "      <th>visitors</th>\n",
       "      <th>conversion</th>\n",
       "    </tr>\n",
       "  </thead>\n",
       "  <tbody>\n",
       "    <tr>\n",
       "      <th>0</th>\n",
       "      <td>2019-08-01</td>\n",
       "      <td>A</td>\n",
       "      <td>23</td>\n",
       "      <td>19</td>\n",
       "      <td>142779</td>\n",
       "      <td>719</td>\n",
       "      <td>0.031989</td>\n",
       "    </tr>\n",
       "    <tr>\n",
       "      <th>2</th>\n",
       "      <td>2019-08-02</td>\n",
       "      <td>A</td>\n",
       "      <td>42</td>\n",
       "      <td>36</td>\n",
       "      <td>234381</td>\n",
       "      <td>1338</td>\n",
       "      <td>0.031390</td>\n",
       "    </tr>\n",
       "    <tr>\n",
       "      <th>4</th>\n",
       "      <td>2019-08-03</td>\n",
       "      <td>A</td>\n",
       "      <td>66</td>\n",
       "      <td>60</td>\n",
       "      <td>346854</td>\n",
       "      <td>1845</td>\n",
       "      <td>0.035772</td>\n",
       "    </tr>\n",
       "    <tr>\n",
       "      <th>6</th>\n",
       "      <td>2019-08-04</td>\n",
       "      <td>A</td>\n",
       "      <td>77</td>\n",
       "      <td>71</td>\n",
       "      <td>388030</td>\n",
       "      <td>2562</td>\n",
       "      <td>0.030055</td>\n",
       "    </tr>\n",
       "    <tr>\n",
       "      <th>8</th>\n",
       "      <td>2019-08-05</td>\n",
       "      <td>A</td>\n",
       "      <td>99</td>\n",
       "      <td>92</td>\n",
       "      <td>474413</td>\n",
       "      <td>3318</td>\n",
       "      <td>0.029837</td>\n",
       "    </tr>\n",
       "  </tbody>\n",
       "</table>\n",
       "</div>"
      ],
      "text/plain": [
       "        date group  orders  buyers  revenue  visitors  conversion\n",
       "0 2019-08-01     A      23      19   142779       719    0.031989\n",
       "2 2019-08-02     A      42      36   234381      1338    0.031390\n",
       "4 2019-08-03     A      66      60   346854      1845    0.035772\n",
       "6 2019-08-04     A      77      71   388030      2562    0.030055\n",
       "8 2019-08-05     A      99      92   474413      3318    0.029837"
      ]
     },
     "execution_count": 57,
     "metadata": {},
     "output_type": "execute_result"
    }
   ],
   "source": [
    "# Сделаем срез по группе A\n",
    "unite_data_A = unite_data.query('group == \"A\"')\n",
    "unite_data_A.head()"
   ]
  },
  {
   "cell_type": "code",
   "execution_count": 58,
   "metadata": {},
   "outputs": [
    {
     "data": {
      "text/html": [
       "<div>\n",
       "<style scoped>\n",
       "    .dataframe tbody tr th:only-of-type {\n",
       "        vertical-align: middle;\n",
       "    }\n",
       "\n",
       "    .dataframe tbody tr th {\n",
       "        vertical-align: top;\n",
       "    }\n",
       "\n",
       "    .dataframe thead th {\n",
       "        text-align: right;\n",
       "    }\n",
       "</style>\n",
       "<table border=\"1\" class=\"dataframe\">\n",
       "  <thead>\n",
       "    <tr style=\"text-align: right;\">\n",
       "      <th></th>\n",
       "      <th>date</th>\n",
       "      <th>group</th>\n",
       "      <th>orders</th>\n",
       "      <th>buyers</th>\n",
       "      <th>revenue</th>\n",
       "      <th>visitors</th>\n",
       "      <th>conversion</th>\n",
       "    </tr>\n",
       "  </thead>\n",
       "  <tbody>\n",
       "    <tr>\n",
       "      <th>1</th>\n",
       "      <td>2019-08-01</td>\n",
       "      <td>B</td>\n",
       "      <td>17</td>\n",
       "      <td>17</td>\n",
       "      <td>59758</td>\n",
       "      <td>713</td>\n",
       "      <td>0.023843</td>\n",
       "    </tr>\n",
       "    <tr>\n",
       "      <th>3</th>\n",
       "      <td>2019-08-02</td>\n",
       "      <td>B</td>\n",
       "      <td>40</td>\n",
       "      <td>39</td>\n",
       "      <td>221801</td>\n",
       "      <td>1294</td>\n",
       "      <td>0.030912</td>\n",
       "    </tr>\n",
       "    <tr>\n",
       "      <th>5</th>\n",
       "      <td>2019-08-03</td>\n",
       "      <td>B</td>\n",
       "      <td>54</td>\n",
       "      <td>53</td>\n",
       "      <td>288850</td>\n",
       "      <td>1803</td>\n",
       "      <td>0.029950</td>\n",
       "    </tr>\n",
       "    <tr>\n",
       "      <th>7</th>\n",
       "      <td>2019-08-04</td>\n",
       "      <td>B</td>\n",
       "      <td>68</td>\n",
       "      <td>66</td>\n",
       "      <td>385740</td>\n",
       "      <td>2573</td>\n",
       "      <td>0.026428</td>\n",
       "    </tr>\n",
       "    <tr>\n",
       "      <th>9</th>\n",
       "      <td>2019-08-05</td>\n",
       "      <td>B</td>\n",
       "      <td>89</td>\n",
       "      <td>87</td>\n",
       "      <td>475648</td>\n",
       "      <td>3280</td>\n",
       "      <td>0.027134</td>\n",
       "    </tr>\n",
       "  </tbody>\n",
       "</table>\n",
       "</div>"
      ],
      "text/plain": [
       "        date group  orders  buyers  revenue  visitors  conversion\n",
       "1 2019-08-01     B      17      17    59758       713    0.023843\n",
       "3 2019-08-02     B      40      39   221801      1294    0.030912\n",
       "5 2019-08-03     B      54      53   288850      1803    0.029950\n",
       "7 2019-08-04     B      68      66   385740      2573    0.026428\n",
       "9 2019-08-05     B      89      87   475648      3280    0.027134"
      ]
     },
     "execution_count": 58,
     "metadata": {},
     "output_type": "execute_result"
    }
   ],
   "source": [
    "# Сделаем срез по группе B\n",
    "unite_data_B = unite_data.query('group == \"B\"')\n",
    "unite_data_B.head()"
   ]
  },
  {
   "cell_type": "code",
   "execution_count": 59,
   "metadata": {},
   "outputs": [
    {
     "data": {
      "image/png": "[encoded data removed]",
      "text/plain": [
       "<Figure size 1000x600 with 1 Axes>"
      ]
     },
     "metadata": {},
     "output_type": "display_data"
    }
   ],
   "source": [
    "# Задаем размер графиков\n",
    "plt.figure(figsize=(10, 6)) \n",
    "\n",
    "# Строим график среднего количества заказов на посетителя группы А\n",
    "sns.lineplot(data=unite_data_A,  x='date', y='conversion', \n",
    "             color='blue', linestyle='-', label='A')\n",
    "\n",
    "# Строим график среднего количества заказов на посетителя группы B\n",
    "sns.lineplot(data=unite_data_B,  x='date', y='conversion', \n",
    "             color='green', linestyle='-', label='B')\n",
    "\n",
    "# Задаем масштаб осей\n",
    "plt.axis([unite_data_B['date'].min(), unite_data_B['date'].max(), 0.022, 0.036])\n",
    "\n",
    "plt.xticks(rotation=45, ha='right')\n",
    "plt.legend() \n",
    "plt.xlabel('Дата')\n",
    "plt.ylabel('Кумулятивное среднее количество заказов')\n",
    "plt.title('График изменения кумулятивного среднего количества заказов на посетителя по группам A и B')\n",
    "sns.despine()\n",
    "\n",
    "plt.show()"
   ]
  },
  {
   "cell_type": "markdown",
   "metadata": {},
   "source": [
    "На начальном этапе теста среднее количество покупок на посетителя по группам дало большой рост, причем пики группы B на 1-2 дня опережали пики группы A. Затем к 5 августа мы видим серьезное падение среднего количества заказов. После 15 августа оба графика выровнилясь и среднее количество заказов стабилизировалось. Среднее количество заказов в группе B в целом выше."
   ]
  },
  {
   "cell_type": "markdown",
   "metadata": {},
   "source": [
    "### График  относительного изменения кумулятивного среднего количества заказов на посетителя группы A к группе B"
   ]
  },
  {
   "cell_type": "code",
   "execution_count": 60,
   "metadata": {},
   "outputs": [
    {
     "data": {
      "text/html": [
       "<div>\n",
       "<style scoped>\n",
       "    .dataframe tbody tr th:only-of-type {\n",
       "        vertical-align: middle;\n",
       "    }\n",
       "\n",
       "    .dataframe tbody tr th {\n",
       "        vertical-align: top;\n",
       "    }\n",
       "\n",
       "    .dataframe thead th {\n",
       "        text-align: right;\n",
       "    }\n",
       "</style>\n",
       "<table border=\"1\" class=\"dataframe\">\n",
       "  <thead>\n",
       "    <tr style=\"text-align: right;\">\n",
       "      <th></th>\n",
       "      <th>date</th>\n",
       "      <th>conversionA</th>\n",
       "      <th>conversionB</th>\n",
       "    </tr>\n",
       "  </thead>\n",
       "  <tbody>\n",
       "    <tr>\n",
       "      <th>0</th>\n",
       "      <td>2019-08-01</td>\n",
       "      <td>0.031989</td>\n",
       "      <td>0.023843</td>\n",
       "    </tr>\n",
       "    <tr>\n",
       "      <th>1</th>\n",
       "      <td>2019-08-02</td>\n",
       "      <td>0.031390</td>\n",
       "      <td>0.030912</td>\n",
       "    </tr>\n",
       "    <tr>\n",
       "      <th>2</th>\n",
       "      <td>2019-08-03</td>\n",
       "      <td>0.035772</td>\n",
       "      <td>0.029950</td>\n",
       "    </tr>\n",
       "    <tr>\n",
       "      <th>3</th>\n",
       "      <td>2019-08-04</td>\n",
       "      <td>0.030055</td>\n",
       "      <td>0.026428</td>\n",
       "    </tr>\n",
       "    <tr>\n",
       "      <th>4</th>\n",
       "      <td>2019-08-05</td>\n",
       "      <td>0.029837</td>\n",
       "      <td>0.027134</td>\n",
       "    </tr>\n",
       "  </tbody>\n",
       "</table>\n",
       "</div>"
      ],
      "text/plain": [
       "        date  conversionA  conversionB\n",
       "0 2019-08-01     0.031989     0.023843\n",
       "1 2019-08-02     0.031390     0.030912\n",
       "2 2019-08-03     0.035772     0.029950\n",
       "3 2019-08-04     0.030055     0.026428\n",
       "4 2019-08-05     0.029837     0.027134"
      ]
     },
     "execution_count": 60,
     "metadata": {},
     "output_type": "execute_result"
    }
   ],
   "source": [
    "# Объединим данные unite_data_A и unite_data_B\n",
    "unite_data_conversions = unite_data_A[['date','conversion']].merge(unite_data_B[['date','conversion']], \n",
    "                                                                   left_on='date', right_on='date', how='left',\n",
    "                                                                   suffixes=['A', 'B'])\n",
    "unite_data_conversions.head()"
   ]
  },
  {
   "cell_type": "code",
   "execution_count": 61,
   "metadata": {},
   "outputs": [
    {
     "data": {
      "image/png": "[encoded data removed]",
      "text/plain": [
       "<Figure size 1000x600 with 1 Axes>"
      ]
     },
     "metadata": {},
     "output_type": "display_data"
    }
   ],
   "source": [
    "# Задаем размер графикa\n",
    "plt.figure(figsize=(10, 6)) \n",
    "\n",
    "# Строим график среднего количества заказов на посетителя группы А\n",
    "sns.lineplot(data=unite_data_conversions,  x='date', \n",
    "             y=(unite_data_conversions['conversionB']/unite_data_conversions['conversionA']-1), \n",
    "             color='blue', linestyle='-')\n",
    "\n",
    "# Добавляем оси x\n",
    "plt.axhline(y=0, color='black', linestyle='--')\n",
    "plt.axhline(y=0.1, color='grey', linestyle='--')\n",
    "\n",
    "# Задаем масштаб осей\n",
    "plt.axis([unite_data_conversions['date'].min(), unite_data_conversions['date'].max(), -0.3, 0.3])\n",
    "\n",
    "plt.xticks(rotation=45, ha='right')\n",
    "plt.xlabel('Дата')\n",
    "plt.ylabel('Относительное изменение среднего количества заказов')\n",
    "plt.title('Относительное изменения кумулятивного среднего количества заказов на посетителя группы А к группе B')\n",
    "sns.despine()\n",
    "\n",
    "plt.show()"
   ]
  },
  {
   "cell_type": "markdown",
   "metadata": {},
   "source": [
    "В начале теста относительное изменение кумулятивного среднего количества заказов на посетителя группы B к группе A скачкообразно росло и падало, снова росло. После 3го августа мы видим резкий скачок вверх. Потом  снова падение, и с 15го августа относительное изменение установилось на примерно одном уровне и к концу периода видна небольшая тенденция к росту. Сейчас выводы делать сложно, необходимо сначала проанализировать аномалии, возможно они изменят или прояснят картину."
   ]
  },
  {
   "cell_type": "markdown",
   "metadata": {},
   "source": [
    "### График  количества заказов по пользователям"
   ]
  },
  {
   "cell_type": "code",
   "execution_count": 62,
   "metadata": {
    "scrolled": true
   },
   "outputs": [
    {
     "data": {
      "text/html": [
       "<div>\n",
       "<style scoped>\n",
       "    .dataframe tbody tr th:only-of-type {\n",
       "        vertical-align: middle;\n",
       "    }\n",
       "\n",
       "    .dataframe tbody tr th {\n",
       "        vertical-align: top;\n",
       "    }\n",
       "\n",
       "    .dataframe thead th {\n",
       "        text-align: right;\n",
       "    }\n",
       "</style>\n",
       "<table border=\"1\" class=\"dataframe\">\n",
       "  <thead>\n",
       "    <tr style=\"text-align: right;\">\n",
       "      <th></th>\n",
       "      <th>visitor_id</th>\n",
       "      <th>orders</th>\n",
       "    </tr>\n",
       "  </thead>\n",
       "  <tbody>\n",
       "    <tr>\n",
       "      <th>908</th>\n",
       "      <td>3967698036</td>\n",
       "      <td>3</td>\n",
       "    </tr>\n",
       "    <tr>\n",
       "      <th>55</th>\n",
       "      <td>249864742</td>\n",
       "      <td>3</td>\n",
       "    </tr>\n",
       "    <tr>\n",
       "      <th>478</th>\n",
       "      <td>2108163459</td>\n",
       "      <td>3</td>\n",
       "    </tr>\n",
       "    <tr>\n",
       "      <th>687</th>\n",
       "      <td>2988190573</td>\n",
       "      <td>3</td>\n",
       "    </tr>\n",
       "    <tr>\n",
       "      <th>890</th>\n",
       "      <td>3908431265</td>\n",
       "      <td>3</td>\n",
       "    </tr>\n",
       "  </tbody>\n",
       "</table>\n",
       "</div>"
      ],
      "text/plain": [
       "     visitor_id  orders\n",
       "908  3967698036       3\n",
       "55    249864742       3\n",
       "478  2108163459       3\n",
       "687  2988190573       3\n",
       "890  3908431265       3"
      ]
     },
     "execution_count": 62,
     "metadata": {},
     "output_type": "execute_result"
    }
   ],
   "source": [
    "# Посчитаем количество заказов по пользователям\n",
    "orders_by_users = orders.groupby('visitor_id', as_index=False).agg({'transaction_id': 'nunique'})\n",
    "\n",
    "orders_by_users.columns = ['visitor_id', 'orders']\n",
    "orders_by_users = orders_by_users.sort_values(by='orders', ascending=False)\n",
    "orders_by_users.head()"
   ]
  },
  {
   "cell_type": "code",
   "execution_count": 63,
   "metadata": {},
   "outputs": [
    {
     "data": {
      "image/png": "[encoded data removed]",
      "text/plain": [
       "<Figure size 1000x600 with 1 Axes>"
      ]
     },
     "metadata": {},
     "output_type": "display_data"
    }
   ],
   "source": [
    "# Построим точечную диаграмму числа заказов на одного пользователя\n",
    "\n",
    "# Задаем размер графикa\n",
    "plt.figure(figsize=(10, 6)) \n",
    "\n",
    "x_values = pd.Series(range(0,len(orders_by_users)))\n",
    "\n",
    "sns.scatterplot(data=orders_by_users, y=orders_by_users['orders'], x=x_values, s=50, marker='o', color='blue',\n",
    "               alpha=0.5)\n",
    "\n",
    "plt.xlabel('Пользователи')\n",
    "plt.ylabel('Количество заказов')\n",
    "plt.title('График количества заказов по пользователям')\n",
    "sns.despine()\n",
    "\n",
    "plt.show()"
   ]
  },
  {
   "cell_type": "markdown",
   "metadata": {},
   "source": [
    "Мы видим, что большинство пользователей ограничилось одной покупкой. Некоторые сделали заказ два раза, в единичных случаях - 3 раза. Думаю, что если бы мы не удалили покупателей, которые заходили много раз, но попали в разные группы тестирования, то мы бы увидели единичные большие выбросы."
   ]
  },
  {
   "cell_type": "markdown",
   "metadata": {},
   "source": [
    "### 95-й и 99-й перцентили количества заказов на пользователя"
   ]
  },
  {
   "cell_type": "code",
   "execution_count": 64,
   "metadata": {},
   "outputs": [
    {
     "name": "stdout",
     "output_type": "stream",
     "text": [
      "[1. 2.]\n"
     ]
    }
   ],
   "source": [
    "# Посчитаем 95-й и 99-й перцентили количества заказов на одного пользователя\n",
    "print(np.percentile(orders_by_users['orders'], [95, 99]))"
   ]
  },
  {
   "cell_type": "markdown",
   "metadata": {},
   "source": [
    "Не более 5% процентов покупателей оформляли больше 1 заказа, и не более 1% оформляли больше 2 заказов. Возьмем за верхнюю границу для определение аномальных пользователей 2 заказа на одного покупателя."
   ]
  },
  {
   "cell_type": "markdown",
   "metadata": {},
   "source": [
    "### График стоимостей заказов"
   ]
  },
  {
   "cell_type": "code",
   "execution_count": 65,
   "metadata": {},
   "outputs": [
    {
     "data": {
      "image/png": "[encoded data removed]",
      "text/plain": [
       "<Figure size 1000x600 with 1 Axes>"
      ]
     },
     "metadata": {},
     "output_type": "display_data"
    }
   ],
   "source": [
    "# Построим точечную диаграмму стоимости заказов\n",
    "\n",
    "# Задаем размер графикa\n",
    "plt.figure(figsize=(10, 6)) \n",
    "\n",
    "x_values = pd.Series(range(0,len(orders['revenue'])))\n",
    "\n",
    "sns.scatterplot(data=orders, y=orders['revenue'], x=x_values, s=50, marker='o', color='blue', alpha=0.5)\n",
    "\n",
    "plt.xlabel('Стоимость')\n",
    "plt.ylabel('Заказы')\n",
    "plt.title('График стоимости заказов')\n",
    "sns.despine()\n",
    "\n",
    "plt.show()"
   ]
  },
  {
   "cell_type": "markdown",
   "metadata": {},
   "source": [
    "Мы видим один выброс в районе 1 млн. 300 тысяч. руб. Какая-то очень дорогая покупка, видимо, она и вызвала всплеск за графиках кумулятивных метрик. Основная масса стоимостей заказов не превышает 25-30 тыс. рублей, но есть и те, которые стоят до 100 тысяч."
   ]
  },
  {
   "cell_type": "markdown",
   "metadata": {},
   "source": [
    "### 95-й и 99-й перцентили стоимости заказов"
   ]
  },
  {
   "cell_type": "code",
   "execution_count": 66,
   "metadata": {},
   "outputs": [
    {
     "name": "stdout",
     "output_type": "stream",
     "text": [
      "[26785. 53904.]\n"
     ]
    }
   ],
   "source": [
    "# Посчитаем 95-й и 99-й перцентили стоимости заказов\n",
    "print(np.percentile(orders['revenue'], [95, 99]))"
   ]
  },
  {
   "cell_type": "markdown",
   "metadata": {},
   "source": [
    "Не более 5% процентов покупателей оформляли заказ больше чем на 26875 руб., и не более 1% оформляли заказ больше чем на 53904 руб. Возьмем за верхнюю границу для определение аномальных стоимостей заказов  26785 руб."
   ]
  },
  {
   "cell_type": "markdown",
   "metadata": {},
   "source": [
    "### Статистическая значимость различий в среднем количестве заказов на посетителя между группами по \"сырым\" данным"
   ]
  },
  {
   "cell_type": "markdown",
   "metadata": {},
   "source": [
    "Посчитаем статистическую значимость различий в среднем количестве заказов на посетителя по \"сырым\" данным, без удаления аномальных пользователей.\n",
    "\n",
    "Сформулируем гипотезы:\n",
    "\n",
    "*Нулевая гипотеза (H0):* различий в среднем количестве заказов на посетителя между группами нет.\n",
    "\n",
    "*Альтернативная гипотеза (H1):* различия в среднем количестве заказов на посетителя между группами есть."
   ]
  },
  {
   "cell_type": "code",
   "execution_count": 67,
   "metadata": {},
   "outputs": [],
   "source": [
    "# Создадим переменные orders_by_users_A и orders_by_users_B со столбцами ['visitor_id', 'orders']. \n",
    "# В них для пользователей, которые заказывали хотя бы 1 раз, укажем число совершённых заказов\n",
    "orders_by_users_A = (orders.query('group == \"A\"').groupby('visitor_id', as_index=False).agg({\n",
    "                                                          'transaction_id': pd.Series.nunique}))\n",
    "orders_by_users_A.columns = ['visitor_id', 'orders']\n",
    "\n",
    "orders_by_users_B = (orders.query('group == \"B\"').groupby('visitor_id', as_index=False).agg({\n",
    "                                                          'transaction_id': pd.Series.nunique}))\n",
    "\n",
    "orders_by_users_B.columns = ['visitor_id', 'orders'] "
   ]
  },
  {
   "cell_type": "code",
   "execution_count": 68,
   "metadata": {},
   "outputs": [],
   "source": [
    "# Объявим переменные sample_A и sample_B, в которых пользователям из разных групп будет соответствовать \n",
    "# количество заказов. Тем, кто ничего не заказал, будут соответствовать нули \n",
    "sample_A = pd.concat([orders_by_users_A['orders'], pd.Series(0, index=np.arange(\n",
    "           visitors.query('group == \"A\"')['visitors'].sum() - len(orders_by_users_A['orders'])), name='orders',),],\n",
    "           axis=0,)\n",
    "\n",
    "sample_B = pd.concat([orders_by_users_B['orders'], pd.Series(0, index=np.arange(\n",
    "           visitors.query('group == \"B\"')['visitors'].sum() - len(orders_by_users_B['orders'])), name='orders',),],\n",
    "           axis=0,)"
   ]
  },
  {
   "cell_type": "markdown",
   "metadata": {},
   "source": [
    "Для проверки гипотез будем использовать непараметрический тест Уилкоксона-Манна-Уитни, который хорошо подходит для использования, когда в данных есть большие (по сравнению с нормальным распределением) выбросы. Данные интернет-магазина как раз из этой категории, так как данные о продажах и средних чеках редко бывают нормально распределены."
   ]
  },
  {
   "cell_type": "code",
   "execution_count": 69,
   "metadata": {},
   "outputs": [
    {
     "name": "stdout",
     "output_type": "stream",
     "text": [
      "P-value: 0.011\n",
      "Отвергаем нулевую гипотезу. Между группами есть различия в среднем количестве заказов на покупателя\n",
      "Относительное различие группы B к A: 15.980%\n"
     ]
    }
   ],
   "source": [
    "alpha = 0.05 # уровень статистической значимости, если p-value окажется меньше него, то отвергнем гипотезу\n",
    "\n",
    "result1 = st.mannwhitneyu(sample_A, sample_B)[1]\n",
    "\n",
    "print('P-value: {0:.3f}'.format(result1))\n",
    "\n",
    "if result1 < alpha:\n",
    "    print('Отвергаем нулевую гипотезу. Между группами есть различия в среднем количестве заказов на покупателя')\n",
    "else:\n",
    "    print('Нет оснований отвергнуть нулевую гипотезу')\n",
    "\n",
    "result2 = sample_B.mean() / sample_A.mean() - 1\n",
    "\n",
    "print('Относительное различие группы B к A: {0:.3%}'.format(result2))"
   ]
  },
  {
   "cell_type": "markdown",
   "metadata": {},
   "source": [
    "По \"cырым\" данным различия в среднем количестве заказов на покупателя между группами есть.\n",
    "P-value составляет 0.011, что меньше 0.05. Отвергаем нулевую гипотезу о том, что между группами нет различий. Относительное различие в пользу группы B составляет 15.98%."
   ]
  },
  {
   "cell_type": "markdown",
   "metadata": {},
   "source": [
    "### Статистическая значимость различий в среднем чеке заказа  между группами по \"сырым\" данным"
   ]
  },
  {
   "cell_type": "markdown",
   "metadata": {},
   "source": [
    "Посчитаем статистическую значимость различий в среднем чеке заказа между группами по \"сырым\" данным, без удаления аномальных пользователей.\n",
    "\n",
    "Сформулируем гипотезы:\n",
    "\n",
    "*Нулевая гипотеза (H0):* различий в среднем чеке заказа между группами нет.\n",
    "\n",
    "*Альтернативная гипотеза (H1):* различия в среднем чеке заказа между группами есть.\n",
    "\n",
    "Начнем с подготовки данных."
   ]
  },
  {
   "cell_type": "code",
   "execution_count": 70,
   "metadata": {
    "scrolled": true
   },
   "outputs": [
    {
     "name": "stdout",
     "output_type": "stream",
     "text": [
      "P-value: 0.829\n",
      "Нет оснований отвергнуть нулевую гипотезу\n",
      "Относительное различие группы B к A: 28.660%\n"
     ]
    }
   ],
   "source": [
    "# Рассчитаем статистическую значимость различий в среднем чеке, передав критерию mannwhitneyu() данные о выручке \n",
    "# с заказов\n",
    "alpha = 0.05 # уровень статистической значимости, если p-value окажется меньше него, то отвергнем гипотезу\n",
    "\n",
    "result3 = st.mannwhitneyu(orders.query('group ==\"A\"')['revenue'], \n",
    "                          orders.query('group ==\"B\"')['revenue'])[1]\n",
    "\n",
    "print('P-value: {0:.3f}'.format(result3))\n",
    "\n",
    "if result3 < alpha:\n",
    "    print('Отвергаем нулевую гипотезу. Между группами есть различия в среднем чеке заказов')\n",
    "else:\n",
    "    print('Нет оснований отвергнуть нулевую гипотезу')\n",
    "\n",
    "result4 = orders.query('group ==\"B\"')['revenue'].mean() / \\\n",
    "          orders.query('group ==\"A\"')['revenue'].mean() - 1\n",
    "\n",
    "print('Относительное различие группы B к A: {0:.3%}'.format(result4))"
   ]
  },
  {
   "cell_type": "markdown",
   "metadata": {},
   "source": [
    "P-value составляет 0.829, что сильно больше 0.05.\n",
    "По \"cырым\" данным у нас нет оснований отвергнуть нулевую гипотезу о том, что между группами нет различий. Но при этом относительное различие среднего чека в пользу группы B составляет 28.7%."
   ]
  },
  {
   "cell_type": "markdown",
   "metadata": {},
   "source": [
    "### Статистическая значимость различий в среднем количестве заказов на посетителя между группами по \"очищенным\" данным"
   ]
  },
  {
   "cell_type": "markdown",
   "metadata": {},
   "source": [
    "Примем (как мы уже решили выше) за аномальных пользователей тех, кто совершил от 2 заказов или совершил заказ дороже 26785. Так мы уберём 1% пользователей с наибольшим числом заказов и от 1% до 5% пользователей с дорогими заказами.  Сделаем срезы пользователей с числом заказов больше 2 — users_with_many_orders и пользователей, совершивших заказы дороже 26785 — users_with_expensive_orders. Объединим их в таблице abnormal_users.\n",
    "Узнаем, сколько всего аномальных пользователей методом shape()."
   ]
  },
  {
   "cell_type": "code",
   "execution_count": 71,
   "metadata": {},
   "outputs": [
    {
     "data": {
      "text/plain": [
       "568     113298937\n",
       "1099    148427295\n",
       "928     204675465\n",
       "33      249864742\n",
       "684     358944393\n",
       "Name: visitor_id, dtype: int64"
      ]
     },
     "metadata": {},
     "output_type": "display_data"
    },
    {
     "name": "stdout",
     "output_type": "stream",
     "text": [
      "58\n"
     ]
    }
   ],
   "source": [
    "many_orders = np.percentile(orders_by_users['orders'], 99)\n",
    "\n",
    "expensive_orders = np.percentile(orders[\"revenue\"], 95)\n",
    "\n",
    "users_with_many_orders = pd.concat([orders_by_users_A[orders_by_users_A['orders'] > \n",
    "                                                      many_orders]['visitor_id'],\n",
    "                             orders_by_users_B[orders_by_users_B['orders'] \n",
    "                                               > many_orders]['visitor_id'],], axis=0,)\n",
    "\n",
    "users_with_expensive_orders = orders[orders['revenue'] > expensive_orders]['visitor_id']\n",
    "\n",
    "abnormal_users = (pd.concat([users_with_many_orders, users_with_expensive_orders], \n",
    "                            axis=0).drop_duplicates().sort_values())\n",
    "\n",
    "display(abnormal_users.head())\n",
    "print(abnormal_users.shape[0]) \n"
   ]
  },
  {
   "cell_type": "markdown",
   "metadata": {},
   "source": [
    "58 аномальных пользователей."
   ]
  },
  {
   "cell_type": "code",
   "execution_count": 72,
   "metadata": {},
   "outputs": [
    {
     "name": "stdout",
     "output_type": "stream",
     "text": [
      "Относительная потеря пользователей: 5.96 %\n"
     ]
    }
   ],
   "source": [
    "# Посчитаем относительные потери пользователй (отношение количества аномальных пользователей к \n",
    "#общем количеству пользователей)\n",
    "customers_losses = round(abnormal_users.shape[0] / orders['visitor_id'].nunique() * 100, 2)\n",
    "print('Относительная потеря пользователей:', customers_losses, '%')"
   ]
  },
  {
   "cell_type": "markdown",
   "metadata": {},
   "source": [
    "Узнаем, как их действия повлияли на результаты теста. Посчитаем статистическую значимость различий в среднем количестве заказов между группами теста по \"очищенным\" данным. "
   ]
  },
  {
   "cell_type": "code",
   "execution_count": 73,
   "metadata": {},
   "outputs": [],
   "source": [
    "# Подготовим выборки количества заказов по пользователям по группам теста\n",
    "sample_filtered_A = pd.concat([orders_by_users_A[\n",
    "            np.logical_not(orders_by_users_A['visitor_id'].isin(abnormal_users))]['orders'],\n",
    "            pd.Series(0, index=np.arange(\n",
    "            visitors.query('group == \"A\"')['visitors'].sum() - len(orders_by_users_A['orders'])), name='orders',),], \n",
    "                              axis=0,)\n",
    "\n",
    "sample_filtered_B = pd.concat([orders_by_users_B[\n",
    "            np.logical_not(orders_by_users_B['visitor_id'].isin(abnormal_users))]['orders'],\n",
    "            pd.Series(0, index=np.arange(\n",
    "            visitors.query('group == \"B\"')['visitors'].sum() - len(orders_by_users_B['orders'])), name='orders',),], \n",
    "                              axis=0,) "
   ]
  },
  {
   "cell_type": "code",
   "execution_count": 74,
   "metadata": {},
   "outputs": [
    {
     "name": "stdout",
     "output_type": "stream",
     "text": [
      "P-value: 0.012\n",
      "Отвергаем нулевую гипотезу. Между группами есть различия в среднем количестве заказов по пользователям\n",
      "Относительное различие группы B к A: 18.190%\n"
     ]
    }
   ],
   "source": [
    "# Применим статистический критерий Манна-Уитни к полученным выборкам\n",
    "\n",
    "alpha = 0.05 # уровень статистической значимости, если p-value окажется меньше него, то отвергнем гипотезу\n",
    "\n",
    "result5 = st.mannwhitneyu(sample_filtered_A, sample_filtered_B)[1]\n",
    "\n",
    "print('P-value: {0:.3f}'.format(result5))\n",
    "\n",
    "if result5 < alpha:\n",
    "    print('Отвергаем нулевую гипотезу. Между группами есть различия в среднем количестве заказов по пользователям')\n",
    "else:\n",
    "    print('Нет оснований отвергнуть нулевую гипотезу')\n",
    "\n",
    "result6 = sample_filtered_B.mean() / sample_filtered_A.mean() - 1\n",
    "\n",
    "print('Относительное различие группы B к A: {0:.3%}'.format(result6))"
   ]
  },
  {
   "cell_type": "markdown",
   "metadata": {},
   "source": [
    "Результаты по \"очищенным\" данным несильно отличаются от \"сырых\". P-value составляет 0.012, что меньше 0.05. Отвергаем нулевую гипотезу о том, что между группами нет различий. Относительное различие в среднем количестве заказов по пользователям в пользу группы B составляет 18.2%, что немного выше, чем по \"сырым\" данным (15.9%)."
   ]
  },
  {
   "cell_type": "markdown",
   "metadata": {},
   "source": [
    "### Статистическая значимость различий в среднем чеке заказа  между группами по \"очищенным\" данным"
   ]
  },
  {
   "cell_type": "code",
   "execution_count": 75,
   "metadata": {},
   "outputs": [
    {
     "name": "stdout",
     "output_type": "stream",
     "text": [
      "P-value: 0.646\n",
      "Нет оснований отвергнуть нулевую гипотезу\n",
      "Относительное различие группы B к A: -4.847%\n"
     ]
    }
   ],
   "source": [
    "# Рассчитаем статистическую значимость различий в среднем чеке\n",
    "\n",
    "alpha = 0.05 # уровень статистической значимости, если p-value окажется меньше него, то отвергнем гипотезу\n",
    "\n",
    "result7 = st.mannwhitneyu(orders[np.logical_and(orders['group'] == 'A',\n",
    "                            np.logical_not(orders['visitor_id'].isin(abnormal_users)),)]['revenue'], \n",
    "                          orders[np.logical_and(orders['group'] == 'B',\n",
    "                            np.logical_not(orders['visitor_id'].isin(abnormal_users)),)]['revenue'],)[1]\n",
    "\n",
    "print('P-value: {0:.3f}'.format(result7))\n",
    "\n",
    "if result7 < alpha:\n",
    "    print('Отвергаем нулевую гипотезу. Между группами есть различия в среднем чеке заказа')\n",
    "else:\n",
    "    print('Нет оснований отвергнуть нулевую гипотезу')\n",
    "\n",
    "result8 = orders[np.logical_and(orders['group'] == 'B',\n",
    "                        np.logical_not(orders['visitor_id'].isin(abnormal_users)),)]['revenue'].mean() / \\\n",
    "          orders[np.logical_and(orders['group'] == 'A',\n",
    "                        np.logical_not(orders['visitor_id'].isin(abnormal_users)),)]['revenue'].mean() - 1\n",
    "\n",
    "print('Относительное различие группы B к A: {0:.3%}'.format(result8))"
   ]
  },
  {
   "cell_type": "markdown",
   "metadata": {},
   "source": [
    "Результаты по \"очищенным\" данным  отличаются от \"сырых\". P-value составляет 0.646 (0.829 - \"сырые\"), что меньше 0.05. По \"очищенным\" данным у нас нет оснований отвергнуть нулевую гипотезу о том, что между группами нет различий.  Относительное различие в пользу группы A составляет 4.9%, по \"сырым\" данным побеждала группа B (28.7%). Наверняка  тот заказ на 1 млн. 300 тыс. руб. попал в группу B. Проверим это."
   ]
  },
  {
   "cell_type": "code",
   "execution_count": 76,
   "metadata": {},
   "outputs": [
    {
     "data": {
      "text/html": [
       "<div>\n",
       "<style scoped>\n",
       "    .dataframe tbody tr th:only-of-type {\n",
       "        vertical-align: middle;\n",
       "    }\n",
       "\n",
       "    .dataframe tbody tr th {\n",
       "        vertical-align: top;\n",
       "    }\n",
       "\n",
       "    .dataframe thead th {\n",
       "        text-align: right;\n",
       "    }\n",
       "</style>\n",
       "<table border=\"1\" class=\"dataframe\">\n",
       "  <thead>\n",
       "    <tr style=\"text-align: right;\">\n",
       "      <th></th>\n",
       "      <th>transaction_id</th>\n",
       "      <th>visitor_id</th>\n",
       "      <th>date</th>\n",
       "      <th>revenue</th>\n",
       "      <th>group</th>\n",
       "    </tr>\n",
       "  </thead>\n",
       "  <tbody>\n",
       "    <tr>\n",
       "      <th>425</th>\n",
       "      <td>590470918</td>\n",
       "      <td>1920142716</td>\n",
       "      <td>2019-08-19</td>\n",
       "      <td>1294500</td>\n",
       "      <td>B</td>\n",
       "    </tr>\n",
       "  </tbody>\n",
       "</table>\n",
       "</div>"
      ],
      "text/plain": [
       "     transaction_id  visitor_id       date  revenue group\n",
       "425       590470918  1920142716 2019-08-19  1294500     B"
      ]
     },
     "execution_count": 76,
     "metadata": {},
     "output_type": "execute_result"
    }
   ],
   "source": [
    "orders.query('revenue > 1200000')"
   ]
  },
  {
   "cell_type": "markdown",
   "metadata": {},
   "source": [
    "Так и есть. Аномалия в стоимости заказа повлияла на результат теста."
   ]
  },
  {
   "cell_type": "markdown",
   "metadata": {},
   "source": [
    "### Решение"
   ]
  },
  {
   "cell_type": "markdown",
   "metadata": {},
   "source": [
    "- Размер выборки А на 8.5% меньше выборки B;\n",
    "- Есть статистически значимое различие по количеству заказов на посетителя между группами как по \"сырым\" данным, так и после фильтрации аномалий;\n",
    "- По сырым данным нет статистически значимого различия по среднему чеку между группами. Однако после удаления аномалий статистически значимое различие есть. При этом после \"очистки\" данных лидирует группа A (примерно на 4.9%);\n",
    "- График различия относительного изменения кумулятивного среднего количества заказов на посетителя между группами сообщает, что результаты группы B лучше группы A: они зафиксировались около среднего значения, и имеют тенденцию к росту;\n",
    "- График различия среднего чека колеблется: он и позволил нам найти аномалии. Сделать из этого графика определённые выводы нельзя.\n",
    "\n",
    "Исходя из обнаруженных фактов, я бы рекомендовала тест остановить и зафиксировать победу группы B, так как она показывает лучшие результаты по количеству заказов на посетителя по сравнению с группой А. Предпосылок для стабилизации данных по среднему чеку по группам нет и продолжать тест смысла нет."
   ]
  },
  {
   "cell_type": "markdown",
   "metadata": {},
   "source": [
    "<a id=\"5\"></a>"
   ]
  },
  {
   "cell_type": "markdown",
   "metadata": {},
   "source": [
    "## Общий вывод"
   ]
  },
  {
   "cell_type": "markdown",
   "metadata": {},
   "source": [
    "Мы приоритизировали гипотезы для увеличения выручки крупного интернет магазина, а также проанализировали результаты A/B-теста за период с 1 августа по 31 августа 2019 года.\n",
    "\n",
    "***Исследование состояло из следующих этапов:***\n",
    "\n",
    "- ***Загрузка и базовый анализ данных:***\n",
    "  - Прочитали файлы с данными;\n",
    "  - Вывели и изучили общую информацию о них.\n",
    "\n",
    "  \n",
    "- ***Предобработка данных:***\n",
    "  - преобразовали тип данных в столбцах date датасетов orders и visitors на datetime;\n",
    "  - проверили данные во всех датасетах на пропуски, они не обнаружены;\n",
    "  - проверили данные на явные дубликаты, не обнаружили их;\n",
    "  - проверили данные на неявные дубликаты. Удалили в датасетах orders и visitors тех покупателей, которые несколько раз посещали сайт в период тестирования и почему-то попали в разные группы;\n",
    "  - изучили уникальные значения в датасете orders и visitors, не нашли ничего необычного.\n",
    "  - выяснили, что период анализа у нас с 01-08-2019 по 31-08-2019.\n",
    "\n",
    "- ***Приоритизация гипотез:***\n",
    "\n",
    " - Следует в первую очередь обратить внимание на следующие гипотезы:\n",
    "   - Запустить акцию, дающую скидку на товар в день рождения;\n",
    "   - Добавить два новых канала привлечения трафика, что позволит привлекать на 30% больше пользователей;\n",
    "   - Добавить форму подписки на все основные страницы, чтобы собрать базу клиентов для email-рассылок;\n",
    "   - Показать на главной странице баннеры с актуальными акциями и распродажами, чтобы увеличить конверсию;\n",
    "   - Добавить блоки рекомендаций товаров на сайт интернет магазина, чтобы повысить конверсию и средний чек заказа.\n",
    "  \n",
    " - Если необходимо принять во внимание охват пользователей, то ранжирование будет следующее:\n",
    "\n",
    "   - Добавить форму подписки на все основные страницы, чтобы собрать базу клиентов для email-рассылок;\n",
    "   - Добавить блоки рекомендаций товаров на сайт интернет магазина, чтобы повысить конверсию и средний чек заказа;\n",
    "   - Добавить два новых канала привлечения трафика, что позволит привлекать на 30% больше пользователей;\n",
    "   - Показать на главной странице баннеры с актуальными акциями и распродажами, чтобы увеличить конверсию;\n",
    "   - Запустить акцию, дающую скидку на товар в день рождения.\n",
    "   \n",
    "- ***Анализ результатов A/B-теста:***\n",
    "   - Размер выборки А на 8.5% меньше выборки B;\n",
    "   - Есть статистически значимое различие по количеству заказов на посетителя между группами как по \"сырым\" данным, так и после фильтрации аномалий;\n",
    "   - По сырым данным нет статистически значимого различия по среднему чеку между группами. Однако после удаления аномалий статистически значимое различие есть. При этом после \"очистки\" данных лидирует группа A (примерно на 4.9%);\n",
    "   - График различия относительного изменения кумулятивного среднего количества заказов на посетителя между группами сообщает, что результаты группы B лучше группы A: они зафиксировались около среднего значения, и имеют тенденцию к росту;\n",
    "   - График различия среднего чека колеблется: он и позволил нам найти аномалии. Сделать из этого графика определённые выводы нельзя.\n",
    "\n",
    "Исходя из обнаруженных фактов, я бы рекомендовала тест остановить и зафиксировать победу группы B, так как она показывает лучшие результаты по количеству заказов на посетитителя по сравнению с группой А. Предпосылок для стабилизации данных по средному чеку по группам нет и продолжать тест смысла нет."
   ]
  }
 ],
 "metadata": {
  "ExecuteTimeLog": [
   {
    "duration": 135,
    "start_time": "2023-11-08T09:25:30.175Z"
   },
   {
    "duration": 58,
    "start_time": "2023-11-08T09:40:27.835Z"
   },
   {
    "duration": 1498,
    "start_time": "2023-11-08T09:40:31.606Z"
   },
   {
    "duration": 1239,
    "start_time": "2023-11-08T09:40:33.221Z"
   },
   {
    "duration": 88,
    "start_time": "2023-11-08T09:41:46.022Z"
   },
   {
    "duration": 1166,
    "start_time": "2023-11-08T09:42:51.442Z"
   },
   {
    "duration": 125,
    "start_time": "2023-11-08T09:42:52.610Z"
   },
   {
    "duration": 101,
    "start_time": "2023-11-08T09:42:52.737Z"
   },
   {
    "duration": 10,
    "start_time": "2023-11-08T09:43:59.038Z"
   },
   {
    "duration": 112,
    "start_time": "2023-11-08T09:44:03.803Z"
   },
   {
    "duration": 44,
    "start_time": "2023-11-08T09:44:05.420Z"
   },
   {
    "duration": 31,
    "start_time": "2023-11-08T09:44:23.610Z"
   },
   {
    "duration": 17,
    "start_time": "2023-11-08T09:45:17.171Z"
   },
   {
    "duration": 30,
    "start_time": "2023-11-08T09:47:50.302Z"
   },
   {
    "duration": 29,
    "start_time": "2023-11-08T09:48:35.855Z"
   },
   {
    "duration": 37,
    "start_time": "2023-11-08T09:49:19.220Z"
   },
   {
    "duration": 24,
    "start_time": "2023-11-08T09:54:55.417Z"
   },
   {
    "duration": 16,
    "start_time": "2023-11-08T09:54:57.419Z"
   },
   {
    "duration": 30,
    "start_time": "2023-11-08T09:55:37.237Z"
   },
   {
    "duration": 27,
    "start_time": "2023-11-08T09:57:28.869Z"
   },
   {
    "duration": 446,
    "start_time": "2023-11-08T10:02:24.670Z"
   },
   {
    "duration": 542,
    "start_time": "2023-11-08T10:03:13.254Z"
   },
   {
    "duration": 435,
    "start_time": "2023-11-08T10:03:49.210Z"
   },
   {
    "duration": 514,
    "start_time": "2023-11-08T10:04:20.171Z"
   },
   {
    "duration": 325,
    "start_time": "2023-11-08T10:04:30.337Z"
   },
   {
    "duration": 542,
    "start_time": "2023-11-08T10:04:39.472Z"
   },
   {
    "duration": 576,
    "start_time": "2023-11-08T10:05:03.839Z"
   },
   {
    "duration": 509,
    "start_time": "2023-11-08T10:05:12.605Z"
   },
   {
    "duration": 6,
    "start_time": "2023-11-08T10:34:15.608Z"
   },
   {
    "duration": 5,
    "start_time": "2023-11-08T10:34:16.086Z"
   },
   {
    "duration": 11,
    "start_time": "2023-11-08T10:34:23.145Z"
   },
   {
    "duration": 10,
    "start_time": "2023-11-08T10:34:29.887Z"
   },
   {
    "duration": 4,
    "start_time": "2023-11-08T10:40:03.581Z"
   },
   {
    "duration": 9,
    "start_time": "2023-11-08T10:40:10.397Z"
   },
   {
    "duration": 4,
    "start_time": "2023-11-08T10:41:33.732Z"
   },
   {
    "duration": 12,
    "start_time": "2023-11-08T10:41:35.583Z"
   },
   {
    "duration": 4,
    "start_time": "2023-11-08T10:42:27.848Z"
   },
   {
    "duration": 15,
    "start_time": "2023-11-08T10:42:29.539Z"
   },
   {
    "duration": 4,
    "start_time": "2023-11-08T10:44:04.497Z"
   },
   {
    "duration": 5,
    "start_time": "2023-11-08T10:44:04.896Z"
   },
   {
    "duration": 7,
    "start_time": "2023-11-08T10:44:05.751Z"
   },
   {
    "duration": 7,
    "start_time": "2023-11-08T10:44:42.196Z"
   },
   {
    "duration": 8,
    "start_time": "2023-11-08T10:45:15.467Z"
   },
   {
    "duration": 6,
    "start_time": "2023-11-08T10:45:27.696Z"
   },
   {
    "duration": 3,
    "start_time": "2023-11-08T10:46:18.749Z"
   },
   {
    "duration": 9,
    "start_time": "2023-11-08T10:47:10.849Z"
   },
   {
    "duration": 3,
    "start_time": "2023-11-08T10:47:14.013Z"
   },
   {
    "duration": 10,
    "start_time": "2023-11-08T10:47:15.486Z"
   },
   {
    "duration": 7,
    "start_time": "2023-11-08T10:47:40.563Z"
   },
   {
    "duration": 6,
    "start_time": "2023-11-08T10:48:47.019Z"
   },
   {
    "duration": 8,
    "start_time": "2023-11-08T10:48:56.259Z"
   },
   {
    "duration": 16,
    "start_time": "2023-11-08T10:49:38.378Z"
   },
   {
    "duration": 3,
    "start_time": "2023-11-08T10:50:17.754Z"
   },
   {
    "duration": 24,
    "start_time": "2023-11-08T10:50:19.371Z"
   },
   {
    "duration": 11,
    "start_time": "2023-11-08T10:50:42.665Z"
   },
   {
    "duration": 10,
    "start_time": "2023-11-08T10:50:52.194Z"
   },
   {
    "duration": 11,
    "start_time": "2023-11-08T10:51:00.977Z"
   },
   {
    "duration": 8,
    "start_time": "2023-11-08T10:51:08.149Z"
   },
   {
    "duration": 2,
    "start_time": "2023-11-08T10:53:10.185Z"
   },
   {
    "duration": 10,
    "start_time": "2023-11-08T10:53:22.885Z"
   },
   {
    "duration": 8,
    "start_time": "2023-11-08T10:54:23.593Z"
   },
   {
    "duration": 8,
    "start_time": "2023-11-08T10:54:45.109Z"
   },
   {
    "duration": 3,
    "start_time": "2023-11-08T10:54:49.039Z"
   },
   {
    "duration": 11,
    "start_time": "2023-11-08T10:54:55.560Z"
   },
   {
    "duration": 2152,
    "start_time": "2023-11-08T10:55:29.742Z"
   },
   {
    "duration": 15,
    "start_time": "2023-11-08T10:55:35.659Z"
   },
   {
    "duration": 9,
    "start_time": "2023-11-08T10:55:59.385Z"
   },
   {
    "duration": 19,
    "start_time": "2023-11-08T10:56:02.929Z"
   },
   {
    "duration": 12,
    "start_time": "2023-11-08T10:56:34.342Z"
   },
   {
    "duration": 13,
    "start_time": "2023-11-08T10:57:33.378Z"
   },
   {
    "duration": 3437,
    "start_time": "2023-11-08T11:00:03.543Z"
   },
   {
    "duration": 13,
    "start_time": "2023-11-08T11:00:22.542Z"
   },
   {
    "duration": 16,
    "start_time": "2023-11-08T11:01:30.391Z"
   },
   {
    "duration": 15,
    "start_time": "2023-11-08T11:02:29.559Z"
   },
   {
    "duration": 14,
    "start_time": "2023-11-08T11:09:36.897Z"
   },
   {
    "duration": 10,
    "start_time": "2023-11-08T11:09:43.292Z"
   },
   {
    "duration": 4,
    "start_time": "2023-11-08T11:10:01.607Z"
   },
   {
    "duration": 8,
    "start_time": "2023-11-08T11:10:10.094Z"
   },
   {
    "duration": 10,
    "start_time": "2023-11-08T11:10:44.541Z"
   },
   {
    "duration": 134,
    "start_time": "2023-11-08T11:11:46.725Z"
   },
   {
    "duration": 10,
    "start_time": "2023-11-08T11:12:00.767Z"
   },
   {
    "duration": 13,
    "start_time": "2023-11-08T11:12:23.615Z"
   },
   {
    "duration": 11,
    "start_time": "2023-11-08T11:12:46.793Z"
   },
   {
    "duration": 11,
    "start_time": "2023-11-08T11:13:27.534Z"
   },
   {
    "duration": 13,
    "start_time": "2023-11-08T11:14:50.435Z"
   },
   {
    "duration": 2410,
    "start_time": "2023-11-08T11:15:00.285Z"
   },
   {
    "duration": 10,
    "start_time": "2023-11-08T11:15:08.744Z"
   },
   {
    "duration": 9,
    "start_time": "2023-11-08T11:15:31.010Z"
   },
   {
    "duration": 8,
    "start_time": "2023-11-08T11:16:04.811Z"
   },
   {
    "duration": 11,
    "start_time": "2023-11-08T11:16:37.851Z"
   },
   {
    "duration": 9,
    "start_time": "2023-11-08T11:16:56.677Z"
   },
   {
    "duration": 13,
    "start_time": "2023-11-08T11:17:13.698Z"
   },
   {
    "duration": 9,
    "start_time": "2023-11-08T11:17:29.111Z"
   },
   {
    "duration": 4,
    "start_time": "2023-11-08T11:21:06.072Z"
   },
   {
    "duration": 4,
    "start_time": "2023-11-08T11:21:06.702Z"
   },
   {
    "duration": 5,
    "start_time": "2023-11-08T11:21:07.635Z"
   },
   {
    "duration": 114,
    "start_time": "2023-11-08T11:22:43.473Z"
   },
   {
    "duration": 7,
    "start_time": "2023-11-08T11:22:53.471Z"
   },
   {
    "duration": 6,
    "start_time": "2023-11-08T11:23:16.188Z"
   },
   {
    "duration": 1192,
    "start_time": "2023-11-08T11:24:01.054Z"
   },
   {
    "duration": 87,
    "start_time": "2023-11-08T11:24:02.248Z"
   },
   {
    "duration": 21,
    "start_time": "2023-11-08T11:24:02.339Z"
   },
   {
    "duration": 30,
    "start_time": "2023-11-08T11:24:02.362Z"
   },
   {
    "duration": 32,
    "start_time": "2023-11-08T11:24:02.395Z"
   },
   {
    "duration": 511,
    "start_time": "2023-11-08T11:24:02.429Z"
   },
   {
    "duration": 6,
    "start_time": "2023-11-08T11:24:02.942Z"
   },
   {
    "duration": 26,
    "start_time": "2023-11-08T11:24:02.950Z"
   },
   {
    "duration": 22,
    "start_time": "2023-11-08T11:24:02.977Z"
   },
   {
    "duration": 51,
    "start_time": "2023-11-08T11:24:03.000Z"
   },
   {
    "duration": 36,
    "start_time": "2023-11-08T11:24:03.053Z"
   },
   {
    "duration": 26,
    "start_time": "2023-11-08T11:24:03.092Z"
   },
   {
    "duration": 23,
    "start_time": "2023-11-08T11:24:03.119Z"
   },
   {
    "duration": 28,
    "start_time": "2023-11-08T11:24:03.145Z"
   },
   {
    "duration": 41,
    "start_time": "2023-11-08T11:24:03.175Z"
   },
   {
    "duration": 25,
    "start_time": "2023-11-08T11:24:03.217Z"
   },
   {
    "duration": 5,
    "start_time": "2023-11-08T11:24:03.243Z"
   },
   {
    "duration": 35,
    "start_time": "2023-11-08T11:24:03.250Z"
   },
   {
    "duration": 7,
    "start_time": "2023-11-08T11:24:03.287Z"
   },
   {
    "duration": 19,
    "start_time": "2023-11-08T11:24:03.295Z"
   },
   {
    "duration": 21,
    "start_time": "2023-11-08T11:24:03.315Z"
   },
   {
    "duration": 3,
    "start_time": "2023-11-08T11:24:03.338Z"
   },
   {
    "duration": 18,
    "start_time": "2023-11-08T11:24:03.343Z"
   },
   {
    "duration": 18,
    "start_time": "2023-11-08T11:24:03.363Z"
   },
   {
    "duration": 39,
    "start_time": "2023-11-08T11:24:03.383Z"
   },
   {
    "duration": 24,
    "start_time": "2023-11-08T11:24:03.423Z"
   },
   {
    "duration": 52,
    "start_time": "2023-11-08T11:24:03.448Z"
   },
   {
    "duration": 29,
    "start_time": "2023-11-08T11:24:03.501Z"
   },
   {
    "duration": 32,
    "start_time": "2023-11-08T11:24:03.532Z"
   },
   {
    "duration": 9,
    "start_time": "2023-11-08T11:24:03.566Z"
   },
   {
    "duration": 15,
    "start_time": "2023-11-08T11:24:03.577Z"
   },
   {
    "duration": 14,
    "start_time": "2023-11-08T11:24:03.594Z"
   },
   {
    "duration": 27,
    "start_time": "2023-11-08T11:24:03.610Z"
   },
   {
    "duration": 11,
    "start_time": "2023-11-08T11:24:03.639Z"
   },
   {
    "duration": 12,
    "start_time": "2023-11-08T11:24:03.651Z"
   },
   {
    "duration": 19,
    "start_time": "2023-11-08T11:24:03.664Z"
   },
   {
    "duration": 32,
    "start_time": "2023-11-08T11:24:03.684Z"
   },
   {
    "duration": 19,
    "start_time": "2023-11-08T11:24:03.718Z"
   },
   {
    "duration": 8,
    "start_time": "2023-11-08T11:24:03.739Z"
   },
   {
    "duration": 12,
    "start_time": "2023-11-08T11:24:03.749Z"
   },
   {
    "duration": 13,
    "start_time": "2023-11-08T11:24:03.765Z"
   },
   {
    "duration": 11,
    "start_time": "2023-11-08T11:24:03.780Z"
   },
   {
    "duration": 7,
    "start_time": "2023-11-08T11:47:57.496Z"
   },
   {
    "duration": 9,
    "start_time": "2023-11-08T11:47:58.190Z"
   },
   {
    "duration": 14,
    "start_time": "2023-11-08T11:47:59.037Z"
   },
   {
    "duration": 10,
    "start_time": "2023-11-08T11:47:59.997Z"
   },
   {
    "duration": 8,
    "start_time": "2023-11-08T11:48:02.201Z"
   },
   {
    "duration": 133,
    "start_time": "2023-11-08T11:52:01.294Z"
   },
   {
    "duration": 14,
    "start_time": "2023-11-08T11:52:18.376Z"
   },
   {
    "duration": 4,
    "start_time": "2023-11-08T11:52:25.360Z"
   },
   {
    "duration": 16,
    "start_time": "2023-11-08T11:52:56.944Z"
   },
   {
    "duration": 9,
    "start_time": "2023-11-08T11:53:18.694Z"
   },
   {
    "duration": 16,
    "start_time": "2023-11-08T11:53:31.512Z"
   },
   {
    "duration": 12,
    "start_time": "2023-11-08T11:54:03.401Z"
   },
   {
    "duration": 4,
    "start_time": "2023-11-08T11:54:45.217Z"
   },
   {
    "duration": 10,
    "start_time": "2023-11-08T11:56:08.780Z"
   },
   {
    "duration": 9,
    "start_time": "2023-11-08T11:59:04.521Z"
   },
   {
    "duration": 3006,
    "start_time": "2023-11-08T11:59:21.393Z"
   },
   {
    "duration": 6,
    "start_time": "2023-11-08T11:59:30.812Z"
   },
   {
    "duration": 557,
    "start_time": "2023-11-08T11:59:55.360Z"
   },
   {
    "duration": 6,
    "start_time": "2023-11-08T12:00:11.578Z"
   },
   {
    "duration": 6,
    "start_time": "2023-11-08T12:00:17.111Z"
   },
   {
    "duration": 929,
    "start_time": "2023-11-08T12:00:27.894Z"
   },
   {
    "duration": 16,
    "start_time": "2023-11-08T12:00:36.140Z"
   },
   {
    "duration": 6,
    "start_time": "2023-11-08T12:01:40.350Z"
   },
   {
    "duration": 17,
    "start_time": "2023-11-08T12:01:52.154Z"
   },
   {
    "duration": 11,
    "start_time": "2023-11-08T12:05:29.963Z"
   },
   {
    "duration": 339,
    "start_time": "2023-11-08T12:06:11.653Z"
   },
   {
    "duration": 123,
    "start_time": "2023-11-08T12:06:22.252Z"
   },
   {
    "duration": 12,
    "start_time": "2023-11-08T12:06:39.810Z"
   },
   {
    "duration": 18,
    "start_time": "2023-11-08T12:07:01.136Z"
   },
   {
    "duration": 15,
    "start_time": "2023-11-08T12:07:31.877Z"
   },
   {
    "duration": 20,
    "start_time": "2023-11-08T12:07:55.267Z"
   },
   {
    "duration": 12,
    "start_time": "2023-11-08T12:08:05.709Z"
   },
   {
    "duration": 16,
    "start_time": "2023-11-08T12:08:43.013Z"
   },
   {
    "duration": 25,
    "start_time": "2023-11-08T12:09:29.917Z"
   },
   {
    "duration": 5,
    "start_time": "2023-11-08T12:10:20.759Z"
   },
   {
    "duration": 12,
    "start_time": "2023-11-08T12:10:41.368Z"
   },
   {
    "duration": 16,
    "start_time": "2023-11-08T12:11:00.793Z"
   },
   {
    "duration": 6,
    "start_time": "2023-11-08T12:13:18.659Z"
   },
   {
    "duration": 15,
    "start_time": "2023-11-08T12:13:24.550Z"
   },
   {
    "duration": 15,
    "start_time": "2023-11-08T12:18:40.161Z"
   },
   {
    "duration": 1332,
    "start_time": "2023-11-08T12:18:54.152Z"
   },
   {
    "duration": 96,
    "start_time": "2023-11-08T12:18:55.486Z"
   },
   {
    "duration": 21,
    "start_time": "2023-11-08T12:18:55.584Z"
   },
   {
    "duration": 39,
    "start_time": "2023-11-08T12:18:55.606Z"
   },
   {
    "duration": 37,
    "start_time": "2023-11-08T12:18:55.648Z"
   },
   {
    "duration": 722,
    "start_time": "2023-11-08T12:18:55.686Z"
   },
   {
    "duration": 5,
    "start_time": "2023-11-08T12:18:56.410Z"
   },
   {
    "duration": 12,
    "start_time": "2023-11-08T12:18:56.428Z"
   },
   {
    "duration": 17,
    "start_time": "2023-11-08T12:18:56.448Z"
   },
   {
    "duration": 13,
    "start_time": "2023-11-08T12:18:56.467Z"
   },
   {
    "duration": 8,
    "start_time": "2023-11-08T12:18:56.482Z"
   },
   {
    "duration": 20,
    "start_time": "2023-11-08T12:18:56.491Z"
   },
   {
    "duration": 61,
    "start_time": "2023-11-08T12:18:56.513Z"
   },
   {
    "duration": 7,
    "start_time": "2023-11-08T12:18:56.577Z"
   },
   {
    "duration": 16,
    "start_time": "2023-11-08T12:18:56.586Z"
   },
   {
    "duration": 15,
    "start_time": "2023-11-08T12:18:56.603Z"
   },
   {
    "duration": 18,
    "start_time": "2023-11-08T12:18:56.619Z"
   },
   {
    "duration": 58,
    "start_time": "2023-11-08T12:18:56.640Z"
   },
   {
    "duration": 12,
    "start_time": "2023-11-08T12:18:56.700Z"
   },
   {
    "duration": 16,
    "start_time": "2023-11-08T12:18:56.714Z"
   },
   {
    "duration": 22,
    "start_time": "2023-11-08T12:18:56.737Z"
   },
   {
    "duration": 8,
    "start_time": "2023-11-08T12:18:56.761Z"
   },
   {
    "duration": 34,
    "start_time": "2023-11-08T12:18:56.771Z"
   },
   {
    "duration": 14,
    "start_time": "2023-11-08T12:18:56.807Z"
   },
   {
    "duration": 19,
    "start_time": "2023-11-08T12:18:56.822Z"
   },
   {
    "duration": 64,
    "start_time": "2023-11-08T12:18:56.843Z"
   },
   {
    "duration": 44,
    "start_time": "2023-11-08T12:18:56.909Z"
   },
   {
    "duration": 11,
    "start_time": "2023-11-08T12:18:56.955Z"
   },
   {
    "duration": 48,
    "start_time": "2023-11-08T12:18:56.970Z"
   },
   {
    "duration": 14,
    "start_time": "2023-11-08T12:18:57.020Z"
   },
   {
    "duration": 24,
    "start_time": "2023-11-08T12:18:57.041Z"
   },
   {
    "duration": 15,
    "start_time": "2023-11-08T12:18:57.067Z"
   },
   {
    "duration": 23,
    "start_time": "2023-11-08T12:18:57.084Z"
   },
   {
    "duration": 47,
    "start_time": "2023-11-08T12:18:57.108Z"
   },
   {
    "duration": 8,
    "start_time": "2023-11-08T12:18:57.157Z"
   },
   {
    "duration": 15,
    "start_time": "2023-11-08T12:18:57.167Z"
   },
   {
    "duration": 26,
    "start_time": "2023-11-08T12:18:57.184Z"
   },
   {
    "duration": 23,
    "start_time": "2023-11-08T12:18:57.211Z"
   },
   {
    "duration": 32,
    "start_time": "2023-11-08T12:18:57.236Z"
   },
   {
    "duration": 17,
    "start_time": "2023-11-08T12:18:57.270Z"
   },
   {
    "duration": 13,
    "start_time": "2023-11-08T12:18:57.293Z"
   },
   {
    "duration": 12,
    "start_time": "2023-11-08T12:18:57.308Z"
   },
   {
    "duration": 30,
    "start_time": "2023-11-08T12:18:57.322Z"
   },
   {
    "duration": 5,
    "start_time": "2023-11-08T12:18:57.354Z"
   },
   {
    "duration": 9,
    "start_time": "2023-11-08T12:18:57.361Z"
   },
   {
    "duration": 13,
    "start_time": "2023-11-08T12:18:57.372Z"
   },
   {
    "duration": 61,
    "start_time": "2023-11-08T12:18:57.387Z"
   },
   {
    "duration": 11,
    "start_time": "2023-11-08T12:20:15.289Z"
   },
   {
    "duration": 9,
    "start_time": "2023-11-08T12:20:34.963Z"
   },
   {
    "duration": 14,
    "start_time": "2023-11-08T12:21:05.707Z"
   },
   {
    "duration": 14,
    "start_time": "2023-11-08T12:39:22.216Z"
   },
   {
    "duration": 11,
    "start_time": "2023-11-08T12:39:47.738Z"
   },
   {
    "duration": 10,
    "start_time": "2023-11-08T12:41:33.799Z"
   },
   {
    "duration": 1306,
    "start_time": "2023-11-08T12:41:45.547Z"
   },
   {
    "duration": 84,
    "start_time": "2023-11-08T12:41:46.855Z"
   },
   {
    "duration": 21,
    "start_time": "2023-11-08T12:41:46.941Z"
   },
   {
    "duration": 22,
    "start_time": "2023-11-08T12:41:46.963Z"
   },
   {
    "duration": 41,
    "start_time": "2023-11-08T12:41:46.987Z"
   },
   {
    "duration": 513,
    "start_time": "2023-11-08T12:41:47.038Z"
   },
   {
    "duration": 5,
    "start_time": "2023-11-08T12:41:47.553Z"
   },
   {
    "duration": 44,
    "start_time": "2023-11-08T12:41:47.559Z"
   },
   {
    "duration": 6,
    "start_time": "2023-11-08T12:41:47.605Z"
   },
   {
    "duration": 23,
    "start_time": "2023-11-08T12:41:47.613Z"
   },
   {
    "duration": 6,
    "start_time": "2023-11-08T12:41:47.638Z"
   },
   {
    "duration": 14,
    "start_time": "2023-11-08T12:41:47.646Z"
   },
   {
    "duration": 14,
    "start_time": "2023-11-08T12:41:47.661Z"
   },
   {
    "duration": 6,
    "start_time": "2023-11-08T12:41:47.678Z"
   },
   {
    "duration": 8,
    "start_time": "2023-11-08T12:41:47.686Z"
   },
   {
    "duration": 16,
    "start_time": "2023-11-08T12:41:47.695Z"
   },
   {
    "duration": 36,
    "start_time": "2023-11-08T12:41:47.713Z"
   },
   {
    "duration": 36,
    "start_time": "2023-11-08T12:41:47.750Z"
   },
   {
    "duration": 10,
    "start_time": "2023-11-08T12:41:47.788Z"
   },
   {
    "duration": 4,
    "start_time": "2023-11-08T12:41:47.800Z"
   },
   {
    "duration": 12,
    "start_time": "2023-11-08T12:41:47.806Z"
   },
   {
    "duration": 21,
    "start_time": "2023-11-08T12:41:47.820Z"
   },
   {
    "duration": 20,
    "start_time": "2023-11-08T12:41:47.842Z"
   },
   {
    "duration": 9,
    "start_time": "2023-11-08T12:41:47.864Z"
   },
   {
    "duration": 10,
    "start_time": "2023-11-08T12:41:47.875Z"
   },
   {
    "duration": 7,
    "start_time": "2023-11-08T12:41:47.886Z"
   },
   {
    "duration": 30,
    "start_time": "2023-11-08T12:41:47.895Z"
   },
   {
    "duration": 19,
    "start_time": "2023-11-08T12:41:47.932Z"
   },
   {
    "duration": 9,
    "start_time": "2023-11-08T12:41:47.954Z"
   },
   {
    "duration": 10,
    "start_time": "2023-11-08T12:41:47.965Z"
   },
   {
    "duration": 13,
    "start_time": "2023-11-08T12:41:47.977Z"
   },
   {
    "duration": 52,
    "start_time": "2023-11-08T12:41:47.992Z"
   },
   {
    "duration": 14,
    "start_time": "2023-11-08T12:41:48.046Z"
   },
   {
    "duration": 7,
    "start_time": "2023-11-08T12:41:48.061Z"
   },
   {
    "duration": 14,
    "start_time": "2023-11-08T12:41:48.070Z"
   },
   {
    "duration": 10,
    "start_time": "2023-11-08T12:41:48.086Z"
   },
   {
    "duration": 42,
    "start_time": "2023-11-08T12:41:48.097Z"
   },
   {
    "duration": 11,
    "start_time": "2023-11-08T12:41:48.141Z"
   },
   {
    "duration": 12,
    "start_time": "2023-11-08T12:41:48.154Z"
   },
   {
    "duration": 9,
    "start_time": "2023-11-08T12:41:48.167Z"
   },
   {
    "duration": 9,
    "start_time": "2023-11-08T12:41:48.180Z"
   },
   {
    "duration": 44,
    "start_time": "2023-11-08T12:41:48.190Z"
   },
   {
    "duration": 10,
    "start_time": "2023-11-08T12:41:48.238Z"
   },
   {
    "duration": 7,
    "start_time": "2023-11-08T12:41:48.249Z"
   },
   {
    "duration": 5,
    "start_time": "2023-11-08T12:41:48.258Z"
   },
   {
    "duration": 13,
    "start_time": "2023-11-08T12:41:48.264Z"
   },
   {
    "duration": 5,
    "start_time": "2023-11-08T12:41:48.279Z"
   },
   {
    "duration": 44,
    "start_time": "2023-11-08T12:41:48.286Z"
   },
   {
    "duration": 10,
    "start_time": "2023-11-08T12:41:48.332Z"
   },
   {
    "duration": 8,
    "start_time": "2023-11-08T12:41:48.343Z"
   },
   {
    "duration": 9,
    "start_time": "2023-11-08T12:41:48.352Z"
   },
   {
    "duration": 1278,
    "start_time": "2023-11-08T12:42:07.778Z"
   },
   {
    "duration": 107,
    "start_time": "2023-11-08T12:42:09.061Z"
   },
   {
    "duration": 19,
    "start_time": "2023-11-08T12:42:09.170Z"
   },
   {
    "duration": 122,
    "start_time": "2023-11-08T12:42:09.191Z"
   },
   {
    "duration": 92,
    "start_time": "2023-11-08T12:42:09.316Z"
   },
   {
    "duration": 553,
    "start_time": "2023-11-08T12:42:09.411Z"
   },
   {
    "duration": 6,
    "start_time": "2023-11-08T12:42:09.966Z"
   },
   {
    "duration": 85,
    "start_time": "2023-11-08T12:42:09.974Z"
   },
   {
    "duration": 41,
    "start_time": "2023-11-08T12:42:10.061Z"
   },
   {
    "duration": 12,
    "start_time": "2023-11-08T12:42:10.104Z"
   },
   {
    "duration": 25,
    "start_time": "2023-11-08T12:42:10.119Z"
   },
   {
    "duration": 47,
    "start_time": "2023-11-08T12:42:10.145Z"
   },
   {
    "duration": 22,
    "start_time": "2023-11-08T12:42:10.194Z"
   },
   {
    "duration": 32,
    "start_time": "2023-11-08T12:42:10.219Z"
   },
   {
    "duration": 25,
    "start_time": "2023-11-08T12:42:10.253Z"
   },
   {
    "duration": 33,
    "start_time": "2023-11-08T12:42:10.280Z"
   },
   {
    "duration": 23,
    "start_time": "2023-11-08T12:42:10.315Z"
   },
   {
    "duration": 28,
    "start_time": "2023-11-08T12:42:10.342Z"
   },
   {
    "duration": 33,
    "start_time": "2023-11-08T12:42:10.372Z"
   },
   {
    "duration": 5,
    "start_time": "2023-11-08T12:42:10.407Z"
   },
   {
    "duration": 28,
    "start_time": "2023-11-08T12:42:10.415Z"
   },
   {
    "duration": 66,
    "start_time": "2023-11-08T12:42:10.445Z"
   },
   {
    "duration": 32,
    "start_time": "2023-11-08T12:42:10.513Z"
   },
   {
    "duration": 69,
    "start_time": "2023-11-08T12:42:10.546Z"
   },
   {
    "duration": 60,
    "start_time": "2023-11-08T12:42:10.617Z"
   },
   {
    "duration": 39,
    "start_time": "2023-11-08T12:42:10.679Z"
   },
   {
    "duration": 35,
    "start_time": "2023-11-08T12:42:10.720Z"
   },
   {
    "duration": 24,
    "start_time": "2023-11-08T12:42:10.757Z"
   },
   {
    "duration": 24,
    "start_time": "2023-11-08T12:42:10.783Z"
   },
   {
    "duration": 27,
    "start_time": "2023-11-08T12:42:10.809Z"
   },
   {
    "duration": 24,
    "start_time": "2023-11-08T12:42:10.837Z"
   },
   {
    "duration": 50,
    "start_time": "2023-11-08T12:42:10.863Z"
   },
   {
    "duration": 32,
    "start_time": "2023-11-08T12:42:10.914Z"
   },
   {
    "duration": 20,
    "start_time": "2023-11-08T12:42:10.948Z"
   },
   {
    "duration": 34,
    "start_time": "2023-11-08T12:42:10.969Z"
   },
   {
    "duration": 12,
    "start_time": "2023-11-08T12:42:11.004Z"
   },
   {
    "duration": 21,
    "start_time": "2023-11-08T12:42:11.018Z"
   },
   {
    "duration": 13,
    "start_time": "2023-11-08T12:42:11.042Z"
   },
   {
    "duration": 23,
    "start_time": "2023-11-08T12:42:11.057Z"
   },
   {
    "duration": 22,
    "start_time": "2023-11-08T12:42:11.082Z"
   },
   {
    "duration": 31,
    "start_time": "2023-11-08T12:42:11.110Z"
   },
   {
    "duration": 13,
    "start_time": "2023-11-08T12:42:11.144Z"
   },
   {
    "duration": 22,
    "start_time": "2023-11-08T12:42:11.159Z"
   },
   {
    "duration": 19,
    "start_time": "2023-11-08T12:42:11.183Z"
   },
   {
    "duration": 17,
    "start_time": "2023-11-08T12:42:11.203Z"
   },
   {
    "duration": 24,
    "start_time": "2023-11-08T12:42:11.222Z"
   },
   {
    "duration": 12,
    "start_time": "2023-11-08T12:42:11.247Z"
   },
   {
    "duration": 19,
    "start_time": "2023-11-08T12:42:11.261Z"
   },
   {
    "duration": 16,
    "start_time": "2023-11-08T12:42:11.281Z"
   },
   {
    "duration": 9,
    "start_time": "2023-11-08T12:42:11.299Z"
   },
   {
    "duration": 36,
    "start_time": "2023-11-08T12:42:11.310Z"
   },
   {
    "duration": 1480,
    "start_time": "2023-11-08T12:42:35.950Z"
   },
   {
    "duration": 83,
    "start_time": "2023-11-08T12:42:37.432Z"
   },
   {
    "duration": 31,
    "start_time": "2023-11-08T12:42:37.517Z"
   },
   {
    "duration": 22,
    "start_time": "2023-11-08T12:42:37.550Z"
   },
   {
    "duration": 20,
    "start_time": "2023-11-08T12:42:37.574Z"
   },
   {
    "duration": 555,
    "start_time": "2023-11-08T12:42:37.596Z"
   },
   {
    "duration": 5,
    "start_time": "2023-11-08T12:42:38.153Z"
   },
   {
    "duration": 45,
    "start_time": "2023-11-08T12:42:38.160Z"
   },
   {
    "duration": 13,
    "start_time": "2023-11-08T12:42:38.206Z"
   },
   {
    "duration": 17,
    "start_time": "2023-11-08T12:42:38.222Z"
   },
   {
    "duration": 27,
    "start_time": "2023-11-08T12:42:38.241Z"
   },
   {
    "duration": 22,
    "start_time": "2023-11-08T12:42:38.270Z"
   },
   {
    "duration": 10,
    "start_time": "2023-11-08T12:42:38.294Z"
   },
   {
    "duration": 22,
    "start_time": "2023-11-08T12:42:38.306Z"
   },
   {
    "duration": 43,
    "start_time": "2023-11-08T12:42:38.331Z"
   },
   {
    "duration": 20,
    "start_time": "2023-11-08T12:42:38.376Z"
   },
   {
    "duration": 19,
    "start_time": "2023-11-08T12:42:38.397Z"
   },
   {
    "duration": 26,
    "start_time": "2023-11-08T12:42:38.418Z"
   },
   {
    "duration": 8,
    "start_time": "2023-11-08T12:42:38.446Z"
   },
   {
    "duration": 18,
    "start_time": "2023-11-08T12:42:38.455Z"
   },
   {
    "duration": 38,
    "start_time": "2023-11-08T12:42:38.475Z"
   },
   {
    "duration": 33,
    "start_time": "2023-11-08T12:42:38.515Z"
   },
   {
    "duration": 11,
    "start_time": "2023-11-08T12:42:38.550Z"
   },
   {
    "duration": 26,
    "start_time": "2023-11-08T12:42:38.563Z"
   },
   {
    "duration": 24,
    "start_time": "2023-11-08T12:42:38.590Z"
   },
   {
    "duration": 5,
    "start_time": "2023-11-08T12:42:38.616Z"
   },
   {
    "duration": 23,
    "start_time": "2023-11-08T12:42:38.622Z"
   },
   {
    "duration": 15,
    "start_time": "2023-11-08T12:42:38.648Z"
   },
   {
    "duration": 26,
    "start_time": "2023-11-08T12:42:38.664Z"
   },
   {
    "duration": 10,
    "start_time": "2023-11-08T12:42:38.692Z"
   },
   {
    "duration": 23,
    "start_time": "2023-11-08T12:42:38.704Z"
   },
   {
    "duration": 13,
    "start_time": "2023-11-08T12:42:38.733Z"
   },
   {
    "duration": 28,
    "start_time": "2023-11-08T12:42:38.748Z"
   },
   {
    "duration": 10,
    "start_time": "2023-11-08T12:42:38.778Z"
   },
   {
    "duration": 19,
    "start_time": "2023-11-08T12:42:38.789Z"
   },
   {
    "duration": 35,
    "start_time": "2023-11-08T12:42:38.809Z"
   },
   {
    "duration": 15,
    "start_time": "2023-11-08T12:42:38.845Z"
   },
   {
    "duration": 16,
    "start_time": "2023-11-08T12:42:38.862Z"
   },
   {
    "duration": 29,
    "start_time": "2023-11-08T12:42:38.880Z"
   },
   {
    "duration": 57,
    "start_time": "2023-11-08T12:42:38.910Z"
   },
   {
    "duration": 75,
    "start_time": "2023-11-08T12:42:38.968Z"
   },
   {
    "duration": 65,
    "start_time": "2023-11-08T12:42:39.044Z"
   },
   {
    "duration": 37,
    "start_time": "2023-11-08T12:42:39.111Z"
   },
   {
    "duration": 13,
    "start_time": "2023-11-08T12:42:39.150Z"
   },
   {
    "duration": 75,
    "start_time": "2023-11-08T12:42:39.165Z"
   },
   {
    "duration": 44,
    "start_time": "2023-11-08T12:42:39.243Z"
   },
   {
    "duration": 11,
    "start_time": "2023-11-08T12:42:39.290Z"
   },
   {
    "duration": 8,
    "start_time": "2023-11-08T12:42:39.303Z"
   },
   {
    "duration": 11,
    "start_time": "2023-11-08T12:42:39.313Z"
   },
   {
    "duration": 10,
    "start_time": "2023-11-08T12:42:39.326Z"
   },
   {
    "duration": 9,
    "start_time": "2023-11-08T12:42:39.338Z"
   },
   {
    "duration": 1263,
    "start_time": "2023-11-08T12:44:18.622Z"
   },
   {
    "duration": 85,
    "start_time": "2023-11-08T12:44:19.887Z"
   },
   {
    "duration": 21,
    "start_time": "2023-11-08T12:44:19.974Z"
   },
   {
    "duration": 22,
    "start_time": "2023-11-08T12:44:19.997Z"
   },
   {
    "duration": 41,
    "start_time": "2023-11-08T12:44:20.021Z"
   },
   {
    "duration": 500,
    "start_time": "2023-11-08T12:44:20.063Z"
   },
   {
    "duration": 6,
    "start_time": "2023-11-08T12:44:20.565Z"
   },
   {
    "duration": 13,
    "start_time": "2023-11-08T12:44:20.573Z"
   },
   {
    "duration": 30,
    "start_time": "2023-11-08T12:44:20.588Z"
   },
   {
    "duration": 19,
    "start_time": "2023-11-08T12:44:20.620Z"
   },
   {
    "duration": 21,
    "start_time": "2023-11-08T12:44:20.641Z"
   },
   {
    "duration": 29,
    "start_time": "2023-11-08T12:44:20.664Z"
   },
   {
    "duration": 15,
    "start_time": "2023-11-08T12:44:20.695Z"
   },
   {
    "duration": 28,
    "start_time": "2023-11-08T12:44:20.711Z"
   },
   {
    "duration": 16,
    "start_time": "2023-11-08T12:44:20.741Z"
   },
   {
    "duration": 11,
    "start_time": "2023-11-08T12:44:20.759Z"
   },
   {
    "duration": 10,
    "start_time": "2023-11-08T12:44:20.772Z"
   },
   {
    "duration": 22,
    "start_time": "2023-11-08T12:44:20.784Z"
   },
   {
    "duration": 24,
    "start_time": "2023-11-08T12:44:20.807Z"
   },
   {
    "duration": 4,
    "start_time": "2023-11-08T12:44:20.838Z"
   },
   {
    "duration": 15,
    "start_time": "2023-11-08T12:44:20.844Z"
   },
   {
    "duration": 23,
    "start_time": "2023-11-08T12:44:20.861Z"
   },
   {
    "duration": 16,
    "start_time": "2023-11-08T12:44:20.886Z"
   },
   {
    "duration": 36,
    "start_time": "2023-11-08T12:44:20.904Z"
   },
   {
    "duration": 11,
    "start_time": "2023-11-08T12:44:20.941Z"
   },
   {
    "duration": 9,
    "start_time": "2023-11-08T12:44:20.954Z"
   },
   {
    "duration": 22,
    "start_time": "2023-11-08T12:44:20.965Z"
   },
   {
    "duration": 12,
    "start_time": "2023-11-08T12:44:20.990Z"
   },
   {
    "duration": 40,
    "start_time": "2023-11-08T12:44:21.003Z"
   },
   {
    "duration": 10,
    "start_time": "2023-11-08T12:44:21.045Z"
   },
   {
    "duration": 22,
    "start_time": "2023-11-08T12:44:21.056Z"
   },
   {
    "duration": 13,
    "start_time": "2023-11-08T12:44:21.080Z"
   },
   {
    "duration": 36,
    "start_time": "2023-11-08T12:44:21.095Z"
   },
   {
    "duration": 8,
    "start_time": "2023-11-08T12:44:21.135Z"
   },
   {
    "duration": 18,
    "start_time": "2023-11-08T12:44:21.145Z"
   },
   {
    "duration": 11,
    "start_time": "2023-11-08T12:44:21.165Z"
   },
   {
    "duration": 20,
    "start_time": "2023-11-08T12:44:21.178Z"
   },
   {
    "duration": 37,
    "start_time": "2023-11-08T12:44:21.199Z"
   },
   {
    "duration": 10,
    "start_time": "2023-11-08T12:44:21.238Z"
   },
   {
    "duration": 9,
    "start_time": "2023-11-08T12:44:21.250Z"
   },
   {
    "duration": 13,
    "start_time": "2023-11-08T12:44:21.261Z"
   },
   {
    "duration": 17,
    "start_time": "2023-11-08T12:44:21.275Z"
   },
   {
    "duration": 35,
    "start_time": "2023-11-08T12:44:21.294Z"
   },
   {
    "duration": 13,
    "start_time": "2023-11-08T12:44:21.331Z"
   },
   {
    "duration": 7,
    "start_time": "2023-11-08T12:44:21.345Z"
   },
   {
    "duration": 14,
    "start_time": "2023-11-08T12:44:21.353Z"
   },
   {
    "duration": 6,
    "start_time": "2023-11-08T12:44:21.368Z"
   },
   {
    "duration": 41,
    "start_time": "2023-11-08T12:44:21.376Z"
   },
   {
    "duration": 23,
    "start_time": "2023-11-08T12:44:21.418Z"
   },
   {
    "duration": 12,
    "start_time": "2023-11-08T12:44:21.443Z"
   },
   {
    "duration": 11,
    "start_time": "2023-11-08T12:44:21.457Z"
   },
   {
    "duration": 15,
    "start_time": "2023-11-08T12:46:12.053Z"
   },
   {
    "duration": 10,
    "start_time": "2023-11-08T12:48:12.487Z"
   },
   {
    "duration": 10,
    "start_time": "2023-11-08T12:48:38.063Z"
   },
   {
    "duration": 13,
    "start_time": "2023-11-08T12:50:29.346Z"
   },
   {
    "duration": 11,
    "start_time": "2023-11-08T12:50:53.753Z"
   },
   {
    "duration": 13,
    "start_time": "2023-11-08T12:50:54.431Z"
   },
   {
    "duration": 14,
    "start_time": "2023-11-08T12:50:55.660Z"
   },
   {
    "duration": 10,
    "start_time": "2023-11-08T12:51:47.220Z"
   },
   {
    "duration": 12,
    "start_time": "2023-11-08T12:52:08.370Z"
   },
   {
    "duration": 8,
    "start_time": "2023-11-08T12:52:38.671Z"
   },
   {
    "duration": 13,
    "start_time": "2023-11-08T12:55:59.758Z"
   },
   {
    "duration": 141,
    "start_time": "2023-11-08T12:56:58.706Z"
   },
   {
    "duration": 17,
    "start_time": "2023-11-08T12:57:05.221Z"
   },
   {
    "duration": 24,
    "start_time": "2023-11-08T12:57:15.049Z"
   },
   {
    "duration": 107,
    "start_time": "2023-11-08T13:03:05.195Z"
   },
   {
    "duration": 20,
    "start_time": "2023-11-08T13:03:16.945Z"
   },
   {
    "duration": 193,
    "start_time": "2023-11-08T13:08:55.199Z"
   },
   {
    "duration": 18,
    "start_time": "2023-11-08T13:09:11.097Z"
   },
   {
    "duration": 12,
    "start_time": "2023-11-08T13:09:52.606Z"
   },
   {
    "duration": 12,
    "start_time": "2023-11-08T13:10:02.589Z"
   },
   {
    "duration": 15,
    "start_time": "2023-11-08T13:10:14.222Z"
   },
   {
    "duration": 10,
    "start_time": "2023-11-08T13:10:26.807Z"
   },
   {
    "duration": 1234,
    "start_time": "2023-11-08T13:14:37.430Z"
   },
   {
    "duration": 86,
    "start_time": "2023-11-08T13:14:38.666Z"
   },
   {
    "duration": 20,
    "start_time": "2023-11-08T13:14:38.754Z"
   },
   {
    "duration": 21,
    "start_time": "2023-11-08T13:14:38.776Z"
   },
   {
    "duration": 36,
    "start_time": "2023-11-08T13:14:38.799Z"
   },
   {
    "duration": 548,
    "start_time": "2023-11-08T13:14:38.838Z"
   },
   {
    "duration": 6,
    "start_time": "2023-11-08T13:14:39.388Z"
   },
   {
    "duration": 60,
    "start_time": "2023-11-08T13:14:39.396Z"
   },
   {
    "duration": 23,
    "start_time": "2023-11-08T13:14:39.458Z"
   },
   {
    "duration": 50,
    "start_time": "2023-11-08T13:14:39.483Z"
   },
   {
    "duration": 38,
    "start_time": "2023-11-08T13:14:39.535Z"
   },
   {
    "duration": 47,
    "start_time": "2023-11-08T13:14:39.575Z"
   },
   {
    "duration": 16,
    "start_time": "2023-11-08T13:14:39.624Z"
   },
   {
    "duration": 25,
    "start_time": "2023-11-08T13:14:39.643Z"
   },
   {
    "duration": 93,
    "start_time": "2023-11-08T13:14:39.670Z"
   },
   {
    "duration": 55,
    "start_time": "2023-11-08T13:14:39.764Z"
   },
   {
    "duration": 28,
    "start_time": "2023-11-08T13:14:39.822Z"
   },
   {
    "duration": 12,
    "start_time": "2023-11-08T13:14:39.852Z"
   },
   {
    "duration": 9,
    "start_time": "2023-11-08T13:14:39.866Z"
   },
   {
    "duration": 18,
    "start_time": "2023-11-08T13:14:39.877Z"
   },
   {
    "duration": 25,
    "start_time": "2023-11-08T13:14:39.897Z"
   },
   {
    "duration": 23,
    "start_time": "2023-11-08T13:14:39.925Z"
   },
   {
    "duration": 12,
    "start_time": "2023-11-08T13:14:39.950Z"
   },
   {
    "duration": 11,
    "start_time": "2023-11-08T13:14:39.963Z"
   },
   {
    "duration": 201,
    "start_time": "2023-11-08T13:14:39.975Z"
   },
   {
    "duration": 9,
    "start_time": "2023-11-08T13:14:40.178Z"
   },
   {
    "duration": 18,
    "start_time": "2023-11-08T13:14:40.188Z"
   },
   {
    "duration": 10,
    "start_time": "2023-11-08T13:14:40.208Z"
   },
   {
    "duration": 20,
    "start_time": "2023-11-08T13:14:40.220Z"
   },
   {
    "duration": 10,
    "start_time": "2023-11-08T13:14:40.242Z"
   },
   {
    "duration": 5,
    "start_time": "2023-11-08T13:14:40.253Z"
   },
   {
    "duration": 9,
    "start_time": "2023-11-08T13:14:40.260Z"
   },
   {
    "duration": 25,
    "start_time": "2023-11-08T13:14:40.271Z"
   },
   {
    "duration": 13,
    "start_time": "2023-11-08T13:14:40.298Z"
   },
   {
    "duration": 8,
    "start_time": "2023-11-08T13:14:40.312Z"
   },
   {
    "duration": 16,
    "start_time": "2023-11-08T13:14:40.322Z"
   },
   {
    "duration": 8,
    "start_time": "2023-11-08T13:14:40.340Z"
   },
   {
    "duration": 18,
    "start_time": "2023-11-08T13:14:40.349Z"
   },
   {
    "duration": 42,
    "start_time": "2023-11-08T13:14:40.368Z"
   },
   {
    "duration": 16,
    "start_time": "2023-11-08T13:14:40.413Z"
   },
   {
    "duration": 16,
    "start_time": "2023-11-08T13:14:40.434Z"
   },
   {
    "duration": 19,
    "start_time": "2023-11-08T13:14:40.451Z"
   },
   {
    "duration": 8,
    "start_time": "2023-11-08T13:14:40.472Z"
   },
   {
    "duration": 23,
    "start_time": "2023-11-08T13:14:40.482Z"
   },
   {
    "duration": 10,
    "start_time": "2023-11-08T13:14:40.506Z"
   },
   {
    "duration": 4,
    "start_time": "2023-11-08T13:14:40.517Z"
   },
   {
    "duration": 15,
    "start_time": "2023-11-08T13:14:40.522Z"
   },
   {
    "duration": 4,
    "start_time": "2023-11-08T13:14:40.539Z"
   },
   {
    "duration": 7,
    "start_time": "2023-11-08T13:14:40.544Z"
   },
   {
    "duration": 5,
    "start_time": "2023-11-08T13:14:40.553Z"
   },
   {
    "duration": 20,
    "start_time": "2023-11-08T13:15:08.261Z"
   },
   {
    "duration": 9,
    "start_time": "2023-11-08T13:15:22.043Z"
   },
   {
    "duration": 1390,
    "start_time": "2023-11-08T13:16:09.909Z"
   },
   {
    "duration": 99,
    "start_time": "2023-11-08T13:16:11.301Z"
   },
   {
    "duration": 23,
    "start_time": "2023-11-08T13:16:11.402Z"
   },
   {
    "duration": 33,
    "start_time": "2023-11-08T13:16:11.429Z"
   },
   {
    "duration": 20,
    "start_time": "2023-11-08T13:16:11.464Z"
   },
   {
    "duration": 580,
    "start_time": "2023-11-08T13:16:11.486Z"
   },
   {
    "duration": 6,
    "start_time": "2023-11-08T13:16:12.068Z"
   },
   {
    "duration": 8,
    "start_time": "2023-11-08T13:16:12.076Z"
   },
   {
    "duration": 8,
    "start_time": "2023-11-08T13:16:12.086Z"
   },
   {
    "duration": 11,
    "start_time": "2023-11-08T13:16:12.096Z"
   },
   {
    "duration": 20,
    "start_time": "2023-11-08T13:16:12.109Z"
   },
   {
    "duration": 18,
    "start_time": "2023-11-08T13:16:12.131Z"
   },
   {
    "duration": 6,
    "start_time": "2023-11-08T13:16:12.152Z"
   },
   {
    "duration": 6,
    "start_time": "2023-11-08T13:16:12.161Z"
   },
   {
    "duration": 9,
    "start_time": "2023-11-08T13:16:12.169Z"
   },
   {
    "duration": 7,
    "start_time": "2023-11-08T13:16:12.179Z"
   },
   {
    "duration": 4,
    "start_time": "2023-11-08T13:16:12.188Z"
   },
   {
    "duration": 48,
    "start_time": "2023-11-08T13:16:12.193Z"
   },
   {
    "duration": 13,
    "start_time": "2023-11-08T13:16:12.243Z"
   },
   {
    "duration": 5,
    "start_time": "2023-11-08T13:16:12.258Z"
   },
   {
    "duration": 16,
    "start_time": "2023-11-08T13:16:12.264Z"
   },
   {
    "duration": 16,
    "start_time": "2023-11-08T13:16:12.282Z"
   },
   {
    "duration": 44,
    "start_time": "2023-11-08T13:16:12.300Z"
   },
   {
    "duration": 13,
    "start_time": "2023-11-08T13:16:12.346Z"
   },
   {
    "duration": 207,
    "start_time": "2023-11-08T13:16:12.361Z"
   },
   {
    "duration": 10,
    "start_time": "2023-11-08T13:16:12.570Z"
   },
   {
    "duration": 190,
    "start_time": "2023-11-08T13:16:12.582Z"
   },
   {
    "duration": 326,
    "start_time": "2023-11-08T13:16:12.773Z"
   },
   {
    "duration": 118,
    "start_time": "2023-11-08T13:16:13.101Z"
   },
   {
    "duration": 83,
    "start_time": "2023-11-08T13:16:13.221Z"
   },
   {
    "duration": 47,
    "start_time": "2023-11-08T13:16:13.306Z"
   },
   {
    "duration": 83,
    "start_time": "2023-11-08T13:16:13.356Z"
   },
   {
    "duration": 115,
    "start_time": "2023-11-08T13:16:13.441Z"
   },
   {
    "duration": 91,
    "start_time": "2023-11-08T13:16:13.558Z"
   },
   {
    "duration": 46,
    "start_time": "2023-11-08T13:16:13.651Z"
   },
   {
    "duration": 59,
    "start_time": "2023-11-08T13:16:13.699Z"
   },
   {
    "duration": 97,
    "start_time": "2023-11-08T13:16:13.759Z"
   },
   {
    "duration": 51,
    "start_time": "2023-11-08T13:16:13.858Z"
   },
   {
    "duration": 43,
    "start_time": "2023-11-08T13:16:13.911Z"
   },
   {
    "duration": 42,
    "start_time": "2023-11-08T13:16:13.956Z"
   },
   {
    "duration": 87,
    "start_time": "2023-11-08T13:16:14.002Z"
   },
   {
    "duration": 96,
    "start_time": "2023-11-08T13:16:14.091Z"
   },
   {
    "duration": 64,
    "start_time": "2023-11-08T13:16:14.189Z"
   },
   {
    "duration": 185,
    "start_time": "2023-11-08T13:16:14.255Z"
   },
   {
    "duration": 17,
    "start_time": "2023-11-08T13:16:14.442Z"
   },
   {
    "duration": 26,
    "start_time": "2023-11-08T13:16:14.461Z"
   },
   {
    "duration": 15,
    "start_time": "2023-11-08T13:16:14.490Z"
   },
   {
    "duration": 8,
    "start_time": "2023-11-08T13:22:34.436Z"
   },
   {
    "duration": 1230,
    "start_time": "2023-11-08T13:22:42.561Z"
   },
   {
    "duration": 83,
    "start_time": "2023-11-08T13:22:43.793Z"
   },
   {
    "duration": 21,
    "start_time": "2023-11-08T13:22:43.878Z"
   },
   {
    "duration": 21,
    "start_time": "2023-11-08T13:22:43.901Z"
   },
   {
    "duration": 36,
    "start_time": "2023-11-08T13:22:43.926Z"
   },
   {
    "duration": 482,
    "start_time": "2023-11-08T13:22:43.964Z"
   },
   {
    "duration": 5,
    "start_time": "2023-11-08T13:22:44.448Z"
   },
   {
    "duration": 66,
    "start_time": "2023-11-08T13:22:44.455Z"
   },
   {
    "duration": 105,
    "start_time": "2023-11-08T13:22:44.525Z"
   },
   {
    "duration": 40,
    "start_time": "2023-11-08T13:22:44.634Z"
   },
   {
    "duration": 23,
    "start_time": "2023-11-08T13:22:44.675Z"
   },
   {
    "duration": 35,
    "start_time": "2023-11-08T13:22:44.700Z"
   },
   {
    "duration": 19,
    "start_time": "2023-11-08T13:22:44.737Z"
   },
   {
    "duration": 43,
    "start_time": "2023-11-08T13:22:44.758Z"
   },
   {
    "duration": 38,
    "start_time": "2023-11-08T13:22:44.803Z"
   },
   {
    "duration": 49,
    "start_time": "2023-11-08T13:22:44.843Z"
   },
   {
    "duration": 28,
    "start_time": "2023-11-08T13:22:44.894Z"
   },
   {
    "duration": 46,
    "start_time": "2023-11-08T13:22:44.924Z"
   },
   {
    "duration": 55,
    "start_time": "2023-11-08T13:22:44.972Z"
   },
   {
    "duration": 60,
    "start_time": "2023-11-08T13:22:45.033Z"
   },
   {
    "duration": 59,
    "start_time": "2023-11-08T13:22:45.095Z"
   },
   {
    "duration": 58,
    "start_time": "2023-11-08T13:22:45.156Z"
   },
   {
    "duration": 35,
    "start_time": "2023-11-08T13:22:45.216Z"
   },
   {
    "duration": 48,
    "start_time": "2023-11-08T13:22:45.253Z"
   },
   {
    "duration": 33,
    "start_time": "2023-11-08T13:22:45.303Z"
   },
   {
    "duration": 199,
    "start_time": "2023-11-08T13:22:45.338Z"
   },
   {
    "duration": 9,
    "start_time": "2023-11-08T13:22:45.539Z"
   },
   {
    "duration": 56,
    "start_time": "2023-11-08T13:22:45.552Z"
   },
   {
    "duration": 24,
    "start_time": "2023-11-08T13:22:45.610Z"
   },
   {
    "duration": 22,
    "start_time": "2023-11-08T13:22:45.638Z"
   },
   {
    "duration": 37,
    "start_time": "2023-11-08T13:22:45.661Z"
   },
   {
    "duration": 28,
    "start_time": "2023-11-08T13:22:45.699Z"
   },
   {
    "duration": 5,
    "start_time": "2023-11-08T13:22:45.734Z"
   },
   {
    "duration": 98,
    "start_time": "2023-11-08T13:22:45.740Z"
   },
   {
    "duration": 55,
    "start_time": "2023-11-08T13:22:45.840Z"
   },
   {
    "duration": 22,
    "start_time": "2023-11-08T13:22:45.899Z"
   },
   {
    "duration": 43,
    "start_time": "2023-11-08T13:22:45.922Z"
   },
   {
    "duration": 38,
    "start_time": "2023-11-08T13:22:45.967Z"
   },
   {
    "duration": 45,
    "start_time": "2023-11-08T13:22:46.007Z"
   },
   {
    "duration": 40,
    "start_time": "2023-11-08T13:22:46.054Z"
   },
   {
    "duration": 24,
    "start_time": "2023-11-08T13:22:46.096Z"
   },
   {
    "duration": 36,
    "start_time": "2023-11-08T13:22:46.122Z"
   },
   {
    "duration": 20,
    "start_time": "2023-11-08T13:22:46.159Z"
   },
   {
    "duration": 23,
    "start_time": "2023-11-08T13:22:46.181Z"
   },
   {
    "duration": 34,
    "start_time": "2023-11-08T13:22:46.206Z"
   },
   {
    "duration": 24,
    "start_time": "2023-11-08T13:22:46.242Z"
   },
   {
    "duration": 23,
    "start_time": "2023-11-08T13:22:46.268Z"
   },
   {
    "duration": 28,
    "start_time": "2023-11-08T13:22:46.293Z"
   },
   {
    "duration": 14,
    "start_time": "2023-11-08T13:24:11.430Z"
   },
   {
    "duration": 5,
    "start_time": "2023-11-08T13:27:09.362Z"
   },
   {
    "duration": 11,
    "start_time": "2023-11-08T13:27:15.077Z"
   },
   {
    "duration": 152,
    "start_time": "2023-11-08T13:44:51.307Z"
   },
   {
    "duration": 12,
    "start_time": "2023-11-08T13:44:57.172Z"
   },
   {
    "duration": 10,
    "start_time": "2023-11-08T13:45:05.456Z"
   },
   {
    "duration": 21,
    "start_time": "2023-11-08T13:47:13.558Z"
   },
   {
    "duration": 16,
    "start_time": "2023-11-08T13:47:21.917Z"
   },
   {
    "duration": 10,
    "start_time": "2023-11-08T13:49:02.662Z"
   },
   {
    "duration": 16,
    "start_time": "2023-11-08T13:49:51.443Z"
   },
   {
    "duration": 11,
    "start_time": "2023-11-08T13:50:54.624Z"
   },
   {
    "duration": 32,
    "start_time": "2023-11-08T13:51:10.006Z"
   },
   {
    "duration": 22,
    "start_time": "2023-11-08T13:51:27.416Z"
   },
   {
    "duration": 4,
    "start_time": "2023-11-08T13:52:10.706Z"
   },
   {
    "duration": 8,
    "start_time": "2023-11-08T13:52:14.243Z"
   },
   {
    "duration": 12,
    "start_time": "2023-11-08T13:52:20.173Z"
   },
   {
    "duration": 10,
    "start_time": "2023-11-08T13:53:35.589Z"
   },
   {
    "duration": 1595,
    "start_time": "2023-11-08T13:53:45.170Z"
   },
   {
    "duration": 91,
    "start_time": "2023-11-08T13:53:46.767Z"
   },
   {
    "duration": 21,
    "start_time": "2023-11-08T13:53:46.860Z"
   },
   {
    "duration": 37,
    "start_time": "2023-11-08T13:53:46.884Z"
   },
   {
    "duration": 32,
    "start_time": "2023-11-08T13:53:46.928Z"
   },
   {
    "duration": 496,
    "start_time": "2023-11-08T13:53:46.963Z"
   },
   {
    "duration": 5,
    "start_time": "2023-11-08T13:53:47.461Z"
   },
   {
    "duration": 208,
    "start_time": "2023-11-08T13:53:47.468Z"
   },
   {
    "duration": 58,
    "start_time": "2023-11-08T13:53:47.678Z"
   },
   {
    "duration": 17,
    "start_time": "2023-11-08T13:53:47.739Z"
   },
   {
    "duration": 16,
    "start_time": "2023-11-08T13:53:47.757Z"
   },
   {
    "duration": 32,
    "start_time": "2023-11-08T13:53:47.775Z"
   },
   {
    "duration": 107,
    "start_time": "2023-11-08T13:53:47.809Z"
   },
   {
    "duration": 17,
    "start_time": "2023-11-08T13:53:47.918Z"
   },
   {
    "duration": 35,
    "start_time": "2023-11-08T13:53:47.937Z"
   },
   {
    "duration": 40,
    "start_time": "2023-11-08T13:53:47.974Z"
   },
   {
    "duration": 88,
    "start_time": "2023-11-08T13:53:48.016Z"
   },
   {
    "duration": 149,
    "start_time": "2023-11-08T13:53:48.106Z"
   },
   {
    "duration": 36,
    "start_time": "2023-11-08T13:53:48.256Z"
   },
   {
    "duration": 77,
    "start_time": "2023-11-08T13:53:48.294Z"
   },
   {
    "duration": 240,
    "start_time": "2023-11-08T13:53:48.373Z"
   },
   {
    "duration": 120,
    "start_time": "2023-11-08T13:53:48.615Z"
   },
   {
    "duration": 195,
    "start_time": "2023-11-08T13:53:48.737Z"
   },
   {
    "duration": 243,
    "start_time": "2023-11-08T13:53:48.938Z"
   },
   {
    "duration": 104,
    "start_time": "2023-11-08T13:53:49.184Z"
   },
   {
    "duration": 299,
    "start_time": "2023-11-08T13:53:49.290Z"
   },
   {
    "duration": 11,
    "start_time": "2023-11-08T13:53:49.591Z"
   },
   {
    "duration": 54,
    "start_time": "2023-11-08T13:53:49.607Z"
   },
   {
    "duration": 58,
    "start_time": "2023-11-08T13:53:49.663Z"
   },
   {
    "duration": 76,
    "start_time": "2023-11-08T13:53:49.723Z"
   },
   {
    "duration": 51,
    "start_time": "2023-11-08T13:53:49.801Z"
   },
   {
    "duration": 39,
    "start_time": "2023-11-08T13:53:49.853Z"
   },
   {
    "duration": 164,
    "start_time": "2023-11-08T13:53:49.894Z"
   },
   {
    "duration": 129,
    "start_time": "2023-11-08T13:53:50.061Z"
   },
   {
    "duration": 47,
    "start_time": "2023-11-08T13:53:50.192Z"
   },
   {
    "duration": 18,
    "start_time": "2023-11-08T13:53:50.241Z"
   },
   {
    "duration": 43,
    "start_time": "2023-11-08T13:53:50.260Z"
   },
   {
    "duration": 15,
    "start_time": "2023-11-08T13:53:50.305Z"
   },
   {
    "duration": 17,
    "start_time": "2023-11-08T13:53:50.322Z"
   },
   {
    "duration": 7,
    "start_time": "2023-11-08T13:53:50.340Z"
   },
   {
    "duration": 26,
    "start_time": "2023-11-08T13:53:50.349Z"
   },
   {
    "duration": 12,
    "start_time": "2023-11-08T13:53:50.377Z"
   },
   {
    "duration": 38,
    "start_time": "2023-11-08T13:53:50.391Z"
   },
   {
    "duration": 12,
    "start_time": "2023-11-08T13:53:50.435Z"
   },
   {
    "duration": 35,
    "start_time": "2023-11-08T13:53:50.449Z"
   },
   {
    "duration": 33,
    "start_time": "2023-11-08T13:53:50.486Z"
   },
   {
    "duration": 52,
    "start_time": "2023-11-08T13:53:50.521Z"
   },
   {
    "duration": 0,
    "start_time": "2023-11-08T13:53:50.575Z"
   },
   {
    "duration": 0,
    "start_time": "2023-11-08T13:53:50.576Z"
   },
   {
    "duration": 12,
    "start_time": "2023-11-08T13:54:10.931Z"
   },
   {
    "duration": 1300,
    "start_time": "2023-11-08T14:11:35.888Z"
   },
   {
    "duration": 95,
    "start_time": "2023-11-08T14:11:37.190Z"
   },
   {
    "duration": 23,
    "start_time": "2023-11-08T14:11:37.287Z"
   },
   {
    "duration": 23,
    "start_time": "2023-11-08T14:11:37.312Z"
   },
   {
    "duration": 31,
    "start_time": "2023-11-08T14:11:37.336Z"
   },
   {
    "duration": 507,
    "start_time": "2023-11-08T14:11:37.369Z"
   },
   {
    "duration": 6,
    "start_time": "2023-11-08T14:11:37.877Z"
   },
   {
    "duration": 24,
    "start_time": "2023-11-08T14:11:37.884Z"
   },
   {
    "duration": 34,
    "start_time": "2023-11-08T14:11:37.910Z"
   },
   {
    "duration": 16,
    "start_time": "2023-11-08T14:11:37.947Z"
   },
   {
    "duration": 21,
    "start_time": "2023-11-08T14:11:37.964Z"
   },
   {
    "duration": 28,
    "start_time": "2023-11-08T14:11:37.986Z"
   },
   {
    "duration": 31,
    "start_time": "2023-11-08T14:11:38.016Z"
   },
   {
    "duration": 9,
    "start_time": "2023-11-08T14:11:38.050Z"
   },
   {
    "duration": 10,
    "start_time": "2023-11-08T14:11:38.060Z"
   },
   {
    "duration": 10,
    "start_time": "2023-11-08T14:11:38.071Z"
   },
   {
    "duration": 4,
    "start_time": "2023-11-08T14:11:38.082Z"
   },
   {
    "duration": 27,
    "start_time": "2023-11-08T14:11:38.088Z"
   },
   {
    "duration": 13,
    "start_time": "2023-11-08T14:11:38.116Z"
   },
   {
    "duration": 6,
    "start_time": "2023-11-08T14:11:38.133Z"
   },
   {
    "duration": 18,
    "start_time": "2023-11-08T14:11:38.145Z"
   },
   {
    "duration": 15,
    "start_time": "2023-11-08T14:11:38.165Z"
   },
   {
    "duration": 13,
    "start_time": "2023-11-08T14:11:38.182Z"
   },
   {
    "duration": 38,
    "start_time": "2023-11-08T14:11:38.196Z"
   },
   {
    "duration": 12,
    "start_time": "2023-11-08T14:11:38.236Z"
   },
   {
    "duration": 3,
    "start_time": "2023-11-08T14:11:38.253Z"
   },
   {
    "duration": 14,
    "start_time": "2023-11-08T14:11:38.258Z"
   },
   {
    "duration": 17,
    "start_time": "2023-11-08T14:11:38.275Z"
   },
   {
    "duration": 31,
    "start_time": "2023-11-08T14:11:38.294Z"
   },
   {
    "duration": 16,
    "start_time": "2023-11-08T14:11:38.327Z"
   },
   {
    "duration": 11,
    "start_time": "2023-11-08T14:11:38.354Z"
   },
   {
    "duration": 5,
    "start_time": "2023-11-08T14:11:38.366Z"
   },
   {
    "duration": 5,
    "start_time": "2023-11-08T14:11:38.372Z"
   },
   {
    "duration": 19,
    "start_time": "2023-11-08T14:11:38.378Z"
   },
   {
    "duration": 27,
    "start_time": "2023-11-08T14:11:38.398Z"
   },
   {
    "duration": 24,
    "start_time": "2023-11-08T14:11:38.433Z"
   },
   {
    "duration": 9,
    "start_time": "2023-11-08T14:11:38.459Z"
   },
   {
    "duration": 19,
    "start_time": "2023-11-08T14:11:38.470Z"
   },
   {
    "duration": 33,
    "start_time": "2023-11-08T14:11:38.490Z"
   },
   {
    "duration": 9,
    "start_time": "2023-11-08T14:11:38.525Z"
   },
   {
    "duration": 9,
    "start_time": "2023-11-08T14:11:38.535Z"
   },
   {
    "duration": 16,
    "start_time": "2023-11-08T14:11:38.548Z"
   },
   {
    "duration": 42,
    "start_time": "2023-11-08T14:11:38.566Z"
   },
   {
    "duration": 32,
    "start_time": "2023-11-08T14:11:38.610Z"
   },
   {
    "duration": 10,
    "start_time": "2023-11-08T14:11:38.647Z"
   },
   {
    "duration": 25,
    "start_time": "2023-11-08T14:11:38.659Z"
   },
   {
    "duration": 14,
    "start_time": "2023-11-08T14:11:38.686Z"
   },
   {
    "duration": 1234,
    "start_time": "2023-11-08T14:12:29.375Z"
   },
   {
    "duration": 103,
    "start_time": "2023-11-08T14:12:30.611Z"
   },
   {
    "duration": 147,
    "start_time": "2023-11-08T14:12:30.716Z"
   },
   {
    "duration": 149,
    "start_time": "2023-11-08T14:12:30.865Z"
   },
   {
    "duration": 125,
    "start_time": "2023-11-08T14:12:31.016Z"
   },
   {
    "duration": 556,
    "start_time": "2023-11-08T14:12:31.144Z"
   },
   {
    "duration": 5,
    "start_time": "2023-11-08T14:12:31.702Z"
   },
   {
    "duration": 202,
    "start_time": "2023-11-08T14:12:31.709Z"
   },
   {
    "duration": 57,
    "start_time": "2023-11-08T14:12:31.913Z"
   },
   {
    "duration": 51,
    "start_time": "2023-11-08T14:12:31.972Z"
   },
   {
    "duration": 100,
    "start_time": "2023-11-08T14:12:32.025Z"
   },
   {
    "duration": 83,
    "start_time": "2023-11-08T14:12:32.127Z"
   },
   {
    "duration": 138,
    "start_time": "2023-11-08T14:12:32.212Z"
   },
   {
    "duration": 178,
    "start_time": "2023-11-08T14:12:32.354Z"
   },
   {
    "duration": 164,
    "start_time": "2023-11-08T14:12:32.541Z"
   },
   {
    "duration": 135,
    "start_time": "2023-11-08T14:12:32.707Z"
   },
   {
    "duration": 145,
    "start_time": "2023-11-08T14:12:32.844Z"
   },
   {
    "duration": 131,
    "start_time": "2023-11-08T14:12:32.991Z"
   },
   {
    "duration": 80,
    "start_time": "2023-11-08T14:12:33.124Z"
   },
   {
    "duration": 26,
    "start_time": "2023-11-08T14:12:33.205Z"
   },
   {
    "duration": 36,
    "start_time": "2023-11-08T14:12:33.233Z"
   },
   {
    "duration": 31,
    "start_time": "2023-11-08T14:12:33.271Z"
   },
   {
    "duration": 12,
    "start_time": "2023-11-08T14:12:33.303Z"
   },
   {
    "duration": 21,
    "start_time": "2023-11-08T14:12:33.317Z"
   },
   {
    "duration": 15,
    "start_time": "2023-11-08T14:12:33.339Z"
   },
   {
    "duration": 192,
    "start_time": "2023-11-08T14:12:33.356Z"
   },
   {
    "duration": 9,
    "start_time": "2023-11-08T14:12:33.550Z"
   },
   {
    "duration": 12,
    "start_time": "2023-11-08T14:12:33.561Z"
   },
   {
    "duration": 40,
    "start_time": "2023-11-08T14:12:33.575Z"
   },
   {
    "duration": 31,
    "start_time": "2023-11-08T14:12:33.617Z"
   },
   {
    "duration": 9,
    "start_time": "2023-11-08T14:12:33.650Z"
   },
   {
    "duration": 13,
    "start_time": "2023-11-08T14:12:33.661Z"
   },
   {
    "duration": 18,
    "start_time": "2023-11-08T14:12:33.676Z"
   },
   {
    "duration": 61,
    "start_time": "2023-11-08T14:12:33.696Z"
   },
   {
    "duration": 15,
    "start_time": "2023-11-08T14:12:33.759Z"
   },
   {
    "duration": 20,
    "start_time": "2023-11-08T14:12:33.776Z"
   },
   {
    "duration": 36,
    "start_time": "2023-11-08T14:12:33.798Z"
   },
   {
    "duration": 19,
    "start_time": "2023-11-08T14:12:33.835Z"
   },
   {
    "duration": 21,
    "start_time": "2023-11-08T14:12:33.856Z"
   },
   {
    "duration": 17,
    "start_time": "2023-11-08T14:12:33.879Z"
   },
   {
    "duration": 20,
    "start_time": "2023-11-08T14:12:33.900Z"
   },
   {
    "duration": 9,
    "start_time": "2023-11-08T14:12:33.922Z"
   },
   {
    "duration": 20,
    "start_time": "2023-11-08T14:12:33.939Z"
   },
   {
    "duration": 25,
    "start_time": "2023-11-08T14:12:33.960Z"
   },
   {
    "duration": 24,
    "start_time": "2023-11-08T14:12:33.987Z"
   },
   {
    "duration": 39,
    "start_time": "2023-11-08T14:12:34.012Z"
   },
   {
    "duration": 18,
    "start_time": "2023-11-08T14:12:34.053Z"
   },
   {
    "duration": 146,
    "start_time": "2023-11-08T14:16:16.012Z"
   },
   {
    "duration": 298,
    "start_time": "2023-11-08T14:16:24.101Z"
   },
   {
    "duration": 294,
    "start_time": "2023-11-08T14:16:32.236Z"
   },
   {
    "duration": 330,
    "start_time": "2023-11-08T14:18:47.811Z"
   },
   {
    "duration": 11,
    "start_time": "2023-11-08T14:18:53.562Z"
   },
   {
    "duration": 12,
    "start_time": "2023-11-08T14:20:24.811Z"
   },
   {
    "duration": 297,
    "start_time": "2023-11-08T14:20:34.813Z"
   },
   {
    "duration": 329,
    "start_time": "2023-11-08T14:20:49.046Z"
   },
   {
    "duration": 26,
    "start_time": "2023-11-08T14:25:27.416Z"
   },
   {
    "duration": 14,
    "start_time": "2023-11-08T14:28:19.555Z"
   },
   {
    "duration": 11,
    "start_time": "2023-11-08T14:28:28.762Z"
   },
   {
    "duration": 398,
    "start_time": "2023-11-08T14:29:05.083Z"
   },
   {
    "duration": 192,
    "start_time": "2023-11-08T14:29:22.103Z"
   },
   {
    "duration": 10,
    "start_time": "2023-11-08T14:30:14.966Z"
   },
   {
    "duration": 8,
    "start_time": "2023-11-08T14:30:36.187Z"
   },
   {
    "duration": 186,
    "start_time": "2023-11-08T14:30:42.245Z"
   },
   {
    "duration": 197,
    "start_time": "2023-11-08T14:30:52.853Z"
   },
   {
    "duration": 309,
    "start_time": "2023-11-08T14:31:11.054Z"
   },
   {
    "duration": 265,
    "start_time": "2023-11-08T14:34:43.350Z"
   },
   {
    "duration": 13,
    "start_time": "2023-11-08T14:36:12.990Z"
   },
   {
    "duration": 12,
    "start_time": "2023-11-08T14:36:23.522Z"
   },
   {
    "duration": 306,
    "start_time": "2023-11-08T14:36:27.756Z"
   },
   {
    "duration": 4,
    "start_time": "2023-11-08T14:37:51.257Z"
   },
   {
    "duration": 12,
    "start_time": "2023-11-08T14:38:00.107Z"
   },
   {
    "duration": 11,
    "start_time": "2023-11-08T14:38:26.357Z"
   },
   {
    "duration": 1210,
    "start_time": "2023-11-08T14:38:37.260Z"
   },
   {
    "duration": 94,
    "start_time": "2023-11-08T14:38:38.472Z"
   },
   {
    "duration": 20,
    "start_time": "2023-11-08T14:38:38.568Z"
   },
   {
    "duration": 21,
    "start_time": "2023-11-08T14:38:38.590Z"
   },
   {
    "duration": 25,
    "start_time": "2023-11-08T14:38:38.613Z"
   },
   {
    "duration": 530,
    "start_time": "2023-11-08T14:38:38.640Z"
   },
   {
    "duration": 6,
    "start_time": "2023-11-08T14:38:39.172Z"
   },
   {
    "duration": 25,
    "start_time": "2023-11-08T14:38:39.180Z"
   },
   {
    "duration": 34,
    "start_time": "2023-11-08T14:38:39.207Z"
   },
   {
    "duration": 7,
    "start_time": "2023-11-08T14:38:39.245Z"
   },
   {
    "duration": 7,
    "start_time": "2023-11-08T14:38:39.254Z"
   },
   {
    "duration": 17,
    "start_time": "2023-11-08T14:38:39.263Z"
   },
   {
    "duration": 6,
    "start_time": "2023-11-08T14:38:39.281Z"
   },
   {
    "duration": 16,
    "start_time": "2023-11-08T14:38:39.289Z"
   },
   {
    "duration": 12,
    "start_time": "2023-11-08T14:38:39.308Z"
   },
   {
    "duration": 28,
    "start_time": "2023-11-08T14:38:39.322Z"
   },
   {
    "duration": 6,
    "start_time": "2023-11-08T14:38:39.355Z"
   },
   {
    "duration": 18,
    "start_time": "2023-11-08T14:38:39.364Z"
   },
   {
    "duration": 8,
    "start_time": "2023-11-08T14:38:39.384Z"
   },
   {
    "duration": 4,
    "start_time": "2023-11-08T14:38:39.393Z"
   },
   {
    "duration": 12,
    "start_time": "2023-11-08T14:38:39.399Z"
   },
   {
    "duration": 31,
    "start_time": "2023-11-08T14:38:39.412Z"
   },
   {
    "duration": 14,
    "start_time": "2023-11-08T14:38:39.444Z"
   },
   {
    "duration": 21,
    "start_time": "2023-11-08T14:38:39.460Z"
   },
   {
    "duration": 21,
    "start_time": "2023-11-08T14:38:39.484Z"
   },
   {
    "duration": 190,
    "start_time": "2023-11-08T14:38:39.506Z"
   },
   {
    "duration": 9,
    "start_time": "2023-11-08T14:38:39.698Z"
   },
   {
    "duration": 33,
    "start_time": "2023-11-08T14:38:39.711Z"
   },
   {
    "duration": 11,
    "start_time": "2023-11-08T14:38:39.749Z"
   },
   {
    "duration": 8,
    "start_time": "2023-11-08T14:38:39.762Z"
   },
   {
    "duration": 25,
    "start_time": "2023-11-08T14:38:39.772Z"
   },
   {
    "duration": 15,
    "start_time": "2023-11-08T14:38:39.799Z"
   },
   {
    "duration": 23,
    "start_time": "2023-11-08T14:38:39.816Z"
   },
   {
    "duration": 33,
    "start_time": "2023-11-08T14:38:39.845Z"
   },
   {
    "duration": 21,
    "start_time": "2023-11-08T14:38:39.879Z"
   },
   {
    "duration": 11,
    "start_time": "2023-11-08T14:38:39.902Z"
   },
   {
    "duration": 13,
    "start_time": "2023-11-08T14:38:39.914Z"
   },
   {
    "duration": 25,
    "start_time": "2023-11-08T14:38:39.929Z"
   },
   {
    "duration": 13,
    "start_time": "2023-11-08T14:38:39.956Z"
   },
   {
    "duration": 4,
    "start_time": "2023-11-08T14:38:39.970Z"
   },
   {
    "duration": 6,
    "start_time": "2023-11-08T14:38:39.976Z"
   },
   {
    "duration": 6,
    "start_time": "2023-11-08T14:38:39.984Z"
   },
   {
    "duration": 18,
    "start_time": "2023-11-08T14:38:39.992Z"
   },
   {
    "duration": 36,
    "start_time": "2023-11-08T14:38:40.012Z"
   },
   {
    "duration": 15,
    "start_time": "2023-11-08T14:38:40.050Z"
   },
   {
    "duration": 10,
    "start_time": "2023-11-08T14:38:40.067Z"
   },
   {
    "duration": 120,
    "start_time": "2023-11-08T14:38:40.078Z"
   },
   {
    "duration": 0,
    "start_time": "2023-11-08T14:38:40.200Z"
   },
   {
    "duration": 0,
    "start_time": "2023-11-08T14:38:40.201Z"
   },
   {
    "duration": 0,
    "start_time": "2023-11-08T14:38:40.202Z"
   },
   {
    "duration": 9,
    "start_time": "2023-11-08T14:41:23.690Z"
   },
   {
    "duration": 9,
    "start_time": "2023-11-08T14:42:01.747Z"
   },
   {
    "duration": 3,
    "start_time": "2023-11-08T14:45:36.293Z"
   },
   {
    "duration": 10,
    "start_time": "2023-11-08T14:45:48.748Z"
   },
   {
    "duration": 10,
    "start_time": "2023-11-08T14:46:20.909Z"
   },
   {
    "duration": 18,
    "start_time": "2023-11-08T14:46:33.561Z"
   },
   {
    "duration": 1249,
    "start_time": "2023-11-08T14:46:45.563Z"
   },
   {
    "duration": 97,
    "start_time": "2023-11-08T14:46:46.814Z"
   },
   {
    "duration": 35,
    "start_time": "2023-11-08T14:46:46.913Z"
   },
   {
    "duration": 21,
    "start_time": "2023-11-08T14:46:46.952Z"
   },
   {
    "duration": 21,
    "start_time": "2023-11-08T14:46:46.976Z"
   },
   {
    "duration": 515,
    "start_time": "2023-11-08T14:46:46.998Z"
   },
   {
    "duration": 11,
    "start_time": "2023-11-08T14:46:47.514Z"
   },
   {
    "duration": 32,
    "start_time": "2023-11-08T14:46:47.526Z"
   },
   {
    "duration": 36,
    "start_time": "2023-11-08T14:46:47.560Z"
   },
   {
    "duration": 21,
    "start_time": "2023-11-08T14:46:47.598Z"
   },
   {
    "duration": 20,
    "start_time": "2023-11-08T14:46:47.621Z"
   },
   {
    "duration": 22,
    "start_time": "2023-11-08T14:46:47.643Z"
   },
   {
    "duration": 42,
    "start_time": "2023-11-08T14:46:47.666Z"
   },
   {
    "duration": 29,
    "start_time": "2023-11-08T14:46:47.711Z"
   },
   {
    "duration": 20,
    "start_time": "2023-11-08T14:46:47.749Z"
   },
   {
    "duration": 66,
    "start_time": "2023-11-08T14:46:47.771Z"
   },
   {
    "duration": 5,
    "start_time": "2023-11-08T14:46:47.843Z"
   },
   {
    "duration": 10,
    "start_time": "2023-11-08T14:46:47.850Z"
   },
   {
    "duration": 7,
    "start_time": "2023-11-08T14:46:47.861Z"
   },
   {
    "duration": 3,
    "start_time": "2023-11-08T14:46:47.870Z"
   },
   {
    "duration": 10,
    "start_time": "2023-11-08T14:46:47.874Z"
   },
   {
    "duration": 29,
    "start_time": "2023-11-08T14:46:47.885Z"
   },
   {
    "duration": 31,
    "start_time": "2023-11-08T14:46:47.915Z"
   },
   {
    "duration": 11,
    "start_time": "2023-11-08T14:46:47.949Z"
   },
   {
    "duration": 9,
    "start_time": "2023-11-08T14:46:47.961Z"
   },
   {
    "duration": 210,
    "start_time": "2023-11-08T14:46:47.972Z"
   },
   {
    "duration": 10,
    "start_time": "2023-11-08T14:46:48.184Z"
   },
   {
    "duration": 10,
    "start_time": "2023-11-08T14:46:48.195Z"
   },
   {
    "duration": 43,
    "start_time": "2023-11-08T14:46:48.206Z"
   },
   {
    "duration": 10,
    "start_time": "2023-11-08T14:46:48.251Z"
   },
   {
    "duration": 10,
    "start_time": "2023-11-08T14:46:48.263Z"
   },
   {
    "duration": 6,
    "start_time": "2023-11-08T14:46:48.275Z"
   },
   {
    "duration": 7,
    "start_time": "2023-11-08T14:46:48.282Z"
   },
   {
    "duration": 15,
    "start_time": "2023-11-08T14:46:48.291Z"
   },
   {
    "duration": 33,
    "start_time": "2023-11-08T14:46:48.307Z"
   },
   {
    "duration": 22,
    "start_time": "2023-11-08T14:46:48.342Z"
   },
   {
    "duration": 10,
    "start_time": "2023-11-08T14:46:48.365Z"
   },
   {
    "duration": 9,
    "start_time": "2023-11-08T14:46:48.377Z"
   },
   {
    "duration": 9,
    "start_time": "2023-11-08T14:46:48.387Z"
   },
   {
    "duration": 10,
    "start_time": "2023-11-08T14:46:48.428Z"
   },
   {
    "duration": 33,
    "start_time": "2023-11-08T14:46:48.445Z"
   },
   {
    "duration": 5,
    "start_time": "2023-11-08T14:46:48.480Z"
   },
   {
    "duration": 21,
    "start_time": "2023-11-08T14:46:48.487Z"
   },
   {
    "duration": 6,
    "start_time": "2023-11-08T14:46:48.509Z"
   },
   {
    "duration": 21,
    "start_time": "2023-11-08T14:46:48.517Z"
   },
   {
    "duration": 10,
    "start_time": "2023-11-08T14:46:48.540Z"
   },
   {
    "duration": 110,
    "start_time": "2023-11-08T14:46:48.552Z"
   },
   {
    "duration": 0,
    "start_time": "2023-11-08T14:46:48.664Z"
   },
   {
    "duration": 0,
    "start_time": "2023-11-08T14:46:48.665Z"
   },
   {
    "duration": 0,
    "start_time": "2023-11-08T14:46:48.666Z"
   },
   {
    "duration": 103,
    "start_time": "2023-11-08T14:47:08.204Z"
   },
   {
    "duration": 8,
    "start_time": "2023-11-08T14:47:21.704Z"
   },
   {
    "duration": 298,
    "start_time": "2023-11-08T14:48:01.862Z"
   },
   {
    "duration": 194,
    "start_time": "2023-11-08T14:48:10.406Z"
   },
   {
    "duration": 193,
    "start_time": "2023-11-08T14:48:28.190Z"
   },
   {
    "duration": 298,
    "start_time": "2023-11-08T14:49:36.155Z"
   },
   {
    "duration": 331,
    "start_time": "2023-11-08T14:51:15.280Z"
   },
   {
    "duration": 329,
    "start_time": "2023-11-08T14:51:31.554Z"
   },
   {
    "duration": 9,
    "start_time": "2023-11-08T14:52:07.298Z"
   },
   {
    "duration": 10,
    "start_time": "2023-11-08T14:52:18.904Z"
   },
   {
    "duration": 1236,
    "start_time": "2023-11-08T14:53:36.476Z"
   },
   {
    "duration": 89,
    "start_time": "2023-11-08T14:53:37.714Z"
   },
   {
    "duration": 23,
    "start_time": "2023-11-08T14:53:37.805Z"
   },
   {
    "duration": 50,
    "start_time": "2023-11-08T14:53:37.836Z"
   },
   {
    "duration": 38,
    "start_time": "2023-11-08T14:53:37.887Z"
   },
   {
    "duration": 493,
    "start_time": "2023-11-08T14:53:37.926Z"
   },
   {
    "duration": 8,
    "start_time": "2023-11-08T14:53:38.424Z"
   },
   {
    "duration": 35,
    "start_time": "2023-11-08T14:53:38.435Z"
   },
   {
    "duration": 43,
    "start_time": "2023-11-08T14:53:38.472Z"
   },
   {
    "duration": 60,
    "start_time": "2023-11-08T14:53:38.517Z"
   },
   {
    "duration": 32,
    "start_time": "2023-11-08T14:53:38.579Z"
   },
   {
    "duration": 151,
    "start_time": "2023-11-08T14:53:38.613Z"
   },
   {
    "duration": 35,
    "start_time": "2023-11-08T14:53:38.765Z"
   },
   {
    "duration": 42,
    "start_time": "2023-11-08T14:53:38.802Z"
   },
   {
    "duration": 58,
    "start_time": "2023-11-08T14:53:38.846Z"
   },
   {
    "duration": 158,
    "start_time": "2023-11-08T14:53:38.907Z"
   },
   {
    "duration": 47,
    "start_time": "2023-11-08T14:53:39.066Z"
   },
   {
    "duration": 44,
    "start_time": "2023-11-08T14:53:39.115Z"
   },
   {
    "duration": 18,
    "start_time": "2023-11-08T14:53:39.161Z"
   },
   {
    "duration": 112,
    "start_time": "2023-11-08T14:53:39.182Z"
   },
   {
    "duration": 92,
    "start_time": "2023-11-08T14:53:39.296Z"
   },
   {
    "duration": 30,
    "start_time": "2023-11-08T14:53:39.390Z"
   },
   {
    "duration": 23,
    "start_time": "2023-11-08T14:53:39.422Z"
   },
   {
    "duration": 40,
    "start_time": "2023-11-08T14:53:39.447Z"
   },
   {
    "duration": 30,
    "start_time": "2023-11-08T14:53:39.490Z"
   },
   {
    "duration": 194,
    "start_time": "2023-11-08T14:53:39.522Z"
   },
   {
    "duration": 20,
    "start_time": "2023-11-08T14:53:39.717Z"
   },
   {
    "duration": 16,
    "start_time": "2023-11-08T14:53:39.741Z"
   },
   {
    "duration": 20,
    "start_time": "2023-11-08T14:53:39.759Z"
   },
   {
    "duration": 47,
    "start_time": "2023-11-08T14:53:39.781Z"
   },
   {
    "duration": 193,
    "start_time": "2023-11-08T14:53:39.830Z"
   },
   {
    "duration": 91,
    "start_time": "2023-11-08T14:53:40.026Z"
   },
   {
    "duration": 72,
    "start_time": "2023-11-08T14:53:40.120Z"
   },
   {
    "duration": 85,
    "start_time": "2023-11-08T14:53:40.193Z"
   },
   {
    "duration": 260,
    "start_time": "2023-11-08T14:53:40.279Z"
   },
   {
    "duration": 110,
    "start_time": "2023-11-08T14:53:40.541Z"
   },
   {
    "duration": 141,
    "start_time": "2023-11-08T14:53:40.652Z"
   },
   {
    "duration": 21,
    "start_time": "2023-11-08T14:53:40.796Z"
   },
   {
    "duration": 34,
    "start_time": "2023-11-08T14:53:40.819Z"
   },
   {
    "duration": 77,
    "start_time": "2023-11-08T14:53:40.854Z"
   },
   {
    "duration": 23,
    "start_time": "2023-11-08T14:53:40.933Z"
   },
   {
    "duration": 21,
    "start_time": "2023-11-08T14:53:40.957Z"
   },
   {
    "duration": 21,
    "start_time": "2023-11-08T14:53:40.980Z"
   },
   {
    "duration": 20,
    "start_time": "2023-11-08T14:53:41.002Z"
   },
   {
    "duration": 13,
    "start_time": "2023-11-08T14:53:41.030Z"
   },
   {
    "duration": 122,
    "start_time": "2023-11-08T14:53:41.045Z"
   },
   {
    "duration": 0,
    "start_time": "2023-11-08T14:53:41.169Z"
   },
   {
    "duration": 0,
    "start_time": "2023-11-08T14:53:41.170Z"
   },
   {
    "duration": 9,
    "start_time": "2023-11-08T14:53:55.981Z"
   },
   {
    "duration": 15,
    "start_time": "2023-11-08T14:54:27.959Z"
   },
   {
    "duration": 92,
    "start_time": "2023-11-08T14:54:35.208Z"
   },
   {
    "duration": 15,
    "start_time": "2023-11-08T14:54:42.024Z"
   },
   {
    "duration": 3,
    "start_time": "2023-11-08T14:56:03.609Z"
   },
   {
    "duration": 6,
    "start_time": "2023-11-08T15:07:27.296Z"
   },
   {
    "duration": 11,
    "start_time": "2023-11-08T15:07:34.560Z"
   },
   {
    "duration": 11,
    "start_time": "2023-11-08T15:07:38.360Z"
   },
   {
    "duration": 14,
    "start_time": "2023-11-08T15:07:53.184Z"
   },
   {
    "duration": 173,
    "start_time": "2023-11-08T15:10:07.147Z"
   },
   {
    "duration": 140,
    "start_time": "2023-11-08T15:11:32.854Z"
   },
   {
    "duration": 15,
    "start_time": "2023-11-08T15:14:18.339Z"
   },
   {
    "duration": 11,
    "start_time": "2023-11-08T15:15:42.517Z"
   },
   {
    "duration": 16,
    "start_time": "2023-11-08T15:16:04.100Z"
   },
   {
    "duration": 10,
    "start_time": "2023-11-08T15:19:49.538Z"
   },
   {
    "duration": 12,
    "start_time": "2023-11-08T15:21:03.837Z"
   },
   {
    "duration": 11,
    "start_time": "2023-11-08T15:21:11.553Z"
   },
   {
    "duration": 14,
    "start_time": "2023-11-08T15:21:52.054Z"
   },
   {
    "duration": 266,
    "start_time": "2023-11-08T15:23:58.338Z"
   },
   {
    "duration": 260,
    "start_time": "2023-11-08T15:26:00.844Z"
   },
   {
    "duration": 18,
    "start_time": "2023-11-08T15:27:57.923Z"
   },
   {
    "duration": 248,
    "start_time": "2023-11-08T15:28:15.139Z"
   },
   {
    "duration": 295,
    "start_time": "2023-11-08T15:28:58.473Z"
   },
   {
    "duration": 346,
    "start_time": "2023-11-08T15:29:32.839Z"
   },
   {
    "duration": 315,
    "start_time": "2023-11-08T15:29:46.390Z"
   },
   {
    "duration": 433,
    "start_time": "2023-11-08T15:31:54.608Z"
   },
   {
    "duration": 359,
    "start_time": "2023-11-08T15:33:15.308Z"
   },
   {
    "duration": 384,
    "start_time": "2023-11-08T15:35:29.159Z"
   },
   {
    "duration": 320,
    "start_time": "2023-11-08T15:35:54.878Z"
   },
   {
    "duration": 356,
    "start_time": "2023-11-08T15:44:22.579Z"
   },
   {
    "duration": 325,
    "start_time": "2023-11-08T15:45:20.166Z"
   },
   {
    "duration": 1321,
    "start_time": "2023-11-08T16:39:27.624Z"
   },
   {
    "duration": 94,
    "start_time": "2023-11-08T16:39:28.947Z"
   },
   {
    "duration": 19,
    "start_time": "2023-11-08T16:39:29.043Z"
   },
   {
    "duration": 22,
    "start_time": "2023-11-08T16:39:29.063Z"
   },
   {
    "duration": 26,
    "start_time": "2023-11-08T16:39:29.087Z"
   },
   {
    "duration": 572,
    "start_time": "2023-11-08T16:39:29.114Z"
   },
   {
    "duration": 6,
    "start_time": "2023-11-08T16:39:29.688Z"
   },
   {
    "duration": 35,
    "start_time": "2023-11-08T16:39:29.696Z"
   },
   {
    "duration": 26,
    "start_time": "2023-11-08T16:39:29.734Z"
   },
   {
    "duration": 16,
    "start_time": "2023-11-08T16:39:29.761Z"
   },
   {
    "duration": 24,
    "start_time": "2023-11-08T16:39:29.779Z"
   },
   {
    "duration": 32,
    "start_time": "2023-11-08T16:39:29.805Z"
   },
   {
    "duration": 19,
    "start_time": "2023-11-08T16:39:29.839Z"
   },
   {
    "duration": 26,
    "start_time": "2023-11-08T16:39:29.862Z"
   },
   {
    "duration": 22,
    "start_time": "2023-11-08T16:39:29.890Z"
   },
   {
    "duration": 31,
    "start_time": "2023-11-08T16:39:29.915Z"
   },
   {
    "duration": 31,
    "start_time": "2023-11-08T16:39:29.948Z"
   },
   {
    "duration": 26,
    "start_time": "2023-11-08T16:39:29.980Z"
   },
   {
    "duration": 76,
    "start_time": "2023-11-08T16:39:30.008Z"
   },
   {
    "duration": 64,
    "start_time": "2023-11-08T16:39:30.086Z"
   },
   {
    "duration": 149,
    "start_time": "2023-11-08T16:39:30.152Z"
   },
   {
    "duration": 0,
    "start_time": "2023-11-08T16:39:30.303Z"
   },
   {
    "duration": 0,
    "start_time": "2023-11-08T16:39:30.304Z"
   },
   {
    "duration": 0,
    "start_time": "2023-11-08T16:39:30.305Z"
   },
   {
    "duration": 0,
    "start_time": "2023-11-08T16:39:30.307Z"
   },
   {
    "duration": 0,
    "start_time": "2023-11-08T16:39:30.308Z"
   },
   {
    "duration": 0,
    "start_time": "2023-11-08T16:39:30.309Z"
   },
   {
    "duration": 0,
    "start_time": "2023-11-08T16:39:30.325Z"
   },
   {
    "duration": 0,
    "start_time": "2023-11-08T16:39:30.327Z"
   },
   {
    "duration": 0,
    "start_time": "2023-11-08T16:39:30.329Z"
   },
   {
    "duration": 0,
    "start_time": "2023-11-08T16:39:30.331Z"
   },
   {
    "duration": 0,
    "start_time": "2023-11-08T16:39:30.332Z"
   },
   {
    "duration": 0,
    "start_time": "2023-11-08T16:39:30.333Z"
   },
   {
    "duration": 0,
    "start_time": "2023-11-08T16:39:30.335Z"
   },
   {
    "duration": 0,
    "start_time": "2023-11-08T16:39:30.336Z"
   },
   {
    "duration": 0,
    "start_time": "2023-11-08T16:39:30.337Z"
   },
   {
    "duration": 0,
    "start_time": "2023-11-08T16:39:30.339Z"
   },
   {
    "duration": 0,
    "start_time": "2023-11-08T16:39:30.341Z"
   },
   {
    "duration": 0,
    "start_time": "2023-11-08T16:39:30.342Z"
   },
   {
    "duration": 0,
    "start_time": "2023-11-08T16:39:30.343Z"
   },
   {
    "duration": 0,
    "start_time": "2023-11-08T16:39:30.345Z"
   },
   {
    "duration": 0,
    "start_time": "2023-11-08T16:39:30.346Z"
   },
   {
    "duration": 0,
    "start_time": "2023-11-08T16:39:30.347Z"
   },
   {
    "duration": 0,
    "start_time": "2023-11-08T16:39:30.348Z"
   },
   {
    "duration": 0,
    "start_time": "2023-11-08T16:39:30.350Z"
   },
   {
    "duration": 0,
    "start_time": "2023-11-08T16:39:30.351Z"
   },
   {
    "duration": 0,
    "start_time": "2023-11-08T16:39:30.352Z"
   },
   {
    "duration": 0,
    "start_time": "2023-11-08T16:39:30.353Z"
   },
   {
    "duration": 0,
    "start_time": "2023-11-08T16:39:30.354Z"
   },
   {
    "duration": 0,
    "start_time": "2023-11-08T16:39:30.355Z"
   },
   {
    "duration": 0,
    "start_time": "2023-11-08T16:39:30.356Z"
   },
   {
    "duration": 0,
    "start_time": "2023-11-08T16:39:30.358Z"
   },
   {
    "duration": 0,
    "start_time": "2023-11-08T16:39:30.359Z"
   },
   {
    "duration": 0,
    "start_time": "2023-11-08T16:39:30.360Z"
   },
   {
    "duration": 0,
    "start_time": "2023-11-08T16:39:30.361Z"
   },
   {
    "duration": 0,
    "start_time": "2023-11-08T16:39:30.362Z"
   },
   {
    "duration": 4,
    "start_time": "2023-11-08T16:40:10.567Z"
   },
   {
    "duration": 16,
    "start_time": "2023-11-08T16:41:54.694Z"
   },
   {
    "duration": 5,
    "start_time": "2023-11-08T16:42:04.652Z"
   },
   {
    "duration": 1386,
    "start_time": "2023-11-08T16:42:31.169Z"
   },
   {
    "duration": 86,
    "start_time": "2023-11-08T16:42:41.600Z"
   },
   {
    "duration": 8,
    "start_time": "2023-11-08T16:42:46.193Z"
   },
   {
    "duration": 4,
    "start_time": "2023-11-08T16:44:49.485Z"
   },
   {
    "duration": 1255,
    "start_time": "2023-11-08T16:47:11.777Z"
   },
   {
    "duration": 81,
    "start_time": "2023-11-08T16:47:13.035Z"
   },
   {
    "duration": 27,
    "start_time": "2023-11-08T16:47:13.118Z"
   },
   {
    "duration": 21,
    "start_time": "2023-11-08T16:47:13.147Z"
   },
   {
    "duration": 19,
    "start_time": "2023-11-08T16:47:13.170Z"
   },
   {
    "duration": 557,
    "start_time": "2023-11-08T16:47:13.191Z"
   },
   {
    "duration": 6,
    "start_time": "2023-11-08T16:47:13.750Z"
   },
   {
    "duration": 7,
    "start_time": "2023-11-08T16:47:13.757Z"
   },
   {
    "duration": 5,
    "start_time": "2023-11-08T16:47:13.766Z"
   },
   {
    "duration": 5,
    "start_time": "2023-11-08T16:47:13.773Z"
   },
   {
    "duration": 6,
    "start_time": "2023-11-08T16:47:13.779Z"
   },
   {
    "duration": 5,
    "start_time": "2023-11-08T16:47:13.787Z"
   },
   {
    "duration": 32,
    "start_time": "2023-11-08T16:47:13.793Z"
   },
   {
    "duration": 13,
    "start_time": "2023-11-08T16:47:13.829Z"
   },
   {
    "duration": 9,
    "start_time": "2023-11-08T16:47:13.843Z"
   },
   {
    "duration": 14,
    "start_time": "2023-11-08T16:47:13.854Z"
   },
   {
    "duration": 23,
    "start_time": "2023-11-08T16:47:13.870Z"
   },
   {
    "duration": 13,
    "start_time": "2023-11-08T16:47:13.895Z"
   },
   {
    "duration": 18,
    "start_time": "2023-11-08T16:47:13.910Z"
   },
   {
    "duration": 4,
    "start_time": "2023-11-08T16:47:13.930Z"
   },
   {
    "duration": 9,
    "start_time": "2023-11-08T16:47:13.936Z"
   },
   {
    "duration": 8,
    "start_time": "2023-11-08T16:47:13.947Z"
   },
   {
    "duration": 15,
    "start_time": "2023-11-08T16:47:13.957Z"
   },
   {
    "duration": 8,
    "start_time": "2023-11-08T16:47:13.973Z"
   },
   {
    "duration": 11,
    "start_time": "2023-11-08T16:47:13.983Z"
   },
   {
    "duration": 47,
    "start_time": "2023-11-08T16:47:13.996Z"
   },
   {
    "duration": 10,
    "start_time": "2023-11-08T16:47:14.045Z"
   },
   {
    "duration": 8,
    "start_time": "2023-11-08T16:47:14.057Z"
   },
   {
    "duration": 16,
    "start_time": "2023-11-08T16:47:14.067Z"
   },
   {
    "duration": 203,
    "start_time": "2023-11-08T16:47:14.085Z"
   },
   {
    "duration": 10,
    "start_time": "2023-11-08T16:47:14.289Z"
   },
   {
    "duration": 26,
    "start_time": "2023-11-08T16:47:14.301Z"
   },
   {
    "duration": 21,
    "start_time": "2023-11-08T16:47:14.329Z"
   },
   {
    "duration": 32,
    "start_time": "2023-11-08T16:47:14.352Z"
   },
   {
    "duration": 35,
    "start_time": "2023-11-08T16:47:14.385Z"
   },
   {
    "duration": 13,
    "start_time": "2023-11-08T16:47:14.422Z"
   },
   {
    "duration": 4,
    "start_time": "2023-11-08T16:47:14.438Z"
   },
   {
    "duration": 26,
    "start_time": "2023-11-08T16:47:14.444Z"
   },
   {
    "duration": 11,
    "start_time": "2023-11-08T16:47:14.472Z"
   },
   {
    "duration": 13,
    "start_time": "2023-11-08T16:47:14.485Z"
   },
   {
    "duration": 10,
    "start_time": "2023-11-08T16:47:14.525Z"
   },
   {
    "duration": 16,
    "start_time": "2023-11-08T16:47:14.538Z"
   },
   {
    "duration": 12,
    "start_time": "2023-11-08T16:47:14.562Z"
   },
   {
    "duration": 10,
    "start_time": "2023-11-08T16:47:14.576Z"
   },
   {
    "duration": 37,
    "start_time": "2023-11-08T16:47:14.587Z"
   },
   {
    "duration": 5,
    "start_time": "2023-11-08T16:47:14.626Z"
   },
   {
    "duration": 11,
    "start_time": "2023-11-08T16:47:14.633Z"
   },
   {
    "duration": 12,
    "start_time": "2023-11-08T16:47:14.645Z"
   },
   {
    "duration": 11,
    "start_time": "2023-11-08T16:47:14.658Z"
   },
   {
    "duration": 9,
    "start_time": "2023-11-08T16:47:14.670Z"
   },
   {
    "duration": 44,
    "start_time": "2023-11-08T16:47:14.681Z"
   },
   {
    "duration": 7,
    "start_time": "2023-11-08T16:47:14.727Z"
   },
   {
    "duration": 196,
    "start_time": "2023-11-08T16:47:14.735Z"
   },
   {
    "duration": 123,
    "start_time": "2023-11-08T16:47:14.934Z"
   },
   {
    "duration": 12,
    "start_time": "2023-11-08T16:47:15.059Z"
   },
   {
    "duration": 11,
    "start_time": "2023-11-08T16:47:15.073Z"
   },
   {
    "duration": 14,
    "start_time": "2023-11-08T16:47:15.086Z"
   },
   {
    "duration": 452,
    "start_time": "2023-11-08T16:47:15.101Z"
   },
   {
    "duration": 413,
    "start_time": "2023-11-08T16:47:15.555Z"
   },
   {
    "duration": 13,
    "start_time": "2023-11-08T16:48:30.160Z"
   },
   {
    "duration": 106,
    "start_time": "2023-11-08T16:55:24.720Z"
   },
   {
    "duration": 7,
    "start_time": "2023-11-08T16:55:29.655Z"
   },
   {
    "duration": 1288,
    "start_time": "2023-11-08T16:55:38.259Z"
   },
   {
    "duration": 79,
    "start_time": "2023-11-08T16:55:39.549Z"
   },
   {
    "duration": 22,
    "start_time": "2023-11-08T16:55:39.630Z"
   },
   {
    "duration": 33,
    "start_time": "2023-11-08T16:55:39.654Z"
   },
   {
    "duration": 36,
    "start_time": "2023-11-08T16:55:39.688Z"
   },
   {
    "duration": 494,
    "start_time": "2023-11-08T16:55:39.725Z"
   },
   {
    "duration": 6,
    "start_time": "2023-11-08T16:55:40.220Z"
   },
   {
    "duration": 29,
    "start_time": "2023-11-08T16:55:40.228Z"
   },
   {
    "duration": 15,
    "start_time": "2023-11-08T16:55:40.259Z"
   },
   {
    "duration": 15,
    "start_time": "2023-11-08T16:55:40.278Z"
   },
   {
    "duration": 16,
    "start_time": "2023-11-08T16:55:40.295Z"
   },
   {
    "duration": 9,
    "start_time": "2023-11-08T16:55:40.313Z"
   },
   {
    "duration": 25,
    "start_time": "2023-11-08T16:55:40.324Z"
   },
   {
    "duration": 31,
    "start_time": "2023-11-08T16:55:40.351Z"
   },
   {
    "duration": 40,
    "start_time": "2023-11-08T16:55:40.384Z"
   },
   {
    "duration": 71,
    "start_time": "2023-11-08T16:55:40.427Z"
   },
   {
    "duration": 86,
    "start_time": "2023-11-08T16:55:40.500Z"
   },
   {
    "duration": 19,
    "start_time": "2023-11-08T16:55:40.588Z"
   },
   {
    "duration": 15,
    "start_time": "2023-11-08T16:55:40.609Z"
   },
   {
    "duration": 13,
    "start_time": "2023-11-08T16:55:40.626Z"
   },
   {
    "duration": 14,
    "start_time": "2023-11-08T16:55:40.641Z"
   },
   {
    "duration": 14,
    "start_time": "2023-11-08T16:55:40.657Z"
   },
   {
    "duration": 11,
    "start_time": "2023-11-08T16:55:40.673Z"
   },
   {
    "duration": 14,
    "start_time": "2023-11-08T16:55:40.686Z"
   },
   {
    "duration": 12,
    "start_time": "2023-11-08T16:55:40.702Z"
   },
   {
    "duration": 42,
    "start_time": "2023-11-08T16:55:40.716Z"
   },
   {
    "duration": 19,
    "start_time": "2023-11-08T16:55:40.759Z"
   },
   {
    "duration": 19,
    "start_time": "2023-11-08T16:55:40.782Z"
   },
   {
    "duration": 32,
    "start_time": "2023-11-08T16:55:40.803Z"
   },
   {
    "duration": 15,
    "start_time": "2023-11-08T16:55:40.837Z"
   },
   {
    "duration": 22,
    "start_time": "2023-11-08T16:55:40.854Z"
   },
   {
    "duration": 199,
    "start_time": "2023-11-08T16:55:40.879Z"
   },
   {
    "duration": 10,
    "start_time": "2023-11-08T16:55:41.080Z"
   },
   {
    "duration": 14,
    "start_time": "2023-11-08T16:55:41.091Z"
   },
   {
    "duration": 22,
    "start_time": "2023-11-08T16:55:41.107Z"
   },
   {
    "duration": 21,
    "start_time": "2023-11-08T16:55:41.130Z"
   },
   {
    "duration": 21,
    "start_time": "2023-11-08T16:55:41.153Z"
   },
   {
    "duration": 14,
    "start_time": "2023-11-08T16:55:41.175Z"
   },
   {
    "duration": 7,
    "start_time": "2023-11-08T16:55:41.191Z"
   },
   {
    "duration": 24,
    "start_time": "2023-11-08T16:55:41.200Z"
   },
   {
    "duration": 20,
    "start_time": "2023-11-08T16:55:41.226Z"
   },
   {
    "duration": 14,
    "start_time": "2023-11-08T16:55:41.248Z"
   },
   {
    "duration": 13,
    "start_time": "2023-11-08T16:55:41.263Z"
   },
   {
    "duration": 60,
    "start_time": "2023-11-08T16:55:41.277Z"
   },
   {
    "duration": 15,
    "start_time": "2023-11-08T16:55:41.339Z"
   },
   {
    "duration": 7,
    "start_time": "2023-11-08T16:55:41.356Z"
   },
   {
    "duration": 9,
    "start_time": "2023-11-08T16:55:41.365Z"
   },
   {
    "duration": 11,
    "start_time": "2023-11-08T16:55:41.376Z"
   },
   {
    "duration": 40,
    "start_time": "2023-11-08T16:55:41.388Z"
   },
   {
    "duration": 6,
    "start_time": "2023-11-08T16:55:41.430Z"
   },
   {
    "duration": 9,
    "start_time": "2023-11-08T16:55:41.438Z"
   },
   {
    "duration": 21,
    "start_time": "2023-11-08T16:55:41.449Z"
   },
   {
    "duration": 23,
    "start_time": "2023-11-08T16:55:41.472Z"
   },
   {
    "duration": 14,
    "start_time": "2023-11-08T16:55:41.497Z"
   },
   {
    "duration": 231,
    "start_time": "2023-11-08T16:55:41.525Z"
   },
   {
    "duration": 129,
    "start_time": "2023-11-08T16:55:41.758Z"
   },
   {
    "duration": 14,
    "start_time": "2023-11-08T16:55:41.889Z"
   },
   {
    "duration": 38,
    "start_time": "2023-11-08T16:55:41.905Z"
   },
   {
    "duration": 14,
    "start_time": "2023-11-08T16:55:41.945Z"
   },
   {
    "duration": 415,
    "start_time": "2023-11-08T16:55:41.960Z"
   },
   {
    "duration": 349,
    "start_time": "2023-11-08T16:55:42.377Z"
   },
   {
    "duration": 1255,
    "start_time": "2023-11-08T17:07:03.566Z"
   },
   {
    "duration": 97,
    "start_time": "2023-11-08T17:07:04.826Z"
   },
   {
    "duration": 29,
    "start_time": "2023-11-08T17:07:04.926Z"
   },
   {
    "duration": 31,
    "start_time": "2023-11-08T17:07:04.957Z"
   },
   {
    "duration": 58,
    "start_time": "2023-11-08T17:07:04.990Z"
   },
   {
    "duration": 522,
    "start_time": "2023-11-08T17:07:05.050Z"
   },
   {
    "duration": 6,
    "start_time": "2023-11-08T17:07:05.574Z"
   },
   {
    "duration": 35,
    "start_time": "2023-11-08T17:07:05.581Z"
   },
   {
    "duration": 7,
    "start_time": "2023-11-08T17:07:05.618Z"
   },
   {
    "duration": 18,
    "start_time": "2023-11-08T17:07:05.628Z"
   },
   {
    "duration": 13,
    "start_time": "2023-11-08T17:07:05.647Z"
   },
   {
    "duration": 15,
    "start_time": "2023-11-08T17:07:05.662Z"
   },
   {
    "duration": 10,
    "start_time": "2023-11-08T17:07:05.679Z"
   },
   {
    "duration": 17,
    "start_time": "2023-11-08T17:07:05.691Z"
   },
   {
    "duration": 37,
    "start_time": "2023-11-08T17:07:05.709Z"
   },
   {
    "duration": 33,
    "start_time": "2023-11-08T17:07:05.748Z"
   },
   {
    "duration": 20,
    "start_time": "2023-11-08T17:07:05.784Z"
   },
   {
    "duration": 41,
    "start_time": "2023-11-08T17:07:05.806Z"
   },
   {
    "duration": 35,
    "start_time": "2023-11-08T17:07:05.850Z"
   },
   {
    "duration": 6,
    "start_time": "2023-11-08T17:07:05.887Z"
   },
   {
    "duration": 39,
    "start_time": "2023-11-08T17:07:05.896Z"
   },
   {
    "duration": 27,
    "start_time": "2023-11-08T17:07:05.938Z"
   },
   {
    "duration": 25,
    "start_time": "2023-11-08T17:07:05.967Z"
   },
   {
    "duration": 43,
    "start_time": "2023-11-08T17:07:05.995Z"
   },
   {
    "duration": 15,
    "start_time": "2023-11-08T17:07:06.042Z"
   },
   {
    "duration": 34,
    "start_time": "2023-11-08T17:07:06.059Z"
   },
   {
    "duration": 281,
    "start_time": "2023-11-08T17:07:06.095Z"
   },
   {
    "duration": 10,
    "start_time": "2023-11-08T17:07:06.382Z"
   },
   {
    "duration": 16,
    "start_time": "2023-11-08T17:07:06.394Z"
   },
   {
    "duration": 31,
    "start_time": "2023-11-08T17:07:06.412Z"
   },
   {
    "duration": 15,
    "start_time": "2023-11-08T17:07:06.445Z"
   },
   {
    "duration": 20,
    "start_time": "2023-11-08T17:07:06.463Z"
   },
   {
    "duration": 15,
    "start_time": "2023-11-08T17:07:06.485Z"
   },
   {
    "duration": 14,
    "start_time": "2023-11-08T17:07:06.502Z"
   },
   {
    "duration": 20,
    "start_time": "2023-11-08T17:07:06.524Z"
   },
   {
    "duration": 15,
    "start_time": "2023-11-08T17:07:06.546Z"
   },
   {
    "duration": 14,
    "start_time": "2023-11-08T17:07:06.564Z"
   },
   {
    "duration": 68,
    "start_time": "2023-11-08T17:07:06.580Z"
   },
   {
    "duration": 16,
    "start_time": "2023-11-08T17:07:06.650Z"
   },
   {
    "duration": 27,
    "start_time": "2023-11-08T17:07:06.668Z"
   },
   {
    "duration": 28,
    "start_time": "2023-11-08T17:07:06.697Z"
   },
   {
    "duration": 22,
    "start_time": "2023-11-08T17:07:06.727Z"
   },
   {
    "duration": 19,
    "start_time": "2023-11-08T17:07:06.751Z"
   },
   {
    "duration": 26,
    "start_time": "2023-11-08T17:07:06.772Z"
   },
   {
    "duration": 14,
    "start_time": "2023-11-08T17:07:06.800Z"
   },
   {
    "duration": 17,
    "start_time": "2023-11-08T17:07:06.816Z"
   },
   {
    "duration": 13,
    "start_time": "2023-11-08T17:07:06.836Z"
   },
   {
    "duration": 12,
    "start_time": "2023-11-08T17:07:06.851Z"
   },
   {
    "duration": 21,
    "start_time": "2023-11-08T17:07:06.866Z"
   },
   {
    "duration": 248,
    "start_time": "2023-11-08T17:07:06.889Z"
   },
   {
    "duration": 143,
    "start_time": "2023-11-08T17:07:07.140Z"
   },
   {
    "duration": 23,
    "start_time": "2023-11-08T17:07:07.285Z"
   },
   {
    "duration": 19,
    "start_time": "2023-11-08T17:07:07.310Z"
   },
   {
    "duration": 24,
    "start_time": "2023-11-08T17:07:07.331Z"
   },
   {
    "duration": 466,
    "start_time": "2023-11-08T17:07:07.358Z"
   },
   {
    "duration": 388,
    "start_time": "2023-11-08T17:07:07.826Z"
   },
   {
    "duration": 14,
    "start_time": "2023-11-08T17:10:58.530Z"
   },
   {
    "duration": 16,
    "start_time": "2023-11-08T17:11:11.350Z"
   },
   {
    "duration": 17,
    "start_time": "2023-11-08T17:11:15.848Z"
   },
   {
    "duration": 1394,
    "start_time": "2023-11-08T17:13:41.965Z"
   },
   {
    "duration": 4,
    "start_time": "2023-11-08T17:13:49.480Z"
   },
   {
    "duration": 5,
    "start_time": "2023-11-08T17:14:45.316Z"
   },
   {
    "duration": 5,
    "start_time": "2023-11-08T17:18:18.314Z"
   },
   {
    "duration": 1184,
    "start_time": "2023-11-08T17:18:26.021Z"
   },
   {
    "duration": 79,
    "start_time": "2023-11-08T17:18:27.207Z"
   },
   {
    "duration": 22,
    "start_time": "2023-11-08T17:18:27.287Z"
   },
   {
    "duration": 24,
    "start_time": "2023-11-08T17:18:27.311Z"
   },
   {
    "duration": 20,
    "start_time": "2023-11-08T17:18:27.337Z"
   },
   {
    "duration": 474,
    "start_time": "2023-11-08T17:18:27.359Z"
   },
   {
    "duration": 5,
    "start_time": "2023-11-08T17:18:27.835Z"
   },
   {
    "duration": 5,
    "start_time": "2023-11-08T17:18:27.841Z"
   },
   {
    "duration": 5,
    "start_time": "2023-11-08T17:18:27.848Z"
   },
   {
    "duration": 5,
    "start_time": "2023-11-08T17:18:27.854Z"
   },
   {
    "duration": 5,
    "start_time": "2023-11-08T17:18:27.860Z"
   },
   {
    "duration": 6,
    "start_time": "2023-11-08T17:18:27.867Z"
   },
   {
    "duration": 6,
    "start_time": "2023-11-08T17:18:27.875Z"
   },
   {
    "duration": 41,
    "start_time": "2023-11-08T17:18:27.886Z"
   },
   {
    "duration": 10,
    "start_time": "2023-11-08T17:18:27.930Z"
   },
   {
    "duration": 9,
    "start_time": "2023-11-08T17:18:27.942Z"
   },
   {
    "duration": 14,
    "start_time": "2023-11-08T17:18:27.953Z"
   },
   {
    "duration": 14,
    "start_time": "2023-11-08T17:18:27.969Z"
   },
   {
    "duration": 9,
    "start_time": "2023-11-08T17:18:27.985Z"
   },
   {
    "duration": 96,
    "start_time": "2023-11-08T17:18:27.996Z"
   },
   {
    "duration": 27,
    "start_time": "2023-11-08T17:18:28.094Z"
   },
   {
    "duration": 56,
    "start_time": "2023-11-08T17:18:28.122Z"
   },
   {
    "duration": 222,
    "start_time": "2023-11-08T17:18:28.180Z"
   },
   {
    "duration": 165,
    "start_time": "2023-11-08T17:18:28.405Z"
   },
   {
    "duration": 20,
    "start_time": "2023-11-08T17:18:28.572Z"
   },
   {
    "duration": 36,
    "start_time": "2023-11-08T17:18:28.594Z"
   },
   {
    "duration": 38,
    "start_time": "2023-11-08T17:18:28.632Z"
   },
   {
    "duration": 21,
    "start_time": "2023-11-08T17:18:28.672Z"
   },
   {
    "duration": 22,
    "start_time": "2023-11-08T17:18:28.694Z"
   },
   {
    "duration": 195,
    "start_time": "2023-11-08T17:18:28.717Z"
   },
   {
    "duration": 10,
    "start_time": "2023-11-08T17:18:28.914Z"
   },
   {
    "duration": 24,
    "start_time": "2023-11-08T17:18:28.926Z"
   },
   {
    "duration": 16,
    "start_time": "2023-11-08T17:18:28.952Z"
   },
   {
    "duration": 14,
    "start_time": "2023-11-08T17:18:28.970Z"
   },
   {
    "duration": 11,
    "start_time": "2023-11-08T17:18:28.986Z"
   },
   {
    "duration": 36,
    "start_time": "2023-11-08T17:18:28.999Z"
   },
   {
    "duration": 12,
    "start_time": "2023-11-08T17:18:29.038Z"
   },
   {
    "duration": 52,
    "start_time": "2023-11-08T17:18:29.053Z"
   },
   {
    "duration": 19,
    "start_time": "2023-11-08T17:18:29.108Z"
   },
   {
    "duration": 19,
    "start_time": "2023-11-08T17:18:29.128Z"
   },
   {
    "duration": 10,
    "start_time": "2023-11-08T17:18:29.151Z"
   },
   {
    "duration": 12,
    "start_time": "2023-11-08T17:18:29.164Z"
   },
   {
    "duration": 47,
    "start_time": "2023-11-08T17:18:29.179Z"
   },
   {
    "duration": 4,
    "start_time": "2023-11-08T17:18:29.228Z"
   },
   {
    "duration": 9,
    "start_time": "2023-11-08T17:18:29.234Z"
   },
   {
    "duration": 12,
    "start_time": "2023-11-08T17:18:29.245Z"
   },
   {
    "duration": 15,
    "start_time": "2023-11-08T17:18:29.259Z"
   },
   {
    "duration": 37,
    "start_time": "2023-11-08T17:18:29.276Z"
   },
   {
    "duration": 48,
    "start_time": "2023-11-08T17:18:29.315Z"
   },
   {
    "duration": 40,
    "start_time": "2023-11-08T17:18:29.365Z"
   },
   {
    "duration": 52,
    "start_time": "2023-11-08T17:18:29.407Z"
   },
   {
    "duration": 45,
    "start_time": "2023-11-08T17:18:29.461Z"
   },
   {
    "duration": 191,
    "start_time": "2023-11-08T17:18:29.508Z"
   },
   {
    "duration": 123,
    "start_time": "2023-11-08T17:18:29.701Z"
   },
   {
    "duration": 11,
    "start_time": "2023-11-08T17:18:29.826Z"
   },
   {
    "duration": 55,
    "start_time": "2023-11-08T17:18:29.838Z"
   },
   {
    "duration": 70,
    "start_time": "2023-11-08T17:18:29.895Z"
   },
   {
    "duration": 630,
    "start_time": "2023-11-08T17:18:29.966Z"
   },
   {
    "duration": 361,
    "start_time": "2023-11-08T17:18:30.598Z"
   },
   {
    "duration": 15,
    "start_time": "2023-11-08T17:22:55.345Z"
   },
   {
    "duration": 1316,
    "start_time": "2023-11-08T17:23:08.327Z"
   },
   {
    "duration": 80,
    "start_time": "2023-11-08T17:23:09.646Z"
   },
   {
    "duration": 20,
    "start_time": "2023-11-08T17:23:09.728Z"
   },
   {
    "duration": 22,
    "start_time": "2023-11-08T17:23:09.750Z"
   },
   {
    "duration": 50,
    "start_time": "2023-11-08T17:23:09.775Z"
   },
   {
    "duration": 499,
    "start_time": "2023-11-08T17:23:09.827Z"
   },
   {
    "duration": 5,
    "start_time": "2023-11-08T17:23:10.328Z"
   },
   {
    "duration": 6,
    "start_time": "2023-11-08T17:23:10.335Z"
   },
   {
    "duration": 4,
    "start_time": "2023-11-08T17:23:10.343Z"
   },
   {
    "duration": 4,
    "start_time": "2023-11-08T17:23:10.349Z"
   },
   {
    "duration": 12,
    "start_time": "2023-11-08T17:23:10.355Z"
   },
   {
    "duration": 6,
    "start_time": "2023-11-08T17:23:10.368Z"
   },
   {
    "duration": 7,
    "start_time": "2023-11-08T17:23:10.376Z"
   },
   {
    "duration": 6,
    "start_time": "2023-11-08T17:23:10.386Z"
   },
   {
    "duration": 34,
    "start_time": "2023-11-08T17:23:10.394Z"
   },
   {
    "duration": 8,
    "start_time": "2023-11-08T17:23:10.430Z"
   },
   {
    "duration": 12,
    "start_time": "2023-11-08T17:23:10.440Z"
   },
   {
    "duration": 15,
    "start_time": "2023-11-08T17:23:10.453Z"
   },
   {
    "duration": 16,
    "start_time": "2023-11-08T17:23:10.470Z"
   },
   {
    "duration": 13,
    "start_time": "2023-11-08T17:23:10.487Z"
   },
   {
    "duration": 25,
    "start_time": "2023-11-08T17:23:10.502Z"
   },
   {
    "duration": 4,
    "start_time": "2023-11-08T17:23:10.529Z"
   },
   {
    "duration": 21,
    "start_time": "2023-11-08T17:23:10.535Z"
   },
   {
    "duration": 14,
    "start_time": "2023-11-08T17:23:10.557Z"
   },
   {
    "duration": 10,
    "start_time": "2023-11-08T17:23:10.573Z"
   },
   {
    "duration": 19,
    "start_time": "2023-11-08T17:23:10.585Z"
   },
   {
    "duration": 26,
    "start_time": "2023-11-08T17:23:10.606Z"
   },
   {
    "duration": 11,
    "start_time": "2023-11-08T17:23:10.634Z"
   },
   {
    "duration": 9,
    "start_time": "2023-11-08T17:23:10.647Z"
   },
   {
    "duration": 17,
    "start_time": "2023-11-08T17:23:10.658Z"
   },
   {
    "duration": 196,
    "start_time": "2023-11-08T17:23:10.676Z"
   },
   {
    "duration": 11,
    "start_time": "2023-11-08T17:23:10.874Z"
   },
   {
    "duration": 11,
    "start_time": "2023-11-08T17:23:10.888Z"
   },
   {
    "duration": 36,
    "start_time": "2023-11-08T17:23:10.902Z"
   },
   {
    "duration": 11,
    "start_time": "2023-11-08T17:23:10.941Z"
   },
   {
    "duration": 14,
    "start_time": "2023-11-08T17:23:10.954Z"
   },
   {
    "duration": 7,
    "start_time": "2023-11-08T17:23:10.969Z"
   },
   {
    "duration": 6,
    "start_time": "2023-11-08T17:23:10.978Z"
   },
   {
    "duration": 43,
    "start_time": "2023-11-08T17:23:10.986Z"
   },
   {
    "duration": 13,
    "start_time": "2023-11-08T17:23:11.031Z"
   },
   {
    "duration": 14,
    "start_time": "2023-11-08T17:23:11.048Z"
   },
   {
    "duration": 12,
    "start_time": "2023-11-08T17:23:11.063Z"
   },
   {
    "duration": 12,
    "start_time": "2023-11-08T17:23:11.123Z"
   },
   {
    "duration": 12,
    "start_time": "2023-11-08T17:23:11.137Z"
   },
   {
    "duration": 6,
    "start_time": "2023-11-08T17:23:11.152Z"
   },
   {
    "duration": 20,
    "start_time": "2023-11-08T17:23:11.160Z"
   },
   {
    "duration": 11,
    "start_time": "2023-11-08T17:23:11.182Z"
   },
   {
    "duration": 32,
    "start_time": "2023-11-08T17:23:11.195Z"
   },
   {
    "duration": 17,
    "start_time": "2023-11-08T17:23:11.229Z"
   },
   {
    "duration": 10,
    "start_time": "2023-11-08T17:23:11.248Z"
   },
   {
    "duration": 9,
    "start_time": "2023-11-08T17:23:11.260Z"
   },
   {
    "duration": 14,
    "start_time": "2023-11-08T17:23:11.271Z"
   },
   {
    "duration": 37,
    "start_time": "2023-11-08T17:23:11.287Z"
   },
   {
    "duration": 185,
    "start_time": "2023-11-08T17:23:11.326Z"
   },
   {
    "duration": 125,
    "start_time": "2023-11-08T17:23:11.513Z"
   },
   {
    "duration": 12,
    "start_time": "2023-11-08T17:23:11.639Z"
   },
   {
    "duration": 11,
    "start_time": "2023-11-08T17:23:11.653Z"
   },
   {
    "duration": 10,
    "start_time": "2023-11-08T17:23:11.666Z"
   },
   {
    "duration": 416,
    "start_time": "2023-11-08T17:23:11.678Z"
   },
   {
    "duration": 333,
    "start_time": "2023-11-08T17:23:12.095Z"
   },
   {
    "duration": 3167,
    "start_time": "2023-11-08T17:28:05.784Z"
   },
   {
    "duration": 7,
    "start_time": "2023-11-08T17:28:35.530Z"
   },
   {
    "duration": 110,
    "start_time": "2023-11-08T17:30:01.231Z"
   },
   {
    "duration": 7,
    "start_time": "2023-11-08T17:30:05.597Z"
   },
   {
    "duration": 6,
    "start_time": "2023-11-08T17:30:14.371Z"
   },
   {
    "duration": 582,
    "start_time": "2023-11-08T17:32:08.497Z"
   },
   {
    "duration": 1202,
    "start_time": "2023-11-08T17:32:42.580Z"
   },
   {
    "duration": 79,
    "start_time": "2023-11-08T17:32:43.784Z"
   },
   {
    "duration": 22,
    "start_time": "2023-11-08T17:32:43.864Z"
   },
   {
    "duration": 20,
    "start_time": "2023-11-08T17:32:43.889Z"
   },
   {
    "duration": 21,
    "start_time": "2023-11-08T17:32:43.911Z"
   },
   {
    "duration": 492,
    "start_time": "2023-11-08T17:32:43.934Z"
   },
   {
    "duration": 5,
    "start_time": "2023-11-08T17:32:44.428Z"
   },
   {
    "duration": 13,
    "start_time": "2023-11-08T17:32:44.435Z"
   },
   {
    "duration": 9,
    "start_time": "2023-11-08T17:32:44.450Z"
   },
   {
    "duration": 6,
    "start_time": "2023-11-08T17:32:44.463Z"
   },
   {
    "duration": 31,
    "start_time": "2023-11-08T17:32:44.470Z"
   },
   {
    "duration": 9,
    "start_time": "2023-11-08T17:32:44.503Z"
   },
   {
    "duration": 10,
    "start_time": "2023-11-08T17:32:44.514Z"
   },
   {
    "duration": 8,
    "start_time": "2023-11-08T17:32:44.526Z"
   },
   {
    "duration": 13,
    "start_time": "2023-11-08T17:32:44.535Z"
   },
   {
    "duration": 28,
    "start_time": "2023-11-08T17:32:44.550Z"
   },
   {
    "duration": 14,
    "start_time": "2023-11-08T17:32:44.580Z"
   },
   {
    "duration": 19,
    "start_time": "2023-11-08T17:32:44.596Z"
   },
   {
    "duration": 12,
    "start_time": "2023-11-08T17:32:44.616Z"
   },
   {
    "duration": 19,
    "start_time": "2023-11-08T17:32:44.630Z"
   },
   {
    "duration": 27,
    "start_time": "2023-11-08T17:32:44.651Z"
   },
   {
    "duration": 9,
    "start_time": "2023-11-08T17:32:44.679Z"
   },
   {
    "duration": 45,
    "start_time": "2023-11-08T17:32:44.690Z"
   },
   {
    "duration": 489,
    "start_time": "2023-11-08T17:32:44.737Z"
   },
   {
    "duration": 0,
    "start_time": "2023-11-08T17:32:45.229Z"
   },
   {
    "duration": 0,
    "start_time": "2023-11-08T17:32:45.230Z"
   },
   {
    "duration": 0,
    "start_time": "2023-11-08T17:32:45.232Z"
   },
   {
    "duration": 0,
    "start_time": "2023-11-08T17:32:45.233Z"
   },
   {
    "duration": 0,
    "start_time": "2023-11-08T17:32:45.234Z"
   },
   {
    "duration": 0,
    "start_time": "2023-11-08T17:32:45.236Z"
   },
   {
    "duration": 0,
    "start_time": "2023-11-08T17:32:45.237Z"
   },
   {
    "duration": 0,
    "start_time": "2023-11-08T17:32:45.238Z"
   },
   {
    "duration": 0,
    "start_time": "2023-11-08T17:32:45.239Z"
   },
   {
    "duration": 0,
    "start_time": "2023-11-08T17:32:45.240Z"
   },
   {
    "duration": 0,
    "start_time": "2023-11-08T17:32:45.240Z"
   },
   {
    "duration": 0,
    "start_time": "2023-11-08T17:32:45.241Z"
   },
   {
    "duration": 0,
    "start_time": "2023-11-08T17:32:45.242Z"
   },
   {
    "duration": 0,
    "start_time": "2023-11-08T17:32:45.243Z"
   },
   {
    "duration": 0,
    "start_time": "2023-11-08T17:32:45.244Z"
   },
   {
    "duration": 0,
    "start_time": "2023-11-08T17:32:45.245Z"
   },
   {
    "duration": 0,
    "start_time": "2023-11-08T17:32:45.245Z"
   },
   {
    "duration": 0,
    "start_time": "2023-11-08T17:32:45.246Z"
   },
   {
    "duration": 0,
    "start_time": "2023-11-08T17:32:45.247Z"
   },
   {
    "duration": 0,
    "start_time": "2023-11-08T17:32:45.248Z"
   },
   {
    "duration": 0,
    "start_time": "2023-11-08T17:32:45.249Z"
   },
   {
    "duration": 0,
    "start_time": "2023-11-08T17:32:45.250Z"
   },
   {
    "duration": 0,
    "start_time": "2023-11-08T17:32:45.251Z"
   },
   {
    "duration": 0,
    "start_time": "2023-11-08T17:32:45.252Z"
   },
   {
    "duration": 0,
    "start_time": "2023-11-08T17:32:45.253Z"
   },
   {
    "duration": 0,
    "start_time": "2023-11-08T17:32:45.254Z"
   },
   {
    "duration": 0,
    "start_time": "2023-11-08T17:32:45.254Z"
   },
   {
    "duration": 0,
    "start_time": "2023-11-08T17:32:45.256Z"
   },
   {
    "duration": 0,
    "start_time": "2023-11-08T17:32:45.257Z"
   },
   {
    "duration": 0,
    "start_time": "2023-11-08T17:32:45.258Z"
   },
   {
    "duration": 0,
    "start_time": "2023-11-08T17:32:45.259Z"
   },
   {
    "duration": 0,
    "start_time": "2023-11-08T17:32:45.260Z"
   },
   {
    "duration": 0,
    "start_time": "2023-11-08T17:32:45.261Z"
   },
   {
    "duration": 0,
    "start_time": "2023-11-08T17:32:45.262Z"
   },
   {
    "duration": 16,
    "start_time": "2023-11-08T17:33:20.070Z"
   },
   {
    "duration": 16,
    "start_time": "2023-11-08T17:33:43.487Z"
   },
   {
    "duration": 15,
    "start_time": "2023-11-08T17:33:56.754Z"
   },
   {
    "duration": 15,
    "start_time": "2023-11-08T17:34:10.286Z"
   },
   {
    "duration": 20,
    "start_time": "2023-11-08T17:34:16.004Z"
   },
   {
    "duration": 24,
    "start_time": "2023-11-08T17:34:52.170Z"
   },
   {
    "duration": 15,
    "start_time": "2023-11-08T17:35:23.386Z"
   },
   {
    "duration": 11,
    "start_time": "2023-11-08T17:35:31.653Z"
   },
   {
    "duration": 10,
    "start_time": "2023-11-08T17:35:42.319Z"
   },
   {
    "duration": 341,
    "start_time": "2023-11-08T17:36:17.570Z"
   },
   {
    "duration": 291,
    "start_time": "2023-11-08T17:36:50.218Z"
   },
   {
    "duration": 15,
    "start_time": "2023-11-08T17:36:59.075Z"
   },
   {
    "duration": 15,
    "start_time": "2023-11-08T17:37:05.321Z"
   },
   {
    "duration": 15,
    "start_time": "2023-11-08T17:37:12.703Z"
   },
   {
    "duration": 13,
    "start_time": "2023-11-08T17:37:46.490Z"
   },
   {
    "duration": 12,
    "start_time": "2023-11-08T17:38:08.702Z"
   },
   {
    "duration": 12,
    "start_time": "2023-11-08T17:38:19.602Z"
   },
   {
    "duration": 11,
    "start_time": "2023-11-08T17:38:38.402Z"
   },
   {
    "duration": 12,
    "start_time": "2023-11-08T17:38:49.385Z"
   },
   {
    "duration": 12,
    "start_time": "2023-11-08T17:39:17.101Z"
   },
   {
    "duration": 14,
    "start_time": "2023-11-08T17:39:51.087Z"
   },
   {
    "duration": 11,
    "start_time": "2023-11-08T17:40:24.252Z"
   },
   {
    "duration": 10,
    "start_time": "2023-11-08T17:40:58.535Z"
   },
   {
    "duration": 11,
    "start_time": "2023-11-08T17:41:31.359Z"
   },
   {
    "duration": 11,
    "start_time": "2023-11-08T17:42:17.469Z"
   },
   {
    "duration": 11,
    "start_time": "2023-11-08T17:43:02.743Z"
   },
   {
    "duration": 10,
    "start_time": "2023-11-08T17:43:38.934Z"
   },
   {
    "duration": 11,
    "start_time": "2023-11-08T17:43:49.488Z"
   },
   {
    "duration": 11,
    "start_time": "2023-11-08T17:44:04.069Z"
   },
   {
    "duration": 1211,
    "start_time": "2023-11-08T17:48:16.803Z"
   },
   {
    "duration": 78,
    "start_time": "2023-11-08T17:48:18.016Z"
   },
   {
    "duration": 19,
    "start_time": "2023-11-08T17:48:18.096Z"
   },
   {
    "duration": 20,
    "start_time": "2023-11-08T17:48:18.117Z"
   },
   {
    "duration": 25,
    "start_time": "2023-11-08T17:48:18.138Z"
   },
   {
    "duration": 525,
    "start_time": "2023-11-08T17:48:18.165Z"
   },
   {
    "duration": 7,
    "start_time": "2023-11-08T17:48:18.692Z"
   },
   {
    "duration": 25,
    "start_time": "2023-11-08T17:48:18.701Z"
   },
   {
    "duration": 22,
    "start_time": "2023-11-08T17:48:18.728Z"
   },
   {
    "duration": 20,
    "start_time": "2023-11-08T17:48:18.753Z"
   },
   {
    "duration": 17,
    "start_time": "2023-11-08T17:48:18.775Z"
   },
   {
    "duration": 23,
    "start_time": "2023-11-08T17:48:18.794Z"
   },
   {
    "duration": 24,
    "start_time": "2023-11-08T17:48:18.819Z"
   },
   {
    "duration": 37,
    "start_time": "2023-11-08T17:48:18.845Z"
   },
   {
    "duration": 35,
    "start_time": "2023-11-08T17:48:18.885Z"
   },
   {
    "duration": 46,
    "start_time": "2023-11-08T17:48:18.923Z"
   },
   {
    "duration": 17,
    "start_time": "2023-11-08T17:48:18.971Z"
   },
   {
    "duration": 33,
    "start_time": "2023-11-08T17:48:18.990Z"
   },
   {
    "duration": 42,
    "start_time": "2023-11-08T17:48:19.025Z"
   },
   {
    "duration": 17,
    "start_time": "2023-11-08T17:48:19.069Z"
   },
   {
    "duration": 30,
    "start_time": "2023-11-08T17:48:19.088Z"
   },
   {
    "duration": 33,
    "start_time": "2023-11-08T17:48:19.120Z"
   },
   {
    "duration": 31,
    "start_time": "2023-11-08T17:48:19.155Z"
   },
   {
    "duration": 13,
    "start_time": "2023-11-08T17:48:19.188Z"
   },
   {
    "duration": 18,
    "start_time": "2023-11-08T17:48:19.204Z"
   },
   {
    "duration": 15,
    "start_time": "2023-11-08T17:48:19.224Z"
   },
   {
    "duration": 11,
    "start_time": "2023-11-08T17:48:19.241Z"
   },
   {
    "duration": 13,
    "start_time": "2023-11-08T17:48:19.256Z"
   },
   {
    "duration": 74,
    "start_time": "2023-11-08T17:48:19.271Z"
   },
   {
    "duration": 241,
    "start_time": "2023-11-08T17:48:19.347Z"
   },
   {
    "duration": 9,
    "start_time": "2023-11-08T17:48:19.590Z"
   },
   {
    "duration": 94,
    "start_time": "2023-11-08T17:48:19.601Z"
   },
   {
    "duration": 52,
    "start_time": "2023-11-08T17:48:19.697Z"
   },
   {
    "duration": 140,
    "start_time": "2023-11-08T17:48:19.752Z"
   },
   {
    "duration": 73,
    "start_time": "2023-11-08T17:48:19.894Z"
   },
   {
    "duration": 48,
    "start_time": "2023-11-08T17:48:19.969Z"
   },
   {
    "duration": 57,
    "start_time": "2023-11-08T17:48:20.019Z"
   },
   {
    "duration": 161,
    "start_time": "2023-11-08T17:48:20.079Z"
   },
   {
    "duration": 83,
    "start_time": "2023-11-08T17:48:20.242Z"
   },
   {
    "duration": 38,
    "start_time": "2023-11-08T17:48:20.327Z"
   },
   {
    "duration": 11,
    "start_time": "2023-11-08T17:48:20.367Z"
   },
   {
    "duration": 44,
    "start_time": "2023-11-08T17:48:20.379Z"
   },
   {
    "duration": 11,
    "start_time": "2023-11-08T17:48:20.425Z"
   },
   {
    "duration": 4,
    "start_time": "2023-11-08T17:48:20.437Z"
   },
   {
    "duration": 5,
    "start_time": "2023-11-08T17:48:20.443Z"
   },
   {
    "duration": 9,
    "start_time": "2023-11-08T17:48:20.449Z"
   },
   {
    "duration": 23,
    "start_time": "2023-11-08T17:48:20.459Z"
   },
   {
    "duration": 13,
    "start_time": "2023-11-08T17:48:20.484Z"
   },
   {
    "duration": 27,
    "start_time": "2023-11-08T17:48:20.499Z"
   },
   {
    "duration": 41,
    "start_time": "2023-11-08T17:48:20.528Z"
   },
   {
    "duration": 33,
    "start_time": "2023-11-08T17:48:20.570Z"
   },
   {
    "duration": 65,
    "start_time": "2023-11-08T17:48:20.605Z"
   },
   {
    "duration": 188,
    "start_time": "2023-11-08T17:48:20.672Z"
   },
   {
    "duration": 141,
    "start_time": "2023-11-08T17:48:20.862Z"
   },
   {
    "duration": 25,
    "start_time": "2023-11-08T17:48:21.005Z"
   },
   {
    "duration": 26,
    "start_time": "2023-11-08T17:48:21.032Z"
   },
   {
    "duration": 81,
    "start_time": "2023-11-08T17:48:21.060Z"
   },
   {
    "duration": 492,
    "start_time": "2023-11-08T17:48:21.142Z"
   },
   {
    "duration": 349,
    "start_time": "2023-11-08T17:48:21.635Z"
   },
   {
    "duration": 3,
    "start_time": "2023-11-08T18:12:28.071Z"
   },
   {
    "duration": 7,
    "start_time": "2023-11-08T18:14:45.311Z"
   },
   {
    "duration": 235,
    "start_time": "2023-11-08T18:18:14.962Z"
   },
   {
    "duration": 15,
    "start_time": "2023-11-08T18:18:46.406Z"
   },
   {
    "duration": 260,
    "start_time": "2023-11-08T18:19:34.541Z"
   },
   {
    "duration": 18,
    "start_time": "2023-11-08T18:20:16.991Z"
   },
   {
    "duration": 236,
    "start_time": "2023-11-08T18:20:28.658Z"
   },
   {
    "duration": 508,
    "start_time": "2023-11-08T18:20:50.223Z"
   },
   {
    "duration": 414,
    "start_time": "2023-11-08T18:22:23.326Z"
   },
   {
    "duration": 427,
    "start_time": "2023-11-08T18:22:30.840Z"
   },
   {
    "duration": 14,
    "start_time": "2023-11-08T18:30:41.509Z"
   },
   {
    "duration": 17,
    "start_time": "2023-11-08T18:30:59.642Z"
   },
   {
    "duration": 6,
    "start_time": "2023-11-08T18:34:35.439Z"
   },
   {
    "duration": 5,
    "start_time": "2023-11-08T18:34:44.494Z"
   },
   {
    "duration": 123,
    "start_time": "2023-11-08T18:38:26.991Z"
   },
   {
    "duration": 19,
    "start_time": "2023-11-08T18:38:59.024Z"
   },
   {
    "duration": 21,
    "start_time": "2023-11-08T18:39:31.155Z"
   },
   {
    "duration": 16,
    "start_time": "2023-11-08T18:39:45.072Z"
   },
   {
    "duration": 15,
    "start_time": "2023-11-08T18:39:48.224Z"
   },
   {
    "duration": 5,
    "start_time": "2023-11-08T18:39:52.371Z"
   },
   {
    "duration": 353,
    "start_time": "2023-11-08T18:39:54.506Z"
   },
   {
    "duration": 377,
    "start_time": "2023-11-08T18:41:44.940Z"
   },
   {
    "duration": 443,
    "start_time": "2023-11-08T18:42:25.758Z"
   },
   {
    "duration": 347,
    "start_time": "2023-11-08T18:43:22.405Z"
   },
   {
    "duration": 16,
    "start_time": "2023-11-08T18:44:11.507Z"
   },
   {
    "duration": 339,
    "start_time": "2023-11-08T18:44:27.573Z"
   },
   {
    "duration": 402,
    "start_time": "2023-11-08T18:45:47.522Z"
   },
   {
    "duration": 128,
    "start_time": "2023-11-08T18:47:00.023Z"
   },
   {
    "duration": 413,
    "start_time": "2023-11-08T18:47:04.695Z"
   },
   {
    "duration": 380,
    "start_time": "2023-11-08T18:47:25.240Z"
   },
   {
    "duration": 457,
    "start_time": "2023-11-08T18:47:34.545Z"
   },
   {
    "duration": 18,
    "start_time": "2023-11-08T18:58:53.471Z"
   },
   {
    "duration": 17,
    "start_time": "2023-11-08T18:59:03.904Z"
   },
   {
    "duration": 372,
    "start_time": "2023-11-08T19:03:36.188Z"
   },
   {
    "duration": 512,
    "start_time": "2023-11-08T19:05:21.910Z"
   },
   {
    "duration": 374,
    "start_time": "2023-11-08T19:05:33.504Z"
   },
   {
    "duration": 392,
    "start_time": "2023-11-08T19:06:01.035Z"
   },
   {
    "duration": 397,
    "start_time": "2023-11-08T19:07:02.653Z"
   },
   {
    "duration": 365,
    "start_time": "2023-11-08T19:09:18.486Z"
   },
   {
    "duration": 1229,
    "start_time": "2023-11-08T19:12:07.905Z"
   },
   {
    "duration": 80,
    "start_time": "2023-11-08T19:12:09.136Z"
   },
   {
    "duration": 27,
    "start_time": "2023-11-08T19:12:09.219Z"
   },
   {
    "duration": 26,
    "start_time": "2023-11-08T19:12:09.249Z"
   },
   {
    "duration": 53,
    "start_time": "2023-11-08T19:12:09.277Z"
   },
   {
    "duration": 496,
    "start_time": "2023-11-08T19:12:09.331Z"
   },
   {
    "duration": 5,
    "start_time": "2023-11-08T19:12:09.829Z"
   },
   {
    "duration": 5,
    "start_time": "2023-11-08T19:12:09.836Z"
   },
   {
    "duration": 7,
    "start_time": "2023-11-08T19:12:09.843Z"
   },
   {
    "duration": 10,
    "start_time": "2023-11-08T19:12:09.853Z"
   },
   {
    "duration": 7,
    "start_time": "2023-11-08T19:12:09.865Z"
   },
   {
    "duration": 5,
    "start_time": "2023-11-08T19:12:09.874Z"
   },
   {
    "duration": 6,
    "start_time": "2023-11-08T19:12:09.881Z"
   },
   {
    "duration": 39,
    "start_time": "2023-11-08T19:12:09.889Z"
   },
   {
    "duration": 7,
    "start_time": "2023-11-08T19:12:09.930Z"
   },
   {
    "duration": 9,
    "start_time": "2023-11-08T19:12:09.939Z"
   },
   {
    "duration": 4,
    "start_time": "2023-11-08T19:12:09.950Z"
   },
   {
    "duration": 11,
    "start_time": "2023-11-08T19:12:09.956Z"
   },
   {
    "duration": 9,
    "start_time": "2023-11-08T19:12:09.969Z"
   },
   {
    "duration": 45,
    "start_time": "2023-11-08T19:12:09.980Z"
   },
   {
    "duration": 11,
    "start_time": "2023-11-08T19:12:10.027Z"
   },
   {
    "duration": 12,
    "start_time": "2023-11-08T19:12:10.040Z"
   },
   {
    "duration": 26,
    "start_time": "2023-11-08T19:12:10.053Z"
   },
   {
    "duration": 10,
    "start_time": "2023-11-08T19:12:10.081Z"
   },
   {
    "duration": 11,
    "start_time": "2023-11-08T19:12:10.093Z"
   },
   {
    "duration": 14,
    "start_time": "2023-11-08T19:12:10.124Z"
   },
   {
    "duration": 10,
    "start_time": "2023-11-08T19:12:10.140Z"
   },
   {
    "duration": 9,
    "start_time": "2023-11-08T19:12:10.155Z"
   },
   {
    "duration": 10,
    "start_time": "2023-11-08T19:12:10.166Z"
   },
   {
    "duration": 206,
    "start_time": "2023-11-08T19:12:10.177Z"
   },
   {
    "duration": 9,
    "start_time": "2023-11-08T19:12:10.385Z"
   },
   {
    "duration": 19,
    "start_time": "2023-11-08T19:12:10.395Z"
   },
   {
    "duration": 24,
    "start_time": "2023-11-08T19:12:10.416Z"
   },
   {
    "duration": 12,
    "start_time": "2023-11-08T19:12:10.442Z"
   },
   {
    "duration": 17,
    "start_time": "2023-11-08T19:12:10.456Z"
   },
   {
    "duration": 30,
    "start_time": "2023-11-08T19:12:10.475Z"
   },
   {
    "duration": 21,
    "start_time": "2023-11-08T19:12:10.506Z"
   },
   {
    "duration": 28,
    "start_time": "2023-11-08T19:12:10.529Z"
   },
   {
    "duration": 33,
    "start_time": "2023-11-08T19:12:10.559Z"
   },
   {
    "duration": 14,
    "start_time": "2023-11-08T19:12:10.594Z"
   },
   {
    "duration": 16,
    "start_time": "2023-11-08T19:12:10.610Z"
   },
   {
    "duration": 13,
    "start_time": "2023-11-08T19:12:10.628Z"
   },
   {
    "duration": 15,
    "start_time": "2023-11-08T19:12:10.643Z"
   },
   {
    "duration": 12,
    "start_time": "2023-11-08T19:12:10.660Z"
   },
   {
    "duration": 18,
    "start_time": "2023-11-08T19:12:10.673Z"
   },
   {
    "duration": 34,
    "start_time": "2023-11-08T19:12:10.693Z"
   },
   {
    "duration": 10,
    "start_time": "2023-11-08T19:12:10.729Z"
   },
   {
    "duration": 7,
    "start_time": "2023-11-08T19:12:10.741Z"
   },
   {
    "duration": 16,
    "start_time": "2023-11-08T19:12:10.750Z"
   },
   {
    "duration": 12,
    "start_time": "2023-11-08T19:12:10.767Z"
   },
   {
    "duration": 43,
    "start_time": "2023-11-08T19:12:10.781Z"
   },
   {
    "duration": 9,
    "start_time": "2023-11-08T19:12:10.827Z"
   },
   {
    "duration": 216,
    "start_time": "2023-11-08T19:12:10.837Z"
   },
   {
    "duration": 136,
    "start_time": "2023-11-08T19:12:11.056Z"
   },
   {
    "duration": 30,
    "start_time": "2023-11-08T19:12:11.194Z"
   },
   {
    "duration": 14,
    "start_time": "2023-11-08T19:12:11.226Z"
   },
   {
    "duration": 56,
    "start_time": "2023-11-08T19:12:11.242Z"
   },
   {
    "duration": 414,
    "start_time": "2023-11-08T19:12:11.300Z"
   },
   {
    "duration": 358,
    "start_time": "2023-11-08T19:12:11.716Z"
   },
   {
    "duration": 8,
    "start_time": "2023-11-08T19:12:12.076Z"
   },
   {
    "duration": 408,
    "start_time": "2023-11-08T19:12:12.086Z"
   },
   {
    "duration": 5,
    "start_time": "2023-11-08T19:12:12.496Z"
   },
   {
    "duration": 30,
    "start_time": "2023-11-08T19:12:12.503Z"
   },
   {
    "duration": 25,
    "start_time": "2023-11-08T19:12:12.535Z"
   },
   {
    "duration": 363,
    "start_time": "2023-11-08T19:12:12.562Z"
   },
   {
    "duration": 18,
    "start_time": "2023-11-08T19:12:12.926Z"
   },
   {
    "duration": 431,
    "start_time": "2023-11-08T19:12:12.946Z"
   },
   {
    "duration": 480,
    "start_time": "2023-11-08T19:15:39.086Z"
   },
   {
    "duration": 359,
    "start_time": "2023-11-08T19:16:03.207Z"
   },
   {
    "duration": 10,
    "start_time": "2023-11-08T19:36:18.600Z"
   },
   {
    "duration": 10,
    "start_time": "2023-11-08T19:36:52.238Z"
   },
   {
    "duration": 12,
    "start_time": "2023-11-08T19:37:08.739Z"
   },
   {
    "duration": 9,
    "start_time": "2023-11-08T19:41:55.581Z"
   },
   {
    "duration": 16,
    "start_time": "2023-11-08T19:43:44.338Z"
   },
   {
    "duration": 11,
    "start_time": "2023-11-08T19:43:56.239Z"
   },
   {
    "duration": 10,
    "start_time": "2023-11-08T19:44:47.521Z"
   },
   {
    "duration": 11,
    "start_time": "2023-11-08T19:45:06.513Z"
   },
   {
    "duration": 10,
    "start_time": "2023-11-08T19:45:18.287Z"
   },
   {
    "duration": 12,
    "start_time": "2023-11-08T19:45:27.008Z"
   },
   {
    "duration": 79,
    "start_time": "2023-11-08T19:46:13.743Z"
   },
   {
    "duration": 85,
    "start_time": "2023-11-08T19:46:19.784Z"
   },
   {
    "duration": 77,
    "start_time": "2023-11-08T19:46:37.471Z"
   },
   {
    "duration": 16,
    "start_time": "2023-11-08T19:47:16.867Z"
   },
   {
    "duration": 82,
    "start_time": "2023-11-08T19:47:30.476Z"
   },
   {
    "duration": 101,
    "start_time": "2023-11-08T19:47:42.027Z"
   },
   {
    "duration": 85,
    "start_time": "2023-11-08T19:48:17.470Z"
   },
   {
    "duration": 112,
    "start_time": "2023-11-08T19:48:54.900Z"
   },
   {
    "duration": 10,
    "start_time": "2023-11-08T19:49:41.220Z"
   },
   {
    "duration": 12,
    "start_time": "2023-11-08T19:49:44.884Z"
   },
   {
    "duration": 92,
    "start_time": "2023-11-08T19:50:07.684Z"
   },
   {
    "duration": 11,
    "start_time": "2023-11-08T19:50:12.984Z"
   },
   {
    "duration": 33,
    "start_time": "2023-11-08T19:51:35.876Z"
   },
   {
    "duration": 24,
    "start_time": "2023-11-08T19:52:07.521Z"
   },
   {
    "duration": 5,
    "start_time": "2023-11-08T19:52:37.639Z"
   },
   {
    "duration": 17,
    "start_time": "2023-11-08T19:52:57.646Z"
   },
   {
    "duration": 10,
    "start_time": "2023-11-08T19:53:59.691Z"
   },
   {
    "duration": 17,
    "start_time": "2023-11-08T19:54:48.339Z"
   },
   {
    "duration": 1089,
    "start_time": "2023-11-08T19:58:13.472Z"
   },
   {
    "duration": 11,
    "start_time": "2023-11-08T19:58:26.018Z"
   },
   {
    "duration": 16,
    "start_time": "2023-11-08T20:00:03.580Z"
   },
   {
    "duration": 16,
    "start_time": "2023-11-08T20:00:18.321Z"
   },
   {
    "duration": 21,
    "start_time": "2023-11-08T20:00:48.887Z"
   },
   {
    "duration": 54,
    "start_time": "2023-11-09T05:32:45.817Z"
   },
   {
    "duration": 8,
    "start_time": "2023-11-09T05:32:58.033Z"
   },
   {
    "duration": 1503,
    "start_time": "2023-11-09T05:33:10.995Z"
   },
   {
    "duration": 198,
    "start_time": "2023-11-09T05:33:12.500Z"
   },
   {
    "duration": 20,
    "start_time": "2023-11-09T05:33:12.700Z"
   },
   {
    "duration": 21,
    "start_time": "2023-11-09T05:33:12.722Z"
   },
   {
    "duration": 25,
    "start_time": "2023-11-09T05:33:12.745Z"
   },
   {
    "duration": 557,
    "start_time": "2023-11-09T05:33:12.772Z"
   },
   {
    "duration": 5,
    "start_time": "2023-11-09T05:33:13.331Z"
   },
   {
    "duration": 5,
    "start_time": "2023-11-09T05:33:13.338Z"
   },
   {
    "duration": 5,
    "start_time": "2023-11-09T05:33:13.345Z"
   },
   {
    "duration": 4,
    "start_time": "2023-11-09T05:33:13.352Z"
   },
   {
    "duration": 5,
    "start_time": "2023-11-09T05:33:13.357Z"
   },
   {
    "duration": 4,
    "start_time": "2023-11-09T05:33:13.364Z"
   },
   {
    "duration": 5,
    "start_time": "2023-11-09T05:33:13.369Z"
   },
   {
    "duration": 39,
    "start_time": "2023-11-09T05:33:13.376Z"
   },
   {
    "duration": 7,
    "start_time": "2023-11-09T05:33:13.416Z"
   },
   {
    "duration": 20,
    "start_time": "2023-11-09T05:33:13.425Z"
   },
   {
    "duration": 5,
    "start_time": "2023-11-09T05:33:13.446Z"
   },
   {
    "duration": 17,
    "start_time": "2023-11-09T05:33:13.453Z"
   },
   {
    "duration": 9,
    "start_time": "2023-11-09T05:33:13.471Z"
   },
   {
    "duration": 3,
    "start_time": "2023-11-09T05:33:13.482Z"
   },
   {
    "duration": 28,
    "start_time": "2023-11-09T05:33:13.487Z"
   },
   {
    "duration": 4,
    "start_time": "2023-11-09T05:33:13.517Z"
   },
   {
    "duration": 31,
    "start_time": "2023-11-09T05:33:13.522Z"
   },
   {
    "duration": 11,
    "start_time": "2023-11-09T05:33:13.555Z"
   },
   {
    "duration": 11,
    "start_time": "2023-11-09T05:33:13.567Z"
   },
   {
    "duration": 12,
    "start_time": "2023-11-09T05:33:13.580Z"
   },
   {
    "duration": 23,
    "start_time": "2023-11-09T05:33:13.594Z"
   },
   {
    "duration": 10,
    "start_time": "2023-11-09T05:33:13.621Z"
   },
   {
    "duration": 16,
    "start_time": "2023-11-09T05:33:13.632Z"
   },
   {
    "duration": 184,
    "start_time": "2023-11-09T05:33:13.650Z"
   },
   {
    "duration": 8,
    "start_time": "2023-11-09T05:33:13.836Z"
   },
   {
    "duration": 9,
    "start_time": "2023-11-09T05:33:13.846Z"
   },
   {
    "duration": 8,
    "start_time": "2023-11-09T05:33:13.856Z"
   },
   {
    "duration": 8,
    "start_time": "2023-11-09T05:33:13.866Z"
   },
   {
    "duration": 40,
    "start_time": "2023-11-09T05:33:13.875Z"
   },
   {
    "duration": 9,
    "start_time": "2023-11-09T05:33:13.917Z"
   },
   {
    "duration": 11,
    "start_time": "2023-11-09T05:33:13.928Z"
   },
   {
    "duration": 12,
    "start_time": "2023-11-09T05:33:13.940Z"
   },
   {
    "duration": 10,
    "start_time": "2023-11-09T05:33:13.954Z"
   },
   {
    "duration": 49,
    "start_time": "2023-11-09T05:33:13.966Z"
   },
   {
    "duration": 9,
    "start_time": "2023-11-09T05:33:14.017Z"
   },
   {
    "duration": 15,
    "start_time": "2023-11-09T05:33:14.027Z"
   },
   {
    "duration": 9,
    "start_time": "2023-11-09T05:33:14.043Z"
   },
   {
    "duration": 3,
    "start_time": "2023-11-09T05:33:14.053Z"
   },
   {
    "duration": 4,
    "start_time": "2023-11-09T05:33:14.058Z"
   },
   {
    "duration": 52,
    "start_time": "2023-11-09T05:33:14.064Z"
   },
   {
    "duration": 8,
    "start_time": "2023-11-09T05:33:14.118Z"
   },
   {
    "duration": 12,
    "start_time": "2023-11-09T05:33:14.128Z"
   },
   {
    "duration": 11,
    "start_time": "2023-11-09T05:33:14.142Z"
   },
   {
    "duration": 11,
    "start_time": "2023-11-09T05:33:14.154Z"
   },
   {
    "duration": 12,
    "start_time": "2023-11-09T05:33:14.167Z"
   },
   {
    "duration": 21,
    "start_time": "2023-11-09T05:33:14.215Z"
   },
   {
    "duration": 6,
    "start_time": "2023-11-09T05:33:14.238Z"
   },
   {
    "duration": 198,
    "start_time": "2023-11-09T05:33:14.245Z"
   },
   {
    "duration": 150,
    "start_time": "2023-11-09T05:33:14.445Z"
   },
   {
    "duration": 23,
    "start_time": "2023-11-09T05:33:14.598Z"
   },
   {
    "duration": 23,
    "start_time": "2023-11-09T05:33:14.623Z"
   },
   {
    "duration": 24,
    "start_time": "2023-11-09T05:33:14.648Z"
   },
   {
    "duration": 412,
    "start_time": "2023-11-09T05:33:14.674Z"
   },
   {
    "duration": 346,
    "start_time": "2023-11-09T05:33:15.088Z"
   },
   {
    "duration": 6,
    "start_time": "2023-11-09T05:33:15.435Z"
   },
   {
    "duration": 371,
    "start_time": "2023-11-09T05:33:15.443Z"
   },
   {
    "duration": 3,
    "start_time": "2023-11-09T05:33:15.816Z"
   },
   {
    "duration": 6,
    "start_time": "2023-11-09T05:33:15.821Z"
   },
   {
    "duration": 8,
    "start_time": "2023-11-09T05:33:15.828Z"
   },
   {
    "duration": 345,
    "start_time": "2023-11-09T05:33:15.837Z"
   },
   {
    "duration": 13,
    "start_time": "2023-11-09T05:33:16.184Z"
   },
   {
    "duration": 407,
    "start_time": "2023-11-09T05:33:16.199Z"
   },
   {
    "duration": 411,
    "start_time": "2023-11-09T05:33:16.608Z"
   },
   {
    "duration": 7,
    "start_time": "2023-11-09T05:44:25.816Z"
   },
   {
    "duration": 14,
    "start_time": "2023-11-09T05:44:38.410Z"
   },
   {
    "duration": 13,
    "start_time": "2023-11-09T05:45:44.268Z"
   },
   {
    "duration": 12,
    "start_time": "2023-11-09T05:46:17.882Z"
   },
   {
    "duration": 15,
    "start_time": "2023-11-09T05:46:38.326Z"
   },
   {
    "duration": 12,
    "start_time": "2023-11-09T05:47:04.792Z"
   },
   {
    "duration": 13,
    "start_time": "2023-11-09T05:47:13.719Z"
   },
   {
    "duration": 12,
    "start_time": "2023-11-09T05:47:24.767Z"
   },
   {
    "duration": 10,
    "start_time": "2023-11-09T05:48:40.261Z"
   },
   {
    "duration": 338,
    "start_time": "2023-11-09T05:52:14.467Z"
   },
   {
    "duration": 12,
    "start_time": "2023-11-09T05:52:32.276Z"
   },
   {
    "duration": 14,
    "start_time": "2023-11-09T06:41:14.757Z"
   },
   {
    "duration": 238,
    "start_time": "2023-11-09T06:41:27.615Z"
   },
   {
    "duration": 16,
    "start_time": "2023-11-09T06:41:36.973Z"
   },
   {
    "duration": 144,
    "start_time": "2023-11-09T06:42:25.193Z"
   },
   {
    "duration": 165,
    "start_time": "2023-11-09T06:45:00.667Z"
   },
   {
    "duration": 168,
    "start_time": "2023-11-09T06:45:15.407Z"
   },
   {
    "duration": 167,
    "start_time": "2023-11-09T06:45:21.913Z"
   },
   {
    "duration": 175,
    "start_time": "2023-11-09T06:45:35.158Z"
   },
   {
    "duration": 160,
    "start_time": "2023-11-09T06:48:58.970Z"
   },
   {
    "duration": 164,
    "start_time": "2023-11-09T06:49:17.043Z"
   },
   {
    "duration": 5,
    "start_time": "2023-11-09T06:52:21.425Z"
   },
   {
    "duration": 5,
    "start_time": "2023-11-09T06:52:31.026Z"
   },
   {
    "duration": 4,
    "start_time": "2023-11-09T06:52:51.467Z"
   },
   {
    "duration": 5,
    "start_time": "2023-11-09T06:52:57.907Z"
   },
   {
    "duration": 4,
    "start_time": "2023-11-09T06:53:04.211Z"
   },
   {
    "duration": 4,
    "start_time": "2023-11-09T06:54:28.627Z"
   },
   {
    "duration": 162,
    "start_time": "2023-11-09T07:02:43.884Z"
   },
   {
    "duration": 152,
    "start_time": "2023-11-09T07:03:50.320Z"
   },
   {
    "duration": 126,
    "start_time": "2023-11-09T07:05:36.237Z"
   },
   {
    "duration": 157,
    "start_time": "2023-11-09T07:05:57.537Z"
   },
   {
    "duration": 246,
    "start_time": "2023-11-09T07:06:23.677Z"
   },
   {
    "duration": 159,
    "start_time": "2023-11-09T07:06:30.645Z"
   },
   {
    "duration": 155,
    "start_time": "2023-11-09T07:06:36.628Z"
   },
   {
    "duration": 159,
    "start_time": "2023-11-09T07:06:46.617Z"
   },
   {
    "duration": 154,
    "start_time": "2023-11-09T07:06:52.377Z"
   },
   {
    "duration": 214,
    "start_time": "2023-11-09T07:06:58.260Z"
   },
   {
    "duration": 174,
    "start_time": "2023-11-09T07:07:15.257Z"
   },
   {
    "duration": 160,
    "start_time": "2023-11-09T07:07:26.060Z"
   },
   {
    "duration": 176,
    "start_time": "2023-11-09T07:07:44.287Z"
   },
   {
    "duration": 145,
    "start_time": "2023-11-09T07:07:50.195Z"
   },
   {
    "duration": 164,
    "start_time": "2023-11-09T07:07:57.123Z"
   },
   {
    "duration": 170,
    "start_time": "2023-11-09T07:08:01.754Z"
   },
   {
    "duration": 225,
    "start_time": "2023-11-09T07:08:08.199Z"
   },
   {
    "duration": 297,
    "start_time": "2023-11-09T07:08:18.193Z"
   },
   {
    "duration": 167,
    "start_time": "2023-11-09T07:08:26.634Z"
   },
   {
    "duration": 4,
    "start_time": "2023-11-09T07:08:48.745Z"
   },
   {
    "duration": 153,
    "start_time": "2023-11-09T07:12:21.828Z"
   },
   {
    "duration": 5,
    "start_time": "2023-11-09T07:14:30.428Z"
   },
   {
    "duration": 132,
    "start_time": "2023-11-09T07:15:51.060Z"
   },
   {
    "duration": 144,
    "start_time": "2023-11-09T07:15:59.576Z"
   },
   {
    "duration": 4,
    "start_time": "2023-11-09T07:16:27.292Z"
   },
   {
    "duration": 50,
    "start_time": "2023-11-09T07:58:43.249Z"
   },
   {
    "duration": 46,
    "start_time": "2023-11-09T07:58:44.077Z"
   },
   {
    "duration": 61,
    "start_time": "2023-11-09T07:58:44.866Z"
   },
   {
    "duration": 23,
    "start_time": "2023-11-09T07:58:45.818Z"
   },
   {
    "duration": 60,
    "start_time": "2023-11-09T07:59:15.922Z"
   },
   {
    "duration": 35,
    "start_time": "2023-11-09T07:59:18.324Z"
   },
   {
    "duration": 32,
    "start_time": "2023-11-09T07:59:36.164Z"
   },
   {
    "duration": 27,
    "start_time": "2023-11-09T08:00:00.649Z"
   },
   {
    "duration": 32,
    "start_time": "2023-11-09T08:00:17.032Z"
   },
   {
    "duration": 36,
    "start_time": "2023-11-09T08:08:39.416Z"
   },
   {
    "duration": 125,
    "start_time": "2023-11-09T08:08:45.324Z"
   },
   {
    "duration": 7,
    "start_time": "2023-11-09T08:12:19.282Z"
   },
   {
    "duration": 12,
    "start_time": "2023-11-09T08:21:07.415Z"
   },
   {
    "duration": 4,
    "start_time": "2023-11-09T08:21:34.749Z"
   },
   {
    "duration": 28,
    "start_time": "2023-11-09T08:21:42.917Z"
   },
   {
    "duration": 26,
    "start_time": "2023-11-09T08:21:52.306Z"
   },
   {
    "duration": 23,
    "start_time": "2023-11-09T08:22:26.066Z"
   },
   {
    "duration": 24,
    "start_time": "2023-11-09T08:22:31.317Z"
   },
   {
    "duration": 24,
    "start_time": "2023-11-09T08:22:35.233Z"
   },
   {
    "duration": 22,
    "start_time": "2023-11-09T08:23:09.555Z"
   },
   {
    "duration": 22,
    "start_time": "2023-11-09T08:23:37.847Z"
   },
   {
    "duration": 1218,
    "start_time": "2023-11-09T08:26:59.272Z"
   },
   {
    "duration": 82,
    "start_time": "2023-11-09T08:27:00.492Z"
   },
   {
    "duration": 21,
    "start_time": "2023-11-09T08:27:00.575Z"
   },
   {
    "duration": 52,
    "start_time": "2023-11-09T08:27:00.599Z"
   },
   {
    "duration": 109,
    "start_time": "2023-11-09T08:27:00.653Z"
   },
   {
    "duration": 582,
    "start_time": "2023-11-09T08:27:00.764Z"
   },
   {
    "duration": 5,
    "start_time": "2023-11-09T08:27:01.349Z"
   },
   {
    "duration": 73,
    "start_time": "2023-11-09T08:27:01.356Z"
   },
   {
    "duration": 77,
    "start_time": "2023-11-09T08:27:01.430Z"
   },
   {
    "duration": 117,
    "start_time": "2023-11-09T08:27:01.511Z"
   },
   {
    "duration": 52,
    "start_time": "2023-11-09T08:27:01.629Z"
   },
   {
    "duration": 53,
    "start_time": "2023-11-09T08:27:01.682Z"
   },
   {
    "duration": 105,
    "start_time": "2023-11-09T08:27:01.736Z"
   },
   {
    "duration": 49,
    "start_time": "2023-11-09T08:27:01.843Z"
   },
   {
    "duration": 36,
    "start_time": "2023-11-09T08:27:01.894Z"
   },
   {
    "duration": 38,
    "start_time": "2023-11-09T08:27:01.931Z"
   },
   {
    "duration": 12,
    "start_time": "2023-11-09T08:27:01.970Z"
   },
   {
    "duration": 46,
    "start_time": "2023-11-09T08:27:01.984Z"
   },
   {
    "duration": 17,
    "start_time": "2023-11-09T08:27:02.032Z"
   },
   {
    "duration": 16,
    "start_time": "2023-11-09T08:27:02.050Z"
   },
   {
    "duration": 23,
    "start_time": "2023-11-09T08:27:02.068Z"
   },
   {
    "duration": 5,
    "start_time": "2023-11-09T08:27:02.093Z"
   },
   {
    "duration": 23,
    "start_time": "2023-11-09T08:27:02.100Z"
   },
   {
    "duration": 15,
    "start_time": "2023-11-09T08:27:02.125Z"
   },
   {
    "duration": 36,
    "start_time": "2023-11-09T08:27:02.142Z"
   },
   {
    "duration": 28,
    "start_time": "2023-11-09T08:27:02.180Z"
   },
   {
    "duration": 48,
    "start_time": "2023-11-09T08:27:02.210Z"
   },
   {
    "duration": 44,
    "start_time": "2023-11-09T08:27:02.263Z"
   },
   {
    "duration": 17,
    "start_time": "2023-11-09T08:27:02.308Z"
   },
   {
    "duration": 205,
    "start_time": "2023-11-09T08:27:02.327Z"
   },
   {
    "duration": 9,
    "start_time": "2023-11-09T08:27:02.534Z"
   },
   {
    "duration": 12,
    "start_time": "2023-11-09T08:27:02.545Z"
   },
   {
    "duration": 11,
    "start_time": "2023-11-09T08:27:02.558Z"
   },
   {
    "duration": 11,
    "start_time": "2023-11-09T08:27:02.571Z"
   },
   {
    "duration": 32,
    "start_time": "2023-11-09T08:27:02.583Z"
   },
   {
    "duration": 12,
    "start_time": "2023-11-09T08:27:02.617Z"
   },
   {
    "duration": 10,
    "start_time": "2023-11-09T08:27:02.630Z"
   },
   {
    "duration": 17,
    "start_time": "2023-11-09T08:27:02.642Z"
   },
   {
    "duration": 11,
    "start_time": "2023-11-09T08:27:02.661Z"
   },
   {
    "duration": 11,
    "start_time": "2023-11-09T08:27:02.674Z"
   },
   {
    "duration": 34,
    "start_time": "2023-11-09T08:27:02.688Z"
   },
   {
    "duration": 27,
    "start_time": "2023-11-09T08:27:02.724Z"
   },
   {
    "duration": 16,
    "start_time": "2023-11-09T08:27:02.752Z"
   },
   {
    "duration": 3,
    "start_time": "2023-11-09T08:27:02.770Z"
   },
   {
    "duration": 11,
    "start_time": "2023-11-09T08:27:02.775Z"
   },
   {
    "duration": 10,
    "start_time": "2023-11-09T08:27:02.788Z"
   },
   {
    "duration": 6,
    "start_time": "2023-11-09T08:27:02.815Z"
   },
   {
    "duration": 23,
    "start_time": "2023-11-09T08:27:02.822Z"
   },
   {
    "duration": 9,
    "start_time": "2023-11-09T08:27:02.847Z"
   },
   {
    "duration": 9,
    "start_time": "2023-11-09T08:27:02.858Z"
   },
   {
    "duration": 14,
    "start_time": "2023-11-09T08:27:02.869Z"
   },
   {
    "duration": 39,
    "start_time": "2023-11-09T08:27:02.885Z"
   },
   {
    "duration": 6,
    "start_time": "2023-11-09T08:27:02.926Z"
   },
   {
    "duration": 177,
    "start_time": "2023-11-09T08:27:02.933Z"
   },
   {
    "duration": 124,
    "start_time": "2023-11-09T08:27:03.113Z"
   },
   {
    "duration": 14,
    "start_time": "2023-11-09T08:27:03.239Z"
   },
   {
    "duration": 53,
    "start_time": "2023-11-09T08:27:03.255Z"
   },
   {
    "duration": 45,
    "start_time": "2023-11-09T08:27:03.310Z"
   },
   {
    "duration": 445,
    "start_time": "2023-11-09T08:27:03.357Z"
   },
   {
    "duration": 350,
    "start_time": "2023-11-09T08:27:03.804Z"
   },
   {
    "duration": 7,
    "start_time": "2023-11-09T08:27:04.156Z"
   },
   {
    "duration": 490,
    "start_time": "2023-11-09T08:27:04.165Z"
   },
   {
    "duration": 4,
    "start_time": "2023-11-09T08:27:04.658Z"
   },
   {
    "duration": 22,
    "start_time": "2023-11-09T08:27:04.664Z"
   },
   {
    "duration": 20,
    "start_time": "2023-11-09T08:27:04.688Z"
   },
   {
    "duration": 362,
    "start_time": "2023-11-09T08:27:04.710Z"
   },
   {
    "duration": 13,
    "start_time": "2023-11-09T08:27:05.074Z"
   },
   {
    "duration": 387,
    "start_time": "2023-11-09T08:27:05.089Z"
   },
   {
    "duration": 14,
    "start_time": "2023-11-09T08:27:05.477Z"
   },
   {
    "duration": 267,
    "start_time": "2023-11-09T08:27:05.493Z"
   },
   {
    "duration": 3,
    "start_time": "2023-11-09T08:27:05.762Z"
   },
   {
    "duration": 177,
    "start_time": "2023-11-09T08:27:05.767Z"
   },
   {
    "duration": 4,
    "start_time": "2023-11-09T08:27:05.946Z"
   },
   {
    "duration": 67,
    "start_time": "2023-11-09T08:27:05.952Z"
   },
   {
    "duration": 58,
    "start_time": "2023-11-09T08:27:06.021Z"
   },
   {
    "duration": 87,
    "start_time": "2023-11-09T08:27:06.082Z"
   },
   {
    "duration": 81,
    "start_time": "2023-11-09T08:27:06.170Z"
   },
   {
    "duration": 32,
    "start_time": "2023-11-09T08:27:06.253Z"
   },
   {
    "duration": 135,
    "start_time": "2023-11-09T08:27:06.286Z"
   },
   {
    "duration": 7,
    "start_time": "2023-11-09T08:27:06.423Z"
   },
   {
    "duration": 41,
    "start_time": "2023-11-09T08:27:06.431Z"
   },
   {
    "duration": 26,
    "start_time": "2023-11-09T08:27:06.477Z"
   },
   {
    "duration": 45,
    "start_time": "2023-11-09T08:27:06.505Z"
   },
   {
    "duration": 103,
    "start_time": "2023-11-09T08:28:39.174Z"
   },
   {
    "duration": 22,
    "start_time": "2023-11-09T08:28:44.290Z"
   },
   {
    "duration": 22,
    "start_time": "2023-11-09T08:29:56.865Z"
   },
   {
    "duration": 130,
    "start_time": "2023-11-09T08:30:29.091Z"
   },
   {
    "duration": 96,
    "start_time": "2023-11-09T08:30:37.967Z"
   },
   {
    "duration": 26,
    "start_time": "2023-11-09T08:30:41.973Z"
   },
   {
    "duration": 30,
    "start_time": "2023-11-09T08:31:30.425Z"
   },
   {
    "duration": 24,
    "start_time": "2023-11-09T08:31:36.591Z"
   },
   {
    "duration": 22,
    "start_time": "2023-11-09T08:31:41.656Z"
   },
   {
    "duration": 23,
    "start_time": "2023-11-09T08:32:20.756Z"
   },
   {
    "duration": 24,
    "start_time": "2023-11-09T08:32:32.174Z"
   },
   {
    "duration": 23,
    "start_time": "2023-11-09T08:32:45.141Z"
   },
   {
    "duration": 22,
    "start_time": "2023-11-09T08:33:10.016Z"
   },
   {
    "duration": 23,
    "start_time": "2023-11-09T08:33:41.641Z"
   },
   {
    "duration": 24,
    "start_time": "2023-11-09T08:34:12.394Z"
   },
   {
    "duration": 23,
    "start_time": "2023-11-09T08:35:45.310Z"
   },
   {
    "duration": 15,
    "start_time": "2023-11-09T08:45:33.342Z"
   },
   {
    "duration": 23,
    "start_time": "2023-11-09T08:46:42.524Z"
   },
   {
    "duration": 23,
    "start_time": "2023-11-09T08:46:51.685Z"
   },
   {
    "duration": 15,
    "start_time": "2023-11-09T08:47:03.724Z"
   },
   {
    "duration": 15,
    "start_time": "2023-11-09T08:51:59.977Z"
   },
   {
    "duration": 16,
    "start_time": "2023-11-09T08:52:22.274Z"
   },
   {
    "duration": 1683,
    "start_time": "2023-11-09T09:02:39.477Z"
   },
   {
    "duration": 11,
    "start_time": "2023-11-09T09:02:52.099Z"
   },
   {
    "duration": 13,
    "start_time": "2023-11-09T09:03:06.902Z"
   },
   {
    "duration": 10,
    "start_time": "2023-11-09T09:14:10.720Z"
   },
   {
    "duration": 23,
    "start_time": "2023-11-09T09:15:37.804Z"
   },
   {
    "duration": 16,
    "start_time": "2023-11-09T09:23:55.722Z"
   },
   {
    "duration": 5,
    "start_time": "2023-11-09T09:30:02.608Z"
   },
   {
    "duration": 12,
    "start_time": "2023-11-09T09:30:33.124Z"
   },
   {
    "duration": 205,
    "start_time": "2023-11-09T09:47:57.211Z"
   },
   {
    "duration": 8,
    "start_time": "2023-11-09T10:14:56.505Z"
   },
   {
    "duration": 11,
    "start_time": "2023-11-09T10:15:09.154Z"
   },
   {
    "duration": 4,
    "start_time": "2023-11-09T10:15:37.171Z"
   },
   {
    "duration": 5,
    "start_time": "2023-11-09T10:15:59.913Z"
   },
   {
    "duration": 118,
    "start_time": "2023-11-09T10:44:00.934Z"
   },
   {
    "duration": 15,
    "start_time": "2023-11-09T10:48:18.786Z"
   },
   {
    "duration": 16,
    "start_time": "2023-11-09T10:48:39.818Z"
   },
   {
    "duration": 8,
    "start_time": "2023-11-09T10:49:18.085Z"
   },
   {
    "duration": 8,
    "start_time": "2023-11-09T10:49:48.535Z"
   },
   {
    "duration": 9,
    "start_time": "2023-11-09T10:50:01.019Z"
   },
   {
    "duration": 9,
    "start_time": "2023-11-09T10:50:23.533Z"
   },
   {
    "duration": 88,
    "start_time": "2023-11-09T10:50:34.842Z"
   },
   {
    "duration": 11,
    "start_time": "2023-11-09T10:50:48.333Z"
   },
   {
    "duration": 12,
    "start_time": "2023-11-09T10:51:30.051Z"
   },
   {
    "duration": 11,
    "start_time": "2023-11-09T10:56:34.135Z"
   },
   {
    "duration": 16,
    "start_time": "2023-11-09T10:57:30.199Z"
   },
   {
    "duration": 15,
    "start_time": "2023-11-09T10:57:38.049Z"
   },
   {
    "duration": 11,
    "start_time": "2023-11-09T10:57:44.741Z"
   },
   {
    "duration": 13,
    "start_time": "2023-11-09T10:58:20.424Z"
   },
   {
    "duration": 14,
    "start_time": "2023-11-09T11:02:43.266Z"
   },
   {
    "duration": 8,
    "start_time": "2023-11-09T11:02:53.487Z"
   },
   {
    "duration": 24,
    "start_time": "2023-11-09T11:02:56.537Z"
   },
   {
    "duration": 15,
    "start_time": "2023-11-09T11:03:23.815Z"
   },
   {
    "duration": 12,
    "start_time": "2023-11-09T11:04:34.025Z"
   },
   {
    "duration": 8,
    "start_time": "2023-11-09T11:04:39.588Z"
   },
   {
    "duration": 22,
    "start_time": "2023-11-09T11:04:48.082Z"
   },
   {
    "duration": 14,
    "start_time": "2023-11-09T11:04:55.823Z"
   },
   {
    "duration": 1259,
    "start_time": "2023-11-09T12:06:52.106Z"
   },
   {
    "duration": 81,
    "start_time": "2023-11-09T12:06:53.367Z"
   },
   {
    "duration": 19,
    "start_time": "2023-11-09T12:06:53.450Z"
   },
   {
    "duration": 38,
    "start_time": "2023-11-09T12:06:53.471Z"
   },
   {
    "duration": 23,
    "start_time": "2023-11-09T12:06:53.511Z"
   },
   {
    "duration": 481,
    "start_time": "2023-11-09T12:06:53.536Z"
   },
   {
    "duration": 5,
    "start_time": "2023-11-09T12:06:54.018Z"
   },
   {
    "duration": 29,
    "start_time": "2023-11-09T12:06:54.025Z"
   },
   {
    "duration": 22,
    "start_time": "2023-11-09T12:06:54.056Z"
   },
   {
    "duration": 26,
    "start_time": "2023-11-09T12:06:54.080Z"
   },
   {
    "duration": 18,
    "start_time": "2023-11-09T12:06:54.108Z"
   },
   {
    "duration": 38,
    "start_time": "2023-11-09T12:06:54.127Z"
   },
   {
    "duration": 29,
    "start_time": "2023-11-09T12:06:54.166Z"
   },
   {
    "duration": 37,
    "start_time": "2023-11-09T12:06:54.196Z"
   },
   {
    "duration": 34,
    "start_time": "2023-11-09T12:06:54.234Z"
   },
   {
    "duration": 39,
    "start_time": "2023-11-09T12:06:54.269Z"
   },
   {
    "duration": 46,
    "start_time": "2023-11-09T12:06:54.311Z"
   },
   {
    "duration": 35,
    "start_time": "2023-11-09T12:06:54.359Z"
   },
   {
    "duration": 38,
    "start_time": "2023-11-09T12:06:54.396Z"
   },
   {
    "duration": 38,
    "start_time": "2023-11-09T12:06:54.436Z"
   },
   {
    "duration": 26,
    "start_time": "2023-11-09T12:06:54.477Z"
   },
   {
    "duration": 21,
    "start_time": "2023-11-09T12:06:54.505Z"
   },
   {
    "duration": 42,
    "start_time": "2023-11-09T12:06:54.528Z"
   },
   {
    "duration": 20,
    "start_time": "2023-11-09T12:06:54.573Z"
   },
   {
    "duration": 39,
    "start_time": "2023-11-09T12:06:54.595Z"
   },
   {
    "duration": 203,
    "start_time": "2023-11-09T12:06:54.637Z"
   },
   {
    "duration": 9,
    "start_time": "2023-11-09T12:06:54.842Z"
   },
   {
    "duration": 15,
    "start_time": "2023-11-09T12:06:54.856Z"
   },
   {
    "duration": 29,
    "start_time": "2023-11-09T12:06:54.872Z"
   },
   {
    "duration": 31,
    "start_time": "2023-11-09T12:06:54.902Z"
   },
   {
    "duration": 21,
    "start_time": "2023-11-09T12:06:54.934Z"
   },
   {
    "duration": 30,
    "start_time": "2023-11-09T12:06:54.958Z"
   },
   {
    "duration": 18,
    "start_time": "2023-11-09T12:06:54.990Z"
   },
   {
    "duration": 26,
    "start_time": "2023-11-09T12:06:55.009Z"
   },
   {
    "duration": 24,
    "start_time": "2023-11-09T12:06:55.037Z"
   },
   {
    "duration": 26,
    "start_time": "2023-11-09T12:06:55.063Z"
   },
   {
    "duration": 36,
    "start_time": "2023-11-09T12:06:55.091Z"
   },
   {
    "duration": 24,
    "start_time": "2023-11-09T12:06:55.128Z"
   },
   {
    "duration": 29,
    "start_time": "2023-11-09T12:06:55.154Z"
   },
   {
    "duration": 42,
    "start_time": "2023-11-09T12:06:55.184Z"
   },
   {
    "duration": 34,
    "start_time": "2023-11-09T12:06:55.229Z"
   },
   {
    "duration": 33,
    "start_time": "2023-11-09T12:06:55.265Z"
   },
   {
    "duration": 48,
    "start_time": "2023-11-09T12:06:55.300Z"
   },
   {
    "duration": 57,
    "start_time": "2023-11-09T12:06:55.349Z"
   },
   {
    "duration": 27,
    "start_time": "2023-11-09T12:06:55.408Z"
   },
   {
    "duration": 46,
    "start_time": "2023-11-09T12:06:55.437Z"
   },
   {
    "duration": 22,
    "start_time": "2023-11-09T12:06:55.486Z"
   },
   {
    "duration": 37,
    "start_time": "2023-11-09T12:06:55.510Z"
   },
   {
    "duration": 15,
    "start_time": "2023-11-09T12:06:55.549Z"
   },
   {
    "duration": 171,
    "start_time": "2023-11-09T12:06:55.566Z"
   },
   {
    "duration": 120,
    "start_time": "2023-11-09T12:06:55.738Z"
   },
   {
    "duration": 37,
    "start_time": "2023-11-09T12:06:55.860Z"
   },
   {
    "duration": 13,
    "start_time": "2023-11-09T12:06:55.899Z"
   },
   {
    "duration": 47,
    "start_time": "2023-11-09T12:06:55.913Z"
   },
   {
    "duration": 425,
    "start_time": "2023-11-09T12:06:55.962Z"
   },
   {
    "duration": 12,
    "start_time": "2023-11-09T12:06:56.389Z"
   },
   {
    "duration": 361,
    "start_time": "2023-11-09T12:06:56.403Z"
   },
   {
    "duration": 13,
    "start_time": "2023-11-09T12:06:56.765Z"
   },
   {
    "duration": 377,
    "start_time": "2023-11-09T12:06:56.780Z"
   },
   {
    "duration": 10,
    "start_time": "2023-11-09T12:06:57.159Z"
   },
   {
    "duration": 15,
    "start_time": "2023-11-09T12:06:57.171Z"
   },
   {
    "duration": 30,
    "start_time": "2023-11-09T12:06:57.187Z"
   },
   {
    "duration": 368,
    "start_time": "2023-11-09T12:06:57.219Z"
   },
   {
    "duration": 14,
    "start_time": "2023-11-09T12:06:57.589Z"
   },
   {
    "duration": 390,
    "start_time": "2023-11-09T12:06:57.615Z"
   },
   {
    "duration": 17,
    "start_time": "2023-11-09T12:06:58.006Z"
   },
   {
    "duration": 269,
    "start_time": "2023-11-09T12:06:58.024Z"
   },
   {
    "duration": 5,
    "start_time": "2023-11-09T12:06:58.295Z"
   },
   {
    "duration": 210,
    "start_time": "2023-11-09T12:06:58.316Z"
   },
   {
    "duration": 4,
    "start_time": "2023-11-09T12:06:58.529Z"
   },
   {
    "duration": 51,
    "start_time": "2023-11-09T12:06:58.535Z"
   },
   {
    "duration": 64,
    "start_time": "2023-11-09T12:06:58.588Z"
   },
   {
    "duration": 70,
    "start_time": "2023-11-09T12:06:58.654Z"
   },
   {
    "duration": 63,
    "start_time": "2023-11-09T12:06:58.726Z"
   },
   {
    "duration": 51,
    "start_time": "2023-11-09T12:06:58.791Z"
   },
   {
    "duration": 144,
    "start_time": "2023-11-09T12:06:58.844Z"
   },
   {
    "duration": 7,
    "start_time": "2023-11-09T12:06:58.990Z"
   },
   {
    "duration": 35,
    "start_time": "2023-11-09T12:06:58.999Z"
   },
   {
    "duration": 17,
    "start_time": "2023-11-09T12:06:59.037Z"
   },
   {
    "duration": 12,
    "start_time": "2023-11-09T12:06:59.056Z"
   },
   {
    "duration": 15,
    "start_time": "2023-11-09T12:06:59.070Z"
   },
   {
    "duration": 27,
    "start_time": "2023-11-09T12:06:59.114Z"
   },
   {
    "duration": 16,
    "start_time": "2023-11-09T12:06:59.143Z"
   },
   {
    "duration": 25,
    "start_time": "2023-11-09T12:06:59.161Z"
   },
   {
    "duration": 1173,
    "start_time": "2023-11-09T12:07:15.659Z"
   },
   {
    "duration": 80,
    "start_time": "2023-11-09T12:07:16.835Z"
   },
   {
    "duration": 20,
    "start_time": "2023-11-09T12:07:16.917Z"
   },
   {
    "duration": 20,
    "start_time": "2023-11-09T12:07:16.939Z"
   },
   {
    "duration": 18,
    "start_time": "2023-11-09T12:07:16.961Z"
   },
   {
    "duration": 513,
    "start_time": "2023-11-09T12:07:16.981Z"
   },
   {
    "duration": 6,
    "start_time": "2023-11-09T12:07:17.496Z"
   },
   {
    "duration": 5,
    "start_time": "2023-11-09T12:07:17.513Z"
   },
   {
    "duration": 8,
    "start_time": "2023-11-09T12:07:17.520Z"
   },
   {
    "duration": 3,
    "start_time": "2023-11-09T12:07:17.531Z"
   },
   {
    "duration": 15,
    "start_time": "2023-11-09T12:07:17.536Z"
   },
   {
    "duration": 7,
    "start_time": "2023-11-09T12:07:17.553Z"
   },
   {
    "duration": 5,
    "start_time": "2023-11-09T12:07:17.562Z"
   },
   {
    "duration": 14,
    "start_time": "2023-11-09T12:07:17.569Z"
   },
   {
    "duration": 13,
    "start_time": "2023-11-09T12:07:17.585Z"
   },
   {
    "duration": 7,
    "start_time": "2023-11-09T12:07:17.613Z"
   },
   {
    "duration": 7,
    "start_time": "2023-11-09T12:07:17.622Z"
   },
   {
    "duration": 12,
    "start_time": "2023-11-09T12:07:17.630Z"
   },
   {
    "duration": 7,
    "start_time": "2023-11-09T12:07:17.644Z"
   },
   {
    "duration": 16,
    "start_time": "2023-11-09T12:07:17.653Z"
   },
   {
    "duration": 14,
    "start_time": "2023-11-09T12:07:17.671Z"
   },
   {
    "duration": 32,
    "start_time": "2023-11-09T12:07:17.687Z"
   },
   {
    "duration": 11,
    "start_time": "2023-11-09T12:07:17.720Z"
   },
   {
    "duration": 8,
    "start_time": "2023-11-09T12:07:17.733Z"
   },
   {
    "duration": 18,
    "start_time": "2023-11-09T12:07:17.743Z"
   },
   {
    "duration": 188,
    "start_time": "2023-11-09T12:07:17.763Z"
   },
   {
    "duration": 8,
    "start_time": "2023-11-09T12:07:17.953Z"
   },
   {
    "duration": 18,
    "start_time": "2023-11-09T12:07:17.965Z"
   },
   {
    "duration": 13,
    "start_time": "2023-11-09T12:07:17.984Z"
   },
   {
    "duration": 19,
    "start_time": "2023-11-09T12:07:17.998Z"
   },
   {
    "duration": 10,
    "start_time": "2023-11-09T12:07:18.019Z"
   },
   {
    "duration": 14,
    "start_time": "2023-11-09T12:07:18.031Z"
   },
   {
    "duration": 17,
    "start_time": "2023-11-09T12:07:18.046Z"
   },
   {
    "duration": 14,
    "start_time": "2023-11-09T12:07:18.065Z"
   },
   {
    "duration": 12,
    "start_time": "2023-11-09T12:07:18.080Z"
   },
   {
    "duration": 29,
    "start_time": "2023-11-09T12:07:18.093Z"
   },
   {
    "duration": 9,
    "start_time": "2023-11-09T12:07:18.124Z"
   },
   {
    "duration": 11,
    "start_time": "2023-11-09T12:07:18.134Z"
   },
   {
    "duration": 11,
    "start_time": "2023-11-09T12:07:18.146Z"
   },
   {
    "duration": 6,
    "start_time": "2023-11-09T12:07:18.158Z"
   },
   {
    "duration": 49,
    "start_time": "2023-11-09T12:07:18.165Z"
   },
   {
    "duration": 5,
    "start_time": "2023-11-09T12:07:18.218Z"
   },
   {
    "duration": 15,
    "start_time": "2023-11-09T12:07:18.225Z"
   },
   {
    "duration": 6,
    "start_time": "2023-11-09T12:07:18.243Z"
   },
   {
    "duration": 15,
    "start_time": "2023-11-09T12:07:18.251Z"
   },
   {
    "duration": 46,
    "start_time": "2023-11-09T12:07:18.268Z"
   },
   {
    "duration": 12,
    "start_time": "2023-11-09T12:07:18.316Z"
   },
   {
    "duration": 25,
    "start_time": "2023-11-09T12:07:18.330Z"
   },
   {
    "duration": 12,
    "start_time": "2023-11-09T12:07:18.357Z"
   },
   {
    "duration": 215,
    "start_time": "2023-11-09T12:07:18.371Z"
   },
   {
    "duration": 128,
    "start_time": "2023-11-09T12:07:18.588Z"
   },
   {
    "duration": 12,
    "start_time": "2023-11-09T12:07:18.718Z"
   },
   {
    "duration": 30,
    "start_time": "2023-11-09T12:07:18.731Z"
   },
   {
    "duration": 19,
    "start_time": "2023-11-09T12:07:18.762Z"
   },
   {
    "duration": 393,
    "start_time": "2023-11-09T12:07:18.782Z"
   },
   {
    "duration": 11,
    "start_time": "2023-11-09T12:07:19.176Z"
   },
   {
    "duration": 344,
    "start_time": "2023-11-09T12:07:19.188Z"
   },
   {
    "duration": 12,
    "start_time": "2023-11-09T12:07:19.534Z"
   },
   {
    "duration": 370,
    "start_time": "2023-11-09T12:07:19.548Z"
   },
   {
    "duration": 11,
    "start_time": "2023-11-09T12:07:19.920Z"
   },
   {
    "duration": 16,
    "start_time": "2023-11-09T12:07:19.932Z"
   },
   {
    "duration": 20,
    "start_time": "2023-11-09T12:07:19.949Z"
   },
   {
    "duration": 357,
    "start_time": "2023-11-09T12:07:19.970Z"
   },
   {
    "duration": 14,
    "start_time": "2023-11-09T12:07:20.328Z"
   },
   {
    "duration": 385,
    "start_time": "2023-11-09T12:07:20.343Z"
   },
   {
    "duration": 13,
    "start_time": "2023-11-09T12:07:20.729Z"
   },
   {
    "duration": 262,
    "start_time": "2023-11-09T12:07:20.745Z"
   },
   {
    "duration": 5,
    "start_time": "2023-11-09T12:07:21.014Z"
   },
   {
    "duration": 198,
    "start_time": "2023-11-09T12:07:21.021Z"
   },
   {
    "duration": 5,
    "start_time": "2023-11-09T12:07:21.221Z"
   },
   {
    "duration": 77,
    "start_time": "2023-11-09T12:07:21.227Z"
   },
   {
    "duration": 60,
    "start_time": "2023-11-09T12:07:21.305Z"
   },
   {
    "duration": 96,
    "start_time": "2023-11-09T12:07:21.367Z"
   },
   {
    "duration": 84,
    "start_time": "2023-11-09T12:07:21.465Z"
   },
   {
    "duration": 61,
    "start_time": "2023-11-09T12:07:21.552Z"
   },
   {
    "duration": 130,
    "start_time": "2023-11-09T12:07:21.615Z"
   },
   {
    "duration": 11,
    "start_time": "2023-11-09T12:07:21.747Z"
   },
   {
    "duration": 41,
    "start_time": "2023-11-09T12:07:21.760Z"
   },
   {
    "duration": 21,
    "start_time": "2023-11-09T12:07:21.803Z"
   },
   {
    "duration": 23,
    "start_time": "2023-11-09T12:07:21.826Z"
   },
   {
    "duration": 44,
    "start_time": "2023-11-09T12:07:21.851Z"
   },
   {
    "duration": 46,
    "start_time": "2023-11-09T12:07:21.901Z"
   },
   {
    "duration": 43,
    "start_time": "2023-11-09T12:07:21.949Z"
   },
   {
    "duration": 49,
    "start_time": "2023-11-09T12:07:21.993Z"
   },
   {
    "duration": 132,
    "start_time": "2023-11-09T13:16:43.007Z"
   },
   {
    "duration": 180,
    "start_time": "2023-11-09T13:28:03.015Z"
   },
   {
    "duration": 83,
    "start_time": "2023-11-09T13:28:44.478Z"
   },
   {
    "duration": 93,
    "start_time": "2023-11-09T13:28:53.878Z"
   },
   {
    "duration": 45,
    "start_time": "2023-11-09T13:29:36.965Z"
   },
   {
    "duration": 92,
    "start_time": "2023-11-09T13:31:01.979Z"
   },
   {
    "duration": 7,
    "start_time": "2023-11-09T13:31:33.928Z"
   },
   {
    "duration": 6,
    "start_time": "2023-11-09T13:33:05.176Z"
   },
   {
    "duration": 7,
    "start_time": "2023-11-09T13:33:21.079Z"
   },
   {
    "duration": 1405,
    "start_time": "2023-11-09T13:33:26.745Z"
   },
   {
    "duration": 197,
    "start_time": "2023-11-09T13:33:28.461Z"
   },
   {
    "duration": 64,
    "start_time": "2023-11-09T13:33:31.679Z"
   },
   {
    "duration": 9,
    "start_time": "2023-11-09T13:33:49.229Z"
   },
   {
    "duration": 520,
    "start_time": "2023-11-09T13:42:34.982Z"
   },
   {
    "duration": 464,
    "start_time": "2023-11-09T13:42:53.472Z"
   },
   {
    "duration": 475,
    "start_time": "2023-11-09T13:42:57.713Z"
   },
   {
    "duration": 470,
    "start_time": "2023-11-09T13:43:11.115Z"
   },
   {
    "duration": 526,
    "start_time": "2023-11-09T13:43:21.777Z"
   },
   {
    "duration": 4,
    "start_time": "2023-11-09T13:44:26.065Z"
   },
   {
    "duration": 11,
    "start_time": "2023-11-09T13:45:17.085Z"
   },
   {
    "duration": 11,
    "start_time": "2023-11-09T13:45:39.914Z"
   },
   {
    "duration": 4,
    "start_time": "2023-11-09T13:45:49.080Z"
   },
   {
    "duration": 11,
    "start_time": "2023-11-09T13:47:27.856Z"
   },
   {
    "duration": 1169,
    "start_time": "2023-11-09T13:47:37.513Z"
   },
   {
    "duration": 79,
    "start_time": "2023-11-09T13:47:38.684Z"
   },
   {
    "duration": 20,
    "start_time": "2023-11-09T13:47:38.764Z"
   },
   {
    "duration": 19,
    "start_time": "2023-11-09T13:47:38.786Z"
   },
   {
    "duration": 26,
    "start_time": "2023-11-09T13:47:38.806Z"
   },
   {
    "duration": 527,
    "start_time": "2023-11-09T13:47:38.833Z"
   },
   {
    "duration": 6,
    "start_time": "2023-11-09T13:47:39.362Z"
   },
   {
    "duration": 18,
    "start_time": "2023-11-09T13:47:39.370Z"
   },
   {
    "duration": 20,
    "start_time": "2023-11-09T13:47:39.390Z"
   },
   {
    "duration": 16,
    "start_time": "2023-11-09T13:47:39.414Z"
   },
   {
    "duration": 28,
    "start_time": "2023-11-09T13:47:39.431Z"
   },
   {
    "duration": 17,
    "start_time": "2023-11-09T13:47:39.461Z"
   },
   {
    "duration": 20,
    "start_time": "2023-11-09T13:47:39.479Z"
   },
   {
    "duration": 25,
    "start_time": "2023-11-09T13:47:39.500Z"
   },
   {
    "duration": 17,
    "start_time": "2023-11-09T13:47:39.526Z"
   },
   {
    "duration": 21,
    "start_time": "2023-11-09T13:47:39.545Z"
   },
   {
    "duration": 23,
    "start_time": "2023-11-09T13:47:39.567Z"
   },
   {
    "duration": 19,
    "start_time": "2023-11-09T13:47:39.591Z"
   },
   {
    "duration": 28,
    "start_time": "2023-11-09T13:47:39.612Z"
   },
   {
    "duration": 14,
    "start_time": "2023-11-09T13:47:39.642Z"
   },
   {
    "duration": 26,
    "start_time": "2023-11-09T13:47:39.658Z"
   },
   {
    "duration": 24,
    "start_time": "2023-11-09T13:47:39.686Z"
   },
   {
    "duration": 30,
    "start_time": "2023-11-09T13:47:39.711Z"
   },
   {
    "duration": 21,
    "start_time": "2023-11-09T13:47:39.743Z"
   },
   {
    "duration": 12,
    "start_time": "2023-11-09T13:47:39.766Z"
   },
   {
    "duration": 35,
    "start_time": "2023-11-09T13:47:39.780Z"
   },
   {
    "duration": 185,
    "start_time": "2023-11-09T13:47:39.817Z"
   },
   {
    "duration": 10,
    "start_time": "2023-11-09T13:47:40.006Z"
   },
   {
    "duration": 48,
    "start_time": "2023-11-09T13:47:40.024Z"
   },
   {
    "duration": 18,
    "start_time": "2023-11-09T13:47:40.074Z"
   },
   {
    "duration": 31,
    "start_time": "2023-11-09T13:47:40.094Z"
   },
   {
    "duration": 34,
    "start_time": "2023-11-09T13:47:40.126Z"
   },
   {
    "duration": 22,
    "start_time": "2023-11-09T13:47:40.161Z"
   },
   {
    "duration": 24,
    "start_time": "2023-11-09T13:47:40.185Z"
   },
   {
    "duration": 23,
    "start_time": "2023-11-09T13:47:40.211Z"
   },
   {
    "duration": 26,
    "start_time": "2023-11-09T13:47:40.235Z"
   },
   {
    "duration": 23,
    "start_time": "2023-11-09T13:47:40.263Z"
   },
   {
    "duration": 19,
    "start_time": "2023-11-09T13:47:40.288Z"
   },
   {
    "duration": 41,
    "start_time": "2023-11-09T13:47:40.309Z"
   },
   {
    "duration": 40,
    "start_time": "2023-11-09T13:47:40.352Z"
   },
   {
    "duration": 25,
    "start_time": "2023-11-09T13:47:40.393Z"
   },
   {
    "duration": 41,
    "start_time": "2023-11-09T13:47:40.420Z"
   },
   {
    "duration": 10,
    "start_time": "2023-11-09T13:47:40.462Z"
   },
   {
    "duration": 23,
    "start_time": "2023-11-09T13:47:40.474Z"
   },
   {
    "duration": 41,
    "start_time": "2023-11-09T13:47:40.499Z"
   },
   {
    "duration": 36,
    "start_time": "2023-11-09T13:47:40.542Z"
   },
   {
    "duration": 34,
    "start_time": "2023-11-09T13:47:40.580Z"
   },
   {
    "duration": 33,
    "start_time": "2023-11-09T13:47:40.615Z"
   },
   {
    "duration": 27,
    "start_time": "2023-11-09T13:47:40.650Z"
   },
   {
    "duration": 14,
    "start_time": "2023-11-09T13:47:40.679Z"
   },
   {
    "duration": 181,
    "start_time": "2023-11-09T13:47:40.695Z"
   },
   {
    "duration": 147,
    "start_time": "2023-11-09T13:47:40.878Z"
   },
   {
    "duration": 34,
    "start_time": "2023-11-09T13:47:41.027Z"
   },
   {
    "duration": 23,
    "start_time": "2023-11-09T13:47:41.062Z"
   },
   {
    "duration": 28,
    "start_time": "2023-11-09T13:47:41.086Z"
   },
   {
    "duration": 403,
    "start_time": "2023-11-09T13:47:41.116Z"
   },
   {
    "duration": 13,
    "start_time": "2023-11-09T13:47:41.524Z"
   },
   {
    "duration": 341,
    "start_time": "2023-11-09T13:47:41.538Z"
   },
   {
    "duration": 13,
    "start_time": "2023-11-09T13:47:41.881Z"
   },
   {
    "duration": 376,
    "start_time": "2023-11-09T13:47:41.895Z"
   },
   {
    "duration": 10,
    "start_time": "2023-11-09T13:47:42.274Z"
   },
   {
    "duration": 22,
    "start_time": "2023-11-09T13:47:42.286Z"
   },
   {
    "duration": 20,
    "start_time": "2023-11-09T13:47:42.310Z"
   },
   {
    "duration": 349,
    "start_time": "2023-11-09T13:47:42.332Z"
   },
   {
    "duration": 15,
    "start_time": "2023-11-09T13:47:42.683Z"
   },
   {
    "duration": 384,
    "start_time": "2023-11-09T13:47:42.699Z"
   },
   {
    "duration": 11,
    "start_time": "2023-11-09T13:47:43.085Z"
   },
   {
    "duration": 280,
    "start_time": "2023-11-09T13:47:43.098Z"
   },
   {
    "duration": 4,
    "start_time": "2023-11-09T13:47:43.380Z"
   },
   {
    "duration": 166,
    "start_time": "2023-11-09T13:47:43.386Z"
   },
   {
    "duration": 4,
    "start_time": "2023-11-09T13:47:43.554Z"
   },
   {
    "duration": 50,
    "start_time": "2023-11-09T13:47:43.560Z"
   },
   {
    "duration": 68,
    "start_time": "2023-11-09T13:47:43.612Z"
   },
   {
    "duration": 56,
    "start_time": "2023-11-09T13:47:43.682Z"
   },
   {
    "duration": 58,
    "start_time": "2023-11-09T13:47:43.740Z"
   },
   {
    "duration": 56,
    "start_time": "2023-11-09T13:47:43.800Z"
   },
   {
    "duration": 137,
    "start_time": "2023-11-09T13:47:43.858Z"
   },
   {
    "duration": 8,
    "start_time": "2023-11-09T13:47:43.998Z"
   },
   {
    "duration": 45,
    "start_time": "2023-11-09T13:47:44.007Z"
   },
   {
    "duration": 17,
    "start_time": "2023-11-09T13:47:44.054Z"
   },
   {
    "duration": 15,
    "start_time": "2023-11-09T13:47:44.072Z"
   },
   {
    "duration": 32,
    "start_time": "2023-11-09T13:47:44.092Z"
   },
   {
    "duration": 26,
    "start_time": "2023-11-09T13:47:44.126Z"
   },
   {
    "duration": 17,
    "start_time": "2023-11-09T13:47:44.154Z"
   },
   {
    "duration": 19,
    "start_time": "2023-11-09T13:47:44.173Z"
   },
   {
    "duration": 18,
    "start_time": "2023-11-09T13:47:58.822Z"
   },
   {
    "duration": 469,
    "start_time": "2023-11-09T13:48:39.773Z"
   },
   {
    "duration": 249,
    "start_time": "2023-11-09T13:49:11.624Z"
   },
   {
    "duration": 422,
    "start_time": "2023-11-09T13:49:21.904Z"
   },
   {
    "duration": 453,
    "start_time": "2023-11-09T13:50:10.771Z"
   },
   {
    "duration": 546,
    "start_time": "2023-11-09T13:50:22.170Z"
   },
   {
    "duration": 471,
    "start_time": "2023-11-09T13:50:36.337Z"
   },
   {
    "duration": 473,
    "start_time": "2023-11-09T13:50:41.287Z"
   },
   {
    "duration": 500,
    "start_time": "2023-11-09T13:51:18.437Z"
   },
   {
    "duration": 4,
    "start_time": "2023-11-09T13:53:27.254Z"
   },
   {
    "duration": 437,
    "start_time": "2023-11-09T13:53:32.188Z"
   },
   {
    "duration": 115,
    "start_time": "2023-11-09T14:05:06.979Z"
   },
   {
    "duration": 76,
    "start_time": "2023-11-09T14:09:01.331Z"
   },
   {
    "duration": 4,
    "start_time": "2023-11-09T14:09:52.097Z"
   },
   {
    "duration": 4,
    "start_time": "2023-11-09T14:10:02.264Z"
   },
   {
    "duration": 4,
    "start_time": "2023-11-09T14:10:17.878Z"
   },
   {
    "duration": 4,
    "start_time": "2023-11-09T14:10:26.814Z"
   },
   {
    "duration": 4,
    "start_time": "2023-11-09T14:10:40.378Z"
   },
   {
    "duration": 4,
    "start_time": "2023-11-09T14:11:06.298Z"
   },
   {
    "duration": 8,
    "start_time": "2023-11-09T14:11:22.447Z"
   },
   {
    "duration": 11,
    "start_time": "2023-11-09T14:11:40.013Z"
   },
   {
    "duration": 9,
    "start_time": "2023-11-09T14:12:13.898Z"
   },
   {
    "duration": 11,
    "start_time": "2023-11-09T14:12:19.430Z"
   },
   {
    "duration": 11,
    "start_time": "2023-11-09T14:13:59.397Z"
   },
   {
    "duration": 11,
    "start_time": "2023-11-09T14:14:22.130Z"
   },
   {
    "duration": 11,
    "start_time": "2023-11-09T14:14:31.067Z"
   },
   {
    "duration": 11,
    "start_time": "2023-11-09T14:14:34.181Z"
   },
   {
    "duration": 11,
    "start_time": "2023-11-09T14:14:46.465Z"
   },
   {
    "duration": 12,
    "start_time": "2023-11-09T14:14:58.501Z"
   },
   {
    "duration": 85,
    "start_time": "2023-11-09T14:15:46.598Z"
   },
   {
    "duration": 88,
    "start_time": "2023-11-09T14:27:14.711Z"
   },
   {
    "duration": 1236,
    "start_time": "2023-11-09T14:27:38.249Z"
   },
   {
    "duration": 83,
    "start_time": "2023-11-09T14:27:39.486Z"
   },
   {
    "duration": 26,
    "start_time": "2023-11-09T14:27:39.570Z"
   },
   {
    "duration": 20,
    "start_time": "2023-11-09T14:27:39.598Z"
   },
   {
    "duration": 54,
    "start_time": "2023-11-09T14:27:39.619Z"
   },
   {
    "duration": 465,
    "start_time": "2023-11-09T14:27:39.675Z"
   },
   {
    "duration": 6,
    "start_time": "2023-11-09T14:27:40.142Z"
   },
   {
    "duration": 94,
    "start_time": "2023-11-09T14:27:40.149Z"
   },
   {
    "duration": 29,
    "start_time": "2023-11-09T14:27:40.245Z"
   },
   {
    "duration": 30,
    "start_time": "2023-11-09T14:27:40.277Z"
   },
   {
    "duration": 87,
    "start_time": "2023-11-09T14:27:40.309Z"
   },
   {
    "duration": 16,
    "start_time": "2023-11-09T14:27:40.398Z"
   },
   {
    "duration": 41,
    "start_time": "2023-11-09T14:27:40.416Z"
   },
   {
    "duration": 42,
    "start_time": "2023-11-09T14:27:40.460Z"
   },
   {
    "duration": 43,
    "start_time": "2023-11-09T14:27:40.504Z"
   },
   {
    "duration": 46,
    "start_time": "2023-11-09T14:27:40.549Z"
   },
   {
    "duration": 54,
    "start_time": "2023-11-09T14:27:40.597Z"
   },
   {
    "duration": 67,
    "start_time": "2023-11-09T14:27:40.653Z"
   },
   {
    "duration": 55,
    "start_time": "2023-11-09T14:27:40.721Z"
   },
   {
    "duration": 19,
    "start_time": "2023-11-09T14:27:40.779Z"
   },
   {
    "duration": 24,
    "start_time": "2023-11-09T14:27:40.800Z"
   },
   {
    "duration": 17,
    "start_time": "2023-11-09T14:27:40.826Z"
   },
   {
    "duration": 31,
    "start_time": "2023-11-09T14:27:40.845Z"
   },
   {
    "duration": 19,
    "start_time": "2023-11-09T14:27:40.878Z"
   },
   {
    "duration": 15,
    "start_time": "2023-11-09T14:27:40.899Z"
   },
   {
    "duration": 30,
    "start_time": "2023-11-09T14:27:40.916Z"
   },
   {
    "duration": 195,
    "start_time": "2023-11-09T14:27:40.947Z"
   },
   {
    "duration": 11,
    "start_time": "2023-11-09T14:27:41.147Z"
   },
   {
    "duration": 132,
    "start_time": "2023-11-09T14:27:41.159Z"
   },
   {
    "duration": 97,
    "start_time": "2023-11-09T14:27:41.293Z"
   },
   {
    "duration": 19,
    "start_time": "2023-11-09T14:27:41.392Z"
   },
   {
    "duration": 62,
    "start_time": "2023-11-09T14:27:41.412Z"
   },
   {
    "duration": 59,
    "start_time": "2023-11-09T14:27:41.475Z"
   },
   {
    "duration": 33,
    "start_time": "2023-11-09T14:27:41.536Z"
   },
   {
    "duration": 84,
    "start_time": "2023-11-09T14:27:41.570Z"
   },
   {
    "duration": 35,
    "start_time": "2023-11-09T14:27:41.656Z"
   },
   {
    "duration": 51,
    "start_time": "2023-11-09T14:27:41.693Z"
   },
   {
    "duration": 50,
    "start_time": "2023-11-09T14:27:41.746Z"
   },
   {
    "duration": 48,
    "start_time": "2023-11-09T14:27:41.797Z"
   },
   {
    "duration": 39,
    "start_time": "2023-11-09T14:27:41.847Z"
   },
   {
    "duration": 16,
    "start_time": "2023-11-09T14:27:41.888Z"
   },
   {
    "duration": 15,
    "start_time": "2023-11-09T14:27:41.906Z"
   },
   {
    "duration": 31,
    "start_time": "2023-11-09T14:27:41.922Z"
   },
   {
    "duration": 26,
    "start_time": "2023-11-09T14:27:41.955Z"
   },
   {
    "duration": 14,
    "start_time": "2023-11-09T14:27:41.983Z"
   },
   {
    "duration": 35,
    "start_time": "2023-11-09T14:27:41.998Z"
   },
   {
    "duration": 29,
    "start_time": "2023-11-09T14:27:42.035Z"
   },
   {
    "duration": 49,
    "start_time": "2023-11-09T14:27:42.066Z"
   },
   {
    "duration": 28,
    "start_time": "2023-11-09T14:27:42.117Z"
   },
   {
    "duration": 19,
    "start_time": "2023-11-09T14:27:42.147Z"
   },
   {
    "duration": 169,
    "start_time": "2023-11-09T14:27:42.168Z"
   },
   {
    "duration": 134,
    "start_time": "2023-11-09T14:27:42.339Z"
   },
   {
    "duration": 13,
    "start_time": "2023-11-09T14:27:42.474Z"
   },
   {
    "duration": 41,
    "start_time": "2023-11-09T14:27:42.488Z"
   },
   {
    "duration": 59,
    "start_time": "2023-11-09T14:27:42.531Z"
   },
   {
    "duration": 386,
    "start_time": "2023-11-09T14:27:42.592Z"
   },
   {
    "duration": 14,
    "start_time": "2023-11-09T14:27:42.979Z"
   },
   {
    "duration": 304,
    "start_time": "2023-11-09T14:27:42.994Z"
   },
   {
    "duration": 23,
    "start_time": "2023-11-09T14:27:43.301Z"
   },
   {
    "duration": 302,
    "start_time": "2023-11-09T14:27:43.326Z"
   },
   {
    "duration": 11,
    "start_time": "2023-11-09T14:27:43.631Z"
   },
   {
    "duration": 112,
    "start_time": "2023-11-09T14:27:43.644Z"
   },
   {
    "duration": 32,
    "start_time": "2023-11-09T14:27:43.758Z"
   },
   {
    "duration": 249,
    "start_time": "2023-11-09T14:27:43.791Z"
   },
   {
    "duration": 14,
    "start_time": "2023-11-09T14:27:44.042Z"
   },
   {
    "duration": 369,
    "start_time": "2023-11-09T14:27:44.058Z"
   },
   {
    "duration": 11,
    "start_time": "2023-11-09T14:27:44.430Z"
   },
   {
    "duration": 253,
    "start_time": "2023-11-09T14:27:44.443Z"
   },
   {
    "duration": 6,
    "start_time": "2023-11-09T14:27:44.698Z"
   },
   {
    "duration": 213,
    "start_time": "2023-11-09T14:27:44.706Z"
   },
   {
    "duration": 5,
    "start_time": "2023-11-09T14:27:44.920Z"
   },
   {
    "duration": 79,
    "start_time": "2023-11-09T14:27:44.926Z"
   },
   {
    "duration": 176,
    "start_time": "2023-11-09T14:27:45.007Z"
   },
   {
    "duration": 183,
    "start_time": "2023-11-09T14:27:45.185Z"
   },
   {
    "duration": 481,
    "start_time": "2023-11-09T14:27:45.370Z"
   },
   {
    "duration": 334,
    "start_time": "2023-11-09T14:27:45.853Z"
   },
   {
    "duration": 366,
    "start_time": "2023-11-09T14:27:46.189Z"
   },
   {
    "duration": 7,
    "start_time": "2023-11-09T14:27:46.557Z"
   },
   {
    "duration": 38,
    "start_time": "2023-11-09T14:27:46.565Z"
   },
   {
    "duration": 20,
    "start_time": "2023-11-09T14:27:46.605Z"
   },
   {
    "duration": 13,
    "start_time": "2023-11-09T14:27:46.626Z"
   },
   {
    "duration": 9,
    "start_time": "2023-11-09T14:27:46.644Z"
   },
   {
    "duration": 25,
    "start_time": "2023-11-09T14:27:46.654Z"
   },
   {
    "duration": 44,
    "start_time": "2023-11-09T14:27:46.681Z"
   },
   {
    "duration": 10,
    "start_time": "2023-11-09T14:27:46.727Z"
   },
   {
    "duration": 114,
    "start_time": "2023-11-09T14:33:43.093Z"
   },
   {
    "duration": 267,
    "start_time": "2023-11-09T14:36:23.744Z"
   },
   {
    "duration": 82,
    "start_time": "2023-11-09T14:37:15.542Z"
   },
   {
    "duration": 86,
    "start_time": "2023-11-09T14:42:24.045Z"
   },
   {
    "duration": 335,
    "start_time": "2023-11-09T14:44:13.215Z"
   },
   {
    "duration": 81,
    "start_time": "2023-11-09T14:51:45.547Z"
   },
   {
    "duration": 81,
    "start_time": "2023-11-09T14:52:55.530Z"
   },
   {
    "duration": 127,
    "start_time": "2023-11-09T15:01:21.667Z"
   },
   {
    "duration": 5,
    "start_time": "2023-11-09T15:01:38.916Z"
   },
   {
    "duration": 32,
    "start_time": "2023-11-09T15:01:53.760Z"
   },
   {
    "duration": 37,
    "start_time": "2023-11-09T15:03:18.407Z"
   },
   {
    "duration": 36,
    "start_time": "2023-11-09T15:05:47.199Z"
   },
   {
    "duration": 1389,
    "start_time": "2023-11-09T15:06:22.774Z"
   },
   {
    "duration": 80,
    "start_time": "2023-11-09T15:06:24.165Z"
   },
   {
    "duration": 22,
    "start_time": "2023-11-09T15:06:24.247Z"
   },
   {
    "duration": 26,
    "start_time": "2023-11-09T15:06:24.272Z"
   },
   {
    "duration": 45,
    "start_time": "2023-11-09T15:06:24.300Z"
   },
   {
    "duration": 596,
    "start_time": "2023-11-09T15:06:24.347Z"
   },
   {
    "duration": 12,
    "start_time": "2023-11-09T15:06:24.945Z"
   },
   {
    "duration": 28,
    "start_time": "2023-11-09T15:06:24.960Z"
   },
   {
    "duration": 5,
    "start_time": "2023-11-09T15:06:24.991Z"
   },
   {
    "duration": 8,
    "start_time": "2023-11-09T15:06:24.999Z"
   },
   {
    "duration": 10,
    "start_time": "2023-11-09T15:06:25.009Z"
   },
   {
    "duration": 7,
    "start_time": "2023-11-09T15:06:25.020Z"
   },
   {
    "duration": 13,
    "start_time": "2023-11-09T15:06:25.030Z"
   },
   {
    "duration": 22,
    "start_time": "2023-11-09T15:06:25.046Z"
   },
   {
    "duration": 23,
    "start_time": "2023-11-09T15:06:25.071Z"
   },
   {
    "duration": 8,
    "start_time": "2023-11-09T15:06:25.096Z"
   },
   {
    "duration": 10,
    "start_time": "2023-11-09T15:06:25.106Z"
   },
   {
    "duration": 30,
    "start_time": "2023-11-09T15:06:25.118Z"
   },
   {
    "duration": 10,
    "start_time": "2023-11-09T15:06:25.149Z"
   },
   {
    "duration": 5,
    "start_time": "2023-11-09T15:06:25.161Z"
   },
   {
    "duration": 15,
    "start_time": "2023-11-09T15:06:25.168Z"
   },
   {
    "duration": 8,
    "start_time": "2023-11-09T15:06:25.185Z"
   },
   {
    "duration": 34,
    "start_time": "2023-11-09T15:06:25.195Z"
   },
   {
    "duration": 14,
    "start_time": "2023-11-09T15:06:25.232Z"
   },
   {
    "duration": 17,
    "start_time": "2023-11-09T15:06:25.247Z"
   },
   {
    "duration": 24,
    "start_time": "2023-11-09T15:06:25.266Z"
   },
   {
    "duration": 207,
    "start_time": "2023-11-09T15:06:25.293Z"
   },
   {
    "duration": 20,
    "start_time": "2023-11-09T15:06:25.504Z"
   },
   {
    "duration": 12,
    "start_time": "2023-11-09T15:06:25.526Z"
   },
   {
    "duration": 42,
    "start_time": "2023-11-09T15:06:25.540Z"
   },
   {
    "duration": 15,
    "start_time": "2023-11-09T15:06:25.584Z"
   },
   {
    "duration": 18,
    "start_time": "2023-11-09T15:06:25.601Z"
   },
   {
    "duration": 18,
    "start_time": "2023-11-09T15:06:25.621Z"
   },
   {
    "duration": 17,
    "start_time": "2023-11-09T15:06:25.641Z"
   },
   {
    "duration": 16,
    "start_time": "2023-11-09T15:06:25.660Z"
   },
   {
    "duration": 19,
    "start_time": "2023-11-09T15:06:25.678Z"
   },
   {
    "duration": 12,
    "start_time": "2023-11-09T15:06:25.699Z"
   },
   {
    "duration": 33,
    "start_time": "2023-11-09T15:06:25.712Z"
   },
   {
    "duration": 22,
    "start_time": "2023-11-09T15:06:25.746Z"
   },
   {
    "duration": 16,
    "start_time": "2023-11-09T15:06:25.770Z"
   },
   {
    "duration": 5,
    "start_time": "2023-11-09T15:06:25.789Z"
   },
   {
    "duration": 31,
    "start_time": "2023-11-09T15:06:25.796Z"
   },
   {
    "duration": 27,
    "start_time": "2023-11-09T15:06:25.830Z"
   },
   {
    "duration": 14,
    "start_time": "2023-11-09T15:06:25.860Z"
   },
   {
    "duration": 10,
    "start_time": "2023-11-09T15:06:25.877Z"
   },
   {
    "duration": 20,
    "start_time": "2023-11-09T15:06:25.889Z"
   },
   {
    "duration": 30,
    "start_time": "2023-11-09T15:06:25.911Z"
   },
   {
    "duration": 36,
    "start_time": "2023-11-09T15:06:25.943Z"
   },
   {
    "duration": 24,
    "start_time": "2023-11-09T15:06:25.982Z"
   },
   {
    "duration": 15,
    "start_time": "2023-11-09T15:06:26.023Z"
   },
   {
    "duration": 199,
    "start_time": "2023-11-09T15:06:26.041Z"
   },
   {
    "duration": 224,
    "start_time": "2023-11-09T15:06:26.242Z"
   },
   {
    "duration": 18,
    "start_time": "2023-11-09T15:06:26.469Z"
   },
   {
    "duration": 10,
    "start_time": "2023-11-09T15:06:26.489Z"
   },
   {
    "duration": 34,
    "start_time": "2023-11-09T15:06:26.501Z"
   },
   {
    "duration": 372,
    "start_time": "2023-11-09T15:06:26.537Z"
   },
   {
    "duration": 27,
    "start_time": "2023-11-09T15:06:26.910Z"
   },
   {
    "duration": 272,
    "start_time": "2023-11-09T15:06:26.940Z"
   },
   {
    "duration": 17,
    "start_time": "2023-11-09T15:06:27.214Z"
   },
   {
    "duration": 349,
    "start_time": "2023-11-09T15:06:27.233Z"
   },
   {
    "duration": 13,
    "start_time": "2023-11-09T15:06:27.585Z"
   },
   {
    "duration": 37,
    "start_time": "2023-11-09T15:06:27.600Z"
   },
   {
    "duration": 23,
    "start_time": "2023-11-09T15:06:27.640Z"
   },
   {
    "duration": 275,
    "start_time": "2023-11-09T15:06:27.665Z"
   },
   {
    "duration": 18,
    "start_time": "2023-11-09T15:06:27.942Z"
   },
   {
    "duration": 397,
    "start_time": "2023-11-09T15:06:27.962Z"
   },
   {
    "duration": 13,
    "start_time": "2023-11-09T15:06:28.360Z"
   },
   {
    "duration": 291,
    "start_time": "2023-11-09T15:06:28.375Z"
   },
   {
    "duration": 5,
    "start_time": "2023-11-09T15:06:28.668Z"
   },
   {
    "duration": 173,
    "start_time": "2023-11-09T15:06:28.674Z"
   },
   {
    "duration": 5,
    "start_time": "2023-11-09T15:06:28.849Z"
   },
   {
    "duration": 87,
    "start_time": "2023-11-09T15:06:28.856Z"
   },
   {
    "duration": 57,
    "start_time": "2023-11-09T15:06:28.946Z"
   },
   {
    "duration": 82,
    "start_time": "2023-11-09T15:06:29.006Z"
   },
   {
    "duration": 96,
    "start_time": "2023-11-09T15:06:29.091Z"
   },
   {
    "duration": 50,
    "start_time": "2023-11-09T15:06:29.189Z"
   },
   {
    "duration": 200,
    "start_time": "2023-11-09T15:06:29.241Z"
   },
   {
    "duration": 9,
    "start_time": "2023-11-09T15:06:29.443Z"
   },
   {
    "duration": 30,
    "start_time": "2023-11-09T15:06:29.454Z"
   },
   {
    "duration": 41,
    "start_time": "2023-11-09T15:06:29.486Z"
   },
   {
    "duration": 158,
    "start_time": "2023-11-09T15:06:29.529Z"
   },
   {
    "duration": 0,
    "start_time": "2023-11-09T15:06:29.689Z"
   },
   {
    "duration": 0,
    "start_time": "2023-11-09T15:06:29.691Z"
   },
   {
    "duration": 0,
    "start_time": "2023-11-09T15:06:29.692Z"
   },
   {
    "duration": 0,
    "start_time": "2023-11-09T15:06:29.694Z"
   },
   {
    "duration": 32,
    "start_time": "2023-11-09T15:07:03.396Z"
   },
   {
    "duration": 4,
    "start_time": "2023-11-09T15:08:10.544Z"
   },
   {
    "duration": 34,
    "start_time": "2023-11-09T15:09:33.544Z"
   },
   {
    "duration": 80,
    "start_time": "2023-11-09T15:10:34.222Z"
   },
   {
    "duration": 5,
    "start_time": "2023-11-09T15:10:43.196Z"
   },
   {
    "duration": 6,
    "start_time": "2023-11-09T15:10:55.203Z"
   },
   {
    "duration": 32,
    "start_time": "2023-11-09T15:12:04.784Z"
   },
   {
    "duration": 15,
    "start_time": "2023-11-09T15:14:28.025Z"
   },
   {
    "duration": 31,
    "start_time": "2023-11-09T15:14:38.841Z"
   },
   {
    "duration": 12,
    "start_time": "2023-11-09T15:15:05.018Z"
   },
   {
    "duration": 97,
    "start_time": "2023-11-09T15:15:40.292Z"
   },
   {
    "duration": 1316,
    "start_time": "2023-11-09T15:21:06.913Z"
   },
   {
    "duration": 6,
    "start_time": "2023-11-09T15:21:16.790Z"
   },
   {
    "duration": 6,
    "start_time": "2023-11-09T15:21:40.124Z"
   },
   {
    "duration": 5,
    "start_time": "2023-11-09T15:21:49.691Z"
   },
   {
    "duration": 6,
    "start_time": "2023-11-09T15:22:01.288Z"
   },
   {
    "duration": 5,
    "start_time": "2023-11-09T15:22:46.572Z"
   },
   {
    "duration": 9,
    "start_time": "2023-11-09T15:23:49.824Z"
   },
   {
    "duration": 31,
    "start_time": "2023-11-09T15:23:51.971Z"
   },
   {
    "duration": 1257,
    "start_time": "2023-11-09T15:24:04.535Z"
   },
   {
    "duration": 84,
    "start_time": "2023-11-09T15:24:05.795Z"
   },
   {
    "duration": 28,
    "start_time": "2023-11-09T15:24:05.882Z"
   },
   {
    "duration": 27,
    "start_time": "2023-11-09T15:24:05.913Z"
   },
   {
    "duration": 27,
    "start_time": "2023-11-09T15:24:05.942Z"
   },
   {
    "duration": 501,
    "start_time": "2023-11-09T15:24:05.971Z"
   },
   {
    "duration": 6,
    "start_time": "2023-11-09T15:24:06.473Z"
   },
   {
    "duration": 5,
    "start_time": "2023-11-09T15:24:06.481Z"
   },
   {
    "duration": 5,
    "start_time": "2023-11-09T15:24:06.488Z"
   },
   {
    "duration": 4,
    "start_time": "2023-11-09T15:24:06.495Z"
   },
   {
    "duration": 5,
    "start_time": "2023-11-09T15:24:06.524Z"
   },
   {
    "duration": 23,
    "start_time": "2023-11-09T15:24:06.530Z"
   },
   {
    "duration": 11,
    "start_time": "2023-11-09T15:24:06.555Z"
   },
   {
    "duration": 10,
    "start_time": "2023-11-09T15:24:06.567Z"
   },
   {
    "duration": 8,
    "start_time": "2023-11-09T15:24:06.579Z"
   },
   {
    "duration": 7,
    "start_time": "2023-11-09T15:24:06.588Z"
   },
   {
    "duration": 8,
    "start_time": "2023-11-09T15:24:06.596Z"
   },
   {
    "duration": 25,
    "start_time": "2023-11-09T15:24:06.605Z"
   },
   {
    "duration": 7,
    "start_time": "2023-11-09T15:24:06.632Z"
   },
   {
    "duration": 17,
    "start_time": "2023-11-09T15:24:06.641Z"
   },
   {
    "duration": 32,
    "start_time": "2023-11-09T15:24:06.660Z"
   },
   {
    "duration": 6,
    "start_time": "2023-11-09T15:24:06.693Z"
   },
   {
    "duration": 29,
    "start_time": "2023-11-09T15:24:06.700Z"
   },
   {
    "duration": 11,
    "start_time": "2023-11-09T15:24:06.731Z"
   },
   {
    "duration": 9,
    "start_time": "2023-11-09T15:24:06.744Z"
   },
   {
    "duration": 15,
    "start_time": "2023-11-09T15:24:06.754Z"
   },
   {
    "duration": 214,
    "start_time": "2023-11-09T15:24:06.771Z"
   },
   {
    "duration": 9,
    "start_time": "2023-11-09T15:24:06.990Z"
   },
   {
    "duration": 25,
    "start_time": "2023-11-09T15:24:07.000Z"
   },
   {
    "duration": 26,
    "start_time": "2023-11-09T15:24:07.027Z"
   },
   {
    "duration": 19,
    "start_time": "2023-11-09T15:24:07.055Z"
   },
   {
    "duration": 9,
    "start_time": "2023-11-09T15:24:07.075Z"
   },
   {
    "duration": 7,
    "start_time": "2023-11-09T15:24:07.086Z"
   },
   {
    "duration": 15,
    "start_time": "2023-11-09T15:24:07.094Z"
   },
   {
    "duration": 16,
    "start_time": "2023-11-09T15:24:07.111Z"
   },
   {
    "duration": 11,
    "start_time": "2023-11-09T15:24:07.128Z"
   },
   {
    "duration": 10,
    "start_time": "2023-11-09T15:24:07.141Z"
   },
   {
    "duration": 13,
    "start_time": "2023-11-09T15:24:07.153Z"
   },
   {
    "duration": 58,
    "start_time": "2023-11-09T15:24:07.167Z"
   },
   {
    "duration": 10,
    "start_time": "2023-11-09T15:24:07.228Z"
   },
   {
    "duration": 4,
    "start_time": "2023-11-09T15:24:07.240Z"
   },
   {
    "duration": 22,
    "start_time": "2023-11-09T15:24:07.246Z"
   },
   {
    "duration": 5,
    "start_time": "2023-11-09T15:24:07.269Z"
   },
   {
    "duration": 16,
    "start_time": "2023-11-09T15:24:07.275Z"
   },
   {
    "duration": 6,
    "start_time": "2023-11-09T15:24:07.293Z"
   },
   {
    "duration": 11,
    "start_time": "2023-11-09T15:24:07.324Z"
   },
   {
    "duration": 13,
    "start_time": "2023-11-09T15:24:07.336Z"
   },
   {
    "duration": 21,
    "start_time": "2023-11-09T15:24:07.351Z"
   },
   {
    "duration": 24,
    "start_time": "2023-11-09T15:24:07.374Z"
   },
   {
    "duration": 27,
    "start_time": "2023-11-09T15:24:07.400Z"
   },
   {
    "duration": 200,
    "start_time": "2023-11-09T15:24:07.429Z"
   },
   {
    "duration": 139,
    "start_time": "2023-11-09T15:24:07.631Z"
   },
   {
    "duration": 15,
    "start_time": "2023-11-09T15:24:07.771Z"
   },
   {
    "duration": 11,
    "start_time": "2023-11-09T15:24:07.788Z"
   },
   {
    "duration": 30,
    "start_time": "2023-11-09T15:24:07.801Z"
   },
   {
    "duration": 329,
    "start_time": "2023-11-09T15:24:07.833Z"
   },
   {
    "duration": 13,
    "start_time": "2023-11-09T15:24:08.164Z"
   },
   {
    "duration": 268,
    "start_time": "2023-11-09T15:24:08.179Z"
   },
   {
    "duration": 13,
    "start_time": "2023-11-09T15:24:08.450Z"
   },
   {
    "duration": 392,
    "start_time": "2023-11-09T15:24:08.465Z"
   },
   {
    "duration": 12,
    "start_time": "2023-11-09T15:24:08.859Z"
   },
   {
    "duration": 39,
    "start_time": "2023-11-09T15:24:08.872Z"
   },
   {
    "duration": 35,
    "start_time": "2023-11-09T15:24:08.913Z"
   },
   {
    "duration": 382,
    "start_time": "2023-11-09T15:24:08.949Z"
   },
   {
    "duration": 19,
    "start_time": "2023-11-09T15:24:09.333Z"
   },
   {
    "duration": 472,
    "start_time": "2023-11-09T15:24:09.354Z"
   },
   {
    "duration": 11,
    "start_time": "2023-11-09T15:24:09.828Z"
   },
   {
    "duration": 260,
    "start_time": "2023-11-09T15:24:09.841Z"
   },
   {
    "duration": 5,
    "start_time": "2023-11-09T15:24:10.103Z"
   },
   {
    "duration": 164,
    "start_time": "2023-11-09T15:24:10.110Z"
   },
   {
    "duration": 5,
    "start_time": "2023-11-09T15:24:10.276Z"
   },
   {
    "duration": 65,
    "start_time": "2023-11-09T15:24:10.282Z"
   },
   {
    "duration": 50,
    "start_time": "2023-11-09T15:24:10.349Z"
   },
   {
    "duration": 74,
    "start_time": "2023-11-09T15:24:10.401Z"
   },
   {
    "duration": 77,
    "start_time": "2023-11-09T15:24:10.476Z"
   },
   {
    "duration": 29,
    "start_time": "2023-11-09T15:24:10.555Z"
   },
   {
    "duration": 142,
    "start_time": "2023-11-09T15:24:10.586Z"
   },
   {
    "duration": 7,
    "start_time": "2023-11-09T15:24:10.730Z"
   },
   {
    "duration": 32,
    "start_time": "2023-11-09T15:24:10.738Z"
   },
   {
    "duration": 17,
    "start_time": "2023-11-09T15:24:10.771Z"
   },
   {
    "duration": 36,
    "start_time": "2023-11-09T15:24:10.790Z"
   },
   {
    "duration": 10,
    "start_time": "2023-11-09T15:24:10.833Z"
   },
   {
    "duration": 12,
    "start_time": "2023-11-09T15:24:10.845Z"
   },
   {
    "duration": 41,
    "start_time": "2023-11-09T15:24:10.859Z"
   },
   {
    "duration": 32,
    "start_time": "2023-11-09T15:24:10.902Z"
   },
   {
    "duration": 11,
    "start_time": "2023-11-09T15:24:10.936Z"
   },
   {
    "duration": 45,
    "start_time": "2023-11-09T15:29:40.779Z"
   },
   {
    "duration": 29,
    "start_time": "2023-11-09T15:30:03.751Z"
   },
   {
    "duration": 27,
    "start_time": "2023-11-09T15:30:10.044Z"
   },
   {
    "duration": 5,
    "start_time": "2023-11-09T15:36:19.397Z"
   },
   {
    "duration": 30,
    "start_time": "2023-11-09T15:36:27.046Z"
   },
   {
    "duration": 551,
    "start_time": "2023-11-09T15:38:24.397Z"
   },
   {
    "duration": 549,
    "start_time": "2023-11-09T15:38:36.518Z"
   },
   {
    "duration": 92,
    "start_time": "2023-11-09T15:43:39.284Z"
   },
   {
    "duration": 16,
    "start_time": "2023-11-09T15:44:58.217Z"
   },
   {
    "duration": 1300,
    "start_time": "2023-11-09T15:45:06.724Z"
   },
   {
    "duration": 83,
    "start_time": "2023-11-09T15:45:08.026Z"
   },
   {
    "duration": 21,
    "start_time": "2023-11-09T15:45:08.111Z"
   },
   {
    "duration": 30,
    "start_time": "2023-11-09T15:45:08.134Z"
   },
   {
    "duration": 26,
    "start_time": "2023-11-09T15:45:08.166Z"
   },
   {
    "duration": 569,
    "start_time": "2023-11-09T15:45:08.194Z"
   },
   {
    "duration": 6,
    "start_time": "2023-11-09T15:45:08.765Z"
   },
   {
    "duration": 9,
    "start_time": "2023-11-09T15:45:08.772Z"
   },
   {
    "duration": 13,
    "start_time": "2023-11-09T15:45:08.782Z"
   },
   {
    "duration": 9,
    "start_time": "2023-11-09T15:45:08.797Z"
   },
   {
    "duration": 31,
    "start_time": "2023-11-09T15:45:08.807Z"
   },
   {
    "duration": 19,
    "start_time": "2023-11-09T15:45:08.840Z"
   },
   {
    "duration": 10,
    "start_time": "2023-11-09T15:45:08.860Z"
   },
   {
    "duration": 8,
    "start_time": "2023-11-09T15:45:08.872Z"
   },
   {
    "duration": 14,
    "start_time": "2023-11-09T15:45:08.882Z"
   },
   {
    "duration": 11,
    "start_time": "2023-11-09T15:45:08.898Z"
   },
   {
    "duration": 9,
    "start_time": "2023-11-09T15:45:08.910Z"
   },
   {
    "duration": 27,
    "start_time": "2023-11-09T15:45:08.920Z"
   },
   {
    "duration": 19,
    "start_time": "2023-11-09T15:45:08.949Z"
   },
   {
    "duration": 7,
    "start_time": "2023-11-09T15:45:08.970Z"
   },
   {
    "duration": 24,
    "start_time": "2023-11-09T15:45:08.979Z"
   },
   {
    "duration": 2,
    "start_time": "2023-11-09T15:45:09.005Z"
   },
   {
    "duration": 12,
    "start_time": "2023-11-09T15:45:09.024Z"
   },
   {
    "duration": 18,
    "start_time": "2023-11-09T15:45:09.038Z"
   },
   {
    "duration": 20,
    "start_time": "2023-11-09T15:45:09.058Z"
   },
   {
    "duration": 11,
    "start_time": "2023-11-09T15:45:09.079Z"
   },
   {
    "duration": 43,
    "start_time": "2023-11-09T15:45:09.092Z"
   },
   {
    "duration": 333,
    "start_time": "2023-11-09T15:45:09.140Z"
   },
   {
    "duration": 9,
    "start_time": "2023-11-09T15:45:09.475Z"
   },
   {
    "duration": 10,
    "start_time": "2023-11-09T15:45:09.525Z"
   },
   {
    "duration": 11,
    "start_time": "2023-11-09T15:45:09.536Z"
   },
   {
    "duration": 10,
    "start_time": "2023-11-09T15:45:09.549Z"
   },
   {
    "duration": 12,
    "start_time": "2023-11-09T15:45:09.560Z"
   },
   {
    "duration": 4,
    "start_time": "2023-11-09T15:45:09.574Z"
   },
   {
    "duration": 8,
    "start_time": "2023-11-09T15:45:09.580Z"
   },
   {
    "duration": 41,
    "start_time": "2023-11-09T15:45:09.590Z"
   },
   {
    "duration": 12,
    "start_time": "2023-11-09T15:45:09.633Z"
   },
   {
    "duration": 29,
    "start_time": "2023-11-09T15:45:09.647Z"
   },
   {
    "duration": 10,
    "start_time": "2023-11-09T15:45:09.678Z"
   },
   {
    "duration": 39,
    "start_time": "2023-11-09T15:45:09.690Z"
   },
   {
    "duration": 10,
    "start_time": "2023-11-09T15:45:09.730Z"
   },
   {
    "duration": 8,
    "start_time": "2023-11-09T15:45:09.741Z"
   },
   {
    "duration": 21,
    "start_time": "2023-11-09T15:45:09.750Z"
   },
   {
    "duration": 12,
    "start_time": "2023-11-09T15:45:09.773Z"
   },
   {
    "duration": 24,
    "start_time": "2023-11-09T15:45:09.786Z"
   },
   {
    "duration": 10,
    "start_time": "2023-11-09T15:45:09.811Z"
   },
   {
    "duration": 24,
    "start_time": "2023-11-09T15:45:09.824Z"
   },
   {
    "duration": 15,
    "start_time": "2023-11-09T15:45:09.850Z"
   },
   {
    "duration": 12,
    "start_time": "2023-11-09T15:45:09.866Z"
   },
   {
    "duration": 21,
    "start_time": "2023-11-09T15:45:09.881Z"
   },
   {
    "duration": 20,
    "start_time": "2023-11-09T15:45:09.904Z"
   },
   {
    "duration": 166,
    "start_time": "2023-11-09T15:45:09.926Z"
   },
   {
    "duration": 135,
    "start_time": "2023-11-09T15:45:10.093Z"
   },
   {
    "duration": 25,
    "start_time": "2023-11-09T15:45:10.229Z"
   },
   {
    "duration": 14,
    "start_time": "2023-11-09T15:45:10.255Z"
   },
   {
    "duration": 18,
    "start_time": "2023-11-09T15:45:10.270Z"
   },
   {
    "duration": 322,
    "start_time": "2023-11-09T15:45:10.290Z"
   },
   {
    "duration": 19,
    "start_time": "2023-11-09T15:45:10.613Z"
   },
   {
    "duration": 264,
    "start_time": "2023-11-09T15:45:10.634Z"
   },
   {
    "duration": 24,
    "start_time": "2023-11-09T15:45:10.901Z"
   },
   {
    "duration": 309,
    "start_time": "2023-11-09T15:45:10.927Z"
   },
   {
    "duration": 10,
    "start_time": "2023-11-09T15:45:11.238Z"
   },
   {
    "duration": 12,
    "start_time": "2023-11-09T15:45:11.250Z"
   },
   {
    "duration": 19,
    "start_time": "2023-11-09T15:45:11.263Z"
   },
   {
    "duration": 265,
    "start_time": "2023-11-09T15:45:11.284Z"
   },
   {
    "duration": 13,
    "start_time": "2023-11-09T15:45:11.551Z"
   },
   {
    "duration": 349,
    "start_time": "2023-11-09T15:45:11.566Z"
   },
   {
    "duration": 16,
    "start_time": "2023-11-09T15:45:11.916Z"
   },
   {
    "duration": 261,
    "start_time": "2023-11-09T15:45:11.934Z"
   },
   {
    "duration": 4,
    "start_time": "2023-11-09T15:45:12.197Z"
   },
   {
    "duration": 203,
    "start_time": "2023-11-09T15:45:12.203Z"
   },
   {
    "duration": 4,
    "start_time": "2023-11-09T15:45:12.408Z"
   },
   {
    "duration": 67,
    "start_time": "2023-11-09T15:45:12.423Z"
   },
   {
    "duration": 67,
    "start_time": "2023-11-09T15:45:12.492Z"
   },
   {
    "duration": 80,
    "start_time": "2023-11-09T15:45:12.560Z"
   },
   {
    "duration": 64,
    "start_time": "2023-11-09T15:45:12.642Z"
   },
   {
    "duration": 42,
    "start_time": "2023-11-09T15:45:12.708Z"
   },
   {
    "duration": 153,
    "start_time": "2023-11-09T15:45:12.752Z"
   },
   {
    "duration": 17,
    "start_time": "2023-11-09T15:45:12.908Z"
   },
   {
    "duration": 37,
    "start_time": "2023-11-09T15:45:12.927Z"
   },
   {
    "duration": 39,
    "start_time": "2023-11-09T15:45:12.966Z"
   },
   {
    "duration": 22,
    "start_time": "2023-11-09T15:45:13.012Z"
   },
   {
    "duration": 45,
    "start_time": "2023-11-09T15:45:13.035Z"
   },
   {
    "duration": 30,
    "start_time": "2023-11-09T15:45:13.081Z"
   },
   {
    "duration": 72,
    "start_time": "2023-11-09T15:45:13.113Z"
   },
   {
    "duration": 18,
    "start_time": "2023-11-09T15:45:13.187Z"
   },
   {
    "duration": 37,
    "start_time": "2023-11-09T15:45:13.207Z"
   },
   {
    "duration": 286,
    "start_time": "2023-11-09T17:18:11.785Z"
   },
   {
    "duration": 239,
    "start_time": "2023-11-09T17:18:31.999Z"
   },
   {
    "duration": 238,
    "start_time": "2023-11-09T17:18:41.900Z"
   },
   {
    "duration": 332,
    "start_time": "2023-11-09T17:24:00.266Z"
   },
   {
    "duration": 75,
    "start_time": "2023-11-09T17:24:26.435Z"
   },
   {
    "duration": 72,
    "start_time": "2023-11-09T17:27:29.332Z"
   },
   {
    "duration": 99,
    "start_time": "2023-11-09T17:30:43.348Z"
   },
   {
    "duration": 22,
    "start_time": "2023-11-09T17:35:37.822Z"
   },
   {
    "duration": 26,
    "start_time": "2023-11-09T17:35:51.047Z"
   },
   {
    "duration": 26,
    "start_time": "2023-11-09T17:36:43.739Z"
   },
   {
    "duration": 16,
    "start_time": "2023-11-09T17:37:08.966Z"
   },
   {
    "duration": 12,
    "start_time": "2023-11-09T17:38:07.060Z"
   },
   {
    "duration": 5,
    "start_time": "2023-11-09T17:38:11.164Z"
   },
   {
    "duration": 11,
    "start_time": "2023-11-09T17:39:38.716Z"
   },
   {
    "duration": 25,
    "start_time": "2023-11-09T17:39:43.796Z"
   },
   {
    "duration": 15,
    "start_time": "2023-11-09T17:40:51.942Z"
   },
   {
    "duration": 1275,
    "start_time": "2023-11-09T18:05:00.465Z"
   },
   {
    "duration": 81,
    "start_time": "2023-11-09T18:05:01.742Z"
   },
   {
    "duration": 22,
    "start_time": "2023-11-09T18:05:01.832Z"
   },
   {
    "duration": 40,
    "start_time": "2023-11-09T18:05:01.856Z"
   },
   {
    "duration": 55,
    "start_time": "2023-11-09T18:05:01.898Z"
   },
   {
    "duration": 559,
    "start_time": "2023-11-09T18:05:01.955Z"
   },
   {
    "duration": 5,
    "start_time": "2023-11-09T18:05:02.516Z"
   },
   {
    "duration": 56,
    "start_time": "2023-11-09T18:05:02.523Z"
   },
   {
    "duration": 18,
    "start_time": "2023-11-09T18:05:02.580Z"
   },
   {
    "duration": 37,
    "start_time": "2023-11-09T18:05:02.599Z"
   },
   {
    "duration": 22,
    "start_time": "2023-11-09T18:05:02.637Z"
   },
   {
    "duration": 38,
    "start_time": "2023-11-09T18:05:02.661Z"
   },
   {
    "duration": 35,
    "start_time": "2023-11-09T18:05:02.700Z"
   },
   {
    "duration": 26,
    "start_time": "2023-11-09T18:05:02.741Z"
   },
   {
    "duration": 73,
    "start_time": "2023-11-09T18:05:02.768Z"
   },
   {
    "duration": 18,
    "start_time": "2023-11-09T18:05:02.843Z"
   },
   {
    "duration": 33,
    "start_time": "2023-11-09T18:05:02.863Z"
   },
   {
    "duration": 49,
    "start_time": "2023-11-09T18:05:02.898Z"
   },
   {
    "duration": 27,
    "start_time": "2023-11-09T18:05:02.949Z"
   },
   {
    "duration": 40,
    "start_time": "2023-11-09T18:05:02.978Z"
   },
   {
    "duration": 75,
    "start_time": "2023-11-09T18:05:03.021Z"
   },
   {
    "duration": 43,
    "start_time": "2023-11-09T18:05:03.098Z"
   },
   {
    "duration": 41,
    "start_time": "2023-11-09T18:05:03.142Z"
   },
   {
    "duration": 183,
    "start_time": "2023-11-09T18:05:03.185Z"
   },
   {
    "duration": 205,
    "start_time": "2023-11-09T18:05:03.369Z"
   },
   {
    "duration": 193,
    "start_time": "2023-11-09T18:05:03.576Z"
   },
   {
    "duration": 101,
    "start_time": "2023-11-09T18:05:03.771Z"
   },
   {
    "duration": 386,
    "start_time": "2023-11-09T18:05:03.874Z"
   },
   {
    "duration": 9,
    "start_time": "2023-11-09T18:05:04.262Z"
   },
   {
    "duration": 23,
    "start_time": "2023-11-09T18:05:04.272Z"
   },
   {
    "duration": 33,
    "start_time": "2023-11-09T18:05:04.296Z"
   },
   {
    "duration": 31,
    "start_time": "2023-11-09T18:05:04.338Z"
   },
   {
    "duration": 34,
    "start_time": "2023-11-09T18:05:04.371Z"
   },
   {
    "duration": 32,
    "start_time": "2023-11-09T18:05:04.406Z"
   },
   {
    "duration": 38,
    "start_time": "2023-11-09T18:05:04.440Z"
   },
   {
    "duration": 32,
    "start_time": "2023-11-09T18:05:04.480Z"
   },
   {
    "duration": 32,
    "start_time": "2023-11-09T18:05:04.513Z"
   },
   {
    "duration": 28,
    "start_time": "2023-11-09T18:05:04.546Z"
   },
   {
    "duration": 33,
    "start_time": "2023-11-09T18:05:04.575Z"
   },
   {
    "duration": 28,
    "start_time": "2023-11-09T18:05:04.610Z"
   },
   {
    "duration": 10,
    "start_time": "2023-11-09T18:05:04.643Z"
   },
   {
    "duration": 26,
    "start_time": "2023-11-09T18:05:04.654Z"
   },
   {
    "duration": 15,
    "start_time": "2023-11-09T18:05:04.682Z"
   },
   {
    "duration": 21,
    "start_time": "2023-11-09T18:05:04.699Z"
   },
   {
    "duration": 37,
    "start_time": "2023-11-09T18:05:04.721Z"
   },
   {
    "duration": 27,
    "start_time": "2023-11-09T18:05:04.759Z"
   },
   {
    "duration": 19,
    "start_time": "2023-11-09T18:05:04.788Z"
   },
   {
    "duration": 40,
    "start_time": "2023-11-09T18:05:04.809Z"
   },
   {
    "duration": 69,
    "start_time": "2023-11-09T18:05:04.851Z"
   },
   {
    "duration": 29,
    "start_time": "2023-11-09T18:05:04.922Z"
   },
   {
    "duration": 20,
    "start_time": "2023-11-09T18:05:04.953Z"
   },
   {
    "duration": 177,
    "start_time": "2023-11-09T18:05:04.975Z"
   },
   {
    "duration": 137,
    "start_time": "2023-11-09T18:05:05.153Z"
   },
   {
    "duration": 12,
    "start_time": "2023-11-09T18:05:05.292Z"
   },
   {
    "duration": 26,
    "start_time": "2023-11-09T18:05:05.305Z"
   },
   {
    "duration": 16,
    "start_time": "2023-11-09T18:05:05.337Z"
   },
   {
    "duration": 349,
    "start_time": "2023-11-09T18:05:05.354Z"
   },
   {
    "duration": 12,
    "start_time": "2023-11-09T18:05:05.704Z"
   },
   {
    "duration": 350,
    "start_time": "2023-11-09T18:05:05.725Z"
   },
   {
    "duration": 11,
    "start_time": "2023-11-09T18:05:06.077Z"
   },
   {
    "duration": 361,
    "start_time": "2023-11-09T18:05:06.089Z"
   },
   {
    "duration": 11,
    "start_time": "2023-11-09T18:05:06.452Z"
   },
   {
    "duration": 22,
    "start_time": "2023-11-09T18:05:06.464Z"
   },
   {
    "duration": 16,
    "start_time": "2023-11-09T18:05:06.488Z"
   },
   {
    "duration": 260,
    "start_time": "2023-11-09T18:05:06.506Z"
   },
   {
    "duration": 14,
    "start_time": "2023-11-09T18:05:06.768Z"
   },
   {
    "duration": 381,
    "start_time": "2023-11-09T18:05:06.783Z"
   },
   {
    "duration": 10,
    "start_time": "2023-11-09T18:05:07.166Z"
   },
   {
    "duration": 278,
    "start_time": "2023-11-09T18:05:07.177Z"
   },
   {
    "duration": 4,
    "start_time": "2023-11-09T18:05:07.457Z"
   },
   {
    "duration": 196,
    "start_time": "2023-11-09T18:05:07.462Z"
   },
   {
    "duration": 4,
    "start_time": "2023-11-09T18:05:07.659Z"
   },
   {
    "duration": 74,
    "start_time": "2023-11-09T18:05:07.664Z"
   },
   {
    "duration": 55,
    "start_time": "2023-11-09T18:05:07.740Z"
   },
   {
    "duration": 85,
    "start_time": "2023-11-09T18:05:07.797Z"
   },
   {
    "duration": 69,
    "start_time": "2023-11-09T18:05:07.884Z"
   },
   {
    "duration": 26,
    "start_time": "2023-11-09T18:05:07.955Z"
   },
   {
    "duration": 134,
    "start_time": "2023-11-09T18:05:07.983Z"
   },
   {
    "duration": 21,
    "start_time": "2023-11-09T18:05:08.119Z"
   },
   {
    "duration": 28,
    "start_time": "2023-11-09T18:05:08.142Z"
   },
   {
    "duration": 15,
    "start_time": "2023-11-09T18:05:08.171Z"
   },
   {
    "duration": 10,
    "start_time": "2023-11-09T18:05:08.188Z"
   },
   {
    "duration": 27,
    "start_time": "2023-11-09T18:05:08.199Z"
   },
   {
    "duration": 14,
    "start_time": "2023-11-09T18:05:08.229Z"
   },
   {
    "duration": 33,
    "start_time": "2023-11-09T18:05:08.244Z"
   },
   {
    "duration": 15,
    "start_time": "2023-11-09T18:05:08.278Z"
   },
   {
    "duration": 43,
    "start_time": "2023-11-09T18:05:08.295Z"
   }
  ],
  "kernelspec": {
   "display_name": "Python 3 (ipykernel)",
   "language": "python",
   "name": "python3"
  },
  "language_info": {
   "codemirror_mode": {
    "name": "ipython",
    "version": 3
   },
   "file_extension": ".py",
   "mimetype": "text/x-python",
   "name": "python",
   "nbconvert_exporter": "python",
   "pygments_lexer": "ipython3",
   "version": "3.10.9"
  },
  "toc": {
   "base_numbering": 1,
   "nav_menu": {},
   "number_sections": true,
   "sideBar": true,
   "skip_h1_title": true,
   "title_cell": "Table of Contents",
   "title_sidebar": "Contents",
   "toc_cell": false,
   "toc_position": {},
   "toc_section_display": true,
   "toc_window_display": false
  }
 },
 "nbformat": 4,
 "nbformat_minor": 2
}
